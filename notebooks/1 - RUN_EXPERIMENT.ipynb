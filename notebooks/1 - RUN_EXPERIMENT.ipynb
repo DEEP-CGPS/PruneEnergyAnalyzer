{
 "cells": [
  {
   "cell_type": "markdown",
   "metadata": {},
   "source": [
    "# PruneEnergyAnalyzer: Base Experiment Example\n",
    "\n",
    "**Table of Contents**\n",
    "- [PruneEnergyAnalyzer: Base Experiment Example](#pruneenergyanalyzer-base-experiment-example)\n",
    "- [Environment Setup and Imports](#environment-setup-and-imports)\n",
    "- [Variable and Path Definitions](#variable-and-path-definitions)\n",
    "- [Run Experiment and Display Results](#run-experiment-and-display-results)\n",
    "- [Save Experimental Results to CSV](#save-experimental-results-to-csv)\n",
    "\n",
    "This notebook demonstrates how to run an energy consumption experiment using the `PruneEnergyAnalyzer` library.\n",
    "\n",
    "It loads pruned models from a directory, runs inference with multiple batch sizes, and outputs a DataFrame with the results.\n",
    "\n",
    "**Note:** This example focuses on generating experimental results. Visualization and further analysis are not included here.\n"
   ]
  },
  {
   "cell_type": "markdown",
   "metadata": {},
   "source": [
    "\n",
    "---\n",
    "\n",
    "## Environment Setup and Imports"
   ]
  },
  {
   "cell_type": "code",
   "execution_count": null,
   "metadata": {},
   "outputs": [],
   "source": [
    "import sys\n",
    "import os\n",
    "\n",
    "# Add the library path (assuming the library is one folder above this notebook)\n",
    "lib_path = os.path.abspath(os.path.join(os.getcwd(), \"..\"))\n",
    "if lib_path not in sys.path:\n",
    "    sys.path.append(lib_path)\n",
    "\n",
    "from PruneEnergyAnalizer import ExperimentRunner"
   ]
  },
  {
   "cell_type": "markdown",
   "metadata": {},
   "source": [
    "\n",
    "---\n",
    "\n",
    "## Variable and Path Definitions"
   ]
  },
  {
   "cell_type": "code",
   "execution_count": null,
   "metadata": {},
   "outputs": [],
   "source": [
    "# Define the model directory (adjust if needed)\n",
    "model_dir = os.path.abspath(os.path.join(os.getcwd(), \"..\", \"models\"))\n",
    "\n",
    "# Batch sizes to test\n",
    "batch_sizes = [1, 8, 16, 32, 64]  # Adjust based on your GPU memory\n",
    "\n",
    "# Input tensor shape (e.g., for 224x224 RGB images)\n",
    "input_channels = 3\n",
    "input_height = 224\n",
    "input_width = 224\n"
   ]
  },
  {
   "cell_type": "markdown",
   "metadata": {},
   "source": [
    "\n",
    "---\n",
    "\n",
    "## Run Experiment and Display Results"
   ]
  },
  {
   "cell_type": "code",
   "execution_count": null,
   "metadata": {},
   "outputs": [],
   "source": [
    "# Initialize and run the experiment\n",
    "experiment = ExperimentRunner(\n",
    "    model_dir = model_dir, \n",
    "    batch_sizes = batch_sizes, \n",
    "    input_channels = input_channels, \n",
    "    input_height = input_height, \n",
    "    input_width = input_width,\n",
    "    filename=\"results.csv\",\n",
    ")\n",
    "\n",
    "results_df = experiment.run_experiment()\n",
    "\n",
    "# Display the results DataFrame\n",
    "results_df"
   ]
  }
 ],
 "metadata": {
  "kernelspec": {
   "display_name": "pruning_env_v2",
   "language": "python",
   "name": "python3"
  },
  "language_info": {
   "codemirror_mode": {
    "name": "ipython",
    "version": 3
   },
   "file_extension": ".py",
   "mimetype": "text/x-python",
   "name": "python",
   "nbconvert_exporter": "python",
   "pygments_lexer": "ipython3",
   "version": "3.11.7"
  }
 },
 "nbformat": 4,
 "nbformat_minor": 2
}
