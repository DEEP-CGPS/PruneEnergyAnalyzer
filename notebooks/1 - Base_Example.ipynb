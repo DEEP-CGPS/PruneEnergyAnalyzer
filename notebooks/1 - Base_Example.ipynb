{
 "cells": [
  {
   "cell_type": "markdown",
   "metadata": {},
   "source": [
    "# Experimentation Notebook\n",
    "\n",
    "This notebook demonstrates how to use the `pruning_limit_analysis` library to analyze the energy consumption and inference performance of pruned neural network models.\n",
    "\n",
    "## Structure of Model Filenames\n",
    "\n",
    "The models should be named following this convention:\n",
    "- `{ARCHITECTURE}`: Model architecture (e.g., `AlexNet`, `VGG16`)\n",
    "- `{DATASET}`: Dataset used for training (e.g., `CIFAR10`)\n",
    "- `{PRUNING_DISTRIBUTION}`: Pruning distribution strategy (e.g., `random_PD3`)\n",
    "- `{PRUNING_RATIO}`: Global pruning ratio in percentage (e.g., `20` for 20%)\n",
    "- `{STATE}`: Either `PRUNED` or `UNPRUNED`\n",
    "\n",
    "Example:\n",
    "\n",
    "`{ARCHITECTURE}_{DATASET}_{PRUNING_DISTRIBUTION}_GPR-{PRUNING_RATIO}_{SEED}.pth`\n",
    "\n",
    "### Case of Unpruned Models\n",
    "\n",
    "For unpruned models, the filename should follow a similar convention but with `UNPRUNED` as the state and no pruning ratio:\n",
    "`{ARCHITECTURE}_{DATASET}_UNPRUNED.pth`\n",
    "\n",
    "Since these models are not pruned, their pruning ratio is considered `0%`, and they serve as a baseline for comparison against pruned versions.\n",
    "\n",
    "## Parameters for the Experiment\n",
    "\n",
    "- `model_dir`: Path where models are stored.\n",
    "- `batch_sizes`: List of batch sizes to test.\n",
    "- `num_trials`: Number of trials per experiment.\n",
    "- `device`: GPU or CPU for inference."
   ]
  },
  {
   "cell_type": "code",
   "execution_count": 6,
   "metadata": {},
   "outputs": [],
   "source": [
    "import sys\n",
    "import os\n",
    "\n",
    "lib_path = os.path.abspath(os.path.join(os.getcwd(), \"..\"))\n",
    "if lib_path not in sys.path:\n",
    "    sys.path.append(lib_path)\n",
    "\n"
   ]
  },
  {
   "cell_type": "code",
   "execution_count": 9,
   "metadata": {},
   "outputs": [
    {
     "name": "stdout",
     "output_type": "stream",
     "text": [
      "Using device: cuda\n"
     ]
    },
    {
     "name": "stderr",
     "output_type": "stream",
     "text": [
      "Processing Models:   3%|▎         | 2/66 [00:00<00:03, 17.61it/s]"
     ]
    },
    {
     "name": "stdout",
     "output_type": "stream",
     "text": [
      "Processing model: d:\\PruneLimit\\PruneLimitAnalyzer\\models\\AlexNet_DATASET_random_PD1_GPR-15_PRUNED_SEED_23.pth\n",
      "Processing batch size: 1\n",
      "Skipping completed experiment for: AlexNet_DATASET_random_PD1_GPR-15_PRUNED_SEED_23.pth, batch size 1\n",
      "Processing batch size: 8\n",
      "Skipping completed experiment for: AlexNet_DATASET_random_PD1_GPR-15_PRUNED_SEED_23.pth, batch size 8\n",
      "Processing model: d:\\PruneLimit\\PruneLimitAnalyzer\\models\\AlexNet_DATASET_random_PD4_GPR-25_PRUNED_SEED_23.pth\n",
      "Processing batch size: 1\n",
      "Skipping completed experiment for: AlexNet_DATASET_random_PD4_GPR-25_PRUNED_SEED_23.pth, batch size 1\n",
      "Processing batch size: 8\n",
      "Skipping completed experiment for: AlexNet_DATASET_random_PD4_GPR-25_PRUNED_SEED_23.pth, batch size 8\n",
      "Processing model: d:\\PruneLimit\\PruneLimitAnalyzer\\models\\AlexNet_DATASET_random_PD1_GPR-50_PRUNED_SEED_23.pth\n",
      "Processing batch size: 1\n",
      "Skipping completed experiment for: AlexNet_DATASET_random_PD1_GPR-50_PRUNED_SEED_23.pth, batch size 1\n",
      "Processing batch size: 8\n",
      "Skipping completed experiment for: AlexNet_DATASET_random_PD1_GPR-50_PRUNED_SEED_23.pth, batch size 8\n",
      "Processing model: d:\\PruneLimit\\PruneLimitAnalyzer\\models\\AlexNet_DATASET_random_PD5_GPR-5_PRUNED_SEED_23.pth\n"
     ]
    },
    {
     "name": "stderr",
     "output_type": "stream",
     "text": [
      "Processing Models:  14%|█▎        | 9/66 [00:00<00:02, 26.94it/s]"
     ]
    },
    {
     "name": "stdout",
     "output_type": "stream",
     "text": [
      "Processing batch size: 1\n",
      "Skipping completed experiment for: AlexNet_DATASET_random_PD5_GPR-5_PRUNED_SEED_23.pth, batch size 1\n",
      "Processing batch size: 8\n",
      "Skipping completed experiment for: AlexNet_DATASET_random_PD5_GPR-5_PRUNED_SEED_23.pth, batch size 8\n",
      "Processing model: d:\\PruneLimit\\PruneLimitAnalyzer\\models\\AlexNet_DATASET_random_PD4_GPR-65_PRUNED_SEED_23.pth\n",
      "Processing batch size: 1\n",
      "Skipping completed experiment for: AlexNet_DATASET_random_PD4_GPR-65_PRUNED_SEED_23.pth, batch size 1\n",
      "Processing batch size: 8\n",
      "Skipping completed experiment for: AlexNet_DATASET_random_PD4_GPR-65_PRUNED_SEED_23.pth, batch size 8\n",
      "Processing model: d:\\PruneLimit\\PruneLimitAnalyzer\\models\\AlexNet_DATASET_random_PD3_GPR-60_PRUNED_SEED_23.pth\n",
      "Processing batch size: 1\n",
      "Skipping completed experiment for: AlexNet_DATASET_random_PD3_GPR-60_PRUNED_SEED_23.pth, batch size 1\n",
      "Processing batch size: 8\n",
      "Skipping completed experiment for: AlexNet_DATASET_random_PD3_GPR-60_PRUNED_SEED_23.pth, batch size 8\n",
      "Processing model: d:\\PruneLimit\\PruneLimitAnalyzer\\models\\AlexNet_DATASET_random_PD5_GPR-45_PRUNED_SEED_23.pth\n",
      "Processing batch size: 1\n",
      "Skipping completed experiment for: AlexNet_DATASET_random_PD5_GPR-45_PRUNED_SEED_23.pth, batch size 1\n",
      "Processing batch size: 8\n",
      "Skipping completed experiment for: AlexNet_DATASET_random_PD5_GPR-45_PRUNED_SEED_23.pth, batch size 8\n",
      "Processing model: d:\\PruneLimit\\PruneLimitAnalyzer\\models\\AlexNet_DATASET_random_PD4_GPR-35_PRUNED_SEED_23.pth\n",
      "Processing batch size: 1\n",
      "Skipping completed experiment for: AlexNet_DATASET_random_PD4_GPR-35_PRUNED_SEED_23.pth, batch size 1\n",
      "Processing batch size: 8\n",
      "Skipping completed experiment for: AlexNet_DATASET_random_PD4_GPR-35_PRUNED_SEED_23.pth, batch size 8\n",
      "Processing model: d:\\PruneLimit\\PruneLimitAnalyzer\\models\\AlexNet_DATASET_random_PD1_GPR-20_PRUNED_SEED_23.pth\n",
      "Processing batch size: 1\n",
      "Skipping completed experiment for: AlexNet_DATASET_random_PD1_GPR-20_PRUNED_SEED_23.pth, batch size 1\n",
      "Processing batch size: 8\n",
      "Skipping completed experiment for: AlexNet_DATASET_random_PD1_GPR-20_PRUNED_SEED_23.pth, batch size 8\n",
      "Processing model: d:\\PruneLimit\\PruneLimitAnalyzer\\models\\AlexNet_DATASET_random_PD2_GPR-45_PRUNED_SEED_23.pth\n",
      "Processing batch size: 1\n",
      "Skipping completed experiment for: AlexNet_DATASET_random_PD2_GPR-45_PRUNED_SEED_23.pth, batch size 1\n",
      "Processing batch size: 8\n",
      "Skipping completed experiment for: AlexNet_DATASET_random_PD2_GPR-45_PRUNED_SEED_23.pth, batch size 8\n",
      "Processing model: d:\\PruneLimit\\PruneLimitAnalyzer\\models\\AlexNet_DATASET_random_PD3_GPR-30_PRUNED_SEED_23.pth\n"
     ]
    },
    {
     "name": "stderr",
     "output_type": "stream",
     "text": [
      "Processing Models:  26%|██▌       | 17/66 [00:00<00:01, 32.93it/s]"
     ]
    },
    {
     "name": "stdout",
     "output_type": "stream",
     "text": [
      "Processing batch size: 1\n",
      "Skipping completed experiment for: AlexNet_DATASET_random_PD3_GPR-30_PRUNED_SEED_23.pth, batch size 1\n",
      "Processing batch size: 8\n",
      "Skipping completed experiment for: AlexNet_DATASET_random_PD3_GPR-30_PRUNED_SEED_23.pth, batch size 8\n",
      "Processing model: d:\\PruneLimit\\PruneLimitAnalyzer\\models\\AlexNet_DATASET_random_PD3_GPR-35_PRUNED_SEED_23.pth\n",
      "Processing batch size: 1\n",
      "Skipping completed experiment for: AlexNet_DATASET_random_PD3_GPR-35_PRUNED_SEED_23.pth, batch size 1\n",
      "Processing batch size: 8\n",
      "Skipping completed experiment for: AlexNet_DATASET_random_PD3_GPR-35_PRUNED_SEED_23.pth, batch size 8\n",
      "Processing model: d:\\PruneLimit\\PruneLimitAnalyzer\\models\\AlexNet_DATASET_random_PD2_GPR-60_PRUNED_SEED_23.pth\n",
      "Processing batch size: 1\n",
      "Skipping completed experiment for: AlexNet_DATASET_random_PD2_GPR-60_PRUNED_SEED_23.pth, batch size 1\n",
      "Processing batch size: 8\n",
      "Skipping completed experiment for: AlexNet_DATASET_random_PD2_GPR-60_PRUNED_SEED_23.pth, batch size 8\n",
      "Processing model: d:\\PruneLimit\\PruneLimitAnalyzer\\models\\AlexNet_DATASET_random_PD2_GPR-65_PRUNED_SEED_23.pth\n",
      "Processing batch size: 1\n",
      "Skipping completed experiment for: AlexNet_DATASET_random_PD2_GPR-65_PRUNED_SEED_23.pth, batch size 1\n",
      "Processing batch size: 8\n",
      "Skipping completed experiment for: AlexNet_DATASET_random_PD2_GPR-65_PRUNED_SEED_23.pth, batch size 8\n",
      "Processing model: d:\\PruneLimit\\PruneLimitAnalyzer\\models\\AlexNet_DATASET_random_PD3_GPR-50_PRUNED_SEED_23.pth\n",
      "Processing batch size: 1\n",
      "Skipping completed experiment for: AlexNet_DATASET_random_PD3_GPR-50_PRUNED_SEED_23.pth, batch size 1\n",
      "Processing batch size: 8\n",
      "Skipping completed experiment for: AlexNet_DATASET_random_PD3_GPR-50_PRUNED_SEED_23.pth, batch size 8\n",
      "Processing model: d:\\PruneLimit\\PruneLimitAnalyzer\\models\\AlexNet_DATASET_random_PD5_GPR-60_PRUNED_SEED_23.pth\n",
      "Processing batch size: 1\n",
      "Skipping completed experiment for: AlexNet_DATASET_random_PD5_GPR-60_PRUNED_SEED_23.pth, batch size 1\n",
      "Processing batch size: 8\n",
      "Skipping completed experiment for: AlexNet_DATASET_random_PD5_GPR-60_PRUNED_SEED_23.pth, batch size 8\n",
      "Processing model: d:\\PruneLimit\\PruneLimitAnalyzer\\models\\AlexNet_DATASET_random_PD1_GPR-35_PRUNED_SEED_23.pth\n",
      "Processing batch size: 1\n",
      "Skipping completed experiment for: AlexNet_DATASET_random_PD1_GPR-35_PRUNED_SEED_23.pth, batch size 1\n",
      "Processing batch size: 8\n",
      "Skipping completed experiment for: AlexNet_DATASET_random_PD1_GPR-35_PRUNED_SEED_23.pth, batch size 8\n",
      "Processing model: d:\\PruneLimit\\PruneLimitAnalyzer\\models\\AlexNet_DATASET_random_PD1_GPR-25_PRUNED_SEED_23.pth\n",
      "Processing batch size: 1\n",
      "Skipping completed experiment for: AlexNet_DATASET_random_PD1_GPR-25_PRUNED_SEED_23.pth, batch size 1\n",
      "Processing batch size: 8\n",
      "Skipping completed experiment for: AlexNet_DATASET_random_PD1_GPR-25_PRUNED_SEED_23.pth, batch size 8\n",
      "Processing model: d:\\PruneLimit\\PruneLimitAnalyzer\\models\\AlexNet_DATASET_random_PD2_GPR-30_PRUNED_SEED_23.pth\n"
     ]
    },
    {
     "name": "stderr",
     "output_type": "stream",
     "text": [
      "Processing Models:  32%|███▏      | 21/66 [00:00<00:01, 28.93it/s]"
     ]
    },
    {
     "name": "stdout",
     "output_type": "stream",
     "text": [
      "Processing batch size: 1\n",
      "Skipping completed experiment for: AlexNet_DATASET_random_PD2_GPR-30_PRUNED_SEED_23.pth, batch size 1\n",
      "Processing batch size: 8\n",
      "Skipping completed experiment for: AlexNet_DATASET_random_PD2_GPR-30_PRUNED_SEED_23.pth, batch size 8\n",
      "Processing model: d:\\PruneLimit\\PruneLimitAnalyzer\\models\\AlexNet_DATASET_random_PD2_GPR-35_PRUNED_SEED_23.pth\n",
      "Processing batch size: 1\n",
      "Skipping completed experiment for: AlexNet_DATASET_random_PD2_GPR-35_PRUNED_SEED_23.pth, batch size 1\n",
      "Processing batch size: 8\n",
      "Skipping completed experiment for: AlexNet_DATASET_random_PD2_GPR-35_PRUNED_SEED_23.pth, batch size 8\n",
      "Processing model: d:\\PruneLimit\\PruneLimitAnalyzer\\models\\AlexNet_DATASET_random_PD2_GPR-10_PRUNED_SEED_23.pth\n",
      "Processing batch size: 1\n",
      "Skipping completed experiment for: AlexNet_DATASET_random_PD2_GPR-10_PRUNED_SEED_23.pth, batch size 1\n",
      "Processing batch size: 8\n",
      "Skipping completed experiment for: AlexNet_DATASET_random_PD2_GPR-10_PRUNED_SEED_23.pth, batch size 8\n",
      "Processing model: d:\\PruneLimit\\PruneLimitAnalyzer\\models\\AlexNet_DATASET_random_PD2_GPR-50_PRUNED_SEED_23.pth\n",
      "Processing batch size: 1\n",
      "Skipping completed experiment for: AlexNet_DATASET_random_PD2_GPR-50_PRUNED_SEED_23.pth, batch size 1\n",
      "Processing batch size: 8\n",
      "Skipping completed experiment for: AlexNet_DATASET_random_PD2_GPR-50_PRUNED_SEED_23.pth, batch size 8\n",
      "Processing model: d:\\PruneLimit\\PruneLimitAnalyzer\\models\\AlexNet_DATASET_random_PD5_GPR-65_PRUNED_SEED_23.pth\n",
      "Processing batch size: 1\n",
      "Skipping completed experiment for: AlexNet_DATASET_random_PD5_GPR-65_PRUNED_SEED_23.pth, batch size 1\n",
      "Processing batch size: 8\n",
      "Skipping completed experiment for: AlexNet_DATASET_random_PD5_GPR-65_PRUNED_SEED_23.pth, batch size 8\n",
      "Processing model: d:\\PruneLimit\\PruneLimitAnalyzer\\models\\AlexNet_DATASET_random_PD5_GPR-15_PRUNED_SEED_23.pth\n",
      "Processing batch size: 1\n",
      "Skipping completed experiment for: AlexNet_DATASET_random_PD5_GPR-15_PRUNED_SEED_23.pth, batch size 1\n",
      "Processing batch size: 8\n",
      "Skipping completed experiment for: AlexNet_DATASET_random_PD5_GPR-15_PRUNED_SEED_23.pth, batch size 8\n",
      "Processing model: d:\\PruneLimit\\PruneLimitAnalyzer\\models\\AlexNet_DATASET_random_PD3_GPR-25_PRUNED_SEED_23.pth\n"
     ]
    },
    {
     "name": "stderr",
     "output_type": "stream",
     "text": [
      "Processing Models:  42%|████▏     | 28/66 [00:01<00:01, 28.19it/s]"
     ]
    },
    {
     "name": "stdout",
     "output_type": "stream",
     "text": [
      "Processing batch size: 1\n",
      "Skipping completed experiment for: AlexNet_DATASET_random_PD3_GPR-25_PRUNED_SEED_23.pth, batch size 1\n",
      "Processing batch size: 8\n",
      "Skipping completed experiment for: AlexNet_DATASET_random_PD3_GPR-25_PRUNED_SEED_23.pth, batch size 8\n",
      "Processing model: d:\\PruneLimit\\PruneLimitAnalyzer\\models\\AlexNet_DATASET_random_PD1_GPR-55_PRUNED_SEED_23.pth\n",
      "Processing batch size: 1\n",
      "Skipping completed experiment for: AlexNet_DATASET_random_PD1_GPR-55_PRUNED_SEED_23.pth, batch size 1\n",
      "Processing batch size: 8\n",
      "Skipping completed experiment for: AlexNet_DATASET_random_PD1_GPR-55_PRUNED_SEED_23.pth, batch size 8\n",
      "Processing model: d:\\PruneLimit\\PruneLimitAnalyzer\\models\\AlexNet_DATASET_random_PD3_GPR-15_PRUNED_SEED_23.pth\n",
      "Processing batch size: 1\n",
      "Skipping completed experiment for: AlexNet_DATASET_random_PD3_GPR-15_PRUNED_SEED_23.pth, batch size 1\n",
      "Processing batch size: 8\n",
      "Skipping completed experiment for: AlexNet_DATASET_random_PD3_GPR-15_PRUNED_SEED_23.pth, batch size 8\n",
      "Processing model: d:\\PruneLimit\\PruneLimitAnalyzer\\models\\AlexNet_DATASET_random_PD1_GPR-40_PRUNED_SEED_23.pth\n",
      "Processing batch size: 1\n",
      "Skipping completed experiment for: AlexNet_DATASET_random_PD1_GPR-40_PRUNED_SEED_23.pth, batch size 1\n",
      "Processing batch size: 8\n",
      "Skipping completed experiment for: AlexNet_DATASET_random_PD1_GPR-40_PRUNED_SEED_23.pth, batch size 8\n",
      "Processing model: d:\\PruneLimit\\PruneLimitAnalyzer\\models\\AlexNet_DATASET_random_PD2_GPR-5_PRUNED_SEED_23.pth\n",
      "Processing batch size: 1\n",
      "Skipping completed experiment for: AlexNet_DATASET_random_PD2_GPR-5_PRUNED_SEED_23.pth, batch size 1\n",
      "Processing batch size: 8\n",
      "Skipping completed experiment for: AlexNet_DATASET_random_PD2_GPR-5_PRUNED_SEED_23.pth, batch size 8\n",
      "Processing model: d:\\PruneLimit\\PruneLimitAnalyzer\\models\\AlexNet_DATASET_random_PD4_GPR-45_PRUNED_SEED_23.pth\n",
      "Processing batch size: 1\n",
      "Skipping completed experiment for: AlexNet_DATASET_random_PD4_GPR-45_PRUNED_SEED_23.pth, batch size 1\n",
      "Processing batch size: 8\n",
      "Skipping completed experiment for: AlexNet_DATASET_random_PD4_GPR-45_PRUNED_SEED_23.pth, batch size 8\n",
      "Processing model: d:\\PruneLimit\\PruneLimitAnalyzer\\models\\AlexNet_DATASET_random_PD5_GPR-35_PRUNED_SEED_23.pth\n"
     ]
    },
    {
     "name": "stderr",
     "output_type": "stream",
     "text": [
      "Processing Models:  52%|█████▏    | 34/66 [00:01<00:01, 25.25it/s]"
     ]
    },
    {
     "name": "stdout",
     "output_type": "stream",
     "text": [
      "Processing batch size: 1\n",
      "Skipping completed experiment for: AlexNet_DATASET_random_PD5_GPR-35_PRUNED_SEED_23.pth, batch size 1\n",
      "Processing batch size: 8\n",
      "Skipping completed experiment for: AlexNet_DATASET_random_PD5_GPR-35_PRUNED_SEED_23.pth, batch size 8\n",
      "Processing model: d:\\PruneLimit\\PruneLimitAnalyzer\\models\\AlexNet_DATASET_random_PD3_GPR-5_PRUNED_SEED_23.pth\n",
      "Processing batch size: 1\n",
      "Skipping completed experiment for: AlexNet_DATASET_random_PD3_GPR-5_PRUNED_SEED_23.pth, batch size 1\n",
      "Processing batch size: 8\n",
      "Skipping completed experiment for: AlexNet_DATASET_random_PD3_GPR-5_PRUNED_SEED_23.pth, batch size 8\n",
      "Processing model: d:\\PruneLimit\\PruneLimitAnalyzer\\models\\AlexNet_DATASET_random_PD5_GPR-40_PRUNED_SEED_23.pth\n",
      "Processing batch size: 1\n",
      "Skipping completed experiment for: AlexNet_DATASET_random_PD5_GPR-40_PRUNED_SEED_23.pth, batch size 1\n",
      "Processing batch size: 8\n",
      "Skipping completed experiment for: AlexNet_DATASET_random_PD5_GPR-40_PRUNED_SEED_23.pth, batch size 8\n",
      "Processing model: d:\\PruneLimit\\PruneLimitAnalyzer\\models\\AlexNet_DATASET_random_PD5_GPR-55_PRUNED_SEED_23.pth\n",
      "Processing batch size: 1\n",
      "Skipping completed experiment for: AlexNet_DATASET_random_PD5_GPR-55_PRUNED_SEED_23.pth, batch size 1\n",
      "Processing batch size: 8\n",
      "Skipping completed experiment for: AlexNet_DATASET_random_PD5_GPR-55_PRUNED_SEED_23.pth, batch size 8\n",
      "Processing model: d:\\PruneLimit\\PruneLimitAnalyzer\\models\\AlexNet_DATASET_random_PD4_GPR-30_PRUNED_SEED_23.pth\n",
      "Processing batch size: 1\n",
      "Skipping completed experiment for: AlexNet_DATASET_random_PD4_GPR-30_PRUNED_SEED_23.pth, batch size 1\n",
      "Processing batch size: 8\n",
      "Skipping completed experiment for: AlexNet_DATASET_random_PD4_GPR-30_PRUNED_SEED_23.pth, batch size 8\n",
      "Processing model: d:\\PruneLimit\\PruneLimitAnalyzer\\models\\AlexNet_DATASET_random_PD1_GPR-30_PRUNED_SEED_23.pth\n",
      "Processing batch size: 1\n",
      "Skipping completed experiment for: AlexNet_DATASET_random_PD1_GPR-30_PRUNED_SEED_23.pth, batch size 1\n",
      "Processing batch size: 8\n",
      "Skipping completed experiment for: AlexNet_DATASET_random_PD1_GPR-30_PRUNED_SEED_23.pth, batch size 8\n",
      "Processing model: d:\\PruneLimit\\PruneLimitAnalyzer\\models\\AlexNet_DATASET_random_PD3_GPR-65_PRUNED_SEED_23.pth\n"
     ]
    },
    {
     "name": "stderr",
     "output_type": "stream",
     "text": [
      "Processing Models:  58%|█████▊    | 38/66 [00:01<00:01, 26.95it/s]"
     ]
    },
    {
     "name": "stdout",
     "output_type": "stream",
     "text": [
      "Processing batch size: 1\n",
      "Skipping completed experiment for: AlexNet_DATASET_random_PD3_GPR-65_PRUNED_SEED_23.pth, batch size 1\n",
      "Processing batch size: 8\n",
      "Skipping completed experiment for: AlexNet_DATASET_random_PD3_GPR-65_PRUNED_SEED_23.pth, batch size 8\n",
      "Processing model: d:\\PruneLimit\\PruneLimitAnalyzer\\models\\AlexNet_DATASET_random_PD2_GPR-25_PRUNED_SEED_23.pth\n",
      "Processing batch size: 1\n",
      "Skipping completed experiment for: AlexNet_DATASET_random_PD2_GPR-25_PRUNED_SEED_23.pth, batch size 1\n",
      "Processing batch size: 8\n",
      "Skipping completed experiment for: AlexNet_DATASET_random_PD2_GPR-25_PRUNED_SEED_23.pth, batch size 8\n",
      "Processing model: d:\\PruneLimit\\PruneLimitAnalyzer\\models\\AlexNet_DATASET_random_PD4_GPR-60_PRUNED_SEED_23.pth\n",
      "Processing batch size: 1\n",
      "Skipping completed experiment for: AlexNet_DATASET_random_PD4_GPR-60_PRUNED_SEED_23.pth, batch size 1\n",
      "Processing batch size: 8\n",
      "Skipping completed experiment for: AlexNet_DATASET_random_PD4_GPR-60_PRUNED_SEED_23.pth, batch size 8\n",
      "Processing model: d:\\PruneLimit\\PruneLimitAnalyzer\\models\\AlexNet_DATASET_random_PD5_GPR-10_PRUNED_SEED_23.pth\n",
      "Processing batch size: 1\n",
      "Skipping completed experiment for: AlexNet_DATASET_random_PD5_GPR-10_PRUNED_SEED_23.pth, batch size 1\n",
      "Processing batch size: 8\n",
      "Skipping completed experiment for: AlexNet_DATASET_random_PD5_GPR-10_PRUNED_SEED_23.pth, batch size 8\n",
      "Processing model: d:\\PruneLimit\\PruneLimitAnalyzer\\models\\AlexNet_DATASET_random_PD1_GPR-5_PRUNED_SEED_23.pth\n",
      "Processing batch size: 1\n",
      "Skipping completed experiment for: AlexNet_DATASET_random_PD1_GPR-5_PRUNED_SEED_23.pth, batch size 1\n",
      "Processing batch size: 8\n",
      "Skipping completed experiment for: AlexNet_DATASET_random_PD1_GPR-5_PRUNED_SEED_23.pth, batch size 8\n"
     ]
    },
    {
     "name": "stderr",
     "output_type": "stream",
     "text": [
      "Processing Models:  70%|██████▉   | 46/66 [00:01<00:00, 26.85it/s]"
     ]
    },
    {
     "name": "stdout",
     "output_type": "stream",
     "text": [
      "Processing model: d:\\PruneLimit\\PruneLimitAnalyzer\\models\\AlexNet_DATASET_random_PD1_GPR-65_PRUNED_SEED_23.pth\n",
      "Processing batch size: 1\n",
      "Skipping completed experiment for: AlexNet_DATASET_random_PD1_GPR-65_PRUNED_SEED_23.pth, batch size 1\n",
      "Processing batch size: 8\n",
      "Skipping completed experiment for: AlexNet_DATASET_random_PD1_GPR-65_PRUNED_SEED_23.pth, batch size 8\n",
      "Processing model: d:\\PruneLimit\\PruneLimitAnalyzer\\models\\AlexNet_DATASET_random_PD3_GPR-45_PRUNED_SEED_23.pth\n",
      "Processing batch size: 1\n",
      "Skipping completed experiment for: AlexNet_DATASET_random_PD3_GPR-45_PRUNED_SEED_23.pth, batch size 1\n",
      "Processing batch size: 8\n",
      "Skipping completed experiment for: AlexNet_DATASET_random_PD3_GPR-45_PRUNED_SEED_23.pth, batch size 8\n",
      "Processing model: d:\\PruneLimit\\PruneLimitAnalyzer\\models\\AlexNet_DATASET_random_PD4_GPR-55_PRUNED_SEED_23.pth\n",
      "Processing batch size: 1\n",
      "Skipping completed experiment for: AlexNet_DATASET_random_PD4_GPR-55_PRUNED_SEED_23.pth, batch size 1\n",
      "Processing batch size: 8\n",
      "Skipping completed experiment for: AlexNet_DATASET_random_PD4_GPR-55_PRUNED_SEED_23.pth, batch size 8\n",
      "Processing model: d:\\PruneLimit\\PruneLimitAnalyzer\\models\\AlexNet_DATASET_random_PD1_GPR-45_PRUNED_SEED_23.pth\n",
      "Processing batch size: 1\n",
      "Skipping completed experiment for: AlexNet_DATASET_random_PD1_GPR-45_PRUNED_SEED_23.pth, batch size 1\n",
      "Processing batch size: 8\n",
      "Skipping completed experiment for: AlexNet_DATASET_random_PD1_GPR-45_PRUNED_SEED_23.pth, batch size 8\n",
      "Processing model: d:\\PruneLimit\\PruneLimitAnalyzer\\models\\AlexNet_DATASET_random_PD4_GPR-5_PRUNED_SEED_23.pth\n",
      "Processing batch size: 1\n",
      "Skipping completed experiment for: AlexNet_DATASET_random_PD4_GPR-5_PRUNED_SEED_23.pth, batch size 1\n",
      "Processing batch size: 8\n",
      "Skipping completed experiment for: AlexNet_DATASET_random_PD4_GPR-5_PRUNED_SEED_23.pth, batch size 8\n",
      "Processing model: d:\\PruneLimit\\PruneLimitAnalyzer\\models\\AlexNet_DATASET_random_PD1_GPR-10_PRUNED_SEED_23.pth\n"
     ]
    },
    {
     "name": "stderr",
     "output_type": "stream",
     "text": [
      "Processing Models:  74%|███████▍  | 49/66 [00:01<00:00, 25.86it/s]"
     ]
    },
    {
     "name": "stdout",
     "output_type": "stream",
     "text": [
      "Processing batch size: 1\n",
      "Skipping completed experiment for: AlexNet_DATASET_random_PD1_GPR-10_PRUNED_SEED_23.pth, batch size 1\n",
      "Processing batch size: 8\n",
      "Skipping completed experiment for: AlexNet_DATASET_random_PD1_GPR-10_PRUNED_SEED_23.pth, batch size 8\n",
      "Processing model: d:\\PruneLimit\\PruneLimitAnalyzer\\models\\AlexNet_DATASET_random_PD4_GPR-15_PRUNED_SEED_23.pth\n",
      "Processing batch size: 1\n",
      "Skipping completed experiment for: AlexNet_DATASET_random_PD4_GPR-15_PRUNED_SEED_23.pth, batch size 1\n",
      "Processing batch size: 8\n",
      "Skipping completed experiment for: AlexNet_DATASET_random_PD4_GPR-15_PRUNED_SEED_23.pth, batch size 8\n",
      "Processing model: d:\\PruneLimit\\PruneLimitAnalyzer\\models\\AlexNet_DATASET_random_PD4_GPR-40_PRUNED_SEED_23.pth\n",
      "Processing batch size: 1\n",
      "Skipping completed experiment for: AlexNet_DATASET_random_PD4_GPR-40_PRUNED_SEED_23.pth, batch size 1\n",
      "Processing batch size: 8\n",
      "Skipping completed experiment for: AlexNet_DATASET_random_PD4_GPR-40_PRUNED_SEED_23.pth, batch size 8\n",
      "Processing model: d:\\PruneLimit\\PruneLimitAnalyzer\\models\\AlexNet_DATASET_random_PD3_GPR-55_PRUNED_SEED_23.pth\n",
      "Processing batch size: 1\n",
      "Skipping completed experiment for: AlexNet_DATASET_random_PD3_GPR-55_PRUNED_SEED_23.pth, batch size 1\n",
      "Processing batch size: 8\n",
      "Skipping completed experiment for: AlexNet_DATASET_random_PD3_GPR-55_PRUNED_SEED_23.pth, batch size 8\n",
      "Processing model: d:\\PruneLimit\\PruneLimitAnalyzer\\models\\AlexNet_DATASET_UNPRUNED.pth\n",
      "Processing batch size: 1\n",
      "Skipping completed experiment for: AlexNet_DATASET_UNPRUNED.pth, batch size 1\n",
      "Processing batch size: 8\n",
      "Skipping completed experiment for: AlexNet_DATASET_UNPRUNED.pth, batch size 8\n",
      "Processing model: d:\\PruneLimit\\PruneLimitAnalyzer\\models\\AlexNet_DATASET_random_PD2_GPR-15_PRUNED_SEED_23.pth\n"
     ]
    },
    {
     "name": "stderr",
     "output_type": "stream",
     "text": [
      "Processing Models:  83%|████████▎ | 55/66 [00:02<00:00, 23.77it/s]"
     ]
    },
    {
     "name": "stdout",
     "output_type": "stream",
     "text": [
      "Processing batch size: 1\n",
      "Skipping completed experiment for: AlexNet_DATASET_random_PD2_GPR-15_PRUNED_SEED_23.pth, batch size 1\n",
      "Processing batch size: 8\n",
      "Skipping completed experiment for: AlexNet_DATASET_random_PD2_GPR-15_PRUNED_SEED_23.pth, batch size 8\n",
      "Processing model: d:\\PruneLimit\\PruneLimitAnalyzer\\models\\AlexNet_DATASET_random_PD3_GPR-20_PRUNED_SEED_23.pth\n",
      "Processing batch size: 1\n",
      "Skipping completed experiment for: AlexNet_DATASET_random_PD3_GPR-20_PRUNED_SEED_23.pth, batch size 1\n",
      "Processing batch size: 8\n",
      "Skipping completed experiment for: AlexNet_DATASET_random_PD3_GPR-20_PRUNED_SEED_23.pth, batch size 8\n",
      "Processing model: d:\\PruneLimit\\PruneLimitAnalyzer\\models\\AlexNet_DATASET_random_PD1_GPR-60_PRUNED_SEED_23.pth\n",
      "Processing batch size: 1\n",
      "Skipping completed experiment for: AlexNet_DATASET_random_PD1_GPR-60_PRUNED_SEED_23.pth, batch size 1\n",
      "Processing batch size: 8\n",
      "Skipping completed experiment for: AlexNet_DATASET_random_PD1_GPR-60_PRUNED_SEED_23.pth, batch size 8\n",
      "Processing model: d:\\PruneLimit\\PruneLimitAnalyzer\\models\\AlexNet_DATASET_random_PD3_GPR-40_PRUNED_SEED_23.pth\n",
      "Processing batch size: 1\n",
      "Skipping completed experiment for: AlexNet_DATASET_random_PD3_GPR-40_PRUNED_SEED_23.pth, batch size 1\n",
      "Processing batch size: 8\n",
      "Skipping completed experiment for: AlexNet_DATASET_random_PD3_GPR-40_PRUNED_SEED_23.pth, batch size 8\n",
      "Processing model: d:\\PruneLimit\\PruneLimitAnalyzer\\models\\AlexNet_DATASET_random_PD2_GPR-40_PRUNED_SEED_23.pth\n",
      "Processing batch size: 1\n",
      "Skipping completed experiment for: AlexNet_DATASET_random_PD2_GPR-40_PRUNED_SEED_23.pth, batch size 1\n",
      "Processing batch size: 8\n",
      "Skipping completed experiment for: AlexNet_DATASET_random_PD2_GPR-40_PRUNED_SEED_23.pth, batch size 8\n",
      "Processing model: d:\\PruneLimit\\PruneLimitAnalyzer\\models\\AlexNet_DATASET_random_PD5_GPR-25_PRUNED_SEED_23.pth\n",
      "Processing batch size: 1\n",
      "Skipping completed experiment for: AlexNet_DATASET_random_PD5_GPR-25_PRUNED_SEED_23.pth, batch size 1\n",
      "Processing batch size: 8\n",
      "Skipping completed experiment for: AlexNet_DATASET_random_PD5_GPR-25_PRUNED_SEED_23.pth, batch size 8\n",
      "Processing model: d:\\PruneLimit\\PruneLimitAnalyzer\\models\\AlexNet_DATASET_random_PD2_GPR-20_PRUNED_SEED_23.pth\n"
     ]
    },
    {
     "name": "stderr",
     "output_type": "stream",
     "text": [
      "Processing Models:  92%|█████████▏| 61/66 [00:02<00:00, 22.72it/s]"
     ]
    },
    {
     "name": "stdout",
     "output_type": "stream",
     "text": [
      "Processing batch size: 1\n",
      "Skipping completed experiment for: AlexNet_DATASET_random_PD2_GPR-20_PRUNED_SEED_23.pth, batch size 1\n",
      "Processing batch size: 8\n",
      "Skipping completed experiment for: AlexNet_DATASET_random_PD2_GPR-20_PRUNED_SEED_23.pth, batch size 8\n",
      "Processing model: d:\\PruneLimit\\PruneLimitAnalyzer\\models\\AlexNet_DATASET_random_PD4_GPR-20_PRUNED_SEED_23.pth\n",
      "Processing batch size: 1\n",
      "Skipping completed experiment for: AlexNet_DATASET_random_PD4_GPR-20_PRUNED_SEED_23.pth, batch size 1\n",
      "Processing batch size: 8\n",
      "Skipping completed experiment for: AlexNet_DATASET_random_PD4_GPR-20_PRUNED_SEED_23.pth, batch size 8\n",
      "Processing model: d:\\PruneLimit\\PruneLimitAnalyzer\\models\\AlexNet_DATASET_random_PD5_GPR-30_PRUNED_SEED_23.pth\n",
      "Processing batch size: 1\n",
      "Skipping completed experiment for: AlexNet_DATASET_random_PD5_GPR-30_PRUNED_SEED_23.pth, batch size 1\n",
      "Processing batch size: 8\n",
      "Skipping completed experiment for: AlexNet_DATASET_random_PD5_GPR-30_PRUNED_SEED_23.pth, batch size 8\n",
      "Processing model: d:\\PruneLimit\\PruneLimitAnalyzer\\models\\AlexNet_DATASET_random_PD4_GPR-10_PRUNED_SEED_23.pth\n",
      "Processing batch size: 1\n",
      "Skipping completed experiment for: AlexNet_DATASET_random_PD4_GPR-10_PRUNED_SEED_23.pth, batch size 1\n",
      "Processing batch size: 8\n",
      "Skipping completed experiment for: AlexNet_DATASET_random_PD4_GPR-10_PRUNED_SEED_23.pth, batch size 8\n",
      "Processing model: d:\\PruneLimit\\PruneLimitAnalyzer\\models\\AlexNet_DATASET_random_PD4_GPR-50_PRUNED_SEED_23.pth\n",
      "Processing batch size: 1\n",
      "Skipping completed experiment for: AlexNet_DATASET_random_PD4_GPR-50_PRUNED_SEED_23.pth, batch size 1\n",
      "Processing batch size: 8\n",
      "Skipping completed experiment for: AlexNet_DATASET_random_PD4_GPR-50_PRUNED_SEED_23.pth, batch size 8\n",
      "Processing model: d:\\PruneLimit\\PruneLimitAnalyzer\\models\\AlexNet_DATASET_random_PD5_GPR-50_PRUNED_SEED_23.pth\n",
      "Processing batch size: 1\n",
      "Skipping completed experiment for: AlexNet_DATASET_random_PD5_GPR-50_PRUNED_SEED_23.pth, batch size 1\n",
      "Processing batch size: 8\n",
      "Skipping completed experiment for: AlexNet_DATASET_random_PD5_GPR-50_PRUNED_SEED_23.pth, batch size 8\n",
      "Processing model: d:\\PruneLimit\\PruneLimitAnalyzer\\models\\AlexNet_DATASET_random_PD2_GPR-55_PRUNED_SEED_23.pth\n"
     ]
    },
    {
     "name": "stderr",
     "output_type": "stream",
     "text": [
      "Processing Models: 100%|██████████| 66/66 [00:02<00:00, 25.60it/s]"
     ]
    },
    {
     "name": "stdout",
     "output_type": "stream",
     "text": [
      "Processing batch size: 1\n",
      "Skipping completed experiment for: AlexNet_DATASET_random_PD2_GPR-55_PRUNED_SEED_23.pth, batch size 1\n",
      "Processing batch size: 8\n",
      "Skipping completed experiment for: AlexNet_DATASET_random_PD2_GPR-55_PRUNED_SEED_23.pth, batch size 8\n",
      "Processing model: d:\\PruneLimit\\PruneLimitAnalyzer\\models\\AlexNet_DATASET_random_PD5_GPR-20_PRUNED_SEED_23.pth\n",
      "Processing batch size: 1\n",
      "Skipping completed experiment for: AlexNet_DATASET_random_PD5_GPR-20_PRUNED_SEED_23.pth, batch size 1\n",
      "Processing batch size: 8\n",
      "Skipping completed experiment for: AlexNet_DATASET_random_PD5_GPR-20_PRUNED_SEED_23.pth, batch size 8\n",
      "Processing model: d:\\PruneLimit\\PruneLimitAnalyzer\\models\\AlexNet_DATASET_random_PD3_GPR-10_PRUNED_SEED_23.pth\n",
      "Processing batch size: 1\n",
      "Skipping completed experiment for: AlexNet_DATASET_random_PD3_GPR-10_PRUNED_SEED_23.pth, batch size 1\n",
      "Processing batch size: 8\n",
      "Skipping completed experiment for: AlexNet_DATASET_random_PD3_GPR-10_PRUNED_SEED_23.pth, batch size 8\n"
     ]
    },
    {
     "name": "stderr",
     "output_type": "stream",
     "text": [
      "\n"
     ]
    },
    {
     "data": {
      "text/html": [
       "<div>\n",
       "<style scoped>\n",
       "    .dataframe tbody tr th:only-of-type {\n",
       "        vertical-align: middle;\n",
       "    }\n",
       "\n",
       "    .dataframe tbody tr th {\n",
       "        vertical-align: top;\n",
       "    }\n",
       "\n",
       "    .dataframe thead th {\n",
       "        text-align: right;\n",
       "    }\n",
       "</style>\n",
       "<table border=\"1\" class=\"dataframe\">\n",
       "  <thead>\n",
       "    <tr style=\"text-align: right;\">\n",
       "      <th></th>\n",
       "    </tr>\n",
       "  </thead>\n",
       "  <tbody>\n",
       "  </tbody>\n",
       "</table>\n",
       "</div>"
      ],
      "text/plain": [
       "Empty DataFrame\n",
       "Columns: []\n",
       "Index: []"
      ]
     },
     "execution_count": 9,
     "metadata": {},
     "output_type": "execute_result"
    }
   ],
   "source": [
    "import os\n",
    "import torch\n",
    "import pandas as pd\n",
    "from PruneEnergyAnalizer import ExperimentRunner\n",
    "\n",
    "# Define the model directory\n",
    "model_dir = os.path.abspath(os.path.join(os.getcwd(), \"..\", \"models\"))\n",
    "\n",
    "# Define batch sizes and number of trials\n",
    "batch_sizes = [1,8]  # Adjusted batch sizes for testing\n",
    "# Note: Adjust the batch sizes according to your GPU memory capacity\n",
    "num_trials = 5\n",
    "num_iters = 100\n",
    "\n",
    "# Define input tensor shape\n",
    "input_channels = 3\n",
    "input_height = 224\n",
    "input_width = 224\n",
    "\n",
    "# Select the device for inference\n",
    "device = torch.device(\"cuda\" if torch.cuda.is_available() else \"cpu\")\n",
    "print(f\"Using device: {device}\")\n",
    "\n",
    "# Initialize and run the experiment\n",
    "experiment = ExperimentRunner(\n",
    "    model_dir, \n",
    "    batch_sizes, \n",
    "    num_trials, \n",
    "    num_iters, \n",
    "    input_channels, \n",
    "    input_height, \n",
    "    input_width,\n",
    "    filename=\"results_v15.csv\",\n",
    ")\n",
    "\n",
    "results_df = experiment.run_experiment()\n",
    "\n",
    "# Display results\n",
    "results_df\n"
   ]
  }
 ],
 "metadata": {
  "kernelspec": {
   "display_name": "pruning_env_v2",
   "language": "python",
   "name": "python3"
  },
  "language_info": {
   "codemirror_mode": {
    "name": "ipython",
    "version": 3
   },
   "file_extension": ".py",
   "mimetype": "text/x-python",
   "name": "python",
   "nbconvert_exporter": "python",
   "pygments_lexer": "ipython3",
   "version": "3.11.7"
  }
 },
 "nbformat": 4,
 "nbformat_minor": 2
}
