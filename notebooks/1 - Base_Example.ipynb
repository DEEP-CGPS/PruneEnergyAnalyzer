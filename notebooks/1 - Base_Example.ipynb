{
 "cells": [
  {
   "cell_type": "markdown",
   "metadata": {},
   "source": [
    "# Experimentation Notebook\n",
    "\n",
    "This notebook demonstrates how to use the `pruning_limit_analysis` library to analyze the energy consumption and inference performance of pruned neural network models.\n",
    "\n",
    "## Structure of Model Filenames\n",
    "\n",
    "The models should be named following this convention:\n",
    "- `{ARCHITECTURE}`: Model architecture (e.g., `AlexNet`, `VGG16`)\n",
    "- `{DATASET}`: Dataset used for training (e.g., `CIFAR10`)\n",
    "- `{PRUNING_DISTRIBUTION}`: Pruning distribution strategy (e.g., `random_PD3`)\n",
    "- `{PRUNING_RATIO}`: Global pruning ratio in percentage (e.g., `20` for 20%)\n",
    "- `{STATE}`: Either `PRUNED` or `UNPRUNED`\n",
    "\n",
    "Example:\n",
    "\n",
    "`{ARCHITECTURE}_{DATASET}_{PRUNING_DISTRIBUTION}_GPR-{PRUNING_RATIO}_{SEED}.pth`\n",
    "\n",
    "### Case of Unpruned Models\n",
    "\n",
    "For unpruned models, the filename should follow a similar convention but with `UNPRUNED` as the state and no pruning ratio:\n",
    "`{ARCHITECTURE}_{DATASET}_UNPRUNED.pth`\n",
    "\n",
    "Since these models are not pruned, their pruning ratio is considered `0%`, and they serve as a baseline for comparison against pruned versions.\n",
    "\n",
    "## Parameters for the Experiment\n",
    "\n",
    "- `model_dir`: Path where models are stored.\n",
    "- `batch_sizes`: List of batch sizes to test.\n",
    "- `num_trials`: Number of trials per experiment.\n",
    "- `device`: GPU or CPU for inference."
   ]
  },
  {
   "cell_type": "code",
   "execution_count": 1,
   "metadata": {},
   "outputs": [],
   "source": [
    "import sys\n",
    "import os\n",
    "\n",
    "lib_path = os.path.abspath(os.path.join(os.getcwd(), \"..\"))\n",
    "if lib_path not in sys.path:\n",
    "    sys.path.append(lib_path)\n",
    "\n"
   ]
  },
  {
   "cell_type": "code",
   "execution_count": 2,
   "metadata": {},
   "outputs": [
    {
     "name": "stdout",
     "output_type": "stream",
     "text": [
      "Using device: cuda\n"
     ]
    },
    {
     "name": "stderr",
     "output_type": "stream",
     "text": [
      "Processing Models:   0%|          | 0/66 [00:00<?, ?it/s]"
     ]
    },
    {
     "name": "stdout",
     "output_type": "stream",
     "text": [
      "Processing model: d:\\PruneLimit\\PruneLimitAnalyzer\\models\\AlexNet_DATASET_random_PD1_GPR-45_PRUNED_SEED_23.pth\n",
      "Processing batch size: 1\n"
     ]
    },
    {
     "name": "stderr",
     "output_type": "stream",
     "text": [
      "Unsupported operator aten::max_pool2d encountered 3 time(s)\n",
      "Unsupported operator aten::add encountered 4 time(s)\n",
      "Trial 1/20: Running 500 iterations: 100%|██████████| 500/500 [00:00<00:00, 986.02it/s]\n",
      "Trial 2/20: Running 500 iterations: 100%|██████████| 500/500 [00:00<00:00, 1015.03it/s]\n",
      "Trial 3/20: Running 500 iterations: 100%|██████████| 500/500 [00:00<00:00, 993.86it/s]\n",
      "Trial 4/20: Running 500 iterations: 100%|██████████| 500/500 [00:00<00:00, 994.83it/s]\n",
      "Trial 5/20: Running 500 iterations: 100%|██████████| 500/500 [00:00<00:00, 926.94it/s]\n",
      "Trial 6/20: Running 500 iterations: 100%|██████████| 500/500 [00:00<00:00, 900.36it/s]\n",
      "Trial 7/20: Running 500 iterations: 100%|██████████| 500/500 [00:00<00:00, 902.43it/s]\n",
      "Trial 8/20: Running 500 iterations: 100%|██████████| 500/500 [00:00<00:00, 843.57it/s]\n",
      "Trial 9/20: Running 500 iterations: 100%|██████████| 500/500 [00:00<00:00, 884.99it/s]\n",
      "Trial 10/20: Running 500 iterations: 100%|██████████| 500/500 [00:00<00:00, 826.21it/s]\n",
      "Trial 11/20: Running 500 iterations: 100%|██████████| 500/500 [00:00<00:00, 851.92it/s]\n",
      "Trial 12/20: Running 500 iterations: 100%|██████████| 500/500 [00:00<00:00, 968.88it/s]\n",
      "Trial 13/20: Running 500 iterations: 100%|██████████| 500/500 [00:00<00:00, 1033.08it/s]\n",
      "Trial 14/20: Running 500 iterations: 100%|██████████| 500/500 [00:00<00:00, 1000.75it/s]\n",
      "Trial 15/20: Running 500 iterations: 100%|██████████| 500/500 [00:00<00:00, 1020.17it/s]\n",
      "Trial 16/20: Running 500 iterations: 100%|██████████| 500/500 [00:00<00:00, 1000.75it/s]\n",
      "Trial 17/20: Running 500 iterations: 100%|██████████| 500/500 [00:00<00:00, 1031.89it/s]\n",
      "Trial 18/20: Running 500 iterations: 100%|██████████| 500/500 [00:00<00:00, 1033.00it/s]\n",
      "Trial 19/20: Running 500 iterations: 100%|██████████| 500/500 [00:00<00:00, 996.06it/s]\n",
      "Trial 20/20: Running 500 iterations: 100%|██████████| 500/500 [00:00<00:00, 1041.96it/s]\n",
      "Unsupported operator aten::max_pool2d encountered 3 time(s)\n",
      "Unsupported operator aten::add encountered 4 time(s)\n"
     ]
    },
    {
     "name": "stdout",
     "output_type": "stream",
     "text": [
      "Processing batch size: 8\n"
     ]
    },
    {
     "name": "stderr",
     "output_type": "stream",
     "text": [
      "Trial 1/20: Running 500 iterations: 100%|██████████| 500/500 [00:00<00:00, 994.66it/s]\n",
      "Trial 2/20: Running 500 iterations: 100%|██████████| 500/500 [00:00<00:00, 940.23it/s]\n",
      "Trial 3/20: Running 500 iterations: 100%|██████████| 500/500 [00:00<00:00, 974.08it/s]\n",
      "Trial 4/20: Running 500 iterations: 100%|██████████| 500/500 [00:00<00:00, 971.37it/s]\n",
      "Trial 5/20: Running 500 iterations: 100%|██████████| 500/500 [00:00<00:00, 1006.60it/s]\n",
      "Trial 6/20: Running 500 iterations: 100%|██████████| 500/500 [00:00<00:00, 993.38it/s]\n",
      "Trial 7/20: Running 500 iterations: 100%|██████████| 500/500 [00:00<00:00, 785.32it/s]\n",
      "Trial 8/20: Running 500 iterations: 100%|██████████| 500/500 [00:00<00:00, 826.97it/s]\n",
      "Trial 9/20: Running 500 iterations: 100%|██████████| 500/500 [00:00<00:00, 741.70it/s]\n",
      "Trial 10/20: Running 500 iterations: 100%|██████████| 500/500 [00:00<00:00, 624.01it/s]\n",
      "Trial 11/20: Running 500 iterations: 100%|██████████| 500/500 [00:00<00:00, 738.56it/s]\n",
      "Trial 12/20: Running 500 iterations: 100%|██████████| 500/500 [00:00<00:00, 736.64it/s]\n",
      "Trial 13/20: Running 500 iterations: 100%|██████████| 500/500 [00:00<00:00, 735.14it/s]\n",
      "Trial 14/20: Running 500 iterations: 100%|██████████| 500/500 [00:00<00:00, 921.58it/s]\n",
      "Trial 15/20: Running 500 iterations: 100%|██████████| 500/500 [00:00<00:00, 937.46it/s]\n",
      "Trial 16/20: Running 500 iterations: 100%|██████████| 500/500 [00:00<00:00, 982.21it/s]\n",
      "Trial 17/20: Running 500 iterations: 100%|██████████| 500/500 [00:00<00:00, 966.37it/s]\n",
      "Trial 18/20: Running 500 iterations: 100%|██████████| 500/500 [00:00<00:00, 982.87it/s]\n",
      "Trial 19/20: Running 500 iterations: 100%|██████████| 500/500 [00:00<00:00, 994.00it/s]\n",
      "Trial 20/20: Running 500 iterations: 100%|██████████| 500/500 [00:00<00:00, 989.65it/s]\n",
      "Unsupported operator aten::max_pool2d encountered 3 time(s)\n",
      "Unsupported operator aten::add encountered 4 time(s)\n"
     ]
    },
    {
     "name": "stdout",
     "output_type": "stream",
     "text": [
      "Processing batch size: 16\n"
     ]
    },
    {
     "name": "stderr",
     "output_type": "stream",
     "text": [
      "Trial 1/20: Running 500 iterations: 100%|██████████| 500/500 [00:00<00:00, 764.68it/s]\n",
      "Trial 2/20: Running 500 iterations: 100%|██████████| 500/500 [00:00<00:00, 777.73it/s]\n",
      "Trial 3/20: Running 500 iterations: 100%|██████████| 500/500 [00:00<00:00, 742.14it/s]\n",
      "Trial 4/20: Running 500 iterations: 100%|██████████| 500/500 [00:00<00:00, 841.85it/s]\n",
      "Trial 5/20: Running 500 iterations: 100%|██████████| 500/500 [00:00<00:00, 848.66it/s]\n",
      "Trial 6/20: Running 500 iterations: 100%|██████████| 500/500 [00:00<00:00, 844.66it/s]\n",
      "Trial 7/20: Running 500 iterations: 100%|██████████| 500/500 [00:00<00:00, 845.04it/s]\n",
      "Trial 8/20: Running 500 iterations: 100%|██████████| 500/500 [00:00<00:00, 851.26it/s]\n",
      "Trial 9/20: Running 500 iterations: 100%|██████████| 500/500 [00:00<00:00, 838.03it/s]\n",
      "Trial 10/20: Running 500 iterations: 100%|██████████| 500/500 [00:00<00:00, 834.88it/s]\n",
      "Trial 11/20: Running 500 iterations: 100%|██████████| 500/500 [00:00<00:00, 823.26it/s]\n",
      "Trial 12/20: Running 500 iterations: 100%|██████████| 500/500 [00:00<00:00, 858.23it/s]\n",
      "Trial 13/20: Running 500 iterations: 100%|██████████| 500/500 [00:00<00:00, 833.59it/s]\n",
      "Trial 14/20: Running 500 iterations: 100%|██████████| 500/500 [00:00<00:00, 818.07it/s]\n",
      "Trial 15/20: Running 500 iterations: 100%|██████████| 500/500 [00:00<00:00, 849.59it/s]\n",
      "Trial 16/20: Running 500 iterations: 100%|██████████| 500/500 [00:00<00:00, 856.53it/s]\n",
      "Trial 17/20: Running 500 iterations: 100%|██████████| 500/500 [00:00<00:00, 861.87it/s]\n",
      "Trial 18/20: Running 500 iterations: 100%|██████████| 500/500 [00:00<00:00, 676.61it/s]\n",
      "Trial 19/20: Running 500 iterations: 100%|██████████| 500/500 [00:00<00:00, 682.15it/s]\n",
      "Trial 20/20: Running 500 iterations: 100%|██████████| 500/500 [00:00<00:00, 692.68it/s]\n",
      "Unsupported operator aten::max_pool2d encountered 3 time(s)\n",
      "Unsupported operator aten::add encountered 4 time(s)\n"
     ]
    },
    {
     "name": "stdout",
     "output_type": "stream",
     "text": [
      "Processing batch size: 32\n"
     ]
    },
    {
     "name": "stderr",
     "output_type": "stream",
     "text": [
      "Trial 1/20: Running 500 iterations: 100%|██████████| 500/500 [00:01<00:00, 496.43it/s]\n",
      "Trial 2/20: Running 500 iterations: 100%|██████████| 500/500 [00:00<00:00, 500.90it/s]\n",
      "Trial 3/20: Running 500 iterations: 100%|██████████| 500/500 [00:01<00:00, 494.58it/s]\n",
      "Trial 4/20: Running 500 iterations: 100%|██████████| 500/500 [00:01<00:00, 496.69it/s]\n",
      "Trial 5/20: Running 500 iterations: 100%|██████████| 500/500 [00:01<00:00, 486.86it/s]\n",
      "Trial 6/20: Running 500 iterations: 100%|██████████| 500/500 [00:00<00:00, 504.08it/s]\n",
      "Trial 7/20: Running 500 iterations: 100%|██████████| 500/500 [00:01<00:00, 497.56it/s]\n",
      "Trial 8/20: Running 500 iterations: 100%|██████████| 500/500 [00:01<00:00, 497.20it/s]\n",
      "Trial 9/20: Running 500 iterations: 100%|██████████| 500/500 [00:00<00:00, 509.65it/s]\n",
      "Trial 10/20: Running 500 iterations: 100%|██████████| 500/500 [00:00<00:00, 509.31it/s]\n",
      "Trial 11/20: Running 500 iterations: 100%|██████████| 500/500 [00:00<00:00, 509.68it/s]\n",
      "Trial 12/20: Running 500 iterations: 100%|██████████| 500/500 [00:00<00:00, 512.44it/s]\n",
      "Trial 13/20: Running 500 iterations: 100%|██████████| 500/500 [00:00<00:00, 509.25it/s]\n",
      "Trial 14/20: Running 500 iterations: 100%|██████████| 500/500 [00:00<00:00, 512.42it/s]\n",
      "Trial 15/20: Running 500 iterations: 100%|██████████| 500/500 [00:00<00:00, 509.78it/s]\n",
      "Trial 16/20: Running 500 iterations: 100%|██████████| 500/500 [00:00<00:00, 509.95it/s]\n",
      "Trial 17/20: Running 500 iterations: 100%|██████████| 500/500 [00:00<00:00, 510.22it/s]\n",
      "Trial 18/20: Running 500 iterations: 100%|██████████| 500/500 [00:00<00:00, 509.82it/s]\n",
      "Trial 19/20: Running 500 iterations: 100%|██████████| 500/500 [00:00<00:00, 510.17it/s]\n",
      "Trial 20/20: Running 500 iterations: 100%|██████████| 500/500 [00:00<00:00, 510.49it/s]\n"
     ]
    },
    {
     "name": "stdout",
     "output_type": "stream",
     "text": [
      "Processing batch size: 64\n"
     ]
    },
    {
     "name": "stderr",
     "output_type": "stream",
     "text": [
      "Unsupported operator aten::max_pool2d encountered 3 time(s)\n",
      "Unsupported operator aten::add encountered 4 time(s)\n",
      "Trial 1/20: Running 500 iterations: 100%|██████████| 500/500 [00:01<00:00, 298.18it/s]\n",
      "Trial 2/20: Running 500 iterations: 100%|██████████| 500/500 [00:01<00:00, 296.66it/s]\n",
      "Trial 3/20: Running 500 iterations: 100%|██████████| 500/500 [00:01<00:00, 299.16it/s]\n",
      "Trial 4/20: Running 500 iterations: 100%|██████████| 500/500 [00:01<00:00, 299.83it/s]\n",
      "Trial 5/20: Running 500 iterations: 100%|██████████| 500/500 [00:01<00:00, 300.25it/s]\n",
      "Trial 6/20: Running 500 iterations: 100%|██████████| 500/500 [00:01<00:00, 306.70it/s]\n",
      "Trial 7/20: Running 500 iterations: 100%|██████████| 500/500 [00:01<00:00, 305.55it/s]\n",
      "Trial 8/20: Running 500 iterations: 100%|██████████| 500/500 [00:01<00:00, 305.33it/s]\n",
      "Trial 9/20: Running 500 iterations: 100%|██████████| 500/500 [00:01<00:00, 306.64it/s]\n",
      "Trial 10/20: Running 500 iterations: 100%|██████████| 500/500 [00:01<00:00, 306.57it/s]\n",
      "Trial 11/20: Running 500 iterations: 100%|██████████| 500/500 [00:01<00:00, 306.53it/s]\n",
      "Trial 12/20: Running 500 iterations: 100%|██████████| 500/500 [00:01<00:00, 306.70it/s]\n",
      "Trial 13/20: Running 500 iterations: 100%|██████████| 500/500 [00:01<00:00, 305.15it/s]\n",
      "Trial 14/20: Running 500 iterations: 100%|██████████| 500/500 [00:01<00:00, 306.69it/s]\n",
      "Trial 15/20: Running 500 iterations: 100%|██████████| 500/500 [00:01<00:00, 306.91it/s]\n",
      "Trial 16/20: Running 500 iterations: 100%|██████████| 500/500 [00:01<00:00, 305.49it/s]\n",
      "Trial 17/20: Running 500 iterations: 100%|██████████| 500/500 [00:01<00:00, 306.29it/s]\n",
      "Trial 18/20: Running 500 iterations: 100%|██████████| 500/500 [00:01<00:00, 306.49it/s]\n",
      "Trial 19/20: Running 500 iterations: 100%|██████████| 500/500 [00:01<00:00, 306.93it/s]\n",
      "Trial 20/20: Running 500 iterations: 100%|██████████| 500/500 [00:01<00:00, 304.32it/s]\n",
      "Processing Models:   2%|▏         | 1/66 [01:52<2:01:21, 112.02s/it]Unsupported operator aten::max_pool2d encountered 3 time(s)\n",
      "Unsupported operator aten::add encountered 4 time(s)\n"
     ]
    },
    {
     "name": "stdout",
     "output_type": "stream",
     "text": [
      "Processing model: d:\\PruneLimit\\PruneLimitAnalyzer\\models\\AlexNet_DATASET_random_PD1_GPR-50_PRUNED_SEED_23.pth\n",
      "Processing batch size: 1\n"
     ]
    },
    {
     "name": "stderr",
     "output_type": "stream",
     "text": [
      "Trial 1/20: Running 500 iterations: 100%|██████████| 500/500 [00:00<00:00, 1071.58it/s]\n",
      "Trial 2/20: Running 500 iterations: 100%|██████████| 500/500 [00:00<00:00, 1071.46it/s]\n",
      "Trial 3/20: Running 500 iterations: 100%|██████████| 500/500 [00:00<00:00, 1105.65it/s]\n",
      "Trial 4/20: Running 500 iterations: 100%|██████████| 500/500 [00:00<00:00, 1044.31it/s]\n",
      "Trial 5/20: Running 500 iterations: 100%|██████████| 500/500 [00:00<00:00, 1057.66it/s]\n",
      "Trial 6/20: Running 500 iterations: 100%|██████████| 500/500 [00:00<00:00, 733.77it/s]\n",
      "Trial 7/20: Running 500 iterations: 100%|██████████| 500/500 [00:00<00:00, 703.63it/s]\n",
      "Trial 8/20: Running 500 iterations: 100%|██████████| 500/500 [00:00<00:00, 647.49it/s]\n",
      "Trial 9/20: Running 500 iterations: 100%|██████████| 500/500 [00:00<00:00, 715.22it/s]\n",
      "Trial 10/20: Running 500 iterations: 100%|██████████| 500/500 [00:00<00:00, 852.79it/s]\n",
      "Trial 11/20: Running 500 iterations: 100%|██████████| 500/500 [00:00<00:00, 811.10it/s]\n",
      "Trial 12/20: Running 500 iterations: 100%|██████████| 500/500 [00:00<00:00, 686.08it/s]\n",
      "Trial 13/20: Running 500 iterations: 100%|██████████| 500/500 [00:00<00:00, 741.36it/s]\n",
      "Trial 14/20: Running 500 iterations: 100%|██████████| 500/500 [00:00<00:00, 1067.68it/s]\n",
      "Trial 15/20: Running 500 iterations: 100%|██████████| 500/500 [00:00<00:00, 1057.01it/s]\n",
      "Trial 16/20: Running 500 iterations: 100%|██████████| 500/500 [00:00<00:00, 1071.54it/s]\n",
      "Trial 17/20: Running 500 iterations: 100%|██████████| 500/500 [00:00<00:00, 826.95it/s]\n",
      "Trial 18/20: Running 500 iterations: 100%|██████████| 500/500 [00:00<00:00, 994.13it/s]\n",
      "Trial 19/20: Running 500 iterations: 100%|██████████| 500/500 [00:00<00:00, 1007.90it/s]\n",
      "Trial 20/20: Running 500 iterations: 100%|██████████| 500/500 [00:00<00:00, 847.84it/s]\n",
      "Unsupported operator aten::max_pool2d encountered 3 time(s)\n",
      "Unsupported operator aten::add encountered 4 time(s)\n"
     ]
    },
    {
     "name": "stdout",
     "output_type": "stream",
     "text": [
      "Processing batch size: 8\n"
     ]
    },
    {
     "name": "stderr",
     "output_type": "stream",
     "text": [
      "Trial 1/20: Running 500 iterations: 100%|██████████| 500/500 [00:00<00:00, 1004.49it/s]\n",
      "Trial 2/20: Running 500 iterations: 100%|██████████| 500/500 [00:00<00:00, 999.73it/s]\n",
      "Trial 3/20: Running 500 iterations: 100%|██████████| 500/500 [00:00<00:00, 1059.94it/s]\n",
      "Trial 4/20: Running 500 iterations: 100%|██████████| 500/500 [00:00<00:00, 1002.40it/s]\n",
      "Trial 5/20: Running 500 iterations: 100%|██████████| 500/500 [00:00<00:00, 959.83it/s]\n",
      "Trial 6/20: Running 500 iterations: 100%|██████████| 500/500 [00:00<00:00, 1053.74it/s]\n",
      "Trial 7/20: Running 500 iterations: 100%|██████████| 500/500 [00:00<00:00, 970.40it/s]\n",
      "Trial 8/20: Running 500 iterations: 100%|██████████| 500/500 [00:00<00:00, 945.80it/s]\n",
      "Trial 9/20: Running 500 iterations: 100%|██████████| 500/500 [00:00<00:00, 1001.85it/s]\n",
      "Trial 10/20: Running 500 iterations: 100%|██████████| 500/500 [00:00<00:00, 967.88it/s]\n",
      "Trial 11/20: Running 500 iterations: 100%|██████████| 500/500 [00:00<00:00, 990.62it/s]\n",
      "Trial 12/20: Running 500 iterations: 100%|██████████| 500/500 [00:00<00:00, 1061.83it/s]\n",
      "Trial 13/20: Running 500 iterations: 100%|██████████| 500/500 [00:00<00:00, 1031.79it/s]\n",
      "Trial 14/20: Running 500 iterations: 100%|██████████| 500/500 [00:00<00:00, 1027.91it/s]\n",
      "Trial 15/20: Running 500 iterations: 100%|██████████| 500/500 [00:00<00:00, 1001.73it/s]\n",
      "Trial 16/20: Running 500 iterations: 100%|██████████| 500/500 [00:00<00:00, 1002.47it/s]\n",
      "Trial 17/20: Running 500 iterations: 100%|██████████| 500/500 [00:00<00:00, 804.21it/s]\n",
      "Trial 18/20: Running 500 iterations: 100%|██████████| 500/500 [00:00<00:00, 785.26it/s]\n",
      "Trial 19/20: Running 500 iterations: 100%|██████████| 500/500 [00:00<00:00, 1042.41it/s]\n",
      "Trial 20/20: Running 500 iterations: 100%|██████████| 500/500 [00:00<00:00, 1038.02it/s]\n",
      "Unsupported operator aten::max_pool2d encountered 3 time(s)\n",
      "Unsupported operator aten::add encountered 4 time(s)\n"
     ]
    },
    {
     "name": "stdout",
     "output_type": "stream",
     "text": [
      "Processing batch size: 16\n"
     ]
    },
    {
     "name": "stderr",
     "output_type": "stream",
     "text": [
      "Trial 1/20: Running 500 iterations: 100%|██████████| 500/500 [00:00<00:00, 963.71it/s]\n",
      "Trial 2/20: Running 500 iterations: 100%|██████████| 500/500 [00:00<00:00, 985.54it/s] \n",
      "Trial 3/20: Running 500 iterations: 100%|██████████| 500/500 [00:00<00:00, 958.91it/s] \n",
      "Trial 4/20: Running 500 iterations: 100%|██████████| 500/500 [00:00<00:00, 1091.53it/s]\n",
      "Trial 5/20: Running 500 iterations: 100%|██████████| 500/500 [00:00<00:00, 931.10it/s]\n",
      "Trial 6/20: Running 500 iterations: 100%|██████████| 500/500 [00:00<00:00, 1054.19it/s]\n",
      "Trial 7/20: Running 500 iterations: 100%|██████████| 500/500 [00:00<00:00, 876.53it/s]\n",
      "Trial 8/20: Running 500 iterations: 100%|██████████| 500/500 [00:00<00:00, 887.16it/s]\n",
      "Trial 9/20: Running 500 iterations: 100%|██████████| 500/500 [00:00<00:00, 883.69it/s]\n",
      "Trial 10/20: Running 500 iterations: 100%|██████████| 500/500 [00:00<00:00, 959.36it/s]\n",
      "Trial 11/20: Running 500 iterations: 100%|██████████| 500/500 [00:00<00:00, 998.10it/s]\n",
      "Trial 12/20: Running 500 iterations: 100%|██████████| 500/500 [00:00<00:00, 1085.27it/s]\n",
      "Trial 13/20: Running 500 iterations: 100%|██████████| 500/500 [00:00<00:00, 1100.52it/s]\n",
      "Trial 14/20: Running 500 iterations: 100%|██████████| 500/500 [00:00<00:00, 1030.73it/s]\n",
      "Trial 15/20: Running 500 iterations: 100%|██████████| 500/500 [00:00<00:00, 1071.57it/s]\n",
      "Trial 16/20: Running 500 iterations: 100%|██████████| 500/500 [00:00<00:00, 1095.05it/s]\n",
      "Trial 17/20: Running 500 iterations: 100%|██████████| 500/500 [00:00<00:00, 1070.41it/s]\n",
      "Trial 18/20: Running 500 iterations: 100%|██████████| 500/500 [00:00<00:00, 1099.85it/s]\n",
      "Trial 19/20: Running 500 iterations: 100%|██████████| 500/500 [00:00<00:00, 1117.52it/s]\n",
      "Trial 20/20: Running 500 iterations: 100%|██████████| 500/500 [00:00<00:00, 1101.35it/s]\n",
      "Unsupported operator aten::max_pool2d encountered 3 time(s)\n",
      "Unsupported operator aten::add encountered 4 time(s)\n"
     ]
    },
    {
     "name": "stdout",
     "output_type": "stream",
     "text": [
      "Processing batch size: 32\n"
     ]
    },
    {
     "name": "stderr",
     "output_type": "stream",
     "text": [
      "Trial 1/20: Running 500 iterations: 100%|██████████| 500/500 [00:00<00:00, 795.11it/s]\n",
      "Trial 2/20: Running 500 iterations: 100%|██████████| 500/500 [00:00<00:00, 778.29it/s]\n",
      "Trial 3/20: Running 500 iterations: 100%|██████████| 500/500 [00:00<00:00, 785.90it/s]\n",
      "Trial 4/20: Running 500 iterations: 100%|██████████| 500/500 [00:00<00:00, 781.31it/s]\n",
      "Trial 5/20: Running 500 iterations: 100%|██████████| 500/500 [00:00<00:00, 776.44it/s]\n",
      "Trial 6/20: Running 500 iterations: 100%|██████████| 500/500 [00:00<00:00, 782.97it/s]\n",
      "Trial 7/20: Running 500 iterations: 100%|██████████| 500/500 [00:00<00:00, 761.75it/s]\n",
      "Trial 8/20: Running 500 iterations: 100%|██████████| 500/500 [00:00<00:00, 772.44it/s]\n",
      "Trial 9/20: Running 500 iterations: 100%|██████████| 500/500 [00:00<00:00, 785.36it/s]\n",
      "Trial 10/20: Running 500 iterations: 100%|██████████| 500/500 [00:00<00:00, 780.64it/s]\n",
      "Trial 11/20: Running 500 iterations: 100%|██████████| 500/500 [00:00<00:00, 770.77it/s]\n",
      "Trial 12/20: Running 500 iterations: 100%|██████████| 500/500 [00:00<00:00, 718.48it/s]\n",
      "Trial 13/20: Running 500 iterations: 100%|██████████| 500/500 [00:00<00:00, 679.34it/s]\n",
      "Trial 14/20: Running 500 iterations: 100%|██████████| 500/500 [00:00<00:00, 754.84it/s]\n",
      "Trial 15/20: Running 500 iterations: 100%|██████████| 500/500 [00:00<00:00, 811.95it/s]\n",
      "Trial 16/20: Running 500 iterations: 100%|██████████| 500/500 [00:00<00:00, 807.28it/s]\n",
      "Trial 17/20: Running 500 iterations: 100%|██████████| 500/500 [00:00<00:00, 806.23it/s]\n",
      "Trial 18/20: Running 500 iterations: 100%|██████████| 500/500 [00:00<00:00, 805.84it/s]\n",
      "Trial 19/20: Running 500 iterations: 100%|██████████| 500/500 [00:00<00:00, 808.85it/s]\n",
      "Trial 20/20: Running 500 iterations: 100%|██████████| 500/500 [00:00<00:00, 798.72it/s]\n",
      "Unsupported operator aten::max_pool2d encountered 3 time(s)\n",
      "Unsupported operator aten::add encountered 4 time(s)\n"
     ]
    },
    {
     "name": "stdout",
     "output_type": "stream",
     "text": [
      "Processing batch size: 64\n"
     ]
    },
    {
     "name": "stderr",
     "output_type": "stream",
     "text": [
      "Trial 1/20: Running 500 iterations: 100%|██████████| 500/500 [00:01<00:00, 424.36it/s]\n",
      "Trial 2/20: Running 500 iterations: 100%|██████████| 500/500 [00:01<00:00, 415.42it/s]\n",
      "Trial 3/20: Running 500 iterations: 100%|██████████| 500/500 [00:01<00:00, 419.48it/s]\n",
      "Trial 4/20: Running 500 iterations: 100%|██████████| 500/500 [00:01<00:00, 425.91it/s]\n",
      "Trial 5/20: Running 500 iterations: 100%|██████████| 500/500 [00:01<00:00, 416.02it/s]\n",
      "Trial 6/20: Running 500 iterations: 100%|██████████| 500/500 [00:01<00:00, 424.60it/s]\n",
      "Trial 7/20: Running 500 iterations: 100%|██████████| 500/500 [00:01<00:00, 420.93it/s]\n",
      "Trial 8/20: Running 500 iterations: 100%|██████████| 500/500 [00:01<00:00, 433.09it/s]\n",
      "Trial 9/20: Running 500 iterations: 100%|██████████| 500/500 [00:01<00:00, 433.05it/s]\n",
      "Trial 10/20: Running 500 iterations: 100%|██████████| 500/500 [00:01<00:00, 432.72it/s]\n",
      "Trial 11/20: Running 500 iterations: 100%|██████████| 500/500 [00:01<00:00, 431.93it/s]\n",
      "Trial 12/20: Running 500 iterations: 100%|██████████| 500/500 [00:01<00:00, 434.44it/s]\n",
      "Trial 13/20: Running 500 iterations: 100%|██████████| 500/500 [00:01<00:00, 433.52it/s]\n",
      "Trial 14/20: Running 500 iterations: 100%|██████████| 500/500 [00:01<00:00, 431.38it/s]\n",
      "Trial 15/20: Running 500 iterations: 100%|██████████| 500/500 [00:01<00:00, 429.72it/s]\n",
      "Trial 16/20: Running 500 iterations: 100%|██████████| 500/500 [00:01<00:00, 431.70it/s]\n",
      "Trial 17/20: Running 500 iterations: 100%|██████████| 500/500 [00:01<00:00, 432.61it/s]\n",
      "Trial 18/20: Running 500 iterations: 100%|██████████| 500/500 [00:01<00:00, 434.40it/s]\n",
      "Trial 19/20: Running 500 iterations: 100%|██████████| 500/500 [00:01<00:00, 432.78it/s]\n",
      "Trial 20/20: Running 500 iterations: 100%|██████████| 500/500 [00:01<00:00, 430.71it/s]\n",
      "Processing Models:   3%|▎         | 2/66 [03:16<1:42:02, 95.66s/it] Unsupported operator aten::max_pool2d encountered 3 time(s)\n",
      "Unsupported operator aten::add encountered 4 time(s)\n"
     ]
    },
    {
     "name": "stdout",
     "output_type": "stream",
     "text": [
      "Processing model: d:\\PruneLimit\\PruneLimitAnalyzer\\models\\AlexNet_DATASET_random_PD1_GPR-55_PRUNED_SEED_23.pth\n",
      "Processing batch size: 1\n"
     ]
    },
    {
     "name": "stderr",
     "output_type": "stream",
     "text": [
      "Trial 1/20: Running 500 iterations: 100%|██████████| 500/500 [00:00<00:00, 802.28it/s]\n",
      "Trial 2/20: Running 500 iterations: 100%|██████████| 500/500 [00:00<00:00, 808.61it/s]\n",
      "Trial 3/20: Running 500 iterations: 100%|██████████| 500/500 [00:00<00:00, 871.67it/s]\n",
      "Trial 4/20: Running 500 iterations: 100%|██████████| 500/500 [00:00<00:00, 785.54it/s]\n",
      "Trial 5/20: Running 500 iterations: 100%|██████████| 500/500 [00:00<00:00, 825.01it/s]\n",
      "Trial 6/20: Running 500 iterations: 100%|██████████| 500/500 [00:00<00:00, 833.31it/s]\n",
      "Trial 7/20: Running 500 iterations: 100%|██████████| 500/500 [00:00<00:00, 788.43it/s]\n",
      "Trial 8/20: Running 500 iterations: 100%|██████████| 500/500 [00:00<00:00, 804.85it/s]\n",
      "Trial 9/20: Running 500 iterations: 100%|██████████| 500/500 [00:00<00:00, 942.11it/s]\n",
      "Trial 10/20: Running 500 iterations: 100%|██████████| 500/500 [00:00<00:00, 950.13it/s]\n",
      "Trial 11/20: Running 500 iterations: 100%|██████████| 500/500 [00:00<00:00, 967.49it/s]\n",
      "Trial 12/20: Running 500 iterations: 100%|██████████| 500/500 [00:00<00:00, 970.63it/s]\n",
      "Trial 13/20: Running 500 iterations: 100%|██████████| 500/500 [00:00<00:00, 970.47it/s]\n",
      "Trial 14/20: Running 500 iterations: 100%|██████████| 500/500 [00:00<00:00, 885.08it/s]\n",
      "Trial 15/20: Running 500 iterations: 100%|██████████| 500/500 [00:00<00:00, 914.29it/s]\n",
      "Trial 16/20: Running 500 iterations: 100%|██████████| 500/500 [00:00<00:00, 965.98it/s]\n",
      "Trial 17/20: Running 500 iterations: 100%|██████████| 500/500 [00:00<00:00, 927.06it/s]\n",
      "Trial 18/20: Running 500 iterations: 100%|██████████| 500/500 [00:00<00:00, 907.14it/s]\n",
      "Trial 19/20: Running 500 iterations: 100%|██████████| 500/500 [00:00<00:00, 863.83it/s]\n",
      "Trial 20/20: Running 500 iterations: 100%|██████████| 500/500 [00:00<00:00, 970.42it/s]\n",
      "Unsupported operator aten::max_pool2d encountered 3 time(s)\n",
      "Unsupported operator aten::add encountered 4 time(s)\n"
     ]
    },
    {
     "name": "stdout",
     "output_type": "stream",
     "text": [
      "Processing batch size: 8\n"
     ]
    },
    {
     "name": "stderr",
     "output_type": "stream",
     "text": [
      "Trial 1/20: Running 500 iterations: 100%|██████████| 500/500 [00:00<00:00, 975.52it/s]\n",
      "Trial 2/20: Running 500 iterations: 100%|██████████| 500/500 [00:00<00:00, 838.15it/s]\n",
      "Trial 3/20: Running 500 iterations: 100%|██████████| 500/500 [00:00<00:00, 698.25it/s]\n",
      "Trial 4/20: Running 500 iterations: 100%|██████████| 500/500 [00:00<00:00, 592.47it/s]\n",
      "Trial 5/20: Running 500 iterations: 100%|██████████| 500/500 [00:00<00:00, 567.42it/s]\n",
      "Trial 6/20: Running 500 iterations: 100%|██████████| 500/500 [00:00<00:00, 614.03it/s]\n",
      "Trial 7/20: Running 500 iterations: 100%|██████████| 500/500 [00:00<00:00, 588.73it/s]\n",
      "Trial 8/20: Running 500 iterations: 100%|██████████| 500/500 [00:00<00:00, 598.47it/s]\n",
      "Trial 9/20: Running 500 iterations: 100%|██████████| 500/500 [00:00<00:00, 887.62it/s]\n",
      "Trial 10/20: Running 500 iterations: 100%|██████████| 500/500 [00:00<00:00, 960.70it/s]\n",
      "Trial 11/20: Running 500 iterations: 100%|██████████| 500/500 [00:00<00:00, 885.77it/s]\n",
      "Trial 12/20: Running 500 iterations: 100%|██████████| 500/500 [00:00<00:00, 849.34it/s]\n",
      "Trial 13/20: Running 500 iterations: 100%|██████████| 500/500 [00:00<00:00, 935.07it/s]\n",
      "Trial 14/20: Running 500 iterations: 100%|██████████| 500/500 [00:00<00:00, 959.91it/s]\n",
      "Trial 15/20: Running 500 iterations: 100%|██████████| 500/500 [00:00<00:00, 961.29it/s]\n",
      "Trial 16/20: Running 500 iterations: 100%|██████████| 500/500 [00:00<00:00, 960.26it/s]\n",
      "Trial 17/20: Running 500 iterations: 100%|██████████| 500/500 [00:00<00:00, 976.21it/s]\n",
      "Trial 18/20: Running 500 iterations: 100%|██████████| 500/500 [00:00<00:00, 906.70it/s]\n",
      "Trial 19/20: Running 500 iterations: 100%|██████████| 500/500 [00:00<00:00, 793.46it/s]\n",
      "Trial 20/20: Running 500 iterations: 100%|██████████| 500/500 [00:00<00:00, 979.13it/s]\n",
      "Unsupported operator aten::max_pool2d encountered 3 time(s)\n",
      "Unsupported operator aten::add encountered 4 time(s)\n"
     ]
    },
    {
     "name": "stdout",
     "output_type": "stream",
     "text": [
      "Processing batch size: 16\n"
     ]
    },
    {
     "name": "stderr",
     "output_type": "stream",
     "text": [
      "Trial 1/20: Running 500 iterations: 100%|██████████| 500/500 [00:00<00:00, 879.50it/s]\n",
      "Trial 2/20: Running 500 iterations: 100%|██████████| 500/500 [00:00<00:00, 822.14it/s]\n",
      "Trial 3/20: Running 500 iterations: 100%|██████████| 500/500 [00:00<00:00, 961.73it/s]\n",
      "Trial 4/20: Running 500 iterations: 100%|██████████| 500/500 [00:00<00:00, 946.55it/s]\n",
      "Trial 5/20: Running 500 iterations: 100%|██████████| 500/500 [00:00<00:00, 989.73it/s]\n",
      "Trial 6/20: Running 500 iterations: 100%|██████████| 500/500 [00:00<00:00, 973.39it/s]\n",
      "Trial 7/20: Running 500 iterations: 100%|██████████| 500/500 [00:00<00:00, 958.76it/s]\n",
      "Trial 8/20: Running 500 iterations: 100%|██████████| 500/500 [00:00<00:00, 937.37it/s]\n",
      "Trial 9/20: Running 500 iterations: 100%|██████████| 500/500 [00:00<00:00, 969.27it/s]\n",
      "Trial 10/20: Running 500 iterations: 100%|██████████| 500/500 [00:00<00:00, 852.74it/s]\n",
      "Trial 11/20: Running 500 iterations: 100%|██████████| 500/500 [00:00<00:00, 754.78it/s]\n",
      "Trial 12/20: Running 500 iterations: 100%|██████████| 500/500 [00:00<00:00, 702.75it/s]\n",
      "Trial 13/20: Running 500 iterations: 100%|██████████| 500/500 [00:00<00:00, 627.07it/s]\n",
      "Trial 14/20: Running 500 iterations: 100%|██████████| 500/500 [00:00<00:00, 614.12it/s]\n",
      "Trial 15/20: Running 500 iterations: 100%|██████████| 500/500 [00:00<00:00, 602.20it/s]\n",
      "Trial 16/20: Running 500 iterations: 100%|██████████| 500/500 [00:00<00:00, 699.55it/s]\n",
      "Trial 17/20: Running 500 iterations: 100%|██████████| 500/500 [00:00<00:00, 788.81it/s]\n",
      "Trial 18/20: Running 500 iterations: 100%|██████████| 500/500 [00:00<00:00, 779.90it/s]\n",
      "Trial 19/20: Running 500 iterations: 100%|██████████| 500/500 [00:00<00:00, 970.54it/s]\n",
      "Trial 20/20: Running 500 iterations: 100%|██████████| 500/500 [00:00<00:00, 884.53it/s]\n",
      "Unsupported operator aten::max_pool2d encountered 3 time(s)\n",
      "Unsupported operator aten::add encountered 4 time(s)\n"
     ]
    },
    {
     "name": "stdout",
     "output_type": "stream",
     "text": [
      "Processing batch size: 32\n"
     ]
    },
    {
     "name": "stderr",
     "output_type": "stream",
     "text": [
      "Trial 1/20: Running 500 iterations: 100%|██████████| 500/500 [00:00<00:00, 759.51it/s]\n",
      "Trial 2/20: Running 500 iterations: 100%|██████████| 500/500 [00:00<00:00, 739.61it/s]\n",
      "Trial 3/20: Running 500 iterations: 100%|██████████| 500/500 [00:00<00:00, 738.19it/s]\n",
      "Trial 4/20: Running 500 iterations: 100%|██████████| 500/500 [00:00<00:00, 745.93it/s]\n",
      "Trial 5/20: Running 500 iterations: 100%|██████████| 500/500 [00:00<00:00, 740.51it/s]\n",
      "Trial 6/20: Running 500 iterations: 100%|██████████| 500/500 [00:00<00:00, 732.19it/s]\n",
      "Trial 7/20: Running 500 iterations: 100%|██████████| 500/500 [00:00<00:00, 731.36it/s]\n",
      "Trial 8/20: Running 500 iterations: 100%|██████████| 500/500 [00:00<00:00, 742.02it/s]\n",
      "Trial 9/20: Running 500 iterations: 100%|██████████| 500/500 [00:00<00:00, 732.44it/s]\n",
      "Trial 10/20: Running 500 iterations: 100%|██████████| 500/500 [00:00<00:00, 747.24it/s]\n",
      "Trial 11/20: Running 500 iterations: 100%|██████████| 500/500 [00:00<00:00, 752.67it/s]\n",
      "Trial 12/20: Running 500 iterations: 100%|██████████| 500/500 [00:00<00:00, 757.79it/s]\n",
      "Trial 13/20: Running 500 iterations: 100%|██████████| 500/500 [00:00<00:00, 757.93it/s]\n",
      "Trial 14/20: Running 500 iterations: 100%|██████████| 500/500 [00:00<00:00, 763.95it/s]\n",
      "Trial 15/20: Running 500 iterations: 100%|██████████| 500/500 [00:00<00:00, 756.77it/s]\n",
      "Trial 16/20: Running 500 iterations: 100%|██████████| 500/500 [00:00<00:00, 766.39it/s]\n",
      "Trial 17/20: Running 500 iterations: 100%|██████████| 500/500 [00:00<00:00, 711.33it/s]\n",
      "Trial 18/20: Running 500 iterations: 100%|██████████| 500/500 [00:00<00:00, 652.85it/s]\n",
      "Trial 19/20: Running 500 iterations: 100%|██████████| 500/500 [00:00<00:00, 742.69it/s]\n",
      "Trial 20/20: Running 500 iterations: 100%|██████████| 500/500 [00:00<00:00, 762.90it/s]\n",
      "Unsupported operator aten::max_pool2d encountered 3 time(s)\n",
      "Unsupported operator aten::add encountered 4 time(s)\n"
     ]
    },
    {
     "name": "stdout",
     "output_type": "stream",
     "text": [
      "Processing batch size: 64\n"
     ]
    },
    {
     "name": "stderr",
     "output_type": "stream",
     "text": [
      "Trial 1/20: Running 500 iterations: 100%|██████████| 500/500 [00:01<00:00, 398.63it/s]\n",
      "Trial 2/20: Running 500 iterations: 100%|██████████| 500/500 [00:01<00:00, 395.00it/s]\n",
      "Trial 3/20: Running 500 iterations: 100%|██████████| 500/500 [00:01<00:00, 394.91it/s]\n",
      "Trial 4/20: Running 500 iterations: 100%|██████████| 500/500 [00:01<00:00, 402.82it/s]\n",
      "Trial 5/20: Running 500 iterations: 100%|██████████| 500/500 [00:01<00:00, 396.43it/s]\n",
      "Trial 6/20: Running 500 iterations: 100%|██████████| 500/500 [00:01<00:00, 392.00it/s]\n",
      "Trial 7/20: Running 500 iterations: 100%|██████████| 500/500 [00:01<00:00, 399.68it/s]\n",
      "Trial 8/20: Running 500 iterations: 100%|██████████| 500/500 [00:01<00:00, 404.72it/s]\n",
      "Trial 9/20: Running 500 iterations: 100%|██████████| 500/500 [00:01<00:00, 405.37it/s]\n",
      "Trial 10/20: Running 500 iterations: 100%|██████████| 500/500 [00:01<00:00, 403.87it/s]\n",
      "Trial 11/20: Running 500 iterations: 100%|██████████| 500/500 [00:01<00:00, 381.40it/s]\n",
      "Trial 12/20: Running 500 iterations: 100%|██████████| 500/500 [00:01<00:00, 404.42it/s]\n",
      "Trial 13/20: Running 500 iterations: 100%|██████████| 500/500 [00:01<00:00, 404.95it/s]\n",
      "Trial 14/20: Running 500 iterations: 100%|██████████| 500/500 [00:01<00:00, 405.36it/s]\n",
      "Trial 15/20: Running 500 iterations: 100%|██████████| 500/500 [00:01<00:00, 402.78it/s]\n",
      "Trial 16/20: Running 500 iterations: 100%|██████████| 500/500 [00:01<00:00, 402.41it/s]\n",
      "Trial 17/20: Running 500 iterations: 100%|██████████| 500/500 [00:01<00:00, 406.42it/s]\n",
      "Trial 18/20: Running 500 iterations: 100%|██████████| 500/500 [00:01<00:00, 402.15it/s]\n",
      "Trial 19/20: Running 500 iterations: 100%|██████████| 500/500 [00:01<00:00, 401.65it/s]\n",
      "Trial 20/20: Running 500 iterations: 100%|██████████| 500/500 [00:01<00:00, 404.48it/s]\n",
      "Processing Models:   5%|▍         | 3/66 [04:48<1:38:44, 94.04s/it]"
     ]
    },
    {
     "name": "stdout",
     "output_type": "stream",
     "text": [
      "Processing model: d:\\PruneLimit\\PruneLimitAnalyzer\\models\\AlexNet_DATASET_random_PD3_GPR-5_PRUNED_SEED_23.pth\n"
     ]
    },
    {
     "name": "stderr",
     "output_type": "stream",
     "text": [
      "Unsupported operator aten::max_pool2d encountered 3 time(s)\n",
      "Unsupported operator aten::add encountered 3 time(s)\n"
     ]
    },
    {
     "name": "stdout",
     "output_type": "stream",
     "text": [
      "Processing batch size: 1\n"
     ]
    },
    {
     "name": "stderr",
     "output_type": "stream",
     "text": [
      "Trial 1/20: Running 500 iterations: 100%|██████████| 500/500 [00:00<00:00, 1003.03it/s]\n",
      "Trial 2/20: Running 500 iterations: 100%|██████████| 500/500 [00:00<00:00, 993.98it/s]\n",
      "Trial 3/20: Running 500 iterations: 100%|██████████| 500/500 [00:00<00:00, 729.21it/s]\n",
      "Trial 4/20: Running 500 iterations: 100%|██████████| 500/500 [00:00<00:00, 756.42it/s]\n",
      "Trial 5/20: Running 500 iterations: 100%|██████████| 500/500 [00:00<00:00, 646.08it/s]\n",
      "Trial 6/20: Running 500 iterations: 100%|██████████| 500/500 [00:00<00:00, 605.03it/s]\n",
      "Trial 7/20: Running 500 iterations: 100%|██████████| 500/500 [00:00<00:00, 686.91it/s]\n",
      "Trial 8/20: Running 500 iterations: 100%|██████████| 500/500 [00:00<00:00, 599.35it/s]\n",
      "Trial 9/20: Running 500 iterations: 100%|██████████| 500/500 [00:00<00:00, 766.11it/s]\n",
      "Trial 10/20: Running 500 iterations: 100%|██████████| 500/500 [00:00<00:00, 896.94it/s]\n",
      "Trial 11/20: Running 500 iterations: 100%|██████████| 500/500 [00:00<00:00, 912.35it/s]\n",
      "Trial 12/20: Running 500 iterations: 100%|██████████| 500/500 [00:00<00:00, 913.62it/s]\n",
      "Trial 13/20: Running 500 iterations: 100%|██████████| 500/500 [00:00<00:00, 963.48it/s]\n",
      "Trial 14/20: Running 500 iterations: 100%|██████████| 500/500 [00:00<00:00, 1020.37it/s]\n",
      "Trial 15/20: Running 500 iterations: 100%|██████████| 500/500 [00:00<00:00, 993.71it/s]\n",
      "Trial 16/20: Running 500 iterations: 100%|██████████| 500/500 [00:00<00:00, 1022.22it/s]\n",
      "Trial 17/20: Running 500 iterations: 100%|██████████| 500/500 [00:00<00:00, 859.50it/s]\n",
      "Trial 18/20: Running 500 iterations: 100%|██████████| 500/500 [00:00<00:00, 863.36it/s]\n",
      "Trial 19/20: Running 500 iterations: 100%|██████████| 500/500 [00:00<00:00, 1028.98it/s]\n",
      "Trial 20/20: Running 500 iterations: 100%|██████████| 500/500 [00:00<00:00, 1040.45it/s]\n",
      "Unsupported operator aten::max_pool2d encountered 3 time(s)\n",
      "Unsupported operator aten::add encountered 3 time(s)\n"
     ]
    },
    {
     "name": "stdout",
     "output_type": "stream",
     "text": [
      "Processing batch size: 8\n"
     ]
    },
    {
     "name": "stderr",
     "output_type": "stream",
     "text": [
      "Trial 1/20: Running 500 iterations: 100%|██████████| 500/500 [00:00<00:00, 705.08it/s]\n",
      "Trial 2/20: Running 500 iterations: 100%|██████████| 500/500 [00:00<00:00, 708.03it/s]\n",
      "Trial 3/20: Running 500 iterations: 100%|██████████| 500/500 [00:00<00:00, 693.83it/s]\n",
      "Trial 4/20: Running 500 iterations: 100%|██████████| 500/500 [00:00<00:00, 687.35it/s]\n",
      "Trial 5/20: Running 500 iterations: 100%|██████████| 500/500 [00:00<00:00, 686.45it/s]\n",
      "Trial 6/20: Running 500 iterations: 100%|██████████| 500/500 [00:00<00:00, 714.58it/s]\n",
      "Trial 7/20: Running 500 iterations: 100%|██████████| 500/500 [00:00<00:00, 693.41it/s]\n",
      "Trial 8/20: Running 500 iterations: 100%|██████████| 500/500 [00:00<00:00, 699.20it/s]\n",
      "Trial 9/20: Running 500 iterations: 100%|██████████| 500/500 [00:00<00:00, 698.48it/s]\n",
      "Trial 10/20: Running 500 iterations: 100%|██████████| 500/500 [00:00<00:00, 708.19it/s]\n",
      "Trial 11/20: Running 500 iterations: 100%|██████████| 500/500 [00:00<00:00, 698.83it/s]\n",
      "Trial 12/20: Running 500 iterations: 100%|██████████| 500/500 [00:00<00:00, 694.95it/s]\n",
      "Trial 13/20: Running 500 iterations: 100%|██████████| 500/500 [00:00<00:00, 718.43it/s]\n",
      "Trial 14/20: Running 500 iterations: 100%|██████████| 500/500 [00:00<00:00, 701.43it/s]\n",
      "Trial 15/20: Running 500 iterations: 100%|██████████| 500/500 [00:00<00:00, 715.31it/s]\n",
      "Trial 16/20: Running 500 iterations: 100%|██████████| 500/500 [00:00<00:00, 713.22it/s]\n",
      "Trial 17/20: Running 500 iterations: 100%|██████████| 500/500 [00:00<00:00, 713.36it/s]\n",
      "Trial 18/20: Running 500 iterations: 100%|██████████| 500/500 [00:00<00:00, 713.38it/s]\n",
      "Trial 19/20: Running 500 iterations: 100%|██████████| 500/500 [00:00<00:00, 718.52it/s]\n",
      "Trial 20/20: Running 500 iterations: 100%|██████████| 500/500 [00:00<00:00, 712.24it/s]\n",
      "Unsupported operator aten::max_pool2d encountered 3 time(s)\n",
      "Unsupported operator aten::add encountered 3 time(s)\n"
     ]
    },
    {
     "name": "stdout",
     "output_type": "stream",
     "text": [
      "Processing batch size: 16\n"
     ]
    },
    {
     "name": "stderr",
     "output_type": "stream",
     "text": [
      "Trial 1/20: Running 500 iterations: 100%|██████████| 500/500 [00:01<00:00, 466.47it/s]\n",
      "Trial 2/20: Running 500 iterations: 100%|██████████| 500/500 [00:01<00:00, 476.65it/s]\n",
      "Trial 3/20: Running 500 iterations: 100%|██████████| 500/500 [00:01<00:00, 464.94it/s]\n",
      "Trial 4/20: Running 500 iterations: 100%|██████████| 500/500 [00:01<00:00, 464.87it/s]\n",
      "Trial 5/20: Running 500 iterations: 100%|██████████| 500/500 [00:01<00:00, 467.54it/s]\n",
      "Trial 6/20: Running 500 iterations: 100%|██████████| 500/500 [00:01<00:00, 473.21it/s]\n",
      "Trial 7/20: Running 500 iterations: 100%|██████████| 500/500 [00:01<00:00, 465.33it/s]\n",
      "Trial 8/20: Running 500 iterations: 100%|██████████| 500/500 [00:01<00:00, 474.41it/s]\n",
      "Trial 9/20: Running 500 iterations: 100%|██████████| 500/500 [00:01<00:00, 480.48it/s]\n",
      "Trial 10/20: Running 500 iterations: 100%|██████████| 500/500 [00:01<00:00, 479.13it/s]\n",
      "Trial 11/20: Running 500 iterations: 100%|██████████| 500/500 [00:01<00:00, 482.47it/s]\n",
      "Trial 12/20: Running 500 iterations: 100%|██████████| 500/500 [00:01<00:00, 478.71it/s]\n",
      "Trial 13/20: Running 500 iterations: 100%|██████████| 500/500 [00:01<00:00, 480.92it/s]\n",
      "Trial 14/20: Running 500 iterations: 100%|██████████| 500/500 [00:01<00:00, 482.44it/s]\n",
      "Trial 15/20: Running 500 iterations: 100%|██████████| 500/500 [00:01<00:00, 481.95it/s]\n",
      "Trial 16/20: Running 500 iterations: 100%|██████████| 500/500 [00:01<00:00, 481.60it/s]\n",
      "Trial 17/20: Running 500 iterations: 100%|██████████| 500/500 [00:01<00:00, 483.24it/s]\n",
      "Trial 18/20: Running 500 iterations: 100%|██████████| 500/500 [00:01<00:00, 481.02it/s]\n",
      "Trial 19/20: Running 500 iterations: 100%|██████████| 500/500 [00:01<00:00, 481.94it/s]\n",
      "Trial 20/20: Running 500 iterations: 100%|██████████| 500/500 [00:01<00:00, 480.56it/s]\n",
      "Unsupported operator aten::max_pool2d encountered 3 time(s)\n",
      "Unsupported operator aten::add encountered 3 time(s)\n"
     ]
    },
    {
     "name": "stdout",
     "output_type": "stream",
     "text": [
      "Processing batch size: 32\n"
     ]
    },
    {
     "name": "stderr",
     "output_type": "stream",
     "text": [
      "Trial 1/20: Running 500 iterations: 100%|██████████| 500/500 [00:01<00:00, 280.37it/s]\n",
      "Trial 2/20: Running 500 iterations: 100%|██████████| 500/500 [00:01<00:00, 277.58it/s]\n",
      "Trial 3/20: Running 500 iterations: 100%|██████████| 500/500 [00:01<00:00, 278.72it/s]\n",
      "Trial 4/20: Running 500 iterations: 100%|██████████| 500/500 [00:01<00:00, 281.01it/s]\n",
      "Trial 5/20: Running 500 iterations: 100%|██████████| 500/500 [00:01<00:00, 284.51it/s]\n",
      "Trial 6/20: Running 500 iterations: 100%|██████████| 500/500 [00:01<00:00, 286.65it/s]\n",
      "Trial 7/20: Running 500 iterations: 100%|██████████| 500/500 [00:01<00:00, 286.88it/s]\n",
      "Trial 8/20: Running 500 iterations: 100%|██████████| 500/500 [00:01<00:00, 288.04it/s]\n",
      "Trial 9/20: Running 500 iterations: 100%|██████████| 500/500 [00:01<00:00, 287.68it/s]\n",
      "Trial 10/20: Running 500 iterations: 100%|██████████| 500/500 [00:01<00:00, 287.49it/s]\n",
      "Trial 11/20: Running 500 iterations: 100%|██████████| 500/500 [00:01<00:00, 288.55it/s]\n",
      "Trial 12/20: Running 500 iterations: 100%|██████████| 500/500 [00:01<00:00, 286.39it/s]\n",
      "Trial 13/20: Running 500 iterations: 100%|██████████| 500/500 [00:01<00:00, 286.73it/s]\n",
      "Trial 14/20: Running 500 iterations: 100%|██████████| 500/500 [00:01<00:00, 288.54it/s]\n",
      "Trial 15/20: Running 500 iterations: 100%|██████████| 500/500 [00:01<00:00, 288.17it/s]\n",
      "Trial 16/20: Running 500 iterations: 100%|██████████| 500/500 [00:01<00:00, 287.37it/s]\n",
      "Trial 17/20: Running 500 iterations: 100%|██████████| 500/500 [00:01<00:00, 287.47it/s]\n",
      "Trial 18/20: Running 500 iterations: 100%|██████████| 500/500 [00:01<00:00, 287.31it/s]\n",
      "Trial 19/20: Running 500 iterations: 100%|██████████| 500/500 [00:01<00:00, 287.14it/s]\n",
      "Trial 20/20: Running 500 iterations: 100%|██████████| 500/500 [00:01<00:00, 287.28it/s]\n",
      "Unsupported operator aten::max_pool2d encountered 3 time(s)\n",
      "Unsupported operator aten::add encountered 3 time(s)\n"
     ]
    },
    {
     "name": "stdout",
     "output_type": "stream",
     "text": [
      "Processing batch size: 64\n"
     ]
    },
    {
     "name": "stderr",
     "output_type": "stream",
     "text": [
      "Trial 1/20: Running 500 iterations: 100%|██████████| 500/500 [00:03<00:00, 166.55it/s]\n",
      "Trial 2/20: Running 500 iterations: 100%|██████████| 500/500 [00:03<00:00, 165.97it/s]\n",
      "Trial 3/20: Running 500 iterations: 100%|██████████| 500/500 [00:02<00:00, 168.19it/s]\n",
      "Trial 4/20: Running 500 iterations: 100%|██████████| 500/500 [00:02<00:00, 171.44it/s]\n",
      "Trial 5/20: Running 500 iterations: 100%|██████████| 500/500 [00:02<00:00, 171.16it/s]\n",
      "Trial 6/20: Running 500 iterations: 100%|██████████| 500/500 [00:02<00:00, 171.44it/s]\n",
      "Trial 7/20: Running 500 iterations: 100%|██████████| 500/500 [00:02<00:00, 171.37it/s]\n",
      "Trial 8/20: Running 500 iterations: 100%|██████████| 500/500 [00:02<00:00, 170.81it/s]\n",
      "Trial 9/20: Running 500 iterations: 100%|██████████| 500/500 [00:02<00:00, 171.51it/s]\n",
      "Trial 10/20: Running 500 iterations: 100%|██████████| 500/500 [00:02<00:00, 171.42it/s]\n",
      "Trial 11/20: Running 500 iterations: 100%|██████████| 500/500 [00:02<00:00, 170.76it/s]\n",
      "Trial 12/20: Running 500 iterations: 100%|██████████| 500/500 [00:02<00:00, 171.04it/s]\n",
      "Trial 13/20: Running 500 iterations: 100%|██████████| 500/500 [00:02<00:00, 170.82it/s]\n",
      "Trial 14/20: Running 500 iterations: 100%|██████████| 500/500 [00:02<00:00, 170.84it/s]\n",
      "Trial 15/20: Running 500 iterations: 100%|██████████| 500/500 [00:02<00:00, 169.75it/s]\n",
      "Trial 16/20: Running 500 iterations: 100%|██████████| 500/500 [00:02<00:00, 170.54it/s]\n",
      "Trial 17/20: Running 500 iterations: 100%|██████████| 500/500 [00:02<00:00, 171.15it/s]\n",
      "Trial 18/20: Running 500 iterations: 100%|██████████| 500/500 [00:02<00:00, 171.10it/s]\n",
      "Trial 19/20: Running 500 iterations: 100%|██████████| 500/500 [00:02<00:00, 170.46it/s]\n",
      "Trial 20/20: Running 500 iterations: 100%|██████████| 500/500 [00:02<00:00, 170.82it/s]\n",
      "Processing Models:   6%|▌         | 4/66 [07:45<2:11:03, 126.83s/it]"
     ]
    },
    {
     "name": "stdout",
     "output_type": "stream",
     "text": [
      "Processing model: d:\\PruneLimit\\PruneLimitAnalyzer\\models\\AlexNet_DATASET_random_PD2_GPR-5_PRUNED_SEED_23.pth\n"
     ]
    },
    {
     "name": "stderr",
     "output_type": "stream",
     "text": [
      "Unsupported operator aten::max_pool2d encountered 3 time(s)\n",
      "Unsupported operator aten::add encountered 3 time(s)\n"
     ]
    },
    {
     "name": "stdout",
     "output_type": "stream",
     "text": [
      "Processing batch size: 1\n"
     ]
    },
    {
     "name": "stderr",
     "output_type": "stream",
     "text": [
      "Trial 1/20: Running 500 iterations: 100%|██████████| 500/500 [00:00<00:00, 692.08it/s]\n",
      "Trial 2/20: Running 500 iterations: 100%|██████████| 500/500 [00:00<00:00, 834.14it/s]\n",
      "Trial 3/20: Running 500 iterations: 100%|██████████| 500/500 [00:00<00:00, 741.87it/s]\n",
      "Trial 4/20: Running 500 iterations: 100%|██████████| 500/500 [00:00<00:00, 759.25it/s]\n",
      "Trial 5/20: Running 500 iterations: 100%|██████████| 500/500 [00:00<00:00, 698.37it/s]\n",
      "Trial 6/20: Running 500 iterations: 100%|██████████| 500/500 [00:00<00:00, 632.20it/s]\n",
      "Trial 7/20: Running 500 iterations: 100%|██████████| 500/500 [00:00<00:00, 795.15it/s]\n",
      "Trial 8/20: Running 500 iterations: 100%|██████████| 500/500 [00:00<00:00, 907.68it/s]\n",
      "Trial 9/20: Running 500 iterations: 100%|██████████| 500/500 [00:00<00:00, 853.46it/s]\n",
      "Trial 10/20: Running 500 iterations: 100%|██████████| 500/500 [00:00<00:00, 802.26it/s]\n",
      "Trial 11/20: Running 500 iterations: 100%|██████████| 500/500 [00:00<00:00, 894.90it/s]\n",
      "Trial 12/20: Running 500 iterations: 100%|██████████| 500/500 [00:00<00:00, 877.79it/s]\n",
      "Trial 13/20: Running 500 iterations: 100%|██████████| 500/500 [00:00<00:00, 893.04it/s]\n",
      "Trial 14/20: Running 500 iterations: 100%|██████████| 500/500 [00:00<00:00, 816.44it/s]\n",
      "Trial 15/20: Running 500 iterations: 100%|██████████| 500/500 [00:00<00:00, 987.20it/s] \n",
      "Trial 16/20: Running 500 iterations: 100%|██████████| 500/500 [00:00<00:00, 887.22it/s]\n",
      "Trial 17/20: Running 500 iterations: 100%|██████████| 500/500 [00:00<00:00, 837.56it/s]\n",
      "Trial 18/20: Running 500 iterations: 100%|██████████| 500/500 [00:00<00:00, 1046.18it/s]\n",
      "Trial 19/20: Running 500 iterations: 100%|██████████| 500/500 [00:00<00:00, 1054.97it/s]\n",
      "Trial 20/20: Running 500 iterations: 100%|██████████| 500/500 [00:00<00:00, 1066.24it/s]\n",
      "Unsupported operator aten::max_pool2d encountered 3 time(s)\n",
      "Unsupported operator aten::add encountered 3 time(s)\n"
     ]
    },
    {
     "name": "stdout",
     "output_type": "stream",
     "text": [
      "Processing batch size: 8\n"
     ]
    },
    {
     "name": "stderr",
     "output_type": "stream",
     "text": [
      "Trial 1/20: Running 500 iterations: 100%|██████████| 500/500 [00:00<00:00, 687.27it/s]\n",
      "Trial 2/20: Running 500 iterations: 100%|██████████| 500/500 [00:00<00:00, 682.13it/s]\n",
      "Trial 3/20: Running 500 iterations: 100%|██████████| 500/500 [00:00<00:00, 686.41it/s]\n",
      "Trial 4/20: Running 500 iterations: 100%|██████████| 500/500 [00:00<00:00, 675.87it/s]\n",
      "Trial 5/20: Running 500 iterations: 100%|██████████| 500/500 [00:00<00:00, 683.36it/s]\n",
      "Trial 6/20: Running 500 iterations: 100%|██████████| 500/500 [00:00<00:00, 675.29it/s]\n",
      "Trial 7/20: Running 500 iterations: 100%|██████████| 500/500 [00:00<00:00, 690.36it/s]\n",
      "Trial 8/20: Running 500 iterations: 100%|██████████| 500/500 [00:00<00:00, 689.75it/s]\n",
      "Trial 9/20: Running 500 iterations: 100%|██████████| 500/500 [00:00<00:00, 693.53it/s]\n",
      "Trial 10/20: Running 500 iterations: 100%|██████████| 500/500 [00:00<00:00, 657.27it/s]\n",
      "Trial 11/20: Running 500 iterations: 100%|██████████| 500/500 [00:00<00:00, 649.39it/s]\n",
      "Trial 12/20: Running 500 iterations: 100%|██████████| 500/500 [00:00<00:00, 659.59it/s]\n",
      "Trial 13/20: Running 500 iterations: 100%|██████████| 500/500 [00:00<00:00, 672.59it/s]\n",
      "Trial 14/20: Running 500 iterations: 100%|██████████| 500/500 [00:00<00:00, 698.13it/s]\n",
      "Trial 15/20: Running 500 iterations: 100%|██████████| 500/500 [00:00<00:00, 691.53it/s]\n",
      "Trial 16/20: Running 500 iterations: 100%|██████████| 500/500 [00:00<00:00, 698.28it/s]\n",
      "Trial 17/20: Running 500 iterations: 100%|██████████| 500/500 [00:00<00:00, 705.04it/s]\n",
      "Trial 18/20: Running 500 iterations: 100%|██████████| 500/500 [00:00<00:00, 696.41it/s]\n",
      "Trial 19/20: Running 500 iterations: 100%|██████████| 500/500 [00:00<00:00, 699.50it/s]\n",
      "Trial 20/20: Running 500 iterations: 100%|██████████| 500/500 [00:00<00:00, 698.83it/s]\n",
      "Unsupported operator aten::max_pool2d encountered 3 time(s)\n",
      "Unsupported operator aten::add encountered 3 time(s)\n"
     ]
    },
    {
     "name": "stdout",
     "output_type": "stream",
     "text": [
      "Processing batch size: 16\n"
     ]
    },
    {
     "name": "stderr",
     "output_type": "stream",
     "text": [
      "Trial 1/20: Running 500 iterations: 100%|██████████| 500/500 [00:01<00:00, 474.11it/s]\n",
      "Trial 2/20: Running 500 iterations: 100%|██████████| 500/500 [00:01<00:00, 477.75it/s]\n",
      "Trial 3/20: Running 500 iterations: 100%|██████████| 500/500 [00:01<00:00, 474.52it/s]\n",
      "Trial 4/20: Running 500 iterations: 100%|██████████| 500/500 [00:01<00:00, 474.38it/s]\n",
      "Trial 5/20: Running 500 iterations: 100%|██████████| 500/500 [00:01<00:00, 477.41it/s]\n",
      "Trial 6/20: Running 500 iterations: 100%|██████████| 500/500 [00:01<00:00, 472.51it/s]\n",
      "Trial 7/20: Running 500 iterations: 100%|██████████| 500/500 [00:01<00:00, 472.38it/s]\n",
      "Trial 8/20: Running 500 iterations: 100%|██████████| 500/500 [00:01<00:00, 475.54it/s]\n",
      "Trial 9/20: Running 500 iterations: 100%|██████████| 500/500 [00:01<00:00, 479.53it/s]\n",
      "Trial 10/20: Running 500 iterations: 100%|██████████| 500/500 [00:01<00:00, 484.76it/s]\n",
      "Trial 11/20: Running 500 iterations: 100%|██████████| 500/500 [00:01<00:00, 484.80it/s]\n",
      "Trial 12/20: Running 500 iterations: 100%|██████████| 500/500 [00:01<00:00, 482.36it/s]\n",
      "Trial 13/20: Running 500 iterations: 100%|██████████| 500/500 [00:01<00:00, 484.89it/s]\n",
      "Trial 14/20: Running 500 iterations: 100%|██████████| 500/500 [00:01<00:00, 484.31it/s]\n",
      "Trial 15/20: Running 500 iterations: 100%|██████████| 500/500 [00:01<00:00, 484.38it/s]\n",
      "Trial 16/20: Running 500 iterations: 100%|██████████| 500/500 [00:01<00:00, 482.44it/s]\n",
      "Trial 17/20: Running 500 iterations: 100%|██████████| 500/500 [00:01<00:00, 483.33it/s]\n",
      "Trial 18/20: Running 500 iterations: 100%|██████████| 500/500 [00:01<00:00, 483.92it/s]\n",
      "Trial 19/20: Running 500 iterations: 100%|██████████| 500/500 [00:01<00:00, 483.88it/s]\n",
      "Trial 20/20: Running 500 iterations: 100%|██████████| 500/500 [00:01<00:00, 483.86it/s]\n",
      "Unsupported operator aten::max_pool2d encountered 3 time(s)\n",
      "Unsupported operator aten::add encountered 3 time(s)\n"
     ]
    },
    {
     "name": "stdout",
     "output_type": "stream",
     "text": [
      "Processing batch size: 32\n"
     ]
    },
    {
     "name": "stderr",
     "output_type": "stream",
     "text": [
      "Trial 1/20: Running 500 iterations: 100%|██████████| 500/500 [00:01<00:00, 268.52it/s]\n",
      "Trial 2/20: Running 500 iterations: 100%|██████████| 500/500 [00:01<00:00, 268.32it/s]\n",
      "Trial 3/20: Running 500 iterations: 100%|██████████| 500/500 [00:01<00:00, 270.80it/s]\n",
      "Trial 4/20: Running 500 iterations: 100%|██████████| 500/500 [00:01<00:00, 270.49it/s]\n",
      "Trial 5/20: Running 500 iterations: 100%|██████████| 500/500 [00:01<00:00, 275.21it/s]\n",
      "Trial 6/20: Running 500 iterations: 100%|██████████| 500/500 [00:01<00:00, 276.57it/s]\n",
      "Trial 7/20: Running 500 iterations: 100%|██████████| 500/500 [00:01<00:00, 277.21it/s]\n",
      "Trial 8/20: Running 500 iterations: 100%|██████████| 500/500 [00:01<00:00, 275.77it/s]\n",
      "Trial 9/20: Running 500 iterations: 100%|██████████| 500/500 [00:01<00:00, 277.24it/s]\n",
      "Trial 10/20: Running 500 iterations: 100%|██████████| 500/500 [00:01<00:00, 276.30it/s]\n",
      "Trial 11/20: Running 500 iterations: 100%|██████████| 500/500 [00:01<00:00, 277.79it/s]\n",
      "Trial 12/20: Running 500 iterations: 100%|██████████| 500/500 [00:01<00:00, 277.35it/s]\n",
      "Trial 13/20: Running 500 iterations: 100%|██████████| 500/500 [00:01<00:00, 277.83it/s]\n",
      "Trial 14/20: Running 500 iterations: 100%|██████████| 500/500 [00:01<00:00, 276.52it/s]\n",
      "Trial 15/20: Running 500 iterations: 100%|██████████| 500/500 [00:01<00:00, 277.57it/s]\n",
      "Trial 16/20: Running 500 iterations: 100%|██████████| 500/500 [00:01<00:00, 277.31it/s]\n",
      "Trial 17/20: Running 500 iterations: 100%|██████████| 500/500 [00:01<00:00, 277.44it/s]\n",
      "Trial 18/20: Running 500 iterations: 100%|██████████| 500/500 [00:01<00:00, 277.79it/s]\n",
      "Trial 19/20: Running 500 iterations: 100%|██████████| 500/500 [00:01<00:00, 277.85it/s]\n",
      "Trial 20/20: Running 500 iterations: 100%|██████████| 500/500 [00:01<00:00, 278.23it/s]\n",
      "Unsupported operator aten::max_pool2d encountered 3 time(s)\n",
      "Unsupported operator aten::add encountered 3 time(s)\n"
     ]
    },
    {
     "name": "stdout",
     "output_type": "stream",
     "text": [
      "Processing batch size: 64\n"
     ]
    },
    {
     "name": "stderr",
     "output_type": "stream",
     "text": [
      "Trial 1/20: Running 500 iterations: 100%|██████████| 500/500 [00:03<00:00, 160.82it/s]\n",
      "Trial 2/20: Running 500 iterations: 100%|██████████| 500/500 [00:03<00:00, 160.75it/s]\n",
      "Trial 3/20: Running 500 iterations: 100%|██████████| 500/500 [00:03<00:00, 162.94it/s]\n",
      "Trial 4/20: Running 500 iterations: 100%|██████████| 500/500 [00:03<00:00, 165.33it/s]\n",
      "Trial 5/20: Running 500 iterations: 100%|██████████| 500/500 [00:03<00:00, 165.63it/s]\n",
      "Trial 6/20: Running 500 iterations: 100%|██████████| 500/500 [00:03<00:00, 165.55it/s]\n",
      "Trial 7/20: Running 500 iterations: 100%|██████████| 500/500 [00:03<00:00, 165.14it/s]\n",
      "Trial 8/20: Running 500 iterations: 100%|██████████| 500/500 [00:03<00:00, 165.21it/s]\n",
      "Trial 9/20: Running 500 iterations: 100%|██████████| 500/500 [00:03<00:00, 165.38it/s]\n",
      "Trial 10/20: Running 500 iterations: 100%|██████████| 500/500 [00:03<00:00, 165.41it/s]\n",
      "Trial 11/20: Running 500 iterations: 100%|██████████| 500/500 [00:03<00:00, 165.07it/s]\n",
      "Trial 12/20: Running 500 iterations: 100%|██████████| 500/500 [00:03<00:00, 165.46it/s]\n",
      "Trial 13/20: Running 500 iterations: 100%|██████████| 500/500 [00:03<00:00, 165.16it/s]\n",
      "Trial 14/20: Running 500 iterations: 100%|██████████| 500/500 [00:03<00:00, 165.24it/s]\n",
      "Trial 15/20: Running 500 iterations: 100%|██████████| 500/500 [00:03<00:00, 165.26it/s]\n",
      "Trial 16/20: Running 500 iterations: 100%|██████████| 500/500 [00:03<00:00, 165.28it/s]\n",
      "Trial 17/20: Running 500 iterations: 100%|██████████| 500/500 [00:03<00:00, 165.18it/s]\n",
      "Trial 18/20: Running 500 iterations: 100%|██████████| 500/500 [00:03<00:00, 165.27it/s]\n",
      "Trial 19/20: Running 500 iterations: 100%|██████████| 500/500 [00:03<00:00, 165.58it/s]\n",
      "Trial 20/20: Running 500 iterations: 100%|██████████| 500/500 [00:03<00:00, 165.41it/s]\n",
      "Processing Models:   8%|▊         | 5/66 [10:46<2:28:43, 146.29s/it]"
     ]
    },
    {
     "name": "stdout",
     "output_type": "stream",
     "text": [
      "Processing model: d:\\PruneLimit\\PruneLimitAnalyzer\\models\\AlexNet_DATASET_random_PD1_GPR-10_PRUNED_SEED_23.pth\n"
     ]
    },
    {
     "name": "stderr",
     "output_type": "stream",
     "text": [
      "Unsupported operator aten::max_pool2d encountered 3 time(s)\n",
      "Unsupported operator aten::add encountered 4 time(s)\n"
     ]
    },
    {
     "name": "stdout",
     "output_type": "stream",
     "text": [
      "Processing batch size: 1\n"
     ]
    },
    {
     "name": "stderr",
     "output_type": "stream",
     "text": [
      "Trial 1/20: Running 500 iterations: 100%|██████████| 500/500 [00:00<00:00, 601.60it/s]\n",
      "Trial 2/20: Running 500 iterations: 100%|██████████| 500/500 [00:00<00:00, 683.25it/s]\n",
      "Trial 3/20: Running 500 iterations: 100%|██████████| 500/500 [00:00<00:00, 789.82it/s]\n",
      "Trial 4/20: Running 500 iterations: 100%|██████████| 500/500 [00:00<00:00, 768.75it/s]\n",
      "Trial 5/20: Running 500 iterations: 100%|██████████| 500/500 [00:00<00:00, 852.22it/s]\n",
      "Trial 6/20: Running 500 iterations: 100%|██████████| 500/500 [00:00<00:00, 834.42it/s]\n",
      "Trial 7/20: Running 500 iterations: 100%|██████████| 500/500 [00:00<00:00, 864.85it/s]\n",
      "Trial 8/20: Running 500 iterations: 100%|██████████| 500/500 [00:00<00:00, 790.80it/s]\n",
      "Trial 9/20: Running 500 iterations: 100%|██████████| 500/500 [00:00<00:00, 929.29it/s]\n",
      "Trial 10/20: Running 500 iterations: 100%|██████████| 500/500 [00:00<00:00, 776.13it/s]\n",
      "Trial 11/20: Running 500 iterations: 100%|██████████| 500/500 [00:00<00:00, 970.64it/s]\n",
      "Trial 12/20: Running 500 iterations: 100%|██████████| 500/500 [00:00<00:00, 723.18it/s]\n",
      "Trial 13/20: Running 500 iterations: 100%|██████████| 500/500 [00:00<00:00, 775.41it/s]\n",
      "Trial 14/20: Running 500 iterations: 100%|██████████| 500/500 [00:00<00:00, 804.31it/s]\n",
      "Trial 15/20: Running 500 iterations: 100%|██████████| 500/500 [00:00<00:00, 976.54it/s]\n",
      "Trial 16/20: Running 500 iterations: 100%|██████████| 500/500 [00:00<00:00, 965.68it/s]\n",
      "Trial 17/20: Running 500 iterations: 100%|██████████| 500/500 [00:00<00:00, 926.05it/s]\n",
      "Trial 18/20: Running 500 iterations: 100%|██████████| 500/500 [00:00<00:00, 972.85it/s]\n",
      "Trial 19/20: Running 500 iterations: 100%|██████████| 500/500 [00:00<00:00, 896.76it/s]\n",
      "Trial 20/20: Running 500 iterations: 100%|██████████| 500/500 [00:00<00:00, 939.62it/s]\n",
      "Unsupported operator aten::max_pool2d encountered 3 time(s)\n",
      "Unsupported operator aten::add encountered 4 time(s)\n"
     ]
    },
    {
     "name": "stdout",
     "output_type": "stream",
     "text": [
      "Processing batch size: 8\n"
     ]
    },
    {
     "name": "stderr",
     "output_type": "stream",
     "text": [
      "Trial 1/20: Running 500 iterations: 100%|██████████| 500/500 [00:00<00:00, 693.31it/s]\n",
      "Trial 2/20: Running 500 iterations: 100%|██████████| 500/500 [00:00<00:00, 699.17it/s]\n",
      "Trial 3/20: Running 500 iterations: 100%|██████████| 500/500 [00:00<00:00, 689.39it/s]\n",
      "Trial 4/20: Running 500 iterations: 100%|██████████| 500/500 [00:00<00:00, 678.62it/s]\n",
      "Trial 5/20: Running 500 iterations: 100%|██████████| 500/500 [00:00<00:00, 703.06it/s]\n",
      "Trial 6/20: Running 500 iterations: 100%|██████████| 500/500 [00:00<00:00, 684.28it/s]\n",
      "Trial 7/20: Running 500 iterations: 100%|██████████| 500/500 [00:00<00:00, 678.35it/s]\n",
      "Trial 8/20: Running 500 iterations: 100%|██████████| 500/500 [00:00<00:00, 688.88it/s]\n",
      "Trial 9/20: Running 500 iterations: 100%|██████████| 500/500 [00:00<00:00, 686.90it/s]\n",
      "Trial 10/20: Running 500 iterations: 100%|██████████| 500/500 [00:00<00:00, 684.15it/s]\n",
      "Trial 11/20: Running 500 iterations: 100%|██████████| 500/500 [00:00<00:00, 698.02it/s]\n",
      "Trial 12/20: Running 500 iterations: 100%|██████████| 500/500 [00:00<00:00, 697.75it/s]\n",
      "Trial 13/20: Running 500 iterations: 100%|██████████| 500/500 [00:00<00:00, 702.28it/s]\n",
      "Trial 14/20: Running 500 iterations: 100%|██████████| 500/500 [00:00<00:00, 712.28it/s]\n",
      "Trial 15/20: Running 500 iterations: 100%|██████████| 500/500 [00:00<00:00, 705.48it/s]\n",
      "Trial 16/20: Running 500 iterations: 100%|██████████| 500/500 [00:00<00:00, 712.02it/s]\n",
      "Trial 17/20: Running 500 iterations: 100%|██████████| 500/500 [00:00<00:00, 704.26it/s]\n",
      "Trial 18/20: Running 500 iterations: 100%|██████████| 500/500 [00:00<00:00, 690.27it/s]\n",
      "Trial 19/20: Running 500 iterations: 100%|██████████| 500/500 [00:00<00:00, 711.28it/s]\n",
      "Trial 20/20: Running 500 iterations: 100%|██████████| 500/500 [00:00<00:00, 704.11it/s]\n",
      "Unsupported operator aten::max_pool2d encountered 3 time(s)\n",
      "Unsupported operator aten::add encountered 4 time(s)\n"
     ]
    },
    {
     "name": "stdout",
     "output_type": "stream",
     "text": [
      "Processing batch size: 16\n"
     ]
    },
    {
     "name": "stderr",
     "output_type": "stream",
     "text": [
      "Trial 1/20: Running 500 iterations: 100%|██████████| 500/500 [00:01<00:00, 485.48it/s]\n",
      "Trial 2/20: Running 500 iterations: 100%|██████████| 500/500 [00:01<00:00, 484.02it/s]\n",
      "Trial 3/20: Running 500 iterations: 100%|██████████| 500/500 [00:01<00:00, 479.52it/s]\n",
      "Trial 4/20: Running 500 iterations: 100%|██████████| 500/500 [00:01<00:00, 477.52it/s]\n",
      "Trial 5/20: Running 500 iterations: 100%|██████████| 500/500 [00:01<00:00, 487.82it/s]\n",
      "Trial 6/20: Running 500 iterations: 100%|██████████| 500/500 [00:01<00:00, 476.10it/s]\n",
      "Trial 7/20: Running 500 iterations: 100%|██████████| 500/500 [00:01<00:00, 482.94it/s]\n",
      "Trial 8/20: Running 500 iterations: 100%|██████████| 500/500 [00:01<00:00, 482.49it/s]\n",
      "Trial 9/20: Running 500 iterations: 100%|██████████| 500/500 [00:01<00:00, 494.59it/s]\n",
      "Trial 10/20: Running 500 iterations: 100%|██████████| 500/500 [00:01<00:00, 498.09it/s]\n",
      "Trial 11/20: Running 500 iterations: 100%|██████████| 500/500 [00:01<00:00, 495.98it/s]\n",
      "Trial 12/20: Running 500 iterations: 100%|██████████| 500/500 [00:01<00:00, 493.47it/s]\n",
      "Trial 13/20: Running 500 iterations: 100%|██████████| 500/500 [00:01<00:00, 494.29it/s]\n",
      "Trial 14/20: Running 500 iterations: 100%|██████████| 500/500 [00:01<00:00, 492.10it/s]\n",
      "Trial 15/20: Running 500 iterations: 100%|██████████| 500/500 [00:01<00:00, 491.90it/s]\n",
      "Trial 16/20: Running 500 iterations: 100%|██████████| 500/500 [00:01<00:00, 489.70it/s]\n",
      "Trial 17/20: Running 500 iterations: 100%|██████████| 500/500 [00:01<00:00, 494.79it/s]\n",
      "Trial 18/20: Running 500 iterations: 100%|██████████| 500/500 [00:01<00:00, 492.93it/s]\n",
      "Trial 19/20: Running 500 iterations: 100%|██████████| 500/500 [00:01<00:00, 491.73it/s]\n",
      "Trial 20/20: Running 500 iterations: 100%|██████████| 500/500 [00:01<00:00, 493.45it/s]\n",
      "Unsupported operator aten::max_pool2d encountered 3 time(s)\n",
      "Unsupported operator aten::add encountered 4 time(s)\n"
     ]
    },
    {
     "name": "stdout",
     "output_type": "stream",
     "text": [
      "Processing batch size: 32\n"
     ]
    },
    {
     "name": "stderr",
     "output_type": "stream",
     "text": [
      "Trial 1/20: Running 500 iterations: 100%|██████████| 500/500 [00:01<00:00, 279.70it/s]\n",
      "Trial 2/20: Running 500 iterations: 100%|██████████| 500/500 [00:01<00:00, 279.76it/s]\n",
      "Trial 3/20: Running 500 iterations: 100%|██████████| 500/500 [00:01<00:00, 280.63it/s]\n",
      "Trial 4/20: Running 500 iterations: 100%|██████████| 500/500 [00:01<00:00, 277.64it/s]\n",
      "Trial 5/20: Running 500 iterations: 100%|██████████| 500/500 [00:01<00:00, 281.72it/s]\n",
      "Trial 6/20: Running 500 iterations: 100%|██████████| 500/500 [00:01<00:00, 284.49it/s]\n",
      "Trial 7/20: Running 500 iterations: 100%|██████████| 500/500 [00:01<00:00, 286.01it/s]\n",
      "Trial 8/20: Running 500 iterations: 100%|██████████| 500/500 [00:01<00:00, 286.79it/s]\n",
      "Trial 9/20: Running 500 iterations: 100%|██████████| 500/500 [00:01<00:00, 285.68it/s]\n",
      "Trial 10/20: Running 500 iterations: 100%|██████████| 500/500 [00:01<00:00, 286.52it/s]\n",
      "Trial 11/20: Running 500 iterations: 100%|██████████| 500/500 [00:01<00:00, 286.33it/s]\n",
      "Trial 12/20: Running 500 iterations: 100%|██████████| 500/500 [00:01<00:00, 285.64it/s]\n",
      "Trial 13/20: Running 500 iterations: 100%|██████████| 500/500 [00:01<00:00, 283.54it/s]\n",
      "Trial 14/20: Running 500 iterations: 100%|██████████| 500/500 [00:01<00:00, 285.81it/s]\n",
      "Trial 15/20: Running 500 iterations: 100%|██████████| 500/500 [00:01<00:00, 286.50it/s]\n",
      "Trial 16/20: Running 500 iterations: 100%|██████████| 500/500 [00:01<00:00, 286.47it/s]\n",
      "Trial 17/20: Running 500 iterations: 100%|██████████| 500/500 [00:01<00:00, 285.72it/s]\n",
      "Trial 18/20: Running 500 iterations: 100%|██████████| 500/500 [00:01<00:00, 287.09it/s]\n",
      "Trial 19/20: Running 500 iterations: 100%|██████████| 500/500 [00:01<00:00, 285.76it/s]\n",
      "Trial 20/20: Running 500 iterations: 100%|██████████| 500/500 [00:01<00:00, 286.52it/s]\n",
      "Unsupported operator aten::max_pool2d encountered 3 time(s)\n",
      "Unsupported operator aten::add encountered 4 time(s)\n"
     ]
    },
    {
     "name": "stdout",
     "output_type": "stream",
     "text": [
      "Processing batch size: 64\n"
     ]
    },
    {
     "name": "stderr",
     "output_type": "stream",
     "text": [
      "Trial 1/20: Running 500 iterations: 100%|██████████| 500/500 [00:03<00:00, 165.41it/s]\n",
      "Trial 2/20: Running 500 iterations: 100%|██████████| 500/500 [00:03<00:00, 164.16it/s]\n",
      "Trial 3/20: Running 500 iterations: 100%|██████████| 500/500 [00:03<00:00, 166.28it/s]\n",
      "Trial 4/20: Running 500 iterations: 100%|██████████| 500/500 [00:02<00:00, 169.06it/s]\n",
      "Trial 5/20: Running 500 iterations: 100%|██████████| 500/500 [00:02<00:00, 169.25it/s]\n",
      "Trial 6/20: Running 500 iterations: 100%|██████████| 500/500 [00:02<00:00, 169.18it/s]\n",
      "Trial 7/20: Running 500 iterations: 100%|██████████| 500/500 [00:02<00:00, 169.45it/s]\n",
      "Trial 8/20: Running 500 iterations: 100%|██████████| 500/500 [00:02<00:00, 168.80it/s]\n",
      "Trial 9/20: Running 500 iterations: 100%|██████████| 500/500 [00:02<00:00, 169.41it/s]\n",
      "Trial 10/20: Running 500 iterations: 100%|██████████| 500/500 [00:02<00:00, 169.39it/s]\n",
      "Trial 11/20: Running 500 iterations: 100%|██████████| 500/500 [00:02<00:00, 169.46it/s]\n",
      "Trial 12/20: Running 500 iterations: 100%|██████████| 500/500 [00:02<00:00, 169.36it/s]\n",
      "Trial 13/20: Running 500 iterations: 100%|██████████| 500/500 [00:02<00:00, 169.38it/s]\n",
      "Trial 14/20: Running 500 iterations: 100%|██████████| 500/500 [00:02<00:00, 169.15it/s]\n",
      "Trial 15/20: Running 500 iterations: 100%|██████████| 500/500 [00:02<00:00, 169.70it/s]\n",
      "Trial 16/20: Running 500 iterations: 100%|██████████| 500/500 [00:02<00:00, 169.37it/s]\n",
      "Trial 17/20: Running 500 iterations: 100%|██████████| 500/500 [00:02<00:00, 169.75it/s]\n",
      "Trial 18/20: Running 500 iterations: 100%|██████████| 500/500 [00:02<00:00, 169.40it/s]\n",
      "Trial 19/20: Running 500 iterations: 100%|██████████| 500/500 [00:02<00:00, 169.41it/s]\n",
      "Trial 20/20: Running 500 iterations: 100%|██████████| 500/500 [00:02<00:00, 169.40it/s]\n",
      "Processing Models:   9%|▉         | 6/66 [13:42<2:36:36, 156.61s/it]Unsupported operator aten::max_pool2d encountered 3 time(s)\n",
      "Unsupported operator aten::add encountered 4 time(s)\n"
     ]
    },
    {
     "name": "stdout",
     "output_type": "stream",
     "text": [
      "Processing model: d:\\PruneLimit\\PruneLimitAnalyzer\\models\\AlexNet_DATASET_random_PD1_GPR-40_PRUNED_SEED_23.pth\n",
      "Processing batch size: 1\n"
     ]
    },
    {
     "name": "stderr",
     "output_type": "stream",
     "text": [
      "Trial 1/20: Running 500 iterations: 100%|██████████| 500/500 [00:00<00:00, 877.76it/s]\n",
      "Trial 2/20: Running 500 iterations: 100%|██████████| 500/500 [00:00<00:00, 832.82it/s]\n",
      "Trial 3/20: Running 500 iterations: 100%|██████████| 500/500 [00:00<00:00, 791.32it/s]\n",
      "Trial 4/20: Running 500 iterations: 100%|██████████| 500/500 [00:00<00:00, 516.52it/s]\n",
      "Trial 5/20: Running 500 iterations: 100%|██████████| 500/500 [00:00<00:00, 989.46it/s]\n",
      "Trial 6/20: Running 500 iterations: 100%|██████████| 500/500 [00:00<00:00, 758.44it/s]\n",
      "Trial 7/20: Running 500 iterations: 100%|██████████| 500/500 [00:00<00:00, 839.43it/s]\n",
      "Trial 8/20: Running 500 iterations: 100%|██████████| 500/500 [00:00<00:00, 985.24it/s]\n",
      "Trial 9/20: Running 500 iterations: 100%|██████████| 500/500 [00:00<00:00, 1001.11it/s]\n",
      "Trial 10/20: Running 500 iterations: 100%|██████████| 500/500 [00:00<00:00, 813.28it/s]\n",
      "Trial 11/20: Running 500 iterations: 100%|██████████| 500/500 [00:00<00:00, 953.48it/s]\n",
      "Trial 12/20: Running 500 iterations: 100%|██████████| 500/500 [00:00<00:00, 952.92it/s]\n",
      "Trial 13/20: Running 500 iterations: 100%|██████████| 500/500 [00:00<00:00, 974.38it/s]\n",
      "Trial 14/20: Running 500 iterations: 100%|██████████| 500/500 [00:00<00:00, 1003.04it/s]\n",
      "Trial 15/20: Running 500 iterations: 100%|██████████| 500/500 [00:00<00:00, 950.23it/s]\n",
      "Trial 16/20: Running 500 iterations: 100%|██████████| 500/500 [00:00<00:00, 957.96it/s]\n",
      "Trial 17/20: Running 500 iterations: 100%|██████████| 500/500 [00:00<00:00, 982.11it/s]\n",
      "Trial 18/20: Running 500 iterations: 100%|██████████| 500/500 [00:00<00:00, 652.64it/s]\n",
      "Trial 19/20: Running 500 iterations: 100%|██████████| 500/500 [00:00<00:00, 583.75it/s]\n",
      "Trial 20/20: Running 500 iterations: 100%|██████████| 500/500 [00:00<00:00, 785.23it/s]\n",
      "Unsupported operator aten::max_pool2d encountered 3 time(s)\n",
      "Unsupported operator aten::add encountered 4 time(s)\n"
     ]
    },
    {
     "name": "stdout",
     "output_type": "stream",
     "text": [
      "Processing batch size: 8\n"
     ]
    },
    {
     "name": "stderr",
     "output_type": "stream",
     "text": [
      "Trial 1/20: Running 500 iterations: 100%|██████████| 500/500 [00:00<00:00, 811.28it/s]\n",
      "Trial 2/20: Running 500 iterations: 100%|██████████| 500/500 [00:00<00:00, 600.38it/s]\n",
      "Trial 3/20: Running 500 iterations: 100%|██████████| 500/500 [00:00<00:00, 655.11it/s]\n",
      "Trial 4/20: Running 500 iterations: 100%|██████████| 500/500 [00:00<00:00, 625.98it/s]\n",
      "Trial 5/20: Running 500 iterations: 100%|██████████| 500/500 [00:00<00:00, 813.71it/s]\n",
      "Trial 6/20: Running 500 iterations: 100%|██████████| 500/500 [00:00<00:00, 823.79it/s]\n",
      "Trial 7/20: Running 500 iterations: 100%|██████████| 500/500 [00:00<00:00, 809.62it/s]\n",
      "Trial 8/20: Running 500 iterations: 100%|██████████| 500/500 [00:00<00:00, 888.43it/s]\n",
      "Trial 9/20: Running 500 iterations: 100%|██████████| 500/500 [00:00<00:00, 861.14it/s]\n",
      "Trial 10/20: Running 500 iterations: 100%|██████████| 500/500 [00:00<00:00, 830.01it/s]\n",
      "Trial 11/20: Running 500 iterations: 100%|██████████| 500/500 [00:00<00:00, 810.75it/s]\n",
      "Trial 12/20: Running 500 iterations: 100%|██████████| 500/500 [00:00<00:00, 828.98it/s]\n",
      "Trial 13/20: Running 500 iterations: 100%|██████████| 500/500 [00:00<00:00, 985.51it/s]\n",
      "Trial 14/20: Running 500 iterations: 100%|██████████| 500/500 [00:00<00:00, 962.06it/s]\n",
      "Trial 15/20: Running 500 iterations: 100%|██████████| 500/500 [00:00<00:00, 846.02it/s]\n",
      "Trial 16/20: Running 500 iterations: 100%|██████████| 500/500 [00:00<00:00, 848.78it/s]\n",
      "Trial 17/20: Running 500 iterations: 100%|██████████| 500/500 [00:00<00:00, 859.49it/s]\n",
      "Trial 18/20: Running 500 iterations: 100%|██████████| 500/500 [00:00<00:00, 872.53it/s]\n",
      "Trial 19/20: Running 500 iterations: 100%|██████████| 500/500 [00:00<00:00, 982.08it/s]\n",
      "Trial 20/20: Running 500 iterations: 100%|██████████| 500/500 [00:00<00:00, 946.23it/s]\n",
      "Unsupported operator aten::max_pool2d encountered 3 time(s)\n",
      "Unsupported operator aten::add encountered 4 time(s)\n"
     ]
    },
    {
     "name": "stdout",
     "output_type": "stream",
     "text": [
      "Processing batch size: 16\n"
     ]
    },
    {
     "name": "stderr",
     "output_type": "stream",
     "text": [
      "Trial 1/20: Running 500 iterations: 100%|██████████| 500/500 [00:00<00:00, 779.67it/s]\n",
      "Trial 2/20: Running 500 iterations: 100%|██████████| 500/500 [00:00<00:00, 787.43it/s]\n",
      "Trial 3/20: Running 500 iterations: 100%|██████████| 500/500 [00:00<00:00, 782.16it/s]\n",
      "Trial 4/20: Running 500 iterations: 100%|██████████| 500/500 [00:00<00:00, 788.33it/s]\n",
      "Trial 5/20: Running 500 iterations: 100%|██████████| 500/500 [00:00<00:00, 746.41it/s]\n",
      "Trial 6/20: Running 500 iterations: 100%|██████████| 500/500 [00:00<00:00, 779.66it/s]\n",
      "Trial 7/20: Running 500 iterations: 100%|██████████| 500/500 [00:00<00:00, 762.20it/s]\n",
      "Trial 8/20: Running 500 iterations: 100%|██████████| 500/500 [00:00<00:00, 713.00it/s]\n",
      "Trial 9/20: Running 500 iterations: 100%|██████████| 500/500 [00:00<00:00, 750.50it/s]\n",
      "Trial 10/20: Running 500 iterations: 100%|██████████| 500/500 [00:00<00:00, 757.89it/s]\n",
      "Trial 11/20: Running 500 iterations: 100%|██████████| 500/500 [00:00<00:00, 776.85it/s]\n",
      "Trial 12/20: Running 500 iterations: 100%|██████████| 500/500 [00:00<00:00, 788.89it/s]\n",
      "Trial 13/20: Running 500 iterations: 100%|██████████| 500/500 [00:00<00:00, 790.55it/s]\n",
      "Trial 14/20: Running 500 iterations: 100%|██████████| 500/500 [00:00<00:00, 796.91it/s]\n",
      "Trial 15/20: Running 500 iterations: 100%|██████████| 500/500 [00:00<00:00, 803.90it/s]\n",
      "Trial 16/20: Running 500 iterations: 100%|██████████| 500/500 [00:00<00:00, 808.56it/s]\n",
      "Trial 17/20: Running 500 iterations: 100%|██████████| 500/500 [00:00<00:00, 807.49it/s]\n",
      "Trial 18/20: Running 500 iterations: 100%|██████████| 500/500 [00:00<00:00, 802.81it/s]\n",
      "Trial 19/20: Running 500 iterations: 100%|██████████| 500/500 [00:00<00:00, 793.18it/s]\n",
      "Trial 20/20: Running 500 iterations: 100%|██████████| 500/500 [00:00<00:00, 793.24it/s]\n",
      "Unsupported operator aten::max_pool2d encountered 3 time(s)\n",
      "Unsupported operator aten::add encountered 4 time(s)\n"
     ]
    },
    {
     "name": "stdout",
     "output_type": "stream",
     "text": [
      "Processing batch size: 32\n"
     ]
    },
    {
     "name": "stderr",
     "output_type": "stream",
     "text": [
      "Trial 1/20: Running 500 iterations: 100%|██████████| 500/500 [00:01<00:00, 437.60it/s]\n",
      "Trial 2/20: Running 500 iterations: 100%|██████████| 500/500 [00:01<00:00, 443.83it/s]\n",
      "Trial 3/20: Running 500 iterations: 100%|██████████| 500/500 [00:01<00:00, 439.72it/s]\n",
      "Trial 4/20: Running 500 iterations: 100%|██████████| 500/500 [00:01<00:00, 448.86it/s]\n",
      "Trial 5/20: Running 500 iterations: 100%|██████████| 500/500 [00:01<00:00, 440.32it/s]\n",
      "Trial 6/20: Running 500 iterations: 100%|██████████| 500/500 [00:01<00:00, 438.68it/s]\n",
      "Trial 7/20: Running 500 iterations: 100%|██████████| 500/500 [00:01<00:00, 446.49it/s]\n",
      "Trial 8/20: Running 500 iterations: 100%|██████████| 500/500 [00:01<00:00, 446.19it/s]\n",
      "Trial 9/20: Running 500 iterations: 100%|██████████| 500/500 [00:01<00:00, 456.14it/s]\n",
      "Trial 10/20: Running 500 iterations: 100%|██████████| 500/500 [00:01<00:00, 452.17it/s]\n",
      "Trial 11/20: Running 500 iterations: 100%|██████████| 500/500 [00:01<00:00, 453.32it/s]\n",
      "Trial 12/20: Running 500 iterations: 100%|██████████| 500/500 [00:01<00:00, 456.07it/s]\n",
      "Trial 13/20: Running 500 iterations: 100%|██████████| 500/500 [00:01<00:00, 454.45it/s]\n",
      "Trial 14/20: Running 500 iterations: 100%|██████████| 500/500 [00:01<00:00, 455.82it/s]\n",
      "Trial 15/20: Running 500 iterations: 100%|██████████| 500/500 [00:01<00:00, 456.20it/s]\n",
      "Trial 16/20: Running 500 iterations: 100%|██████████| 500/500 [00:01<00:00, 457.54it/s]\n",
      "Trial 17/20: Running 500 iterations: 100%|██████████| 500/500 [00:01<00:00, 454.59it/s]\n",
      "Trial 18/20: Running 500 iterations: 100%|██████████| 500/500 [00:01<00:00, 453.14it/s]\n",
      "Trial 19/20: Running 500 iterations: 100%|██████████| 500/500 [00:01<00:00, 455.82it/s]\n",
      "Trial 20/20: Running 500 iterations: 100%|██████████| 500/500 [00:01<00:00, 453.22it/s]\n",
      "Unsupported operator aten::max_pool2d encountered 3 time(s)\n",
      "Unsupported operator aten::add encountered 4 time(s)\n"
     ]
    },
    {
     "name": "stdout",
     "output_type": "stream",
     "text": [
      "Processing batch size: 64\n"
     ]
    },
    {
     "name": "stderr",
     "output_type": "stream",
     "text": [
      "Trial 1/20: Running 500 iterations: 100%|██████████| 500/500 [00:01<00:00, 254.65it/s]\n",
      "Trial 2/20: Running 500 iterations: 100%|██████████| 500/500 [00:01<00:00, 254.29it/s]\n",
      "Trial 3/20: Running 500 iterations: 100%|██████████| 500/500 [00:01<00:00, 253.81it/s]\n",
      "Trial 4/20: Running 500 iterations: 100%|██████████| 500/500 [00:01<00:00, 254.89it/s]\n",
      "Trial 5/20: Running 500 iterations: 100%|██████████| 500/500 [00:01<00:00, 261.45it/s]\n",
      "Trial 6/20: Running 500 iterations: 100%|██████████| 500/500 [00:01<00:00, 262.35it/s]\n",
      "Trial 7/20: Running 500 iterations: 100%|██████████| 500/500 [00:01<00:00, 262.26it/s]\n",
      "Trial 8/20: Running 500 iterations: 100%|██████████| 500/500 [00:01<00:00, 261.79it/s]\n",
      "Trial 9/20: Running 500 iterations: 100%|██████████| 500/500 [00:01<00:00, 260.77it/s]\n",
      "Trial 10/20: Running 500 iterations: 100%|██████████| 500/500 [00:01<00:00, 261.08it/s]\n",
      "Trial 11/20: Running 500 iterations: 100%|██████████| 500/500 [00:01<00:00, 261.71it/s]\n",
      "Trial 12/20: Running 500 iterations: 100%|██████████| 500/500 [00:01<00:00, 261.36it/s]\n",
      "Trial 13/20: Running 500 iterations: 100%|██████████| 500/500 [00:01<00:00, 261.67it/s]\n",
      "Trial 14/20: Running 500 iterations: 100%|██████████| 500/500 [00:01<00:00, 260.90it/s]\n",
      "Trial 15/20: Running 500 iterations: 100%|██████████| 500/500 [00:01<00:00, 261.42it/s]\n",
      "Trial 16/20: Running 500 iterations: 100%|██████████| 500/500 [00:01<00:00, 261.10it/s]\n",
      "Trial 17/20: Running 500 iterations: 100%|██████████| 500/500 [00:01<00:00, 261.86it/s]\n",
      "Trial 18/20: Running 500 iterations: 100%|██████████| 500/500 [00:01<00:00, 261.48it/s]\n",
      "Trial 19/20: Running 500 iterations: 100%|██████████| 500/500 [00:01<00:00, 261.63it/s]\n",
      "Trial 20/20: Running 500 iterations: 100%|██████████| 500/500 [00:01<00:00, 261.67it/s]\n",
      "Processing Models:  11%|█         | 7/66 [15:44<2:22:37, 145.03s/it]"
     ]
    },
    {
     "name": "stdout",
     "output_type": "stream",
     "text": [
      "Processing model: d:\\PruneLimit\\PruneLimitAnalyzer\\models\\AlexNet_DATASET_random_PD4_GPR-5_PRUNED_SEED_23.pth\n"
     ]
    },
    {
     "name": "stderr",
     "output_type": "stream",
     "text": [
      "Unsupported operator aten::max_pool2d encountered 3 time(s)\n",
      "Unsupported operator aten::add encountered 3 time(s)\n"
     ]
    },
    {
     "name": "stdout",
     "output_type": "stream",
     "text": [
      "Processing batch size: 1\n"
     ]
    },
    {
     "name": "stderr",
     "output_type": "stream",
     "text": [
      "Trial 1/20: Running 500 iterations: 100%|██████████| 500/500 [00:00<00:00, 927.00it/s]\n",
      "Trial 2/20: Running 500 iterations: 100%|██████████| 500/500 [00:00<00:00, 990.46it/s]\n",
      "Trial 3/20: Running 500 iterations: 100%|██████████| 500/500 [00:00<00:00, 994.61it/s] \n",
      "Trial 4/20: Running 500 iterations: 100%|██████████| 500/500 [00:00<00:00, 995.81it/s] \n",
      "Trial 5/20: Running 500 iterations: 100%|██████████| 500/500 [00:00<00:00, 1003.38it/s]\n",
      "Trial 6/20: Running 500 iterations: 100%|██████████| 500/500 [00:00<00:00, 1014.69it/s]\n",
      "Trial 7/20: Running 500 iterations: 100%|██████████| 500/500 [00:00<00:00, 1041.18it/s]\n",
      "Trial 8/20: Running 500 iterations: 100%|██████████| 500/500 [00:00<00:00, 1060.74it/s]\n",
      "Trial 9/20: Running 500 iterations: 100%|██████████| 500/500 [00:00<00:00, 889.94it/s]\n",
      "Trial 10/20: Running 500 iterations: 100%|██████████| 500/500 [00:00<00:00, 1047.13it/s]\n",
      "Trial 11/20: Running 500 iterations: 100%|██████████| 500/500 [00:00<00:00, 808.92it/s]\n",
      "Trial 12/20: Running 500 iterations: 100%|██████████| 500/500 [00:00<00:00, 1068.34it/s]\n",
      "Trial 13/20: Running 500 iterations: 100%|██████████| 500/500 [00:00<00:00, 1028.00it/s]\n",
      "Trial 14/20: Running 500 iterations: 100%|██████████| 500/500 [00:00<00:00, 1008.13it/s]\n",
      "Trial 15/20: Running 500 iterations: 100%|██████████| 500/500 [00:00<00:00, 1070.74it/s]\n",
      "Trial 16/20: Running 500 iterations: 100%|██████████| 500/500 [00:00<00:00, 1051.04it/s]\n",
      "Trial 17/20: Running 500 iterations: 100%|██████████| 500/500 [00:00<00:00, 1041.93it/s]\n",
      "Trial 18/20: Running 500 iterations: 100%|██████████| 500/500 [00:00<00:00, 1064.33it/s]\n",
      "Trial 19/20: Running 500 iterations: 100%|██████████| 500/500 [00:00<00:00, 1081.00it/s]\n",
      "Trial 20/20: Running 500 iterations: 100%|██████████| 500/500 [00:00<00:00, 935.70it/s]\n",
      "Unsupported operator aten::max_pool2d encountered 3 time(s)\n",
      "Unsupported operator aten::add encountered 3 time(s)\n"
     ]
    },
    {
     "name": "stdout",
     "output_type": "stream",
     "text": [
      "Processing batch size: 8\n"
     ]
    },
    {
     "name": "stderr",
     "output_type": "stream",
     "text": [
      "Trial 1/20: Running 500 iterations: 100%|██████████| 500/500 [00:00<00:00, 724.59it/s]\n",
      "Trial 2/20: Running 500 iterations: 100%|██████████| 500/500 [00:00<00:00, 714.27it/s]\n",
      "Trial 3/20: Running 500 iterations: 100%|██████████| 500/500 [00:00<00:00, 700.35it/s]\n",
      "Trial 4/20: Running 500 iterations: 100%|██████████| 500/500 [00:00<00:00, 727.24it/s]\n",
      "Trial 5/20: Running 500 iterations: 100%|██████████| 500/500 [00:00<00:00, 727.80it/s]\n",
      "Trial 6/20: Running 500 iterations: 100%|██████████| 500/500 [00:00<00:00, 716.03it/s]\n",
      "Trial 7/20: Running 500 iterations: 100%|██████████| 500/500 [00:00<00:00, 720.04it/s]\n",
      "Trial 8/20: Running 500 iterations: 100%|██████████| 500/500 [00:00<00:00, 709.82it/s]\n",
      "Trial 9/20: Running 500 iterations: 100%|██████████| 500/500 [00:00<00:00, 724.86it/s]\n",
      "Trial 10/20: Running 500 iterations: 100%|██████████| 500/500 [00:00<00:00, 717.82it/s]\n",
      "Trial 11/20: Running 500 iterations: 100%|██████████| 500/500 [00:00<00:00, 718.64it/s]\n",
      "Trial 12/20: Running 500 iterations: 100%|██████████| 500/500 [00:00<00:00, 730.69it/s]\n",
      "Trial 13/20: Running 500 iterations: 100%|██████████| 500/500 [00:00<00:00, 739.68it/s]\n",
      "Trial 14/20: Running 500 iterations: 100%|██████████| 500/500 [00:00<00:00, 742.11it/s]\n",
      "Trial 15/20: Running 500 iterations: 100%|██████████| 500/500 [00:00<00:00, 736.77it/s]\n",
      "Trial 16/20: Running 500 iterations: 100%|██████████| 500/500 [00:00<00:00, 730.41it/s]\n",
      "Trial 17/20: Running 500 iterations: 100%|██████████| 500/500 [00:00<00:00, 725.85it/s]\n",
      "Trial 18/20: Running 500 iterations: 100%|██████████| 500/500 [00:00<00:00, 743.47it/s]\n",
      "Trial 19/20: Running 500 iterations: 100%|██████████| 500/500 [00:00<00:00, 733.41it/s]\n",
      "Trial 20/20: Running 500 iterations: 100%|██████████| 500/500 [00:00<00:00, 746.42it/s]\n",
      "Unsupported operator aten::max_pool2d encountered 3 time(s)\n",
      "Unsupported operator aten::add encountered 3 time(s)\n"
     ]
    },
    {
     "name": "stdout",
     "output_type": "stream",
     "text": [
      "Processing batch size: 16\n"
     ]
    },
    {
     "name": "stderr",
     "output_type": "stream",
     "text": [
      "Trial 1/20: Running 500 iterations: 100%|██████████| 500/500 [00:01<00:00, 492.04it/s]\n",
      "Trial 2/20: Running 500 iterations: 100%|██████████| 500/500 [00:01<00:00, 493.15it/s]\n",
      "Trial 3/20: Running 500 iterations: 100%|██████████| 500/500 [00:01<00:00, 493.90it/s]\n",
      "Trial 4/20: Running 500 iterations: 100%|██████████| 500/500 [00:01<00:00, 497.41it/s]\n",
      "Trial 5/20: Running 500 iterations: 100%|██████████| 500/500 [00:01<00:00, 489.36it/s]\n",
      "Trial 6/20: Running 500 iterations: 100%|██████████| 500/500 [00:01<00:00, 497.58it/s]\n",
      "Trial 7/20: Running 500 iterations: 100%|██████████| 500/500 [00:01<00:00, 492.98it/s]\n",
      "Trial 8/20: Running 500 iterations: 100%|██████████| 500/500 [00:01<00:00, 482.52it/s]\n",
      "Trial 9/20: Running 500 iterations: 100%|██████████| 500/500 [00:00<00:00, 505.66it/s]\n",
      "Trial 10/20: Running 500 iterations: 100%|██████████| 500/500 [00:00<00:00, 503.20it/s]\n",
      "Trial 11/20: Running 500 iterations: 100%|██████████| 500/500 [00:00<00:00, 502.62it/s]\n",
      "Trial 12/20: Running 500 iterations: 100%|██████████| 500/500 [00:00<00:00, 500.30it/s]\n",
      "Trial 13/20: Running 500 iterations: 100%|██████████| 500/500 [00:00<00:00, 504.15it/s]\n",
      "Trial 14/20: Running 500 iterations: 100%|██████████| 500/500 [00:00<00:00, 502.37it/s]\n",
      "Trial 15/20: Running 500 iterations: 100%|██████████| 500/500 [00:00<00:00, 501.93it/s]\n",
      "Trial 16/20: Running 500 iterations: 100%|██████████| 500/500 [00:00<00:00, 502.58it/s]\n",
      "Trial 17/20: Running 500 iterations: 100%|██████████| 500/500 [00:00<00:00, 504.00it/s]\n",
      "Trial 18/20: Running 500 iterations: 100%|██████████| 500/500 [00:00<00:00, 506.11it/s]\n",
      "Trial 19/20: Running 500 iterations: 100%|██████████| 500/500 [00:00<00:00, 502.52it/s]\n",
      "Trial 20/20: Running 500 iterations: 100%|██████████| 500/500 [00:01<00:00, 497.35it/s]\n",
      "Unsupported operator aten::max_pool2d encountered 3 time(s)\n",
      "Unsupported operator aten::add encountered 3 time(s)\n"
     ]
    },
    {
     "name": "stdout",
     "output_type": "stream",
     "text": [
      "Processing batch size: 32\n"
     ]
    },
    {
     "name": "stderr",
     "output_type": "stream",
     "text": [
      "Trial 1/20: Running 500 iterations: 100%|██████████| 500/500 [00:01<00:00, 283.61it/s]\n",
      "Trial 2/20: Running 500 iterations: 100%|██████████| 500/500 [00:01<00:00, 283.31it/s]\n",
      "Trial 3/20: Running 500 iterations: 100%|██████████| 500/500 [00:01<00:00, 282.91it/s]\n",
      "Trial 4/20: Running 500 iterations: 100%|██████████| 500/500 [00:01<00:00, 281.27it/s]\n",
      "Trial 5/20: Running 500 iterations: 100%|██████████| 500/500 [00:01<00:00, 286.87it/s]\n",
      "Trial 6/20: Running 500 iterations: 100%|██████████| 500/500 [00:01<00:00, 290.01it/s]\n",
      "Trial 7/20: Running 500 iterations: 100%|██████████| 500/500 [00:01<00:00, 290.50it/s]\n",
      "Trial 8/20: Running 500 iterations: 100%|██████████| 500/500 [00:01<00:00, 289.72it/s]\n",
      "Trial 9/20: Running 500 iterations: 100%|██████████| 500/500 [00:01<00:00, 291.27it/s]\n",
      "Trial 10/20: Running 500 iterations: 100%|██████████| 500/500 [00:01<00:00, 291.86it/s]\n",
      "Trial 11/20: Running 500 iterations: 100%|██████████| 500/500 [00:01<00:00, 291.43it/s]\n",
      "Trial 12/20: Running 500 iterations: 100%|██████████| 500/500 [00:01<00:00, 290.17it/s]\n",
      "Trial 13/20: Running 500 iterations: 100%|██████████| 500/500 [00:01<00:00, 291.42it/s]\n",
      "Trial 14/20: Running 500 iterations: 100%|██████████| 500/500 [00:01<00:00, 291.83it/s]\n",
      "Trial 15/20: Running 500 iterations: 100%|██████████| 500/500 [00:01<00:00, 290.98it/s]\n",
      "Trial 16/20: Running 500 iterations: 100%|██████████| 500/500 [00:01<00:00, 288.94it/s]\n",
      "Trial 17/20: Running 500 iterations: 100%|██████████| 500/500 [00:01<00:00, 290.12it/s]\n",
      "Trial 18/20: Running 500 iterations: 100%|██████████| 500/500 [00:01<00:00, 291.15it/s]\n",
      "Trial 19/20: Running 500 iterations: 100%|██████████| 500/500 [00:01<00:00, 288.46it/s]\n",
      "Trial 20/20: Running 500 iterations: 100%|██████████| 500/500 [00:01<00:00, 289.35it/s]\n",
      "Unsupported operator aten::max_pool2d encountered 3 time(s)\n",
      "Unsupported operator aten::add encountered 3 time(s)\n"
     ]
    },
    {
     "name": "stdout",
     "output_type": "stream",
     "text": [
      "Processing batch size: 64\n"
     ]
    },
    {
     "name": "stderr",
     "output_type": "stream",
     "text": [
      "Trial 1/20: Running 500 iterations: 100%|██████████| 500/500 [00:02<00:00, 169.12it/s]\n",
      "Trial 2/20: Running 500 iterations: 100%|██████████| 500/500 [00:02<00:00, 168.70it/s]\n",
      "Trial 3/20: Running 500 iterations: 100%|██████████| 500/500 [00:02<00:00, 170.40it/s]\n",
      "Trial 4/20: Running 500 iterations: 100%|██████████| 500/500 [00:02<00:00, 173.17it/s]\n",
      "Trial 5/20: Running 500 iterations: 100%|██████████| 500/500 [00:02<00:00, 173.27it/s]\n",
      "Trial 6/20: Running 500 iterations: 100%|██████████| 500/500 [00:02<00:00, 173.40it/s]\n",
      "Trial 7/20: Running 500 iterations: 100%|██████████| 500/500 [00:02<00:00, 172.91it/s]\n",
      "Trial 8/20: Running 500 iterations: 100%|██████████| 500/500 [00:02<00:00, 173.31it/s]\n",
      "Trial 9/20: Running 500 iterations: 100%|██████████| 500/500 [00:02<00:00, 173.32it/s]\n",
      "Trial 10/20: Running 500 iterations: 100%|██████████| 500/500 [00:02<00:00, 173.27it/s]\n",
      "Trial 11/20: Running 500 iterations: 100%|██████████| 500/500 [00:02<00:00, 173.23it/s]\n",
      "Trial 12/20: Running 500 iterations: 100%|██████████| 500/500 [00:02<00:00, 172.89it/s]\n",
      "Trial 13/20: Running 500 iterations: 100%|██████████| 500/500 [00:02<00:00, 172.81it/s]\n",
      "Trial 14/20: Running 500 iterations: 100%|██████████| 500/500 [00:02<00:00, 172.60it/s]\n",
      "Trial 15/20: Running 500 iterations: 100%|██████████| 500/500 [00:02<00:00, 173.17it/s]\n",
      "Trial 16/20: Running 500 iterations: 100%|██████████| 500/500 [00:02<00:00, 172.91it/s]\n",
      "Trial 17/20: Running 500 iterations: 100%|██████████| 500/500 [00:02<00:00, 173.29it/s]\n",
      "Trial 18/20: Running 500 iterations: 100%|██████████| 500/500 [00:02<00:00, 173.06it/s]\n",
      "Trial 19/20: Running 500 iterations: 100%|██████████| 500/500 [00:02<00:00, 173.35it/s]\n",
      "Trial 20/20: Running 500 iterations: 100%|██████████| 500/500 [00:02<00:00, 172.80it/s]\n",
      "Processing Models:  12%|█▏        | 8/66 [18:35<2:28:26, 153.57s/it]Unsupported operator aten::max_pool2d encountered 3 time(s)\n",
      "Unsupported operator aten::add encountered 4 time(s)\n"
     ]
    },
    {
     "name": "stdout",
     "output_type": "stream",
     "text": [
      "Processing model: d:\\PruneLimit\\PruneLimitAnalyzer\\models\\AlexNet_DATASET_random_PD4_GPR-50_PRUNED_SEED_23.pth\n",
      "Processing batch size: 1\n"
     ]
    },
    {
     "name": "stderr",
     "output_type": "stream",
     "text": [
      "Trial 1/20: Running 500 iterations: 100%|██████████| 500/500 [00:00<00:00, 986.75it/s]\n",
      "Trial 2/20: Running 500 iterations: 100%|██████████| 500/500 [00:00<00:00, 936.30it/s]\n",
      "Trial 3/20: Running 500 iterations: 100%|██████████| 500/500 [00:00<00:00, 872.88it/s]\n",
      "Trial 4/20: Running 500 iterations: 100%|██████████| 500/500 [00:00<00:00, 959.23it/s]\n",
      "Trial 5/20: Running 500 iterations: 100%|██████████| 500/500 [00:00<00:00, 999.31it/s]\n",
      "Trial 6/20: Running 500 iterations: 100%|██████████| 500/500 [00:00<00:00, 1018.48it/s]\n",
      "Trial 7/20: Running 500 iterations: 100%|██████████| 500/500 [00:00<00:00, 856.30it/s]\n",
      "Trial 8/20: Running 500 iterations: 100%|██████████| 500/500 [00:00<00:00, 991.16it/s]\n",
      "Trial 9/20: Running 500 iterations: 100%|██████████| 500/500 [00:00<00:00, 821.59it/s]\n",
      "Trial 10/20: Running 500 iterations: 100%|██████████| 500/500 [00:00<00:00, 843.08it/s]\n",
      "Trial 11/20: Running 500 iterations: 100%|██████████| 500/500 [00:00<00:00, 980.68it/s]\n",
      "Trial 12/20: Running 500 iterations: 100%|██████████| 500/500 [00:00<00:00, 974.52it/s]\n",
      "Trial 13/20: Running 500 iterations: 100%|██████████| 500/500 [00:00<00:00, 1013.00it/s]\n",
      "Trial 14/20: Running 500 iterations: 100%|██████████| 500/500 [00:00<00:00, 982.13it/s]\n",
      "Trial 15/20: Running 500 iterations: 100%|██████████| 500/500 [00:00<00:00, 1025.79it/s]\n",
      "Trial 16/20: Running 500 iterations: 100%|██████████| 500/500 [00:00<00:00, 981.05it/s]\n",
      "Trial 17/20: Running 500 iterations: 100%|██████████| 500/500 [00:00<00:00, 1010.23it/s]\n",
      "Trial 18/20: Running 500 iterations: 100%|██████████| 500/500 [00:00<00:00, 1008.58it/s]\n",
      "Trial 19/20: Running 500 iterations: 100%|██████████| 500/500 [00:00<00:00, 843.71it/s]\n",
      "Trial 20/20: Running 500 iterations: 100%|██████████| 500/500 [00:00<00:00, 575.40it/s]\n",
      "Unsupported operator aten::max_pool2d encountered 3 time(s)\n",
      "Unsupported operator aten::add encountered 4 time(s)\n"
     ]
    },
    {
     "name": "stdout",
     "output_type": "stream",
     "text": [
      "Processing batch size: 8\n"
     ]
    },
    {
     "name": "stderr",
     "output_type": "stream",
     "text": [
      "Trial 1/20: Running 500 iterations: 100%|██████████| 500/500 [00:00<00:00, 655.37it/s]\n",
      "Trial 2/20: Running 500 iterations: 100%|██████████| 500/500 [00:00<00:00, 652.94it/s]\n",
      "Trial 3/20: Running 500 iterations: 100%|██████████| 500/500 [00:00<00:00, 732.11it/s]\n",
      "Trial 4/20: Running 500 iterations: 100%|██████████| 500/500 [00:00<00:00, 763.12it/s]\n",
      "Trial 5/20: Running 500 iterations: 100%|██████████| 500/500 [00:00<00:00, 669.13it/s]\n",
      "Trial 6/20: Running 500 iterations: 100%|██████████| 500/500 [00:00<00:00, 852.05it/s]\n",
      "Trial 7/20: Running 500 iterations: 100%|██████████| 500/500 [00:00<00:00, 925.18it/s]\n",
      "Trial 8/20: Running 500 iterations: 100%|██████████| 500/500 [00:00<00:00, 957.48it/s]\n",
      "Trial 9/20: Running 500 iterations: 100%|██████████| 500/500 [00:00<00:00, 890.32it/s]\n",
      "Trial 10/20: Running 500 iterations: 100%|██████████| 500/500 [00:00<00:00, 926.94it/s]\n",
      "Trial 11/20: Running 500 iterations: 100%|██████████| 500/500 [00:00<00:00, 917.19it/s]\n",
      "Trial 12/20: Running 500 iterations: 100%|██████████| 500/500 [00:00<00:00, 950.15it/s]\n",
      "Trial 13/20: Running 500 iterations: 100%|██████████| 500/500 [00:00<00:00, 960.81it/s]\n",
      "Trial 14/20: Running 500 iterations: 100%|██████████| 500/500 [00:00<00:00, 953.41it/s]\n",
      "Trial 15/20: Running 500 iterations: 100%|██████████| 500/500 [00:00<00:00, 877.58it/s]\n",
      "Trial 16/20: Running 500 iterations: 100%|██████████| 500/500 [00:00<00:00, 884.53it/s]\n",
      "Trial 17/20: Running 500 iterations: 100%|██████████| 500/500 [00:00<00:00, 748.88it/s]\n",
      "Trial 18/20: Running 500 iterations: 100%|██████████| 500/500 [00:00<00:00, 844.50it/s]\n",
      "Trial 19/20: Running 500 iterations: 100%|██████████| 500/500 [00:00<00:00, 948.23it/s]\n",
      "Trial 20/20: Running 500 iterations: 100%|██████████| 500/500 [00:00<00:00, 962.62it/s]\n",
      "Unsupported operator aten::max_pool2d encountered 3 time(s)\n",
      "Unsupported operator aten::add encountered 4 time(s)\n"
     ]
    },
    {
     "name": "stdout",
     "output_type": "stream",
     "text": [
      "Processing batch size: 16\n"
     ]
    },
    {
     "name": "stderr",
     "output_type": "stream",
     "text": [
      "Trial 1/20: Running 500 iterations: 100%|██████████| 500/500 [00:00<00:00, 1109.95it/s]\n",
      "Trial 2/20: Running 500 iterations: 100%|██████████| 500/500 [00:00<00:00, 1028.37it/s]\n",
      "Trial 3/20: Running 500 iterations: 100%|██████████| 500/500 [00:00<00:00, 1059.56it/s]\n",
      "Trial 4/20: Running 500 iterations: 100%|██████████| 500/500 [00:00<00:00, 1085.64it/s]\n",
      "Trial 5/20: Running 500 iterations: 100%|██████████| 500/500 [00:00<00:00, 1003.64it/s]\n",
      "Trial 6/20: Running 500 iterations: 100%|██████████| 500/500 [00:00<00:00, 1044.18it/s]\n",
      "Trial 7/20: Running 500 iterations: 100%|██████████| 500/500 [00:00<00:00, 1052.25it/s]\n",
      "Trial 8/20: Running 500 iterations: 100%|██████████| 500/500 [00:00<00:00, 754.83it/s]\n",
      "Trial 9/20: Running 500 iterations: 100%|██████████| 500/500 [00:00<00:00, 755.50it/s]\n",
      "Trial 10/20: Running 500 iterations: 100%|██████████| 500/500 [00:00<00:00, 981.66it/s] \n",
      "Trial 11/20: Running 500 iterations: 100%|██████████| 500/500 [00:00<00:00, 770.51it/s]\n",
      "Trial 12/20: Running 500 iterations: 100%|██████████| 500/500 [00:00<00:00, 657.71it/s]\n",
      "Trial 13/20: Running 500 iterations: 100%|██████████| 500/500 [00:00<00:00, 686.57it/s]\n",
      "Trial 14/20: Running 500 iterations: 100%|██████████| 500/500 [00:00<00:00, 734.63it/s]\n",
      "Trial 15/20: Running 500 iterations: 100%|██████████| 500/500 [00:00<00:00, 746.93it/s]\n",
      "Trial 16/20: Running 500 iterations: 100%|██████████| 500/500 [00:00<00:00, 1025.90it/s]\n",
      "Trial 17/20: Running 500 iterations: 100%|██████████| 500/500 [00:00<00:00, 1024.38it/s]\n",
      "Trial 18/20: Running 500 iterations: 100%|██████████| 500/500 [00:00<00:00, 1036.35it/s]\n",
      "Trial 19/20: Running 500 iterations: 100%|██████████| 500/500 [00:00<00:00, 1003.66it/s]\n",
      "Trial 20/20: Running 500 iterations: 100%|██████████| 500/500 [00:00<00:00, 1035.43it/s]\n",
      "Unsupported operator aten::max_pool2d encountered 3 time(s)\n",
      "Unsupported operator aten::add encountered 4 time(s)\n"
     ]
    },
    {
     "name": "stdout",
     "output_type": "stream",
     "text": [
      "Processing batch size: 32\n"
     ]
    },
    {
     "name": "stderr",
     "output_type": "stream",
     "text": [
      "Trial 1/20: Running 500 iterations: 100%|██████████| 500/500 [00:00<00:00, 589.58it/s]\n",
      "Trial 2/20: Running 500 iterations: 100%|██████████| 500/500 [00:00<00:00, 581.11it/s]\n",
      "Trial 3/20: Running 500 iterations: 100%|██████████| 500/500 [00:00<00:00, 580.74it/s]\n",
      "Trial 4/20: Running 500 iterations: 100%|██████████| 500/500 [00:00<00:00, 578.67it/s]\n",
      "Trial 5/20: Running 500 iterations: 100%|██████████| 500/500 [00:00<00:00, 571.56it/s]\n",
      "Trial 6/20: Running 500 iterations: 100%|██████████| 500/500 [00:00<00:00, 575.71it/s]\n",
      "Trial 7/20: Running 500 iterations: 100%|██████████| 500/500 [00:00<00:00, 574.81it/s]\n",
      "Trial 8/20: Running 500 iterations: 100%|██████████| 500/500 [00:00<00:00, 582.61it/s]\n",
      "Trial 9/20: Running 500 iterations: 100%|██████████| 500/500 [00:00<00:00, 584.15it/s]\n",
      "Trial 10/20: Running 500 iterations: 100%|██████████| 500/500 [00:00<00:00, 588.85it/s]\n",
      "Trial 11/20: Running 500 iterations: 100%|██████████| 500/500 [00:00<00:00, 586.84it/s]\n",
      "Trial 12/20: Running 500 iterations: 100%|██████████| 500/500 [00:00<00:00, 598.55it/s]\n",
      "Trial 13/20: Running 500 iterations: 100%|██████████| 500/500 [00:00<00:00, 597.50it/s]\n",
      "Trial 14/20: Running 500 iterations: 100%|██████████| 500/500 [00:00<00:00, 599.83it/s]\n",
      "Trial 15/20: Running 500 iterations: 100%|██████████| 500/500 [00:00<00:00, 587.98it/s]\n",
      "Trial 16/20: Running 500 iterations: 100%|██████████| 500/500 [00:00<00:00, 596.93it/s]\n",
      "Trial 17/20: Running 500 iterations: 100%|██████████| 500/500 [00:00<00:00, 601.09it/s]\n",
      "Trial 18/20: Running 500 iterations: 100%|██████████| 500/500 [00:00<00:00, 593.20it/s]\n",
      "Trial 19/20: Running 500 iterations: 100%|██████████| 500/500 [00:00<00:00, 597.80it/s]\n",
      "Trial 20/20: Running 500 iterations: 100%|██████████| 500/500 [00:00<00:00, 598.52it/s]\n",
      "Unsupported operator aten::max_pool2d encountered 3 time(s)\n",
      "Unsupported operator aten::add encountered 4 time(s)\n"
     ]
    },
    {
     "name": "stdout",
     "output_type": "stream",
     "text": [
      "Processing batch size: 64\n"
     ]
    },
    {
     "name": "stderr",
     "output_type": "stream",
     "text": [
      "Trial 1/20: Running 500 iterations: 100%|██████████| 500/500 [00:01<00:00, 353.50it/s]\n",
      "Trial 2/20: Running 500 iterations: 100%|██████████| 500/500 [00:01<00:00, 356.03it/s]\n",
      "Trial 3/20: Running 500 iterations: 100%|██████████| 500/500 [00:01<00:00, 353.80it/s]\n",
      "Trial 4/20: Running 500 iterations: 100%|██████████| 500/500 [00:01<00:00, 350.68it/s]\n",
      "Trial 5/20: Running 500 iterations: 100%|██████████| 500/500 [00:01<00:00, 352.78it/s]\n",
      "Trial 6/20: Running 500 iterations: 100%|██████████| 500/500 [00:01<00:00, 356.29it/s]\n",
      "Trial 7/20: Running 500 iterations: 100%|██████████| 500/500 [00:01<00:00, 362.76it/s]\n",
      "Trial 8/20: Running 500 iterations: 100%|██████████| 500/500 [00:01<00:00, 363.40it/s]\n",
      "Trial 9/20: Running 500 iterations: 100%|██████████| 500/500 [00:01<00:00, 362.88it/s]\n",
      "Trial 10/20: Running 500 iterations: 100%|██████████| 500/500 [00:01<00:00, 362.70it/s]\n",
      "Trial 11/20: Running 500 iterations: 100%|██████████| 500/500 [00:01<00:00, 363.32it/s]\n",
      "Trial 12/20: Running 500 iterations: 100%|██████████| 500/500 [00:01<00:00, 360.41it/s]\n",
      "Trial 13/20: Running 500 iterations: 100%|██████████| 500/500 [00:01<00:00, 362.32it/s]\n",
      "Trial 14/20: Running 500 iterations: 100%|██████████| 500/500 [00:01<00:00, 360.83it/s]\n",
      "Trial 15/20: Running 500 iterations: 100%|██████████| 500/500 [00:01<00:00, 361.92it/s]\n",
      "Trial 16/20: Running 500 iterations: 100%|██████████| 500/500 [00:01<00:00, 362.47it/s]\n",
      "Trial 17/20: Running 500 iterations: 100%|██████████| 500/500 [00:01<00:00, 359.88it/s]\n",
      "Trial 18/20: Running 500 iterations: 100%|██████████| 500/500 [00:01<00:00, 363.35it/s]\n",
      "Trial 19/20: Running 500 iterations: 100%|██████████| 500/500 [00:01<00:00, 363.81it/s]\n",
      "Trial 20/20: Running 500 iterations: 100%|██████████| 500/500 [00:01<00:00, 362.55it/s]\n",
      "Processing Models:  14%|█▎        | 9/66 [20:13<2:09:13, 136.03s/it]Unsupported operator aten::max_pool2d encountered 3 time(s)\n",
      "Unsupported operator aten::add encountered 4 time(s)\n"
     ]
    },
    {
     "name": "stdout",
     "output_type": "stream",
     "text": [
      "Processing model: d:\\PruneLimit\\PruneLimitAnalyzer\\models\\AlexNet_DATASET_random_PD5_GPR-50_PRUNED_SEED_23.pth\n",
      "Processing batch size: 1\n"
     ]
    },
    {
     "name": "stderr",
     "output_type": "stream",
     "text": [
      "Trial 1/20: Running 500 iterations: 100%|██████████| 500/500 [00:00<00:00, 1000.29it/s]\n",
      "Trial 2/20: Running 500 iterations: 100%|██████████| 500/500 [00:00<00:00, 789.24it/s]\n",
      "Trial 3/20: Running 500 iterations: 100%|██████████| 500/500 [00:00<00:00, 871.18it/s]\n",
      "Trial 4/20: Running 500 iterations: 100%|██████████| 500/500 [00:00<00:00, 863.80it/s]\n",
      "Trial 5/20: Running 500 iterations: 100%|██████████| 500/500 [00:00<00:00, 945.37it/s]\n",
      "Trial 6/20: Running 500 iterations: 100%|██████████| 500/500 [00:00<00:00, 745.03it/s]\n",
      "Trial 7/20: Running 500 iterations: 100%|██████████| 500/500 [00:00<00:00, 781.12it/s]\n",
      "Trial 8/20: Running 500 iterations: 100%|██████████| 500/500 [00:00<00:00, 852.75it/s]\n",
      "Trial 9/20: Running 500 iterations: 100%|██████████| 500/500 [00:00<00:00, 866.19it/s]\n",
      "Trial 10/20: Running 500 iterations: 100%|██████████| 500/500 [00:00<00:00, 836.61it/s]\n",
      "Trial 11/20: Running 500 iterations: 100%|██████████| 500/500 [00:00<00:00, 859.81it/s]\n",
      "Trial 12/20: Running 500 iterations: 100%|██████████| 500/500 [00:00<00:00, 823.61it/s]\n",
      "Trial 13/20: Running 500 iterations: 100%|██████████| 500/500 [00:00<00:00, 873.18it/s]\n",
      "Trial 14/20: Running 500 iterations: 100%|██████████| 500/500 [00:00<00:00, 779.38it/s]\n",
      "Trial 15/20: Running 500 iterations: 100%|██████████| 500/500 [00:00<00:00, 922.15it/s]\n",
      "Trial 16/20: Running 500 iterations: 100%|██████████| 500/500 [00:00<00:00, 997.36it/s]\n",
      "Trial 17/20: Running 500 iterations: 100%|██████████| 500/500 [00:00<00:00, 993.92it/s]\n",
      "Trial 18/20: Running 500 iterations: 100%|██████████| 500/500 [00:00<00:00, 996.09it/s]\n",
      "Trial 19/20: Running 500 iterations: 100%|██████████| 500/500 [00:00<00:00, 1005.45it/s]\n",
      "Trial 20/20: Running 500 iterations: 100%|██████████| 500/500 [00:00<00:00, 993.13it/s]\n",
      "Unsupported operator aten::max_pool2d encountered 3 time(s)\n",
      "Unsupported operator aten::add encountered 4 time(s)\n"
     ]
    },
    {
     "name": "stdout",
     "output_type": "stream",
     "text": [
      "Processing batch size: 8\n"
     ]
    },
    {
     "name": "stderr",
     "output_type": "stream",
     "text": [
      "Trial 1/20: Running 500 iterations: 100%|██████████| 500/500 [00:00<00:00, 1017.47it/s]\n",
      "Trial 2/20: Running 500 iterations: 100%|██████████| 500/500 [00:00<00:00, 989.73it/s]\n",
      "Trial 3/20: Running 500 iterations: 100%|██████████| 500/500 [00:00<00:00, 866.06it/s]\n",
      "Trial 4/20: Running 500 iterations: 100%|██████████| 500/500 [00:00<00:00, 976.52it/s]\n",
      "Trial 5/20: Running 500 iterations: 100%|██████████| 500/500 [00:00<00:00, 981.32it/s]\n",
      "Trial 6/20: Running 500 iterations: 100%|██████████| 500/500 [00:00<00:00, 1000.54it/s]\n",
      "Trial 7/20: Running 500 iterations: 100%|██████████| 500/500 [00:00<00:00, 932.85it/s]\n",
      "Trial 8/20: Running 500 iterations: 100%|██████████| 500/500 [00:00<00:00, 912.26it/s]\n",
      "Trial 9/20: Running 500 iterations: 100%|██████████| 500/500 [00:00<00:00, 1016.26it/s]\n",
      "Trial 10/20: Running 500 iterations: 100%|██████████| 500/500 [00:00<00:00, 900.61it/s]\n",
      "Trial 11/20: Running 500 iterations: 100%|██████████| 500/500 [00:00<00:00, 953.99it/s]\n",
      "Trial 12/20: Running 500 iterations: 100%|██████████| 500/500 [00:00<00:00, 884.09it/s]\n",
      "Trial 13/20: Running 500 iterations: 100%|██████████| 500/500 [00:00<00:00, 847.22it/s]\n",
      "Trial 14/20: Running 500 iterations: 100%|██████████| 500/500 [00:00<00:00, 892.80it/s]\n",
      "Trial 15/20: Running 500 iterations: 100%|██████████| 500/500 [00:00<00:00, 856.95it/s]\n",
      "Trial 16/20: Running 500 iterations: 100%|██████████| 500/500 [00:00<00:00, 932.97it/s]\n",
      "Trial 17/20: Running 500 iterations: 100%|██████████| 500/500 [00:00<00:00, 951.92it/s]\n",
      "Trial 18/20: Running 500 iterations: 100%|██████████| 500/500 [00:00<00:00, 886.29it/s]\n",
      "Trial 19/20: Running 500 iterations: 100%|██████████| 500/500 [00:00<00:00, 935.61it/s]\n",
      "Trial 20/20: Running 500 iterations: 100%|██████████| 500/500 [00:00<00:00, 867.93it/s]\n",
      "Unsupported operator aten::max_pool2d encountered 3 time(s)\n",
      "Unsupported operator aten::add encountered 4 time(s)\n"
     ]
    },
    {
     "name": "stdout",
     "output_type": "stream",
     "text": [
      "Processing batch size: 16\n"
     ]
    },
    {
     "name": "stderr",
     "output_type": "stream",
     "text": [
      "Trial 1/20: Running 500 iterations: 100%|██████████| 500/500 [00:00<00:00, 929.17it/s]\n",
      "Trial 2/20: Running 500 iterations: 100%|██████████| 500/500 [00:00<00:00, 956.74it/s]\n",
      "Trial 3/20: Running 500 iterations: 100%|██████████| 500/500 [00:00<00:00, 936.20it/s]\n",
      "Trial 4/20: Running 500 iterations: 100%|██████████| 500/500 [00:00<00:00, 906.02it/s]\n",
      "Trial 5/20: Running 500 iterations: 100%|██████████| 500/500 [00:00<00:00, 989.04it/s]\n",
      "Trial 6/20: Running 500 iterations: 100%|██████████| 500/500 [00:00<00:00, 916.18it/s]\n",
      "Trial 7/20: Running 500 iterations: 100%|██████████| 500/500 [00:00<00:00, 1006.71it/s]\n",
      "Trial 8/20: Running 500 iterations: 100%|██████████| 500/500 [00:00<00:00, 981.67it/s]\n",
      "Trial 9/20: Running 500 iterations: 100%|██████████| 500/500 [00:00<00:00, 982.80it/s]\n",
      "Trial 10/20: Running 500 iterations: 100%|██████████| 500/500 [00:00<00:00, 938.63it/s]\n",
      "Trial 11/20: Running 500 iterations: 100%|██████████| 500/500 [00:00<00:00, 992.53it/s]\n",
      "Trial 12/20: Running 500 iterations: 100%|██████████| 500/500 [00:00<00:00, 946.89it/s]\n",
      "Trial 13/20: Running 500 iterations: 100%|██████████| 500/500 [00:00<00:00, 976.52it/s]\n",
      "Trial 14/20: Running 500 iterations: 100%|██████████| 500/500 [00:00<00:00, 971.51it/s]\n",
      "Trial 15/20: Running 500 iterations: 100%|██████████| 500/500 [00:00<00:00, 972.47it/s]\n",
      "Trial 16/20: Running 500 iterations: 100%|██████████| 500/500 [00:00<00:00, 990.20it/s]\n",
      "Trial 17/20: Running 500 iterations: 100%|██████████| 500/500 [00:00<00:00, 993.91it/s]\n",
      "Trial 18/20: Running 500 iterations: 100%|██████████| 500/500 [00:00<00:00, 982.19it/s]\n",
      "Trial 19/20: Running 500 iterations: 100%|██████████| 500/500 [00:00<00:00, 996.44it/s] \n",
      "Trial 20/20: Running 500 iterations: 100%|██████████| 500/500 [00:00<00:00, 993.20it/s]\n",
      "Unsupported operator aten::max_pool2d encountered 3 time(s)\n",
      "Unsupported operator aten::add encountered 4 time(s)\n"
     ]
    },
    {
     "name": "stdout",
     "output_type": "stream",
     "text": [
      "Processing batch size: 32\n"
     ]
    },
    {
     "name": "stderr",
     "output_type": "stream",
     "text": [
      "Trial 1/20: Running 500 iterations: 100%|██████████| 500/500 [00:00<00:00, 611.18it/s]\n",
      "Trial 2/20: Running 500 iterations: 100%|██████████| 500/500 [00:00<00:00, 609.28it/s]\n",
      "Trial 3/20: Running 500 iterations: 100%|██████████| 500/500 [00:00<00:00, 609.80it/s]\n",
      "Trial 4/20: Running 500 iterations: 100%|██████████| 500/500 [00:00<00:00, 599.26it/s]\n",
      "Trial 5/20: Running 500 iterations: 100%|██████████| 500/500 [00:00<00:00, 599.17it/s]\n",
      "Trial 6/20: Running 500 iterations: 100%|██████████| 500/500 [00:00<00:00, 610.94it/s]\n",
      "Trial 7/20: Running 500 iterations: 100%|██████████| 500/500 [00:00<00:00, 611.29it/s]\n",
      "Trial 8/20: Running 500 iterations: 100%|██████████| 500/500 [00:00<00:00, 605.67it/s]\n",
      "Trial 9/20: Running 500 iterations: 100%|██████████| 500/500 [00:00<00:00, 606.60it/s]\n",
      "Trial 10/20: Running 500 iterations: 100%|██████████| 500/500 [00:00<00:00, 615.72it/s]\n",
      "Trial 11/20: Running 500 iterations: 100%|██████████| 500/500 [00:00<00:00, 616.89it/s]\n",
      "Trial 12/20: Running 500 iterations: 100%|██████████| 500/500 [00:00<00:00, 625.14it/s]\n",
      "Trial 13/20: Running 500 iterations: 100%|██████████| 500/500 [00:00<00:00, 618.01it/s]\n",
      "Trial 14/20: Running 500 iterations: 100%|██████████| 500/500 [00:00<00:00, 626.45it/s]\n",
      "Trial 15/20: Running 500 iterations: 100%|██████████| 500/500 [00:00<00:00, 627.28it/s]\n",
      "Trial 16/20: Running 500 iterations: 100%|██████████| 500/500 [00:00<00:00, 620.35it/s]\n",
      "Trial 17/20: Running 500 iterations: 100%|██████████| 500/500 [00:00<00:00, 627.43it/s]\n",
      "Trial 18/20: Running 500 iterations: 100%|██████████| 500/500 [00:00<00:00, 627.29it/s]\n",
      "Trial 19/20: Running 500 iterations: 100%|██████████| 500/500 [00:00<00:00, 622.94it/s]\n",
      "Trial 20/20: Running 500 iterations: 100%|██████████| 500/500 [00:00<00:00, 620.19it/s]\n",
      "Unsupported operator aten::max_pool2d encountered 3 time(s)\n",
      "Unsupported operator aten::add encountered 4 time(s)\n"
     ]
    },
    {
     "name": "stdout",
     "output_type": "stream",
     "text": [
      "Processing batch size: 64\n"
     ]
    },
    {
     "name": "stderr",
     "output_type": "stream",
     "text": [
      "Trial 1/20: Running 500 iterations: 100%|██████████| 500/500 [00:01<00:00, 364.57it/s]\n",
      "Trial 2/20: Running 500 iterations: 100%|██████████| 500/500 [00:01<00:00, 363.58it/s]\n",
      "Trial 3/20: Running 500 iterations: 100%|██████████| 500/500 [00:01<00:00, 366.15it/s]\n",
      "Trial 4/20: Running 500 iterations: 100%|██████████| 500/500 [00:01<00:00, 362.38it/s]\n",
      "Trial 5/20: Running 500 iterations: 100%|██████████| 500/500 [00:01<00:00, 365.96it/s]\n",
      "Trial 6/20: Running 500 iterations: 100%|██████████| 500/500 [00:01<00:00, 366.97it/s]\n",
      "Trial 7/20: Running 500 iterations: 100%|██████████| 500/500 [00:01<00:00, 371.28it/s]\n",
      "Trial 8/20: Running 500 iterations: 100%|██████████| 500/500 [00:01<00:00, 373.75it/s]\n",
      "Trial 9/20: Running 500 iterations: 100%|██████████| 500/500 [00:01<00:00, 372.33it/s]\n",
      "Trial 10/20: Running 500 iterations: 100%|██████████| 500/500 [00:01<00:00, 368.80it/s]\n",
      "Trial 11/20: Running 500 iterations: 100%|██████████| 500/500 [00:01<00:00, 368.20it/s]\n",
      "Trial 12/20: Running 500 iterations: 100%|██████████| 500/500 [00:01<00:00, 371.26it/s]\n",
      "Trial 13/20: Running 500 iterations: 100%|██████████| 500/500 [00:01<00:00, 369.26it/s]\n",
      "Trial 14/20: Running 500 iterations: 100%|██████████| 500/500 [00:01<00:00, 371.25it/s]\n",
      "Trial 15/20: Running 500 iterations: 100%|██████████| 500/500 [00:01<00:00, 369.01it/s]\n",
      "Trial 16/20: Running 500 iterations: 100%|██████████| 500/500 [00:01<00:00, 368.48it/s]\n",
      "Trial 17/20: Running 500 iterations: 100%|██████████| 500/500 [00:01<00:00, 368.98it/s]\n",
      "Trial 18/20: Running 500 iterations: 100%|██████████| 500/500 [00:01<00:00, 371.42it/s]\n",
      "Trial 19/20: Running 500 iterations: 100%|██████████| 500/500 [00:01<00:00, 368.63it/s]\n",
      "Trial 20/20: Running 500 iterations: 100%|██████████| 500/500 [00:01<00:00, 370.89it/s]\n",
      "Processing Models:  15%|█▌        | 10/66 [21:47<1:55:01, 123.24s/it]Unsupported operator aten::max_pool2d encountered 3 time(s)\n",
      "Unsupported operator aten::add encountered 4 time(s)\n"
     ]
    },
    {
     "name": "stdout",
     "output_type": "stream",
     "text": [
      "Processing model: d:\\PruneLimit\\PruneLimitAnalyzer\\models\\AlexNet_DATASET_random_PD3_GPR-40_PRUNED_SEED_23.pth\n",
      "Processing batch size: 1\n"
     ]
    },
    {
     "name": "stderr",
     "output_type": "stream",
     "text": [
      "Trial 1/20: Running 500 iterations: 100%|██████████| 500/500 [00:00<00:00, 1031.35it/s]\n",
      "Trial 2/20: Running 500 iterations: 100%|██████████| 500/500 [00:00<00:00, 926.81it/s]\n",
      "Trial 3/20: Running 500 iterations: 100%|██████████| 500/500 [00:00<00:00, 1005.68it/s]\n",
      "Trial 4/20: Running 500 iterations: 100%|██████████| 500/500 [00:00<00:00, 1016.80it/s]\n",
      "Trial 5/20: Running 500 iterations: 100%|██████████| 500/500 [00:00<00:00, 1014.13it/s]\n",
      "Trial 6/20: Running 500 iterations: 100%|██████████| 500/500 [00:00<00:00, 901.95it/s]\n",
      "Trial 7/20: Running 500 iterations: 100%|██████████| 500/500 [00:00<00:00, 1044.04it/s]\n",
      "Trial 8/20: Running 500 iterations: 100%|██████████| 500/500 [00:00<00:00, 1034.54it/s]\n",
      "Trial 9/20: Running 500 iterations: 100%|██████████| 500/500 [00:00<00:00, 977.55it/s]\n",
      "Trial 10/20: Running 500 iterations: 100%|██████████| 500/500 [00:00<00:00, 905.31it/s]\n",
      "Trial 11/20: Running 500 iterations: 100%|██████████| 500/500 [00:00<00:00, 977.04it/s]\n",
      "Trial 12/20: Running 500 iterations: 100%|██████████| 500/500 [00:00<00:00, 1032.80it/s]\n",
      "Trial 13/20: Running 500 iterations: 100%|██████████| 500/500 [00:00<00:00, 852.95it/s]\n",
      "Trial 14/20: Running 500 iterations: 100%|██████████| 500/500 [00:00<00:00, 872.32it/s]\n",
      "Trial 15/20: Running 500 iterations: 100%|██████████| 500/500 [00:00<00:00, 820.17it/s]\n",
      "Trial 16/20: Running 500 iterations: 100%|██████████| 500/500 [00:00<00:00, 820.69it/s]\n",
      "Trial 17/20: Running 500 iterations: 100%|██████████| 500/500 [00:00<00:00, 999.48it/s] \n",
      "Trial 18/20: Running 500 iterations: 100%|██████████| 500/500 [00:00<00:00, 1009.49it/s]\n",
      "Trial 19/20: Running 500 iterations: 100%|██████████| 500/500 [00:00<00:00, 1023.14it/s]\n",
      "Trial 20/20: Running 500 iterations: 100%|██████████| 500/500 [00:00<00:00, 978.10it/s] \n",
      "Unsupported operator aten::max_pool2d encountered 3 time(s)\n",
      "Unsupported operator aten::add encountered 4 time(s)\n"
     ]
    },
    {
     "name": "stdout",
     "output_type": "stream",
     "text": [
      "Processing batch size: 8\n"
     ]
    },
    {
     "name": "stderr",
     "output_type": "stream",
     "text": [
      "Trial 1/20: Running 500 iterations: 100%|██████████| 500/500 [00:00<00:00, 827.92it/s]\n",
      "Trial 2/20: Running 500 iterations: 100%|██████████| 500/500 [00:00<00:00, 839.37it/s]\n",
      "Trial 3/20: Running 500 iterations: 100%|██████████| 500/500 [00:00<00:00, 890.65it/s]\n",
      "Trial 4/20: Running 500 iterations: 100%|██████████| 500/500 [00:00<00:00, 838.54it/s]\n",
      "Trial 5/20: Running 500 iterations: 100%|██████████| 500/500 [00:00<00:00, 877.80it/s]\n",
      "Trial 6/20: Running 500 iterations: 100%|██████████| 500/500 [00:00<00:00, 850.51it/s]\n",
      "Trial 7/20: Running 500 iterations: 100%|██████████| 500/500 [00:00<00:00, 633.15it/s]\n",
      "Trial 8/20: Running 500 iterations: 100%|██████████| 500/500 [00:00<00:00, 823.44it/s]\n",
      "Trial 9/20: Running 500 iterations: 100%|██████████| 500/500 [00:00<00:00, 748.64it/s]\n",
      "Trial 10/20: Running 500 iterations: 100%|██████████| 500/500 [00:00<00:00, 655.40it/s]\n",
      "Trial 11/20: Running 500 iterations: 100%|██████████| 500/500 [00:00<00:00, 706.00it/s]\n",
      "Trial 12/20: Running 500 iterations: 100%|██████████| 500/500 [00:00<00:00, 700.58it/s]\n",
      "Trial 13/20: Running 500 iterations: 100%|██████████| 500/500 [00:00<00:00, 611.95it/s]\n",
      "Trial 14/20: Running 500 iterations: 100%|██████████| 500/500 [00:00<00:00, 929.48it/s]\n",
      "Trial 15/20: Running 500 iterations: 100%|██████████| 500/500 [00:00<00:00, 993.86it/s]\n",
      "Trial 16/20: Running 500 iterations: 100%|██████████| 500/500 [00:00<00:00, 955.61it/s]\n",
      "Trial 17/20: Running 500 iterations: 100%|██████████| 500/500 [00:00<00:00, 961.50it/s]\n",
      "Trial 18/20: Running 500 iterations: 100%|██████████| 500/500 [00:00<00:00, 947.87it/s]\n",
      "Trial 19/20: Running 500 iterations: 100%|██████████| 500/500 [00:00<00:00, 938.13it/s]\n",
      "Trial 20/20: Running 500 iterations: 100%|██████████| 500/500 [00:00<00:00, 953.39it/s]\n",
      "Unsupported operator aten::max_pool2d encountered 3 time(s)\n",
      "Unsupported operator aten::add encountered 4 time(s)\n"
     ]
    },
    {
     "name": "stdout",
     "output_type": "stream",
     "text": [
      "Processing batch size: 16\n"
     ]
    },
    {
     "name": "stderr",
     "output_type": "stream",
     "text": [
      "Trial 1/20: Running 500 iterations: 100%|██████████| 500/500 [00:00<00:00, 837.73it/s]\n",
      "Trial 2/20: Running 500 iterations: 100%|██████████| 500/500 [00:00<00:00, 845.74it/s]\n",
      "Trial 3/20: Running 500 iterations: 100%|██████████| 500/500 [00:00<00:00, 809.79it/s]\n",
      "Trial 4/20: Running 500 iterations: 100%|██████████| 500/500 [00:00<00:00, 831.63it/s]\n",
      "Trial 5/20: Running 500 iterations: 100%|██████████| 500/500 [00:00<00:00, 817.41it/s]\n",
      "Trial 6/20: Running 500 iterations: 100%|██████████| 500/500 [00:00<00:00, 816.72it/s]\n",
      "Trial 7/20: Running 500 iterations: 100%|██████████| 500/500 [00:00<00:00, 810.63it/s]\n",
      "Trial 8/20: Running 500 iterations: 100%|██████████| 500/500 [00:00<00:00, 833.05it/s]\n",
      "Trial 9/20: Running 500 iterations: 100%|██████████| 500/500 [00:00<00:00, 851.60it/s]\n",
      "Trial 10/20: Running 500 iterations: 100%|██████████| 500/500 [00:00<00:00, 838.41it/s]\n",
      "Trial 11/20: Running 500 iterations: 100%|██████████| 500/500 [00:00<00:00, 829.69it/s]\n",
      "Trial 12/20: Running 500 iterations: 100%|██████████| 500/500 [00:00<00:00, 843.08it/s]\n",
      "Trial 13/20: Running 500 iterations: 100%|██████████| 500/500 [00:00<00:00, 833.50it/s]\n",
      "Trial 14/20: Running 500 iterations: 100%|██████████| 500/500 [00:00<00:00, 821.78it/s]\n",
      "Trial 15/20: Running 500 iterations: 100%|██████████| 500/500 [00:00<00:00, 858.95it/s]\n",
      "Trial 16/20: Running 500 iterations: 100%|██████████| 500/500 [00:00<00:00, 861.12it/s]\n",
      "Trial 17/20: Running 500 iterations: 100%|██████████| 500/500 [00:00<00:00, 854.87it/s]\n",
      "Trial 18/20: Running 500 iterations: 100%|██████████| 500/500 [00:00<00:00, 851.17it/s]\n",
      "Trial 19/20: Running 500 iterations: 100%|██████████| 500/500 [00:00<00:00, 847.21it/s]\n",
      "Trial 20/20: Running 500 iterations: 100%|██████████| 500/500 [00:00<00:00, 848.90it/s]\n",
      "Unsupported operator aten::max_pool2d encountered 3 time(s)\n",
      "Unsupported operator aten::add encountered 4 time(s)\n"
     ]
    },
    {
     "name": "stdout",
     "output_type": "stream",
     "text": [
      "Processing batch size: 32\n"
     ]
    },
    {
     "name": "stderr",
     "output_type": "stream",
     "text": [
      "Trial 1/20: Running 500 iterations: 100%|██████████| 500/500 [00:01<00:00, 491.17it/s]\n",
      "Trial 2/20: Running 500 iterations: 100%|██████████| 500/500 [00:01<00:00, 486.24it/s]\n",
      "Trial 3/20: Running 500 iterations: 100%|██████████| 500/500 [00:01<00:00, 492.53it/s]\n",
      "Trial 4/20: Running 500 iterations: 100%|██████████| 500/500 [00:01<00:00, 487.18it/s]\n",
      "Trial 5/20: Running 500 iterations: 100%|██████████| 500/500 [00:01<00:00, 497.15it/s]\n",
      "Trial 6/20: Running 500 iterations: 100%|██████████| 500/500 [00:01<00:00, 495.25it/s]\n",
      "Trial 7/20: Running 500 iterations: 100%|██████████| 500/500 [00:01<00:00, 498.89it/s]\n",
      "Trial 8/20: Running 500 iterations: 100%|██████████| 500/500 [00:01<00:00, 491.83it/s]\n",
      "Trial 9/20: Running 500 iterations: 100%|██████████| 500/500 [00:00<00:00, 502.61it/s]\n",
      "Trial 10/20: Running 500 iterations: 100%|██████████| 500/500 [00:00<00:00, 506.31it/s]\n",
      "Trial 11/20: Running 500 iterations: 100%|██████████| 500/500 [00:00<00:00, 502.65it/s]\n",
      "Trial 12/20: Running 500 iterations: 100%|██████████| 500/500 [00:00<00:00, 504.85it/s]\n",
      "Trial 13/20: Running 500 iterations: 100%|██████████| 500/500 [00:00<00:00, 506.15it/s]\n",
      "Trial 14/20: Running 500 iterations: 100%|██████████| 500/500 [00:00<00:00, 501.06it/s]\n",
      "Trial 15/20: Running 500 iterations: 100%|██████████| 500/500 [00:00<00:00, 502.61it/s]\n",
      "Trial 16/20: Running 500 iterations: 100%|██████████| 500/500 [00:00<00:00, 501.36it/s]\n",
      "Trial 17/20: Running 500 iterations: 100%|██████████| 500/500 [00:00<00:00, 504.07it/s]\n",
      "Trial 18/20: Running 500 iterations: 100%|██████████| 500/500 [00:00<00:00, 504.55it/s]\n",
      "Trial 19/20: Running 500 iterations: 100%|██████████| 500/500 [00:00<00:00, 506.75it/s]\n",
      "Trial 20/20: Running 500 iterations: 100%|██████████| 500/500 [00:00<00:00, 503.22it/s]\n",
      "Unsupported operator aten::max_pool2d encountered 3 time(s)\n",
      "Unsupported operator aten::add encountered 4 time(s)\n"
     ]
    },
    {
     "name": "stdout",
     "output_type": "stream",
     "text": [
      "Processing batch size: 64\n"
     ]
    },
    {
     "name": "stderr",
     "output_type": "stream",
     "text": [
      "Trial 1/20: Running 500 iterations: 100%|██████████| 500/500 [00:01<00:00, 262.73it/s]\n",
      "Trial 2/20: Running 500 iterations: 100%|██████████| 500/500 [00:01<00:00, 263.07it/s]\n",
      "Trial 3/20: Running 500 iterations: 100%|██████████| 500/500 [00:01<00:00, 263.08it/s]\n",
      "Trial 4/20: Running 500 iterations: 100%|██████████| 500/500 [00:01<00:00, 262.71it/s]\n",
      "Trial 5/20: Running 500 iterations: 100%|██████████| 500/500 [00:01<00:00, 267.80it/s]\n",
      "Trial 6/20: Running 500 iterations: 100%|██████████| 500/500 [00:01<00:00, 269.66it/s]\n",
      "Trial 7/20: Running 500 iterations: 100%|██████████| 500/500 [00:01<00:00, 268.61it/s]\n",
      "Trial 8/20: Running 500 iterations: 100%|██████████| 500/500 [00:01<00:00, 269.00it/s]\n",
      "Trial 9/20: Running 500 iterations: 100%|██████████| 500/500 [00:01<00:00, 269.60it/s]\n",
      "Trial 10/20: Running 500 iterations: 100%|██████████| 500/500 [00:01<00:00, 270.02it/s]\n",
      "Trial 11/20: Running 500 iterations: 100%|██████████| 500/500 [00:01<00:00, 269.86it/s]\n",
      "Trial 12/20: Running 500 iterations: 100%|██████████| 500/500 [00:01<00:00, 269.28it/s]\n",
      "Trial 13/20: Running 500 iterations: 100%|██████████| 500/500 [00:01<00:00, 268.69it/s]\n",
      "Trial 14/20: Running 500 iterations: 100%|██████████| 500/500 [00:01<00:00, 269.43it/s]\n",
      "Trial 15/20: Running 500 iterations: 100%|██████████| 500/500 [00:01<00:00, 268.90it/s]\n",
      "Trial 16/20: Running 500 iterations: 100%|██████████| 500/500 [00:01<00:00, 268.74it/s]\n",
      "Trial 17/20: Running 500 iterations: 100%|██████████| 500/500 [00:01<00:00, 268.78it/s]\n",
      "Trial 18/20: Running 500 iterations: 100%|██████████| 500/500 [00:01<00:00, 269.49it/s]\n",
      "Trial 19/20: Running 500 iterations: 100%|██████████| 500/500 [00:01<00:00, 269.51it/s]\n",
      "Trial 20/20: Running 500 iterations: 100%|██████████| 500/500 [00:01<00:00, 269.04it/s]\n",
      "Processing Models:  17%|█▋        | 11/66 [23:42<1:50:37, 120.68s/it]"
     ]
    },
    {
     "name": "stdout",
     "output_type": "stream",
     "text": [
      "Processing model: d:\\PruneLimit\\PruneLimitAnalyzer\\models\\AlexNet_DATASET_random_PD2_GPR-10_PRUNED_SEED_23.pth\n"
     ]
    },
    {
     "name": "stderr",
     "output_type": "stream",
     "text": [
      "Unsupported operator aten::max_pool2d encountered 3 time(s)\n",
      "Unsupported operator aten::add encountered 3 time(s)\n"
     ]
    },
    {
     "name": "stdout",
     "output_type": "stream",
     "text": [
      "Processing batch size: 1\n"
     ]
    },
    {
     "name": "stderr",
     "output_type": "stream",
     "text": [
      "Trial 1/20: Running 500 iterations: 100%|██████████| 500/500 [00:00<00:00, 1041.92it/s]\n",
      "Trial 2/20: Running 500 iterations: 100%|██████████| 500/500 [00:00<00:00, 1014.84it/s]\n",
      "Trial 3/20: Running 500 iterations: 100%|██████████| 500/500 [00:00<00:00, 1063.96it/s]\n",
      "Trial 4/20: Running 500 iterations: 100%|██████████| 500/500 [00:00<00:00, 933.16it/s]\n",
      "Trial 5/20: Running 500 iterations: 100%|██████████| 500/500 [00:00<00:00, 1044.46it/s]\n",
      "Trial 6/20: Running 500 iterations: 100%|██████████| 500/500 [00:00<00:00, 1103.55it/s]\n",
      "Trial 7/20: Running 500 iterations: 100%|██████████| 500/500 [00:00<00:00, 1066.35it/s]\n",
      "Trial 8/20: Running 500 iterations: 100%|██████████| 500/500 [00:00<00:00, 908.60it/s]\n",
      "Trial 9/20: Running 500 iterations: 100%|██████████| 500/500 [00:00<00:00, 1053.40it/s]\n",
      "Trial 10/20: Running 500 iterations: 100%|██████████| 500/500 [00:00<00:00, 993.03it/s] \n",
      "Trial 11/20: Running 500 iterations: 100%|██████████| 500/500 [00:00<00:00, 941.51it/s]\n",
      "Trial 12/20: Running 500 iterations: 100%|██████████| 500/500 [00:00<00:00, 908.02it/s]\n",
      "Trial 13/20: Running 500 iterations: 100%|██████████| 500/500 [00:00<00:00, 1056.99it/s]\n",
      "Trial 14/20: Running 500 iterations: 100%|██████████| 500/500 [00:00<00:00, 1031.12it/s]\n",
      "Trial 15/20: Running 500 iterations: 100%|██████████| 500/500 [00:00<00:00, 1039.85it/s]\n",
      "Trial 16/20: Running 500 iterations: 100%|██████████| 500/500 [00:00<00:00, 1020.65it/s]\n",
      "Trial 17/20: Running 500 iterations: 100%|██████████| 500/500 [00:00<00:00, 1057.80it/s]\n",
      "Trial 18/20: Running 500 iterations: 100%|██████████| 500/500 [00:00<00:00, 1068.11it/s]\n",
      "Trial 19/20: Running 500 iterations: 100%|██████████| 500/500 [00:00<00:00, 1064.13it/s]\n",
      "Trial 20/20: Running 500 iterations: 100%|██████████| 500/500 [00:00<00:00, 836.46it/s]\n",
      "Unsupported operator aten::max_pool2d encountered 3 time(s)\n",
      "Unsupported operator aten::add encountered 3 time(s)\n"
     ]
    },
    {
     "name": "stdout",
     "output_type": "stream",
     "text": [
      "Processing batch size: 8\n"
     ]
    },
    {
     "name": "stderr",
     "output_type": "stream",
     "text": [
      "Trial 1/20: Running 500 iterations: 100%|██████████| 500/500 [00:00<00:00, 634.90it/s]\n",
      "Trial 2/20: Running 500 iterations: 100%|██████████| 500/500 [00:00<00:00, 692.43it/s]\n",
      "Trial 3/20: Running 500 iterations: 100%|██████████| 500/500 [00:00<00:00, 699.93it/s]\n",
      "Trial 4/20: Running 500 iterations: 100%|██████████| 500/500 [00:00<00:00, 665.29it/s]\n",
      "Trial 5/20: Running 500 iterations: 100%|██████████| 500/500 [00:00<00:00, 673.13it/s]\n",
      "Trial 6/20: Running 500 iterations: 100%|██████████| 500/500 [00:00<00:00, 719.83it/s]\n",
      "Trial 7/20: Running 500 iterations: 100%|██████████| 500/500 [00:00<00:00, 714.45it/s]\n",
      "Trial 8/20: Running 500 iterations: 100%|██████████| 500/500 [00:00<00:00, 729.32it/s]\n",
      "Trial 9/20: Running 500 iterations: 100%|██████████| 500/500 [00:00<00:00, 724.91it/s]\n",
      "Trial 10/20: Running 500 iterations: 100%|██████████| 500/500 [00:00<00:00, 706.32it/s]\n",
      "Trial 11/20: Running 500 iterations: 100%|██████████| 500/500 [00:00<00:00, 705.80it/s]\n",
      "Trial 12/20: Running 500 iterations: 100%|██████████| 500/500 [00:00<00:00, 722.45it/s]\n",
      "Trial 13/20: Running 500 iterations: 100%|██████████| 500/500 [00:00<00:00, 729.48it/s]\n",
      "Trial 14/20: Running 500 iterations: 100%|██████████| 500/500 [00:00<00:00, 734.43it/s]\n",
      "Trial 15/20: Running 500 iterations: 100%|██████████| 500/500 [00:00<00:00, 742.81it/s]\n",
      "Trial 16/20: Running 500 iterations: 100%|██████████| 500/500 [00:00<00:00, 710.01it/s]\n",
      "Trial 17/20: Running 500 iterations: 100%|██████████| 500/500 [00:00<00:00, 737.54it/s]\n",
      "Trial 18/20: Running 500 iterations: 100%|██████████| 500/500 [00:00<00:00, 738.71it/s]\n",
      "Trial 19/20: Running 500 iterations: 100%|██████████| 500/500 [00:00<00:00, 730.69it/s]\n",
      "Trial 20/20: Running 500 iterations: 100%|██████████| 500/500 [00:00<00:00, 732.40it/s]\n",
      "Unsupported operator aten::max_pool2d encountered 3 time(s)\n",
      "Unsupported operator aten::add encountered 3 time(s)\n"
     ]
    },
    {
     "name": "stdout",
     "output_type": "stream",
     "text": [
      "Processing batch size: 16\n"
     ]
    },
    {
     "name": "stderr",
     "output_type": "stream",
     "text": [
      "Trial 1/20: Running 500 iterations: 100%|██████████| 500/500 [00:01<00:00, 494.79it/s]\n",
      "Trial 2/20: Running 500 iterations: 100%|██████████| 500/500 [00:01<00:00, 496.06it/s]\n",
      "Trial 3/20: Running 500 iterations: 100%|██████████| 500/500 [00:01<00:00, 494.73it/s]\n",
      "Trial 4/20: Running 500 iterations: 100%|██████████| 500/500 [00:01<00:00, 497.38it/s]\n",
      "Trial 5/20: Running 500 iterations: 100%|██████████| 500/500 [00:01<00:00, 494.23it/s]\n",
      "Trial 6/20: Running 500 iterations: 100%|██████████| 500/500 [00:01<00:00, 492.83it/s]\n",
      "Trial 7/20: Running 500 iterations: 100%|██████████| 500/500 [00:01<00:00, 485.09it/s]\n",
      "Trial 8/20: Running 500 iterations: 100%|██████████| 500/500 [00:01<00:00, 489.54it/s]\n",
      "Trial 9/20: Running 500 iterations: 100%|██████████| 500/500 [00:00<00:00, 507.19it/s]\n",
      "Trial 10/20: Running 500 iterations: 100%|██████████| 500/500 [00:00<00:00, 504.93it/s]\n",
      "Trial 11/20: Running 500 iterations: 100%|██████████| 500/500 [00:00<00:00, 505.11it/s]\n",
      "Trial 12/20: Running 500 iterations: 100%|██████████| 500/500 [00:00<00:00, 504.87it/s]\n",
      "Trial 13/20: Running 500 iterations: 100%|██████████| 500/500 [00:00<00:00, 508.04it/s]\n",
      "Trial 14/20: Running 500 iterations: 100%|██████████| 500/500 [00:00<00:00, 504.48it/s]\n",
      "Trial 15/20: Running 500 iterations: 100%|██████████| 500/500 [00:00<00:00, 504.53it/s]\n",
      "Trial 16/20: Running 500 iterations: 100%|██████████| 500/500 [00:00<00:00, 506.61it/s]\n",
      "Trial 17/20: Running 500 iterations: 100%|██████████| 500/500 [00:00<00:00, 504.75it/s]\n",
      "Trial 18/20: Running 500 iterations: 100%|██████████| 500/500 [00:00<00:00, 505.78it/s]\n",
      "Trial 19/20: Running 500 iterations: 100%|██████████| 500/500 [00:00<00:00, 503.07it/s]\n",
      "Trial 20/20: Running 500 iterations: 100%|██████████| 500/500 [00:00<00:00, 511.55it/s]\n",
      "Unsupported operator aten::max_pool2d encountered 3 time(s)\n",
      "Unsupported operator aten::add encountered 3 time(s)\n"
     ]
    },
    {
     "name": "stdout",
     "output_type": "stream",
     "text": [
      "Processing batch size: 32\n"
     ]
    },
    {
     "name": "stderr",
     "output_type": "stream",
     "text": [
      "Trial 1/20: Running 500 iterations: 100%|██████████| 500/500 [00:01<00:00, 275.28it/s]\n",
      "Trial 2/20: Running 500 iterations: 100%|██████████| 500/500 [00:01<00:00, 276.54it/s]\n",
      "Trial 3/20: Running 500 iterations: 100%|██████████| 500/500 [00:01<00:00, 275.01it/s]\n",
      "Trial 4/20: Running 500 iterations: 100%|██████████| 500/500 [00:01<00:00, 273.58it/s]\n",
      "Trial 5/20: Running 500 iterations: 100%|██████████| 500/500 [00:01<00:00, 278.68it/s]\n",
      "Trial 6/20: Running 500 iterations: 100%|██████████| 500/500 [00:01<00:00, 283.52it/s]\n",
      "Trial 7/20: Running 500 iterations: 100%|██████████| 500/500 [00:01<00:00, 283.88it/s]\n",
      "Trial 8/20: Running 500 iterations: 100%|██████████| 500/500 [00:01<00:00, 283.40it/s]\n",
      "Trial 9/20: Running 500 iterations: 100%|██████████| 500/500 [00:01<00:00, 283.84it/s]\n",
      "Trial 10/20: Running 500 iterations: 100%|██████████| 500/500 [00:01<00:00, 283.62it/s]\n",
      "Trial 11/20: Running 500 iterations: 100%|██████████| 500/500 [00:01<00:00, 283.98it/s]\n",
      "Trial 12/20: Running 500 iterations: 100%|██████████| 500/500 [00:01<00:00, 283.53it/s]\n",
      "Trial 13/20: Running 500 iterations: 100%|██████████| 500/500 [00:01<00:00, 284.25it/s]\n",
      "Trial 14/20: Running 500 iterations: 100%|██████████| 500/500 [00:01<00:00, 283.38it/s]\n",
      "Trial 15/20: Running 500 iterations: 100%|██████████| 500/500 [00:01<00:00, 284.25it/s]\n",
      "Trial 16/20: Running 500 iterations: 100%|██████████| 500/500 [00:01<00:00, 283.45it/s]\n",
      "Trial 17/20: Running 500 iterations: 100%|██████████| 500/500 [00:01<00:00, 283.33it/s]\n",
      "Trial 18/20: Running 500 iterations: 100%|██████████| 500/500 [00:01<00:00, 283.71it/s]\n",
      "Trial 19/20: Running 500 iterations: 100%|██████████| 500/500 [00:01<00:00, 283.52it/s]\n",
      "Trial 20/20: Running 500 iterations: 100%|██████████| 500/500 [00:01<00:00, 282.88it/s]\n",
      "Unsupported operator aten::max_pool2d encountered 3 time(s)\n",
      "Unsupported operator aten::add encountered 3 time(s)\n"
     ]
    },
    {
     "name": "stdout",
     "output_type": "stream",
     "text": [
      "Processing batch size: 64\n"
     ]
    },
    {
     "name": "stderr",
     "output_type": "stream",
     "text": [
      "Trial 1/20: Running 500 iterations: 100%|██████████| 500/500 [00:02<00:00, 176.42it/s]\n",
      "Trial 2/20: Running 500 iterations: 100%|██████████| 500/500 [00:02<00:00, 176.65it/s]\n",
      "Trial 3/20: Running 500 iterations: 100%|██████████| 500/500 [00:02<00:00, 176.13it/s]\n",
      "Trial 4/20: Running 500 iterations: 100%|██████████| 500/500 [00:02<00:00, 180.56it/s]\n",
      "Trial 5/20: Running 500 iterations: 100%|██████████| 500/500 [00:02<00:00, 180.88it/s]\n",
      "Trial 6/20: Running 500 iterations: 100%|██████████| 500/500 [00:02<00:00, 181.16it/s]\n",
      "Trial 7/20: Running 500 iterations: 100%|██████████| 500/500 [00:02<00:00, 180.91it/s]\n",
      "Trial 8/20: Running 500 iterations: 100%|██████████| 500/500 [00:02<00:00, 180.92it/s]\n",
      "Trial 9/20: Running 500 iterations: 100%|██████████| 500/500 [00:02<00:00, 180.96it/s]\n",
      "Trial 10/20: Running 500 iterations: 100%|██████████| 500/500 [00:02<00:00, 181.08it/s]\n",
      "Trial 11/20: Running 500 iterations: 100%|██████████| 500/500 [00:02<00:00, 181.06it/s]\n",
      "Trial 12/20: Running 500 iterations: 100%|██████████| 500/500 [00:02<00:00, 180.53it/s]\n",
      "Trial 13/20: Running 500 iterations: 100%|██████████| 500/500 [00:02<00:00, 180.93it/s]\n",
      "Trial 14/20: Running 500 iterations: 100%|██████████| 500/500 [00:02<00:00, 180.45it/s]\n",
      "Trial 15/20: Running 500 iterations: 100%|██████████| 500/500 [00:02<00:00, 180.11it/s]\n",
      "Trial 16/20: Running 500 iterations: 100%|██████████| 500/500 [00:02<00:00, 180.51it/s]\n",
      "Trial 17/20: Running 500 iterations: 100%|██████████| 500/500 [00:02<00:00, 180.10it/s]\n",
      "Trial 18/20: Running 500 iterations: 100%|██████████| 500/500 [00:02<00:00, 180.60it/s]\n",
      "Trial 19/20: Running 500 iterations: 100%|██████████| 500/500 [00:02<00:00, 180.53it/s]\n",
      "Trial 20/20: Running 500 iterations: 100%|██████████| 500/500 [00:02<00:00, 180.53it/s]\n",
      "Processing Models:  18%|█▊        | 12/66 [26:31<2:01:50, 135.38s/it]"
     ]
    },
    {
     "name": "stdout",
     "output_type": "stream",
     "text": [
      "Processing model: d:\\PruneLimit\\PruneLimitAnalyzer\\models\\AlexNet_DATASET_random_PD3_GPR-10_PRUNED_SEED_23.pth\n"
     ]
    },
    {
     "name": "stderr",
     "output_type": "stream",
     "text": [
      "Unsupported operator aten::max_pool2d encountered 3 time(s)\n",
      "Unsupported operator aten::add encountered 4 time(s)\n"
     ]
    },
    {
     "name": "stdout",
     "output_type": "stream",
     "text": [
      "Processing batch size: 1\n"
     ]
    },
    {
     "name": "stderr",
     "output_type": "stream",
     "text": [
      "Trial 1/20: Running 500 iterations: 100%|██████████| 500/500 [00:00<00:00, 850.09it/s]\n",
      "Trial 2/20: Running 500 iterations: 100%|██████████| 500/500 [00:00<00:00, 989.00it/s]\n",
      "Trial 3/20: Running 500 iterations: 100%|██████████| 500/500 [00:00<00:00, 905.95it/s]\n",
      "Trial 4/20: Running 500 iterations: 100%|██████████| 500/500 [00:00<00:00, 893.23it/s]\n",
      "Trial 5/20: Running 500 iterations: 100%|██████████| 500/500 [00:00<00:00, 975.32it/s]\n",
      "Trial 6/20: Running 500 iterations: 100%|██████████| 500/500 [00:00<00:00, 845.44it/s]\n",
      "Trial 7/20: Running 500 iterations: 100%|██████████| 500/500 [00:00<00:00, 1007.39it/s]\n",
      "Trial 8/20: Running 500 iterations: 100%|██████████| 500/500 [00:00<00:00, 919.70it/s]\n",
      "Trial 9/20: Running 500 iterations: 100%|██████████| 500/500 [00:00<00:00, 981.58it/s]\n",
      "Trial 10/20: Running 500 iterations: 100%|██████████| 500/500 [00:00<00:00, 943.24it/s]\n",
      "Trial 11/20: Running 500 iterations: 100%|██████████| 500/500 [00:00<00:00, 947.31it/s]\n",
      "Trial 12/20: Running 500 iterations: 100%|██████████| 500/500 [00:00<00:00, 971.70it/s]\n",
      "Trial 13/20: Running 500 iterations: 100%|██████████| 500/500 [00:00<00:00, 1001.52it/s]\n",
      "Trial 14/20: Running 500 iterations: 100%|██████████| 500/500 [00:00<00:00, 906.82it/s]\n",
      "Trial 15/20: Running 500 iterations: 100%|██████████| 500/500 [00:00<00:00, 913.98it/s]\n",
      "Trial 16/20: Running 500 iterations: 100%|██████████| 500/500 [00:00<00:00, 803.30it/s]\n",
      "Trial 17/20: Running 500 iterations: 100%|██████████| 500/500 [00:00<00:00, 966.28it/s]\n",
      "Trial 18/20: Running 500 iterations: 100%|██████████| 500/500 [00:00<00:00, 988.22it/s]\n",
      "Trial 19/20: Running 500 iterations: 100%|██████████| 500/500 [00:00<00:00, 992.62it/s]\n",
      "Trial 20/20: Running 500 iterations: 100%|██████████| 500/500 [00:00<00:00, 1011.79it/s]\n",
      "Unsupported operator aten::max_pool2d encountered 3 time(s)\n",
      "Unsupported operator aten::add encountered 4 time(s)\n"
     ]
    },
    {
     "name": "stdout",
     "output_type": "stream",
     "text": [
      "Processing batch size: 8\n"
     ]
    },
    {
     "name": "stderr",
     "output_type": "stream",
     "text": [
      "Trial 1/20: Running 500 iterations: 100%|██████████| 500/500 [00:00<00:00, 690.49it/s]\n",
      "Trial 2/20: Running 500 iterations: 100%|██████████| 500/500 [00:00<00:00, 632.31it/s]\n",
      "Trial 3/20: Running 500 iterations: 100%|██████████| 500/500 [00:00<00:00, 678.31it/s]\n",
      "Trial 4/20: Running 500 iterations: 100%|██████████| 500/500 [00:00<00:00, 678.48it/s]\n",
      "Trial 5/20: Running 500 iterations: 100%|██████████| 500/500 [00:00<00:00, 684.31it/s]\n",
      "Trial 6/20: Running 500 iterations: 100%|██████████| 500/500 [00:00<00:00, 685.87it/s]\n",
      "Trial 7/20: Running 500 iterations: 100%|██████████| 500/500 [00:00<00:00, 676.05it/s]\n",
      "Trial 8/20: Running 500 iterations: 100%|██████████| 500/500 [00:00<00:00, 674.99it/s]\n",
      "Trial 9/20: Running 500 iterations: 100%|██████████| 500/500 [00:00<00:00, 684.38it/s]\n",
      "Trial 10/20: Running 500 iterations: 100%|██████████| 500/500 [00:00<00:00, 680.29it/s]\n",
      "Trial 11/20: Running 500 iterations: 100%|██████████| 500/500 [00:00<00:00, 665.68it/s]\n",
      "Trial 12/20: Running 500 iterations: 100%|██████████| 500/500 [00:00<00:00, 706.09it/s]\n",
      "Trial 13/20: Running 500 iterations: 100%|██████████| 500/500 [00:00<00:00, 686.91it/s]\n",
      "Trial 14/20: Running 500 iterations: 100%|██████████| 500/500 [00:00<00:00, 699.95it/s]\n",
      "Trial 15/20: Running 500 iterations: 100%|██████████| 500/500 [00:00<00:00, 700.07it/s]\n",
      "Trial 16/20: Running 500 iterations: 100%|██████████| 500/500 [00:00<00:00, 684.23it/s]\n",
      "Trial 17/20: Running 500 iterations: 100%|██████████| 500/500 [00:00<00:00, 699.28it/s]\n",
      "Trial 18/20: Running 500 iterations: 100%|██████████| 500/500 [00:00<00:00, 699.30it/s]\n",
      "Trial 19/20: Running 500 iterations: 100%|██████████| 500/500 [00:00<00:00, 705.06it/s]\n",
      "Trial 20/20: Running 500 iterations: 100%|██████████| 500/500 [00:00<00:00, 704.78it/s]\n",
      "Unsupported operator aten::max_pool2d encountered 3 time(s)\n",
      "Unsupported operator aten::add encountered 4 time(s)\n"
     ]
    },
    {
     "name": "stdout",
     "output_type": "stream",
     "text": [
      "Processing batch size: 16\n"
     ]
    },
    {
     "name": "stderr",
     "output_type": "stream",
     "text": [
      "Trial 1/20: Running 500 iterations: 100%|██████████| 500/500 [00:01<00:00, 457.28it/s]\n",
      "Trial 2/20: Running 500 iterations: 100%|██████████| 500/500 [00:01<00:00, 455.25it/s]\n",
      "Trial 3/20: Running 500 iterations: 100%|██████████| 500/500 [00:01<00:00, 456.96it/s]\n",
      "Trial 4/20: Running 500 iterations: 100%|██████████| 500/500 [00:01<00:00, 459.24it/s]\n",
      "Trial 5/20: Running 500 iterations: 100%|██████████| 500/500 [00:01<00:00, 460.81it/s]\n",
      "Trial 6/20: Running 500 iterations: 100%|██████████| 500/500 [00:01<00:00, 462.12it/s]\n",
      "Trial 7/20: Running 500 iterations: 100%|██████████| 500/500 [00:01<00:00, 456.78it/s]\n",
      "Trial 8/20: Running 500 iterations: 100%|██████████| 500/500 [00:01<00:00, 466.19it/s]\n",
      "Trial 9/20: Running 500 iterations: 100%|██████████| 500/500 [00:01<00:00, 473.15it/s]\n",
      "Trial 10/20: Running 500 iterations: 100%|██████████| 500/500 [00:01<00:00, 466.93it/s]\n",
      "Trial 11/20: Running 500 iterations: 100%|██████████| 500/500 [00:01<00:00, 473.23it/s]\n",
      "Trial 12/20: Running 500 iterations: 100%|██████████| 500/500 [00:01<00:00, 470.62it/s]\n",
      "Trial 13/20: Running 500 iterations: 100%|██████████| 500/500 [00:01<00:00, 468.79it/s]\n",
      "Trial 14/20: Running 500 iterations: 100%|██████████| 500/500 [00:01<00:00, 469.16it/s]\n",
      "Trial 15/20: Running 500 iterations: 100%|██████████| 500/500 [00:01<00:00, 470.47it/s]\n",
      "Trial 16/20: Running 500 iterations: 100%|██████████| 500/500 [00:01<00:00, 471.10it/s]\n",
      "Trial 17/20: Running 500 iterations: 100%|██████████| 500/500 [00:01<00:00, 468.55it/s]\n",
      "Trial 18/20: Running 500 iterations: 100%|██████████| 500/500 [00:01<00:00, 462.56it/s]\n",
      "Trial 19/20: Running 500 iterations: 100%|██████████| 500/500 [00:01<00:00, 469.36it/s]\n",
      "Trial 20/20: Running 500 iterations: 100%|██████████| 500/500 [00:01<00:00, 469.63it/s]\n",
      "Unsupported operator aten::max_pool2d encountered 3 time(s)\n",
      "Unsupported operator aten::add encountered 4 time(s)\n"
     ]
    },
    {
     "name": "stdout",
     "output_type": "stream",
     "text": [
      "Processing batch size: 32\n"
     ]
    },
    {
     "name": "stderr",
     "output_type": "stream",
     "text": [
      "Trial 1/20: Running 500 iterations: 100%|██████████| 500/500 [00:01<00:00, 263.61it/s]\n",
      "Trial 2/20: Running 500 iterations: 100%|██████████| 500/500 [00:01<00:00, 262.91it/s]\n",
      "Trial 3/20: Running 500 iterations: 100%|██████████| 500/500 [00:01<00:00, 262.20it/s]\n",
      "Trial 4/20: Running 500 iterations: 100%|██████████| 500/500 [00:01<00:00, 261.33it/s]\n",
      "Trial 5/20: Running 500 iterations: 100%|██████████| 500/500 [00:01<00:00, 268.36it/s]\n",
      "Trial 6/20: Running 500 iterations: 100%|██████████| 500/500 [00:01<00:00, 270.50it/s]\n",
      "Trial 7/20: Running 500 iterations: 100%|██████████| 500/500 [00:01<00:00, 270.55it/s]\n",
      "Trial 8/20: Running 500 iterations: 100%|██████████| 500/500 [00:01<00:00, 269.55it/s]\n",
      "Trial 9/20: Running 500 iterations: 100%|██████████| 500/500 [00:01<00:00, 271.06it/s]\n",
      "Trial 10/20: Running 500 iterations: 100%|██████████| 500/500 [00:01<00:00, 271.10it/s]\n",
      "Trial 11/20: Running 500 iterations: 100%|██████████| 500/500 [00:01<00:00, 271.08it/s]\n",
      "Trial 12/20: Running 500 iterations: 100%|██████████| 500/500 [00:01<00:00, 269.85it/s]\n",
      "Trial 13/20: Running 500 iterations: 100%|██████████| 500/500 [00:01<00:00, 269.49it/s]\n",
      "Trial 14/20: Running 500 iterations: 100%|██████████| 500/500 [00:01<00:00, 270.08it/s]\n",
      "Trial 15/20: Running 500 iterations: 100%|██████████| 500/500 [00:01<00:00, 270.48it/s]\n",
      "Trial 16/20: Running 500 iterations: 100%|██████████| 500/500 [00:01<00:00, 270.37it/s]\n",
      "Trial 17/20: Running 500 iterations: 100%|██████████| 500/500 [00:01<00:00, 270.92it/s]\n",
      "Trial 18/20: Running 500 iterations: 100%|██████████| 500/500 [00:01<00:00, 270.55it/s]\n",
      "Trial 19/20: Running 500 iterations: 100%|██████████| 500/500 [00:01<00:00, 271.11it/s]\n",
      "Trial 20/20: Running 500 iterations: 100%|██████████| 500/500 [00:01<00:00, 269.85it/s]\n",
      "Unsupported operator aten::max_pool2d encountered 3 time(s)\n",
      "Unsupported operator aten::add encountered 4 time(s)\n"
     ]
    },
    {
     "name": "stdout",
     "output_type": "stream",
     "text": [
      "Processing batch size: 64\n"
     ]
    },
    {
     "name": "stderr",
     "output_type": "stream",
     "text": [
      "Trial 1/20: Running 500 iterations: 100%|██████████| 500/500 [00:03<00:00, 155.37it/s]\n",
      "Trial 2/20: Running 500 iterations: 100%|██████████| 500/500 [00:03<00:00, 153.75it/s]\n",
      "Trial 3/20: Running 500 iterations: 100%|██████████| 500/500 [00:03<00:00, 157.29it/s]\n",
      "Trial 4/20: Running 500 iterations: 100%|██████████| 500/500 [00:03<00:00, 158.80it/s]\n",
      "Trial 5/20: Running 500 iterations: 100%|██████████| 500/500 [00:03<00:00, 158.86it/s]\n",
      "Trial 6/20: Running 500 iterations: 100%|██████████| 500/500 [00:03<00:00, 158.90it/s]\n",
      "Trial 7/20: Running 500 iterations: 100%|██████████| 500/500 [00:03<00:00, 159.02it/s]\n",
      "Trial 8/20: Running 500 iterations: 100%|██████████| 500/500 [00:03<00:00, 158.66it/s]\n",
      "Trial 9/20: Running 500 iterations: 100%|██████████| 500/500 [00:03<00:00, 158.66it/s]\n",
      "Trial 10/20: Running 500 iterations: 100%|██████████| 500/500 [00:03<00:00, 159.07it/s]\n",
      "Trial 11/20: Running 500 iterations: 100%|██████████| 500/500 [00:03<00:00, 159.17it/s]\n",
      "Trial 12/20: Running 500 iterations: 100%|██████████| 500/500 [00:03<00:00, 159.21it/s]\n",
      "Trial 13/20: Running 500 iterations: 100%|██████████| 500/500 [00:03<00:00, 159.27it/s]\n",
      "Trial 14/20: Running 500 iterations: 100%|██████████| 500/500 [00:03<00:00, 159.24it/s]\n",
      "Trial 15/20: Running 500 iterations: 100%|██████████| 500/500 [00:03<00:00, 159.27it/s]\n",
      "Trial 16/20: Running 500 iterations: 100%|██████████| 500/500 [00:03<00:00, 159.27it/s]\n",
      "Trial 17/20: Running 500 iterations: 100%|██████████| 500/500 [00:03<00:00, 158.92it/s]\n",
      "Trial 18/20: Running 500 iterations: 100%|██████████| 500/500 [00:03<00:00, 158.93it/s]\n",
      "Trial 19/20: Running 500 iterations: 100%|██████████| 500/500 [00:03<00:00, 158.99it/s]\n",
      "Trial 20/20: Running 500 iterations: 100%|██████████| 500/500 [00:03<00:00, 158.62it/s]\n",
      "Processing Models:  20%|█▉        | 13/66 [29:36<2:12:38, 150.17s/it]Unsupported operator aten::max_pool2d encountered 3 time(s)\n",
      "Unsupported operator aten::add encountered 4 time(s)\n"
     ]
    },
    {
     "name": "stdout",
     "output_type": "stream",
     "text": [
      "Processing model: d:\\PruneLimit\\PruneLimitAnalyzer\\models\\AlexNet_DATASET_random_PD1_GPR-65_PRUNED_SEED_23.pth\n",
      "Processing batch size: 1\n"
     ]
    },
    {
     "name": "stderr",
     "output_type": "stream",
     "text": [
      "Trial 1/20: Running 500 iterations: 100%|██████████| 500/500 [00:00<00:00, 896.97it/s]\n",
      "Trial 2/20: Running 500 iterations: 100%|██████████| 500/500 [00:00<00:00, 876.98it/s]\n",
      "Trial 3/20: Running 500 iterations: 100%|██████████| 500/500 [00:00<00:00, 896.63it/s]\n",
      "Trial 4/20: Running 500 iterations: 100%|██████████| 500/500 [00:00<00:00, 908.62it/s]\n",
      "Trial 5/20: Running 500 iterations: 100%|██████████| 500/500 [00:00<00:00, 884.79it/s]\n",
      "Trial 6/20: Running 500 iterations: 100%|██████████| 500/500 [00:00<00:00, 877.00it/s]\n",
      "Trial 7/20: Running 500 iterations: 100%|██████████| 500/500 [00:00<00:00, 878.65it/s]\n",
      "Trial 8/20: Running 500 iterations: 100%|██████████| 500/500 [00:00<00:00, 894.25it/s]\n",
      "Trial 9/20: Running 500 iterations: 100%|██████████| 500/500 [00:00<00:00, 898.69it/s]\n",
      "Trial 10/20: Running 500 iterations: 100%|██████████| 500/500 [00:00<00:00, 816.97it/s]\n",
      "Trial 11/20: Running 500 iterations: 100%|██████████| 500/500 [00:00<00:00, 836.68it/s]\n",
      "Trial 12/20: Running 500 iterations: 100%|██████████| 500/500 [00:00<00:00, 827.36it/s]\n",
      "Trial 13/20: Running 500 iterations: 100%|██████████| 500/500 [00:00<00:00, 871.55it/s]\n",
      "Trial 14/20: Running 500 iterations: 100%|██████████| 500/500 [00:00<00:00, 806.67it/s]\n",
      "Trial 15/20: Running 500 iterations: 100%|██████████| 500/500 [00:00<00:00, 844.34it/s]\n",
      "Trial 16/20: Running 500 iterations: 100%|██████████| 500/500 [00:00<00:00, 938.79it/s]\n",
      "Trial 17/20: Running 500 iterations: 100%|██████████| 500/500 [00:00<00:00, 778.43it/s]\n",
      "Trial 18/20: Running 500 iterations: 100%|██████████| 500/500 [00:00<00:00, 786.71it/s]\n",
      "Trial 19/20: Running 500 iterations: 100%|██████████| 500/500 [00:00<00:00, 802.17it/s]\n",
      "Trial 20/20: Running 500 iterations: 100%|██████████| 500/500 [00:00<00:00, 843.01it/s]\n",
      "Unsupported operator aten::max_pool2d encountered 3 time(s)\n",
      "Unsupported operator aten::add encountered 4 time(s)\n"
     ]
    },
    {
     "name": "stdout",
     "output_type": "stream",
     "text": [
      "Processing batch size: 8\n"
     ]
    },
    {
     "name": "stderr",
     "output_type": "stream",
     "text": [
      "Trial 1/20: Running 500 iterations: 100%|██████████| 500/500 [00:00<00:00, 858.74it/s]\n",
      "Trial 2/20: Running 500 iterations: 100%|██████████| 500/500 [00:00<00:00, 799.55it/s]\n",
      "Trial 3/20: Running 500 iterations: 100%|██████████| 500/500 [00:00<00:00, 925.66it/s]\n",
      "Trial 4/20: Running 500 iterations: 100%|██████████| 500/500 [00:00<00:00, 888.80it/s]\n",
      "Trial 5/20: Running 500 iterations: 100%|██████████| 500/500 [00:00<00:00, 966.07it/s]\n",
      "Trial 6/20: Running 500 iterations: 100%|██████████| 500/500 [00:00<00:00, 970.68it/s]\n",
      "Trial 7/20: Running 500 iterations: 100%|██████████| 500/500 [00:00<00:00, 971.32it/s]\n",
      "Trial 8/20: Running 500 iterations: 100%|██████████| 500/500 [00:00<00:00, 970.00it/s]\n",
      "Trial 9/20: Running 500 iterations: 100%|██████████| 500/500 [00:00<00:00, 950.54it/s]\n",
      "Trial 10/20: Running 500 iterations: 100%|██████████| 500/500 [00:00<00:00, 951.67it/s]\n",
      "Trial 11/20: Running 500 iterations: 100%|██████████| 500/500 [00:00<00:00, 891.47it/s]\n",
      "Trial 12/20: Running 500 iterations: 100%|██████████| 500/500 [00:00<00:00, 928.30it/s]\n",
      "Trial 13/20: Running 500 iterations: 100%|██████████| 500/500 [00:00<00:00, 951.54it/s]\n",
      "Trial 14/20: Running 500 iterations: 100%|██████████| 500/500 [00:00<00:00, 970.59it/s]\n",
      "Trial 15/20: Running 500 iterations: 100%|██████████| 500/500 [00:00<00:00, 926.57it/s]\n",
      "Trial 16/20: Running 500 iterations: 100%|██████████| 500/500 [00:00<00:00, 864.82it/s]\n",
      "Trial 17/20: Running 500 iterations: 100%|██████████| 500/500 [00:00<00:00, 948.85it/s]\n",
      "Trial 18/20: Running 500 iterations: 100%|██████████| 500/500 [00:00<00:00, 966.32it/s]\n",
      "Trial 19/20: Running 500 iterations: 100%|██████████| 500/500 [00:00<00:00, 948.43it/s]\n",
      "Trial 20/20: Running 500 iterations: 100%|██████████| 500/500 [00:00<00:00, 973.15it/s]\n",
      "Unsupported operator aten::max_pool2d encountered 3 time(s)\n",
      "Unsupported operator aten::add encountered 4 time(s)\n"
     ]
    },
    {
     "name": "stdout",
     "output_type": "stream",
     "text": [
      "Processing batch size: 16\n"
     ]
    },
    {
     "name": "stderr",
     "output_type": "stream",
     "text": [
      "Trial 1/20: Running 500 iterations: 100%|██████████| 500/500 [00:00<00:00, 990.13it/s]\n",
      "Trial 2/20: Running 500 iterations: 100%|██████████| 500/500 [00:00<00:00, 956.88it/s]\n",
      "Trial 3/20: Running 500 iterations: 100%|██████████| 500/500 [00:00<00:00, 960.64it/s]\n",
      "Trial 4/20: Running 500 iterations: 100%|██████████| 500/500 [00:00<00:00, 1001.14it/s]\n",
      "Trial 5/20: Running 500 iterations: 100%|██████████| 500/500 [00:00<00:00, 826.60it/s]\n",
      "Trial 6/20: Running 500 iterations: 100%|██████████| 500/500 [00:00<00:00, 883.77it/s]\n",
      "Trial 7/20: Running 500 iterations: 100%|██████████| 500/500 [00:00<00:00, 835.86it/s]\n",
      "Trial 8/20: Running 500 iterations: 100%|██████████| 500/500 [00:00<00:00, 854.15it/s]\n",
      "Trial 9/20: Running 500 iterations: 100%|██████████| 500/500 [00:00<00:00, 824.84it/s]\n",
      "Trial 10/20: Running 500 iterations: 100%|██████████| 500/500 [00:00<00:00, 866.86it/s]\n",
      "Trial 11/20: Running 500 iterations: 100%|██████████| 500/500 [00:00<00:00, 924.36it/s]\n",
      "Trial 12/20: Running 500 iterations: 100%|██████████| 500/500 [00:00<00:00, 990.18it/s]\n",
      "Trial 13/20: Running 500 iterations: 100%|██████████| 500/500 [00:00<00:00, 1001.42it/s]\n",
      "Trial 14/20: Running 500 iterations: 100%|██████████| 500/500 [00:00<00:00, 978.67it/s]\n",
      "Trial 15/20: Running 500 iterations: 100%|██████████| 500/500 [00:00<00:00, 1013.45it/s]\n",
      "Trial 16/20: Running 500 iterations: 100%|██████████| 500/500 [00:00<00:00, 1012.69it/s]\n",
      "Trial 17/20: Running 500 iterations: 100%|██████████| 500/500 [00:00<00:00, 1016.15it/s]\n",
      "Trial 18/20: Running 500 iterations: 100%|██████████| 500/500 [00:00<00:00, 1024.50it/s]\n",
      "Trial 19/20: Running 500 iterations: 100%|██████████| 500/500 [00:00<00:00, 1030.48it/s]\n",
      "Trial 20/20: Running 500 iterations: 100%|██████████| 500/500 [00:00<00:00, 921.50it/s]\n",
      "Unsupported operator aten::max_pool2d encountered 3 time(s)\n",
      "Unsupported operator aten::add encountered 4 time(s)\n"
     ]
    },
    {
     "name": "stdout",
     "output_type": "stream",
     "text": [
      "Processing batch size: 32\n"
     ]
    },
    {
     "name": "stderr",
     "output_type": "stream",
     "text": [
      "Trial 1/20: Running 500 iterations: 100%|██████████| 500/500 [00:00<00:00, 826.09it/s]\n",
      "Trial 2/20: Running 500 iterations: 100%|██████████| 500/500 [00:00<00:00, 817.67it/s]\n",
      "Trial 3/20: Running 500 iterations: 100%|██████████| 500/500 [00:00<00:00, 829.43it/s]\n",
      "Trial 4/20: Running 500 iterations: 100%|██████████| 500/500 [00:00<00:00, 800.52it/s]\n",
      "Trial 5/20: Running 500 iterations: 100%|██████████| 500/500 [00:00<00:00, 813.03it/s]\n",
      "Trial 6/20: Running 500 iterations: 100%|██████████| 500/500 [00:00<00:00, 832.81it/s]\n",
      "Trial 7/20: Running 500 iterations: 100%|██████████| 500/500 [00:00<00:00, 827.68it/s]\n",
      "Trial 8/20: Running 500 iterations: 100%|██████████| 500/500 [00:00<00:00, 778.30it/s]\n",
      "Trial 9/20: Running 500 iterations: 100%|██████████| 500/500 [00:00<00:00, 783.81it/s]\n",
      "Trial 10/20: Running 500 iterations: 100%|██████████| 500/500 [00:00<00:00, 788.88it/s]\n",
      "Trial 11/20: Running 500 iterations: 100%|██████████| 500/500 [00:00<00:00, 825.15it/s]\n",
      "Trial 12/20: Running 500 iterations: 100%|██████████| 500/500 [00:00<00:00, 791.94it/s]\n",
      "Trial 13/20: Running 500 iterations: 100%|██████████| 500/500 [00:00<00:00, 793.86it/s]\n",
      "Trial 14/20: Running 500 iterations: 100%|██████████| 500/500 [00:00<00:00, 835.94it/s]\n",
      "Trial 15/20: Running 500 iterations: 100%|██████████| 500/500 [00:00<00:00, 820.94it/s]\n",
      "Trial 16/20: Running 500 iterations: 100%|██████████| 500/500 [00:00<00:00, 836.17it/s]\n",
      "Trial 17/20: Running 500 iterations: 100%|██████████| 500/500 [00:00<00:00, 830.35it/s]\n",
      "Trial 18/20: Running 500 iterations: 100%|██████████| 500/500 [00:00<00:00, 830.46it/s]\n",
      "Trial 19/20: Running 500 iterations: 100%|██████████| 500/500 [00:00<00:00, 838.12it/s]\n",
      "Trial 20/20: Running 500 iterations: 100%|██████████| 500/500 [00:00<00:00, 833.82it/s]\n",
      "Unsupported operator aten::max_pool2d encountered 3 time(s)\n",
      "Unsupported operator aten::add encountered 4 time(s)\n"
     ]
    },
    {
     "name": "stdout",
     "output_type": "stream",
     "text": [
      "Processing batch size: 64\n"
     ]
    },
    {
     "name": "stderr",
     "output_type": "stream",
     "text": [
      "Trial 1/20: Running 500 iterations: 100%|██████████| 500/500 [00:01<00:00, 457.41it/s]\n",
      "Trial 2/20: Running 500 iterations: 100%|██████████| 500/500 [00:01<00:00, 455.87it/s]\n",
      "Trial 3/20: Running 500 iterations: 100%|██████████| 500/500 [00:01<00:00, 462.50it/s]\n",
      "Trial 4/20: Running 500 iterations: 100%|██████████| 500/500 [00:01<00:00, 452.49it/s]\n",
      "Trial 5/20: Running 500 iterations: 100%|██████████| 500/500 [00:01<00:00, 460.99it/s]\n",
      "Trial 6/20: Running 500 iterations: 100%|██████████| 500/500 [00:01<00:00, 452.40it/s]\n",
      "Trial 7/20: Running 500 iterations: 100%|██████████| 500/500 [00:01<00:00, 454.84it/s]\n",
      "Trial 8/20: Running 500 iterations: 100%|██████████| 500/500 [00:01<00:00, 461.80it/s]\n",
      "Trial 9/20: Running 500 iterations: 100%|██████████| 500/500 [00:01<00:00, 470.46it/s]\n",
      "Trial 10/20: Running 500 iterations: 100%|██████████| 500/500 [00:01<00:00, 469.11it/s]\n",
      "Trial 11/20: Running 500 iterations: 100%|██████████| 500/500 [00:01<00:00, 470.46it/s]\n",
      "Trial 12/20: Running 500 iterations: 100%|██████████| 500/500 [00:01<00:00, 464.21it/s]\n",
      "Trial 13/20: Running 500 iterations: 100%|██████████| 500/500 [00:01<00:00, 470.14it/s]\n",
      "Trial 14/20: Running 500 iterations: 100%|██████████| 500/500 [00:01<00:00, 469.59it/s]\n",
      "Trial 15/20: Running 500 iterations: 100%|██████████| 500/500 [00:01<00:00, 468.86it/s]\n",
      "Trial 16/20: Running 500 iterations: 100%|██████████| 500/500 [00:01<00:00, 468.29it/s]\n",
      "Trial 17/20: Running 500 iterations: 100%|██████████| 500/500 [00:01<00:00, 469.39it/s]\n",
      "Trial 18/20: Running 500 iterations: 100%|██████████| 500/500 [00:01<00:00, 466.53it/s]\n",
      "Trial 19/20: Running 500 iterations: 100%|██████████| 500/500 [00:01<00:00, 469.12it/s]\n",
      "Trial 20/20: Running 500 iterations: 100%|██████████| 500/500 [00:01<00:00, 469.23it/s]\n",
      "Processing Models:  21%|██        | 14/66 [30:58<1:52:25, 129.71s/it]"
     ]
    },
    {
     "name": "stdout",
     "output_type": "stream",
     "text": [
      "Processing model: d:\\PruneLimit\\PruneLimitAnalyzer\\models\\AlexNet_DATASET_random_PD5_GPR-5_PRUNED_SEED_23.pth\n"
     ]
    },
    {
     "name": "stderr",
     "output_type": "stream",
     "text": [
      "Unsupported operator aten::max_pool2d encountered 3 time(s)\n",
      "Unsupported operator aten::add encountered 3 time(s)\n"
     ]
    },
    {
     "name": "stdout",
     "output_type": "stream",
     "text": [
      "Processing batch size: 1\n"
     ]
    },
    {
     "name": "stderr",
     "output_type": "stream",
     "text": [
      "Trial 1/20: Running 500 iterations: 100%|██████████| 500/500 [00:00<00:00, 857.71it/s]\n",
      "Trial 2/20: Running 500 iterations: 100%|██████████| 500/500 [00:00<00:00, 898.61it/s]\n",
      "Trial 3/20: Running 500 iterations: 100%|██████████| 500/500 [00:00<00:00, 923.23it/s]\n",
      "Trial 4/20: Running 500 iterations: 100%|██████████| 500/500 [00:00<00:00, 860.17it/s]\n",
      "Trial 5/20: Running 500 iterations: 100%|██████████| 500/500 [00:00<00:00, 990.43it/s]\n",
      "Trial 6/20: Running 500 iterations: 100%|██████████| 500/500 [00:00<00:00, 1065.70it/s]\n",
      "Trial 7/20: Running 500 iterations: 100%|██████████| 500/500 [00:00<00:00, 941.30it/s]\n",
      "Trial 8/20: Running 500 iterations: 100%|██████████| 500/500 [00:00<00:00, 881.47it/s]\n",
      "Trial 9/20: Running 500 iterations: 100%|██████████| 500/500 [00:00<00:00, 795.88it/s]\n",
      "Trial 10/20: Running 500 iterations: 100%|██████████| 500/500 [00:00<00:00, 963.22it/s]\n",
      "Trial 11/20: Running 500 iterations: 100%|██████████| 500/500 [00:00<00:00, 1048.80it/s]\n",
      "Trial 12/20: Running 500 iterations: 100%|██████████| 500/500 [00:00<00:00, 974.99it/s]\n",
      "Trial 13/20: Running 500 iterations: 100%|██████████| 500/500 [00:00<00:00, 1052.76it/s]\n",
      "Trial 14/20: Running 500 iterations: 100%|██████████| 500/500 [00:00<00:00, 970.42it/s]\n",
      "Trial 15/20: Running 500 iterations: 100%|██████████| 500/500 [00:00<00:00, 1048.61it/s]\n",
      "Trial 16/20: Running 500 iterations: 100%|██████████| 500/500 [00:00<00:00, 1048.46it/s]\n",
      "Trial 17/20: Running 500 iterations: 100%|██████████| 500/500 [00:00<00:00, 1071.33it/s]\n",
      "Trial 18/20: Running 500 iterations: 100%|██████████| 500/500 [00:00<00:00, 1044.89it/s]\n",
      "Trial 19/20: Running 500 iterations: 100%|██████████| 500/500 [00:00<00:00, 1088.27it/s]\n",
      "Trial 20/20: Running 500 iterations: 100%|██████████| 500/500 [00:00<00:00, 974.45it/s]\n",
      "Unsupported operator aten::max_pool2d encountered 3 time(s)\n",
      "Unsupported operator aten::add encountered 3 time(s)\n"
     ]
    },
    {
     "name": "stdout",
     "output_type": "stream",
     "text": [
      "Processing batch size: 8\n"
     ]
    },
    {
     "name": "stderr",
     "output_type": "stream",
     "text": [
      "Trial 1/20: Running 500 iterations: 100%|██████████| 500/500 [00:00<00:00, 670.64it/s]\n",
      "Trial 2/20: Running 500 iterations: 100%|██████████| 500/500 [00:00<00:00, 665.09it/s]\n",
      "Trial 3/20: Running 500 iterations: 100%|██████████| 500/500 [00:00<00:00, 658.03it/s]\n",
      "Trial 4/20: Running 500 iterations: 100%|██████████| 500/500 [00:00<00:00, 678.88it/s]\n",
      "Trial 5/20: Running 500 iterations: 100%|██████████| 500/500 [00:00<00:00, 637.93it/s]\n",
      "Trial 6/20: Running 500 iterations: 100%|██████████| 500/500 [00:00<00:00, 654.50it/s]\n",
      "Trial 7/20: Running 500 iterations: 100%|██████████| 500/500 [00:00<00:00, 648.08it/s]\n",
      "Trial 8/20: Running 500 iterations: 100%|██████████| 500/500 [00:00<00:00, 659.22it/s]\n",
      "Trial 9/20: Running 500 iterations: 100%|██████████| 500/500 [00:00<00:00, 670.31it/s]\n",
      "Trial 10/20: Running 500 iterations: 100%|██████████| 500/500 [00:00<00:00, 670.10it/s]\n",
      "Trial 11/20: Running 500 iterations: 100%|██████████| 500/500 [00:00<00:00, 675.92it/s]\n",
      "Trial 12/20: Running 500 iterations: 100%|██████████| 500/500 [00:00<00:00, 691.32it/s]\n",
      "Trial 13/20: Running 500 iterations: 100%|██████████| 500/500 [00:00<00:00, 685.42it/s]\n",
      "Trial 14/20: Running 500 iterations: 100%|██████████| 500/500 [00:00<00:00, 688.73it/s]\n",
      "Trial 15/20: Running 500 iterations: 100%|██████████| 500/500 [00:00<00:00, 685.82it/s]\n",
      "Trial 16/20: Running 500 iterations: 100%|██████████| 500/500 [00:00<00:00, 683.70it/s]\n",
      "Trial 17/20: Running 500 iterations: 100%|██████████| 500/500 [00:00<00:00, 687.14it/s]\n",
      "Trial 18/20: Running 500 iterations: 100%|██████████| 500/500 [00:00<00:00, 676.33it/s]\n",
      "Trial 19/20: Running 500 iterations: 100%|██████████| 500/500 [00:00<00:00, 686.71it/s]\n",
      "Trial 20/20: Running 500 iterations: 100%|██████████| 500/500 [00:00<00:00, 688.97it/s]\n",
      "Unsupported operator aten::max_pool2d encountered 3 time(s)\n",
      "Unsupported operator aten::add encountered 3 time(s)\n"
     ]
    },
    {
     "name": "stdout",
     "output_type": "stream",
     "text": [
      "Processing batch size: 16\n"
     ]
    },
    {
     "name": "stderr",
     "output_type": "stream",
     "text": [
      "Trial 1/20: Running 500 iterations: 100%|██████████| 500/500 [00:01<00:00, 449.19it/s]\n",
      "Trial 2/20: Running 500 iterations: 100%|██████████| 500/500 [00:01<00:00, 448.38it/s]\n",
      "Trial 3/20: Running 500 iterations: 100%|██████████| 500/500 [00:01<00:00, 451.45it/s]\n",
      "Trial 4/20: Running 500 iterations: 100%|██████████| 500/500 [00:01<00:00, 449.69it/s]\n",
      "Trial 5/20: Running 500 iterations: 100%|██████████| 500/500 [00:01<00:00, 447.46it/s]\n",
      "Trial 6/20: Running 500 iterations: 100%|██████████| 500/500 [00:01<00:00, 454.23it/s]\n",
      "Trial 7/20: Running 500 iterations: 100%|██████████| 500/500 [00:01<00:00, 453.37it/s]\n",
      "Trial 8/20: Running 500 iterations: 100%|██████████| 500/500 [00:01<00:00, 455.80it/s]\n",
      "Trial 9/20: Running 500 iterations: 100%|██████████| 500/500 [00:01<00:00, 459.90it/s]\n",
      "Trial 10/20: Running 500 iterations: 100%|██████████| 500/500 [00:01<00:00, 456.57it/s]\n",
      "Trial 11/20: Running 500 iterations: 100%|██████████| 500/500 [00:01<00:00, 459.27it/s]\n",
      "Trial 12/20: Running 500 iterations: 100%|██████████| 500/500 [00:01<00:00, 461.65it/s]\n",
      "Trial 13/20: Running 500 iterations: 100%|██████████| 500/500 [00:01<00:00, 460.73it/s]\n",
      "Trial 14/20: Running 500 iterations: 100%|██████████| 500/500 [00:01<00:00, 460.93it/s]\n",
      "Trial 15/20: Running 500 iterations: 100%|██████████| 500/500 [00:01<00:00, 459.15it/s]\n",
      "Trial 16/20: Running 500 iterations: 100%|██████████| 500/500 [00:01<00:00, 461.32it/s]\n",
      "Trial 17/20: Running 500 iterations: 100%|██████████| 500/500 [00:01<00:00, 457.64it/s]\n",
      "Trial 18/20: Running 500 iterations: 100%|██████████| 500/500 [00:01<00:00, 455.29it/s]\n",
      "Trial 19/20: Running 500 iterations: 100%|██████████| 500/500 [00:01<00:00, 460.24it/s]\n",
      "Trial 20/20: Running 500 iterations: 100%|██████████| 500/500 [00:01<00:00, 460.53it/s]\n",
      "Unsupported operator aten::max_pool2d encountered 3 time(s)\n",
      "Unsupported operator aten::add encountered 3 time(s)\n"
     ]
    },
    {
     "name": "stdout",
     "output_type": "stream",
     "text": [
      "Processing batch size: 32\n"
     ]
    },
    {
     "name": "stderr",
     "output_type": "stream",
     "text": [
      "Trial 1/20: Running 500 iterations: 100%|██████████| 500/500 [00:01<00:00, 272.28it/s]\n",
      "Trial 2/20: Running 500 iterations: 100%|██████████| 500/500 [00:01<00:00, 271.83it/s]\n",
      "Trial 3/20: Running 500 iterations: 100%|██████████| 500/500 [00:01<00:00, 269.50it/s]\n",
      "Trial 4/20: Running 500 iterations: 100%|██████████| 500/500 [00:01<00:00, 270.24it/s]\n",
      "Trial 5/20: Running 500 iterations: 100%|██████████| 500/500 [00:01<00:00, 275.45it/s]\n",
      "Trial 6/20: Running 500 iterations: 100%|██████████| 500/500 [00:01<00:00, 279.86it/s]\n",
      "Trial 7/20: Running 500 iterations: 100%|██████████| 500/500 [00:01<00:00, 279.17it/s]\n",
      "Trial 8/20: Running 500 iterations: 100%|██████████| 500/500 [00:01<00:00, 279.03it/s]\n",
      "Trial 9/20: Running 500 iterations: 100%|██████████| 500/500 [00:01<00:00, 279.80it/s]\n",
      "Trial 10/20: Running 500 iterations: 100%|██████████| 500/500 [00:01<00:00, 278.71it/s]\n",
      "Trial 11/20: Running 500 iterations: 100%|██████████| 500/500 [00:01<00:00, 278.72it/s]\n",
      "Trial 12/20: Running 500 iterations: 100%|██████████| 500/500 [00:01<00:00, 277.82it/s]\n",
      "Trial 13/20: Running 500 iterations: 100%|██████████| 500/500 [00:01<00:00, 280.00it/s]\n",
      "Trial 14/20: Running 500 iterations: 100%|██████████| 500/500 [00:01<00:00, 279.53it/s]\n",
      "Trial 15/20: Running 500 iterations: 100%|██████████| 500/500 [00:01<00:00, 279.61it/s]\n",
      "Trial 16/20: Running 500 iterations: 100%|██████████| 500/500 [00:01<00:00, 279.98it/s]\n",
      "Trial 17/20: Running 500 iterations: 100%|██████████| 500/500 [00:01<00:00, 278.66it/s]\n",
      "Trial 18/20: Running 500 iterations: 100%|██████████| 500/500 [00:01<00:00, 279.75it/s]\n",
      "Trial 19/20: Running 500 iterations: 100%|██████████| 500/500 [00:01<00:00, 277.97it/s]\n",
      "Trial 20/20: Running 500 iterations: 100%|██████████| 500/500 [00:01<00:00, 280.18it/s]\n",
      "Unsupported operator aten::max_pool2d encountered 3 time(s)\n",
      "Unsupported operator aten::add encountered 3 time(s)\n"
     ]
    },
    {
     "name": "stdout",
     "output_type": "stream",
     "text": [
      "Processing batch size: 64\n"
     ]
    },
    {
     "name": "stderr",
     "output_type": "stream",
     "text": [
      "Trial 1/20: Running 500 iterations: 100%|██████████| 500/500 [00:03<00:00, 160.40it/s]\n",
      "Trial 2/20: Running 500 iterations: 100%|██████████| 500/500 [00:03<00:00, 160.55it/s]\n",
      "Trial 3/20: Running 500 iterations: 100%|██████████| 500/500 [00:03<00:00, 161.75it/s]\n",
      "Trial 4/20: Running 500 iterations: 100%|██████████| 500/500 [00:03<00:00, 164.99it/s]\n",
      "Trial 5/20: Running 500 iterations: 100%|██████████| 500/500 [00:03<00:00, 164.98it/s]\n",
      "Trial 6/20: Running 500 iterations: 100%|██████████| 500/500 [00:03<00:00, 165.22it/s]\n",
      "Trial 7/20: Running 500 iterations: 100%|██████████| 500/500 [00:03<00:00, 164.65it/s]\n",
      "Trial 8/20: Running 500 iterations: 100%|██████████| 500/500 [00:03<00:00, 164.88it/s]\n",
      "Trial 9/20: Running 500 iterations: 100%|██████████| 500/500 [00:03<00:00, 165.11it/s]\n",
      "Trial 10/20: Running 500 iterations: 100%|██████████| 500/500 [00:03<00:00, 165.06it/s]\n",
      "Trial 11/20: Running 500 iterations: 100%|██████████| 500/500 [00:03<00:00, 165.15it/s]\n",
      "Trial 12/20: Running 500 iterations: 100%|██████████| 500/500 [00:03<00:00, 164.89it/s]\n",
      "Trial 13/20: Running 500 iterations: 100%|██████████| 500/500 [00:03<00:00, 165.27it/s]\n",
      "Trial 14/20: Running 500 iterations: 100%|██████████| 500/500 [00:03<00:00, 165.14it/s]\n",
      "Trial 15/20: Running 500 iterations: 100%|██████████| 500/500 [00:03<00:00, 165.38it/s]\n",
      "Trial 16/20: Running 500 iterations: 100%|██████████| 500/500 [00:03<00:00, 164.98it/s]\n",
      "Trial 17/20: Running 500 iterations: 100%|██████████| 500/500 [00:03<00:00, 164.99it/s]\n",
      "Trial 18/20: Running 500 iterations: 100%|██████████| 500/500 [00:03<00:00, 165.22it/s]\n",
      "Trial 19/20: Running 500 iterations: 100%|██████████| 500/500 [00:03<00:00, 165.33it/s]\n",
      "Trial 20/20: Running 500 iterations: 100%|██████████| 500/500 [00:03<00:00, 165.17it/s]\n",
      "Processing Models:  23%|██▎       | 15/66 [33:58<2:03:13, 144.98s/it]Unsupported operator aten::max_pool2d encountered 3 time(s)\n",
      "Unsupported operator aten::add encountered 4 time(s)\n"
     ]
    },
    {
     "name": "stdout",
     "output_type": "stream",
     "text": [
      "Processing model: d:\\PruneLimit\\PruneLimitAnalyzer\\models\\AlexNet_DATASET_random_PD3_GPR-55_PRUNED_SEED_23.pth\n",
      "Processing batch size: 1\n"
     ]
    },
    {
     "name": "stderr",
     "output_type": "stream",
     "text": [
      "Trial 1/20: Running 500 iterations: 100%|██████████| 500/500 [00:00<00:00, 843.30it/s]\n",
      "Trial 2/20: Running 500 iterations: 100%|██████████| 500/500 [00:00<00:00, 918.37it/s]\n",
      "Trial 3/20: Running 500 iterations: 100%|██████████| 500/500 [00:00<00:00, 840.43it/s]\n",
      "Trial 4/20: Running 500 iterations: 100%|██████████| 500/500 [00:00<00:00, 819.52it/s]\n",
      "Trial 5/20: Running 500 iterations: 100%|██████████| 500/500 [00:00<00:00, 812.05it/s]\n",
      "Trial 6/20: Running 500 iterations: 100%|██████████| 500/500 [00:00<00:00, 939.09it/s]\n",
      "Trial 7/20: Running 500 iterations: 100%|██████████| 500/500 [00:00<00:00, 867.77it/s]\n",
      "Trial 8/20: Running 500 iterations: 100%|██████████| 500/500 [00:00<00:00, 827.70it/s]\n",
      "Trial 9/20: Running 500 iterations: 100%|██████████| 500/500 [00:00<00:00, 917.48it/s]\n",
      "Trial 10/20: Running 500 iterations: 100%|██████████| 500/500 [00:00<00:00, 881.92it/s]\n",
      "Trial 11/20: Running 500 iterations: 100%|██████████| 500/500 [00:00<00:00, 936.00it/s]\n",
      "Trial 12/20: Running 500 iterations: 100%|██████████| 500/500 [00:00<00:00, 834.61it/s]\n",
      "Trial 13/20: Running 500 iterations: 100%|██████████| 500/500 [00:00<00:00, 922.64it/s]\n",
      "Trial 14/20: Running 500 iterations: 100%|██████████| 500/500 [00:00<00:00, 941.66it/s]\n",
      "Trial 15/20: Running 500 iterations: 100%|██████████| 500/500 [00:00<00:00, 943.35it/s]\n",
      "Trial 16/20: Running 500 iterations: 100%|██████████| 500/500 [00:00<00:00, 887.68it/s]\n",
      "Trial 17/20: Running 500 iterations: 100%|██████████| 500/500 [00:00<00:00, 722.45it/s]\n",
      "Trial 18/20: Running 500 iterations: 100%|██████████| 500/500 [00:00<00:00, 850.39it/s]\n",
      "Trial 19/20: Running 500 iterations: 100%|██████████| 500/500 [00:00<00:00, 578.41it/s]\n",
      "Trial 20/20: Running 500 iterations: 100%|██████████| 500/500 [00:00<00:00, 551.38it/s]\n",
      "Unsupported operator aten::max_pool2d encountered 3 time(s)\n",
      "Unsupported operator aten::add encountered 4 time(s)\n"
     ]
    },
    {
     "name": "stdout",
     "output_type": "stream",
     "text": [
      "Processing batch size: 8\n"
     ]
    },
    {
     "name": "stderr",
     "output_type": "stream",
     "text": [
      "Trial 1/20: Running 500 iterations: 100%|██████████| 500/500 [00:00<00:00, 602.21it/s]\n",
      "Trial 2/20: Running 500 iterations: 100%|██████████| 500/500 [00:00<00:00, 542.86it/s]\n",
      "Trial 3/20: Running 500 iterations: 100%|██████████| 500/500 [00:00<00:00, 742.48it/s]\n",
      "Trial 4/20: Running 500 iterations: 100%|██████████| 500/500 [00:00<00:00, 817.42it/s]\n",
      "Trial 5/20: Running 500 iterations: 100%|██████████| 500/500 [00:00<00:00, 829.79it/s]\n",
      "Trial 6/20: Running 500 iterations: 100%|██████████| 500/500 [00:00<00:00, 875.83it/s]\n",
      "Trial 7/20: Running 500 iterations: 100%|██████████| 500/500 [00:00<00:00, 852.01it/s]\n",
      "Trial 8/20: Running 500 iterations: 100%|██████████| 500/500 [00:00<00:00, 825.04it/s]\n",
      "Trial 9/20: Running 500 iterations: 100%|██████████| 500/500 [00:00<00:00, 987.14it/s]\n",
      "Trial 10/20: Running 500 iterations: 100%|██████████| 500/500 [00:00<00:00, 987.85it/s]\n",
      "Trial 11/20: Running 500 iterations: 100%|██████████| 500/500 [00:00<00:00, 881.95it/s]\n",
      "Trial 12/20: Running 500 iterations: 100%|██████████| 500/500 [00:00<00:00, 771.10it/s]\n",
      "Trial 13/20: Running 500 iterations: 100%|██████████| 500/500 [00:00<00:00, 988.18it/s]\n",
      "Trial 14/20: Running 500 iterations: 100%|██████████| 500/500 [00:00<00:00, 977.20it/s]\n",
      "Trial 15/20: Running 500 iterations: 100%|██████████| 500/500 [00:00<00:00, 828.31it/s]\n",
      "Trial 16/20: Running 500 iterations: 100%|██████████| 500/500 [00:00<00:00, 796.90it/s]\n",
      "Trial 17/20: Running 500 iterations: 100%|██████████| 500/500 [00:00<00:00, 1005.96it/s]\n",
      "Trial 18/20: Running 500 iterations: 100%|██████████| 500/500 [00:00<00:00, 1006.63it/s]\n",
      "Trial 19/20: Running 500 iterations: 100%|██████████| 500/500 [00:00<00:00, 961.96it/s]\n",
      "Trial 20/20: Running 500 iterations: 100%|██████████| 500/500 [00:00<00:00, 906.55it/s]\n",
      "Unsupported operator aten::max_pool2d encountered 3 time(s)\n",
      "Unsupported operator aten::add encountered 4 time(s)\n"
     ]
    },
    {
     "name": "stdout",
     "output_type": "stream",
     "text": [
      "Processing batch size: 16\n"
     ]
    },
    {
     "name": "stderr",
     "output_type": "stream",
     "text": [
      "Trial 1/20: Running 500 iterations: 100%|██████████| 500/500 [00:00<00:00, 927.53it/s]\n",
      "Trial 2/20: Running 500 iterations: 100%|██████████| 500/500 [00:00<00:00, 1021.42it/s]\n",
      "Trial 3/20: Running 500 iterations: 100%|██████████| 500/500 [00:00<00:00, 1018.04it/s]\n",
      "Trial 4/20: Running 500 iterations: 100%|██████████| 500/500 [00:00<00:00, 708.76it/s]\n",
      "Trial 5/20: Running 500 iterations: 100%|██████████| 500/500 [00:00<00:00, 726.89it/s]\n",
      "Trial 6/20: Running 500 iterations: 100%|██████████| 500/500 [00:00<00:00, 808.95it/s]\n",
      "Trial 7/20: Running 500 iterations: 100%|██████████| 500/500 [00:00<00:00, 794.45it/s]\n",
      "Trial 8/20: Running 500 iterations: 100%|██████████| 500/500 [00:00<00:00, 640.17it/s]\n",
      "Trial 9/20: Running 500 iterations: 100%|██████████| 500/500 [00:00<00:00, 738.19it/s]\n",
      "Trial 10/20: Running 500 iterations: 100%|██████████| 500/500 [00:00<00:00, 684.00it/s]\n",
      "Trial 11/20: Running 500 iterations: 100%|██████████| 500/500 [00:00<00:00, 745.57it/s]\n",
      "Trial 12/20: Running 500 iterations: 100%|██████████| 500/500 [00:00<00:00, 968.92it/s]\n",
      "Trial 13/20: Running 500 iterations: 100%|██████████| 500/500 [00:00<00:00, 861.96it/s]\n",
      "Trial 14/20: Running 500 iterations: 100%|██████████| 500/500 [00:00<00:00, 878.97it/s]\n",
      "Trial 15/20: Running 500 iterations: 100%|██████████| 500/500 [00:00<00:00, 945.00it/s]\n",
      "Trial 16/20: Running 500 iterations: 100%|██████████| 500/500 [00:00<00:00, 886.79it/s]\n",
      "Trial 17/20: Running 500 iterations: 100%|██████████| 500/500 [00:00<00:00, 934.92it/s]\n",
      "Trial 18/20: Running 500 iterations: 100%|██████████| 500/500 [00:00<00:00, 1051.72it/s]\n",
      "Trial 19/20: Running 500 iterations: 100%|██████████| 500/500 [00:00<00:00, 1012.04it/s]\n",
      "Trial 20/20: Running 500 iterations: 100%|██████████| 500/500 [00:00<00:00, 1044.37it/s]\n",
      "Unsupported operator aten::max_pool2d encountered 3 time(s)\n",
      "Unsupported operator aten::add encountered 4 time(s)\n"
     ]
    },
    {
     "name": "stdout",
     "output_type": "stream",
     "text": [
      "Processing batch size: 32\n"
     ]
    },
    {
     "name": "stderr",
     "output_type": "stream",
     "text": [
      "Trial 1/20: Running 500 iterations: 100%|██████████| 500/500 [00:00<00:00, 675.74it/s]\n",
      "Trial 2/20: Running 500 iterations: 100%|██████████| 500/500 [00:00<00:00, 683.95it/s]\n",
      "Trial 3/20: Running 500 iterations: 100%|██████████| 500/500 [00:00<00:00, 676.51it/s]\n",
      "Trial 4/20: Running 500 iterations: 100%|██████████| 500/500 [00:00<00:00, 669.66it/s]\n",
      "Trial 5/20: Running 500 iterations: 100%|██████████| 500/500 [00:00<00:00, 679.46it/s]\n",
      "Trial 6/20: Running 500 iterations: 100%|██████████| 500/500 [00:00<00:00, 672.99it/s]\n",
      "Trial 7/20: Running 500 iterations: 100%|██████████| 500/500 [00:00<00:00, 674.00it/s]\n",
      "Trial 8/20: Running 500 iterations: 100%|██████████| 500/500 [00:00<00:00, 657.71it/s]\n",
      "Trial 9/20: Running 500 iterations: 100%|██████████| 500/500 [00:00<00:00, 679.34it/s]\n",
      "Trial 10/20: Running 500 iterations: 100%|██████████| 500/500 [00:00<00:00, 669.35it/s]\n",
      "Trial 11/20: Running 500 iterations: 100%|██████████| 500/500 [00:00<00:00, 658.05it/s]\n",
      "Trial 12/20: Running 500 iterations: 100%|██████████| 500/500 [00:00<00:00, 683.81it/s]\n",
      "Trial 13/20: Running 500 iterations: 100%|██████████| 500/500 [00:00<00:00, 686.18it/s]\n",
      "Trial 14/20: Running 500 iterations: 100%|██████████| 500/500 [00:00<00:00, 682.57it/s]\n",
      "Trial 15/20: Running 500 iterations: 100%|██████████| 500/500 [00:00<00:00, 693.25it/s]\n",
      "Trial 16/20: Running 500 iterations: 100%|██████████| 500/500 [00:00<00:00, 684.52it/s]\n",
      "Trial 17/20: Running 500 iterations: 100%|██████████| 500/500 [00:00<00:00, 692.20it/s]\n",
      "Trial 18/20: Running 500 iterations: 100%|██████████| 500/500 [00:00<00:00, 658.99it/s]\n",
      "Trial 19/20: Running 500 iterations: 100%|██████████| 500/500 [00:00<00:00, 684.44it/s]\n",
      "Trial 20/20: Running 500 iterations: 100%|██████████| 500/500 [00:00<00:00, 692.23it/s]\n",
      "Unsupported operator aten::max_pool2d encountered 3 time(s)\n",
      "Unsupported operator aten::add encountered 4 time(s)\n"
     ]
    },
    {
     "name": "stdout",
     "output_type": "stream",
     "text": [
      "Processing batch size: 64\n"
     ]
    },
    {
     "name": "stderr",
     "output_type": "stream",
     "text": [
      "Trial 1/20: Running 500 iterations: 100%|██████████| 500/500 [00:01<00:00, 381.96it/s]\n",
      "Trial 2/20: Running 500 iterations: 100%|██████████| 500/500 [00:01<00:00, 379.53it/s]\n",
      "Trial 3/20: Running 500 iterations: 100%|██████████| 500/500 [00:01<00:00, 382.37it/s]\n",
      "Trial 4/20: Running 500 iterations: 100%|██████████| 500/500 [00:01<00:00, 378.81it/s]\n",
      "Trial 5/20: Running 500 iterations: 100%|██████████| 500/500 [00:01<00:00, 375.62it/s]\n",
      "Trial 6/20: Running 500 iterations: 100%|██████████| 500/500 [00:01<00:00, 377.97it/s]\n",
      "Trial 7/20: Running 500 iterations: 100%|██████████| 500/500 [00:01<00:00, 387.93it/s]\n",
      "Trial 8/20: Running 500 iterations: 100%|██████████| 500/500 [00:01<00:00, 388.09it/s]\n",
      "Trial 9/20: Running 500 iterations: 100%|██████████| 500/500 [00:01<00:00, 388.42it/s]\n",
      "Trial 10/20: Running 500 iterations: 100%|██████████| 500/500 [00:01<00:00, 387.17it/s]\n",
      "Trial 11/20: Running 500 iterations: 100%|██████████| 500/500 [00:01<00:00, 388.97it/s]\n",
      "Trial 12/20: Running 500 iterations: 100%|██████████| 500/500 [00:01<00:00, 387.72it/s]\n",
      "Trial 13/20: Running 500 iterations: 100%|██████████| 500/500 [00:01<00:00, 386.82it/s]\n",
      "Trial 14/20: Running 500 iterations: 100%|██████████| 500/500 [00:01<00:00, 389.52it/s]\n",
      "Trial 15/20: Running 500 iterations: 100%|██████████| 500/500 [00:01<00:00, 386.69it/s]\n",
      "Trial 16/20: Running 500 iterations: 100%|██████████| 500/500 [00:01<00:00, 386.21it/s]\n",
      "Trial 17/20: Running 500 iterations: 100%|██████████| 500/500 [00:01<00:00, 388.59it/s]\n",
      "Trial 18/20: Running 500 iterations: 100%|██████████| 500/500 [00:01<00:00, 386.66it/s]\n",
      "Trial 19/20: Running 500 iterations: 100%|██████████| 500/500 [00:01<00:00, 387.78it/s]\n",
      "Trial 20/20: Running 500 iterations: 100%|██████████| 500/500 [00:01<00:00, 387.34it/s]\n",
      "Processing Models:  24%|██▍       | 16/66 [35:33<1:48:12, 129.85s/it]"
     ]
    },
    {
     "name": "stdout",
     "output_type": "stream",
     "text": [
      "Processing model: d:\\PruneLimit\\PruneLimitAnalyzer\\models\\AlexNet_DATASET_random_PD4_GPR-15_PRUNED_SEED_23.pth\n"
     ]
    },
    {
     "name": "stderr",
     "output_type": "stream",
     "text": [
      "Unsupported operator aten::max_pool2d encountered 3 time(s)\n",
      "Unsupported operator aten::add encountered 4 time(s)\n"
     ]
    },
    {
     "name": "stdout",
     "output_type": "stream",
     "text": [
      "Processing batch size: 1\n"
     ]
    },
    {
     "name": "stderr",
     "output_type": "stream",
     "text": [
      "Trial 1/20: Running 500 iterations: 100%|██████████| 500/500 [00:00<00:00, 782.06it/s]\n",
      "Trial 2/20: Running 500 iterations: 100%|██████████| 500/500 [00:00<00:00, 766.53it/s]\n",
      "Trial 3/20: Running 500 iterations: 100%|██████████| 500/500 [00:00<00:00, 638.55it/s]\n",
      "Trial 4/20: Running 500 iterations: 100%|██████████| 500/500 [00:00<00:00, 574.98it/s]\n",
      "Trial 5/20: Running 500 iterations: 100%|██████████| 500/500 [00:00<00:00, 837.75it/s]\n",
      "Trial 6/20: Running 500 iterations: 100%|██████████| 500/500 [00:00<00:00, 871.44it/s]\n",
      "Trial 7/20: Running 500 iterations: 100%|██████████| 500/500 [00:00<00:00, 843.74it/s]\n",
      "Trial 8/20: Running 500 iterations: 100%|██████████| 500/500 [00:00<00:00, 878.55it/s]\n",
      "Trial 9/20: Running 500 iterations: 100%|██████████| 500/500 [00:00<00:00, 940.19it/s]\n",
      "Trial 10/20: Running 500 iterations: 100%|██████████| 500/500 [00:00<00:00, 859.45it/s]\n",
      "Trial 11/20: Running 500 iterations: 100%|██████████| 500/500 [00:00<00:00, 887.16it/s]\n",
      "Trial 12/20: Running 500 iterations: 100%|██████████| 500/500 [00:00<00:00, 1030.85it/s]\n",
      "Trial 13/20: Running 500 iterations: 100%|██████████| 500/500 [00:00<00:00, 944.77it/s]\n",
      "Trial 14/20: Running 500 iterations: 100%|██████████| 500/500 [00:00<00:00, 942.70it/s]\n",
      "Trial 15/20: Running 500 iterations: 100%|██████████| 500/500 [00:00<00:00, 877.65it/s]\n",
      "Trial 16/20: Running 500 iterations: 100%|██████████| 500/500 [00:00<00:00, 1031.27it/s]\n",
      "Trial 17/20: Running 500 iterations: 100%|██████████| 500/500 [00:00<00:00, 809.30it/s]\n",
      "Trial 18/20: Running 500 iterations: 100%|██████████| 500/500 [00:00<00:00, 1057.61it/s]\n",
      "Trial 19/20: Running 500 iterations: 100%|██████████| 500/500 [00:00<00:00, 848.37it/s]\n",
      "Trial 20/20: Running 500 iterations: 100%|██████████| 500/500 [00:00<00:00, 972.47it/s]\n",
      "Unsupported operator aten::max_pool2d encountered 3 time(s)\n",
      "Unsupported operator aten::add encountered 4 time(s)\n"
     ]
    },
    {
     "name": "stdout",
     "output_type": "stream",
     "text": [
      "Processing batch size: 8\n"
     ]
    },
    {
     "name": "stderr",
     "output_type": "stream",
     "text": [
      "Trial 1/20: Running 500 iterations: 100%|██████████| 500/500 [00:00<00:00, 754.82it/s]\n",
      "Trial 2/20: Running 500 iterations: 100%|██████████| 500/500 [00:00<00:00, 746.90it/s]\n",
      "Trial 3/20: Running 500 iterations: 100%|██████████| 500/500 [00:00<00:00, 728.65it/s]\n",
      "Trial 4/20: Running 500 iterations: 100%|██████████| 500/500 [00:00<00:00, 764.48it/s]\n",
      "Trial 5/20: Running 500 iterations: 100%|██████████| 500/500 [00:00<00:00, 737.06it/s]\n",
      "Trial 6/20: Running 500 iterations: 100%|██████████| 500/500 [00:00<00:00, 748.08it/s]\n",
      "Trial 7/20: Running 500 iterations: 100%|██████████| 500/500 [00:00<00:00, 733.61it/s]\n",
      "Trial 8/20: Running 500 iterations: 100%|██████████| 500/500 [00:00<00:00, 733.82it/s]\n",
      "Trial 9/20: Running 500 iterations: 100%|██████████| 500/500 [00:00<00:00, 729.49it/s]\n",
      "Trial 10/20: Running 500 iterations: 100%|██████████| 500/500 [00:00<00:00, 731.40it/s]\n",
      "Trial 11/20: Running 500 iterations: 100%|██████████| 500/500 [00:00<00:00, 755.95it/s]\n",
      "Trial 12/20: Running 500 iterations: 100%|██████████| 500/500 [00:00<00:00, 727.34it/s]\n",
      "Trial 13/20: Running 500 iterations: 100%|██████████| 500/500 [00:00<00:00, 765.97it/s]\n",
      "Trial 14/20: Running 500 iterations: 100%|██████████| 500/500 [00:00<00:00, 770.37it/s]\n",
      "Trial 15/20: Running 500 iterations: 100%|██████████| 500/500 [00:00<00:00, 748.68it/s]\n",
      "Trial 16/20: Running 500 iterations: 100%|██████████| 500/500 [00:00<00:00, 759.86it/s]\n",
      "Trial 17/20: Running 500 iterations: 100%|██████████| 500/500 [00:00<00:00, 755.36it/s]\n",
      "Trial 18/20: Running 500 iterations: 100%|██████████| 500/500 [00:00<00:00, 764.80it/s]\n",
      "Trial 19/20: Running 500 iterations: 100%|██████████| 500/500 [00:00<00:00, 761.91it/s]\n",
      "Trial 20/20: Running 500 iterations: 100%|██████████| 500/500 [00:00<00:00, 764.08it/s]\n",
      "Unsupported operator aten::max_pool2d encountered 3 time(s)\n",
      "Unsupported operator aten::add encountered 4 time(s)\n"
     ]
    },
    {
     "name": "stdout",
     "output_type": "stream",
     "text": [
      "Processing batch size: 16\n"
     ]
    },
    {
     "name": "stderr",
     "output_type": "stream",
     "text": [
      "Trial 1/20: Running 500 iterations: 100%|██████████| 500/500 [00:01<00:00, 496.37it/s]\n",
      "Trial 2/20: Running 500 iterations: 100%|██████████| 500/500 [00:01<00:00, 494.45it/s]\n",
      "Trial 3/20: Running 500 iterations: 100%|██████████| 500/500 [00:01<00:00, 492.44it/s]\n",
      "Trial 4/20: Running 500 iterations: 100%|██████████| 500/500 [00:01<00:00, 497.11it/s]\n",
      "Trial 5/20: Running 500 iterations: 100%|██████████| 500/500 [00:01<00:00, 494.00it/s]\n",
      "Trial 6/20: Running 500 iterations: 100%|██████████| 500/500 [00:01<00:00, 478.12it/s]\n",
      "Trial 7/20: Running 500 iterations: 100%|██████████| 500/500 [00:01<00:00, 492.29it/s]\n",
      "Trial 8/20: Running 500 iterations: 100%|██████████| 500/500 [00:01<00:00, 490.21it/s]\n",
      "Trial 9/20: Running 500 iterations: 100%|██████████| 500/500 [00:00<00:00, 509.91it/s]\n",
      "Trial 10/20: Running 500 iterations: 100%|██████████| 500/500 [00:00<00:00, 504.12it/s]\n",
      "Trial 11/20: Running 500 iterations: 100%|██████████| 500/500 [00:00<00:00, 509.67it/s]\n",
      "Trial 12/20: Running 500 iterations: 100%|██████████| 500/500 [00:00<00:00, 506.60it/s]\n",
      "Trial 13/20: Running 500 iterations: 100%|██████████| 500/500 [00:00<00:00, 503.76it/s]\n",
      "Trial 14/20: Running 500 iterations: 100%|██████████| 500/500 [00:00<00:00, 505.82it/s]\n",
      "Trial 15/20: Running 500 iterations: 100%|██████████| 500/500 [00:00<00:00, 505.51it/s]\n",
      "Trial 16/20: Running 500 iterations: 100%|██████████| 500/500 [00:00<00:00, 506.23it/s]\n",
      "Trial 17/20: Running 500 iterations: 100%|██████████| 500/500 [00:00<00:00, 503.75it/s]\n",
      "Trial 18/20: Running 500 iterations: 100%|██████████| 500/500 [00:00<00:00, 500.56it/s]\n",
      "Trial 19/20: Running 500 iterations: 100%|██████████| 500/500 [00:01<00:00, 499.94it/s]\n",
      "Trial 20/20: Running 500 iterations: 100%|██████████| 500/500 [00:00<00:00, 503.28it/s]\n",
      "Unsupported operator aten::max_pool2d encountered 3 time(s)\n",
      "Unsupported operator aten::add encountered 4 time(s)\n"
     ]
    },
    {
     "name": "stdout",
     "output_type": "stream",
     "text": [
      "Processing batch size: 32\n"
     ]
    },
    {
     "name": "stderr",
     "output_type": "stream",
     "text": [
      "Trial 1/20: Running 500 iterations: 100%|██████████| 500/500 [00:01<00:00, 289.40it/s]\n",
      "Trial 2/20: Running 500 iterations: 100%|██████████| 500/500 [00:01<00:00, 289.04it/s]\n",
      "Trial 3/20: Running 500 iterations: 100%|██████████| 500/500 [00:01<00:00, 286.85it/s]\n",
      "Trial 4/20: Running 500 iterations: 100%|██████████| 500/500 [00:01<00:00, 289.48it/s]\n",
      "Trial 5/20: Running 500 iterations: 100%|██████████| 500/500 [00:01<00:00, 289.93it/s]\n",
      "Trial 6/20: Running 500 iterations: 100%|██████████| 500/500 [00:01<00:00, 296.08it/s]\n",
      "Trial 7/20: Running 500 iterations: 100%|██████████| 500/500 [00:01<00:00, 295.24it/s]\n",
      "Trial 8/20: Running 500 iterations: 100%|██████████| 500/500 [00:01<00:00, 293.60it/s]\n",
      "Trial 9/20: Running 500 iterations: 100%|██████████| 500/500 [00:01<00:00, 293.06it/s]\n",
      "Trial 10/20: Running 500 iterations: 100%|██████████| 500/500 [00:01<00:00, 294.11it/s]\n",
      "Trial 11/20: Running 500 iterations: 100%|██████████| 500/500 [00:01<00:00, 295.31it/s]\n",
      "Trial 12/20: Running 500 iterations: 100%|██████████| 500/500 [00:01<00:00, 295.81it/s]\n",
      "Trial 13/20: Running 500 iterations: 100%|██████████| 500/500 [00:01<00:00, 294.84it/s]\n",
      "Trial 14/20: Running 500 iterations: 100%|██████████| 500/500 [00:01<00:00, 293.60it/s]\n",
      "Trial 15/20: Running 500 iterations: 100%|██████████| 500/500 [00:01<00:00, 295.78it/s]\n",
      "Trial 16/20: Running 500 iterations: 100%|██████████| 500/500 [00:01<00:00, 295.33it/s]\n",
      "Trial 17/20: Running 500 iterations: 100%|██████████| 500/500 [00:01<00:00, 294.64it/s]\n",
      "Trial 18/20: Running 500 iterations: 100%|██████████| 500/500 [00:01<00:00, 294.64it/s]\n",
      "Trial 19/20: Running 500 iterations: 100%|██████████| 500/500 [00:01<00:00, 296.15it/s]\n",
      "Trial 20/20: Running 500 iterations: 100%|██████████| 500/500 [00:01<00:00, 295.63it/s]\n",
      "Unsupported operator aten::max_pool2d encountered 3 time(s)\n",
      "Unsupported operator aten::add encountered 4 time(s)\n"
     ]
    },
    {
     "name": "stdout",
     "output_type": "stream",
     "text": [
      "Processing batch size: 64\n"
     ]
    },
    {
     "name": "stderr",
     "output_type": "stream",
     "text": [
      "Trial 1/20: Running 500 iterations: 100%|██████████| 500/500 [00:02<00:00, 167.35it/s]\n",
      "Trial 2/20: Running 500 iterations: 100%|██████████| 500/500 [00:02<00:00, 167.85it/s]\n",
      "Trial 3/20: Running 500 iterations: 100%|██████████| 500/500 [00:02<00:00, 168.03it/s]\n",
      "Trial 4/20: Running 500 iterations: 100%|██████████| 500/500 [00:02<00:00, 171.78it/s]\n",
      "Trial 5/20: Running 500 iterations: 100%|██████████| 500/500 [00:02<00:00, 171.13it/s]\n",
      "Trial 6/20: Running 500 iterations: 100%|██████████| 500/500 [00:02<00:00, 171.72it/s]\n",
      "Trial 7/20: Running 500 iterations: 100%|██████████| 500/500 [00:02<00:00, 171.55it/s]\n",
      "Trial 8/20: Running 500 iterations: 100%|██████████| 500/500 [00:02<00:00, 171.86it/s]\n",
      "Trial 9/20: Running 500 iterations: 100%|██████████| 500/500 [00:02<00:00, 171.85it/s]\n",
      "Trial 10/20: Running 500 iterations: 100%|██████████| 500/500 [00:02<00:00, 171.83it/s]\n",
      "Trial 11/20: Running 500 iterations: 100%|██████████| 500/500 [00:02<00:00, 170.92it/s]\n",
      "Trial 12/20: Running 500 iterations: 100%|██████████| 500/500 [00:02<00:00, 171.54it/s]\n",
      "Trial 13/20: Running 500 iterations: 100%|██████████| 500/500 [00:02<00:00, 171.87it/s]\n",
      "Trial 14/20: Running 500 iterations: 100%|██████████| 500/500 [00:02<00:00, 171.73it/s]\n",
      "Trial 15/20: Running 500 iterations: 100%|██████████| 500/500 [00:02<00:00, 171.97it/s]\n",
      "Trial 16/20: Running 500 iterations: 100%|██████████| 500/500 [00:02<00:00, 171.56it/s]\n",
      "Trial 17/20: Running 500 iterations: 100%|██████████| 500/500 [00:02<00:00, 171.84it/s]\n",
      "Trial 18/20: Running 500 iterations: 100%|██████████| 500/500 [00:02<00:00, 171.90it/s]\n",
      "Trial 19/20: Running 500 iterations: 100%|██████████| 500/500 [00:02<00:00, 172.50it/s]\n",
      "Trial 20/20: Running 500 iterations: 100%|██████████| 500/500 [00:02<00:00, 172.17it/s]\n",
      "Processing Models:  26%|██▌       | 17/66 [38:25<1:56:21, 142.48s/it]Unsupported operator aten::max_pool2d encountered 3 time(s)\n",
      "Unsupported operator aten::add encountered 4 time(s)\n"
     ]
    },
    {
     "name": "stdout",
     "output_type": "stream",
     "text": [
      "Processing model: d:\\PruneLimit\\PruneLimitAnalyzer\\models\\AlexNet_DATASET_random_PD3_GPR-45_PRUNED_SEED_23.pth\n",
      "Processing batch size: 1\n"
     ]
    },
    {
     "name": "stderr",
     "output_type": "stream",
     "text": [
      "Trial 1/20: Running 500 iterations: 100%|██████████| 500/500 [00:00<00:00, 994.03it/s]\n",
      "Trial 2/20: Running 500 iterations: 100%|██████████| 500/500 [00:00<00:00, 916.55it/s]\n",
      "Trial 3/20: Running 500 iterations: 100%|██████████| 500/500 [00:00<00:00, 934.00it/s]\n",
      "Trial 4/20: Running 500 iterations: 100%|██████████| 500/500 [00:00<00:00, 1000.42it/s]\n",
      "Trial 5/20: Running 500 iterations: 100%|██████████| 500/500 [00:00<00:00, 986.84it/s]\n",
      "Trial 6/20: Running 500 iterations: 100%|██████████| 500/500 [00:00<00:00, 1008.27it/s]\n",
      "Trial 7/20: Running 500 iterations: 100%|██████████| 500/500 [00:00<00:00, 925.14it/s]\n",
      "Trial 8/20: Running 500 iterations: 100%|██████████| 500/500 [00:00<00:00, 1041.11it/s]\n",
      "Trial 9/20: Running 500 iterations: 100%|██████████| 500/500 [00:00<00:00, 913.57it/s]\n",
      "Trial 10/20: Running 500 iterations: 100%|██████████| 500/500 [00:00<00:00, 798.44it/s]\n",
      "Trial 11/20: Running 500 iterations: 100%|██████████| 500/500 [00:00<00:00, 1035.87it/s]\n",
      "Trial 12/20: Running 500 iterations: 100%|██████████| 500/500 [00:00<00:00, 866.54it/s]\n",
      "Trial 13/20: Running 500 iterations: 100%|██████████| 500/500 [00:00<00:00, 1015.20it/s]\n",
      "Trial 14/20: Running 500 iterations: 100%|██████████| 500/500 [00:00<00:00, 837.13it/s]\n",
      "Trial 15/20: Running 500 iterations: 100%|██████████| 500/500 [00:00<00:00, 909.26it/s]\n",
      "Trial 16/20: Running 500 iterations: 100%|██████████| 500/500 [00:00<00:00, 1025.12it/s]\n",
      "Trial 17/20: Running 500 iterations: 100%|██████████| 500/500 [00:00<00:00, 1038.12it/s]\n",
      "Trial 18/20: Running 500 iterations: 100%|██████████| 500/500 [00:00<00:00, 1028.68it/s]\n",
      "Trial 19/20: Running 500 iterations: 100%|██████████| 500/500 [00:00<00:00, 1030.64it/s]\n",
      "Trial 20/20: Running 500 iterations: 100%|██████████| 500/500 [00:00<00:00, 1031.18it/s]\n",
      "Unsupported operator aten::max_pool2d encountered 3 time(s)\n",
      "Unsupported operator aten::add encountered 4 time(s)\n"
     ]
    },
    {
     "name": "stdout",
     "output_type": "stream",
     "text": [
      "Processing batch size: 8\n"
     ]
    },
    {
     "name": "stderr",
     "output_type": "stream",
     "text": [
      "Trial 1/20: Running 500 iterations: 100%|██████████| 500/500 [00:00<00:00, 972.82it/s]\n",
      "Trial 2/20: Running 500 iterations: 100%|██████████| 500/500 [00:00<00:00, 935.85it/s]\n",
      "Trial 3/20: Running 500 iterations: 100%|██████████| 500/500 [00:00<00:00, 655.25it/s]\n",
      "Trial 4/20: Running 500 iterations: 100%|██████████| 500/500 [00:00<00:00, 706.28it/s]\n",
      "Trial 5/20: Running 500 iterations: 100%|██████████| 500/500 [00:00<00:00, 713.61it/s]\n",
      "Trial 6/20: Running 500 iterations: 100%|██████████| 500/500 [00:00<00:00, 599.38it/s]\n",
      "Trial 7/20: Running 500 iterations: 100%|██████████| 500/500 [00:00<00:00, 749.75it/s]\n",
      "Trial 8/20: Running 500 iterations: 100%|██████████| 500/500 [00:00<00:00, 564.46it/s]\n",
      "Trial 9/20: Running 500 iterations: 100%|██████████| 500/500 [00:00<00:00, 869.92it/s]\n",
      "Trial 10/20: Running 500 iterations: 100%|██████████| 500/500 [00:00<00:00, 857.86it/s]\n",
      "Trial 11/20: Running 500 iterations: 100%|██████████| 500/500 [00:00<00:00, 872.68it/s]\n",
      "Trial 12/20: Running 500 iterations: 100%|██████████| 500/500 [00:00<00:00, 775.05it/s]\n",
      "Trial 13/20: Running 500 iterations: 100%|██████████| 500/500 [00:00<00:00, 841.38it/s]\n",
      "Trial 14/20: Running 500 iterations: 100%|██████████| 500/500 [00:00<00:00, 836.37it/s]\n",
      "Trial 15/20: Running 500 iterations: 100%|██████████| 500/500 [00:00<00:00, 868.55it/s]\n",
      "Trial 16/20: Running 500 iterations: 100%|██████████| 500/500 [00:00<00:00, 982.03it/s]\n",
      "Trial 17/20: Running 500 iterations: 100%|██████████| 500/500 [00:00<00:00, 989.08it/s]\n",
      "Trial 18/20: Running 500 iterations: 100%|██████████| 500/500 [00:00<00:00, 962.12it/s]\n",
      "Trial 19/20: Running 500 iterations: 100%|██████████| 500/500 [00:00<00:00, 970.67it/s]\n",
      "Trial 20/20: Running 500 iterations: 100%|██████████| 500/500 [00:00<00:00, 957.72it/s]\n",
      "Unsupported operator aten::max_pool2d encountered 3 time(s)\n",
      "Unsupported operator aten::add encountered 4 time(s)\n"
     ]
    },
    {
     "name": "stdout",
     "output_type": "stream",
     "text": [
      "Processing batch size: 16\n"
     ]
    },
    {
     "name": "stderr",
     "output_type": "stream",
     "text": [
      "Trial 1/20: Running 500 iterations: 100%|██████████| 500/500 [00:00<00:00, 912.46it/s]\n",
      "Trial 2/20: Running 500 iterations: 100%|██████████| 500/500 [00:00<00:00, 927.73it/s]\n",
      "Trial 3/20: Running 500 iterations: 100%|██████████| 500/500 [00:00<00:00, 916.79it/s]\n",
      "Trial 4/20: Running 500 iterations: 100%|██████████| 500/500 [00:00<00:00, 877.71it/s]\n",
      "Trial 5/20: Running 500 iterations: 100%|██████████| 500/500 [00:00<00:00, 886.43it/s]\n",
      "Trial 6/20: Running 500 iterations: 100%|██████████| 500/500 [00:00<00:00, 903.10it/s]\n",
      "Trial 7/20: Running 500 iterations: 100%|██████████| 500/500 [00:00<00:00, 901.25it/s]\n",
      "Trial 8/20: Running 500 iterations: 100%|██████████| 500/500 [00:00<00:00, 891.85it/s]\n",
      "Trial 9/20: Running 500 iterations: 100%|██████████| 500/500 [00:00<00:00, 912.55it/s]\n",
      "Trial 10/20: Running 500 iterations: 100%|██████████| 500/500 [00:00<00:00, 921.91it/s]\n",
      "Trial 11/20: Running 500 iterations: 100%|██████████| 500/500 [00:00<00:00, 906.67it/s]\n",
      "Trial 12/20: Running 500 iterations: 100%|██████████| 500/500 [00:00<00:00, 855.33it/s]\n",
      "Trial 13/20: Running 500 iterations: 100%|██████████| 500/500 [00:00<00:00, 841.26it/s]\n",
      "Trial 14/20: Running 500 iterations: 100%|██████████| 500/500 [00:00<00:00, 862.16it/s]\n",
      "Trial 15/20: Running 500 iterations: 100%|██████████| 500/500 [00:00<00:00, 786.62it/s]\n",
      "Trial 16/20: Running 500 iterations: 100%|██████████| 500/500 [00:00<00:00, 699.20it/s]\n",
      "Trial 17/20: Running 500 iterations: 100%|██████████| 500/500 [00:00<00:00, 906.55it/s]\n",
      "Trial 18/20: Running 500 iterations: 100%|██████████| 500/500 [00:00<00:00, 911.67it/s]\n",
      "Trial 19/20: Running 500 iterations: 100%|██████████| 500/500 [00:00<00:00, 839.38it/s]\n",
      "Trial 20/20: Running 500 iterations: 100%|██████████| 500/500 [00:00<00:00, 844.05it/s]\n",
      "Unsupported operator aten::max_pool2d encountered 3 time(s)\n",
      "Unsupported operator aten::add encountered 4 time(s)\n"
     ]
    },
    {
     "name": "stdout",
     "output_type": "stream",
     "text": [
      "Processing batch size: 32\n"
     ]
    },
    {
     "name": "stderr",
     "output_type": "stream",
     "text": [
      "Trial 1/20: Running 500 iterations: 100%|██████████| 500/500 [00:01<00:00, 496.24it/s]\n",
      "Trial 2/20: Running 500 iterations: 100%|██████████| 500/500 [00:01<00:00, 485.25it/s]\n",
      "Trial 3/20: Running 500 iterations: 100%|██████████| 500/500 [00:01<00:00, 494.43it/s]\n",
      "Trial 4/20: Running 500 iterations: 100%|██████████| 500/500 [00:01<00:00, 490.51it/s]\n",
      "Trial 5/20: Running 500 iterations: 100%|██████████| 500/500 [00:01<00:00, 493.38it/s]\n",
      "Trial 6/20: Running 500 iterations: 100%|██████████| 500/500 [00:01<00:00, 488.20it/s]\n",
      "Trial 7/20: Running 500 iterations: 100%|██████████| 500/500 [00:01<00:00, 491.08it/s]\n",
      "Trial 8/20: Running 500 iterations: 100%|██████████| 500/500 [00:01<00:00, 487.65it/s]\n",
      "Trial 9/20: Running 500 iterations: 100%|██████████| 500/500 [00:00<00:00, 501.97it/s]\n",
      "Trial 10/20: Running 500 iterations: 100%|██████████| 500/500 [00:00<00:00, 506.14it/s]\n",
      "Trial 11/20: Running 500 iterations: 100%|██████████| 500/500 [00:00<00:00, 508.41it/s]\n",
      "Trial 12/20: Running 500 iterations: 100%|██████████| 500/500 [00:00<00:00, 500.04it/s]\n",
      "Trial 13/20: Running 500 iterations: 100%|██████████| 500/500 [00:00<00:00, 505.60it/s]\n",
      "Trial 14/20: Running 500 iterations: 100%|██████████| 500/500 [00:00<00:00, 502.80it/s]\n",
      "Trial 15/20: Running 500 iterations: 100%|██████████| 500/500 [00:00<00:00, 504.03it/s]\n",
      "Trial 16/20: Running 500 iterations: 100%|██████████| 500/500 [00:00<00:00, 504.54it/s]\n",
      "Trial 17/20: Running 500 iterations: 100%|██████████| 500/500 [00:00<00:00, 505.55it/s]\n",
      "Trial 18/20: Running 500 iterations: 100%|██████████| 500/500 [00:00<00:00, 501.18it/s]\n",
      "Trial 19/20: Running 500 iterations: 100%|██████████| 500/500 [00:01<00:00, 499.91it/s]\n",
      "Trial 20/20: Running 500 iterations: 100%|██████████| 500/500 [00:00<00:00, 502.66it/s]\n",
      "Unsupported operator aten::max_pool2d encountered 3 time(s)\n",
      "Unsupported operator aten::add encountered 4 time(s)\n"
     ]
    },
    {
     "name": "stdout",
     "output_type": "stream",
     "text": [
      "Processing batch size: 64\n"
     ]
    },
    {
     "name": "stderr",
     "output_type": "stream",
     "text": [
      "Trial 1/20: Running 500 iterations: 100%|██████████| 500/500 [00:01<00:00, 289.49it/s]\n",
      "Trial 2/20: Running 500 iterations: 100%|██████████| 500/500 [00:01<00:00, 288.72it/s]\n",
      "Trial 3/20: Running 500 iterations: 100%|██████████| 500/500 [00:01<00:00, 290.42it/s]\n",
      "Trial 4/20: Running 500 iterations: 100%|██████████| 500/500 [00:01<00:00, 288.96it/s]\n",
      "Trial 5/20: Running 500 iterations: 100%|██████████| 500/500 [00:01<00:00, 292.35it/s]\n",
      "Trial 6/20: Running 500 iterations: 100%|██████████| 500/500 [00:01<00:00, 298.28it/s]\n",
      "Trial 7/20: Running 500 iterations: 100%|██████████| 500/500 [00:01<00:00, 298.12it/s]\n",
      "Trial 8/20: Running 500 iterations: 100%|██████████| 500/500 [00:01<00:00, 298.26it/s]\n",
      "Trial 9/20: Running 500 iterations: 100%|██████████| 500/500 [00:01<00:00, 298.67it/s]\n",
      "Trial 10/20: Running 500 iterations: 100%|██████████| 500/500 [00:01<00:00, 298.41it/s]\n",
      "Trial 11/20: Running 500 iterations: 100%|██████████| 500/500 [00:01<00:00, 298.47it/s]\n",
      "Trial 12/20: Running 500 iterations: 100%|██████████| 500/500 [00:01<00:00, 297.84it/s]\n",
      "Trial 13/20: Running 500 iterations: 100%|██████████| 500/500 [00:01<00:00, 298.40it/s]\n",
      "Trial 14/20: Running 500 iterations: 100%|██████████| 500/500 [00:01<00:00, 297.78it/s]\n",
      "Trial 15/20: Running 500 iterations: 100%|██████████| 500/500 [00:01<00:00, 296.78it/s]\n",
      "Trial 16/20: Running 500 iterations: 100%|██████████| 500/500 [00:01<00:00, 296.13it/s]\n",
      "Trial 17/20: Running 500 iterations: 100%|██████████| 500/500 [00:01<00:00, 297.89it/s]\n",
      "Trial 18/20: Running 500 iterations: 100%|██████████| 500/500 [00:01<00:00, 296.40it/s]\n",
      "Trial 19/20: Running 500 iterations: 100%|██████████| 500/500 [00:01<00:00, 296.71it/s]\n",
      "Trial 20/20: Running 500 iterations: 100%|██████████| 500/500 [00:01<00:00, 297.64it/s]\n",
      "Processing Models:  27%|██▋       | 18/66 [40:15<1:46:04, 132.60s/it]Unsupported operator aten::max_pool2d encountered 3 time(s)\n",
      "Unsupported operator aten::add encountered 4 time(s)\n"
     ]
    },
    {
     "name": "stdout",
     "output_type": "stream",
     "text": [
      "Processing model: d:\\PruneLimit\\PruneLimitAnalyzer\\models\\AlexNet_DATASET_random_PD3_GPR-50_PRUNED_SEED_23.pth\n",
      "Processing batch size: 1\n"
     ]
    },
    {
     "name": "stderr",
     "output_type": "stream",
     "text": [
      "Trial 1/20: Running 500 iterations: 100%|██████████| 500/500 [00:00<00:00, 725.90it/s]\n",
      "Trial 2/20: Running 500 iterations: 100%|██████████| 500/500 [00:00<00:00, 711.26it/s]\n",
      "Trial 3/20: Running 500 iterations: 100%|██████████| 500/500 [00:00<00:00, 590.63it/s]\n",
      "Trial 4/20: Running 500 iterations: 100%|██████████| 500/500 [00:00<00:00, 762.37it/s]\n",
      "Trial 5/20: Running 500 iterations: 100%|██████████| 500/500 [00:00<00:00, 566.67it/s]\n",
      "Trial 6/20: Running 500 iterations: 100%|██████████| 500/500 [00:00<00:00, 586.29it/s]\n",
      "Trial 7/20: Running 500 iterations: 100%|██████████| 500/500 [00:00<00:00, 687.91it/s]\n",
      "Trial 8/20: Running 500 iterations: 100%|██████████| 500/500 [00:00<00:00, 915.49it/s]\n",
      "Trial 9/20: Running 500 iterations: 100%|██████████| 500/500 [00:00<00:00, 944.89it/s]\n",
      "Trial 10/20: Running 500 iterations: 100%|██████████| 500/500 [00:00<00:00, 959.19it/s]\n",
      "Trial 11/20: Running 500 iterations: 100%|██████████| 500/500 [00:00<00:00, 940.88it/s]\n",
      "Trial 12/20: Running 500 iterations: 100%|██████████| 500/500 [00:00<00:00, 975.92it/s]\n",
      "Trial 13/20: Running 500 iterations: 100%|██████████| 500/500 [00:00<00:00, 950.06it/s]\n",
      "Trial 14/20: Running 500 iterations: 100%|██████████| 500/500 [00:00<00:00, 1006.09it/s]\n",
      "Trial 15/20: Running 500 iterations: 100%|██████████| 500/500 [00:00<00:00, 798.02it/s]\n",
      "Trial 16/20: Running 500 iterations: 100%|██████████| 500/500 [00:00<00:00, 835.10it/s]\n",
      "Trial 17/20: Running 500 iterations: 100%|██████████| 500/500 [00:00<00:00, 918.18it/s] \n",
      "Trial 18/20: Running 500 iterations: 100%|██████████| 500/500 [00:00<00:00, 905.47it/s]\n",
      "Trial 19/20: Running 500 iterations: 100%|██████████| 500/500 [00:00<00:00, 710.78it/s]\n",
      "Trial 20/20: Running 500 iterations: 100%|██████████| 500/500 [00:00<00:00, 767.78it/s]\n",
      "Unsupported operator aten::max_pool2d encountered 3 time(s)\n",
      "Unsupported operator aten::add encountered 4 time(s)\n"
     ]
    },
    {
     "name": "stdout",
     "output_type": "stream",
     "text": [
      "Processing batch size: 8\n"
     ]
    },
    {
     "name": "stderr",
     "output_type": "stream",
     "text": [
      "Trial 1/20: Running 500 iterations: 100%|██████████| 500/500 [00:00<00:00, 809.75it/s]\n",
      "Trial 2/20: Running 500 iterations: 100%|██████████| 500/500 [00:00<00:00, 925.78it/s]\n",
      "Trial 3/20: Running 500 iterations: 100%|██████████| 500/500 [00:00<00:00, 948.06it/s]\n",
      "Trial 4/20: Running 500 iterations: 100%|██████████| 500/500 [00:00<00:00, 946.68it/s]\n",
      "Trial 5/20: Running 500 iterations: 100%|██████████| 500/500 [00:00<00:00, 927.71it/s]\n",
      "Trial 6/20: Running 500 iterations: 100%|██████████| 500/500 [00:00<00:00, 944.67it/s]\n",
      "Trial 7/20: Running 500 iterations: 100%|██████████| 500/500 [00:00<00:00, 942.12it/s]\n",
      "Trial 8/20: Running 500 iterations: 100%|██████████| 500/500 [00:00<00:00, 942.03it/s]\n",
      "Trial 9/20: Running 500 iterations: 100%|██████████| 500/500 [00:00<00:00, 747.10it/s]\n",
      "Trial 10/20: Running 500 iterations: 100%|██████████| 500/500 [00:00<00:00, 573.11it/s]\n",
      "Trial 11/20: Running 500 iterations: 100%|██████████| 500/500 [00:00<00:00, 621.03it/s]\n",
      "Trial 12/20: Running 500 iterations: 100%|██████████| 500/500 [00:00<00:00, 567.46it/s]\n",
      "Trial 13/20: Running 500 iterations: 100%|██████████| 500/500 [00:00<00:00, 709.17it/s]\n",
      "Trial 14/20: Running 500 iterations: 100%|██████████| 500/500 [00:00<00:00, 630.32it/s]\n",
      "Trial 15/20: Running 500 iterations: 100%|██████████| 500/500 [00:00<00:00, 718.27it/s]\n",
      "Trial 16/20: Running 500 iterations: 100%|██████████| 500/500 [00:00<00:00, 943.31it/s]\n",
      "Trial 17/20: Running 500 iterations: 100%|██████████| 500/500 [00:00<00:00, 948.92it/s]\n",
      "Trial 18/20: Running 500 iterations: 100%|██████████| 500/500 [00:00<00:00, 933.04it/s]\n",
      "Trial 19/20: Running 500 iterations: 100%|██████████| 500/500 [00:00<00:00, 937.75it/s]\n",
      "Trial 20/20: Running 500 iterations: 100%|██████████| 500/500 [00:00<00:00, 944.24it/s]\n",
      "Unsupported operator aten::max_pool2d encountered 3 time(s)\n",
      "Unsupported operator aten::add encountered 4 time(s)\n"
     ]
    },
    {
     "name": "stdout",
     "output_type": "stream",
     "text": [
      "Processing batch size: 16\n"
     ]
    },
    {
     "name": "stderr",
     "output_type": "stream",
     "text": [
      "Trial 1/20: Running 500 iterations: 100%|██████████| 500/500 [00:00<00:00, 999.07it/s]\n",
      "Trial 2/20: Running 500 iterations: 100%|██████████| 500/500 [00:00<00:00, 918.10it/s]\n",
      "Trial 3/20: Running 500 iterations: 100%|██████████| 500/500 [00:00<00:00, 833.43it/s]\n",
      "Trial 4/20: Running 500 iterations: 100%|██████████| 500/500 [00:00<00:00, 903.86it/s]\n",
      "Trial 5/20: Running 500 iterations: 100%|██████████| 500/500 [00:00<00:00, 1018.40it/s]\n",
      "Trial 6/20: Running 500 iterations: 100%|██████████| 500/500 [00:00<00:00, 1048.09it/s]\n",
      "Trial 7/20: Running 500 iterations: 100%|██████████| 500/500 [00:00<00:00, 914.45it/s]\n",
      "Trial 8/20: Running 500 iterations: 100%|██████████| 500/500 [00:00<00:00, 979.62it/s] \n",
      "Trial 9/20: Running 500 iterations: 100%|██████████| 500/500 [00:00<00:00, 731.61it/s]\n",
      "Trial 10/20: Running 500 iterations: 100%|██████████| 500/500 [00:00<00:00, 882.58it/s]\n",
      "Trial 11/20: Running 500 iterations: 100%|██████████| 500/500 [00:00<00:00, 1005.50it/s]\n",
      "Trial 12/20: Running 500 iterations: 100%|██████████| 500/500 [00:00<00:00, 1051.98it/s]\n",
      "Trial 13/20: Running 500 iterations: 100%|██████████| 500/500 [00:00<00:00, 1001.06it/s]\n",
      "Trial 14/20: Running 500 iterations: 100%|██████████| 500/500 [00:00<00:00, 1053.70it/s]\n",
      "Trial 15/20: Running 500 iterations: 100%|██████████| 500/500 [00:00<00:00, 1002.66it/s]\n",
      "Trial 16/20: Running 500 iterations: 100%|██████████| 500/500 [00:00<00:00, 1038.37it/s]\n",
      "Trial 17/20: Running 500 iterations: 100%|██████████| 500/500 [00:00<00:00, 1069.92it/s]\n",
      "Trial 18/20: Running 500 iterations: 100%|██████████| 500/500 [00:00<00:00, 850.82it/s]\n",
      "Trial 19/20: Running 500 iterations: 100%|██████████| 500/500 [00:00<00:00, 810.14it/s]\n",
      "Trial 20/20: Running 500 iterations: 100%|██████████| 500/500 [00:00<00:00, 717.41it/s]\n",
      "Unsupported operator aten::max_pool2d encountered 3 time(s)\n",
      "Unsupported operator aten::add encountered 4 time(s)\n"
     ]
    },
    {
     "name": "stdout",
     "output_type": "stream",
     "text": [
      "Processing batch size: 32\n"
     ]
    },
    {
     "name": "stderr",
     "output_type": "stream",
     "text": [
      "Trial 1/20: Running 500 iterations: 100%|██████████| 500/500 [00:00<00:00, 589.84it/s]\n",
      "Trial 2/20: Running 500 iterations: 100%|██████████| 500/500 [00:00<00:00, 581.30it/s]\n",
      "Trial 3/20: Running 500 iterations: 100%|██████████| 500/500 [00:00<00:00, 572.21it/s]\n",
      "Trial 4/20: Running 500 iterations: 100%|██████████| 500/500 [00:00<00:00, 584.44it/s]\n",
      "Trial 5/20: Running 500 iterations: 100%|██████████| 500/500 [00:00<00:00, 586.34it/s]\n",
      "Trial 6/20: Running 500 iterations: 100%|██████████| 500/500 [00:00<00:00, 580.68it/s]\n",
      "Trial 7/20: Running 500 iterations: 100%|██████████| 500/500 [00:00<00:00, 575.21it/s]\n",
      "Trial 8/20: Running 500 iterations: 100%|██████████| 500/500 [00:00<00:00, 575.70it/s]\n",
      "Trial 9/20: Running 500 iterations: 100%|██████████| 500/500 [00:00<00:00, 589.13it/s]\n",
      "Trial 10/20: Running 500 iterations: 100%|██████████| 500/500 [00:00<00:00, 586.83it/s]\n",
      "Trial 11/20: Running 500 iterations: 100%|██████████| 500/500 [00:00<00:00, 589.06it/s]\n",
      "Trial 12/20: Running 500 iterations: 100%|██████████| 500/500 [00:00<00:00, 596.22it/s]\n",
      "Trial 13/20: Running 500 iterations: 100%|██████████| 500/500 [00:00<00:00, 592.79it/s]\n",
      "Trial 14/20: Running 500 iterations: 100%|██████████| 500/500 [00:00<00:00, 595.34it/s]\n",
      "Trial 15/20: Running 500 iterations: 100%|██████████| 500/500 [00:00<00:00, 592.74it/s]\n",
      "Trial 16/20: Running 500 iterations: 100%|██████████| 500/500 [00:00<00:00, 592.31it/s]\n",
      "Trial 17/20: Running 500 iterations: 100%|██████████| 500/500 [00:00<00:00, 592.65it/s]\n",
      "Trial 18/20: Running 500 iterations: 100%|██████████| 500/500 [00:00<00:00, 595.85it/s]\n",
      "Trial 19/20: Running 500 iterations: 100%|██████████| 500/500 [00:00<00:00, 597.06it/s]\n",
      "Trial 20/20: Running 500 iterations: 100%|██████████| 500/500 [00:00<00:00, 594.39it/s]\n",
      "Unsupported operator aten::max_pool2d encountered 3 time(s)\n",
      "Unsupported operator aten::add encountered 4 time(s)\n"
     ]
    },
    {
     "name": "stdout",
     "output_type": "stream",
     "text": [
      "Processing batch size: 64\n"
     ]
    },
    {
     "name": "stderr",
     "output_type": "stream",
     "text": [
      "Trial 1/20: Running 500 iterations: 100%|██████████| 500/500 [00:01<00:00, 340.91it/s]\n",
      "Trial 2/20: Running 500 iterations: 100%|██████████| 500/500 [00:01<00:00, 337.86it/s]\n",
      "Trial 3/20: Running 500 iterations: 100%|██████████| 500/500 [00:01<00:00, 340.67it/s]\n",
      "Trial 4/20: Running 500 iterations: 100%|██████████| 500/500 [00:01<00:00, 334.57it/s]\n",
      "Trial 5/20: Running 500 iterations: 100%|██████████| 500/500 [00:01<00:00, 336.92it/s]\n",
      "Trial 6/20: Running 500 iterations: 100%|██████████| 500/500 [00:01<00:00, 341.89it/s]\n",
      "Trial 7/20: Running 500 iterations: 100%|██████████| 500/500 [00:01<00:00, 347.95it/s]\n",
      "Trial 8/20: Running 500 iterations: 100%|██████████| 500/500 [00:01<00:00, 349.76it/s]\n",
      "Trial 9/20: Running 500 iterations: 100%|██████████| 500/500 [00:01<00:00, 348.90it/s]\n",
      "Trial 10/20: Running 500 iterations: 100%|██████████| 500/500 [00:01<00:00, 346.64it/s]\n",
      "Trial 11/20: Running 500 iterations: 100%|██████████| 500/500 [00:01<00:00, 347.64it/s]\n",
      "Trial 12/20: Running 500 iterations: 100%|██████████| 500/500 [00:01<00:00, 346.50it/s]\n",
      "Trial 13/20: Running 500 iterations: 100%|██████████| 500/500 [00:01<00:00, 345.29it/s]\n",
      "Trial 14/20: Running 500 iterations: 100%|██████████| 500/500 [00:01<00:00, 346.40it/s]\n",
      "Trial 15/20: Running 500 iterations: 100%|██████████| 500/500 [00:01<00:00, 346.45it/s]\n",
      "Trial 16/20: Running 500 iterations: 100%|██████████| 500/500 [00:01<00:00, 346.33it/s]\n",
      "Trial 17/20: Running 500 iterations: 100%|██████████| 500/500 [00:01<00:00, 347.05it/s]\n",
      "Trial 18/20: Running 500 iterations: 100%|██████████| 500/500 [00:01<00:00, 346.30it/s]\n",
      "Trial 19/20: Running 500 iterations: 100%|██████████| 500/500 [00:01<00:00, 344.55it/s]\n",
      "Trial 20/20: Running 500 iterations: 100%|██████████| 500/500 [00:01<00:00, 345.71it/s]\n",
      "Processing Models:  29%|██▉       | 19/66 [41:56<1:36:35, 123.31s/it]"
     ]
    },
    {
     "name": "stdout",
     "output_type": "stream",
     "text": [
      "Processing model: d:\\PruneLimit\\PruneLimitAnalyzer\\models\\AlexNet_DATASET_random_PD1_GPR-15_PRUNED_SEED_23.pth\n"
     ]
    },
    {
     "name": "stderr",
     "output_type": "stream",
     "text": [
      "Unsupported operator aten::max_pool2d encountered 3 time(s)\n",
      "Unsupported operator aten::add encountered 4 time(s)\n"
     ]
    },
    {
     "name": "stdout",
     "output_type": "stream",
     "text": [
      "Processing batch size: 1\n"
     ]
    },
    {
     "name": "stderr",
     "output_type": "stream",
     "text": [
      "Trial 1/20: Running 500 iterations: 100%|██████████| 500/500 [00:00<00:00, 983.31it/s]\n",
      "Trial 2/20: Running 500 iterations: 100%|██████████| 500/500 [00:00<00:00, 949.17it/s]\n",
      "Trial 3/20: Running 500 iterations: 100%|██████████| 500/500 [00:00<00:00, 1001.26it/s]\n",
      "Trial 4/20: Running 500 iterations: 100%|██████████| 500/500 [00:00<00:00, 850.92it/s]\n",
      "Trial 5/20: Running 500 iterations: 100%|██████████| 500/500 [00:00<00:00, 937.27it/s]\n",
      "Trial 6/20: Running 500 iterations: 100%|██████████| 500/500 [00:00<00:00, 1012.33it/s]\n",
      "Trial 7/20: Running 500 iterations: 100%|██████████| 500/500 [00:00<00:00, 922.54it/s]\n",
      "Trial 8/20: Running 500 iterations: 100%|██████████| 500/500 [00:00<00:00, 1003.66it/s]\n",
      "Trial 9/20: Running 500 iterations: 100%|██████████| 500/500 [00:00<00:00, 1002.55it/s]\n",
      "Trial 10/20: Running 500 iterations: 100%|██████████| 500/500 [00:00<00:00, 808.70it/s]\n",
      "Trial 11/20: Running 500 iterations: 100%|██████████| 500/500 [00:00<00:00, 892.59it/s]\n",
      "Trial 12/20: Running 500 iterations: 100%|██████████| 500/500 [00:00<00:00, 743.49it/s]\n",
      "Trial 13/20: Running 500 iterations: 100%|██████████| 500/500 [00:00<00:00, 898.26it/s]\n",
      "Trial 14/20: Running 500 iterations: 100%|██████████| 500/500 [00:00<00:00, 819.41it/s]\n",
      "Trial 15/20: Running 500 iterations: 100%|██████████| 500/500 [00:00<00:00, 831.18it/s]\n",
      "Trial 16/20: Running 500 iterations: 100%|██████████| 500/500 [00:00<00:00, 959.99it/s]\n",
      "Trial 17/20: Running 500 iterations: 100%|██████████| 500/500 [00:00<00:00, 889.15it/s]\n",
      "Trial 18/20: Running 500 iterations: 100%|██████████| 500/500 [00:00<00:00, 833.39it/s]\n",
      "Trial 19/20: Running 500 iterations: 100%|██████████| 500/500 [00:00<00:00, 889.22it/s]\n",
      "Trial 20/20: Running 500 iterations: 100%|██████████| 500/500 [00:00<00:00, 783.04it/s]\n",
      "Unsupported operator aten::max_pool2d encountered 3 time(s)\n",
      "Unsupported operator aten::add encountered 4 time(s)\n"
     ]
    },
    {
     "name": "stdout",
     "output_type": "stream",
     "text": [
      "Processing batch size: 8\n"
     ]
    },
    {
     "name": "stderr",
     "output_type": "stream",
     "text": [
      "Trial 1/20: Running 500 iterations: 100%|██████████| 500/500 [00:00<00:00, 770.49it/s]\n",
      "Trial 2/20: Running 500 iterations: 100%|██████████| 500/500 [00:00<00:00, 776.97it/s]\n",
      "Trial 3/20: Running 500 iterations: 100%|██████████| 500/500 [00:00<00:00, 771.07it/s]\n",
      "Trial 4/20: Running 500 iterations: 100%|██████████| 500/500 [00:00<00:00, 752.41it/s]\n",
      "Trial 5/20: Running 500 iterations: 100%|██████████| 500/500 [00:00<00:00, 748.00it/s]\n",
      "Trial 6/20: Running 500 iterations: 100%|██████████| 500/500 [00:00<00:00, 762.58it/s]\n",
      "Trial 7/20: Running 500 iterations: 100%|██████████| 500/500 [00:00<00:00, 764.08it/s]\n",
      "Trial 8/20: Running 500 iterations: 100%|██████████| 500/500 [00:00<00:00, 755.80it/s]\n",
      "Trial 9/20: Running 500 iterations: 100%|██████████| 500/500 [00:00<00:00, 764.83it/s]\n",
      "Trial 10/20: Running 500 iterations: 100%|██████████| 500/500 [00:00<00:00, 758.48it/s]\n",
      "Trial 11/20: Running 500 iterations: 100%|██████████| 500/500 [00:00<00:00, 775.78it/s]\n",
      "Trial 12/20: Running 500 iterations: 100%|██████████| 500/500 [00:00<00:00, 773.38it/s]\n",
      "Trial 13/20: Running 500 iterations: 100%|██████████| 500/500 [00:00<00:00, 776.30it/s]\n",
      "Trial 14/20: Running 500 iterations: 100%|██████████| 500/500 [00:00<00:00, 792.18it/s]\n",
      "Trial 15/20: Running 500 iterations: 100%|██████████| 500/500 [00:00<00:00, 791.11it/s]\n",
      "Trial 16/20: Running 500 iterations: 100%|██████████| 500/500 [00:00<00:00, 787.17it/s]\n",
      "Trial 17/20: Running 500 iterations: 100%|██████████| 500/500 [00:00<00:00, 683.70it/s]\n",
      "Trial 18/20: Running 500 iterations: 100%|██████████| 500/500 [00:00<00:00, 643.32it/s]\n",
      "Trial 19/20: Running 500 iterations: 100%|██████████| 500/500 [00:00<00:00, 795.75it/s]\n",
      "Trial 20/20: Running 500 iterations: 100%|██████████| 500/500 [00:00<00:00, 660.76it/s]\n",
      "Unsupported operator aten::max_pool2d encountered 3 time(s)\n",
      "Unsupported operator aten::add encountered 4 time(s)\n"
     ]
    },
    {
     "name": "stdout",
     "output_type": "stream",
     "text": [
      "Processing batch size: 16\n"
     ]
    },
    {
     "name": "stderr",
     "output_type": "stream",
     "text": [
      "Trial 1/20: Running 500 iterations: 100%|██████████| 500/500 [00:00<00:00, 503.14it/s]\n",
      "Trial 2/20: Running 500 iterations: 100%|██████████| 500/500 [00:00<00:00, 503.08it/s]\n",
      "Trial 3/20: Running 500 iterations: 100%|██████████| 500/500 [00:00<00:00, 501.65it/s]\n",
      "Trial 4/20: Running 500 iterations: 100%|██████████| 500/500 [00:00<00:00, 508.51it/s]\n",
      "Trial 5/20: Running 500 iterations: 100%|██████████| 500/500 [00:00<00:00, 500.13it/s]\n",
      "Trial 6/20: Running 500 iterations: 100%|██████████| 500/500 [00:00<00:00, 504.57it/s]\n",
      "Trial 7/20: Running 500 iterations: 100%|██████████| 500/500 [00:00<00:00, 501.20it/s]\n",
      "Trial 8/20: Running 500 iterations: 100%|██████████| 500/500 [00:00<00:00, 504.21it/s]\n",
      "Trial 9/20: Running 500 iterations: 100%|██████████| 500/500 [00:00<00:00, 516.06it/s]\n",
      "Trial 10/20: Running 500 iterations: 100%|██████████| 500/500 [00:00<00:00, 517.77it/s]\n",
      "Trial 11/20: Running 500 iterations: 100%|██████████| 500/500 [00:00<00:00, 508.56it/s]\n",
      "Trial 12/20: Running 500 iterations: 100%|██████████| 500/500 [00:00<00:00, 516.40it/s]\n",
      "Trial 13/20: Running 500 iterations: 100%|██████████| 500/500 [00:00<00:00, 515.45it/s]\n",
      "Trial 14/20: Running 500 iterations: 100%|██████████| 500/500 [00:00<00:00, 514.11it/s]\n",
      "Trial 15/20: Running 500 iterations: 100%|██████████| 500/500 [00:00<00:00, 515.64it/s]\n",
      "Trial 16/20: Running 500 iterations: 100%|██████████| 500/500 [00:00<00:00, 514.25it/s]\n",
      "Trial 17/20: Running 500 iterations: 100%|██████████| 500/500 [00:00<00:00, 511.86it/s]\n",
      "Trial 18/20: Running 500 iterations: 100%|██████████| 500/500 [00:00<00:00, 509.68it/s]\n",
      "Trial 19/20: Running 500 iterations: 100%|██████████| 500/500 [00:00<00:00, 515.48it/s]\n",
      "Trial 20/20: Running 500 iterations: 100%|██████████| 500/500 [00:00<00:00, 514.99it/s]\n",
      "Unsupported operator aten::max_pool2d encountered 3 time(s)\n",
      "Unsupported operator aten::add encountered 4 time(s)\n"
     ]
    },
    {
     "name": "stdout",
     "output_type": "stream",
     "text": [
      "Processing batch size: 32\n"
     ]
    },
    {
     "name": "stderr",
     "output_type": "stream",
     "text": [
      "Trial 1/20: Running 500 iterations: 100%|██████████| 500/500 [00:01<00:00, 304.37it/s]\n",
      "Trial 2/20: Running 500 iterations: 100%|██████████| 500/500 [00:01<00:00, 301.59it/s]\n",
      "Trial 3/20: Running 500 iterations: 100%|██████████| 500/500 [00:01<00:00, 301.44it/s]\n",
      "Trial 4/20: Running 500 iterations: 100%|██████████| 500/500 [00:01<00:00, 300.50it/s]\n",
      "Trial 5/20: Running 500 iterations: 100%|██████████| 500/500 [00:01<00:00, 303.70it/s]\n",
      "Trial 6/20: Running 500 iterations: 100%|██████████| 500/500 [00:01<00:00, 311.66it/s]\n",
      "Trial 7/20: Running 500 iterations: 100%|██████████| 500/500 [00:01<00:00, 311.76it/s]\n",
      "Trial 8/20: Running 500 iterations: 100%|██████████| 500/500 [00:01<00:00, 311.75it/s]\n",
      "Trial 9/20: Running 500 iterations: 100%|██████████| 500/500 [00:01<00:00, 309.72it/s]\n",
      "Trial 10/20: Running 500 iterations: 100%|██████████| 500/500 [00:01<00:00, 311.24it/s]\n",
      "Trial 11/20: Running 500 iterations: 100%|██████████| 500/500 [00:01<00:00, 310.60it/s]\n",
      "Trial 12/20: Running 500 iterations: 100%|██████████| 500/500 [00:01<00:00, 308.66it/s]\n",
      "Trial 13/20: Running 500 iterations: 100%|██████████| 500/500 [00:01<00:00, 311.35it/s]\n",
      "Trial 14/20: Running 500 iterations: 100%|██████████| 500/500 [00:01<00:00, 310.69it/s]\n",
      "Trial 15/20: Running 500 iterations: 100%|██████████| 500/500 [00:01<00:00, 311.37it/s]\n",
      "Trial 16/20: Running 500 iterations: 100%|██████████| 500/500 [00:01<00:00, 308.38it/s]\n",
      "Trial 17/20: Running 500 iterations: 100%|██████████| 500/500 [00:01<00:00, 310.02it/s]\n",
      "Trial 18/20: Running 500 iterations: 100%|██████████| 500/500 [00:01<00:00, 310.79it/s]\n",
      "Trial 19/20: Running 500 iterations: 100%|██████████| 500/500 [00:01<00:00, 310.91it/s]\n",
      "Trial 20/20: Running 500 iterations: 100%|██████████| 500/500 [00:01<00:00, 310.39it/s]\n",
      "Unsupported operator aten::max_pool2d encountered 3 time(s)\n",
      "Unsupported operator aten::add encountered 4 time(s)\n"
     ]
    },
    {
     "name": "stdout",
     "output_type": "stream",
     "text": [
      "Processing batch size: 64\n"
     ]
    },
    {
     "name": "stderr",
     "output_type": "stream",
     "text": [
      "Trial 1/20: Running 500 iterations: 100%|██████████| 500/500 [00:02<00:00, 180.41it/s]\n",
      "Trial 2/20: Running 500 iterations: 100%|██████████| 500/500 [00:02<00:00, 180.32it/s]\n",
      "Trial 3/20: Running 500 iterations: 100%|██████████| 500/500 [00:02<00:00, 181.88it/s]\n",
      "Trial 4/20: Running 500 iterations: 100%|██████████| 500/500 [00:02<00:00, 185.84it/s]\n",
      "Trial 5/20: Running 500 iterations: 100%|██████████| 500/500 [00:02<00:00, 185.73it/s]\n",
      "Trial 6/20: Running 500 iterations: 100%|██████████| 500/500 [00:02<00:00, 186.00it/s]\n",
      "Trial 7/20: Running 500 iterations: 100%|██████████| 500/500 [00:02<00:00, 185.94it/s]\n",
      "Trial 8/20: Running 500 iterations: 100%|██████████| 500/500 [00:02<00:00, 186.15it/s]\n",
      "Trial 9/20: Running 500 iterations: 100%|██████████| 500/500 [00:02<00:00, 186.41it/s]\n",
      "Trial 10/20: Running 500 iterations: 100%|██████████| 500/500 [00:02<00:00, 186.45it/s]\n",
      "Trial 11/20: Running 500 iterations: 100%|██████████| 500/500 [00:02<00:00, 186.53it/s]\n",
      "Trial 12/20: Running 500 iterations: 100%|██████████| 500/500 [00:02<00:00, 186.68it/s]\n",
      "Trial 13/20: Running 500 iterations: 100%|██████████| 500/500 [00:02<00:00, 186.14it/s]\n",
      "Trial 14/20: Running 500 iterations: 100%|██████████| 500/500 [00:02<00:00, 186.62it/s]\n",
      "Trial 15/20: Running 500 iterations: 100%|██████████| 500/500 [00:02<00:00, 186.65it/s]\n",
      "Trial 16/20: Running 500 iterations: 100%|██████████| 500/500 [00:02<00:00, 186.69it/s]\n",
      "Trial 17/20: Running 500 iterations: 100%|██████████| 500/500 [00:02<00:00, 186.66it/s]\n",
      "Trial 18/20: Running 500 iterations: 100%|██████████| 500/500 [00:02<00:00, 186.86it/s]\n",
      "Trial 19/20: Running 500 iterations: 100%|██████████| 500/500 [00:02<00:00, 187.05it/s]\n",
      "Trial 20/20: Running 500 iterations: 100%|██████████| 500/500 [00:02<00:00, 186.70it/s]\n",
      "Processing Models:  30%|███       | 20/66 [44:39<1:43:41, 135.25s/it]"
     ]
    },
    {
     "name": "stdout",
     "output_type": "stream",
     "text": [
      "Processing model: d:\\PruneLimit\\PruneLimitAnalyzer\\models\\AlexNet_DATASET_random_PD5_GPR-30_PRUNED_SEED_23.pth\n",
      "Processing batch size: 1\n"
     ]
    },
    {
     "name": "stderr",
     "output_type": "stream",
     "text": [
      "Unsupported operator aten::max_pool2d encountered 3 time(s)\n",
      "Unsupported operator aten::add encountered 4 time(s)\n",
      "Trial 1/20: Running 500 iterations: 100%|██████████| 500/500 [00:00<00:00, 927.05it/s]\n",
      "Trial 2/20: Running 500 iterations: 100%|██████████| 500/500 [00:00<00:00, 915.78it/s]\n",
      "Trial 3/20: Running 500 iterations: 100%|██████████| 500/500 [00:00<00:00, 947.37it/s]\n",
      "Trial 4/20: Running 500 iterations: 100%|██████████| 500/500 [00:00<00:00, 939.69it/s]\n",
      "Trial 5/20: Running 500 iterations: 100%|██████████| 500/500 [00:00<00:00, 964.68it/s]\n",
      "Trial 6/20: Running 500 iterations: 100%|██████████| 500/500 [00:00<00:00, 719.49it/s]\n",
      "Trial 7/20: Running 500 iterations: 100%|██████████| 500/500 [00:00<00:00, 526.69it/s]\n",
      "Trial 8/20: Running 500 iterations: 100%|██████████| 500/500 [00:00<00:00, 599.80it/s]\n",
      "Trial 9/20: Running 500 iterations: 100%|██████████| 500/500 [00:00<00:00, 607.04it/s]\n",
      "Trial 10/20: Running 500 iterations: 100%|██████████| 500/500 [00:00<00:00, 622.30it/s]\n",
      "Trial 11/20: Running 500 iterations: 100%|██████████| 500/500 [00:00<00:00, 531.57it/s]\n",
      "Trial 12/20: Running 500 iterations: 100%|██████████| 500/500 [00:00<00:00, 907.81it/s]\n",
      "Trial 13/20: Running 500 iterations: 100%|██████████| 500/500 [00:00<00:00, 953.23it/s]\n",
      "Trial 14/20: Running 500 iterations: 100%|██████████| 500/500 [00:00<00:00, 903.95it/s]\n",
      "Trial 15/20: Running 500 iterations: 100%|██████████| 500/500 [00:00<00:00, 788.00it/s]\n",
      "Trial 16/20: Running 500 iterations: 100%|██████████| 500/500 [00:00<00:00, 787.99it/s]\n",
      "Trial 17/20: Running 500 iterations: 100%|██████████| 500/500 [00:00<00:00, 816.93it/s]\n",
      "Trial 18/20: Running 500 iterations: 100%|██████████| 500/500 [00:00<00:00, 693.60it/s]\n",
      "Trial 19/20: Running 500 iterations: 100%|██████████| 500/500 [00:00<00:00, 672.54it/s]\n",
      "Trial 20/20: Running 500 iterations: 100%|██████████| 500/500 [00:00<00:00, 782.21it/s]\n",
      "Unsupported operator aten::max_pool2d encountered 3 time(s)\n",
      "Unsupported operator aten::add encountered 4 time(s)\n"
     ]
    },
    {
     "name": "stdout",
     "output_type": "stream",
     "text": [
      "Processing batch size: 8\n"
     ]
    },
    {
     "name": "stderr",
     "output_type": "stream",
     "text": [
      "Trial 1/20: Running 500 iterations: 100%|██████████| 500/500 [00:00<00:00, 743.11it/s]\n",
      "Trial 2/20: Running 500 iterations: 100%|██████████| 500/500 [00:00<00:00, 784.78it/s]\n",
      "Trial 3/20: Running 500 iterations: 100%|██████████| 500/500 [00:00<00:00, 712.94it/s]\n",
      "Trial 4/20: Running 500 iterations: 100%|██████████| 500/500 [00:00<00:00, 748.12it/s]\n",
      "Trial 5/20: Running 500 iterations: 100%|██████████| 500/500 [00:00<00:00, 876.59it/s]\n",
      "Trial 6/20: Running 500 iterations: 100%|██████████| 500/500 [00:00<00:00, 864.13it/s]\n",
      "Trial 7/20: Running 500 iterations: 100%|██████████| 500/500 [00:00<00:00, 890.18it/s]\n",
      "Trial 8/20: Running 500 iterations: 100%|██████████| 500/500 [00:00<00:00, 859.87it/s]\n",
      "Trial 9/20: Running 500 iterations: 100%|██████████| 500/500 [00:00<00:00, 876.86it/s]\n",
      "Trial 10/20: Running 500 iterations: 100%|██████████| 500/500 [00:00<00:00, 874.49it/s]\n",
      "Trial 11/20: Running 500 iterations: 100%|██████████| 500/500 [00:00<00:00, 879.82it/s]\n",
      "Trial 12/20: Running 500 iterations: 100%|██████████| 500/500 [00:00<00:00, 608.53it/s]\n",
      "Trial 13/20: Running 500 iterations: 100%|██████████| 500/500 [00:00<00:00, 611.20it/s]\n",
      "Trial 14/20: Running 500 iterations: 100%|██████████| 500/500 [00:00<00:00, 593.27it/s]\n",
      "Trial 15/20: Running 500 iterations: 100%|██████████| 500/500 [00:00<00:00, 624.99it/s]\n",
      "Trial 16/20: Running 500 iterations: 100%|██████████| 500/500 [00:00<00:00, 599.80it/s]\n",
      "Trial 17/20: Running 500 iterations: 100%|██████████| 500/500 [00:00<00:00, 625.01it/s]\n",
      "Trial 18/20: Running 500 iterations: 100%|██████████| 500/500 [00:00<00:00, 660.13it/s]\n",
      "Trial 19/20: Running 500 iterations: 100%|██████████| 500/500 [00:00<00:00, 841.53it/s]\n",
      "Trial 20/20: Running 500 iterations: 100%|██████████| 500/500 [00:00<00:00, 845.92it/s]\n",
      "Unsupported operator aten::max_pool2d encountered 3 time(s)\n",
      "Unsupported operator aten::add encountered 4 time(s)\n"
     ]
    },
    {
     "name": "stdout",
     "output_type": "stream",
     "text": [
      "Processing batch size: 16\n"
     ]
    },
    {
     "name": "stderr",
     "output_type": "stream",
     "text": [
      "Trial 1/20: Running 500 iterations: 100%|██████████| 500/500 [00:00<00:00, 628.23it/s]\n",
      "Trial 2/20: Running 500 iterations: 100%|██████████| 500/500 [00:00<00:00, 630.33it/s]\n",
      "Trial 3/20: Running 500 iterations: 100%|██████████| 500/500 [00:00<00:00, 622.85it/s]\n",
      "Trial 4/20: Running 500 iterations: 100%|██████████| 500/500 [00:00<00:00, 608.80it/s]\n",
      "Trial 5/20: Running 500 iterations: 100%|██████████| 500/500 [00:00<00:00, 618.53it/s]\n",
      "Trial 6/20: Running 500 iterations: 100%|██████████| 500/500 [00:00<00:00, 619.20it/s]\n",
      "Trial 7/20: Running 500 iterations: 100%|██████████| 500/500 [00:00<00:00, 620.35it/s]\n",
      "Trial 8/20: Running 500 iterations: 100%|██████████| 500/500 [00:00<00:00, 620.25it/s]\n",
      "Trial 9/20: Running 500 iterations: 100%|██████████| 500/500 [00:00<00:00, 618.60it/s]\n",
      "Trial 10/20: Running 500 iterations: 100%|██████████| 500/500 [00:00<00:00, 620.32it/s]\n",
      "Trial 11/20: Running 500 iterations: 100%|██████████| 500/500 [00:00<00:00, 633.66it/s]\n",
      "Trial 12/20: Running 500 iterations: 100%|██████████| 500/500 [00:00<00:00, 636.36it/s]\n",
      "Trial 13/20: Running 500 iterations: 100%|██████████| 500/500 [00:00<00:00, 636.83it/s]\n",
      "Trial 14/20: Running 500 iterations: 100%|██████████| 500/500 [00:00<00:00, 638.94it/s]\n",
      "Trial 15/20: Running 500 iterations: 100%|██████████| 500/500 [00:00<00:00, 632.33it/s]\n",
      "Trial 16/20: Running 500 iterations: 100%|██████████| 500/500 [00:00<00:00, 630.52it/s]\n",
      "Trial 17/20: Running 500 iterations: 100%|██████████| 500/500 [00:00<00:00, 631.80it/s]\n",
      "Trial 18/20: Running 500 iterations: 100%|██████████| 500/500 [00:00<00:00, 631.53it/s]\n",
      "Trial 19/20: Running 500 iterations: 100%|██████████| 500/500 [00:00<00:00, 625.22it/s]\n",
      "Trial 20/20: Running 500 iterations: 100%|██████████| 500/500 [00:00<00:00, 626.57it/s]\n",
      "Unsupported operator aten::max_pool2d encountered 3 time(s)\n",
      "Unsupported operator aten::add encountered 4 time(s)\n"
     ]
    },
    {
     "name": "stdout",
     "output_type": "stream",
     "text": [
      "Processing batch size: 32\n"
     ]
    },
    {
     "name": "stderr",
     "output_type": "stream",
     "text": [
      "Trial 1/20: Running 500 iterations: 100%|██████████| 500/500 [00:01<00:00, 357.21it/s]\n",
      "Trial 2/20: Running 500 iterations: 100%|██████████| 500/500 [00:01<00:00, 359.30it/s]\n",
      "Trial 3/20: Running 500 iterations: 100%|██████████| 500/500 [00:01<00:00, 358.95it/s]\n",
      "Trial 4/20: Running 500 iterations: 100%|██████████| 500/500 [00:01<00:00, 355.24it/s]\n",
      "Trial 5/20: Running 500 iterations: 100%|██████████| 500/500 [00:01<00:00, 353.26it/s]\n",
      "Trial 6/20: Running 500 iterations: 100%|██████████| 500/500 [00:01<00:00, 357.50it/s]\n",
      "Trial 7/20: Running 500 iterations: 100%|██████████| 500/500 [00:01<00:00, 364.50it/s]\n",
      "Trial 8/20: Running 500 iterations: 100%|██████████| 500/500 [00:01<00:00, 363.54it/s]\n",
      "Trial 9/20: Running 500 iterations: 100%|██████████| 500/500 [00:01<00:00, 365.03it/s]\n",
      "Trial 10/20: Running 500 iterations: 100%|██████████| 500/500 [00:01<00:00, 365.05it/s]\n",
      "Trial 11/20: Running 500 iterations: 100%|██████████| 500/500 [00:01<00:00, 363.52it/s]\n",
      "Trial 12/20: Running 500 iterations: 100%|██████████| 500/500 [00:01<00:00, 364.66it/s]\n",
      "Trial 13/20: Running 500 iterations: 100%|██████████| 500/500 [00:01<00:00, 363.18it/s]\n",
      "Trial 14/20: Running 500 iterations: 100%|██████████| 500/500 [00:01<00:00, 365.99it/s]\n",
      "Trial 15/20: Running 500 iterations: 100%|██████████| 500/500 [00:01<00:00, 363.46it/s]\n",
      "Trial 16/20: Running 500 iterations: 100%|██████████| 500/500 [00:01<00:00, 365.29it/s]\n",
      "Trial 17/20: Running 500 iterations: 100%|██████████| 500/500 [00:01<00:00, 363.68it/s]\n",
      "Trial 18/20: Running 500 iterations: 100%|██████████| 500/500 [00:01<00:00, 363.50it/s]\n",
      "Trial 19/20: Running 500 iterations: 100%|██████████| 500/500 [00:01<00:00, 363.51it/s]\n",
      "Trial 20/20: Running 500 iterations: 100%|██████████| 500/500 [00:01<00:00, 364.94it/s]\n",
      "Unsupported operator aten::max_pool2d encountered 3 time(s)\n",
      "Unsupported operator aten::add encountered 4 time(s)\n"
     ]
    },
    {
     "name": "stdout",
     "output_type": "stream",
     "text": [
      "Processing batch size: 64\n"
     ]
    },
    {
     "name": "stderr",
     "output_type": "stream",
     "text": [
      "Trial 1/20: Running 500 iterations: 100%|██████████| 500/500 [00:02<00:00, 209.01it/s]\n",
      "Trial 2/20: Running 500 iterations: 100%|██████████| 500/500 [00:02<00:00, 209.65it/s]\n",
      "Trial 3/20: Running 500 iterations: 100%|██████████| 500/500 [00:02<00:00, 208.54it/s]\n",
      "Trial 4/20: Running 500 iterations: 100%|██████████| 500/500 [00:02<00:00, 211.92it/s]\n",
      "Trial 5/20: Running 500 iterations: 100%|██████████| 500/500 [00:02<00:00, 212.52it/s]\n",
      "Trial 6/20: Running 500 iterations: 100%|██████████| 500/500 [00:02<00:00, 213.47it/s]\n",
      "Trial 7/20: Running 500 iterations: 100%|██████████| 500/500 [00:02<00:00, 213.18it/s]\n",
      "Trial 8/20: Running 500 iterations: 100%|██████████| 500/500 [00:02<00:00, 212.49it/s]\n",
      "Trial 9/20: Running 500 iterations: 100%|██████████| 500/500 [00:02<00:00, 213.15it/s]\n",
      "Trial 10/20: Running 500 iterations: 100%|██████████| 500/500 [00:02<00:00, 213.22it/s]\n",
      "Trial 11/20: Running 500 iterations: 100%|██████████| 500/500 [00:02<00:00, 213.16it/s]\n",
      "Trial 12/20: Running 500 iterations: 100%|██████████| 500/500 [00:02<00:00, 213.47it/s]\n",
      "Trial 13/20: Running 500 iterations: 100%|██████████| 500/500 [00:02<00:00, 213.35it/s]\n",
      "Trial 14/20: Running 500 iterations: 100%|██████████| 500/500 [00:02<00:00, 213.60it/s]\n",
      "Trial 15/20: Running 500 iterations: 100%|██████████| 500/500 [00:02<00:00, 213.30it/s]\n",
      "Trial 16/20: Running 500 iterations: 100%|██████████| 500/500 [00:02<00:00, 213.00it/s]\n",
      "Trial 17/20: Running 500 iterations: 100%|██████████| 500/500 [00:02<00:00, 213.19it/s]\n",
      "Trial 18/20: Running 500 iterations: 100%|██████████| 500/500 [00:02<00:00, 212.31it/s]\n",
      "Trial 19/20: Running 500 iterations: 100%|██████████| 500/500 [00:02<00:00, 212.85it/s]\n",
      "Trial 20/20: Running 500 iterations: 100%|██████████| 500/500 [00:02<00:00, 213.18it/s]\n",
      "Processing Models:  32%|███▏      | 21/66 [47:06<1:43:56, 138.59s/it]Unsupported operator aten::max_pool2d encountered 3 time(s)\n",
      "Unsupported operator aten::add encountered 4 time(s)\n"
     ]
    },
    {
     "name": "stdout",
     "output_type": "stream",
     "text": [
      "Processing model: d:\\PruneLimit\\PruneLimitAnalyzer\\models\\AlexNet_DATASET_random_PD2_GPR-30_PRUNED_SEED_23.pth\n",
      "Processing batch size: 1\n"
     ]
    },
    {
     "name": "stderr",
     "output_type": "stream",
     "text": [
      "Trial 1/20: Running 500 iterations: 100%|██████████| 500/500 [00:00<00:00, 936.21it/s]\n",
      "Trial 2/20: Running 500 iterations: 100%|██████████| 500/500 [00:00<00:00, 885.89it/s]\n",
      "Trial 3/20: Running 500 iterations: 100%|██████████| 500/500 [00:00<00:00, 733.43it/s]\n",
      "Trial 4/20: Running 500 iterations: 100%|██████████| 500/500 [00:00<00:00, 671.17it/s]\n",
      "Trial 5/20: Running 500 iterations: 100%|██████████| 500/500 [00:00<00:00, 788.38it/s]\n",
      "Trial 6/20: Running 500 iterations: 100%|██████████| 500/500 [00:00<00:00, 592.46it/s]\n",
      "Trial 7/20: Running 500 iterations: 100%|██████████| 500/500 [00:00<00:00, 643.63it/s]\n",
      "Trial 8/20: Running 500 iterations: 100%|██████████| 500/500 [00:00<00:00, 626.22it/s]\n",
      "Trial 9/20: Running 500 iterations: 100%|██████████| 500/500 [00:00<00:00, 566.13it/s]\n",
      "Trial 10/20: Running 500 iterations: 100%|██████████| 500/500 [00:00<00:00, 908.41it/s]\n",
      "Trial 11/20: Running 500 iterations: 100%|██████████| 500/500 [00:00<00:00, 927.03it/s]\n",
      "Trial 12/20: Running 500 iterations: 100%|██████████| 500/500 [00:00<00:00, 885.43it/s]\n",
      "Trial 13/20: Running 500 iterations: 100%|██████████| 500/500 [00:00<00:00, 856.01it/s]\n",
      "Trial 14/20: Running 500 iterations: 100%|██████████| 500/500 [00:00<00:00, 785.64it/s]\n",
      "Trial 15/20: Running 500 iterations: 100%|██████████| 500/500 [00:00<00:00, 809.21it/s]\n",
      "Trial 16/20: Running 500 iterations: 100%|██████████| 500/500 [00:00<00:00, 906.37it/s]\n",
      "Trial 17/20: Running 500 iterations: 100%|██████████| 500/500 [00:00<00:00, 960.04it/s]\n",
      "Trial 18/20: Running 500 iterations: 100%|██████████| 500/500 [00:00<00:00, 950.05it/s]\n",
      "Trial 19/20: Running 500 iterations: 100%|██████████| 500/500 [00:00<00:00, 959.60it/s]\n",
      "Trial 20/20: Running 500 iterations: 100%|██████████| 500/500 [00:00<00:00, 958.06it/s]\n",
      "Unsupported operator aten::max_pool2d encountered 3 time(s)\n",
      "Unsupported operator aten::add encountered 4 time(s)\n"
     ]
    },
    {
     "name": "stdout",
     "output_type": "stream",
     "text": [
      "Processing batch size: 8\n"
     ]
    },
    {
     "name": "stderr",
     "output_type": "stream",
     "text": [
      "Trial 1/20: Running 500 iterations: 100%|██████████| 500/500 [00:00<00:00, 1011.90it/s]\n",
      "Trial 2/20: Running 500 iterations: 100%|██████████| 500/500 [00:00<00:00, 955.99it/s]\n",
      "Trial 3/20: Running 500 iterations: 100%|██████████| 500/500 [00:00<00:00, 982.12it/s]\n",
      "Trial 4/20: Running 500 iterations: 100%|██████████| 500/500 [00:00<00:00, 1024.53it/s]\n",
      "Trial 5/20: Running 500 iterations: 100%|██████████| 500/500 [00:00<00:00, 981.20it/s] \n",
      "Trial 6/20: Running 500 iterations: 100%|██████████| 500/500 [00:00<00:00, 984.10it/s]\n",
      "Trial 7/20: Running 500 iterations: 100%|██████████| 500/500 [00:00<00:00, 1019.60it/s]\n",
      "Trial 8/20: Running 500 iterations: 100%|██████████| 500/500 [00:00<00:00, 923.07it/s]\n",
      "Trial 9/20: Running 500 iterations: 100%|██████████| 500/500 [00:00<00:00, 1028.20it/s]\n",
      "Trial 10/20: Running 500 iterations: 100%|██████████| 500/500 [00:00<00:00, 912.10it/s]\n",
      "Trial 11/20: Running 500 iterations: 100%|██████████| 500/500 [00:00<00:00, 947.48it/s]\n",
      "Trial 12/20: Running 500 iterations: 100%|██████████| 500/500 [00:00<00:00, 930.96it/s]\n",
      "Trial 13/20: Running 500 iterations: 100%|██████████| 500/500 [00:00<00:00, 889.39it/s]\n",
      "Trial 14/20: Running 500 iterations: 100%|██████████| 500/500 [00:00<00:00, 885.90it/s]\n",
      "Trial 15/20: Running 500 iterations: 100%|██████████| 500/500 [00:00<00:00, 976.22it/s] \n",
      "Trial 16/20: Running 500 iterations: 100%|██████████| 500/500 [00:00<00:00, 877.23it/s]\n",
      "Trial 17/20: Running 500 iterations: 100%|██████████| 500/500 [00:00<00:00, 999.47it/s]\n",
      "Trial 18/20: Running 500 iterations: 100%|██████████| 500/500 [00:00<00:00, 827.90it/s]\n",
      "Trial 19/20: Running 500 iterations: 100%|██████████| 500/500 [00:00<00:00, 838.78it/s]\n",
      "Trial 20/20: Running 500 iterations: 100%|██████████| 500/500 [00:00<00:00, 851.80it/s]\n",
      "Unsupported operator aten::max_pool2d encountered 3 time(s)\n",
      "Unsupported operator aten::add encountered 4 time(s)\n"
     ]
    },
    {
     "name": "stdout",
     "output_type": "stream",
     "text": [
      "Processing batch size: 16\n"
     ]
    },
    {
     "name": "stderr",
     "output_type": "stream",
     "text": [
      "Trial 1/20: Running 500 iterations: 100%|██████████| 500/500 [00:00<00:00, 670.42it/s]\n",
      "Trial 2/20: Running 500 iterations: 100%|██████████| 500/500 [00:00<00:00, 671.97it/s]\n",
      "Trial 3/20: Running 500 iterations: 100%|██████████| 500/500 [00:00<00:00, 678.29it/s]\n",
      "Trial 4/20: Running 500 iterations: 100%|██████████| 500/500 [00:00<00:00, 672.82it/s]\n",
      "Trial 5/20: Running 500 iterations: 100%|██████████| 500/500 [00:00<00:00, 664.04it/s]\n",
      "Trial 6/20: Running 500 iterations: 100%|██████████| 500/500 [00:00<00:00, 668.13it/s]\n",
      "Trial 7/20: Running 500 iterations: 100%|██████████| 500/500 [00:00<00:00, 677.78it/s]\n",
      "Trial 8/20: Running 500 iterations: 100%|██████████| 500/500 [00:00<00:00, 658.87it/s]\n",
      "Trial 9/20: Running 500 iterations: 100%|██████████| 500/500 [00:00<00:00, 673.56it/s]\n",
      "Trial 10/20: Running 500 iterations: 100%|██████████| 500/500 [00:00<00:00, 664.11it/s]\n",
      "Trial 11/20: Running 500 iterations: 100%|██████████| 500/500 [00:00<00:00, 663.11it/s]\n",
      "Trial 12/20: Running 500 iterations: 100%|██████████| 500/500 [00:00<00:00, 686.54it/s]\n",
      "Trial 13/20: Running 500 iterations: 100%|██████████| 500/500 [00:00<00:00, 685.39it/s]\n",
      "Trial 14/20: Running 500 iterations: 100%|██████████| 500/500 [00:00<00:00, 686.89it/s]\n",
      "Trial 15/20: Running 500 iterations: 100%|██████████| 500/500 [00:00<00:00, 682.82it/s]\n",
      "Trial 16/20: Running 500 iterations: 100%|██████████| 500/500 [00:00<00:00, 685.82it/s]\n",
      "Trial 17/20: Running 500 iterations: 100%|██████████| 500/500 [00:00<00:00, 690.22it/s]\n",
      "Trial 18/20: Running 500 iterations: 100%|██████████| 500/500 [00:00<00:00, 680.39it/s]\n",
      "Trial 19/20: Running 500 iterations: 100%|██████████| 500/500 [00:00<00:00, 677.39it/s]\n",
      "Trial 20/20: Running 500 iterations: 100%|██████████| 500/500 [00:00<00:00, 683.50it/s]\n",
      "Unsupported operator aten::max_pool2d encountered 3 time(s)\n",
      "Unsupported operator aten::add encountered 4 time(s)\n"
     ]
    },
    {
     "name": "stdout",
     "output_type": "stream",
     "text": [
      "Processing batch size: 32\n"
     ]
    },
    {
     "name": "stderr",
     "output_type": "stream",
     "text": [
      "Trial 1/20: Running 500 iterations: 100%|██████████| 500/500 [00:01<00:00, 363.44it/s]\n",
      "Trial 2/20: Running 500 iterations: 100%|██████████| 500/500 [00:01<00:00, 361.00it/s]\n",
      "Trial 3/20: Running 500 iterations: 100%|██████████| 500/500 [00:01<00:00, 365.73it/s]\n",
      "Trial 4/20: Running 500 iterations: 100%|██████████| 500/500 [00:01<00:00, 364.12it/s]\n",
      "Trial 5/20: Running 500 iterations: 100%|██████████| 500/500 [00:01<00:00, 366.01it/s]\n",
      "Trial 6/20: Running 500 iterations: 100%|██████████| 500/500 [00:01<00:00, 364.57it/s]\n",
      "Trial 7/20: Running 500 iterations: 100%|██████████| 500/500 [00:01<00:00, 375.01it/s]\n",
      "Trial 8/20: Running 500 iterations: 100%|██████████| 500/500 [00:01<00:00, 373.86it/s]\n",
      "Trial 9/20: Running 500 iterations: 100%|██████████| 500/500 [00:01<00:00, 375.82it/s]\n",
      "Trial 10/20: Running 500 iterations: 100%|██████████| 500/500 [00:01<00:00, 374.59it/s]\n",
      "Trial 11/20: Running 500 iterations: 100%|██████████| 500/500 [00:01<00:00, 374.30it/s]\n",
      "Trial 12/20: Running 500 iterations: 100%|██████████| 500/500 [00:01<00:00, 374.15it/s]\n",
      "Trial 13/20: Running 500 iterations: 100%|██████████| 500/500 [00:01<00:00, 373.20it/s]\n",
      "Trial 14/20: Running 500 iterations: 100%|██████████| 500/500 [00:01<00:00, 374.78it/s]\n",
      "Trial 15/20: Running 500 iterations: 100%|██████████| 500/500 [00:01<00:00, 373.41it/s]\n",
      "Trial 16/20: Running 500 iterations: 100%|██████████| 500/500 [00:01<00:00, 374.48it/s]\n",
      "Trial 17/20: Running 500 iterations: 100%|██████████| 500/500 [00:01<00:00, 373.60it/s]\n",
      "Trial 18/20: Running 500 iterations: 100%|██████████| 500/500 [00:01<00:00, 374.74it/s]\n",
      "Trial 19/20: Running 500 iterations: 100%|██████████| 500/500 [00:01<00:00, 374.38it/s]\n",
      "Trial 20/20: Running 500 iterations: 100%|██████████| 500/500 [00:01<00:00, 375.16it/s]\n",
      "Unsupported operator aten::max_pool2d encountered 3 time(s)\n",
      "Unsupported operator aten::add encountered 4 time(s)\n"
     ]
    },
    {
     "name": "stdout",
     "output_type": "stream",
     "text": [
      "Processing batch size: 64\n"
     ]
    },
    {
     "name": "stderr",
     "output_type": "stream",
     "text": [
      "Trial 1/20: Running 500 iterations: 100%|██████████| 500/500 [00:02<00:00, 211.31it/s]\n",
      "Trial 2/20: Running 500 iterations: 100%|██████████| 500/500 [00:02<00:00, 210.17it/s]\n",
      "Trial 3/20: Running 500 iterations: 100%|██████████| 500/500 [00:02<00:00, 212.19it/s]\n",
      "Trial 4/20: Running 500 iterations: 100%|██████████| 500/500 [00:02<00:00, 215.38it/s]\n",
      "Trial 5/20: Running 500 iterations: 100%|██████████| 500/500 [00:02<00:00, 217.12it/s]\n",
      "Trial 6/20: Running 500 iterations: 100%|██████████| 500/500 [00:02<00:00, 216.84it/s]\n",
      "Trial 7/20: Running 500 iterations: 100%|██████████| 500/500 [00:02<00:00, 217.24it/s]\n",
      "Trial 8/20: Running 500 iterations: 100%|██████████| 500/500 [00:02<00:00, 216.43it/s]\n",
      "Trial 9/20: Running 500 iterations: 100%|██████████| 500/500 [00:02<00:00, 216.54it/s]\n",
      "Trial 10/20: Running 500 iterations: 100%|██████████| 500/500 [00:02<00:00, 217.12it/s]\n",
      "Trial 11/20: Running 500 iterations: 100%|██████████| 500/500 [00:02<00:00, 216.51it/s]\n",
      "Trial 12/20: Running 500 iterations: 100%|██████████| 500/500 [00:02<00:00, 217.11it/s]\n",
      "Trial 13/20: Running 500 iterations: 100%|██████████| 500/500 [00:02<00:00, 216.94it/s]\n",
      "Trial 14/20: Running 500 iterations: 100%|██████████| 500/500 [00:02<00:00, 217.33it/s]\n",
      "Trial 15/20: Running 500 iterations: 100%|██████████| 500/500 [00:02<00:00, 216.91it/s]\n",
      "Trial 16/20: Running 500 iterations: 100%|██████████| 500/500 [00:02<00:00, 217.09it/s]\n",
      "Trial 17/20: Running 500 iterations: 100%|██████████| 500/500 [00:02<00:00, 217.29it/s]\n",
      "Trial 18/20: Running 500 iterations: 100%|██████████| 500/500 [00:02<00:00, 216.67it/s]\n",
      "Trial 19/20: Running 500 iterations: 100%|██████████| 500/500 [00:02<00:00, 217.17it/s]\n",
      "Trial 20/20: Running 500 iterations: 100%|██████████| 500/500 [00:02<00:00, 216.72it/s]\n",
      "Processing Models:  33%|███▎      | 22/66 [49:24<1:41:36, 138.55s/it]"
     ]
    },
    {
     "name": "stdout",
     "output_type": "stream",
     "text": [
      "Processing model: d:\\PruneLimit\\PruneLimitAnalyzer\\models\\AlexNet_DATASET_random_PD3_GPR-65_PRUNED_SEED_23.pth\n",
      "Processing batch size: 1\n"
     ]
    },
    {
     "name": "stderr",
     "output_type": "stream",
     "text": [
      "Unsupported operator aten::max_pool2d encountered 3 time(s)\n",
      "Unsupported operator aten::add encountered 4 time(s)\n",
      "Trial 1/20: Running 500 iterations: 100%|██████████| 500/500 [00:00<00:00, 1005.44it/s]\n",
      "Trial 2/20: Running 500 iterations: 100%|██████████| 500/500 [00:00<00:00, 958.24it/s]\n",
      "Trial 3/20: Running 500 iterations: 100%|██████████| 500/500 [00:00<00:00, 966.83it/s]\n",
      "Trial 4/20: Running 500 iterations: 100%|██████████| 500/500 [00:00<00:00, 815.79it/s]\n",
      "Trial 5/20: Running 500 iterations: 100%|██████████| 500/500 [00:00<00:00, 747.85it/s]\n",
      "Trial 6/20: Running 500 iterations: 100%|██████████| 500/500 [00:00<00:00, 657.92it/s]\n",
      "Trial 7/20: Running 500 iterations: 100%|██████████| 500/500 [00:00<00:00, 643.02it/s]\n",
      "Trial 8/20: Running 500 iterations: 100%|██████████| 500/500 [00:00<00:00, 570.13it/s]\n",
      "Trial 9/20: Running 500 iterations: 100%|██████████| 500/500 [00:00<00:00, 591.81it/s]\n",
      "Trial 10/20: Running 500 iterations: 100%|██████████| 500/500 [00:00<00:00, 631.75it/s]\n",
      "Trial 11/20: Running 500 iterations: 100%|██████████| 500/500 [00:00<00:00, 862.15it/s]\n",
      "Trial 12/20: Running 500 iterations: 100%|██████████| 500/500 [00:00<00:00, 951.18it/s]\n",
      "Trial 13/20: Running 500 iterations: 100%|██████████| 500/500 [00:00<00:00, 980.28it/s]\n",
      "Trial 14/20: Running 500 iterations: 100%|██████████| 500/500 [00:00<00:00, 1022.38it/s]\n",
      "Trial 15/20: Running 500 iterations: 100%|██████████| 500/500 [00:00<00:00, 997.75it/s]\n",
      "Trial 16/20: Running 500 iterations: 100%|██████████| 500/500 [00:00<00:00, 904.86it/s]\n",
      "Trial 17/20: Running 500 iterations: 100%|██████████| 500/500 [00:00<00:00, 821.22it/s]\n",
      "Trial 18/20: Running 500 iterations: 100%|██████████| 500/500 [00:00<00:00, 818.11it/s]\n",
      "Trial 19/20: Running 500 iterations: 100%|██████████| 500/500 [00:00<00:00, 737.48it/s]\n",
      "Trial 20/20: Running 500 iterations: 100%|██████████| 500/500 [00:00<00:00, 906.10it/s]\n",
      "Unsupported operator aten::max_pool2d encountered 3 time(s)\n",
      "Unsupported operator aten::add encountered 4 time(s)\n"
     ]
    },
    {
     "name": "stdout",
     "output_type": "stream",
     "text": [
      "Processing batch size: 8\n"
     ]
    },
    {
     "name": "stderr",
     "output_type": "stream",
     "text": [
      "Trial 1/20: Running 500 iterations: 100%|██████████| 500/500 [00:00<00:00, 1010.97it/s]\n",
      "Trial 2/20: Running 500 iterations: 100%|██████████| 500/500 [00:00<00:00, 982.07it/s]\n",
      "Trial 3/20: Running 500 iterations: 100%|██████████| 500/500 [00:00<00:00, 918.56it/s]\n",
      "Trial 4/20: Running 500 iterations: 100%|██████████| 500/500 [00:00<00:00, 880.65it/s]\n",
      "Trial 5/20: Running 500 iterations: 100%|██████████| 500/500 [00:00<00:00, 866.08it/s]\n",
      "Trial 6/20: Running 500 iterations: 100%|██████████| 500/500 [00:00<00:00, 883.52it/s]\n",
      "Trial 7/20: Running 500 iterations: 100%|██████████| 500/500 [00:00<00:00, 903.42it/s]\n",
      "Trial 8/20: Running 500 iterations: 100%|██████████| 500/500 [00:00<00:00, 855.87it/s]\n",
      "Trial 9/20: Running 500 iterations: 100%|██████████| 500/500 [00:00<00:00, 876.46it/s]\n",
      "Trial 10/20: Running 500 iterations: 100%|██████████| 500/500 [00:00<00:00, 834.44it/s]\n",
      "Trial 11/20: Running 500 iterations: 100%|██████████| 500/500 [00:00<00:00, 852.29it/s]\n",
      "Trial 12/20: Running 500 iterations: 100%|██████████| 500/500 [00:00<00:00, 654.74it/s]\n",
      "Trial 13/20: Running 500 iterations: 100%|██████████| 500/500 [00:00<00:00, 611.24it/s]\n",
      "Trial 14/20: Running 500 iterations: 100%|██████████| 500/500 [00:00<00:00, 664.67it/s]\n",
      "Trial 15/20: Running 500 iterations: 100%|██████████| 500/500 [00:00<00:00, 583.74it/s]\n",
      "Trial 16/20: Running 500 iterations: 100%|██████████| 500/500 [00:00<00:00, 993.23it/s]\n",
      "Trial 17/20: Running 500 iterations: 100%|██████████| 500/500 [00:00<00:00, 1006.02it/s]\n",
      "Trial 18/20: Running 500 iterations: 100%|██████████| 500/500 [00:00<00:00, 990.20it/s]\n",
      "Trial 19/20: Running 500 iterations: 100%|██████████| 500/500 [00:00<00:00, 968.77it/s]\n",
      "Trial 20/20: Running 500 iterations: 100%|██████████| 500/500 [00:00<00:00, 879.57it/s]\n",
      "Unsupported operator aten::max_pool2d encountered 3 time(s)\n",
      "Unsupported operator aten::add encountered 4 time(s)\n"
     ]
    },
    {
     "name": "stdout",
     "output_type": "stream",
     "text": [
      "Processing batch size: 16\n"
     ]
    },
    {
     "name": "stderr",
     "output_type": "stream",
     "text": [
      "Trial 1/20: Running 500 iterations: 100%|██████████| 500/500 [00:00<00:00, 970.55it/s]\n",
      "Trial 2/20: Running 500 iterations: 100%|██████████| 500/500 [00:00<00:00, 928.56it/s]\n",
      "Trial 3/20: Running 500 iterations: 100%|██████████| 500/500 [00:00<00:00, 919.69it/s]\n",
      "Trial 4/20: Running 500 iterations: 100%|██████████| 500/500 [00:00<00:00, 975.99it/s]\n",
      "Trial 5/20: Running 500 iterations: 100%|██████████| 500/500 [00:00<00:00, 970.73it/s]\n",
      "Trial 6/20: Running 500 iterations: 100%|██████████| 500/500 [00:00<00:00, 970.69it/s]\n",
      "Trial 7/20: Running 500 iterations: 100%|██████████| 500/500 [00:00<00:00, 847.63it/s]\n",
      "Trial 8/20: Running 500 iterations: 100%|██████████| 500/500 [00:00<00:00, 852.90it/s]\n",
      "Trial 9/20: Running 500 iterations: 100%|██████████| 500/500 [00:00<00:00, 969.11it/s]\n",
      "Trial 10/20: Running 500 iterations: 100%|██████████| 500/500 [00:00<00:00, 824.28it/s]\n",
      "Trial 11/20: Running 500 iterations: 100%|██████████| 500/500 [00:00<00:00, 930.73it/s]\n",
      "Trial 12/20: Running 500 iterations: 100%|██████████| 500/500 [00:00<00:00, 970.81it/s]\n",
      "Trial 13/20: Running 500 iterations: 100%|██████████| 500/500 [00:00<00:00, 952.32it/s]\n",
      "Trial 14/20: Running 500 iterations: 100%|██████████| 500/500 [00:00<00:00, 969.62it/s]\n",
      "Trial 15/20: Running 500 iterations: 100%|██████████| 500/500 [00:00<00:00, 970.39it/s]\n",
      "Trial 16/20: Running 500 iterations: 100%|██████████| 500/500 [00:00<00:00, 958.84it/s]\n",
      "Trial 17/20: Running 500 iterations: 100%|██████████| 500/500 [00:00<00:00, 985.35it/s]\n",
      "Trial 18/20: Running 500 iterations: 100%|██████████| 500/500 [00:00<00:00, 982.15it/s]\n",
      "Trial 19/20: Running 500 iterations: 100%|██████████| 500/500 [00:00<00:00, 1000.16it/s]\n",
      "Trial 20/20: Running 500 iterations: 100%|██████████| 500/500 [00:00<00:00, 996.69it/s]\n",
      "Unsupported operator aten::max_pool2d encountered 3 time(s)\n",
      "Unsupported operator aten::add encountered 4 time(s)\n"
     ]
    },
    {
     "name": "stdout",
     "output_type": "stream",
     "text": [
      "Processing batch size: 32\n"
     ]
    },
    {
     "name": "stderr",
     "output_type": "stream",
     "text": [
      "Trial 1/20: Running 500 iterations: 100%|██████████| 500/500 [00:00<00:00, 828.85it/s]\n",
      "Trial 2/20: Running 500 iterations: 100%|██████████| 500/500 [00:00<00:00, 816.24it/s]\n",
      "Trial 3/20: Running 500 iterations: 100%|██████████| 500/500 [00:00<00:00, 815.84it/s]\n",
      "Trial 4/20: Running 500 iterations: 100%|██████████| 500/500 [00:00<00:00, 783.08it/s]\n",
      "Trial 5/20: Running 500 iterations: 100%|██████████| 500/500 [00:00<00:00, 708.52it/s]\n",
      "Trial 6/20: Running 500 iterations: 100%|██████████| 500/500 [00:00<00:00, 751.24it/s]\n",
      "Trial 7/20: Running 500 iterations: 100%|██████████| 500/500 [00:00<00:00, 815.84it/s]\n",
      "Trial 8/20: Running 500 iterations: 100%|██████████| 500/500 [00:00<00:00, 837.53it/s]\n",
      "Trial 9/20: Running 500 iterations: 100%|██████████| 500/500 [00:00<00:00, 836.59it/s]\n",
      "Trial 10/20: Running 500 iterations: 100%|██████████| 500/500 [00:00<00:00, 834.98it/s]\n",
      "Trial 11/20: Running 500 iterations: 100%|██████████| 500/500 [00:00<00:00, 838.85it/s]\n",
      "Trial 12/20: Running 500 iterations: 100%|██████████| 500/500 [00:00<00:00, 829.85it/s]\n",
      "Trial 13/20: Running 500 iterations: 100%|██████████| 500/500 [00:00<00:00, 831.89it/s]\n",
      "Trial 14/20: Running 500 iterations: 100%|██████████| 500/500 [00:00<00:00, 825.31it/s]\n",
      "Trial 15/20: Running 500 iterations: 100%|██████████| 500/500 [00:00<00:00, 856.86it/s]\n",
      "Trial 16/20: Running 500 iterations: 100%|██████████| 500/500 [00:00<00:00, 850.55it/s]\n",
      "Trial 17/20: Running 500 iterations: 100%|██████████| 500/500 [00:00<00:00, 853.85it/s]\n",
      "Trial 18/20: Running 500 iterations: 100%|██████████| 500/500 [00:00<00:00, 823.74it/s]\n",
      "Trial 19/20: Running 500 iterations: 100%|██████████| 500/500 [00:00<00:00, 823.37it/s]\n",
      "Trial 20/20: Running 500 iterations: 100%|██████████| 500/500 [00:00<00:00, 822.52it/s]\n",
      "Unsupported operator aten::max_pool2d encountered 3 time(s)\n",
      "Unsupported operator aten::add encountered 4 time(s)\n"
     ]
    },
    {
     "name": "stdout",
     "output_type": "stream",
     "text": [
      "Processing batch size: 64\n"
     ]
    },
    {
     "name": "stderr",
     "output_type": "stream",
     "text": [
      "Trial 1/20: Running 500 iterations: 100%|██████████| 500/500 [00:01<00:00, 441.58it/s]\n",
      "Trial 2/20: Running 500 iterations: 100%|██████████| 500/500 [00:01<00:00, 445.09it/s]\n",
      "Trial 3/20: Running 500 iterations: 100%|██████████| 500/500 [00:01<00:00, 439.25it/s]\n",
      "Trial 4/20: Running 500 iterations: 100%|██████████| 500/500 [00:01<00:00, 437.46it/s]\n",
      "Trial 5/20: Running 500 iterations: 100%|██████████| 500/500 [00:01<00:00, 445.04it/s]\n",
      "Trial 6/20: Running 500 iterations: 100%|██████████| 500/500 [00:01<00:00, 440.44it/s]\n",
      "Trial 7/20: Running 500 iterations: 100%|██████████| 500/500 [00:01<00:00, 445.34it/s]\n",
      "Trial 8/20: Running 500 iterations: 100%|██████████| 500/500 [00:01<00:00, 450.70it/s]\n",
      "Trial 9/20: Running 500 iterations: 100%|██████████| 500/500 [00:01<00:00, 455.39it/s]\n",
      "Trial 10/20: Running 500 iterations: 100%|██████████| 500/500 [00:01<00:00, 452.83it/s]\n",
      "Trial 11/20: Running 500 iterations: 100%|██████████| 500/500 [00:01<00:00, 453.58it/s]\n",
      "Trial 12/20: Running 500 iterations: 100%|██████████| 500/500 [00:01<00:00, 450.35it/s]\n",
      "Trial 13/20: Running 500 iterations: 100%|██████████| 500/500 [00:01<00:00, 450.14it/s]\n",
      "Trial 14/20: Running 500 iterations: 100%|██████████| 500/500 [00:01<00:00, 451.27it/s]\n",
      "Trial 15/20: Running 500 iterations: 100%|██████████| 500/500 [00:01<00:00, 451.08it/s]\n",
      "Trial 16/20: Running 500 iterations: 100%|██████████| 500/500 [00:01<00:00, 451.62it/s]\n",
      "Trial 17/20: Running 500 iterations: 100%|██████████| 500/500 [00:01<00:00, 451.38it/s]\n",
      "Trial 18/20: Running 500 iterations: 100%|██████████| 500/500 [00:01<00:00, 452.02it/s]\n",
      "Trial 19/20: Running 500 iterations: 100%|██████████| 500/500 [00:01<00:00, 452.89it/s]\n",
      "Trial 20/20: Running 500 iterations: 100%|██████████| 500/500 [00:01<00:00, 451.63it/s]\n",
      "Processing Models:  35%|███▍      | 23/66 [50:50<1:27:55, 122.69s/it]"
     ]
    },
    {
     "name": "stdout",
     "output_type": "stream",
     "text": [
      "Processing model: d:\\PruneLimit\\PruneLimitAnalyzer\\models\\AlexNet_DATASET_random_PD1_GPR-30_PRUNED_SEED_23.pth\n",
      "Processing batch size: 1\n"
     ]
    },
    {
     "name": "stderr",
     "output_type": "stream",
     "text": [
      "Unsupported operator aten::max_pool2d encountered 3 time(s)\n",
      "Unsupported operator aten::add encountered 4 time(s)\n",
      "Trial 1/20: Running 500 iterations: 100%|██████████| 500/500 [00:00<00:00, 867.95it/s]\n",
      "Trial 2/20: Running 500 iterations: 100%|██████████| 500/500 [00:00<00:00, 725.01it/s]\n",
      "Trial 3/20: Running 500 iterations: 100%|██████████| 500/500 [00:00<00:00, 651.71it/s]\n",
      "Trial 4/20: Running 500 iterations: 100%|██████████| 500/500 [00:00<00:00, 881.81it/s]\n",
      "Trial 5/20: Running 500 iterations: 100%|██████████| 500/500 [00:00<00:00, 807.35it/s]\n",
      "Trial 6/20: Running 500 iterations: 100%|██████████| 500/500 [00:00<00:00, 869.77it/s]\n",
      "Trial 7/20: Running 500 iterations: 100%|██████████| 500/500 [00:00<00:00, 655.28it/s]\n",
      "Trial 8/20: Running 500 iterations: 100%|██████████| 500/500 [00:00<00:00, 696.20it/s]\n",
      "Trial 9/20: Running 500 iterations: 100%|██████████| 500/500 [00:00<00:00, 905.31it/s]\n",
      "Trial 10/20: Running 500 iterations: 100%|██████████| 500/500 [00:00<00:00, 842.40it/s]\n",
      "Trial 11/20: Running 500 iterations: 100%|██████████| 500/500 [00:00<00:00, 949.84it/s]\n",
      "Trial 12/20: Running 500 iterations: 100%|██████████| 500/500 [00:00<00:00, 849.78it/s]\n",
      "Trial 13/20: Running 500 iterations: 100%|██████████| 500/500 [00:00<00:00, 940.14it/s]\n",
      "Trial 14/20: Running 500 iterations: 100%|██████████| 500/500 [00:00<00:00, 913.01it/s]\n",
      "Trial 15/20: Running 500 iterations: 100%|██████████| 500/500 [00:00<00:00, 530.57it/s]\n",
      "Trial 16/20: Running 500 iterations: 100%|██████████| 500/500 [00:00<00:00, 923.81it/s]\n",
      "Trial 17/20: Running 500 iterations: 100%|██████████| 500/500 [00:00<00:00, 907.13it/s]\n",
      "Trial 18/20: Running 500 iterations: 100%|██████████| 500/500 [00:00<00:00, 933.80it/s]\n",
      "Trial 19/20: Running 500 iterations: 100%|██████████| 500/500 [00:00<00:00, 926.47it/s]\n",
      "Trial 20/20: Running 500 iterations: 100%|██████████| 500/500 [00:00<00:00, 936.54it/s]\n",
      "Unsupported operator aten::max_pool2d encountered 3 time(s)\n",
      "Unsupported operator aten::add encountered 4 time(s)\n"
     ]
    },
    {
     "name": "stdout",
     "output_type": "stream",
     "text": [
      "Processing batch size: 8\n"
     ]
    },
    {
     "name": "stderr",
     "output_type": "stream",
     "text": [
      "Trial 1/20: Running 500 iterations: 100%|██████████| 500/500 [00:00<00:00, 899.55it/s]\n",
      "Trial 2/20: Running 500 iterations: 100%|██████████| 500/500 [00:00<00:00, 877.19it/s]\n",
      "Trial 3/20: Running 500 iterations: 100%|██████████| 500/500 [00:00<00:00, 809.15it/s]\n",
      "Trial 4/20: Running 500 iterations: 100%|██████████| 500/500 [00:00<00:00, 846.09it/s]\n",
      "Trial 5/20: Running 500 iterations: 100%|██████████| 500/500 [00:00<00:00, 868.66it/s]\n",
      "Trial 6/20: Running 500 iterations: 100%|██████████| 500/500 [00:00<00:00, 763.41it/s]\n",
      "Trial 7/20: Running 500 iterations: 100%|██████████| 500/500 [00:00<00:00, 878.24it/s]\n",
      "Trial 8/20: Running 500 iterations: 100%|██████████| 500/500 [00:00<00:00, 883.17it/s]\n",
      "Trial 9/20: Running 500 iterations: 100%|██████████| 500/500 [00:00<00:00, 911.27it/s]\n",
      "Trial 10/20: Running 500 iterations: 100%|██████████| 500/500 [00:00<00:00, 910.56it/s]\n",
      "Trial 11/20: Running 500 iterations: 100%|██████████| 500/500 [00:00<00:00, 894.67it/s]\n",
      "Trial 12/20: Running 500 iterations: 100%|██████████| 500/500 [00:00<00:00, 908.43it/s]\n",
      "Trial 13/20: Running 500 iterations: 100%|██████████| 500/500 [00:00<00:00, 938.20it/s]\n",
      "Trial 14/20: Running 500 iterations: 100%|██████████| 500/500 [00:00<00:00, 929.99it/s]\n",
      "Trial 15/20: Running 500 iterations: 100%|██████████| 500/500 [00:00<00:00, 920.24it/s]\n",
      "Trial 16/20: Running 500 iterations: 100%|██████████| 500/500 [00:00<00:00, 927.79it/s]\n",
      "Trial 17/20: Running 500 iterations: 100%|██████████| 500/500 [00:00<00:00, 917.71it/s]\n",
      "Trial 18/20: Running 500 iterations: 100%|██████████| 500/500 [00:00<00:00, 912.74it/s]\n",
      "Trial 19/20: Running 500 iterations: 100%|██████████| 500/500 [00:00<00:00, 877.77it/s]\n",
      "Trial 20/20: Running 500 iterations: 100%|██████████| 500/500 [00:00<00:00, 958.16it/s]\n",
      "Unsupported operator aten::max_pool2d encountered 3 time(s)\n",
      "Unsupported operator aten::add encountered 4 time(s)\n"
     ]
    },
    {
     "name": "stdout",
     "output_type": "stream",
     "text": [
      "Processing batch size: 16\n"
     ]
    },
    {
     "name": "stderr",
     "output_type": "stream",
     "text": [
      "Trial 1/20: Running 500 iterations: 100%|██████████| 500/500 [00:00<00:00, 649.15it/s]\n",
      "Trial 2/20: Running 500 iterations: 100%|██████████| 500/500 [00:00<00:00, 643.60it/s]\n",
      "Trial 3/20: Running 500 iterations: 100%|██████████| 500/500 [00:00<00:00, 634.16it/s]\n",
      "Trial 4/20: Running 500 iterations: 100%|██████████| 500/500 [00:00<00:00, 642.37it/s]\n",
      "Trial 5/20: Running 500 iterations: 100%|██████████| 500/500 [00:00<00:00, 638.00it/s]\n",
      "Trial 6/20: Running 500 iterations: 100%|██████████| 500/500 [00:00<00:00, 625.88it/s]\n",
      "Trial 7/20: Running 500 iterations: 100%|██████████| 500/500 [00:00<00:00, 642.76it/s]\n",
      "Trial 8/20: Running 500 iterations: 100%|██████████| 500/500 [00:00<00:00, 631.50it/s]\n",
      "Trial 9/20: Running 500 iterations: 100%|██████████| 500/500 [00:00<00:00, 644.38it/s]\n",
      "Trial 10/20: Running 500 iterations: 100%|██████████| 500/500 [00:00<00:00, 637.19it/s]\n",
      "Trial 11/20: Running 500 iterations: 100%|██████████| 500/500 [00:00<00:00, 645.71it/s]\n",
      "Trial 12/20: Running 500 iterations: 100%|██████████| 500/500 [00:00<00:00, 651.78it/s]\n",
      "Trial 13/20: Running 500 iterations: 100%|██████████| 500/500 [00:00<00:00, 650.61it/s]\n",
      "Trial 14/20: Running 500 iterations: 100%|██████████| 500/500 [00:00<00:00, 661.04it/s]\n",
      "Trial 15/20: Running 500 iterations: 100%|██████████| 500/500 [00:00<00:00, 660.02it/s]\n",
      "Trial 16/20: Running 500 iterations: 100%|██████████| 500/500 [00:00<00:00, 654.46it/s]\n",
      "Trial 17/20: Running 500 iterations: 100%|██████████| 500/500 [00:00<00:00, 646.15it/s]\n",
      "Trial 18/20: Running 500 iterations: 100%|██████████| 500/500 [00:00<00:00, 653.88it/s]\n",
      "Trial 19/20: Running 500 iterations: 100%|██████████| 500/500 [00:00<00:00, 655.01it/s]\n",
      "Trial 20/20: Running 500 iterations: 100%|██████████| 500/500 [00:00<00:00, 651.57it/s]\n",
      "Unsupported operator aten::max_pool2d encountered 3 time(s)\n",
      "Unsupported operator aten::add encountered 4 time(s)\n"
     ]
    },
    {
     "name": "stdout",
     "output_type": "stream",
     "text": [
      "Processing batch size: 32\n"
     ]
    },
    {
     "name": "stderr",
     "output_type": "stream",
     "text": [
      "Trial 1/20: Running 500 iterations: 100%|██████████| 500/500 [00:01<00:00, 374.93it/s]\n",
      "Trial 2/20: Running 500 iterations: 100%|██████████| 500/500 [00:01<00:00, 375.42it/s]\n",
      "Trial 3/20: Running 500 iterations: 100%|██████████| 500/500 [00:01<00:00, 376.56it/s]\n",
      "Trial 4/20: Running 500 iterations: 100%|██████████| 500/500 [00:01<00:00, 374.09it/s]\n",
      "Trial 5/20: Running 500 iterations: 100%|██████████| 500/500 [00:01<00:00, 376.96it/s]\n",
      "Trial 6/20: Running 500 iterations: 100%|██████████| 500/500 [00:01<00:00, 373.64it/s]\n",
      "Trial 7/20: Running 500 iterations: 100%|██████████| 500/500 [00:01<00:00, 383.70it/s]\n",
      "Trial 8/20: Running 500 iterations: 100%|██████████| 500/500 [00:01<00:00, 385.36it/s]\n",
      "Trial 9/20: Running 500 iterations: 100%|██████████| 500/500 [00:01<00:00, 384.54it/s]\n",
      "Trial 10/20: Running 500 iterations: 100%|██████████| 500/500 [00:01<00:00, 383.43it/s]\n",
      "Trial 11/20: Running 500 iterations: 100%|██████████| 500/500 [00:01<00:00, 381.71it/s]\n",
      "Trial 12/20: Running 500 iterations: 100%|██████████| 500/500 [00:01<00:00, 383.39it/s]\n",
      "Trial 13/20: Running 500 iterations: 100%|██████████| 500/500 [00:01<00:00, 383.71it/s]\n",
      "Trial 14/20: Running 500 iterations: 100%|██████████| 500/500 [00:01<00:00, 383.67it/s]\n",
      "Trial 15/20: Running 500 iterations: 100%|██████████| 500/500 [00:01<00:00, 381.01it/s]\n",
      "Trial 16/20: Running 500 iterations: 100%|██████████| 500/500 [00:01<00:00, 377.85it/s]\n",
      "Trial 17/20: Running 500 iterations: 100%|██████████| 500/500 [00:01<00:00, 384.72it/s]\n",
      "Trial 18/20: Running 500 iterations: 100%|██████████| 500/500 [00:01<00:00, 381.96it/s]\n",
      "Trial 19/20: Running 500 iterations: 100%|██████████| 500/500 [00:01<00:00, 382.25it/s]\n",
      "Trial 20/20: Running 500 iterations: 100%|██████████| 500/500 [00:01<00:00, 382.07it/s]\n",
      "Unsupported operator aten::max_pool2d encountered 3 time(s)\n",
      "Unsupported operator aten::add encountered 4 time(s)\n"
     ]
    },
    {
     "name": "stdout",
     "output_type": "stream",
     "text": [
      "Processing batch size: 64\n"
     ]
    },
    {
     "name": "stderr",
     "output_type": "stream",
     "text": [
      "Trial 1/20: Running 500 iterations: 100%|██████████| 500/500 [00:02<00:00, 217.88it/s]\n",
      "Trial 2/20: Running 500 iterations: 100%|██████████| 500/500 [00:02<00:00, 218.59it/s]\n",
      "Trial 3/20: Running 500 iterations: 100%|██████████| 500/500 [00:02<00:00, 217.51it/s]\n",
      "Trial 4/20: Running 500 iterations: 100%|██████████| 500/500 [00:02<00:00, 221.19it/s]\n",
      "Trial 5/20: Running 500 iterations: 100%|██████████| 500/500 [00:02<00:00, 224.58it/s]\n",
      "Trial 6/20: Running 500 iterations: 100%|██████████| 500/500 [00:02<00:00, 224.73it/s]\n",
      "Trial 7/20: Running 500 iterations: 100%|██████████| 500/500 [00:02<00:00, 225.56it/s]\n",
      "Trial 8/20: Running 500 iterations: 100%|██████████| 500/500 [00:02<00:00, 224.47it/s]\n",
      "Trial 9/20: Running 500 iterations: 100%|██████████| 500/500 [00:02<00:00, 223.24it/s]\n",
      "Trial 10/20: Running 500 iterations: 100%|██████████| 500/500 [00:02<00:00, 224.77it/s]\n",
      "Trial 11/20: Running 500 iterations: 100%|██████████| 500/500 [00:02<00:00, 225.26it/s]\n",
      "Trial 12/20: Running 500 iterations: 100%|██████████| 500/500 [00:02<00:00, 225.29it/s]\n",
      "Trial 13/20: Running 500 iterations: 100%|██████████| 500/500 [00:02<00:00, 225.29it/s]\n",
      "Trial 14/20: Running 500 iterations: 100%|██████████| 500/500 [00:02<00:00, 224.69it/s]\n",
      "Trial 15/20: Running 500 iterations: 100%|██████████| 500/500 [00:02<00:00, 224.42it/s]\n",
      "Trial 16/20: Running 500 iterations: 100%|██████████| 500/500 [00:02<00:00, 225.18it/s]\n",
      "Trial 17/20: Running 500 iterations: 100%|██████████| 500/500 [00:02<00:00, 225.29it/s]\n",
      "Trial 18/20: Running 500 iterations: 100%|██████████| 500/500 [00:02<00:00, 224.76it/s]\n",
      "Trial 19/20: Running 500 iterations: 100%|██████████| 500/500 [00:02<00:00, 224.85it/s]\n",
      "Trial 20/20: Running 500 iterations: 100%|██████████| 500/500 [00:02<00:00, 225.13it/s]\n",
      "Processing Models:  36%|███▋      | 24/66 [53:07<1:28:55, 127.02s/it]Unsupported operator aten::max_pool2d encountered 3 time(s)\n",
      "Unsupported operator aten::add encountered 4 time(s)\n"
     ]
    },
    {
     "name": "stdout",
     "output_type": "stream",
     "text": [
      "Processing model: d:\\PruneLimit\\PruneLimitAnalyzer\\models\\AlexNet_DATASET_random_PD5_GPR-60_PRUNED_SEED_23.pth\n",
      "Processing batch size: 1\n"
     ]
    },
    {
     "name": "stderr",
     "output_type": "stream",
     "text": [
      "Trial 1/20: Running 500 iterations: 100%|██████████| 500/500 [00:00<00:00, 845.45it/s]\n",
      "Trial 2/20: Running 500 iterations: 100%|██████████| 500/500 [00:00<00:00, 833.36it/s]\n",
      "Trial 3/20: Running 500 iterations: 100%|██████████| 500/500 [00:00<00:00, 961.65it/s]\n",
      "Trial 4/20: Running 500 iterations: 100%|██████████| 500/500 [00:00<00:00, 762.80it/s]\n",
      "Trial 5/20: Running 500 iterations: 100%|██████████| 500/500 [00:00<00:00, 1015.04it/s]\n",
      "Trial 6/20: Running 500 iterations: 100%|██████████| 500/500 [00:00<00:00, 1011.18it/s]\n",
      "Trial 7/20: Running 500 iterations: 100%|██████████| 500/500 [00:00<00:00, 1013.29it/s]\n",
      "Trial 8/20: Running 500 iterations: 100%|██████████| 500/500 [00:00<00:00, 886.15it/s]\n",
      "Trial 9/20: Running 500 iterations: 100%|██████████| 500/500 [00:00<00:00, 993.81it/s]\n",
      "Trial 10/20: Running 500 iterations: 100%|██████████| 500/500 [00:00<00:00, 1027.14it/s]\n",
      "Trial 11/20: Running 500 iterations: 100%|██████████| 500/500 [00:00<00:00, 998.91it/s]\n",
      "Trial 12/20: Running 500 iterations: 100%|██████████| 500/500 [00:00<00:00, 1008.05it/s]\n",
      "Trial 13/20: Running 500 iterations: 100%|██████████| 500/500 [00:00<00:00, 1013.66it/s]\n",
      "Trial 14/20: Running 500 iterations: 100%|██████████| 500/500 [00:00<00:00, 982.19it/s]\n",
      "Trial 15/20: Running 500 iterations: 100%|██████████| 500/500 [00:00<00:00, 978.40it/s]\n",
      "Trial 16/20: Running 500 iterations: 100%|██████████| 500/500 [00:00<00:00, 628.02it/s]\n",
      "Trial 17/20: Running 500 iterations: 100%|██████████| 500/500 [00:00<00:00, 687.66it/s]\n",
      "Trial 18/20: Running 500 iterations: 100%|██████████| 500/500 [00:00<00:00, 572.94it/s]\n",
      "Trial 19/20: Running 500 iterations: 100%|██████████| 500/500 [00:00<00:00, 726.22it/s]\n",
      "Trial 20/20: Running 500 iterations: 100%|██████████| 500/500 [00:00<00:00, 676.57it/s]\n",
      "Unsupported operator aten::max_pool2d encountered 3 time(s)\n",
      "Unsupported operator aten::add encountered 4 time(s)\n"
     ]
    },
    {
     "name": "stdout",
     "output_type": "stream",
     "text": [
      "Processing batch size: 8\n"
     ]
    },
    {
     "name": "stderr",
     "output_type": "stream",
     "text": [
      "Trial 1/20: Running 500 iterations: 100%|██████████| 500/500 [00:00<00:00, 696.43it/s]\n",
      "Trial 2/20: Running 500 iterations: 100%|██████████| 500/500 [00:00<00:00, 749.44it/s]\n",
      "Trial 3/20: Running 500 iterations: 100%|██████████| 500/500 [00:00<00:00, 957.77it/s]\n",
      "Trial 4/20: Running 500 iterations: 100%|██████████| 500/500 [00:00<00:00, 942.15it/s]\n",
      "Trial 5/20: Running 500 iterations: 100%|██████████| 500/500 [00:00<00:00, 971.65it/s]\n",
      "Trial 6/20: Running 500 iterations: 100%|██████████| 500/500 [00:00<00:00, 924.76it/s]\n",
      "Trial 7/20: Running 500 iterations: 100%|██████████| 500/500 [00:00<00:00, 981.57it/s]\n",
      "Trial 8/20: Running 500 iterations: 100%|██████████| 500/500 [00:00<00:00, 972.86it/s]\n",
      "Trial 9/20: Running 500 iterations: 100%|██████████| 500/500 [00:00<00:00, 943.61it/s]\n",
      "Trial 10/20: Running 500 iterations: 100%|██████████| 500/500 [00:00<00:00, 838.85it/s]\n",
      "Trial 11/20: Running 500 iterations: 100%|██████████| 500/500 [00:00<00:00, 912.20it/s]\n",
      "Trial 12/20: Running 500 iterations: 100%|██████████| 500/500 [00:00<00:00, 834.75it/s]\n",
      "Trial 13/20: Running 500 iterations: 100%|██████████| 500/500 [00:00<00:00, 959.68it/s]\n",
      "Trial 14/20: Running 500 iterations: 100%|██████████| 500/500 [00:00<00:00, 743.21it/s]\n",
      "Trial 15/20: Running 500 iterations: 100%|██████████| 500/500 [00:00<00:00, 832.74it/s]\n",
      "Trial 16/20: Running 500 iterations: 100%|██████████| 500/500 [00:00<00:00, 1005.68it/s]\n",
      "Trial 17/20: Running 500 iterations: 100%|██████████| 500/500 [00:00<00:00, 752.43it/s]\n",
      "Trial 18/20: Running 500 iterations: 100%|██████████| 500/500 [00:00<00:00, 993.83it/s]\n",
      "Trial 19/20: Running 500 iterations: 100%|██████████| 500/500 [00:00<00:00, 1003.85it/s]\n",
      "Trial 20/20: Running 500 iterations: 100%|██████████| 500/500 [00:00<00:00, 1001.85it/s]\n",
      "Unsupported operator aten::max_pool2d encountered 3 time(s)\n",
      "Unsupported operator aten::add encountered 4 time(s)\n"
     ]
    },
    {
     "name": "stdout",
     "output_type": "stream",
     "text": [
      "Processing batch size: 16\n"
     ]
    },
    {
     "name": "stderr",
     "output_type": "stream",
     "text": [
      "Trial 1/20: Running 500 iterations: 100%|██████████| 500/500 [00:00<00:00, 1038.29it/s]\n",
      "Trial 2/20: Running 500 iterations: 100%|██████████| 500/500 [00:00<00:00, 937.19it/s]\n",
      "Trial 3/20: Running 500 iterations: 100%|██████████| 500/500 [00:00<00:00, 942.06it/s]\n",
      "Trial 4/20: Running 500 iterations: 100%|██████████| 500/500 [00:00<00:00, 971.73it/s]\n",
      "Trial 5/20: Running 500 iterations: 100%|██████████| 500/500 [00:00<00:00, 970.49it/s] \n",
      "Trial 6/20: Running 500 iterations: 100%|██████████| 500/500 [00:00<00:00, 844.62it/s]\n",
      "Trial 7/20: Running 500 iterations: 100%|██████████| 500/500 [00:00<00:00, 881.84it/s]\n",
      "Trial 8/20: Running 500 iterations: 100%|██████████| 500/500 [00:00<00:00, 937.39it/s] \n",
      "Trial 9/20: Running 500 iterations: 100%|██████████| 500/500 [00:00<00:00, 992.15it/s]\n",
      "Trial 10/20: Running 500 iterations: 100%|██████████| 500/500 [00:00<00:00, 836.73it/s]\n",
      "Trial 11/20: Running 500 iterations: 100%|██████████| 500/500 [00:00<00:00, 901.04it/s]\n",
      "Trial 12/20: Running 500 iterations: 100%|██████████| 500/500 [00:00<00:00, 868.77it/s]\n",
      "Trial 13/20: Running 500 iterations: 100%|██████████| 500/500 [00:00<00:00, 881.24it/s]\n",
      "Trial 14/20: Running 500 iterations: 100%|██████████| 500/500 [00:00<00:00, 857.71it/s]\n",
      "Trial 15/20: Running 500 iterations: 100%|██████████| 500/500 [00:00<00:00, 921.35it/s]\n",
      "Trial 16/20: Running 500 iterations: 100%|██████████| 500/500 [00:00<00:00, 870.95it/s]\n",
      "Trial 17/20: Running 500 iterations: 100%|██████████| 500/500 [00:00<00:00, 917.36it/s]\n",
      "Trial 18/20: Running 500 iterations: 100%|██████████| 500/500 [00:00<00:00, 883.81it/s]\n",
      "Trial 19/20: Running 500 iterations: 100%|██████████| 500/500 [00:00<00:00, 974.06it/s] \n",
      "Trial 20/20: Running 500 iterations: 100%|██████████| 500/500 [00:00<00:00, 1058.41it/s]\n",
      "Unsupported operator aten::max_pool2d encountered 3 time(s)\n",
      "Unsupported operator aten::add encountered 4 time(s)\n"
     ]
    },
    {
     "name": "stdout",
     "output_type": "stream",
     "text": [
      "Processing batch size: 32\n"
     ]
    },
    {
     "name": "stderr",
     "output_type": "stream",
     "text": [
      "Trial 1/20: Running 500 iterations: 100%|██████████| 500/500 [00:00<00:00, 696.22it/s]\n",
      "Trial 2/20: Running 500 iterations: 100%|██████████| 500/500 [00:00<00:00, 696.21it/s]\n",
      "Trial 3/20: Running 500 iterations: 100%|██████████| 500/500 [00:00<00:00, 685.41it/s]\n",
      "Trial 4/20: Running 500 iterations: 100%|██████████| 500/500 [00:00<00:00, 693.14it/s]\n",
      "Trial 5/20: Running 500 iterations: 100%|██████████| 500/500 [00:00<00:00, 689.74it/s]\n",
      "Trial 6/20: Running 500 iterations: 100%|██████████| 500/500 [00:00<00:00, 678.34it/s]\n",
      "Trial 7/20: Running 500 iterations: 100%|██████████| 500/500 [00:00<00:00, 696.05it/s]\n",
      "Trial 8/20: Running 500 iterations: 100%|██████████| 500/500 [00:00<00:00, 687.06it/s]\n",
      "Trial 9/20: Running 500 iterations: 100%|██████████| 500/500 [00:00<00:00, 697.08it/s]\n",
      "Trial 10/20: Running 500 iterations: 100%|██████████| 500/500 [00:00<00:00, 692.66it/s]\n",
      "Trial 11/20: Running 500 iterations: 100%|██████████| 500/500 [00:00<00:00, 687.14it/s]\n",
      "Trial 12/20: Running 500 iterations: 100%|██████████| 500/500 [00:00<00:00, 708.89it/s]\n",
      "Trial 13/20: Running 500 iterations: 100%|██████████| 500/500 [00:00<00:00, 710.60it/s]\n",
      "Trial 14/20: Running 500 iterations: 100%|██████████| 500/500 [00:00<00:00, 707.29it/s]\n",
      "Trial 15/20: Running 500 iterations: 100%|██████████| 500/500 [00:00<00:00, 699.77it/s]\n",
      "Trial 16/20: Running 500 iterations: 100%|██████████| 500/500 [00:00<00:00, 694.26it/s]\n",
      "Trial 17/20: Running 500 iterations: 100%|██████████| 500/500 [00:00<00:00, 676.25it/s]\n",
      "Trial 18/20: Running 500 iterations: 100%|██████████| 500/500 [00:00<00:00, 670.82it/s]\n",
      "Trial 19/20: Running 500 iterations: 100%|██████████| 500/500 [00:00<00:00, 656.45it/s]\n",
      "Trial 20/20: Running 500 iterations: 100%|██████████| 500/500 [00:00<00:00, 706.47it/s]\n",
      "Unsupported operator aten::max_pool2d encountered 3 time(s)\n",
      "Unsupported operator aten::add encountered 4 time(s)\n"
     ]
    },
    {
     "name": "stdout",
     "output_type": "stream",
     "text": [
      "Processing batch size: 64\n"
     ]
    },
    {
     "name": "stderr",
     "output_type": "stream",
     "text": [
      "Trial 1/20: Running 500 iterations: 100%|██████████| 500/500 [00:01<00:00, 433.57it/s]\n",
      "Trial 2/20: Running 500 iterations: 100%|██████████| 500/500 [00:01<00:00, 435.18it/s]\n",
      "Trial 3/20: Running 500 iterations: 100%|██████████| 500/500 [00:01<00:00, 434.70it/s]\n",
      "Trial 4/20: Running 500 iterations: 100%|██████████| 500/500 [00:01<00:00, 432.52it/s]\n",
      "Trial 5/20: Running 500 iterations: 100%|██████████| 500/500 [00:01<00:00, 433.70it/s]\n",
      "Trial 6/20: Running 500 iterations: 100%|██████████| 500/500 [00:01<00:00, 428.46it/s]\n",
      "Trial 7/20: Running 500 iterations: 100%|██████████| 500/500 [00:01<00:00, 435.38it/s]\n",
      "Trial 8/20: Running 500 iterations: 100%|██████████| 500/500 [00:01<00:00, 444.69it/s]\n",
      "Trial 9/20: Running 500 iterations: 100%|██████████| 500/500 [00:01<00:00, 448.38it/s]\n",
      "Trial 10/20: Running 500 iterations: 100%|██████████| 500/500 [00:01<00:00, 443.63it/s]\n",
      "Trial 11/20: Running 500 iterations: 100%|██████████| 500/500 [00:01<00:00, 443.85it/s]\n",
      "Trial 12/20: Running 500 iterations: 100%|██████████| 500/500 [00:01<00:00, 439.84it/s]\n",
      "Trial 13/20: Running 500 iterations: 100%|██████████| 500/500 [00:01<00:00, 440.74it/s]\n",
      "Trial 14/20: Running 500 iterations: 100%|██████████| 500/500 [00:01<00:00, 444.75it/s]\n",
      "Trial 15/20: Running 500 iterations: 100%|██████████| 500/500 [00:01<00:00, 438.83it/s]\n",
      "Trial 16/20: Running 500 iterations: 100%|██████████| 500/500 [00:01<00:00, 442.27it/s]\n",
      "Trial 17/20: Running 500 iterations: 100%|██████████| 500/500 [00:01<00:00, 443.22it/s]\n",
      "Trial 18/20: Running 500 iterations: 100%|██████████| 500/500 [00:01<00:00, 441.16it/s]\n",
      "Trial 19/20: Running 500 iterations: 100%|██████████| 500/500 [00:01<00:00, 440.35it/s]\n",
      "Trial 20/20: Running 500 iterations: 100%|██████████| 500/500 [00:01<00:00, 443.19it/s]\n",
      "Processing Models:  38%|███▊      | 25/66 [54:34<1:18:38, 115.08s/it]"
     ]
    },
    {
     "name": "stdout",
     "output_type": "stream",
     "text": [
      "Processing model: d:\\PruneLimit\\PruneLimitAnalyzer\\models\\AlexNet_DATASET_random_PD2_GPR-25_PRUNED_SEED_23.pth\n",
      "Processing batch size: 1\n"
     ]
    },
    {
     "name": "stderr",
     "output_type": "stream",
     "text": [
      "Unsupported operator aten::max_pool2d encountered 3 time(s)\n",
      "Unsupported operator aten::add encountered 4 time(s)\n",
      "Trial 1/20: Running 500 iterations: 100%|██████████| 500/500 [00:00<00:00, 783.90it/s]\n",
      "Trial 2/20: Running 500 iterations: 100%|██████████| 500/500 [00:00<00:00, 807.68it/s]\n",
      "Trial 3/20: Running 500 iterations: 100%|██████████| 500/500 [00:00<00:00, 618.30it/s]\n",
      "Trial 4/20: Running 500 iterations: 100%|██████████| 500/500 [00:00<00:00, 558.10it/s]\n",
      "Trial 5/20: Running 500 iterations: 100%|██████████| 500/500 [00:00<00:00, 661.82it/s]\n",
      "Trial 6/20: Running 500 iterations: 100%|██████████| 500/500 [00:00<00:00, 763.93it/s]\n",
      "Trial 7/20: Running 500 iterations: 100%|██████████| 500/500 [00:00<00:00, 750.95it/s]\n",
      "Trial 8/20: Running 500 iterations: 100%|██████████| 500/500 [00:00<00:00, 827.77it/s]\n",
      "Trial 9/20: Running 500 iterations: 100%|██████████| 500/500 [00:00<00:00, 797.82it/s]\n",
      "Trial 10/20: Running 500 iterations: 100%|██████████| 500/500 [00:00<00:00, 777.98it/s]\n",
      "Trial 11/20: Running 500 iterations: 100%|██████████| 500/500 [00:00<00:00, 840.44it/s]\n",
      "Trial 12/20: Running 500 iterations: 100%|██████████| 500/500 [00:00<00:00, 937.31it/s]\n",
      "Trial 13/20: Running 500 iterations: 100%|██████████| 500/500 [00:00<00:00, 958.70it/s]\n",
      "Trial 14/20: Running 500 iterations: 100%|██████████| 500/500 [00:00<00:00, 972.10it/s]\n",
      "Trial 15/20: Running 500 iterations: 100%|██████████| 500/500 [00:00<00:00, 736.67it/s]\n",
      "Trial 16/20: Running 500 iterations: 100%|██████████| 500/500 [00:00<00:00, 916.13it/s]\n",
      "Trial 17/20: Running 500 iterations: 100%|██████████| 500/500 [00:00<00:00, 699.23it/s]\n",
      "Trial 18/20: Running 500 iterations: 100%|██████████| 500/500 [00:00<00:00, 752.45it/s]\n",
      "Trial 19/20: Running 500 iterations: 100%|██████████| 500/500 [00:00<00:00, 909.28it/s]\n",
      "Trial 20/20: Running 500 iterations: 100%|██████████| 500/500 [00:00<00:00, 948.37it/s]\n",
      "Unsupported operator aten::max_pool2d encountered 3 time(s)\n",
      "Unsupported operator aten::add encountered 4 time(s)\n"
     ]
    },
    {
     "name": "stdout",
     "output_type": "stream",
     "text": [
      "Processing batch size: 8\n"
     ]
    },
    {
     "name": "stderr",
     "output_type": "stream",
     "text": [
      "Trial 1/20: Running 500 iterations: 100%|██████████| 500/500 [00:00<00:00, 979.71it/s]\n",
      "Trial 2/20: Running 500 iterations: 100%|██████████| 500/500 [00:00<00:00, 984.41it/s]\n",
      "Trial 3/20: Running 500 iterations: 100%|██████████| 500/500 [00:00<00:00, 987.90it/s]\n",
      "Trial 4/20: Running 500 iterations: 100%|██████████| 500/500 [00:00<00:00, 975.42it/s]\n",
      "Trial 5/20: Running 500 iterations: 100%|██████████| 500/500 [00:00<00:00, 981.54it/s]\n",
      "Trial 6/20: Running 500 iterations: 100%|██████████| 500/500 [00:00<00:00, 825.69it/s]\n",
      "Trial 7/20: Running 500 iterations: 100%|██████████| 500/500 [00:00<00:00, 978.04it/s]\n",
      "Trial 8/20: Running 500 iterations: 100%|██████████| 500/500 [00:00<00:00, 995.47it/s]\n",
      "Trial 9/20: Running 500 iterations: 100%|██████████| 500/500 [00:00<00:00, 992.10it/s]\n",
      "Trial 10/20: Running 500 iterations: 100%|██████████| 500/500 [00:00<00:00, 932.71it/s]\n",
      "Trial 11/20: Running 500 iterations: 100%|██████████| 500/500 [00:00<00:00, 941.03it/s]\n",
      "Trial 12/20: Running 500 iterations: 100%|██████████| 500/500 [00:00<00:00, 868.79it/s]\n",
      "Trial 13/20: Running 500 iterations: 100%|██████████| 500/500 [00:00<00:00, 901.72it/s]\n",
      "Trial 14/20: Running 500 iterations: 100%|██████████| 500/500 [00:00<00:00, 902.17it/s]\n",
      "Trial 15/20: Running 500 iterations: 100%|██████████| 500/500 [00:00<00:00, 915.36it/s]\n",
      "Trial 16/20: Running 500 iterations: 100%|██████████| 500/500 [00:00<00:00, 937.67it/s]\n",
      "Trial 17/20: Running 500 iterations: 100%|██████████| 500/500 [00:00<00:00, 836.06it/s]\n",
      "Trial 18/20: Running 500 iterations: 100%|██████████| 500/500 [00:00<00:00, 859.94it/s]\n",
      "Trial 19/20: Running 500 iterations: 100%|██████████| 500/500 [00:00<00:00, 868.22it/s]\n",
      "Trial 20/20: Running 500 iterations: 100%|██████████| 500/500 [00:00<00:00, 1007.85it/s]\n",
      "Unsupported operator aten::max_pool2d encountered 3 time(s)\n",
      "Unsupported operator aten::add encountered 4 time(s)\n"
     ]
    },
    {
     "name": "stdout",
     "output_type": "stream",
     "text": [
      "Processing batch size: 16\n"
     ]
    },
    {
     "name": "stderr",
     "output_type": "stream",
     "text": [
      "Trial 1/20: Running 500 iterations: 100%|██████████| 500/500 [00:00<00:00, 638.27it/s]\n",
      "Trial 2/20: Running 500 iterations: 100%|██████████| 500/500 [00:00<00:00, 643.62it/s]\n",
      "Trial 3/20: Running 500 iterations: 100%|██████████| 500/500 [00:00<00:00, 639.75it/s]\n",
      "Trial 4/20: Running 500 iterations: 100%|██████████| 500/500 [00:00<00:00, 641.82it/s]\n",
      "Trial 5/20: Running 500 iterations: 100%|██████████| 500/500 [00:00<00:00, 637.71it/s]\n",
      "Trial 6/20: Running 500 iterations: 100%|██████████| 500/500 [00:00<00:00, 638.18it/s]\n",
      "Trial 7/20: Running 500 iterations: 100%|██████████| 500/500 [00:00<00:00, 632.60it/s]\n",
      "Trial 8/20: Running 500 iterations: 100%|██████████| 500/500 [00:00<00:00, 637.92it/s]\n",
      "Trial 9/20: Running 500 iterations: 100%|██████████| 500/500 [00:00<00:00, 646.95it/s]\n",
      "Trial 10/20: Running 500 iterations: 100%|██████████| 500/500 [00:00<00:00, 637.99it/s]\n",
      "Trial 11/20: Running 500 iterations: 100%|██████████| 500/500 [00:00<00:00, 647.63it/s]\n",
      "Trial 12/20: Running 500 iterations: 100%|██████████| 500/500 [00:00<00:00, 658.04it/s]\n",
      "Trial 13/20: Running 500 iterations: 100%|██████████| 500/500 [00:00<00:00, 655.60it/s]\n",
      "Trial 14/20: Running 500 iterations: 100%|██████████| 500/500 [00:00<00:00, 648.76it/s]\n",
      "Trial 15/20: Running 500 iterations: 100%|██████████| 500/500 [00:00<00:00, 646.07it/s]\n",
      "Trial 16/20: Running 500 iterations: 100%|██████████| 500/500 [00:00<00:00, 653.05it/s]\n",
      "Trial 17/20: Running 500 iterations: 100%|██████████| 500/500 [00:00<00:00, 653.54it/s]\n",
      "Trial 18/20: Running 500 iterations: 100%|██████████| 500/500 [00:00<00:00, 649.40it/s]\n",
      "Trial 19/20: Running 500 iterations: 100%|██████████| 500/500 [00:00<00:00, 665.67it/s]\n",
      "Trial 20/20: Running 500 iterations: 100%|██████████| 500/500 [00:00<00:00, 659.97it/s]\n",
      "Unsupported operator aten::max_pool2d encountered 3 time(s)\n",
      "Unsupported operator aten::add encountered 4 time(s)\n"
     ]
    },
    {
     "name": "stdout",
     "output_type": "stream",
     "text": [
      "Processing batch size: 32\n"
     ]
    },
    {
     "name": "stderr",
     "output_type": "stream",
     "text": [
      "Trial 1/20: Running 500 iterations: 100%|██████████| 500/500 [00:01<00:00, 342.94it/s]\n",
      "Trial 2/20: Running 500 iterations: 100%|██████████| 500/500 [00:01<00:00, 345.02it/s]\n",
      "Trial 3/20: Running 500 iterations: 100%|██████████| 500/500 [00:01<00:00, 348.62it/s]\n",
      "Trial 4/20: Running 500 iterations: 100%|██████████| 500/500 [00:01<00:00, 345.16it/s]\n",
      "Trial 5/20: Running 500 iterations: 100%|██████████| 500/500 [00:01<00:00, 345.10it/s]\n",
      "Trial 6/20: Running 500 iterations: 100%|██████████| 500/500 [00:01<00:00, 349.60it/s]\n",
      "Trial 7/20: Running 500 iterations: 100%|██████████| 500/500 [00:01<00:00, 355.41it/s]\n",
      "Trial 8/20: Running 500 iterations: 100%|██████████| 500/500 [00:01<00:00, 354.09it/s]\n",
      "Trial 9/20: Running 500 iterations: 100%|██████████| 500/500 [00:01<00:00, 354.94it/s]\n",
      "Trial 10/20: Running 500 iterations: 100%|██████████| 500/500 [00:01<00:00, 353.73it/s]\n",
      "Trial 11/20: Running 500 iterations: 100%|██████████| 500/500 [00:01<00:00, 354.26it/s]\n",
      "Trial 12/20: Running 500 iterations: 100%|██████████| 500/500 [00:01<00:00, 353.10it/s]\n",
      "Trial 13/20: Running 500 iterations: 100%|██████████| 500/500 [00:01<00:00, 355.83it/s]\n",
      "Trial 14/20: Running 500 iterations: 100%|██████████| 500/500 [00:01<00:00, 354.88it/s]\n",
      "Trial 15/20: Running 500 iterations: 100%|██████████| 500/500 [00:01<00:00, 355.94it/s]\n",
      "Trial 16/20: Running 500 iterations: 100%|██████████| 500/500 [00:01<00:00, 353.96it/s]\n",
      "Trial 17/20: Running 500 iterations: 100%|██████████| 500/500 [00:01<00:00, 354.80it/s]\n",
      "Trial 18/20: Running 500 iterations: 100%|██████████| 500/500 [00:01<00:00, 354.06it/s]\n",
      "Trial 19/20: Running 500 iterations: 100%|██████████| 500/500 [00:01<00:00, 353.34it/s]\n",
      "Trial 20/20: Running 500 iterations: 100%|██████████| 500/500 [00:01<00:00, 352.82it/s]\n",
      "Unsupported operator aten::max_pool2d encountered 3 time(s)\n",
      "Unsupported operator aten::add encountered 4 time(s)\n"
     ]
    },
    {
     "name": "stdout",
     "output_type": "stream",
     "text": [
      "Processing batch size: 64\n"
     ]
    },
    {
     "name": "stderr",
     "output_type": "stream",
     "text": [
      "Trial 1/20: Running 500 iterations: 100%|██████████| 500/500 [00:02<00:00, 210.62it/s]\n",
      "Trial 2/20: Running 500 iterations: 100%|██████████| 500/500 [00:02<00:00, 210.16it/s]\n",
      "Trial 3/20: Running 500 iterations: 100%|██████████| 500/500 [00:02<00:00, 211.37it/s]\n",
      "Trial 4/20: Running 500 iterations: 100%|██████████| 500/500 [00:02<00:00, 215.46it/s]\n",
      "Trial 5/20: Running 500 iterations: 100%|██████████| 500/500 [00:02<00:00, 217.65it/s]\n",
      "Trial 6/20: Running 500 iterations: 100%|██████████| 500/500 [00:02<00:00, 217.16it/s]\n",
      "Trial 7/20: Running 500 iterations: 100%|██████████| 500/500 [00:02<00:00, 216.72it/s]\n",
      "Trial 8/20: Running 500 iterations: 100%|██████████| 500/500 [00:02<00:00, 216.85it/s]\n",
      "Trial 9/20: Running 500 iterations: 100%|██████████| 500/500 [00:02<00:00, 216.78it/s]\n",
      "Trial 10/20: Running 500 iterations: 100%|██████████| 500/500 [00:02<00:00, 216.49it/s]\n",
      "Trial 11/20: Running 500 iterations: 100%|██████████| 500/500 [00:02<00:00, 215.58it/s]\n",
      "Trial 12/20: Running 500 iterations: 100%|██████████| 500/500 [00:02<00:00, 216.29it/s]\n",
      "Trial 13/20: Running 500 iterations: 100%|██████████| 500/500 [00:02<00:00, 216.42it/s]\n",
      "Trial 14/20: Running 500 iterations: 100%|██████████| 500/500 [00:02<00:00, 216.90it/s]\n",
      "Trial 15/20: Running 500 iterations: 100%|██████████| 500/500 [00:02<00:00, 217.01it/s]\n",
      "Trial 16/20: Running 500 iterations: 100%|██████████| 500/500 [00:02<00:00, 216.91it/s]\n",
      "Trial 17/20: Running 500 iterations: 100%|██████████| 500/500 [00:02<00:00, 216.90it/s]\n",
      "Trial 18/20: Running 500 iterations: 100%|██████████| 500/500 [00:02<00:00, 216.52it/s]\n",
      "Trial 19/20: Running 500 iterations: 100%|██████████| 500/500 [00:02<00:00, 216.28it/s]\n",
      "Trial 20/20: Running 500 iterations: 100%|██████████| 500/500 [00:02<00:00, 216.69it/s]\n",
      "Processing Models:  39%|███▉      | 26/66 [56:57<1:22:12, 123.31s/it]"
     ]
    },
    {
     "name": "stdout",
     "output_type": "stream",
     "text": [
      "Processing model: d:\\PruneLimit\\PruneLimitAnalyzer\\models\\AlexNet_DATASET_random_PD2_GPR-20_PRUNED_SEED_23.pth\n"
     ]
    },
    {
     "name": "stderr",
     "output_type": "stream",
     "text": [
      "Unsupported operator aten::max_pool2d encountered 3 time(s)\n",
      "Unsupported operator aten::add encountered 4 time(s)\n"
     ]
    },
    {
     "name": "stdout",
     "output_type": "stream",
     "text": [
      "Processing batch size: 1\n"
     ]
    },
    {
     "name": "stderr",
     "output_type": "stream",
     "text": [
      "Trial 1/20: Running 500 iterations: 100%|██████████| 500/500 [00:00<00:00, 991.97it/s] \n",
      "Trial 2/20: Running 500 iterations: 100%|██████████| 500/500 [00:00<00:00, 949.71it/s] \n",
      "Trial 3/20: Running 500 iterations: 100%|██████████| 500/500 [00:00<00:00, 887.35it/s]\n",
      "Trial 4/20: Running 500 iterations: 100%|██████████| 500/500 [00:00<00:00, 906.51it/s]\n",
      "Trial 5/20: Running 500 iterations: 100%|██████████| 500/500 [00:00<00:00, 929.83it/s]\n",
      "Trial 6/20: Running 500 iterations: 100%|██████████| 500/500 [00:00<00:00, 1007.10it/s]\n",
      "Trial 7/20: Running 500 iterations: 100%|██████████| 500/500 [00:00<00:00, 1025.22it/s]\n",
      "Trial 8/20: Running 500 iterations: 100%|██████████| 500/500 [00:00<00:00, 913.78it/s]\n",
      "Trial 9/20: Running 500 iterations: 100%|██████████| 500/500 [00:00<00:00, 925.44it/s]\n",
      "Trial 10/20: Running 500 iterations: 100%|██████████| 500/500 [00:00<00:00, 923.14it/s]\n",
      "Trial 11/20: Running 500 iterations: 100%|██████████| 500/500 [00:00<00:00, 967.00it/s]\n",
      "Trial 12/20: Running 500 iterations: 100%|██████████| 500/500 [00:00<00:00, 945.34it/s]\n",
      "Trial 13/20: Running 500 iterations: 100%|██████████| 500/500 [00:00<00:00, 856.65it/s]\n",
      "Trial 14/20: Running 500 iterations: 100%|██████████| 500/500 [00:00<00:00, 919.96it/s]\n",
      "Trial 15/20: Running 500 iterations: 100%|██████████| 500/500 [00:00<00:00, 1060.57it/s]\n",
      "Trial 16/20: Running 500 iterations: 100%|██████████| 500/500 [00:00<00:00, 1079.68it/s]\n",
      "Trial 17/20: Running 500 iterations: 100%|██████████| 500/500 [00:00<00:00, 1103.07it/s]\n",
      "Trial 18/20: Running 500 iterations: 100%|██████████| 500/500 [00:00<00:00, 1109.41it/s]\n",
      "Trial 19/20: Running 500 iterations: 100%|██████████| 500/500 [00:00<00:00, 1114.73it/s]\n",
      "Trial 20/20: Running 500 iterations: 100%|██████████| 500/500 [00:00<00:00, 1097.10it/s]\n",
      "Unsupported operator aten::max_pool2d encountered 3 time(s)\n",
      "Unsupported operator aten::add encountered 4 time(s)\n"
     ]
    },
    {
     "name": "stdout",
     "output_type": "stream",
     "text": [
      "Processing batch size: 8\n"
     ]
    },
    {
     "name": "stderr",
     "output_type": "stream",
     "text": [
      "Trial 1/20: Running 500 iterations: 100%|██████████| 500/500 [00:00<00:00, 858.74it/s]\n",
      "Trial 2/20: Running 500 iterations: 100%|██████████| 500/500 [00:00<00:00, 833.42it/s]\n",
      "Trial 3/20: Running 500 iterations: 100%|██████████| 500/500 [00:00<00:00, 862.75it/s]\n",
      "Trial 4/20: Running 500 iterations: 100%|██████████| 500/500 [00:00<00:00, 869.02it/s]\n",
      "Trial 5/20: Running 500 iterations: 100%|██████████| 500/500 [00:00<00:00, 855.30it/s]\n",
      "Trial 6/20: Running 500 iterations: 100%|██████████| 500/500 [00:00<00:00, 852.95it/s]\n",
      "Trial 7/20: Running 500 iterations: 100%|██████████| 500/500 [00:00<00:00, 859.43it/s]\n",
      "Trial 8/20: Running 500 iterations: 100%|██████████| 500/500 [00:00<00:00, 853.52it/s]\n",
      "Trial 9/20: Running 500 iterations: 100%|██████████| 500/500 [00:00<00:00, 839.12it/s]\n",
      "Trial 10/20: Running 500 iterations: 100%|██████████| 500/500 [00:00<00:00, 853.55it/s]\n",
      "Trial 11/20: Running 500 iterations: 100%|██████████| 500/500 [00:00<00:00, 849.23it/s]\n",
      "Trial 12/20: Running 500 iterations: 100%|██████████| 500/500 [00:00<00:00, 856.81it/s]\n",
      "Trial 13/20: Running 500 iterations: 100%|██████████| 500/500 [00:00<00:00, 843.50it/s]\n",
      "Trial 14/20: Running 500 iterations: 100%|██████████| 500/500 [00:00<00:00, 855.68it/s]\n",
      "Trial 15/20: Running 500 iterations: 100%|██████████| 500/500 [00:00<00:00, 860.84it/s]\n",
      "Trial 16/20: Running 500 iterations: 100%|██████████| 500/500 [00:00<00:00, 871.21it/s]\n",
      "Trial 17/20: Running 500 iterations: 100%|██████████| 500/500 [00:00<00:00, 880.91it/s]\n",
      "Trial 18/20: Running 500 iterations: 100%|██████████| 500/500 [00:00<00:00, 867.05it/s]\n",
      "Trial 19/20: Running 500 iterations: 100%|██████████| 500/500 [00:00<00:00, 866.93it/s]\n",
      "Trial 20/20: Running 500 iterations: 100%|██████████| 500/500 [00:00<00:00, 887.42it/s]\n",
      "Unsupported operator aten::max_pool2d encountered 3 time(s)\n",
      "Unsupported operator aten::add encountered 4 time(s)\n"
     ]
    },
    {
     "name": "stdout",
     "output_type": "stream",
     "text": [
      "Processing batch size: 16\n"
     ]
    },
    {
     "name": "stderr",
     "output_type": "stream",
     "text": [
      "Trial 1/20: Running 500 iterations: 100%|██████████| 500/500 [00:00<00:00, 641.82it/s]\n",
      "Trial 2/20: Running 500 iterations: 100%|██████████| 500/500 [00:00<00:00, 634.57it/s]\n",
      "Trial 3/20: Running 500 iterations: 100%|██████████| 500/500 [00:00<00:00, 634.78it/s]\n",
      "Trial 4/20: Running 500 iterations: 100%|██████████| 500/500 [00:00<00:00, 629.62it/s]\n",
      "Trial 5/20: Running 500 iterations: 100%|██████████| 500/500 [00:00<00:00, 637.65it/s]\n",
      "Trial 6/20: Running 500 iterations: 100%|██████████| 500/500 [00:00<00:00, 626.08it/s]\n",
      "Trial 7/20: Running 500 iterations: 100%|██████████| 500/500 [00:00<00:00, 627.64it/s]\n",
      "Trial 8/20: Running 500 iterations: 100%|██████████| 500/500 [00:00<00:00, 640.92it/s]\n",
      "Trial 9/20: Running 500 iterations: 100%|██████████| 500/500 [00:00<00:00, 611.41it/s]\n",
      "Trial 10/20: Running 500 iterations: 100%|██████████| 500/500 [00:00<00:00, 634.78it/s]\n",
      "Trial 11/20: Running 500 iterations: 100%|██████████| 500/500 [00:00<00:00, 642.18it/s]\n",
      "Trial 12/20: Running 500 iterations: 100%|██████████| 500/500 [00:00<00:00, 651.79it/s]\n",
      "Trial 13/20: Running 500 iterations: 100%|██████████| 500/500 [00:00<00:00, 649.97it/s]\n",
      "Trial 14/20: Running 500 iterations: 100%|██████████| 500/500 [00:00<00:00, 654.49it/s]\n",
      "Trial 15/20: Running 500 iterations: 100%|██████████| 500/500 [00:00<00:00, 649.70it/s]\n",
      "Trial 16/20: Running 500 iterations: 100%|██████████| 500/500 [00:00<00:00, 649.65it/s]\n",
      "Trial 17/20: Running 500 iterations: 100%|██████████| 500/500 [00:00<00:00, 649.43it/s]\n",
      "Trial 18/20: Running 500 iterations: 100%|██████████| 500/500 [00:00<00:00, 649.64it/s]\n",
      "Trial 19/20: Running 500 iterations: 100%|██████████| 500/500 [00:00<00:00, 642.66it/s]\n",
      "Trial 20/20: Running 500 iterations: 100%|██████████| 500/500 [00:00<00:00, 650.43it/s]\n",
      "Unsupported operator aten::max_pool2d encountered 3 time(s)\n",
      "Unsupported operator aten::add encountered 4 time(s)\n"
     ]
    },
    {
     "name": "stdout",
     "output_type": "stream",
     "text": [
      "Processing batch size: 32\n"
     ]
    },
    {
     "name": "stderr",
     "output_type": "stream",
     "text": [
      "Trial 1/20: Running 500 iterations: 100%|██████████| 500/500 [00:01<00:00, 343.71it/s]\n",
      "Trial 2/20: Running 500 iterations: 100%|██████████| 500/500 [00:01<00:00, 342.38it/s]\n",
      "Trial 3/20: Running 500 iterations: 100%|██████████| 500/500 [00:01<00:00, 345.45it/s]\n",
      "Trial 4/20: Running 500 iterations: 100%|██████████| 500/500 [00:01<00:00, 343.69it/s]\n",
      "Trial 5/20: Running 500 iterations: 100%|██████████| 500/500 [00:01<00:00, 345.13it/s]\n",
      "Trial 6/20: Running 500 iterations: 100%|██████████| 500/500 [00:01<00:00, 348.12it/s]\n",
      "Trial 7/20: Running 500 iterations: 100%|██████████| 500/500 [00:01<00:00, 351.86it/s]\n",
      "Trial 8/20: Running 500 iterations: 100%|██████████| 500/500 [00:01<00:00, 351.42it/s]\n",
      "Trial 9/20: Running 500 iterations: 100%|██████████| 500/500 [00:01<00:00, 352.10it/s]\n",
      "Trial 10/20: Running 500 iterations: 100%|██████████| 500/500 [00:01<00:00, 353.53it/s]\n",
      "Trial 11/20: Running 500 iterations: 100%|██████████| 500/500 [00:01<00:00, 350.86it/s]\n",
      "Trial 12/20: Running 500 iterations: 100%|██████████| 500/500 [00:01<00:00, 352.08it/s]\n",
      "Trial 13/20: Running 500 iterations: 100%|██████████| 500/500 [00:01<00:00, 351.97it/s]\n",
      "Trial 14/20: Running 500 iterations: 100%|██████████| 500/500 [00:01<00:00, 348.68it/s]\n",
      "Trial 15/20: Running 500 iterations: 100%|██████████| 500/500 [00:01<00:00, 349.31it/s]\n",
      "Trial 16/20: Running 500 iterations: 100%|██████████| 500/500 [00:01<00:00, 351.15it/s]\n",
      "Trial 17/20: Running 500 iterations: 100%|██████████| 500/500 [00:01<00:00, 352.01it/s]\n",
      "Trial 18/20: Running 500 iterations: 100%|██████████| 500/500 [00:01<00:00, 352.27it/s]\n",
      "Trial 19/20: Running 500 iterations: 100%|██████████| 500/500 [00:01<00:00, 352.62it/s]\n",
      "Trial 20/20: Running 500 iterations: 100%|██████████| 500/500 [00:01<00:00, 351.41it/s]\n",
      "Unsupported operator aten::max_pool2d encountered 3 time(s)\n",
      "Unsupported operator aten::add encountered 4 time(s)\n"
     ]
    },
    {
     "name": "stdout",
     "output_type": "stream",
     "text": [
      "Processing batch size: 64\n"
     ]
    },
    {
     "name": "stderr",
     "output_type": "stream",
     "text": [
      "Trial 1/20: Running 500 iterations: 100%|██████████| 500/500 [00:02<00:00, 200.71it/s]\n",
      "Trial 2/20: Running 500 iterations: 100%|██████████| 500/500 [00:02<00:00, 200.59it/s]\n",
      "Trial 3/20: Running 500 iterations: 100%|██████████| 500/500 [00:02<00:00, 200.59it/s]\n",
      "Trial 4/20: Running 500 iterations: 100%|██████████| 500/500 [00:02<00:00, 206.14it/s]\n",
      "Trial 5/20: Running 500 iterations: 100%|██████████| 500/500 [00:02<00:00, 205.64it/s]\n",
      "Trial 6/20: Running 500 iterations: 100%|██████████| 500/500 [00:02<00:00, 206.79it/s]\n",
      "Trial 7/20: Running 500 iterations: 100%|██████████| 500/500 [00:02<00:00, 206.67it/s]\n",
      "Trial 8/20: Running 500 iterations: 100%|██████████| 500/500 [00:02<00:00, 205.88it/s]\n",
      "Trial 9/20: Running 500 iterations: 100%|██████████| 500/500 [00:02<00:00, 206.78it/s]\n",
      "Trial 10/20: Running 500 iterations: 100%|██████████| 500/500 [00:02<00:00, 206.74it/s]\n",
      "Trial 11/20: Running 500 iterations: 100%|██████████| 500/500 [00:02<00:00, 206.22it/s]\n",
      "Trial 12/20: Running 500 iterations: 100%|██████████| 500/500 [00:02<00:00, 207.10it/s]\n",
      "Trial 13/20: Running 500 iterations: 100%|██████████| 500/500 [00:02<00:00, 206.58it/s]\n",
      "Trial 14/20: Running 500 iterations: 100%|██████████| 500/500 [00:02<00:00, 205.78it/s]\n",
      "Trial 15/20: Running 500 iterations: 100%|██████████| 500/500 [00:02<00:00, 206.77it/s]\n",
      "Trial 16/20: Running 500 iterations: 100%|██████████| 500/500 [00:02<00:00, 205.93it/s]\n",
      "Trial 17/20: Running 500 iterations: 100%|██████████| 500/500 [00:02<00:00, 206.20it/s]\n",
      "Trial 18/20: Running 500 iterations: 100%|██████████| 500/500 [00:02<00:00, 206.51it/s]\n",
      "Trial 19/20: Running 500 iterations: 100%|██████████| 500/500 [00:02<00:00, 206.64it/s]\n",
      "Trial 20/20: Running 500 iterations: 100%|██████████| 500/500 [00:02<00:00, 205.90it/s]\n",
      "Processing Models:  41%|████      | 27/66 [59:21<1:24:15, 129.64s/it]"
     ]
    },
    {
     "name": "stdout",
     "output_type": "stream",
     "text": [
      "Processing model: d:\\PruneLimit\\PruneLimitAnalyzer\\models\\AlexNet_DATASET_random_PD3_GPR-25_PRUNED_SEED_23.pth\n"
     ]
    },
    {
     "name": "stderr",
     "output_type": "stream",
     "text": [
      "Unsupported operator aten::max_pool2d encountered 3 time(s)\n",
      "Unsupported operator aten::add encountered 4 time(s)\n"
     ]
    },
    {
     "name": "stdout",
     "output_type": "stream",
     "text": [
      "Processing batch size: 1\n"
     ]
    },
    {
     "name": "stderr",
     "output_type": "stream",
     "text": [
      "Trial 1/20: Running 500 iterations: 100%|██████████| 500/500 [00:00<00:00, 991.60it/s]\n",
      "Trial 2/20: Running 500 iterations: 100%|██████████| 500/500 [00:00<00:00, 736.79it/s]\n",
      "Trial 3/20: Running 500 iterations: 100%|██████████| 500/500 [00:00<00:00, 723.72it/s]\n",
      "Trial 4/20: Running 500 iterations: 100%|██████████| 500/500 [00:00<00:00, 803.99it/s]\n",
      "Trial 5/20: Running 500 iterations: 100%|██████████| 500/500 [00:00<00:00, 635.95it/s]\n",
      "Trial 6/20: Running 500 iterations: 100%|██████████| 500/500 [00:00<00:00, 636.25it/s]\n",
      "Trial 7/20: Running 500 iterations: 100%|██████████| 500/500 [00:00<00:00, 618.56it/s]\n",
      "Trial 8/20: Running 500 iterations: 100%|██████████| 500/500 [00:00<00:00, 618.27it/s]\n",
      "Trial 9/20: Running 500 iterations: 100%|██████████| 500/500 [00:00<00:00, 986.59it/s]\n",
      "Trial 10/20: Running 500 iterations: 100%|██████████| 500/500 [00:00<00:00, 935.76it/s]\n",
      "Trial 11/20: Running 500 iterations: 100%|██████████| 500/500 [00:00<00:00, 938.08it/s]\n",
      "Trial 12/20: Running 500 iterations: 100%|██████████| 500/500 [00:00<00:00, 890.39it/s]\n",
      "Trial 13/20: Running 500 iterations: 100%|██████████| 500/500 [00:00<00:00, 985.46it/s]\n",
      "Trial 14/20: Running 500 iterations: 100%|██████████| 500/500 [00:00<00:00, 981.67it/s]\n",
      "Trial 15/20: Running 500 iterations: 100%|██████████| 500/500 [00:00<00:00, 985.79it/s]\n",
      "Trial 16/20: Running 500 iterations: 100%|██████████| 500/500 [00:00<00:00, 1014.17it/s]\n",
      "Trial 17/20: Running 500 iterations: 100%|██████████| 500/500 [00:00<00:00, 699.50it/s]\n",
      "Trial 18/20: Running 500 iterations: 100%|██████████| 500/500 [00:00<00:00, 1009.88it/s]\n",
      "Trial 19/20: Running 500 iterations: 100%|██████████| 500/500 [00:00<00:00, 923.35it/s]\n",
      "Trial 20/20: Running 500 iterations: 100%|██████████| 500/500 [00:00<00:00, 822.33it/s]\n",
      "Unsupported operator aten::max_pool2d encountered 3 time(s)\n",
      "Unsupported operator aten::add encountered 4 time(s)\n"
     ]
    },
    {
     "name": "stdout",
     "output_type": "stream",
     "text": [
      "Processing batch size: 8\n"
     ]
    },
    {
     "name": "stderr",
     "output_type": "stream",
     "text": [
      "Trial 1/20: Running 500 iterations: 100%|██████████| 500/500 [00:00<00:00, 841.98it/s]\n",
      "Trial 2/20: Running 500 iterations: 100%|██████████| 500/500 [00:00<00:00, 809.09it/s]\n",
      "Trial 3/20: Running 500 iterations: 100%|██████████| 500/500 [00:00<00:00, 838.05it/s]\n",
      "Trial 4/20: Running 500 iterations: 100%|██████████| 500/500 [00:00<00:00, 830.01it/s]\n",
      "Trial 5/20: Running 500 iterations: 100%|██████████| 500/500 [00:00<00:00, 816.94it/s]\n",
      "Trial 6/20: Running 500 iterations: 100%|██████████| 500/500 [00:00<00:00, 829.69it/s]\n",
      "Trial 7/20: Running 500 iterations: 100%|██████████| 500/500 [00:00<00:00, 804.68it/s]\n",
      "Trial 8/20: Running 500 iterations: 100%|██████████| 500/500 [00:00<00:00, 820.70it/s]\n",
      "Trial 9/20: Running 500 iterations: 100%|██████████| 500/500 [00:00<00:00, 803.78it/s]\n",
      "Trial 10/20: Running 500 iterations: 100%|██████████| 500/500 [00:00<00:00, 809.60it/s]\n",
      "Trial 11/20: Running 500 iterations: 100%|██████████| 500/500 [00:00<00:00, 807.40it/s]\n",
      "Trial 12/20: Running 500 iterations: 100%|██████████| 500/500 [00:00<00:00, 772.46it/s]\n",
      "Trial 13/20: Running 500 iterations: 100%|██████████| 500/500 [00:00<00:00, 801.13it/s]\n",
      "Trial 14/20: Running 500 iterations: 100%|██████████| 500/500 [00:00<00:00, 820.01it/s]\n",
      "Trial 15/20: Running 500 iterations: 100%|██████████| 500/500 [00:00<00:00, 837.85it/s]\n",
      "Trial 16/20: Running 500 iterations: 100%|██████████| 500/500 [00:00<00:00, 833.34it/s]\n",
      "Trial 17/20: Running 500 iterations: 100%|██████████| 500/500 [00:00<00:00, 766.57it/s]\n",
      "Trial 18/20: Running 500 iterations: 100%|██████████| 500/500 [00:00<00:00, 834.42it/s]\n",
      "Trial 19/20: Running 500 iterations: 100%|██████████| 500/500 [00:00<00:00, 845.83it/s]\n",
      "Trial 20/20: Running 500 iterations: 100%|██████████| 500/500 [00:00<00:00, 845.14it/s]\n",
      "Unsupported operator aten::max_pool2d encountered 3 time(s)\n",
      "Unsupported operator aten::add encountered 4 time(s)\n"
     ]
    },
    {
     "name": "stdout",
     "output_type": "stream",
     "text": [
      "Processing batch size: 16\n"
     ]
    },
    {
     "name": "stderr",
     "output_type": "stream",
     "text": [
      "Trial 1/20: Running 500 iterations: 100%|██████████| 500/500 [00:00<00:00, 550.26it/s]\n",
      "Trial 2/20: Running 500 iterations: 100%|██████████| 500/500 [00:00<00:00, 554.18it/s]\n",
      "Trial 3/20: Running 500 iterations: 100%|██████████| 500/500 [00:00<00:00, 539.20it/s]\n",
      "Trial 4/20: Running 500 iterations: 100%|██████████| 500/500 [00:00<00:00, 552.54it/s]\n",
      "Trial 5/20: Running 500 iterations: 100%|██████████| 500/500 [00:00<00:00, 538.06it/s]\n",
      "Trial 6/20: Running 500 iterations: 100%|██████████| 500/500 [00:00<00:00, 543.05it/s]\n",
      "Trial 7/20: Running 500 iterations: 100%|██████████| 500/500 [00:00<00:00, 540.22it/s]\n",
      "Trial 8/20: Running 500 iterations: 100%|██████████| 500/500 [00:00<00:00, 555.46it/s]\n",
      "Trial 9/20: Running 500 iterations: 100%|██████████| 500/500 [00:00<00:00, 547.61it/s]\n",
      "Trial 10/20: Running 500 iterations: 100%|██████████| 500/500 [00:00<00:00, 556.59it/s]\n",
      "Trial 11/20: Running 500 iterations: 100%|██████████| 500/500 [00:00<00:00, 560.15it/s]\n",
      "Trial 12/20: Running 500 iterations: 100%|██████████| 500/500 [00:00<00:00, 559.67it/s]\n",
      "Trial 13/20: Running 500 iterations: 100%|██████████| 500/500 [00:00<00:00, 561.32it/s]\n",
      "Trial 14/20: Running 500 iterations: 100%|██████████| 500/500 [00:00<00:00, 560.97it/s]\n",
      "Trial 15/20: Running 500 iterations: 100%|██████████| 500/500 [00:00<00:00, 560.41it/s]\n",
      "Trial 16/20: Running 500 iterations: 100%|██████████| 500/500 [00:00<00:00, 559.52it/s]\n",
      "Trial 17/20: Running 500 iterations: 100%|██████████| 500/500 [00:00<00:00, 559.82it/s]\n",
      "Trial 18/20: Running 500 iterations: 100%|██████████| 500/500 [00:00<00:00, 557.43it/s]\n",
      "Trial 19/20: Running 500 iterations: 100%|██████████| 500/500 [00:00<00:00, 559.83it/s]\n",
      "Trial 20/20: Running 500 iterations: 100%|██████████| 500/500 [00:00<00:00, 558.83it/s]\n",
      "Unsupported operator aten::max_pool2d encountered 3 time(s)\n",
      "Unsupported operator aten::add encountered 4 time(s)\n"
     ]
    },
    {
     "name": "stdout",
     "output_type": "stream",
     "text": [
      "Processing batch size: 32\n"
     ]
    },
    {
     "name": "stderr",
     "output_type": "stream",
     "text": [
      "Trial 1/20: Running 500 iterations: 100%|██████████| 500/500 [00:01<00:00, 343.29it/s]\n",
      "Trial 2/20: Running 500 iterations: 100%|██████████| 500/500 [00:01<00:00, 344.38it/s]\n",
      "Trial 3/20: Running 500 iterations: 100%|██████████| 500/500 [00:01<00:00, 345.97it/s]\n",
      "Trial 4/20: Running 500 iterations: 100%|██████████| 500/500 [00:01<00:00, 344.59it/s]\n",
      "Trial 5/20: Running 500 iterations: 100%|██████████| 500/500 [00:01<00:00, 342.97it/s]\n",
      "Trial 6/20: Running 500 iterations: 100%|██████████| 500/500 [00:01<00:00, 348.60it/s]\n",
      "Trial 7/20: Running 500 iterations: 100%|██████████| 500/500 [00:01<00:00, 355.46it/s]\n",
      "Trial 8/20: Running 500 iterations: 100%|██████████| 500/500 [00:01<00:00, 355.62it/s]\n",
      "Trial 9/20: Running 500 iterations: 100%|██████████| 500/500 [00:01<00:00, 355.31it/s]\n",
      "Trial 10/20: Running 500 iterations: 100%|██████████| 500/500 [00:01<00:00, 354.88it/s]\n",
      "Trial 11/20: Running 500 iterations: 100%|██████████| 500/500 [00:01<00:00, 354.69it/s]\n",
      "Trial 12/20: Running 500 iterations: 100%|██████████| 500/500 [00:01<00:00, 355.17it/s]\n",
      "Trial 13/20: Running 500 iterations: 100%|██████████| 500/500 [00:01<00:00, 355.47it/s]\n",
      "Trial 14/20: Running 500 iterations: 100%|██████████| 500/500 [00:01<00:00, 354.77it/s]\n",
      "Trial 15/20: Running 500 iterations: 100%|██████████| 500/500 [00:01<00:00, 352.24it/s]\n",
      "Trial 16/20: Running 500 iterations: 100%|██████████| 500/500 [00:01<00:00, 355.39it/s]\n",
      "Trial 17/20: Running 500 iterations: 100%|██████████| 500/500 [00:01<00:00, 354.24it/s]\n",
      "Trial 18/20: Running 500 iterations: 100%|██████████| 500/500 [00:01<00:00, 353.73it/s]\n",
      "Trial 19/20: Running 500 iterations: 100%|██████████| 500/500 [00:01<00:00, 352.03it/s]\n",
      "Trial 20/20: Running 500 iterations: 100%|██████████| 500/500 [00:01<00:00, 355.18it/s]\n",
      "Unsupported operator aten::max_pool2d encountered 3 time(s)\n",
      "Unsupported operator aten::add encountered 4 time(s)\n"
     ]
    },
    {
     "name": "stdout",
     "output_type": "stream",
     "text": [
      "Processing batch size: 64\n"
     ]
    },
    {
     "name": "stderr",
     "output_type": "stream",
     "text": [
      "Trial 1/20: Running 500 iterations: 100%|██████████| 500/500 [00:02<00:00, 208.87it/s]\n",
      "Trial 2/20: Running 500 iterations: 100%|██████████| 500/500 [00:02<00:00, 207.30it/s]\n",
      "Trial 3/20: Running 500 iterations: 100%|██████████| 500/500 [00:02<00:00, 208.56it/s]\n",
      "Trial 4/20: Running 500 iterations: 100%|██████████| 500/500 [00:02<00:00, 212.15it/s]\n",
      "Trial 5/20: Running 500 iterations: 100%|██████████| 500/500 [00:02<00:00, 214.11it/s]\n",
      "Trial 6/20: Running 500 iterations: 100%|██████████| 500/500 [00:02<00:00, 213.82it/s]\n",
      "Trial 7/20: Running 500 iterations: 100%|██████████| 500/500 [00:02<00:00, 213.71it/s]\n",
      "Trial 8/20: Running 500 iterations: 100%|██████████| 500/500 [00:02<00:00, 213.42it/s]\n",
      "Trial 9/20: Running 500 iterations: 100%|██████████| 500/500 [00:02<00:00, 213.87it/s]\n",
      "Trial 10/20: Running 500 iterations: 100%|██████████| 500/500 [00:02<00:00, 212.49it/s]\n",
      "Trial 11/20: Running 500 iterations: 100%|██████████| 500/500 [00:02<00:00, 213.84it/s]\n",
      "Trial 12/20: Running 500 iterations: 100%|██████████| 500/500 [00:02<00:00, 213.73it/s]\n",
      "Trial 13/20: Running 500 iterations: 100%|██████████| 500/500 [00:02<00:00, 213.73it/s]\n",
      "Trial 14/20: Running 500 iterations: 100%|██████████| 500/500 [00:02<00:00, 213.23it/s]\n",
      "Trial 15/20: Running 500 iterations: 100%|██████████| 500/500 [00:02<00:00, 213.08it/s]\n",
      "Trial 16/20: Running 500 iterations: 100%|██████████| 500/500 [00:02<00:00, 213.43it/s]\n",
      "Trial 17/20: Running 500 iterations: 100%|██████████| 500/500 [00:02<00:00, 212.97it/s]\n",
      "Trial 18/20: Running 500 iterations: 100%|██████████| 500/500 [00:02<00:00, 213.76it/s]\n",
      "Trial 19/20: Running 500 iterations: 100%|██████████| 500/500 [00:02<00:00, 213.60it/s]\n",
      "Trial 20/20: Running 500 iterations: 100%|██████████| 500/500 [00:02<00:00, 213.47it/s]\n",
      "Processing Models:  42%|████▏     | 28/66 [1:01:49<1:25:30, 135.00s/it]"
     ]
    },
    {
     "name": "stdout",
     "output_type": "stream",
     "text": [
      "Processing model: d:\\PruneLimit\\PruneLimitAnalyzer\\models\\AlexNet_DATASET_random_PD5_GPR-10_PRUNED_SEED_23.pth\n"
     ]
    },
    {
     "name": "stderr",
     "output_type": "stream",
     "text": [
      "Unsupported operator aten::max_pool2d encountered 3 time(s)\n",
      "Unsupported operator aten::add encountered 3 time(s)\n"
     ]
    },
    {
     "name": "stdout",
     "output_type": "stream",
     "text": [
      "Processing batch size: 1\n"
     ]
    },
    {
     "name": "stderr",
     "output_type": "stream",
     "text": [
      "Trial 1/20: Running 500 iterations: 100%|██████████| 500/500 [00:00<00:00, 842.46it/s]\n",
      "Trial 2/20: Running 500 iterations: 100%|██████████| 500/500 [00:00<00:00, 648.70it/s]\n",
      "Trial 3/20: Running 500 iterations: 100%|██████████| 500/500 [00:00<00:00, 578.22it/s]\n",
      "Trial 4/20: Running 500 iterations: 100%|██████████| 500/500 [00:00<00:00, 615.40it/s]\n",
      "Trial 5/20: Running 500 iterations: 100%|██████████| 500/500 [00:00<00:00, 652.94it/s]\n",
      "Trial 6/20: Running 500 iterations: 100%|██████████| 500/500 [00:00<00:00, 565.88it/s]\n",
      "Trial 7/20: Running 500 iterations: 100%|██████████| 500/500 [00:00<00:00, 707.88it/s]\n",
      "Trial 8/20: Running 500 iterations: 100%|██████████| 500/500 [00:00<00:00, 853.14it/s]\n",
      "Trial 9/20: Running 500 iterations: 100%|██████████| 500/500 [00:00<00:00, 995.85it/s]\n",
      "Trial 10/20: Running 500 iterations: 100%|██████████| 500/500 [00:00<00:00, 970.32it/s]\n",
      "Trial 11/20: Running 500 iterations: 100%|██████████| 500/500 [00:00<00:00, 1006.05it/s]\n",
      "Trial 12/20: Running 500 iterations: 100%|██████████| 500/500 [00:00<00:00, 982.48it/s]\n",
      "Trial 13/20: Running 500 iterations: 100%|██████████| 500/500 [00:00<00:00, 1010.48it/s]\n",
      "Trial 14/20: Running 500 iterations: 100%|██████████| 500/500 [00:00<00:00, 990.79it/s] \n",
      "Trial 15/20: Running 500 iterations: 100%|██████████| 500/500 [00:00<00:00, 913.35it/s]\n",
      "Trial 16/20: Running 500 iterations: 100%|██████████| 500/500 [00:00<00:00, 1030.40it/s]\n",
      "Trial 17/20: Running 500 iterations: 100%|██████████| 500/500 [00:00<00:00, 1031.10it/s]\n",
      "Trial 18/20: Running 500 iterations: 100%|██████████| 500/500 [00:00<00:00, 1023.81it/s]\n",
      "Trial 19/20: Running 500 iterations: 100%|██████████| 500/500 [00:00<00:00, 1020.24it/s]\n",
      "Trial 20/20: Running 500 iterations: 100%|██████████| 500/500 [00:00<00:00, 1024.94it/s]\n",
      "Unsupported operator aten::max_pool2d encountered 3 time(s)\n",
      "Unsupported operator aten::add encountered 3 time(s)\n"
     ]
    },
    {
     "name": "stdout",
     "output_type": "stream",
     "text": [
      "Processing batch size: 8\n"
     ]
    },
    {
     "name": "stderr",
     "output_type": "stream",
     "text": [
      "Trial 1/20: Running 500 iterations: 100%|██████████| 500/500 [00:00<00:00, 709.47it/s]\n",
      "Trial 2/20: Running 500 iterations: 100%|██████████| 500/500 [00:00<00:00, 716.18it/s]\n",
      "Trial 3/20: Running 500 iterations: 100%|██████████| 500/500 [00:00<00:00, 719.19it/s]\n",
      "Trial 4/20: Running 500 iterations: 100%|██████████| 500/500 [00:00<00:00, 702.93it/s]\n",
      "Trial 5/20: Running 500 iterations: 100%|██████████| 500/500 [00:00<00:00, 713.51it/s]\n",
      "Trial 6/20: Running 500 iterations: 100%|██████████| 500/500 [00:00<00:00, 716.79it/s]\n",
      "Trial 7/20: Running 500 iterations: 100%|██████████| 500/500 [00:00<00:00, 712.51it/s]\n",
      "Trial 8/20: Running 500 iterations: 100%|██████████| 500/500 [00:00<00:00, 719.06it/s]\n",
      "Trial 9/20: Running 500 iterations: 100%|██████████| 500/500 [00:00<00:00, 723.25it/s]\n",
      "Trial 10/20: Running 500 iterations: 100%|██████████| 500/500 [00:00<00:00, 714.58it/s]\n",
      "Trial 11/20: Running 500 iterations: 100%|██████████| 500/500 [00:00<00:00, 693.37it/s]\n",
      "Trial 12/20: Running 500 iterations: 100%|██████████| 500/500 [00:00<00:00, 704.18it/s]\n",
      "Trial 13/20: Running 500 iterations: 100%|██████████| 500/500 [00:00<00:00, 649.69it/s]\n",
      "Trial 14/20: Running 500 iterations: 100%|██████████| 500/500 [00:00<00:00, 723.79it/s]\n",
      "Trial 15/20: Running 500 iterations: 100%|██████████| 500/500 [00:00<00:00, 657.29it/s]\n",
      "Trial 16/20: Running 500 iterations: 100%|██████████| 500/500 [00:00<00:00, 680.02it/s]\n",
      "Trial 17/20: Running 500 iterations: 100%|██████████| 500/500 [00:00<00:00, 726.92it/s]\n",
      "Trial 18/20: Running 500 iterations: 100%|██████████| 500/500 [00:00<00:00, 730.10it/s]\n",
      "Trial 19/20: Running 500 iterations: 100%|██████████| 500/500 [00:00<00:00, 730.26it/s]\n",
      "Trial 20/20: Running 500 iterations: 100%|██████████| 500/500 [00:00<00:00, 724.03it/s]\n",
      "Unsupported operator aten::max_pool2d encountered 3 time(s)\n",
      "Unsupported operator aten::add encountered 3 time(s)\n"
     ]
    },
    {
     "name": "stdout",
     "output_type": "stream",
     "text": [
      "Processing batch size: 16\n"
     ]
    },
    {
     "name": "stderr",
     "output_type": "stream",
     "text": [
      "Trial 1/20: Running 500 iterations: 100%|██████████| 500/500 [00:01<00:00, 482.38it/s]\n",
      "Trial 2/20: Running 500 iterations: 100%|██████████| 500/500 [00:01<00:00, 480.72it/s]\n",
      "Trial 3/20: Running 500 iterations: 100%|██████████| 500/500 [00:01<00:00, 483.87it/s]\n",
      "Trial 4/20: Running 500 iterations: 100%|██████████| 500/500 [00:01<00:00, 482.30it/s]\n",
      "Trial 5/20: Running 500 iterations: 100%|██████████| 500/500 [00:01<00:00, 482.49it/s]\n",
      "Trial 6/20: Running 500 iterations: 100%|██████████| 500/500 [00:01<00:00, 479.85it/s]\n",
      "Trial 7/20: Running 500 iterations: 100%|██████████| 500/500 [00:01<00:00, 488.14it/s]\n",
      "Trial 8/20: Running 500 iterations: 100%|██████████| 500/500 [00:01<00:00, 486.05it/s]\n",
      "Trial 9/20: Running 500 iterations: 100%|██████████| 500/500 [00:01<00:00, 493.61it/s]\n",
      "Trial 10/20: Running 500 iterations: 100%|██████████| 500/500 [00:01<00:00, 491.96it/s]\n",
      "Trial 11/20: Running 500 iterations: 100%|██████████| 500/500 [00:01<00:00, 490.33it/s]\n",
      "Trial 12/20: Running 500 iterations: 100%|██████████| 500/500 [00:01<00:00, 495.22it/s]\n",
      "Trial 13/20: Running 500 iterations: 100%|██████████| 500/500 [00:01<00:00, 493.51it/s]\n",
      "Trial 14/20: Running 500 iterations: 100%|██████████| 500/500 [00:01<00:00, 496.06it/s]\n",
      "Trial 15/20: Running 500 iterations: 100%|██████████| 500/500 [00:01<00:00, 492.90it/s]\n",
      "Trial 16/20: Running 500 iterations: 100%|██████████| 500/500 [00:01<00:00, 493.66it/s]\n",
      "Trial 17/20: Running 500 iterations: 100%|██████████| 500/500 [00:01<00:00, 495.98it/s]\n",
      "Trial 18/20: Running 500 iterations: 100%|██████████| 500/500 [00:01<00:00, 491.04it/s]\n",
      "Trial 19/20: Running 500 iterations: 100%|██████████| 500/500 [00:01<00:00, 487.49it/s]\n",
      "Trial 20/20: Running 500 iterations: 100%|██████████| 500/500 [00:01<00:00, 496.33it/s]\n",
      "Unsupported operator aten::max_pool2d encountered 3 time(s)\n",
      "Unsupported operator aten::add encountered 3 time(s)\n"
     ]
    },
    {
     "name": "stdout",
     "output_type": "stream",
     "text": [
      "Processing batch size: 32\n"
     ]
    },
    {
     "name": "stderr",
     "output_type": "stream",
     "text": [
      "Trial 1/20: Running 500 iterations: 100%|██████████| 500/500 [00:01<00:00, 282.50it/s]\n",
      "Trial 2/20: Running 500 iterations: 100%|██████████| 500/500 [00:01<00:00, 281.32it/s]\n",
      "Trial 3/20: Running 500 iterations: 100%|██████████| 500/500 [00:01<00:00, 282.56it/s]\n",
      "Trial 4/20: Running 500 iterations: 100%|██████████| 500/500 [00:01<00:00, 283.09it/s]\n",
      "Trial 5/20: Running 500 iterations: 100%|██████████| 500/500 [00:01<00:00, 284.38it/s]\n",
      "Trial 6/20: Running 500 iterations: 100%|██████████| 500/500 [00:01<00:00, 289.20it/s]\n",
      "Trial 7/20: Running 500 iterations: 100%|██████████| 500/500 [00:01<00:00, 288.95it/s]\n",
      "Trial 8/20: Running 500 iterations: 100%|██████████| 500/500 [00:01<00:00, 288.69it/s]\n",
      "Trial 9/20: Running 500 iterations: 100%|██████████| 500/500 [00:01<00:00, 288.27it/s]\n",
      "Trial 10/20: Running 500 iterations: 100%|██████████| 500/500 [00:01<00:00, 289.17it/s]\n",
      "Trial 11/20: Running 500 iterations: 100%|██████████| 500/500 [00:01<00:00, 289.16it/s]\n",
      "Trial 12/20: Running 500 iterations: 100%|██████████| 500/500 [00:01<00:00, 287.36it/s]\n",
      "Trial 13/20: Running 500 iterations: 100%|██████████| 500/500 [00:01<00:00, 289.50it/s]\n",
      "Trial 14/20: Running 500 iterations: 100%|██████████| 500/500 [00:01<00:00, 285.21it/s]\n",
      "Trial 15/20: Running 500 iterations: 100%|██████████| 500/500 [00:01<00:00, 289.67it/s]\n",
      "Trial 16/20: Running 500 iterations: 100%|██████████| 500/500 [00:01<00:00, 287.47it/s]\n",
      "Trial 17/20: Running 500 iterations: 100%|██████████| 500/500 [00:01<00:00, 287.45it/s]\n",
      "Trial 18/20: Running 500 iterations: 100%|██████████| 500/500 [00:01<00:00, 289.69it/s]\n",
      "Trial 19/20: Running 500 iterations: 100%|██████████| 500/500 [00:01<00:00, 289.48it/s]\n",
      "Trial 20/20: Running 500 iterations: 100%|██████████| 500/500 [00:01<00:00, 287.46it/s]\n",
      "Unsupported operator aten::max_pool2d encountered 3 time(s)\n",
      "Unsupported operator aten::add encountered 3 time(s)\n"
     ]
    },
    {
     "name": "stdout",
     "output_type": "stream",
     "text": [
      "Processing batch size: 64\n"
     ]
    },
    {
     "name": "stderr",
     "output_type": "stream",
     "text": [
      "Trial 1/20: Running 500 iterations: 100%|██████████| 500/500 [00:03<00:00, 165.97it/s]\n",
      "Trial 2/20: Running 500 iterations: 100%|██████████| 500/500 [00:02<00:00, 167.17it/s]\n",
      "Trial 3/20: Running 500 iterations: 100%|██████████| 500/500 [00:02<00:00, 167.91it/s]\n",
      "Trial 4/20: Running 500 iterations: 100%|██████████| 500/500 [00:02<00:00, 171.83it/s]\n",
      "Trial 5/20: Running 500 iterations: 100%|██████████| 500/500 [00:02<00:00, 171.85it/s]\n",
      "Trial 6/20: Running 500 iterations: 100%|██████████| 500/500 [00:02<00:00, 172.03it/s]\n",
      "Trial 7/20: Running 500 iterations: 100%|██████████| 500/500 [00:02<00:00, 171.47it/s]\n",
      "Trial 8/20: Running 500 iterations: 100%|██████████| 500/500 [00:02<00:00, 172.22it/s]\n",
      "Trial 9/20: Running 500 iterations: 100%|██████████| 500/500 [00:02<00:00, 172.24it/s]\n",
      "Trial 10/20: Running 500 iterations: 100%|██████████| 500/500 [00:02<00:00, 171.88it/s]\n",
      "Trial 11/20: Running 500 iterations: 100%|██████████| 500/500 [00:02<00:00, 172.01it/s]\n",
      "Trial 12/20: Running 500 iterations: 100%|██████████| 500/500 [00:02<00:00, 172.20it/s]\n",
      "Trial 13/20: Running 500 iterations: 100%|██████████| 500/500 [00:02<00:00, 172.22it/s]\n",
      "Trial 14/20: Running 500 iterations: 100%|██████████| 500/500 [00:02<00:00, 171.82it/s]\n",
      "Trial 15/20: Running 500 iterations: 100%|██████████| 500/500 [00:02<00:00, 171.90it/s]\n",
      "Trial 16/20: Running 500 iterations: 100%|██████████| 500/500 [00:02<00:00, 171.66it/s]\n",
      "Trial 17/20: Running 500 iterations: 100%|██████████| 500/500 [00:02<00:00, 171.63it/s]\n",
      "Trial 18/20: Running 500 iterations: 100%|██████████| 500/500 [00:02<00:00, 171.98it/s]\n",
      "Trial 19/20: Running 500 iterations: 100%|██████████| 500/500 [00:02<00:00, 171.88it/s]\n",
      "Trial 20/20: Running 500 iterations: 100%|██████████| 500/500 [00:02<00:00, 172.15it/s]\n",
      "Processing Models:  44%|████▍     | 29/66 [1:04:43<1:30:35, 146.89s/it]"
     ]
    },
    {
     "name": "stdout",
     "output_type": "stream",
     "text": [
      "Processing model: d:\\PruneLimit\\PruneLimitAnalyzer\\models\\AlexNet_DATASET_random_PD3_GPR-20_PRUNED_SEED_23.pth\n"
     ]
    },
    {
     "name": "stderr",
     "output_type": "stream",
     "text": [
      "Unsupported operator aten::max_pool2d encountered 3 time(s)\n",
      "Unsupported operator aten::add encountered 4 time(s)\n"
     ]
    },
    {
     "name": "stdout",
     "output_type": "stream",
     "text": [
      "Processing batch size: 1\n"
     ]
    },
    {
     "name": "stderr",
     "output_type": "stream",
     "text": [
      "Trial 1/20: Running 500 iterations: 100%|██████████| 500/500 [00:00<00:00, 831.30it/s]\n",
      "Trial 2/20: Running 500 iterations: 100%|██████████| 500/500 [00:00<00:00, 906.86it/s]\n",
      "Trial 3/20: Running 500 iterations: 100%|██████████| 500/500 [00:00<00:00, 871.63it/s]\n",
      "Trial 4/20: Running 500 iterations: 100%|██████████| 500/500 [00:00<00:00, 882.37it/s]\n",
      "Trial 5/20: Running 500 iterations: 100%|██████████| 500/500 [00:00<00:00, 796.18it/s]\n",
      "Trial 6/20: Running 500 iterations: 100%|██████████| 500/500 [00:00<00:00, 844.30it/s]\n",
      "Trial 7/20: Running 500 iterations: 100%|██████████| 500/500 [00:00<00:00, 841.68it/s]\n",
      "Trial 8/20: Running 500 iterations: 100%|██████████| 500/500 [00:00<00:00, 882.70it/s]\n",
      "Trial 9/20: Running 500 iterations: 100%|██████████| 500/500 [00:00<00:00, 830.81it/s]\n",
      "Trial 10/20: Running 500 iterations: 100%|██████████| 500/500 [00:00<00:00, 854.04it/s]\n",
      "Trial 11/20: Running 500 iterations: 100%|██████████| 500/500 [00:00<00:00, 923.16it/s]\n",
      "Trial 12/20: Running 500 iterations: 100%|██████████| 500/500 [00:00<00:00, 956.45it/s]\n",
      "Trial 13/20: Running 500 iterations: 100%|██████████| 500/500 [00:00<00:00, 941.88it/s]\n",
      "Trial 14/20: Running 500 iterations: 100%|██████████| 500/500 [00:00<00:00, 1000.97it/s]\n",
      "Trial 15/20: Running 500 iterations: 100%|██████████| 500/500 [00:00<00:00, 959.05it/s]\n",
      "Trial 16/20: Running 500 iterations: 100%|██████████| 500/500 [00:00<00:00, 1014.51it/s]\n",
      "Trial 17/20: Running 500 iterations: 100%|██████████| 500/500 [00:00<00:00, 1006.09it/s]\n",
      "Trial 18/20: Running 500 iterations: 100%|██████████| 500/500 [00:00<00:00, 970.75it/s]\n",
      "Trial 19/20: Running 500 iterations: 100%|██████████| 500/500 [00:00<00:00, 977.88it/s]\n",
      "Trial 20/20: Running 500 iterations: 100%|██████████| 500/500 [00:00<00:00, 948.55it/s]\n",
      "Unsupported operator aten::max_pool2d encountered 3 time(s)\n",
      "Unsupported operator aten::add encountered 4 time(s)\n"
     ]
    },
    {
     "name": "stdout",
     "output_type": "stream",
     "text": [
      "Processing batch size: 8\n"
     ]
    },
    {
     "name": "stderr",
     "output_type": "stream",
     "text": [
      "Trial 1/20: Running 500 iterations: 100%|██████████| 500/500 [00:00<00:00, 806.73it/s]\n",
      "Trial 2/20: Running 500 iterations: 100%|██████████| 500/500 [00:00<00:00, 805.18it/s]\n",
      "Trial 3/20: Running 500 iterations: 100%|██████████| 500/500 [00:00<00:00, 807.89it/s]\n",
      "Trial 4/20: Running 500 iterations: 100%|██████████| 500/500 [00:00<00:00, 821.38it/s]\n",
      "Trial 5/20: Running 500 iterations: 100%|██████████| 500/500 [00:00<00:00, 796.45it/s]\n",
      "Trial 6/20: Running 500 iterations: 100%|██████████| 500/500 [00:00<00:00, 794.10it/s]\n",
      "Trial 7/20: Running 500 iterations: 100%|██████████| 500/500 [00:00<00:00, 801.01it/s]\n",
      "Trial 8/20: Running 500 iterations: 100%|██████████| 500/500 [00:00<00:00, 788.46it/s]\n",
      "Trial 9/20: Running 500 iterations: 100%|██████████| 500/500 [00:00<00:00, 804.33it/s]\n",
      "Trial 10/20: Running 500 iterations: 100%|██████████| 500/500 [00:00<00:00, 808.43it/s]\n",
      "Trial 11/20: Running 500 iterations: 100%|██████████| 500/500 [00:00<00:00, 771.25it/s]\n",
      "Trial 12/20: Running 500 iterations: 100%|██████████| 500/500 [00:00<00:00, 802.70it/s]\n",
      "Trial 13/20: Running 500 iterations: 100%|██████████| 500/500 [00:00<00:00, 793.04it/s]\n",
      "Trial 14/20: Running 500 iterations: 100%|██████████| 500/500 [00:00<00:00, 803.04it/s]\n",
      "Trial 15/20: Running 500 iterations: 100%|██████████| 500/500 [00:00<00:00, 811.89it/s]\n",
      "Trial 16/20: Running 500 iterations: 100%|██████████| 500/500 [00:00<00:00, 823.01it/s]\n",
      "Trial 17/20: Running 500 iterations: 100%|██████████| 500/500 [00:00<00:00, 805.65it/s]\n",
      "Trial 18/20: Running 500 iterations: 100%|██████████| 500/500 [00:00<00:00, 819.86it/s]\n",
      "Trial 19/20: Running 500 iterations: 100%|██████████| 500/500 [00:00<00:00, 804.84it/s]\n",
      "Trial 20/20: Running 500 iterations: 100%|██████████| 500/500 [00:00<00:00, 808.29it/s]\n",
      "Unsupported operator aten::max_pool2d encountered 3 time(s)\n",
      "Unsupported operator aten::add encountered 4 time(s)\n"
     ]
    },
    {
     "name": "stdout",
     "output_type": "stream",
     "text": [
      "Processing batch size: 16\n"
     ]
    },
    {
     "name": "stderr",
     "output_type": "stream",
     "text": [
      "Trial 1/20: Running 500 iterations: 100%|██████████| 500/500 [00:00<00:00, 536.79it/s]\n",
      "Trial 2/20: Running 500 iterations: 100%|██████████| 500/500 [00:00<00:00, 533.63it/s]\n",
      "Trial 3/20: Running 500 iterations: 100%|██████████| 500/500 [00:00<00:00, 531.30it/s]\n",
      "Trial 4/20: Running 500 iterations: 100%|██████████| 500/500 [00:00<00:00, 541.92it/s]\n",
      "Trial 5/20: Running 500 iterations: 100%|██████████| 500/500 [00:00<00:00, 539.19it/s]\n",
      "Trial 6/20: Running 500 iterations: 100%|██████████| 500/500 [00:00<00:00, 548.41it/s]\n",
      "Trial 7/20: Running 500 iterations: 100%|██████████| 500/500 [00:00<00:00, 538.55it/s]\n",
      "Trial 8/20: Running 500 iterations: 100%|██████████| 500/500 [00:00<00:00, 533.68it/s]\n",
      "Trial 9/20: Running 500 iterations: 100%|██████████| 500/500 [00:00<00:00, 537.06it/s]\n",
      "Trial 10/20: Running 500 iterations: 100%|██████████| 500/500 [00:00<00:00, 552.58it/s]\n",
      "Trial 11/20: Running 500 iterations: 100%|██████████| 500/500 [00:00<00:00, 552.41it/s]\n",
      "Trial 12/20: Running 500 iterations: 100%|██████████| 500/500 [00:00<00:00, 553.65it/s]\n",
      "Trial 13/20: Running 500 iterations: 100%|██████████| 500/500 [00:00<00:00, 552.64it/s]\n",
      "Trial 14/20: Running 500 iterations: 100%|██████████| 500/500 [00:00<00:00, 554.24it/s]\n",
      "Trial 15/20: Running 500 iterations: 100%|██████████| 500/500 [00:00<00:00, 545.26it/s]\n",
      "Trial 16/20: Running 500 iterations: 100%|██████████| 500/500 [00:00<00:00, 549.29it/s]\n",
      "Trial 17/20: Running 500 iterations: 100%|██████████| 500/500 [00:00<00:00, 551.90it/s]\n",
      "Trial 18/20: Running 500 iterations: 100%|██████████| 500/500 [00:00<00:00, 553.85it/s]\n",
      "Trial 19/20: Running 500 iterations: 100%|██████████| 500/500 [00:00<00:00, 553.16it/s]\n",
      "Trial 20/20: Running 500 iterations: 100%|██████████| 500/500 [00:00<00:00, 546.42it/s]\n",
      "Unsupported operator aten::max_pool2d encountered 3 time(s)\n",
      "Unsupported operator aten::add encountered 4 time(s)\n"
     ]
    },
    {
     "name": "stdout",
     "output_type": "stream",
     "text": [
      "Processing batch size: 32\n"
     ]
    },
    {
     "name": "stderr",
     "output_type": "stream",
     "text": [
      "Trial 1/20: Running 500 iterations: 100%|██████████| 500/500 [00:01<00:00, 318.55it/s]\n",
      "Trial 2/20: Running 500 iterations: 100%|██████████| 500/500 [00:01<00:00, 319.72it/s]\n",
      "Trial 3/20: Running 500 iterations: 100%|██████████| 500/500 [00:01<00:00, 317.92it/s]\n",
      "Trial 4/20: Running 500 iterations: 100%|██████████| 500/500 [00:01<00:00, 320.14it/s]\n",
      "Trial 5/20: Running 500 iterations: 100%|██████████| 500/500 [00:01<00:00, 319.46it/s]\n",
      "Trial 6/20: Running 500 iterations: 100%|██████████| 500/500 [00:01<00:00, 328.71it/s]\n",
      "Trial 7/20: Running 500 iterations: 100%|██████████| 500/500 [00:01<00:00, 329.99it/s]\n",
      "Trial 8/20: Running 500 iterations: 100%|██████████| 500/500 [00:01<00:00, 330.32it/s]\n",
      "Trial 9/20: Running 500 iterations: 100%|██████████| 500/500 [00:01<00:00, 327.39it/s]\n",
      "Trial 10/20: Running 500 iterations: 100%|██████████| 500/500 [00:01<00:00, 330.38it/s]\n",
      "Trial 11/20: Running 500 iterations: 100%|██████████| 500/500 [00:01<00:00, 328.37it/s]\n",
      "Trial 12/20: Running 500 iterations: 100%|██████████| 500/500 [00:01<00:00, 328.36it/s]\n",
      "Trial 13/20: Running 500 iterations: 100%|██████████| 500/500 [00:01<00:00, 328.38it/s]\n",
      "Trial 14/20: Running 500 iterations: 100%|██████████| 500/500 [00:01<00:00, 329.56it/s]\n",
      "Trial 15/20: Running 500 iterations: 100%|██████████| 500/500 [00:01<00:00, 328.47it/s]\n",
      "Trial 16/20: Running 500 iterations: 100%|██████████| 500/500 [00:01<00:00, 328.80it/s]\n",
      "Trial 17/20: Running 500 iterations: 100%|██████████| 500/500 [00:01<00:00, 328.63it/s]\n",
      "Trial 18/20: Running 500 iterations: 100%|██████████| 500/500 [00:01<00:00, 330.01it/s]\n",
      "Trial 19/20: Running 500 iterations: 100%|██████████| 500/500 [00:01<00:00, 329.36it/s]\n",
      "Trial 20/20: Running 500 iterations: 100%|██████████| 500/500 [00:01<00:00, 329.93it/s]\n",
      "Unsupported operator aten::max_pool2d encountered 3 time(s)\n",
      "Unsupported operator aten::add encountered 4 time(s)\n"
     ]
    },
    {
     "name": "stdout",
     "output_type": "stream",
     "text": [
      "Processing batch size: 64\n"
     ]
    },
    {
     "name": "stderr",
     "output_type": "stream",
     "text": [
      "Trial 1/20: Running 500 iterations: 100%|██████████| 500/500 [00:02<00:00, 196.99it/s]\n",
      "Trial 2/20: Running 500 iterations: 100%|██████████| 500/500 [00:02<00:00, 197.01it/s]\n",
      "Trial 3/20: Running 500 iterations: 100%|██████████| 500/500 [00:02<00:00, 197.41it/s]\n",
      "Trial 4/20: Running 500 iterations: 100%|██████████| 500/500 [00:02<00:00, 201.96it/s]\n",
      "Trial 5/20: Running 500 iterations: 100%|██████████| 500/500 [00:02<00:00, 202.20it/s]\n",
      "Trial 6/20: Running 500 iterations: 100%|██████████| 500/500 [00:02<00:00, 202.77it/s]\n",
      "Trial 7/20: Running 500 iterations: 100%|██████████| 500/500 [00:02<00:00, 202.59it/s]\n",
      "Trial 8/20: Running 500 iterations: 100%|██████████| 500/500 [00:02<00:00, 202.20it/s]\n",
      "Trial 9/20: Running 500 iterations: 100%|██████████| 500/500 [00:02<00:00, 202.28it/s]\n",
      "Trial 10/20: Running 500 iterations: 100%|██████████| 500/500 [00:02<00:00, 201.67it/s]\n",
      "Trial 11/20: Running 500 iterations: 100%|██████████| 500/500 [00:02<00:00, 202.36it/s]\n",
      "Trial 12/20: Running 500 iterations: 100%|██████████| 500/500 [00:02<00:00, 201.96it/s]\n",
      "Trial 13/20: Running 500 iterations: 100%|██████████| 500/500 [00:02<00:00, 202.23it/s]\n",
      "Trial 14/20: Running 500 iterations: 100%|██████████| 500/500 [00:02<00:00, 202.12it/s]\n",
      "Trial 15/20: Running 500 iterations: 100%|██████████| 500/500 [00:02<00:00, 202.51it/s]\n",
      "Trial 16/20: Running 500 iterations: 100%|██████████| 500/500 [00:02<00:00, 202.27it/s]\n",
      "Trial 17/20: Running 500 iterations: 100%|██████████| 500/500 [00:02<00:00, 202.54it/s]\n",
      "Trial 18/20: Running 500 iterations: 100%|██████████| 500/500 [00:02<00:00, 202.16it/s]\n",
      "Trial 19/20: Running 500 iterations: 100%|██████████| 500/500 [00:02<00:00, 201.45it/s]\n",
      "Trial 20/20: Running 500 iterations: 100%|██████████| 500/500 [00:02<00:00, 201.66it/s]\n",
      "Processing Models:  45%|████▌     | 30/66 [1:07:16<1:29:08, 148.57s/it]Unsupported operator aten::max_pool2d encountered 3 time(s)\n",
      "Unsupported operator aten::add encountered 4 time(s)\n"
     ]
    },
    {
     "name": "stdout",
     "output_type": "stream",
     "text": [
      "Processing model: d:\\PruneLimit\\PruneLimitAnalyzer\\models\\AlexNet_DATASET_random_PD4_GPR-45_PRUNED_SEED_23.pth\n",
      "Processing batch size: 1\n"
     ]
    },
    {
     "name": "stderr",
     "output_type": "stream",
     "text": [
      "Trial 1/20: Running 500 iterations: 100%|██████████| 500/500 [00:00<00:00, 960.36it/s]\n",
      "Trial 2/20: Running 500 iterations: 100%|██████████| 500/500 [00:00<00:00, 904.07it/s]\n",
      "Trial 3/20: Running 500 iterations: 100%|██████████| 500/500 [00:00<00:00, 866.77it/s]\n",
      "Trial 4/20: Running 500 iterations: 100%|██████████| 500/500 [00:00<00:00, 791.67it/s]\n",
      "Trial 5/20: Running 500 iterations: 100%|██████████| 500/500 [00:00<00:00, 771.23it/s]\n",
      "Trial 6/20: Running 500 iterations: 100%|██████████| 500/500 [00:00<00:00, 805.06it/s]\n",
      "Trial 7/20: Running 500 iterations: 100%|██████████| 500/500 [00:00<00:00, 826.58it/s]\n",
      "Trial 8/20: Running 500 iterations: 100%|██████████| 500/500 [00:00<00:00, 990.01it/s]\n",
      "Trial 9/20: Running 500 iterations: 100%|██████████| 500/500 [00:00<00:00, 970.07it/s]\n",
      "Trial 10/20: Running 500 iterations: 100%|██████████| 500/500 [00:00<00:00, 999.92it/s]\n",
      "Trial 11/20: Running 500 iterations: 100%|██████████| 500/500 [00:00<00:00, 910.51it/s]\n",
      "Trial 12/20: Running 500 iterations: 100%|██████████| 500/500 [00:00<00:00, 971.12it/s]\n",
      "Trial 13/20: Running 500 iterations: 100%|██████████| 500/500 [00:00<00:00, 1006.18it/s]\n",
      "Trial 14/20: Running 500 iterations: 100%|██████████| 500/500 [00:00<00:00, 963.64it/s]\n",
      "Trial 15/20: Running 500 iterations: 100%|██████████| 500/500 [00:00<00:00, 989.47it/s]\n",
      "Trial 16/20: Running 500 iterations: 100%|██████████| 500/500 [00:00<00:00, 948.51it/s]\n",
      "Trial 17/20: Running 500 iterations: 100%|██████████| 500/500 [00:00<00:00, 1006.13it/s]\n",
      "Trial 18/20: Running 500 iterations: 100%|██████████| 500/500 [00:00<00:00, 951.43it/s]\n",
      "Trial 19/20: Running 500 iterations: 100%|██████████| 500/500 [00:00<00:00, 1009.86it/s]\n",
      "Trial 20/20: Running 500 iterations: 100%|██████████| 500/500 [00:00<00:00, 994.00it/s] \n",
      "Unsupported operator aten::max_pool2d encountered 3 time(s)\n",
      "Unsupported operator aten::add encountered 4 time(s)\n"
     ]
    },
    {
     "name": "stdout",
     "output_type": "stream",
     "text": [
      "Processing batch size: 8\n"
     ]
    },
    {
     "name": "stderr",
     "output_type": "stream",
     "text": [
      "Trial 1/20: Running 500 iterations: 100%|██████████| 500/500 [00:00<00:00, 973.09it/s]\n",
      "Trial 2/20: Running 500 iterations: 100%|██████████| 500/500 [00:00<00:00, 921.39it/s]\n",
      "Trial 3/20: Running 500 iterations: 100%|██████████| 500/500 [00:00<00:00, 924.04it/s]\n",
      "Trial 4/20: Running 500 iterations: 100%|██████████| 500/500 [00:00<00:00, 977.64it/s]\n",
      "Trial 5/20: Running 500 iterations: 100%|██████████| 500/500 [00:00<00:00, 887.10it/s]\n",
      "Trial 6/20: Running 500 iterations: 100%|██████████| 500/500 [00:00<00:00, 982.18it/s]\n",
      "Trial 7/20: Running 500 iterations: 100%|██████████| 500/500 [00:00<00:00, 950.23it/s]\n",
      "Trial 8/20: Running 500 iterations: 100%|██████████| 500/500 [00:00<00:00, 892.69it/s]\n",
      "Trial 9/20: Running 500 iterations: 100%|██████████| 500/500 [00:00<00:00, 882.41it/s]\n",
      "Trial 10/20: Running 500 iterations: 100%|██████████| 500/500 [00:00<00:00, 935.00it/s]\n",
      "Trial 11/20: Running 500 iterations: 100%|██████████| 500/500 [00:00<00:00, 910.98it/s]\n",
      "Trial 12/20: Running 500 iterations: 100%|██████████| 500/500 [00:00<00:00, 845.75it/s]\n",
      "Trial 13/20: Running 500 iterations: 100%|██████████| 500/500 [00:00<00:00, 893.49it/s]\n",
      "Trial 14/20: Running 500 iterations: 100%|██████████| 500/500 [00:00<00:00, 821.73it/s]\n",
      "Trial 15/20: Running 500 iterations: 100%|██████████| 500/500 [00:00<00:00, 830.54it/s]\n",
      "Trial 16/20: Running 500 iterations: 100%|██████████| 500/500 [00:00<00:00, 868.25it/s]\n",
      "Trial 17/20: Running 500 iterations: 100%|██████████| 500/500 [00:00<00:00, 993.44it/s]\n",
      "Trial 18/20: Running 500 iterations: 100%|██████████| 500/500 [00:00<00:00, 1027.27it/s]\n",
      "Trial 19/20: Running 500 iterations: 100%|██████████| 500/500 [00:00<00:00, 1020.52it/s]\n",
      "Trial 20/20: Running 500 iterations: 100%|██████████| 500/500 [00:00<00:00, 1025.16it/s]\n",
      "Unsupported operator aten::max_pool2d encountered 3 time(s)\n",
      "Unsupported operator aten::add encountered 4 time(s)\n"
     ]
    },
    {
     "name": "stdout",
     "output_type": "stream",
     "text": [
      "Processing batch size: 16\n"
     ]
    },
    {
     "name": "stderr",
     "output_type": "stream",
     "text": [
      "Trial 1/20: Running 500 iterations: 100%|██████████| 500/500 [00:00<00:00, 1005.51it/s]\n",
      "Trial 2/20: Running 500 iterations: 100%|██████████| 500/500 [00:00<00:00, 913.85it/s]\n",
      "Trial 3/20: Running 500 iterations: 100%|██████████| 500/500 [00:00<00:00, 1051.53it/s]\n",
      "Trial 4/20: Running 500 iterations: 100%|██████████| 500/500 [00:00<00:00, 970.60it/s]\n",
      "Trial 5/20: Running 500 iterations: 100%|██████████| 500/500 [00:00<00:00, 944.58it/s]\n",
      "Trial 6/20: Running 500 iterations: 100%|██████████| 500/500 [00:00<00:00, 1006.66it/s]\n",
      "Trial 7/20: Running 500 iterations: 100%|██████████| 500/500 [00:00<00:00, 986.80it/s]\n",
      "Trial 8/20: Running 500 iterations: 100%|██████████| 500/500 [00:00<00:00, 1025.61it/s]\n",
      "Trial 9/20: Running 500 iterations: 100%|██████████| 500/500 [00:00<00:00, 1063.97it/s]\n",
      "Trial 10/20: Running 500 iterations: 100%|██████████| 500/500 [00:00<00:00, 1071.49it/s]\n",
      "Trial 11/20: Running 500 iterations: 100%|██████████| 500/500 [00:00<00:00, 1046.21it/s]\n",
      "Trial 12/20: Running 500 iterations: 100%|██████████| 500/500 [00:00<00:00, 929.54it/s]\n",
      "Trial 13/20: Running 500 iterations: 100%|██████████| 500/500 [00:00<00:00, 960.39it/s]\n",
      "Trial 14/20: Running 500 iterations: 100%|██████████| 500/500 [00:00<00:00, 911.14it/s]\n",
      "Trial 15/20: Running 500 iterations: 100%|██████████| 500/500 [00:00<00:00, 919.52it/s]\n",
      "Trial 16/20: Running 500 iterations: 100%|██████████| 500/500 [00:00<00:00, 899.34it/s]\n",
      "Trial 17/20: Running 500 iterations: 100%|██████████| 500/500 [00:00<00:00, 963.72it/s] \n",
      "Trial 18/20: Running 500 iterations: 100%|██████████| 500/500 [00:00<00:00, 1046.84it/s]\n",
      "Trial 19/20: Running 500 iterations: 100%|██████████| 500/500 [00:00<00:00, 1012.76it/s]\n",
      "Trial 20/20: Running 500 iterations: 100%|██████████| 500/500 [00:00<00:00, 995.90it/s] \n",
      "Unsupported operator aten::max_pool2d encountered 3 time(s)\n",
      "Unsupported operator aten::add encountered 4 time(s)\n"
     ]
    },
    {
     "name": "stdout",
     "output_type": "stream",
     "text": [
      "Processing batch size: 32\n"
     ]
    },
    {
     "name": "stderr",
     "output_type": "stream",
     "text": [
      "Trial 1/20: Running 500 iterations: 100%|██████████| 500/500 [00:00<00:00, 557.69it/s]\n",
      "Trial 2/20: Running 500 iterations: 100%|██████████| 500/500 [00:00<00:00, 563.46it/s]\n",
      "Trial 3/20: Running 500 iterations: 100%|██████████| 500/500 [00:00<00:00, 554.41it/s]\n",
      "Trial 4/20: Running 500 iterations: 100%|██████████| 500/500 [00:00<00:00, 553.40it/s]\n",
      "Trial 5/20: Running 500 iterations: 100%|██████████| 500/500 [00:00<00:00, 546.52it/s]\n",
      "Trial 6/20: Running 500 iterations: 100%|██████████| 500/500 [00:00<00:00, 557.46it/s]\n",
      "Trial 7/20: Running 500 iterations: 100%|██████████| 500/500 [00:00<00:00, 545.50it/s]\n",
      "Trial 8/20: Running 500 iterations: 100%|██████████| 500/500 [00:00<00:00, 562.12it/s]\n",
      "Trial 9/20: Running 500 iterations: 100%|██████████| 500/500 [00:00<00:00, 548.47it/s]\n",
      "Trial 10/20: Running 500 iterations: 100%|██████████| 500/500 [00:00<00:00, 568.97it/s]\n",
      "Trial 11/20: Running 500 iterations: 100%|██████████| 500/500 [00:00<00:00, 567.15it/s]\n",
      "Trial 12/20: Running 500 iterations: 100%|██████████| 500/500 [00:00<00:00, 571.62it/s]\n",
      "Trial 13/20: Running 500 iterations: 100%|██████████| 500/500 [00:00<00:00, 571.58it/s]\n",
      "Trial 14/20: Running 500 iterations: 100%|██████████| 500/500 [00:00<00:00, 569.85it/s]\n",
      "Trial 15/20: Running 500 iterations: 100%|██████████| 500/500 [00:00<00:00, 568.83it/s]\n",
      "Trial 16/20: Running 500 iterations: 100%|██████████| 500/500 [00:00<00:00, 570.18it/s]\n",
      "Trial 17/20: Running 500 iterations: 100%|██████████| 500/500 [00:00<00:00, 563.66it/s]\n",
      "Trial 18/20: Running 500 iterations: 100%|██████████| 500/500 [00:00<00:00, 568.37it/s]\n",
      "Trial 19/20: Running 500 iterations: 100%|██████████| 500/500 [00:00<00:00, 571.72it/s]\n",
      "Trial 20/20: Running 500 iterations: 100%|██████████| 500/500 [00:00<00:00, 569.31it/s]\n",
      "Unsupported operator aten::max_pool2d encountered 3 time(s)\n",
      "Unsupported operator aten::add encountered 4 time(s)\n"
     ]
    },
    {
     "name": "stdout",
     "output_type": "stream",
     "text": [
      "Processing batch size: 64\n"
     ]
    },
    {
     "name": "stderr",
     "output_type": "stream",
     "text": [
      "Trial 1/20: Running 500 iterations: 100%|██████████| 500/500 [00:01<00:00, 326.53it/s]\n",
      "Trial 2/20: Running 500 iterations: 100%|██████████| 500/500 [00:01<00:00, 324.90it/s]\n",
      "Trial 3/20: Running 500 iterations: 100%|██████████| 500/500 [00:01<00:00, 327.68it/s]\n",
      "Trial 4/20: Running 500 iterations: 100%|██████████| 500/500 [00:01<00:00, 323.85it/s]\n",
      "Trial 5/20: Running 500 iterations: 100%|██████████| 500/500 [00:01<00:00, 323.54it/s]\n",
      "Trial 6/20: Running 500 iterations: 100%|██████████| 500/500 [00:01<00:00, 334.42it/s]\n",
      "Trial 7/20: Running 500 iterations: 100%|██████████| 500/500 [00:01<00:00, 334.25it/s]\n",
      "Trial 8/20: Running 500 iterations: 100%|██████████| 500/500 [00:01<00:00, 335.44it/s]\n",
      "Trial 9/20: Running 500 iterations: 100%|██████████| 500/500 [00:01<00:00, 334.42it/s]\n",
      "Trial 10/20: Running 500 iterations: 100%|██████████| 500/500 [00:01<00:00, 335.76it/s]\n",
      "Trial 11/20: Running 500 iterations: 100%|██████████| 500/500 [00:01<00:00, 334.95it/s]\n",
      "Trial 12/20: Running 500 iterations: 100%|██████████| 500/500 [00:01<00:00, 335.41it/s]\n",
      "Trial 13/20: Running 500 iterations: 100%|██████████| 500/500 [00:01<00:00, 335.81it/s]\n",
      "Trial 14/20: Running 500 iterations: 100%|██████████| 500/500 [00:01<00:00, 334.88it/s]\n",
      "Trial 15/20: Running 500 iterations: 100%|██████████| 500/500 [00:01<00:00, 333.78it/s]\n",
      "Trial 16/20: Running 500 iterations: 100%|██████████| 500/500 [00:01<00:00, 336.60it/s]\n",
      "Trial 17/20: Running 500 iterations: 100%|██████████| 500/500 [00:01<00:00, 335.15it/s]\n",
      "Trial 18/20: Running 500 iterations: 100%|██████████| 500/500 [00:01<00:00, 335.47it/s]\n",
      "Trial 19/20: Running 500 iterations: 100%|██████████| 500/500 [00:01<00:00, 334.32it/s]\n",
      "Trial 20/20: Running 500 iterations: 100%|██████████| 500/500 [00:01<00:00, 335.15it/s]\n",
      "Processing Models:  47%|████▋     | 31/66 [1:08:55<1:17:57, 133.65s/it]Unsupported operator aten::max_pool2d encountered 3 time(s)\n",
      "Unsupported operator aten::add encountered 4 time(s)\n"
     ]
    },
    {
     "name": "stdout",
     "output_type": "stream",
     "text": [
      "Processing model: d:\\PruneLimit\\PruneLimitAnalyzer\\models\\AlexNet_DATASET_random_PD5_GPR-65_PRUNED_SEED_23.pth\n",
      "Processing batch size: 1\n"
     ]
    },
    {
     "name": "stderr",
     "output_type": "stream",
     "text": [
      "Trial 1/20: Running 500 iterations: 100%|██████████| 500/500 [00:00<00:00, 840.36it/s]\n",
      "Trial 2/20: Running 500 iterations: 100%|██████████| 500/500 [00:00<00:00, 950.26it/s]\n",
      "Trial 3/20: Running 500 iterations: 100%|██████████| 500/500 [00:00<00:00, 1027.54it/s]\n",
      "Trial 4/20: Running 500 iterations: 100%|██████████| 500/500 [00:00<00:00, 879.13it/s]\n",
      "Trial 5/20: Running 500 iterations: 100%|██████████| 500/500 [00:00<00:00, 871.87it/s]\n",
      "Trial 6/20: Running 500 iterations: 100%|██████████| 500/500 [00:00<00:00, 918.55it/s]\n",
      "Trial 7/20: Running 500 iterations: 100%|██████████| 500/500 [00:00<00:00, 1019.56it/s]\n",
      "Trial 8/20: Running 500 iterations: 100%|██████████| 500/500 [00:00<00:00, 874.19it/s]\n",
      "Trial 9/20: Running 500 iterations: 100%|██████████| 500/500 [00:00<00:00, 821.32it/s]\n",
      "Trial 10/20: Running 500 iterations: 100%|██████████| 500/500 [00:00<00:00, 845.63it/s]\n",
      "Trial 11/20: Running 500 iterations: 100%|██████████| 500/500 [00:00<00:00, 788.72it/s]\n",
      "Trial 12/20: Running 500 iterations: 100%|██████████| 500/500 [00:00<00:00, 896.11it/s]\n",
      "Trial 13/20: Running 500 iterations: 100%|██████████| 500/500 [00:00<00:00, 932.84it/s]\n",
      "Trial 14/20: Running 500 iterations: 100%|██████████| 500/500 [00:00<00:00, 873.80it/s]\n",
      "Trial 15/20: Running 500 iterations: 100%|██████████| 500/500 [00:00<00:00, 870.94it/s]\n",
      "Trial 16/20: Running 500 iterations: 100%|██████████| 500/500 [00:00<00:00, 846.38it/s]\n",
      "Trial 17/20: Running 500 iterations: 100%|██████████| 500/500 [00:00<00:00, 838.70it/s]\n",
      "Trial 18/20: Running 500 iterations: 100%|██████████| 500/500 [00:00<00:00, 1044.75it/s]\n",
      "Trial 19/20: Running 500 iterations: 100%|██████████| 500/500 [00:00<00:00, 1049.07it/s]\n",
      "Trial 20/20: Running 500 iterations: 100%|██████████| 500/500 [00:00<00:00, 1058.60it/s]\n",
      "Unsupported operator aten::max_pool2d encountered 3 time(s)\n",
      "Unsupported operator aten::add encountered 4 time(s)\n"
     ]
    },
    {
     "name": "stdout",
     "output_type": "stream",
     "text": [
      "Processing batch size: 8\n"
     ]
    },
    {
     "name": "stderr",
     "output_type": "stream",
     "text": [
      "Trial 1/20: Running 500 iterations: 100%|██████████| 500/500 [00:00<00:00, 1032.59it/s]\n",
      "Trial 2/20: Running 500 iterations: 100%|██████████| 500/500 [00:00<00:00, 954.47it/s]\n",
      "Trial 3/20: Running 500 iterations: 100%|██████████| 500/500 [00:00<00:00, 1017.81it/s]\n",
      "Trial 4/20: Running 500 iterations: 100%|██████████| 500/500 [00:00<00:00, 1038.83it/s]\n",
      "Trial 5/20: Running 500 iterations: 100%|██████████| 500/500 [00:00<00:00, 1034.80it/s]\n",
      "Trial 6/20: Running 500 iterations: 100%|██████████| 500/500 [00:00<00:00, 1018.41it/s]\n",
      "Trial 7/20: Running 500 iterations: 100%|██████████| 500/500 [00:00<00:00, 995.35it/s] \n",
      "Trial 8/20: Running 500 iterations: 100%|██████████| 500/500 [00:00<00:00, 975.67it/s]\n",
      "Trial 9/20: Running 500 iterations: 100%|██████████| 500/500 [00:00<00:00, 982.42it/s]\n",
      "Trial 10/20: Running 500 iterations: 100%|██████████| 500/500 [00:00<00:00, 1019.19it/s]\n",
      "Trial 11/20: Running 500 iterations: 100%|██████████| 500/500 [00:00<00:00, 1044.41it/s]\n",
      "Trial 12/20: Running 500 iterations: 100%|██████████| 500/500 [00:00<00:00, 1030.92it/s]\n",
      "Trial 13/20: Running 500 iterations: 100%|██████████| 500/500 [00:00<00:00, 1031.62it/s]\n",
      "Trial 14/20: Running 500 iterations: 100%|██████████| 500/500 [00:00<00:00, 859.98it/s]\n",
      "Trial 15/20: Running 500 iterations: 100%|██████████| 500/500 [00:00<00:00, 944.05it/s]\n",
      "Trial 16/20: Running 500 iterations: 100%|██████████| 500/500 [00:00<00:00, 952.93it/s]\n",
      "Trial 17/20: Running 500 iterations: 100%|██████████| 500/500 [00:00<00:00, 988.18it/s]\n",
      "Trial 18/20: Running 500 iterations: 100%|██████████| 500/500 [00:00<00:00, 1031.62it/s]\n",
      "Trial 19/20: Running 500 iterations: 100%|██████████| 500/500 [00:00<00:00, 1022.95it/s]\n",
      "Trial 20/20: Running 500 iterations: 100%|██████████| 500/500 [00:00<00:00, 1030.93it/s]\n",
      "Unsupported operator aten::max_pool2d encountered 3 time(s)\n",
      "Unsupported operator aten::add encountered 4 time(s)\n"
     ]
    },
    {
     "name": "stdout",
     "output_type": "stream",
     "text": [
      "Processing batch size: 16\n"
     ]
    },
    {
     "name": "stderr",
     "output_type": "stream",
     "text": [
      "Trial 1/20: Running 500 iterations: 100%|██████████| 500/500 [00:00<00:00, 907.35it/s]\n",
      "Trial 2/20: Running 500 iterations: 100%|██████████| 500/500 [00:00<00:00, 877.92it/s]\n",
      "Trial 3/20: Running 500 iterations: 100%|██████████| 500/500 [00:00<00:00, 866.95it/s]\n",
      "Trial 4/20: Running 500 iterations: 100%|██████████| 500/500 [00:00<00:00, 918.59it/s]\n",
      "Trial 5/20: Running 500 iterations: 100%|██████████| 500/500 [00:00<00:00, 825.27it/s]\n",
      "Trial 6/20: Running 500 iterations: 100%|██████████| 500/500 [00:00<00:00, 848.59it/s]\n",
      "Trial 7/20: Running 500 iterations: 100%|██████████| 500/500 [00:00<00:00, 969.44it/s]\n",
      "Trial 8/20: Running 500 iterations: 100%|██████████| 500/500 [00:00<00:00, 1033.93it/s]\n",
      "Trial 9/20: Running 500 iterations: 100%|██████████| 500/500 [00:00<00:00, 1001.05it/s]\n",
      "Trial 10/20: Running 500 iterations: 100%|██████████| 500/500 [00:00<00:00, 1031.19it/s]\n",
      "Trial 11/20: Running 500 iterations: 100%|██████████| 500/500 [00:00<00:00, 980.05it/s]\n",
      "Trial 12/20: Running 500 iterations: 100%|██████████| 500/500 [00:00<00:00, 944.64it/s]\n",
      "Trial 13/20: Running 500 iterations: 100%|██████████| 500/500 [00:00<00:00, 1029.46it/s]\n",
      "Trial 14/20: Running 500 iterations: 100%|██████████| 500/500 [00:00<00:00, 961.56it/s]\n",
      "Trial 15/20: Running 500 iterations: 100%|██████████| 500/500 [00:00<00:00, 1008.36it/s]\n",
      "Trial 16/20: Running 500 iterations: 100%|██████████| 500/500 [00:00<00:00, 1035.43it/s]\n",
      "Trial 17/20: Running 500 iterations: 100%|██████████| 500/500 [00:00<00:00, 1017.15it/s]\n",
      "Trial 18/20: Running 500 iterations: 100%|██████████| 500/500 [00:00<00:00, 1048.45it/s]\n",
      "Trial 19/20: Running 500 iterations: 100%|██████████| 500/500 [00:00<00:00, 969.72it/s]\n",
      "Trial 20/20: Running 500 iterations: 100%|██████████| 500/500 [00:00<00:00, 999.45it/s] \n",
      "Unsupported operator aten::max_pool2d encountered 3 time(s)\n",
      "Unsupported operator aten::add encountered 4 time(s)\n"
     ]
    },
    {
     "name": "stdout",
     "output_type": "stream",
     "text": [
      "Processing batch size: 32\n"
     ]
    },
    {
     "name": "stderr",
     "output_type": "stream",
     "text": [
      "Trial 1/20: Running 500 iterations: 100%|██████████| 500/500 [00:00<00:00, 815.42it/s]\n",
      "Trial 2/20: Running 500 iterations: 100%|██████████| 500/500 [00:00<00:00, 788.02it/s]\n",
      "Trial 3/20: Running 500 iterations: 100%|██████████| 500/500 [00:00<00:00, 785.35it/s]\n",
      "Trial 4/20: Running 500 iterations: 100%|██████████| 500/500 [00:00<00:00, 795.84it/s]\n",
      "Trial 5/20: Running 500 iterations: 100%|██████████| 500/500 [00:00<00:00, 783.37it/s]\n",
      "Trial 6/20: Running 500 iterations: 100%|██████████| 500/500 [00:00<00:00, 791.18it/s]\n",
      "Trial 7/20: Running 500 iterations: 100%|██████████| 500/500 [00:00<00:00, 806.33it/s]\n",
      "Trial 8/20: Running 500 iterations: 100%|██████████| 500/500 [00:00<00:00, 783.94it/s]\n",
      "Trial 9/20: Running 500 iterations: 100%|██████████| 500/500 [00:00<00:00, 766.54it/s]\n",
      "Trial 10/20: Running 500 iterations: 100%|██████████| 500/500 [00:00<00:00, 772.11it/s]\n",
      "Trial 11/20: Running 500 iterations: 100%|██████████| 500/500 [00:00<00:00, 771.28it/s]\n",
      "Trial 12/20: Running 500 iterations: 100%|██████████| 500/500 [00:00<00:00, 796.31it/s]\n",
      "Trial 13/20: Running 500 iterations: 100%|██████████| 500/500 [00:00<00:00, 794.12it/s]\n",
      "Trial 14/20: Running 500 iterations: 100%|██████████| 500/500 [00:00<00:00, 817.03it/s]\n",
      "Trial 15/20: Running 500 iterations: 100%|██████████| 500/500 [00:00<00:00, 805.18it/s]\n",
      "Trial 16/20: Running 500 iterations: 100%|██████████| 500/500 [00:00<00:00, 822.95it/s]\n",
      "Trial 17/20: Running 500 iterations: 100%|██████████| 500/500 [00:00<00:00, 821.25it/s]\n",
      "Trial 18/20: Running 500 iterations: 100%|██████████| 500/500 [00:00<00:00, 820.66it/s]\n",
      "Trial 19/20: Running 500 iterations: 100%|██████████| 500/500 [00:00<00:00, 818.79it/s]\n",
      "Trial 20/20: Running 500 iterations: 100%|██████████| 500/500 [00:00<00:00, 826.59it/s]\n",
      "Unsupported operator aten::max_pool2d encountered 3 time(s)\n",
      "Unsupported operator aten::add encountered 4 time(s)\n"
     ]
    },
    {
     "name": "stdout",
     "output_type": "stream",
     "text": [
      "Processing batch size: 64\n"
     ]
    },
    {
     "name": "stderr",
     "output_type": "stream",
     "text": [
      "Trial 1/20: Running 500 iterations: 100%|██████████| 500/500 [00:00<00:00, 500.10it/s]\n",
      "Trial 2/20: Running 500 iterations: 100%|██████████| 500/500 [00:01<00:00, 488.95it/s]\n",
      "Trial 3/20: Running 500 iterations: 100%|██████████| 500/500 [00:01<00:00, 492.63it/s]\n",
      "Trial 4/20: Running 500 iterations: 100%|██████████| 500/500 [00:00<00:00, 500.54it/s]\n",
      "Trial 5/20: Running 500 iterations: 100%|██████████| 500/500 [00:01<00:00, 493.28it/s]\n",
      "Trial 6/20: Running 500 iterations: 100%|██████████| 500/500 [00:00<00:00, 500.44it/s]\n",
      "Trial 7/20: Running 500 iterations: 100%|██████████| 500/500 [00:01<00:00, 491.70it/s]\n",
      "Trial 8/20: Running 500 iterations: 100%|██████████| 500/500 [00:01<00:00, 495.31it/s]\n",
      "Trial 9/20: Running 500 iterations: 100%|██████████| 500/500 [00:00<00:00, 506.30it/s]\n",
      "Trial 10/20: Running 500 iterations: 100%|██████████| 500/500 [00:00<00:00, 506.16it/s]\n",
      "Trial 11/20: Running 500 iterations: 100%|██████████| 500/500 [00:00<00:00, 506.10it/s]\n",
      "Trial 12/20: Running 500 iterations: 100%|██████████| 500/500 [00:00<00:00, 505.36it/s]\n",
      "Trial 13/20: Running 500 iterations: 100%|██████████| 500/500 [00:00<00:00, 509.06it/s]\n",
      "Trial 14/20: Running 500 iterations: 100%|██████████| 500/500 [00:00<00:00, 510.22it/s]\n",
      "Trial 15/20: Running 500 iterations: 100%|██████████| 500/500 [00:00<00:00, 506.12it/s]\n",
      "Trial 16/20: Running 500 iterations: 100%|██████████| 500/500 [00:00<00:00, 511.27it/s]\n",
      "Trial 17/20: Running 500 iterations: 100%|██████████| 500/500 [00:00<00:00, 505.63it/s]\n",
      "Trial 18/20: Running 500 iterations: 100%|██████████| 500/500 [00:00<00:00, 509.72it/s]\n",
      "Trial 19/20: Running 500 iterations: 100%|██████████| 500/500 [00:00<00:00, 506.14it/s]\n",
      "Trial 20/20: Running 500 iterations: 100%|██████████| 500/500 [00:00<00:00, 510.40it/s]\n",
      "Processing Models:  48%|████▊     | 32/66 [1:10:14<1:06:26, 117.26s/it]Unsupported operator aten::max_pool2d encountered 3 time(s)\n",
      "Unsupported operator aten::add encountered 4 time(s)\n"
     ]
    },
    {
     "name": "stdout",
     "output_type": "stream",
     "text": [
      "Processing model: d:\\PruneLimit\\PruneLimitAnalyzer\\models\\AlexNet_DATASET_random_PD4_GPR-40_PRUNED_SEED_23.pth\n",
      "Processing batch size: 1\n"
     ]
    },
    {
     "name": "stderr",
     "output_type": "stream",
     "text": [
      "Trial 1/20: Running 500 iterations: 100%|██████████| 500/500 [00:00<00:00, 878.23it/s]\n",
      "Trial 2/20: Running 500 iterations: 100%|██████████| 500/500 [00:00<00:00, 894.55it/s]\n",
      "Trial 3/20: Running 500 iterations: 100%|██████████| 500/500 [00:00<00:00, 951.42it/s]\n",
      "Trial 4/20: Running 500 iterations: 100%|██████████| 500/500 [00:00<00:00, 947.69it/s]\n",
      "Trial 5/20: Running 500 iterations: 100%|██████████| 500/500 [00:00<00:00, 838.23it/s]\n",
      "Trial 6/20: Running 500 iterations: 100%|██████████| 500/500 [00:00<00:00, 923.70it/s]\n",
      "Trial 7/20: Running 500 iterations: 100%|██████████| 500/500 [00:00<00:00, 815.15it/s]\n",
      "Trial 8/20: Running 500 iterations: 100%|██████████| 500/500 [00:00<00:00, 573.93it/s]\n",
      "Trial 9/20: Running 500 iterations: 100%|██████████| 500/500 [00:00<00:00, 957.81it/s]\n",
      "Trial 10/20: Running 500 iterations: 100%|██████████| 500/500 [00:00<00:00, 857.46it/s]\n",
      "Trial 11/20: Running 500 iterations: 100%|██████████| 500/500 [00:00<00:00, 929.51it/s]\n",
      "Trial 12/20: Running 500 iterations: 100%|██████████| 500/500 [00:00<00:00, 941.62it/s]\n",
      "Trial 13/20: Running 500 iterations: 100%|██████████| 500/500 [00:00<00:00, 930.72it/s]\n",
      "Trial 14/20: Running 500 iterations: 100%|██████████| 500/500 [00:00<00:00, 964.99it/s]\n",
      "Trial 15/20: Running 500 iterations: 100%|██████████| 500/500 [00:00<00:00, 923.52it/s]\n",
      "Trial 16/20: Running 500 iterations: 100%|██████████| 500/500 [00:00<00:00, 960.82it/s]\n",
      "Trial 17/20: Running 500 iterations: 100%|██████████| 500/500 [00:00<00:00, 805.88it/s]\n",
      "Trial 18/20: Running 500 iterations: 100%|██████████| 500/500 [00:00<00:00, 616.31it/s]\n",
      "Trial 19/20: Running 500 iterations: 100%|██████████| 500/500 [00:00<00:00, 572.91it/s]\n",
      "Trial 20/20: Running 500 iterations: 100%|██████████| 500/500 [00:00<00:00, 605.17it/s]\n",
      "Unsupported operator aten::max_pool2d encountered 3 time(s)\n",
      "Unsupported operator aten::add encountered 4 time(s)\n"
     ]
    },
    {
     "name": "stdout",
     "output_type": "stream",
     "text": [
      "Processing batch size: 8\n"
     ]
    },
    {
     "name": "stderr",
     "output_type": "stream",
     "text": [
      "Trial 1/20: Running 500 iterations: 100%|██████████| 500/500 [00:00<00:00, 658.59it/s]\n",
      "Trial 2/20: Running 500 iterations: 100%|██████████| 500/500 [00:00<00:00, 670.61it/s]\n",
      "Trial 3/20: Running 500 iterations: 100%|██████████| 500/500 [00:00<00:00, 595.26it/s]\n",
      "Trial 4/20: Running 500 iterations: 100%|██████████| 500/500 [00:00<00:00, 926.24it/s]\n",
      "Trial 5/20: Running 500 iterations: 100%|██████████| 500/500 [00:00<00:00, 920.67it/s]\n",
      "Trial 6/20: Running 500 iterations: 100%|██████████| 500/500 [00:00<00:00, 868.30it/s]\n",
      "Trial 7/20: Running 500 iterations: 100%|██████████| 500/500 [00:00<00:00, 919.60it/s]\n",
      "Trial 8/20: Running 500 iterations: 100%|██████████| 500/500 [00:00<00:00, 850.31it/s]\n",
      "Trial 9/20: Running 500 iterations: 100%|██████████| 500/500 [00:00<00:00, 894.08it/s]\n",
      "Trial 10/20: Running 500 iterations: 100%|██████████| 500/500 [00:00<00:00, 908.14it/s]\n",
      "Trial 11/20: Running 500 iterations: 100%|██████████| 500/500 [00:00<00:00, 808.78it/s]\n",
      "Trial 12/20: Running 500 iterations: 100%|██████████| 500/500 [00:00<00:00, 811.42it/s]\n",
      "Trial 13/20: Running 500 iterations: 100%|██████████| 500/500 [00:00<00:00, 936.83it/s]\n",
      "Trial 14/20: Running 500 iterations: 100%|██████████| 500/500 [00:00<00:00, 808.78it/s]\n",
      "Trial 15/20: Running 500 iterations: 100%|██████████| 500/500 [00:00<00:00, 837.67it/s]\n",
      "Trial 16/20: Running 500 iterations: 100%|██████████| 500/500 [00:00<00:00, 961.15it/s]\n",
      "Trial 17/20: Running 500 iterations: 100%|██████████| 500/500 [00:00<00:00, 944.62it/s]\n",
      "Trial 18/20: Running 500 iterations: 100%|██████████| 500/500 [00:00<00:00, 922.24it/s]\n",
      "Trial 19/20: Running 500 iterations: 100%|██████████| 500/500 [00:00<00:00, 883.51it/s]\n",
      "Trial 20/20: Running 500 iterations: 100%|██████████| 500/500 [00:00<00:00, 952.92it/s]\n",
      "Unsupported operator aten::max_pool2d encountered 3 time(s)\n",
      "Unsupported operator aten::add encountered 4 time(s)\n"
     ]
    },
    {
     "name": "stdout",
     "output_type": "stream",
     "text": [
      "Processing batch size: 16\n"
     ]
    },
    {
     "name": "stderr",
     "output_type": "stream",
     "text": [
      "Trial 1/20: Running 500 iterations: 100%|██████████| 500/500 [00:00<00:00, 818.91it/s]\n",
      "Trial 2/20: Running 500 iterations: 100%|██████████| 500/500 [00:00<00:00, 796.25it/s]\n",
      "Trial 3/20: Running 500 iterations: 100%|██████████| 500/500 [00:00<00:00, 793.54it/s]\n",
      "Trial 4/20: Running 500 iterations: 100%|██████████| 500/500 [00:00<00:00, 818.35it/s]\n",
      "Trial 5/20: Running 500 iterations: 100%|██████████| 500/500 [00:00<00:00, 784.76it/s]\n",
      "Trial 6/20: Running 500 iterations: 100%|██████████| 500/500 [00:00<00:00, 808.28it/s]\n",
      "Trial 7/20: Running 500 iterations: 100%|██████████| 500/500 [00:00<00:00, 785.69it/s]\n",
      "Trial 8/20: Running 500 iterations: 100%|██████████| 500/500 [00:00<00:00, 809.61it/s]\n",
      "Trial 9/20: Running 500 iterations: 100%|██████████| 500/500 [00:00<00:00, 812.54it/s]\n",
      "Trial 10/20: Running 500 iterations: 100%|██████████| 500/500 [00:00<00:00, 781.17it/s]\n",
      "Trial 11/20: Running 500 iterations: 100%|██████████| 500/500 [00:00<00:00, 772.88it/s]\n",
      "Trial 12/20: Running 500 iterations: 100%|██████████| 500/500 [00:00<00:00, 812.56it/s]\n",
      "Trial 13/20: Running 500 iterations: 100%|██████████| 500/500 [00:00<00:00, 815.30it/s]\n",
      "Trial 14/20: Running 500 iterations: 100%|██████████| 500/500 [00:00<00:00, 814.62it/s]\n",
      "Trial 15/20: Running 500 iterations: 100%|██████████| 500/500 [00:00<00:00, 828.64it/s]\n",
      "Trial 16/20: Running 500 iterations: 100%|██████████| 500/500 [00:00<00:00, 829.07it/s]\n",
      "Trial 17/20: Running 500 iterations: 100%|██████████| 500/500 [00:00<00:00, 838.71it/s]\n",
      "Trial 18/20: Running 500 iterations: 100%|██████████| 500/500 [00:00<00:00, 825.99it/s]\n",
      "Trial 19/20: Running 500 iterations: 100%|██████████| 500/500 [00:00<00:00, 830.41it/s]\n",
      "Trial 20/20: Running 500 iterations: 100%|██████████| 500/500 [00:00<00:00, 822.59it/s]\n",
      "Unsupported operator aten::max_pool2d encountered 3 time(s)\n",
      "Unsupported operator aten::add encountered 4 time(s)\n"
     ]
    },
    {
     "name": "stdout",
     "output_type": "stream",
     "text": [
      "Processing batch size: 32\n"
     ]
    },
    {
     "name": "stderr",
     "output_type": "stream",
     "text": [
      "Trial 1/20: Running 500 iterations: 100%|██████████| 500/500 [00:01<00:00, 485.24it/s]\n",
      "Trial 2/20: Running 500 iterations: 100%|██████████| 500/500 [00:01<00:00, 482.28it/s]\n",
      "Trial 3/20: Running 500 iterations: 100%|██████████| 500/500 [00:01<00:00, 488.13it/s]\n",
      "Trial 4/20: Running 500 iterations: 100%|██████████| 500/500 [00:01<00:00, 488.03it/s]\n",
      "Trial 5/20: Running 500 iterations: 100%|██████████| 500/500 [00:01<00:00, 488.19it/s]\n",
      "Trial 6/20: Running 500 iterations: 100%|██████████| 500/500 [00:01<00:00, 479.66it/s]\n",
      "Trial 7/20: Running 500 iterations: 100%|██████████| 500/500 [00:01<00:00, 491.98it/s]\n",
      "Trial 8/20: Running 500 iterations: 100%|██████████| 500/500 [00:01<00:00, 487.21it/s]\n",
      "Trial 9/20: Running 500 iterations: 100%|██████████| 500/500 [00:01<00:00, 497.01it/s]\n",
      "Trial 10/20: Running 500 iterations: 100%|██████████| 500/500 [00:00<00:00, 504.94it/s]\n",
      "Trial 11/20: Running 500 iterations: 100%|██████████| 500/500 [00:00<00:00, 506.96it/s]\n",
      "Trial 12/20: Running 500 iterations: 100%|██████████| 500/500 [00:00<00:00, 502.77it/s]\n",
      "Trial 13/20: Running 500 iterations: 100%|██████████| 500/500 [00:00<00:00, 503.77it/s]\n",
      "Trial 14/20: Running 500 iterations: 100%|██████████| 500/500 [00:00<00:00, 501.88it/s]\n",
      "Trial 15/20: Running 500 iterations: 100%|██████████| 500/500 [00:01<00:00, 499.78it/s]\n",
      "Trial 16/20: Running 500 iterations: 100%|██████████| 500/500 [00:00<00:00, 502.61it/s]\n",
      "Trial 17/20: Running 500 iterations: 100%|██████████| 500/500 [00:00<00:00, 500.81it/s]\n",
      "Trial 18/20: Running 500 iterations: 100%|██████████| 500/500 [00:00<00:00, 501.57it/s]\n",
      "Trial 19/20: Running 500 iterations: 100%|██████████| 500/500 [00:00<00:00, 500.41it/s]\n",
      "Trial 20/20: Running 500 iterations: 100%|██████████| 500/500 [00:00<00:00, 500.98it/s]\n",
      "Unsupported operator aten::max_pool2d encountered 3 time(s)\n",
      "Unsupported operator aten::add encountered 4 time(s)\n"
     ]
    },
    {
     "name": "stdout",
     "output_type": "stream",
     "text": [
      "Processing batch size: 64\n"
     ]
    },
    {
     "name": "stderr",
     "output_type": "stream",
     "text": [
      "Trial 1/20: Running 500 iterations: 100%|██████████| 500/500 [00:01<00:00, 267.78it/s]\n",
      "Trial 2/20: Running 500 iterations: 100%|██████████| 500/500 [00:01<00:00, 267.78it/s]\n",
      "Trial 3/20: Running 500 iterations: 100%|██████████| 500/500 [00:01<00:00, 267.79it/s]\n",
      "Trial 4/20: Running 500 iterations: 100%|██████████| 500/500 [00:01<00:00, 267.37it/s]\n",
      "Trial 5/20: Running 500 iterations: 100%|██████████| 500/500 [00:01<00:00, 272.20it/s]\n",
      "Trial 6/20: Running 500 iterations: 100%|██████████| 500/500 [00:01<00:00, 274.09it/s]\n",
      "Trial 7/20: Running 500 iterations: 100%|██████████| 500/500 [00:01<00:00, 273.05it/s]\n",
      "Trial 8/20: Running 500 iterations: 100%|██████████| 500/500 [00:01<00:00, 272.63it/s]\n",
      "Trial 9/20: Running 500 iterations: 100%|██████████| 500/500 [00:01<00:00, 273.03it/s]\n",
      "Trial 10/20: Running 500 iterations: 100%|██████████| 500/500 [00:01<00:00, 272.63it/s]\n",
      "Trial 11/20: Running 500 iterations: 100%|██████████| 500/500 [00:01<00:00, 274.03it/s]\n",
      "Trial 12/20: Running 500 iterations: 100%|██████████| 500/500 [00:01<00:00, 274.13it/s]\n",
      "Trial 13/20: Running 500 iterations: 100%|██████████| 500/500 [00:01<00:00, 274.23it/s]\n",
      "Trial 14/20: Running 500 iterations: 100%|██████████| 500/500 [00:01<00:00, 273.13it/s]\n",
      "Trial 15/20: Running 500 iterations: 100%|██████████| 500/500 [00:01<00:00, 273.46it/s]\n",
      "Trial 16/20: Running 500 iterations: 100%|██████████| 500/500 [00:01<00:00, 271.84it/s]\n",
      "Trial 17/20: Running 500 iterations: 100%|██████████| 500/500 [00:01<00:00, 273.31it/s]\n",
      "Trial 18/20: Running 500 iterations: 100%|██████████| 500/500 [00:01<00:00, 274.26it/s]\n",
      "Trial 19/20: Running 500 iterations: 100%|██████████| 500/500 [00:01<00:00, 272.77it/s]\n",
      "Trial 20/20: Running 500 iterations: 100%|██████████| 500/500 [00:01<00:00, 273.61it/s]\n",
      "Processing Models:  50%|█████     | 33/66 [1:12:10<1:04:17, 116.91s/it]"
     ]
    },
    {
     "name": "stdout",
     "output_type": "stream",
     "text": [
      "Processing model: d:\\PruneLimit\\PruneLimitAnalyzer\\models\\AlexNet_DATASET_random_PD1_GPR-35_PRUNED_SEED_23.pth\n",
      "Processing batch size: 1\n"
     ]
    },
    {
     "name": "stderr",
     "output_type": "stream",
     "text": [
      "Unsupported operator aten::max_pool2d encountered 3 time(s)\n",
      "Unsupported operator aten::add encountered 4 time(s)\n",
      "Trial 1/20: Running 500 iterations: 100%|██████████| 500/500 [00:00<00:00, 913.88it/s]\n",
      "Trial 2/20: Running 500 iterations: 100%|██████████| 500/500 [00:00<00:00, 879.23it/s]\n",
      "Trial 3/20: Running 500 iterations: 100%|██████████| 500/500 [00:00<00:00, 833.07it/s]\n",
      "Trial 4/20: Running 500 iterations: 100%|██████████| 500/500 [00:00<00:00, 878.67it/s]\n",
      "Trial 5/20: Running 500 iterations: 100%|██████████| 500/500 [00:00<00:00, 869.69it/s]\n",
      "Trial 6/20: Running 500 iterations: 100%|██████████| 500/500 [00:00<00:00, 913.29it/s]\n",
      "Trial 7/20: Running 500 iterations: 100%|██████████| 500/500 [00:00<00:00, 771.03it/s]\n",
      "Trial 8/20: Running 500 iterations: 100%|██████████| 500/500 [00:00<00:00, 676.17it/s]\n",
      "Trial 9/20: Running 500 iterations: 100%|██████████| 500/500 [00:00<00:00, 913.70it/s]\n",
      "Trial 10/20: Running 500 iterations: 100%|██████████| 500/500 [00:00<00:00, 808.83it/s]\n",
      "Trial 11/20: Running 500 iterations: 100%|██████████| 500/500 [00:00<00:00, 951.12it/s]\n",
      "Trial 12/20: Running 500 iterations: 100%|██████████| 500/500 [00:00<00:00, 879.53it/s]\n",
      "Trial 13/20: Running 500 iterations: 100%|██████████| 500/500 [00:00<00:00, 882.26it/s]\n",
      "Trial 14/20: Running 500 iterations: 100%|██████████| 500/500 [00:00<00:00, 921.35it/s]\n",
      "Trial 15/20: Running 500 iterations: 100%|██████████| 500/500 [00:00<00:00, 935.96it/s]\n",
      "Trial 16/20: Running 500 iterations: 100%|██████████| 500/500 [00:00<00:00, 948.14it/s]\n",
      "Trial 17/20: Running 500 iterations: 100%|██████████| 500/500 [00:00<00:00, 937.62it/s]\n",
      "Trial 18/20: Running 500 iterations: 100%|██████████| 500/500 [00:00<00:00, 948.92it/s]\n",
      "Trial 19/20: Running 500 iterations: 100%|██████████| 500/500 [00:00<00:00, 954.67it/s]\n",
      "Trial 20/20: Running 500 iterations: 100%|██████████| 500/500 [00:00<00:00, 941.84it/s]\n",
      "Unsupported operator aten::max_pool2d encountered 3 time(s)\n",
      "Unsupported operator aten::add encountered 4 time(s)\n"
     ]
    },
    {
     "name": "stdout",
     "output_type": "stream",
     "text": [
      "Processing batch size: 8\n"
     ]
    },
    {
     "name": "stderr",
     "output_type": "stream",
     "text": [
      "Trial 1/20: Running 500 iterations: 100%|██████████| 500/500 [00:00<00:00, 723.58it/s]\n",
      "Trial 2/20: Running 500 iterations: 100%|██████████| 500/500 [00:00<00:00, 635.06it/s]\n",
      "Trial 3/20: Running 500 iterations: 100%|██████████| 500/500 [00:00<00:00, 683.20it/s]\n",
      "Trial 4/20: Running 500 iterations: 100%|██████████| 500/500 [00:00<00:00, 663.29it/s]\n",
      "Trial 5/20: Running 500 iterations: 100%|██████████| 500/500 [00:00<00:00, 1044.68it/s]\n",
      "Trial 6/20: Running 500 iterations: 100%|██████████| 500/500 [00:00<00:00, 674.65it/s]\n",
      "Trial 7/20: Running 500 iterations: 100%|██████████| 500/500 [00:00<00:00, 694.45it/s]\n",
      "Trial 8/20: Running 500 iterations: 100%|██████████| 500/500 [00:00<00:00, 996.79it/s] \n",
      "Trial 9/20: Running 500 iterations: 100%|██████████| 500/500 [00:00<00:00, 979.24it/s]\n",
      "Trial 10/20: Running 500 iterations: 100%|██████████| 500/500 [00:00<00:00, 930.35it/s]\n",
      "Trial 11/20: Running 500 iterations: 100%|██████████| 500/500 [00:00<00:00, 984.84it/s]\n",
      "Trial 12/20: Running 500 iterations: 100%|██████████| 500/500 [00:00<00:00, 955.35it/s]\n",
      "Trial 13/20: Running 500 iterations: 100%|██████████| 500/500 [00:00<00:00, 921.82it/s]\n",
      "Trial 14/20: Running 500 iterations: 100%|██████████| 500/500 [00:00<00:00, 971.37it/s]\n",
      "Trial 15/20: Running 500 iterations: 100%|██████████| 500/500 [00:00<00:00, 1018.55it/s]\n",
      "Trial 16/20: Running 500 iterations: 100%|██████████| 500/500 [00:00<00:00, 944.31it/s]\n",
      "Trial 17/20: Running 500 iterations: 100%|██████████| 500/500 [00:00<00:00, 859.62it/s]\n",
      "Trial 18/20: Running 500 iterations: 100%|██████████| 500/500 [00:00<00:00, 908.74it/s]\n",
      "Trial 19/20: Running 500 iterations: 100%|██████████| 500/500 [00:00<00:00, 1041.71it/s]\n",
      "Trial 20/20: Running 500 iterations: 100%|██████████| 500/500 [00:00<00:00, 849.31it/s]\n",
      "Unsupported operator aten::max_pool2d encountered 3 time(s)\n",
      "Unsupported operator aten::add encountered 4 time(s)\n"
     ]
    },
    {
     "name": "stdout",
     "output_type": "stream",
     "text": [
      "Processing batch size: 16\n"
     ]
    },
    {
     "name": "stderr",
     "output_type": "stream",
     "text": [
      "Trial 1/20: Running 500 iterations: 100%|██████████| 500/500 [00:00<00:00, 756.96it/s]\n",
      "Trial 2/20: Running 500 iterations: 100%|██████████| 500/500 [00:00<00:00, 746.19it/s]\n",
      "Trial 3/20: Running 500 iterations: 100%|██████████| 500/500 [00:00<00:00, 746.83it/s]\n",
      "Trial 4/20: Running 500 iterations: 100%|██████████| 500/500 [00:00<00:00, 744.08it/s]\n",
      "Trial 5/20: Running 500 iterations: 100%|██████████| 500/500 [00:00<00:00, 755.37it/s]\n",
      "Trial 6/20: Running 500 iterations: 100%|██████████| 500/500 [00:00<00:00, 762.32it/s]\n",
      "Trial 7/20: Running 500 iterations: 100%|██████████| 500/500 [00:00<00:00, 740.49it/s]\n",
      "Trial 8/20: Running 500 iterations: 100%|██████████| 500/500 [00:00<00:00, 756.54it/s]\n",
      "Trial 9/20: Running 500 iterations: 100%|██████████| 500/500 [00:00<00:00, 737.26it/s]\n",
      "Trial 10/20: Running 500 iterations: 100%|██████████| 500/500 [00:00<00:00, 738.26it/s]\n",
      "Trial 11/20: Running 500 iterations: 100%|██████████| 500/500 [00:00<00:00, 750.02it/s]\n",
      "Trial 12/20: Running 500 iterations: 100%|██████████| 500/500 [00:00<00:00, 750.45it/s]\n",
      "Trial 13/20: Running 500 iterations: 100%|██████████| 500/500 [00:00<00:00, 667.10it/s]\n",
      "Trial 14/20: Running 500 iterations: 100%|██████████| 500/500 [00:00<00:00, 613.58it/s]\n",
      "Trial 15/20: Running 500 iterations: 100%|██████████| 500/500 [00:00<00:00, 765.39it/s]\n",
      "Trial 16/20: Running 500 iterations: 100%|██████████| 500/500 [00:00<00:00, 767.25it/s]\n",
      "Trial 17/20: Running 500 iterations: 100%|██████████| 500/500 [00:00<00:00, 772.10it/s]\n",
      "Trial 18/20: Running 500 iterations: 100%|██████████| 500/500 [00:00<00:00, 764.03it/s]\n",
      "Trial 19/20: Running 500 iterations: 100%|██████████| 500/500 [00:00<00:00, 774.77it/s]\n",
      "Trial 20/20: Running 500 iterations: 100%|██████████| 500/500 [00:00<00:00, 771.24it/s]\n",
      "Unsupported operator aten::max_pool2d encountered 3 time(s)\n",
      "Unsupported operator aten::add encountered 4 time(s)\n"
     ]
    },
    {
     "name": "stdout",
     "output_type": "stream",
     "text": [
      "Processing batch size: 32\n"
     ]
    },
    {
     "name": "stderr",
     "output_type": "stream",
     "text": [
      "Trial 1/20: Running 500 iterations: 100%|██████████| 500/500 [00:01<00:00, 409.58it/s]\n",
      "Trial 2/20: Running 500 iterations: 100%|██████████| 500/500 [00:01<00:00, 405.78it/s]\n",
      "Trial 3/20: Running 500 iterations: 100%|██████████| 500/500 [00:01<00:00, 404.14it/s]\n",
      "Trial 4/20: Running 500 iterations: 100%|██████████| 500/500 [00:01<00:00, 404.88it/s]\n",
      "Trial 5/20: Running 500 iterations: 100%|██████████| 500/500 [00:01<00:00, 403.60it/s]\n",
      "Trial 6/20: Running 500 iterations: 100%|██████████| 500/500 [00:01<00:00, 402.01it/s]\n",
      "Trial 7/20: Running 500 iterations: 100%|██████████| 500/500 [00:01<00:00, 410.54it/s]\n",
      "Trial 8/20: Running 500 iterations: 100%|██████████| 500/500 [00:01<00:00, 416.71it/s]\n",
      "Trial 9/20: Running 500 iterations: 100%|██████████| 500/500 [00:01<00:00, 417.78it/s]\n",
      "Trial 10/20: Running 500 iterations: 100%|██████████| 500/500 [00:01<00:00, 417.75it/s]\n",
      "Trial 11/20: Running 500 iterations: 100%|██████████| 500/500 [00:01<00:00, 417.59it/s]\n",
      "Trial 12/20: Running 500 iterations: 100%|██████████| 500/500 [00:01<00:00, 417.18it/s]\n",
      "Trial 13/20: Running 500 iterations: 100%|██████████| 500/500 [00:01<00:00, 413.79it/s]\n",
      "Trial 14/20: Running 500 iterations: 100%|██████████| 500/500 [00:01<00:00, 415.35it/s]\n",
      "Trial 15/20: Running 500 iterations: 100%|██████████| 500/500 [00:01<00:00, 416.70it/s]\n",
      "Trial 16/20: Running 500 iterations: 100%|██████████| 500/500 [00:01<00:00, 415.73it/s]\n",
      "Trial 17/20: Running 500 iterations: 100%|██████████| 500/500 [00:01<00:00, 412.50it/s]\n",
      "Trial 18/20: Running 500 iterations: 100%|██████████| 500/500 [00:01<00:00, 413.43it/s]\n",
      "Trial 19/20: Running 500 iterations: 100%|██████████| 500/500 [00:01<00:00, 413.31it/s]\n",
      "Trial 20/20: Running 500 iterations: 100%|██████████| 500/500 [00:01<00:00, 412.08it/s]\n",
      "Unsupported operator aten::max_pool2d encountered 3 time(s)\n",
      "Unsupported operator aten::add encountered 4 time(s)\n"
     ]
    },
    {
     "name": "stdout",
     "output_type": "stream",
     "text": [
      "Processing batch size: 64\n"
     ]
    },
    {
     "name": "stderr",
     "output_type": "stream",
     "text": [
      "Trial 1/20: Running 500 iterations: 100%|██████████| 500/500 [00:02<00:00, 240.11it/s]\n",
      "Trial 2/20: Running 500 iterations: 100%|██████████| 500/500 [00:02<00:00, 240.50it/s]\n",
      "Trial 3/20: Running 500 iterations: 100%|██████████| 500/500 [00:02<00:00, 239.52it/s]\n",
      "Trial 4/20: Running 500 iterations: 100%|██████████| 500/500 [00:02<00:00, 239.55it/s]\n",
      "Trial 5/20: Running 500 iterations: 100%|██████████| 500/500 [00:02<00:00, 246.38it/s]\n",
      "Trial 6/20: Running 500 iterations: 100%|██████████| 500/500 [00:02<00:00, 244.94it/s]\n",
      "Trial 7/20: Running 500 iterations: 100%|██████████| 500/500 [00:02<00:00, 245.41it/s]\n",
      "Trial 8/20: Running 500 iterations: 100%|██████████| 500/500 [00:02<00:00, 245.80it/s]\n",
      "Trial 9/20: Running 500 iterations: 100%|██████████| 500/500 [00:02<00:00, 246.26it/s]\n",
      "Trial 10/20: Running 500 iterations: 100%|██████████| 500/500 [00:02<00:00, 246.12it/s]\n",
      "Trial 11/20: Running 500 iterations: 100%|██████████| 500/500 [00:02<00:00, 247.02it/s]\n",
      "Trial 12/20: Running 500 iterations: 100%|██████████| 500/500 [00:02<00:00, 246.32it/s]\n",
      "Trial 13/20: Running 500 iterations: 100%|██████████| 500/500 [00:02<00:00, 246.17it/s]\n",
      "Trial 14/20: Running 500 iterations: 100%|██████████| 500/500 [00:02<00:00, 246.74it/s]\n",
      "Trial 15/20: Running 500 iterations: 100%|██████████| 500/500 [00:02<00:00, 245.32it/s]\n",
      "Trial 16/20: Running 500 iterations: 100%|██████████| 500/500 [00:02<00:00, 246.06it/s]\n",
      "Trial 17/20: Running 500 iterations: 100%|██████████| 500/500 [00:02<00:00, 246.53it/s]\n",
      "Trial 18/20: Running 500 iterations: 100%|██████████| 500/500 [00:02<00:00, 246.34it/s]\n",
      "Trial 19/20: Running 500 iterations: 100%|██████████| 500/500 [00:02<00:00, 247.06it/s]\n",
      "Trial 20/20: Running 500 iterations: 100%|██████████| 500/500 [00:02<00:00, 246.86it/s]\n",
      "Processing Models:  52%|█████▏    | 34/66 [1:14:16<1:03:54, 119.82s/it]"
     ]
    },
    {
     "name": "stdout",
     "output_type": "stream",
     "text": [
      "Processing model: d:\\PruneLimit\\PruneLimitAnalyzer\\models\\AlexNet_DATASET_random_PD4_GPR-30_PRUNED_SEED_23.pth\n",
      "Processing batch size: 1\n"
     ]
    },
    {
     "name": "stderr",
     "output_type": "stream",
     "text": [
      "Unsupported operator aten::max_pool2d encountered 3 time(s)\n",
      "Unsupported operator aten::add encountered 4 time(s)\n",
      "Trial 1/20: Running 500 iterations: 100%|██████████| 500/500 [00:00<00:00, 801.00it/s]\n",
      "Trial 2/20: Running 500 iterations: 100%|██████████| 500/500 [00:00<00:00, 885.32it/s]\n",
      "Trial 3/20: Running 500 iterations: 100%|██████████| 500/500 [00:00<00:00, 816.97it/s]\n",
      "Trial 4/20: Running 500 iterations: 100%|██████████| 500/500 [00:00<00:00, 913.28it/s]\n",
      "Trial 5/20: Running 500 iterations: 100%|██████████| 500/500 [00:00<00:00, 840.65it/s]\n",
      "Trial 6/20: Running 500 iterations: 100%|██████████| 500/500 [00:00<00:00, 867.63it/s]\n",
      "Trial 7/20: Running 500 iterations: 100%|██████████| 500/500 [00:00<00:00, 799.82it/s]\n",
      "Trial 8/20: Running 500 iterations: 100%|██████████| 500/500 [00:00<00:00, 833.70it/s]\n",
      "Trial 9/20: Running 500 iterations: 100%|██████████| 500/500 [00:00<00:00, 982.97it/s]\n",
      "Trial 10/20: Running 500 iterations: 100%|██████████| 500/500 [00:00<00:00, 970.38it/s]\n",
      "Trial 11/20: Running 500 iterations: 100%|██████████| 500/500 [00:00<00:00, 981.86it/s]\n",
      "Trial 12/20: Running 500 iterations: 100%|██████████| 500/500 [00:00<00:00, 997.11it/s]\n",
      "Trial 13/20: Running 500 iterations: 100%|██████████| 500/500 [00:00<00:00, 982.36it/s]\n",
      "Trial 14/20: Running 500 iterations: 100%|██████████| 500/500 [00:00<00:00, 946.73it/s]\n",
      "Trial 15/20: Running 500 iterations: 100%|██████████| 500/500 [00:00<00:00, 927.99it/s]\n",
      "Trial 16/20: Running 500 iterations: 100%|██████████| 500/500 [00:00<00:00, 1007.60it/s]\n",
      "Trial 17/20: Running 500 iterations: 100%|██████████| 500/500 [00:00<00:00, 969.90it/s]\n",
      "Trial 18/20: Running 500 iterations: 100%|██████████| 500/500 [00:00<00:00, 937.55it/s]\n",
      "Trial 19/20: Running 500 iterations: 100%|██████████| 500/500 [00:00<00:00, 1005.89it/s]\n",
      "Trial 20/20: Running 500 iterations: 100%|██████████| 500/500 [00:00<00:00, 959.29it/s] \n",
      "Unsupported operator aten::max_pool2d encountered 3 time(s)\n",
      "Unsupported operator aten::add encountered 4 time(s)\n"
     ]
    },
    {
     "name": "stdout",
     "output_type": "stream",
     "text": [
      "Processing batch size: 8\n"
     ]
    },
    {
     "name": "stderr",
     "output_type": "stream",
     "text": [
      "Trial 1/20: Running 500 iterations: 100%|██████████| 500/500 [00:00<00:00, 973.76it/s] \n",
      "Trial 2/20: Running 500 iterations: 100%|██████████| 500/500 [00:00<00:00, 993.95it/s]\n",
      "Trial 3/20: Running 500 iterations: 100%|██████████| 500/500 [00:00<00:00, 1000.51it/s]\n",
      "Trial 4/20: Running 500 iterations: 100%|██████████| 500/500 [00:00<00:00, 975.76it/s]\n",
      "Trial 5/20: Running 500 iterations: 100%|██████████| 500/500 [00:00<00:00, 887.53it/s]\n",
      "Trial 6/20: Running 500 iterations: 100%|██████████| 500/500 [00:00<00:00, 830.00it/s]\n",
      "Trial 7/20: Running 500 iterations: 100%|██████████| 500/500 [00:00<00:00, 971.12it/s]\n",
      "Trial 8/20: Running 500 iterations: 100%|██████████| 500/500 [00:00<00:00, 875.05it/s]\n",
      "Trial 9/20: Running 500 iterations: 100%|██████████| 500/500 [00:00<00:00, 968.97it/s]\n",
      "Trial 10/20: Running 500 iterations: 100%|██████████| 500/500 [00:00<00:00, 877.95it/s]\n",
      "Trial 11/20: Running 500 iterations: 100%|██████████| 500/500 [00:00<00:00, 880.82it/s]\n",
      "Trial 12/20: Running 500 iterations: 100%|██████████| 500/500 [00:00<00:00, 917.22it/s]\n",
      "Trial 13/20: Running 500 iterations: 100%|██████████| 500/500 [00:00<00:00, 948.59it/s]\n",
      "Trial 14/20: Running 500 iterations: 100%|██████████| 500/500 [00:00<00:00, 957.95it/s]\n",
      "Trial 15/20: Running 500 iterations: 100%|██████████| 500/500 [00:00<00:00, 889.66it/s]\n",
      "Trial 16/20: Running 500 iterations: 100%|██████████| 500/500 [00:00<00:00, 861.77it/s]\n",
      "Trial 17/20: Running 500 iterations: 100%|██████████| 500/500 [00:00<00:00, 883.58it/s]\n",
      "Trial 18/20: Running 500 iterations: 100%|██████████| 500/500 [00:00<00:00, 959.54it/s] \n",
      "Trial 19/20: Running 500 iterations: 100%|██████████| 500/500 [00:00<00:00, 1011.41it/s]\n",
      "Trial 20/20: Running 500 iterations: 100%|██████████| 500/500 [00:00<00:00, 976.69it/s]\n",
      "Unsupported operator aten::max_pool2d encountered 3 time(s)\n",
      "Unsupported operator aten::add encountered 4 time(s)\n"
     ]
    },
    {
     "name": "stdout",
     "output_type": "stream",
     "text": [
      "Processing batch size: 16\n"
     ]
    },
    {
     "name": "stderr",
     "output_type": "stream",
     "text": [
      "Trial 1/20: Running 500 iterations: 100%|██████████| 500/500 [00:00<00:00, 656.08it/s]\n",
      "Trial 2/20: Running 500 iterations: 100%|██████████| 500/500 [00:00<00:00, 656.50it/s]\n",
      "Trial 3/20: Running 500 iterations: 100%|██████████| 500/500 [00:00<00:00, 660.56it/s]\n",
      "Trial 4/20: Running 500 iterations: 100%|██████████| 500/500 [00:00<00:00, 651.82it/s]\n",
      "Trial 5/20: Running 500 iterations: 100%|██████████| 500/500 [00:00<00:00, 659.17it/s]\n",
      "Trial 6/20: Running 500 iterations: 100%|██████████| 500/500 [00:00<00:00, 648.33it/s]\n",
      "Trial 7/20: Running 500 iterations: 100%|██████████| 500/500 [00:00<00:00, 666.03it/s]\n",
      "Trial 8/20: Running 500 iterations: 100%|██████████| 500/500 [00:00<00:00, 648.76it/s]\n",
      "Trial 9/20: Running 500 iterations: 100%|██████████| 500/500 [00:00<00:00, 647.53it/s]\n",
      "Trial 10/20: Running 500 iterations: 100%|██████████| 500/500 [00:00<00:00, 655.91it/s]\n",
      "Trial 11/20: Running 500 iterations: 100%|██████████| 500/500 [00:00<00:00, 654.05it/s]\n",
      "Trial 12/20: Running 500 iterations: 100%|██████████| 500/500 [00:00<00:00, 671.45it/s]\n",
      "Trial 13/20: Running 500 iterations: 100%|██████████| 500/500 [00:00<00:00, 668.45it/s]\n",
      "Trial 14/20: Running 500 iterations: 100%|██████████| 500/500 [00:00<00:00, 681.90it/s]\n",
      "Trial 15/20: Running 500 iterations: 100%|██████████| 500/500 [00:00<00:00, 669.68it/s]\n",
      "Trial 16/20: Running 500 iterations: 100%|██████████| 500/500 [00:00<00:00, 678.89it/s]\n",
      "Trial 17/20: Running 500 iterations: 100%|██████████| 500/500 [00:00<00:00, 667.28it/s]\n",
      "Trial 18/20: Running 500 iterations: 100%|██████████| 500/500 [00:00<00:00, 659.69it/s]\n",
      "Trial 19/20: Running 500 iterations: 100%|██████████| 500/500 [00:00<00:00, 673.15it/s]\n",
      "Trial 20/20: Running 500 iterations: 100%|██████████| 500/500 [00:00<00:00, 682.68it/s]\n",
      "Unsupported operator aten::max_pool2d encountered 3 time(s)\n",
      "Unsupported operator aten::add encountered 4 time(s)\n"
     ]
    },
    {
     "name": "stdout",
     "output_type": "stream",
     "text": [
      "Processing batch size: 32\n"
     ]
    },
    {
     "name": "stderr",
     "output_type": "stream",
     "text": [
      "Trial 1/20: Running 500 iterations: 100%|██████████| 500/500 [00:01<00:00, 377.40it/s]\n",
      "Trial 2/20: Running 500 iterations: 100%|██████████| 500/500 [00:01<00:00, 377.81it/s]\n",
      "Trial 3/20: Running 500 iterations: 100%|██████████| 500/500 [00:01<00:00, 373.62it/s]\n",
      "Trial 4/20: Running 500 iterations: 100%|██████████| 500/500 [00:01<00:00, 376.96it/s]\n",
      "Trial 5/20: Running 500 iterations: 100%|██████████| 500/500 [00:01<00:00, 375.30it/s]\n",
      "Trial 6/20: Running 500 iterations: 100%|██████████| 500/500 [00:01<00:00, 375.94it/s]\n",
      "Trial 7/20: Running 500 iterations: 100%|██████████| 500/500 [00:01<00:00, 384.58it/s]\n",
      "Trial 8/20: Running 500 iterations: 100%|██████████| 500/500 [00:01<00:00, 386.14it/s]\n",
      "Trial 9/20: Running 500 iterations: 100%|██████████| 500/500 [00:01<00:00, 386.59it/s]\n",
      "Trial 10/20: Running 500 iterations: 100%|██████████| 500/500 [00:01<00:00, 386.45it/s]\n",
      "Trial 11/20: Running 500 iterations: 100%|██████████| 500/500 [00:01<00:00, 385.55it/s]\n",
      "Trial 12/20: Running 500 iterations: 100%|██████████| 500/500 [00:01<00:00, 384.86it/s]\n",
      "Trial 13/20: Running 500 iterations: 100%|██████████| 500/500 [00:01<00:00, 383.83it/s]\n",
      "Trial 14/20: Running 500 iterations: 100%|██████████| 500/500 [00:01<00:00, 383.73it/s]\n",
      "Trial 15/20: Running 500 iterations: 100%|██████████| 500/500 [00:01<00:00, 385.43it/s]\n",
      "Trial 16/20: Running 500 iterations: 100%|██████████| 500/500 [00:01<00:00, 382.47it/s]\n",
      "Trial 17/20: Running 500 iterations: 100%|██████████| 500/500 [00:01<00:00, 382.94it/s]\n",
      "Trial 18/20: Running 500 iterations: 100%|██████████| 500/500 [00:01<00:00, 385.26it/s]\n",
      "Trial 19/20: Running 500 iterations: 100%|██████████| 500/500 [00:01<00:00, 385.00it/s]\n",
      "Trial 20/20: Running 500 iterations: 100%|██████████| 500/500 [00:01<00:00, 383.97it/s]\n",
      "Unsupported operator aten::max_pool2d encountered 3 time(s)\n",
      "Unsupported operator aten::add encountered 4 time(s)\n"
     ]
    },
    {
     "name": "stdout",
     "output_type": "stream",
     "text": [
      "Processing batch size: 64\n"
     ]
    },
    {
     "name": "stderr",
     "output_type": "stream",
     "text": [
      "Trial 1/20: Running 500 iterations: 100%|██████████| 500/500 [00:02<00:00, 226.59it/s]\n",
      "Trial 2/20: Running 500 iterations: 100%|██████████| 500/500 [00:02<00:00, 225.62it/s]\n",
      "Trial 3/20: Running 500 iterations: 100%|██████████| 500/500 [00:02<00:00, 225.21it/s]\n",
      "Trial 4/20: Running 500 iterations: 100%|██████████| 500/500 [00:02<00:00, 228.60it/s]\n",
      "Trial 5/20: Running 500 iterations: 100%|██████████| 500/500 [00:02<00:00, 231.84it/s]\n",
      "Trial 6/20: Running 500 iterations: 100%|██████████| 500/500 [00:02<00:00, 231.91it/s]\n",
      "Trial 7/20: Running 500 iterations: 100%|██████████| 500/500 [00:02<00:00, 231.42it/s]\n",
      "Trial 8/20: Running 500 iterations: 100%|██████████| 500/500 [00:02<00:00, 231.74it/s]\n",
      "Trial 9/20: Running 500 iterations: 100%|██████████| 500/500 [00:02<00:00, 230.13it/s]\n",
      "Trial 10/20: Running 500 iterations: 100%|██████████| 500/500 [00:02<00:00, 230.87it/s]\n",
      "Trial 11/20: Running 500 iterations: 100%|██████████| 500/500 [00:02<00:00, 230.33it/s]\n",
      "Trial 12/20: Running 500 iterations: 100%|██████████| 500/500 [00:02<00:00, 231.48it/s]\n",
      "Trial 13/20: Running 500 iterations: 100%|██████████| 500/500 [00:02<00:00, 231.64it/s]\n",
      "Trial 14/20: Running 500 iterations: 100%|██████████| 500/500 [00:02<00:00, 231.10it/s]\n",
      "Trial 15/20: Running 500 iterations: 100%|██████████| 500/500 [00:02<00:00, 230.46it/s]\n",
      "Trial 16/20: Running 500 iterations: 100%|██████████| 500/500 [00:02<00:00, 231.98it/s]\n",
      "Trial 17/20: Running 500 iterations: 100%|██████████| 500/500 [00:02<00:00, 230.33it/s]\n",
      "Trial 18/20: Running 500 iterations: 100%|██████████| 500/500 [00:02<00:00, 230.50it/s]\n",
      "Trial 19/20: Running 500 iterations: 100%|██████████| 500/500 [00:02<00:00, 231.52it/s]\n",
      "Trial 20/20: Running 500 iterations: 100%|██████████| 500/500 [00:02<00:00, 231.86it/s]\n",
      "Processing Models:  53%|█████▎    | 35/66 [1:16:29<1:03:57, 123.79s/it]"
     ]
    },
    {
     "name": "stdout",
     "output_type": "stream",
     "text": [
      "Processing model: d:\\PruneLimit\\PruneLimitAnalyzer\\models\\AlexNet_DATASET_random_PD4_GPR-10_PRUNED_SEED_23.pth\n"
     ]
    },
    {
     "name": "stderr",
     "output_type": "stream",
     "text": [
      "Unsupported operator aten::max_pool2d encountered 3 time(s)\n",
      "Unsupported operator aten::add encountered 4 time(s)\n"
     ]
    },
    {
     "name": "stdout",
     "output_type": "stream",
     "text": [
      "Processing batch size: 1\n"
     ]
    },
    {
     "name": "stderr",
     "output_type": "stream",
     "text": [
      "Trial 1/20: Running 500 iterations: 100%|██████████| 500/500 [00:00<00:00, 995.58it/s] \n",
      "Trial 2/20: Running 500 iterations: 100%|██████████| 500/500 [00:00<00:00, 983.48it/s] \n",
      "Trial 3/20: Running 500 iterations: 100%|██████████| 500/500 [00:00<00:00, 959.92it/s]\n",
      "Trial 4/20: Running 500 iterations: 100%|██████████| 500/500 [00:00<00:00, 953.08it/s]\n",
      "Trial 5/20: Running 500 iterations: 100%|██████████| 500/500 [00:00<00:00, 960.28it/s]\n",
      "Trial 6/20: Running 500 iterations: 100%|██████████| 500/500 [00:00<00:00, 895.78it/s]\n",
      "Trial 7/20: Running 500 iterations: 100%|██████████| 500/500 [00:00<00:00, 898.98it/s]\n",
      "Trial 8/20: Running 500 iterations: 100%|██████████| 500/500 [00:00<00:00, 878.31it/s]\n",
      "Trial 9/20: Running 500 iterations: 100%|██████████| 500/500 [00:00<00:00, 968.52it/s]\n",
      "Trial 10/20: Running 500 iterations: 100%|██████████| 500/500 [00:00<00:00, 879.01it/s]\n",
      "Trial 11/20: Running 500 iterations: 100%|██████████| 500/500 [00:00<00:00, 865.58it/s]\n",
      "Trial 12/20: Running 500 iterations: 100%|██████████| 500/500 [00:00<00:00, 948.93it/s]\n",
      "Trial 13/20: Running 500 iterations: 100%|██████████| 500/500 [00:00<00:00, 1031.45it/s]\n",
      "Trial 14/20: Running 500 iterations: 100%|██████████| 500/500 [00:00<00:00, 1057.37it/s]\n",
      "Trial 15/20: Running 500 iterations: 100%|██████████| 500/500 [00:00<00:00, 1059.12it/s]\n",
      "Trial 16/20: Running 500 iterations: 100%|██████████| 500/500 [00:00<00:00, 1049.99it/s]\n",
      "Trial 17/20: Running 500 iterations: 100%|██████████| 500/500 [00:00<00:00, 1071.52it/s]\n",
      "Trial 18/20: Running 500 iterations: 100%|██████████| 500/500 [00:00<00:00, 1071.30it/s]\n",
      "Trial 19/20: Running 500 iterations: 100%|██████████| 500/500 [00:00<00:00, 1083.82it/s]\n",
      "Trial 20/20: Running 500 iterations: 100%|██████████| 500/500 [00:00<00:00, 1069.74it/s]\n",
      "Unsupported operator aten::max_pool2d encountered 3 time(s)\n",
      "Unsupported operator aten::add encountered 4 time(s)\n"
     ]
    },
    {
     "name": "stdout",
     "output_type": "stream",
     "text": [
      "Processing batch size: 8\n"
     ]
    },
    {
     "name": "stderr",
     "output_type": "stream",
     "text": [
      "Trial 1/20: Running 500 iterations: 100%|██████████| 500/500 [00:00<00:00, 757.71it/s]\n",
      "Trial 2/20: Running 500 iterations: 100%|██████████| 500/500 [00:00<00:00, 769.29it/s]\n",
      "Trial 3/20: Running 500 iterations: 100%|██████████| 500/500 [00:00<00:00, 754.61it/s]\n",
      "Trial 4/20: Running 500 iterations: 100%|██████████| 500/500 [00:00<00:00, 763.47it/s]\n",
      "Trial 5/20: Running 500 iterations: 100%|██████████| 500/500 [00:00<00:00, 747.35it/s]\n",
      "Trial 6/20: Running 500 iterations: 100%|██████████| 500/500 [00:00<00:00, 763.75it/s]\n",
      "Trial 7/20: Running 500 iterations: 100%|██████████| 500/500 [00:00<00:00, 763.63it/s]\n",
      "Trial 8/20: Running 500 iterations: 100%|██████████| 500/500 [00:00<00:00, 751.53it/s]\n",
      "Trial 9/20: Running 500 iterations: 100%|██████████| 500/500 [00:00<00:00, 760.92it/s]\n",
      "Trial 10/20: Running 500 iterations: 100%|██████████| 500/500 [00:00<00:00, 757.91it/s]\n",
      "Trial 11/20: Running 500 iterations: 100%|██████████| 500/500 [00:00<00:00, 726.01it/s]\n",
      "Trial 12/20: Running 500 iterations: 100%|██████████| 500/500 [00:00<00:00, 625.07it/s]\n",
      "Trial 13/20: Running 500 iterations: 100%|██████████| 500/500 [00:00<00:00, 732.89it/s]\n",
      "Trial 14/20: Running 500 iterations: 100%|██████████| 500/500 [00:00<00:00, 766.43it/s]\n",
      "Trial 15/20: Running 500 iterations: 100%|██████████| 500/500 [00:00<00:00, 767.68it/s]\n",
      "Trial 16/20: Running 500 iterations: 100%|██████████| 500/500 [00:00<00:00, 777.97it/s]\n",
      "Trial 17/20: Running 500 iterations: 100%|██████████| 500/500 [00:00<00:00, 780.46it/s]\n",
      "Trial 18/20: Running 500 iterations: 100%|██████████| 500/500 [00:00<00:00, 780.48it/s]\n",
      "Trial 19/20: Running 500 iterations: 100%|██████████| 500/500 [00:00<00:00, 776.50it/s]\n",
      "Trial 20/20: Running 500 iterations: 100%|██████████| 500/500 [00:00<00:00, 760.16it/s]\n",
      "Unsupported operator aten::max_pool2d encountered 3 time(s)\n",
      "Unsupported operator aten::add encountered 4 time(s)\n"
     ]
    },
    {
     "name": "stdout",
     "output_type": "stream",
     "text": [
      "Processing batch size: 16\n"
     ]
    },
    {
     "name": "stderr",
     "output_type": "stream",
     "text": [
      "Trial 1/20: Running 500 iterations: 100%|██████████| 500/500 [00:00<00:00, 504.19it/s]\n",
      "Trial 2/20: Running 500 iterations: 100%|██████████| 500/500 [00:01<00:00, 497.52it/s]\n",
      "Trial 3/20: Running 500 iterations: 100%|██████████| 500/500 [00:00<00:00, 500.26it/s]\n",
      "Trial 4/20: Running 500 iterations: 100%|██████████| 500/500 [00:01<00:00, 498.14it/s]\n",
      "Trial 5/20: Running 500 iterations: 100%|██████████| 500/500 [00:00<00:00, 500.39it/s]\n",
      "Trial 6/20: Running 500 iterations: 100%|██████████| 500/500 [00:01<00:00, 488.15it/s]\n",
      "Trial 7/20: Running 500 iterations: 100%|██████████| 500/500 [00:01<00:00, 495.82it/s]\n",
      "Trial 8/20: Running 500 iterations: 100%|██████████| 500/500 [00:01<00:00, 498.27it/s]\n",
      "Trial 9/20: Running 500 iterations: 100%|██████████| 500/500 [00:00<00:00, 510.74it/s]\n",
      "Trial 10/20: Running 500 iterations: 100%|██████████| 500/500 [00:00<00:00, 513.58it/s]\n",
      "Trial 11/20: Running 500 iterations: 100%|██████████| 500/500 [00:00<00:00, 509.07it/s]\n",
      "Trial 12/20: Running 500 iterations: 100%|██████████| 500/500 [00:00<00:00, 509.36it/s]\n",
      "Trial 13/20: Running 500 iterations: 100%|██████████| 500/500 [00:00<00:00, 507.11it/s]\n",
      "Trial 14/20: Running 500 iterations: 100%|██████████| 500/500 [00:00<00:00, 511.64it/s]\n",
      "Trial 15/20: Running 500 iterations: 100%|██████████| 500/500 [00:00<00:00, 510.27it/s]\n",
      "Trial 16/20: Running 500 iterations: 100%|██████████| 500/500 [00:00<00:00, 509.26it/s]\n",
      "Trial 17/20: Running 500 iterations: 100%|██████████| 500/500 [00:00<00:00, 510.74it/s]\n",
      "Trial 18/20: Running 500 iterations: 100%|██████████| 500/500 [00:00<00:00, 511.80it/s]\n",
      "Trial 19/20: Running 500 iterations: 100%|██████████| 500/500 [00:00<00:00, 509.26it/s]\n",
      "Trial 20/20: Running 500 iterations: 100%|██████████| 500/500 [00:00<00:00, 512.73it/s]\n",
      "Unsupported operator aten::max_pool2d encountered 3 time(s)\n",
      "Unsupported operator aten::add encountered 4 time(s)\n"
     ]
    },
    {
     "name": "stdout",
     "output_type": "stream",
     "text": [
      "Processing batch size: 32\n"
     ]
    },
    {
     "name": "stderr",
     "output_type": "stream",
     "text": [
      "Trial 1/20: Running 500 iterations: 100%|██████████| 500/500 [00:01<00:00, 272.59it/s]\n",
      "Trial 2/20: Running 500 iterations: 100%|██████████| 500/500 [00:01<00:00, 273.85it/s]\n",
      "Trial 3/20: Running 500 iterations: 100%|██████████| 500/500 [00:01<00:00, 274.94it/s]\n",
      "Trial 4/20: Running 500 iterations: 100%|██████████| 500/500 [00:01<00:00, 275.05it/s]\n",
      "Trial 5/20: Running 500 iterations: 100%|██████████| 500/500 [00:01<00:00, 279.48it/s]\n",
      "Trial 6/20: Running 500 iterations: 100%|██████████| 500/500 [00:01<00:00, 282.55it/s]\n",
      "Trial 7/20: Running 500 iterations: 100%|██████████| 500/500 [00:01<00:00, 281.92it/s]\n",
      "Trial 8/20: Running 500 iterations: 100%|██████████| 500/500 [00:01<00:00, 282.51it/s]\n",
      "Trial 9/20: Running 500 iterations: 100%|██████████| 500/500 [00:01<00:00, 282.40it/s]\n",
      "Trial 10/20: Running 500 iterations: 100%|██████████| 500/500 [00:01<00:00, 282.27it/s]\n",
      "Trial 11/20: Running 500 iterations: 100%|██████████| 500/500 [00:01<00:00, 282.50it/s]\n",
      "Trial 12/20: Running 500 iterations: 100%|██████████| 500/500 [00:01<00:00, 283.06it/s]\n",
      "Trial 13/20: Running 500 iterations: 100%|██████████| 500/500 [00:01<00:00, 281.58it/s]\n",
      "Trial 14/20: Running 500 iterations: 100%|██████████| 500/500 [00:01<00:00, 282.94it/s]\n",
      "Trial 15/20: Running 500 iterations: 100%|██████████| 500/500 [00:01<00:00, 282.79it/s]\n",
      "Trial 16/20: Running 500 iterations: 100%|██████████| 500/500 [00:01<00:00, 282.46it/s]\n",
      "Trial 17/20: Running 500 iterations: 100%|██████████| 500/500 [00:01<00:00, 283.91it/s]\n",
      "Trial 18/20: Running 500 iterations: 100%|██████████| 500/500 [00:01<00:00, 282.41it/s]\n",
      "Trial 19/20: Running 500 iterations: 100%|██████████| 500/500 [00:01<00:00, 283.35it/s]\n",
      "Trial 20/20: Running 500 iterations: 100%|██████████| 500/500 [00:01<00:00, 282.39it/s]\n",
      "Unsupported operator aten::max_pool2d encountered 3 time(s)\n",
      "Unsupported operator aten::add encountered 4 time(s)\n"
     ]
    },
    {
     "name": "stdout",
     "output_type": "stream",
     "text": [
      "Processing batch size: 64\n"
     ]
    },
    {
     "name": "stderr",
     "output_type": "stream",
     "text": [
      "Trial 1/20: Running 500 iterations: 100%|██████████| 500/500 [00:02<00:00, 172.52it/s]\n",
      "Trial 2/20: Running 500 iterations: 100%|██████████| 500/500 [00:02<00:00, 172.59it/s]\n",
      "Trial 3/20: Running 500 iterations: 100%|██████████| 500/500 [00:02<00:00, 173.63it/s]\n",
      "Trial 4/20: Running 500 iterations: 100%|██████████| 500/500 [00:02<00:00, 177.49it/s]\n",
      "Trial 5/20: Running 500 iterations: 100%|██████████| 500/500 [00:02<00:00, 177.41it/s]\n",
      "Trial 6/20: Running 500 iterations: 100%|██████████| 500/500 [00:02<00:00, 177.44it/s]\n",
      "Trial 7/20: Running 500 iterations: 100%|██████████| 500/500 [00:02<00:00, 177.78it/s]\n",
      "Trial 8/20: Running 500 iterations: 100%|██████████| 500/500 [00:02<00:00, 176.98it/s]\n",
      "Trial 9/20: Running 500 iterations: 100%|██████████| 500/500 [00:02<00:00, 177.06it/s]\n",
      "Trial 10/20: Running 500 iterations: 100%|██████████| 500/500 [00:02<00:00, 177.62it/s]\n",
      "Trial 11/20: Running 500 iterations: 100%|██████████| 500/500 [00:02<00:00, 177.39it/s]\n",
      "Trial 12/20: Running 500 iterations: 100%|██████████| 500/500 [00:02<00:00, 176.59it/s]\n",
      "Trial 13/20: Running 500 iterations: 100%|██████████| 500/500 [00:02<00:00, 177.44it/s]\n",
      "Trial 14/20: Running 500 iterations: 100%|██████████| 500/500 [00:02<00:00, 177.35it/s]\n",
      "Trial 15/20: Running 500 iterations: 100%|██████████| 500/500 [00:02<00:00, 177.32it/s]\n",
      "Trial 16/20: Running 500 iterations: 100%|██████████| 500/500 [00:02<00:00, 177.25it/s]\n",
      "Trial 17/20: Running 500 iterations: 100%|██████████| 500/500 [00:02<00:00, 177.68it/s]\n",
      "Trial 18/20: Running 500 iterations: 100%|██████████| 500/500 [00:02<00:00, 177.69it/s]\n",
      "Trial 19/20: Running 500 iterations: 100%|██████████| 500/500 [00:02<00:00, 177.39it/s]\n",
      "Trial 20/20: Running 500 iterations: 100%|██████████| 500/500 [00:02<00:00, 177.39it/s]\n",
      "Processing Models:  55%|█████▍    | 36/66 [1:19:19<1:08:50, 137.69s/it]Unsupported operator aten::max_pool2d encountered 3 time(s)\n",
      "Unsupported operator aten::add encountered 4 time(s)\n"
     ]
    },
    {
     "name": "stdout",
     "output_type": "stream",
     "text": [
      "Processing model: d:\\PruneLimit\\PruneLimitAnalyzer\\models\\AlexNet_DATASET_random_PD1_GPR-60_PRUNED_SEED_23.pth\n",
      "Processing batch size: 1\n"
     ]
    },
    {
     "name": "stderr",
     "output_type": "stream",
     "text": [
      "Trial 1/20: Running 500 iterations: 100%|██████████| 500/500 [00:00<00:00, 850.94it/s]\n",
      "Trial 2/20: Running 500 iterations: 100%|██████████| 500/500 [00:00<00:00, 860.16it/s]\n",
      "Trial 3/20: Running 500 iterations: 100%|██████████| 500/500 [00:00<00:00, 777.21it/s]\n",
      "Trial 4/20: Running 500 iterations: 100%|██████████| 500/500 [00:00<00:00, 846.92it/s]\n",
      "Trial 5/20: Running 500 iterations: 100%|██████████| 500/500 [00:00<00:00, 806.97it/s]\n",
      "Trial 6/20: Running 500 iterations: 100%|██████████| 500/500 [00:00<00:00, 863.99it/s]\n",
      "Trial 7/20: Running 500 iterations: 100%|██████████| 500/500 [00:00<00:00, 766.64it/s]\n",
      "Trial 8/20: Running 500 iterations: 100%|██████████| 500/500 [00:00<00:00, 784.31it/s]\n",
      "Trial 9/20: Running 500 iterations: 100%|██████████| 500/500 [00:00<00:00, 910.45it/s]\n",
      "Trial 10/20: Running 500 iterations: 100%|██████████| 500/500 [00:00<00:00, 944.54it/s]\n",
      "Trial 11/20: Running 500 iterations: 100%|██████████| 500/500 [00:00<00:00, 923.52it/s]\n",
      "Trial 12/20: Running 500 iterations: 100%|██████████| 500/500 [00:00<00:00, 935.42it/s]\n",
      "Trial 13/20: Running 500 iterations: 100%|██████████| 500/500 [00:00<00:00, 943.29it/s]\n",
      "Trial 14/20: Running 500 iterations: 100%|██████████| 500/500 [00:00<00:00, 950.39it/s]\n",
      "Trial 15/20: Running 500 iterations: 100%|██████████| 500/500 [00:00<00:00, 942.34it/s]\n",
      "Trial 16/20: Running 500 iterations: 100%|██████████| 500/500 [00:00<00:00, 955.10it/s]\n",
      "Trial 17/20: Running 500 iterations: 100%|██████████| 500/500 [00:00<00:00, 838.94it/s]\n",
      "Trial 18/20: Running 500 iterations: 100%|██████████| 500/500 [00:00<00:00, 859.34it/s]\n",
      "Trial 19/20: Running 500 iterations: 100%|██████████| 500/500 [00:00<00:00, 933.62it/s]\n",
      "Trial 20/20: Running 500 iterations: 100%|██████████| 500/500 [00:00<00:00, 896.68it/s]\n",
      "Unsupported operator aten::max_pool2d encountered 3 time(s)\n",
      "Unsupported operator aten::add encountered 4 time(s)\n"
     ]
    },
    {
     "name": "stdout",
     "output_type": "stream",
     "text": [
      "Processing batch size: 8\n"
     ]
    },
    {
     "name": "stderr",
     "output_type": "stream",
     "text": [
      "Trial 1/20: Running 500 iterations: 100%|██████████| 500/500 [00:00<00:00, 890.69it/s]\n",
      "Trial 2/20: Running 500 iterations: 100%|██████████| 500/500 [00:00<00:00, 865.97it/s]\n",
      "Trial 3/20: Running 500 iterations: 100%|██████████| 500/500 [00:00<00:00, 823.63it/s]\n",
      "Trial 4/20: Running 500 iterations: 100%|██████████| 500/500 [00:00<00:00, 746.52it/s]\n",
      "Trial 5/20: Running 500 iterations: 100%|██████████| 500/500 [00:00<00:00, 842.22it/s]\n",
      "Trial 6/20: Running 500 iterations: 100%|██████████| 500/500 [00:00<00:00, 833.35it/s]\n",
      "Trial 7/20: Running 500 iterations: 100%|██████████| 500/500 [00:00<00:00, 916.55it/s]\n",
      "Trial 8/20: Running 500 iterations: 100%|██████████| 500/500 [00:00<00:00, 779.73it/s]\n",
      "Trial 9/20: Running 500 iterations: 100%|██████████| 500/500 [00:00<00:00, 895.26it/s]\n",
      "Trial 10/20: Running 500 iterations: 100%|██████████| 500/500 [00:00<00:00, 835.48it/s]\n",
      "Trial 11/20: Running 500 iterations: 100%|██████████| 500/500 [00:00<00:00, 803.27it/s]\n",
      "Trial 12/20: Running 500 iterations: 100%|██████████| 500/500 [00:00<00:00, 810.65it/s]\n",
      "Trial 13/20: Running 500 iterations: 100%|██████████| 500/500 [00:00<00:00, 838.78it/s]\n",
      "Trial 14/20: Running 500 iterations: 100%|██████████| 500/500 [00:00<00:00, 863.38it/s]\n",
      "Trial 15/20: Running 500 iterations: 100%|██████████| 500/500 [00:00<00:00, 792.25it/s]\n",
      "Trial 16/20: Running 500 iterations: 100%|██████████| 500/500 [00:00<00:00, 958.37it/s]\n",
      "Trial 17/20: Running 500 iterations: 100%|██████████| 500/500 [00:00<00:00, 937.35it/s]\n",
      "Trial 18/20: Running 500 iterations: 100%|██████████| 500/500 [00:00<00:00, 943.26it/s]\n",
      "Trial 19/20: Running 500 iterations: 100%|██████████| 500/500 [00:00<00:00, 948.41it/s]\n",
      "Trial 20/20: Running 500 iterations: 100%|██████████| 500/500 [00:00<00:00, 944.34it/s]\n",
      "Unsupported operator aten::max_pool2d encountered 3 time(s)\n",
      "Unsupported operator aten::add encountered 4 time(s)\n"
     ]
    },
    {
     "name": "stdout",
     "output_type": "stream",
     "text": [
      "Processing batch size: 16\n"
     ]
    },
    {
     "name": "stderr",
     "output_type": "stream",
     "text": [
      "Trial 1/20: Running 500 iterations: 100%|██████████| 500/500 [00:00<00:00, 992.84it/s]\n",
      "Trial 2/20: Running 500 iterations: 100%|██████████| 500/500 [00:00<00:00, 970.06it/s]\n",
      "Trial 3/20: Running 500 iterations: 100%|██████████| 500/500 [00:00<00:00, 994.12it/s]\n",
      "Trial 4/20: Running 500 iterations: 100%|██████████| 500/500 [00:00<00:00, 997.12it/s]\n",
      "Trial 5/20: Running 500 iterations: 100%|██████████| 500/500 [00:00<00:00, 984.83it/s]\n",
      "Trial 6/20: Running 500 iterations: 100%|██████████| 500/500 [00:00<00:00, 1017.20it/s]\n",
      "Trial 7/20: Running 500 iterations: 100%|██████████| 500/500 [00:00<00:00, 997.36it/s]\n",
      "Trial 8/20: Running 500 iterations: 100%|██████████| 500/500 [00:00<00:00, 935.08it/s]\n",
      "Trial 9/20: Running 500 iterations: 100%|██████████| 500/500 [00:00<00:00, 924.17it/s]\n",
      "Trial 10/20: Running 500 iterations: 100%|██████████| 500/500 [00:00<00:00, 954.10it/s]\n",
      "Trial 11/20: Running 500 iterations: 100%|██████████| 500/500 [00:00<00:00, 909.91it/s]\n",
      "Trial 12/20: Running 500 iterations: 100%|██████████| 500/500 [00:00<00:00, 847.28it/s]\n",
      "Trial 13/20: Running 500 iterations: 100%|██████████| 500/500 [00:00<00:00, 914.14it/s]\n",
      "Trial 14/20: Running 500 iterations: 100%|██████████| 500/500 [00:00<00:00, 893.60it/s]\n",
      "Trial 15/20: Running 500 iterations: 100%|██████████| 500/500 [00:00<00:00, 889.83it/s]\n",
      "Trial 16/20: Running 500 iterations: 100%|██████████| 500/500 [00:00<00:00, 874.63it/s]\n",
      "Trial 17/20: Running 500 iterations: 100%|██████████| 500/500 [00:00<00:00, 980.47it/s]\n",
      "Trial 18/20: Running 500 iterations: 100%|██████████| 500/500 [00:00<00:00, 803.86it/s]\n",
      "Trial 19/20: Running 500 iterations: 100%|██████████| 500/500 [00:00<00:00, 936.58it/s]\n",
      "Trial 20/20: Running 500 iterations: 100%|██████████| 500/500 [00:00<00:00, 817.92it/s]\n",
      "Unsupported operator aten::max_pool2d encountered 3 time(s)\n",
      "Unsupported operator aten::add encountered 4 time(s)\n"
     ]
    },
    {
     "name": "stdout",
     "output_type": "stream",
     "text": [
      "Processing batch size: 32\n"
     ]
    },
    {
     "name": "stderr",
     "output_type": "stream",
     "text": [
      "Trial 1/20: Running 500 iterations: 100%|██████████| 500/500 [00:00<00:00, 741.41it/s]\n",
      "Trial 2/20: Running 500 iterations: 100%|██████████| 500/500 [00:00<00:00, 747.00it/s]\n",
      "Trial 3/20: Running 500 iterations: 100%|██████████| 500/500 [00:00<00:00, 748.20it/s]\n",
      "Trial 4/20: Running 500 iterations: 100%|██████████| 500/500 [00:00<00:00, 708.42it/s]\n",
      "Trial 5/20: Running 500 iterations: 100%|██████████| 500/500 [00:00<00:00, 750.07it/s]\n",
      "Trial 6/20: Running 500 iterations: 100%|██████████| 500/500 [00:00<00:00, 746.54it/s]\n",
      "Trial 7/20: Running 500 iterations: 100%|██████████| 500/500 [00:00<00:00, 732.59it/s]\n",
      "Trial 8/20: Running 500 iterations: 100%|██████████| 500/500 [00:00<00:00, 739.92it/s]\n",
      "Trial 9/20: Running 500 iterations: 100%|██████████| 500/500 [00:00<00:00, 737.87it/s]\n",
      "Trial 10/20: Running 500 iterations: 100%|██████████| 500/500 [00:00<00:00, 723.79it/s]\n",
      "Trial 11/20: Running 500 iterations: 100%|██████████| 500/500 [00:00<00:00, 756.25it/s]\n",
      "Trial 12/20: Running 500 iterations: 100%|██████████| 500/500 [00:00<00:00, 742.64it/s]\n",
      "Trial 13/20: Running 500 iterations: 100%|██████████| 500/500 [00:00<00:00, 761.23it/s]\n",
      "Trial 14/20: Running 500 iterations: 100%|██████████| 500/500 [00:00<00:00, 756.07it/s]\n",
      "Trial 15/20: Running 500 iterations: 100%|██████████| 500/500 [00:00<00:00, 762.70it/s]\n",
      "Trial 16/20: Running 500 iterations: 100%|██████████| 500/500 [00:00<00:00, 763.81it/s]\n",
      "Trial 17/20: Running 500 iterations: 100%|██████████| 500/500 [00:00<00:00, 764.57it/s]\n",
      "Trial 18/20: Running 500 iterations: 100%|██████████| 500/500 [00:00<00:00, 757.34it/s]\n",
      "Trial 19/20: Running 500 iterations: 100%|██████████| 500/500 [00:00<00:00, 734.27it/s]\n",
      "Trial 20/20: Running 500 iterations: 100%|██████████| 500/500 [00:00<00:00, 661.81it/s]\n",
      "Unsupported operator aten::max_pool2d encountered 3 time(s)\n",
      "Unsupported operator aten::add encountered 4 time(s)\n"
     ]
    },
    {
     "name": "stdout",
     "output_type": "stream",
     "text": [
      "Processing batch size: 64\n"
     ]
    },
    {
     "name": "stderr",
     "output_type": "stream",
     "text": [
      "Trial 1/20: Running 500 iterations: 100%|██████████| 500/500 [00:01<00:00, 421.91it/s]\n",
      "Trial 2/20: Running 500 iterations: 100%|██████████| 500/500 [00:01<00:00, 423.39it/s]\n",
      "Trial 3/20: Running 500 iterations: 100%|██████████| 500/500 [00:01<00:00, 417.56it/s]\n",
      "Trial 4/20: Running 500 iterations: 100%|██████████| 500/500 [00:01<00:00, 422.53it/s]\n",
      "Trial 5/20: Running 500 iterations: 100%|██████████| 500/500 [00:01<00:00, 419.63it/s]\n",
      "Trial 6/20: Running 500 iterations: 100%|██████████| 500/500 [00:01<00:00, 413.39it/s]\n",
      "Trial 7/20: Running 500 iterations: 100%|██████████| 500/500 [00:01<00:00, 418.68it/s]\n",
      "Trial 8/20: Running 500 iterations: 100%|██████████| 500/500 [00:01<00:00, 433.55it/s]\n",
      "Trial 9/20: Running 500 iterations: 100%|██████████| 500/500 [00:01<00:00, 431.50it/s]\n",
      "Trial 10/20: Running 500 iterations: 100%|██████████| 500/500 [00:01<00:00, 432.16it/s]\n",
      "Trial 11/20: Running 500 iterations: 100%|██████████| 500/500 [00:01<00:00, 432.21it/s]\n",
      "Trial 12/20: Running 500 iterations: 100%|██████████| 500/500 [00:01<00:00, 433.63it/s]\n",
      "Trial 13/20: Running 500 iterations: 100%|██████████| 500/500 [00:01<00:00, 431.30it/s]\n",
      "Trial 14/20: Running 500 iterations: 100%|██████████| 500/500 [00:01<00:00, 430.87it/s]\n",
      "Trial 15/20: Running 500 iterations: 100%|██████████| 500/500 [00:01<00:00, 434.85it/s]\n",
      "Trial 16/20: Running 500 iterations: 100%|██████████| 500/500 [00:01<00:00, 425.96it/s]\n",
      "Trial 17/20: Running 500 iterations: 100%|██████████| 500/500 [00:01<00:00, 429.44it/s]\n",
      "Trial 18/20: Running 500 iterations: 100%|██████████| 500/500 [00:01<00:00, 432.21it/s]\n",
      "Trial 19/20: Running 500 iterations: 100%|██████████| 500/500 [00:01<00:00, 433.06it/s]\n",
      "Trial 20/20: Running 500 iterations: 100%|██████████| 500/500 [00:01<00:00, 428.94it/s]\n",
      "Processing Models:  56%|█████▌    | 37/66 [1:20:47<59:15, 122.61s/it]  "
     ]
    },
    {
     "name": "stdout",
     "output_type": "stream",
     "text": [
      "Processing model: d:\\PruneLimit\\PruneLimitAnalyzer\\models\\AlexNet_DATASET_random_PD1_GPR-25_PRUNED_SEED_23.pth\n"
     ]
    },
    {
     "name": "stderr",
     "output_type": "stream",
     "text": [
      "Unsupported operator aten::max_pool2d encountered 3 time(s)\n",
      "Unsupported operator aten::add encountered 4 time(s)\n"
     ]
    },
    {
     "name": "stdout",
     "output_type": "stream",
     "text": [
      "Processing batch size: 1\n"
     ]
    },
    {
     "name": "stderr",
     "output_type": "stream",
     "text": [
      "Trial 1/20: Running 500 iterations: 100%|██████████| 500/500 [00:00<00:00, 997.53it/s]\n",
      "Trial 2/20: Running 500 iterations: 100%|██████████| 500/500 [00:00<00:00, 1029.41it/s]\n",
      "Trial 3/20: Running 500 iterations: 100%|██████████| 500/500 [00:00<00:00, 1025.42it/s]\n",
      "Trial 4/20: Running 500 iterations: 100%|██████████| 500/500 [00:00<00:00, 1040.75it/s]\n",
      "Trial 5/20: Running 500 iterations: 100%|██████████| 500/500 [00:00<00:00, 778.06it/s]\n",
      "Trial 6/20: Running 500 iterations: 100%|██████████| 500/500 [00:00<00:00, 750.74it/s]\n",
      "Trial 7/20: Running 500 iterations: 100%|██████████| 500/500 [00:00<00:00, 640.19it/s]\n",
      "Trial 8/20: Running 500 iterations: 100%|██████████| 500/500 [00:00<00:00, 642.60it/s]\n",
      "Trial 9/20: Running 500 iterations: 100%|██████████| 500/500 [00:00<00:00, 553.72it/s]\n",
      "Trial 10/20: Running 500 iterations: 100%|██████████| 500/500 [00:00<00:00, 708.75it/s]\n",
      "Trial 11/20: Running 500 iterations: 100%|██████████| 500/500 [00:00<00:00, 687.52it/s]\n",
      "Trial 12/20: Running 500 iterations: 100%|██████████| 500/500 [00:00<00:00, 859.32it/s]\n",
      "Trial 13/20: Running 500 iterations: 100%|██████████| 500/500 [00:00<00:00, 994.53it/s]\n",
      "Trial 14/20: Running 500 iterations: 100%|██████████| 500/500 [00:00<00:00, 957.79it/s]\n",
      "Trial 15/20: Running 500 iterations: 100%|██████████| 500/500 [00:00<00:00, 1010.73it/s]\n",
      "Trial 16/20: Running 500 iterations: 100%|██████████| 500/500 [00:00<00:00, 827.84it/s]\n",
      "Trial 17/20: Running 500 iterations: 100%|██████████| 500/500 [00:00<00:00, 821.95it/s]\n",
      "Trial 18/20: Running 500 iterations: 100%|██████████| 500/500 [00:00<00:00, 843.43it/s]\n",
      "Trial 19/20: Running 500 iterations: 100%|██████████| 500/500 [00:00<00:00, 844.96it/s]\n",
      "Trial 20/20: Running 500 iterations: 100%|██████████| 500/500 [00:00<00:00, 711.57it/s]\n",
      "Unsupported operator aten::max_pool2d encountered 3 time(s)\n",
      "Unsupported operator aten::add encountered 4 time(s)\n"
     ]
    },
    {
     "name": "stdout",
     "output_type": "stream",
     "text": [
      "Processing batch size: 8\n"
     ]
    },
    {
     "name": "stderr",
     "output_type": "stream",
     "text": [
      "Trial 1/20: Running 500 iterations: 100%|██████████| 500/500 [00:00<00:00, 915.23it/s]\n",
      "Trial 2/20: Running 500 iterations: 100%|██████████| 500/500 [00:00<00:00, 1071.40it/s]\n",
      "Trial 3/20: Running 500 iterations: 100%|██████████| 500/500 [00:00<00:00, 825.02it/s]\n",
      "Trial 4/20: Running 500 iterations: 100%|██████████| 500/500 [00:00<00:00, 685.15it/s]\n",
      "Trial 5/20: Running 500 iterations: 100%|██████████| 500/500 [00:00<00:00, 1068.58it/s]\n",
      "Trial 6/20: Running 500 iterations: 100%|██████████| 500/500 [00:00<00:00, 1011.95it/s]\n",
      "Trial 7/20: Running 500 iterations: 100%|██████████| 500/500 [00:00<00:00, 919.17it/s]\n",
      "Trial 8/20: Running 500 iterations: 100%|██████████| 500/500 [00:00<00:00, 920.54it/s]\n",
      "Trial 9/20: Running 500 iterations: 100%|██████████| 500/500 [00:00<00:00, 930.92it/s]\n",
      "Trial 10/20: Running 500 iterations: 100%|██████████| 500/500 [00:00<00:00, 1010.68it/s]\n",
      "Trial 11/20: Running 500 iterations: 100%|██████████| 500/500 [00:00<00:00, 995.76it/s] \n",
      "Trial 12/20: Running 500 iterations: 100%|██████████| 500/500 [00:00<00:00, 943.05it/s]\n",
      "Trial 13/20: Running 500 iterations: 100%|██████████| 500/500 [00:00<00:00, 922.67it/s]\n",
      "Trial 14/20: Running 500 iterations: 100%|██████████| 500/500 [00:00<00:00, 661.42it/s]\n",
      "Trial 15/20: Running 500 iterations: 100%|██████████| 500/500 [00:00<00:00, 841.73it/s]\n",
      "Trial 16/20: Running 500 iterations: 100%|██████████| 500/500 [00:00<00:00, 1053.39it/s]\n",
      "Trial 17/20: Running 500 iterations: 100%|██████████| 500/500 [00:00<00:00, 1083.57it/s]\n",
      "Trial 18/20: Running 500 iterations: 100%|██████████| 500/500 [00:00<00:00, 880.61it/s]\n",
      "Trial 19/20: Running 500 iterations: 100%|██████████| 500/500 [00:00<00:00, 1055.76it/s]\n",
      "Trial 20/20: Running 500 iterations: 100%|██████████| 500/500 [00:00<00:00, 1030.34it/s]\n",
      "Unsupported operator aten::max_pool2d encountered 3 time(s)\n",
      "Unsupported operator aten::add encountered 4 time(s)\n"
     ]
    },
    {
     "name": "stdout",
     "output_type": "stream",
     "text": [
      "Processing batch size: 16\n"
     ]
    },
    {
     "name": "stderr",
     "output_type": "stream",
     "text": [
      "Trial 1/20: Running 500 iterations: 100%|██████████| 500/500 [00:00<00:00, 731.07it/s]\n",
      "Trial 2/20: Running 500 iterations: 100%|██████████| 500/500 [00:00<00:00, 742.50it/s]\n",
      "Trial 3/20: Running 500 iterations: 100%|██████████| 500/500 [00:00<00:00, 741.59it/s]\n",
      "Trial 4/20: Running 500 iterations: 100%|██████████| 500/500 [00:00<00:00, 743.55it/s]\n",
      "Trial 5/20: Running 500 iterations: 100%|██████████| 500/500 [00:00<00:00, 738.84it/s]\n",
      "Trial 6/20: Running 500 iterations: 100%|██████████| 500/500 [00:00<00:00, 723.66it/s]\n",
      "Trial 7/20: Running 500 iterations: 100%|██████████| 500/500 [00:00<00:00, 736.25it/s]\n",
      "Trial 8/20: Running 500 iterations: 100%|██████████| 500/500 [00:00<00:00, 735.40it/s]\n",
      "Trial 9/20: Running 500 iterations: 100%|██████████| 500/500 [00:00<00:00, 723.90it/s]\n",
      "Trial 10/20: Running 500 iterations: 100%|██████████| 500/500 [00:00<00:00, 737.61it/s]\n",
      "Trial 11/20: Running 500 iterations: 100%|██████████| 500/500 [00:00<00:00, 744.12it/s]\n",
      "Trial 12/20: Running 500 iterations: 100%|██████████| 500/500 [00:00<00:00, 728.67it/s]\n",
      "Trial 13/20: Running 500 iterations: 100%|██████████| 500/500 [00:00<00:00, 750.09it/s]\n",
      "Trial 14/20: Running 500 iterations: 100%|██████████| 500/500 [00:00<00:00, 760.41it/s]\n",
      "Trial 15/20: Running 500 iterations: 100%|██████████| 500/500 [00:00<00:00, 754.75it/s]\n",
      "Trial 16/20: Running 500 iterations: 100%|██████████| 500/500 [00:00<00:00, 754.90it/s]\n",
      "Trial 17/20: Running 500 iterations: 100%|██████████| 500/500 [00:00<00:00, 759.20it/s]\n",
      "Trial 18/20: Running 500 iterations: 100%|██████████| 500/500 [00:00<00:00, 758.11it/s]\n",
      "Trial 19/20: Running 500 iterations: 100%|██████████| 500/500 [00:00<00:00, 763.40it/s]\n",
      "Trial 20/20: Running 500 iterations: 100%|██████████| 500/500 [00:00<00:00, 744.18it/s]\n",
      "Unsupported operator aten::max_pool2d encountered 3 time(s)\n",
      "Unsupported operator aten::add encountered 4 time(s)\n"
     ]
    },
    {
     "name": "stdout",
     "output_type": "stream",
     "text": [
      "Processing batch size: 32\n"
     ]
    },
    {
     "name": "stderr",
     "output_type": "stream",
     "text": [
      "Trial 1/20: Running 500 iterations: 100%|██████████| 500/500 [00:01<00:00, 381.53it/s]\n",
      "Trial 2/20: Running 500 iterations: 100%|██████████| 500/500 [00:01<00:00, 378.08it/s]\n",
      "Trial 3/20: Running 500 iterations: 100%|██████████| 500/500 [00:01<00:00, 386.91it/s]\n",
      "Trial 4/20: Running 500 iterations: 100%|██████████| 500/500 [00:01<00:00, 381.79it/s]\n",
      "Trial 5/20: Running 500 iterations: 100%|██████████| 500/500 [00:01<00:00, 383.18it/s]\n",
      "Trial 6/20: Running 500 iterations: 100%|██████████| 500/500 [00:01<00:00, 384.65it/s]\n",
      "Trial 7/20: Running 500 iterations: 100%|██████████| 500/500 [00:01<00:00, 394.12it/s]\n",
      "Trial 8/20: Running 500 iterations: 100%|██████████| 500/500 [00:01<00:00, 395.96it/s]\n",
      "Trial 9/20: Running 500 iterations: 100%|██████████| 500/500 [00:01<00:00, 394.29it/s]\n",
      "Trial 10/20: Running 500 iterations: 100%|██████████| 500/500 [00:01<00:00, 394.01it/s]\n",
      "Trial 11/20: Running 500 iterations: 100%|██████████| 500/500 [00:01<00:00, 394.47it/s]\n",
      "Trial 12/20: Running 500 iterations: 100%|██████████| 500/500 [00:01<00:00, 395.60it/s]\n",
      "Trial 13/20: Running 500 iterations: 100%|██████████| 500/500 [00:01<00:00, 394.69it/s]\n",
      "Trial 14/20: Running 500 iterations: 100%|██████████| 500/500 [00:01<00:00, 396.34it/s]\n",
      "Trial 15/20: Running 500 iterations: 100%|██████████| 500/500 [00:01<00:00, 393.79it/s]\n",
      "Trial 16/20: Running 500 iterations: 100%|██████████| 500/500 [00:01<00:00, 394.18it/s]\n",
      "Trial 17/20: Running 500 iterations: 100%|██████████| 500/500 [00:01<00:00, 389.06it/s]\n",
      "Trial 18/20: Running 500 iterations: 100%|██████████| 500/500 [00:01<00:00, 394.13it/s]\n",
      "Trial 19/20: Running 500 iterations: 100%|██████████| 500/500 [00:01<00:00, 392.24it/s]\n",
      "Trial 20/20: Running 500 iterations: 100%|██████████| 500/500 [00:01<00:00, 392.04it/s]\n",
      "Unsupported operator aten::max_pool2d encountered 3 time(s)\n",
      "Unsupported operator aten::add encountered 4 time(s)\n"
     ]
    },
    {
     "name": "stdout",
     "output_type": "stream",
     "text": [
      "Processing batch size: 64\n"
     ]
    },
    {
     "name": "stderr",
     "output_type": "stream",
     "text": [
      "Trial 1/20: Running 500 iterations: 100%|██████████| 500/500 [00:02<00:00, 238.66it/s]\n",
      "Trial 2/20: Running 500 iterations: 100%|██████████| 500/500 [00:02<00:00, 239.01it/s]\n",
      "Trial 3/20: Running 500 iterations: 100%|██████████| 500/500 [00:02<00:00, 238.31it/s]\n",
      "Trial 4/20: Running 500 iterations: 100%|██████████| 500/500 [00:02<00:00, 239.77it/s]\n",
      "Trial 5/20: Running 500 iterations: 100%|██████████| 500/500 [00:02<00:00, 243.86it/s]\n",
      "Trial 6/20: Running 500 iterations: 100%|██████████| 500/500 [00:02<00:00, 243.40it/s]\n",
      "Trial 7/20: Running 500 iterations: 100%|██████████| 500/500 [00:02<00:00, 244.10it/s]\n",
      "Trial 8/20: Running 500 iterations: 100%|██████████| 500/500 [00:02<00:00, 243.74it/s]\n",
      "Trial 9/20: Running 500 iterations: 100%|██████████| 500/500 [00:02<00:00, 241.94it/s]\n",
      "Trial 10/20: Running 500 iterations: 100%|██████████| 500/500 [00:02<00:00, 242.94it/s]\n",
      "Trial 11/20: Running 500 iterations: 100%|██████████| 500/500 [00:02<00:00, 243.94it/s]\n",
      "Trial 12/20: Running 500 iterations: 100%|██████████| 500/500 [00:02<00:00, 243.63it/s]\n",
      "Trial 13/20: Running 500 iterations: 100%|██████████| 500/500 [00:02<00:00, 243.83it/s]\n",
      "Trial 14/20: Running 500 iterations: 100%|██████████| 500/500 [00:02<00:00, 243.25it/s]\n",
      "Trial 15/20: Running 500 iterations: 100%|██████████| 500/500 [00:02<00:00, 241.82it/s]\n",
      "Trial 16/20: Running 500 iterations: 100%|██████████| 500/500 [00:02<00:00, 243.37it/s]\n",
      "Trial 17/20: Running 500 iterations: 100%|██████████| 500/500 [00:02<00:00, 242.65it/s]\n",
      "Trial 18/20: Running 500 iterations: 100%|██████████| 500/500 [00:02<00:00, 243.41it/s]\n",
      "Trial 19/20: Running 500 iterations: 100%|██████████| 500/500 [00:02<00:00, 243.20it/s]\n",
      "Trial 20/20: Running 500 iterations: 100%|██████████| 500/500 [00:02<00:00, 243.32it/s]\n",
      "Processing Models:  58%|█████▊    | 38/66 [1:22:57<58:17, 124.91s/it]Unsupported operator aten::max_pool2d encountered 3 time(s)\n",
      "Unsupported operator aten::add encountered 4 time(s)\n"
     ]
    },
    {
     "name": "stdout",
     "output_type": "stream",
     "text": [
      "Processing model: d:\\PruneLimit\\PruneLimitAnalyzer\\models\\AlexNet_DATASET_random_PD4_GPR-65_PRUNED_SEED_23.pth\n",
      "Processing batch size: 1\n"
     ]
    },
    {
     "name": "stderr",
     "output_type": "stream",
     "text": [
      "Trial 1/20: Running 500 iterations: 100%|██████████| 500/500 [00:00<00:00, 1023.53it/s]\n",
      "Trial 2/20: Running 500 iterations: 100%|██████████| 500/500 [00:00<00:00, 952.42it/s]\n",
      "Trial 3/20: Running 500 iterations: 100%|██████████| 500/500 [00:00<00:00, 1019.11it/s]\n",
      "Trial 4/20: Running 500 iterations: 100%|██████████| 500/500 [00:00<00:00, 863.91it/s]\n",
      "Trial 5/20: Running 500 iterations: 100%|██████████| 500/500 [00:00<00:00, 965.95it/s]\n",
      "Trial 6/20: Running 500 iterations: 100%|██████████| 500/500 [00:00<00:00, 987.08it/s] \n",
      "Trial 7/20: Running 500 iterations: 100%|██████████| 500/500 [00:00<00:00, 1047.41it/s]\n",
      "Trial 8/20: Running 500 iterations: 100%|██████████| 500/500 [00:00<00:00, 884.74it/s]\n",
      "Trial 9/20: Running 500 iterations: 100%|██████████| 500/500 [00:00<00:00, 953.38it/s]\n",
      "Trial 10/20: Running 500 iterations: 100%|██████████| 500/500 [00:00<00:00, 1032.66it/s]\n",
      "Trial 11/20: Running 500 iterations: 100%|██████████| 500/500 [00:00<00:00, 982.21it/s]\n",
      "Trial 12/20: Running 500 iterations: 100%|██████████| 500/500 [00:00<00:00, 933.94it/s]\n",
      "Trial 13/20: Running 500 iterations: 100%|██████████| 500/500 [00:00<00:00, 866.05it/s]\n",
      "Trial 14/20: Running 500 iterations: 100%|██████████| 500/500 [00:00<00:00, 993.84it/s]\n",
      "Trial 15/20: Running 500 iterations: 100%|██████████| 500/500 [00:00<00:00, 970.61it/s]\n",
      "Trial 16/20: Running 500 iterations: 100%|██████████| 500/500 [00:00<00:00, 1001.44it/s]\n",
      "Trial 17/20: Running 500 iterations: 100%|██████████| 500/500 [00:00<00:00, 1018.85it/s]\n",
      "Trial 18/20: Running 500 iterations: 100%|██████████| 500/500 [00:00<00:00, 990.15it/s]\n",
      "Trial 19/20: Running 500 iterations: 100%|██████████| 500/500 [00:00<00:00, 833.27it/s]\n",
      "Trial 20/20: Running 500 iterations: 100%|██████████| 500/500 [00:00<00:00, 906.54it/s]\n",
      "Unsupported operator aten::max_pool2d encountered 3 time(s)\n",
      "Unsupported operator aten::add encountered 4 time(s)\n"
     ]
    },
    {
     "name": "stdout",
     "output_type": "stream",
     "text": [
      "Processing batch size: 8\n"
     ]
    },
    {
     "name": "stderr",
     "output_type": "stream",
     "text": [
      "Trial 1/20: Running 500 iterations: 100%|██████████| 500/500 [00:00<00:00, 793.22it/s]\n",
      "Trial 2/20: Running 500 iterations: 100%|██████████| 500/500 [00:00<00:00, 850.65it/s]\n",
      "Trial 3/20: Running 500 iterations: 100%|██████████| 500/500 [00:00<00:00, 750.01it/s]\n",
      "Trial 4/20: Running 500 iterations: 100%|██████████| 500/500 [00:00<00:00, 805.31it/s]\n",
      "Trial 5/20: Running 500 iterations: 100%|██████████| 500/500 [00:00<00:00, 930.01it/s]\n",
      "Trial 6/20: Running 500 iterations: 100%|██████████| 500/500 [00:00<00:00, 986.92it/s]\n",
      "Trial 7/20: Running 500 iterations: 100%|██████████| 500/500 [00:00<00:00, 934.03it/s]\n",
      "Trial 8/20: Running 500 iterations: 100%|██████████| 500/500 [00:00<00:00, 905.14it/s]\n",
      "Trial 9/20: Running 500 iterations: 100%|██████████| 500/500 [00:00<00:00, 958.93it/s]\n",
      "Trial 10/20: Running 500 iterations: 100%|██████████| 500/500 [00:00<00:00, 986.83it/s]\n",
      "Trial 11/20: Running 500 iterations: 100%|██████████| 500/500 [00:00<00:00, 958.74it/s]\n",
      "Trial 12/20: Running 500 iterations: 100%|██████████| 500/500 [00:00<00:00, 854.41it/s]\n",
      "Trial 13/20: Running 500 iterations: 100%|██████████| 500/500 [00:00<00:00, 926.96it/s]\n",
      "Trial 14/20: Running 500 iterations: 100%|██████████| 500/500 [00:00<00:00, 926.34it/s]\n",
      "Trial 15/20: Running 500 iterations: 100%|██████████| 500/500 [00:00<00:00, 903.99it/s]\n",
      "Trial 16/20: Running 500 iterations: 100%|██████████| 500/500 [00:00<00:00, 1000.34it/s]\n",
      "Trial 17/20: Running 500 iterations: 100%|██████████| 500/500 [00:00<00:00, 994.03it/s]\n",
      "Trial 18/20: Running 500 iterations: 100%|██████████| 500/500 [00:00<00:00, 859.49it/s]\n",
      "Trial 19/20: Running 500 iterations: 100%|██████████| 500/500 [00:00<00:00, 921.25it/s]\n",
      "Trial 20/20: Running 500 iterations: 100%|██████████| 500/500 [00:00<00:00, 960.86it/s]\n",
      "Unsupported operator aten::max_pool2d encountered 3 time(s)\n",
      "Unsupported operator aten::add encountered 4 time(s)\n"
     ]
    },
    {
     "name": "stdout",
     "output_type": "stream",
     "text": [
      "Processing batch size: 16\n"
     ]
    },
    {
     "name": "stderr",
     "output_type": "stream",
     "text": [
      "Trial 1/20: Running 500 iterations: 100%|██████████| 500/500 [00:00<00:00, 786.81it/s]\n",
      "Trial 2/20: Running 500 iterations: 100%|██████████| 500/500 [00:00<00:00, 894.12it/s]\n",
      "Trial 3/20: Running 500 iterations: 100%|██████████| 500/500 [00:00<00:00, 742.80it/s]\n",
      "Trial 4/20: Running 500 iterations: 100%|██████████| 500/500 [00:00<00:00, 834.46it/s]\n",
      "Trial 5/20: Running 500 iterations: 100%|██████████| 500/500 [00:00<00:00, 844.04it/s]\n",
      "Trial 6/20: Running 500 iterations: 100%|██████████| 500/500 [00:00<00:00, 827.68it/s]\n",
      "Trial 7/20: Running 500 iterations: 100%|██████████| 500/500 [00:00<00:00, 863.25it/s]\n",
      "Trial 8/20: Running 500 iterations: 100%|██████████| 500/500 [00:00<00:00, 826.36it/s]\n",
      "Trial 9/20: Running 500 iterations: 100%|██████████| 500/500 [00:00<00:00, 829.09it/s]\n",
      "Trial 10/20: Running 500 iterations: 100%|██████████| 500/500 [00:00<00:00, 900.85it/s]\n",
      "Trial 11/20: Running 500 iterations: 100%|██████████| 500/500 [00:00<00:00, 846.56it/s]\n",
      "Trial 12/20: Running 500 iterations: 100%|██████████| 500/500 [00:00<00:00, 859.39it/s]\n",
      "Trial 13/20: Running 500 iterations: 100%|██████████| 500/500 [00:00<00:00, 974.53it/s]\n",
      "Trial 14/20: Running 500 iterations: 100%|██████████| 500/500 [00:00<00:00, 1006.61it/s]\n",
      "Trial 15/20: Running 500 iterations: 100%|██████████| 500/500 [00:00<00:00, 945.44it/s]\n",
      "Trial 16/20: Running 500 iterations: 100%|██████████| 500/500 [00:00<00:00, 997.40it/s]\n",
      "Trial 17/20: Running 500 iterations: 100%|██████████| 500/500 [00:00<00:00, 984.75it/s]\n",
      "Trial 18/20: Running 500 iterations: 100%|██████████| 500/500 [00:00<00:00, 999.46it/s]\n",
      "Trial 19/20: Running 500 iterations: 100%|██████████| 500/500 [00:00<00:00, 993.34it/s]\n",
      "Trial 20/20: Running 500 iterations: 100%|██████████| 500/500 [00:00<00:00, 986.42it/s]\n",
      "Unsupported operator aten::max_pool2d encountered 3 time(s)\n",
      "Unsupported operator aten::add encountered 4 time(s)\n"
     ]
    },
    {
     "name": "stdout",
     "output_type": "stream",
     "text": [
      "Processing batch size: 32\n"
     ]
    },
    {
     "name": "stderr",
     "output_type": "stream",
     "text": [
      "Trial 1/20: Running 500 iterations: 100%|██████████| 500/500 [00:00<00:00, 804.40it/s]\n",
      "Trial 2/20: Running 500 iterations: 100%|██████████| 500/500 [00:00<00:00, 814.23it/s]\n",
      "Trial 3/20: Running 500 iterations: 100%|██████████| 500/500 [00:00<00:00, 809.37it/s]\n",
      "Trial 4/20: Running 500 iterations: 100%|██████████| 500/500 [00:00<00:00, 797.76it/s]\n",
      "Trial 5/20: Running 500 iterations: 100%|██████████| 500/500 [00:00<00:00, 792.09it/s]\n",
      "Trial 6/20: Running 500 iterations: 100%|██████████| 500/500 [00:00<00:00, 797.60it/s]\n",
      "Trial 7/20: Running 500 iterations: 100%|██████████| 500/500 [00:00<00:00, 810.62it/s]\n",
      "Trial 8/20: Running 500 iterations: 100%|██████████| 500/500 [00:00<00:00, 811.32it/s]\n",
      "Trial 9/20: Running 500 iterations: 100%|██████████| 500/500 [00:00<00:00, 787.74it/s]\n",
      "Trial 10/20: Running 500 iterations: 100%|██████████| 500/500 [00:00<00:00, 805.82it/s]\n",
      "Trial 11/20: Running 500 iterations: 100%|██████████| 500/500 [00:00<00:00, 804.37it/s]\n",
      "Trial 12/20: Running 500 iterations: 100%|██████████| 500/500 [00:00<00:00, 800.22it/s]\n",
      "Trial 13/20: Running 500 iterations: 100%|██████████| 500/500 [00:00<00:00, 809.02it/s]\n",
      "Trial 14/20: Running 500 iterations: 100%|██████████| 500/500 [00:00<00:00, 821.18it/s]\n",
      "Trial 15/20: Running 500 iterations: 100%|██████████| 500/500 [00:00<00:00, 827.82it/s]\n",
      "Trial 16/20: Running 500 iterations: 100%|██████████| 500/500 [00:00<00:00, 811.11it/s]\n",
      "Trial 17/20: Running 500 iterations: 100%|██████████| 500/500 [00:00<00:00, 816.92it/s]\n",
      "Trial 18/20: Running 500 iterations: 100%|██████████| 500/500 [00:00<00:00, 821.34it/s]\n",
      "Trial 19/20: Running 500 iterations: 100%|██████████| 500/500 [00:00<00:00, 816.87it/s]\n",
      "Trial 20/20: Running 500 iterations: 100%|██████████| 500/500 [00:00<00:00, 816.79it/s]\n",
      "Unsupported operator aten::max_pool2d encountered 3 time(s)\n",
      "Unsupported operator aten::add encountered 4 time(s)\n"
     ]
    },
    {
     "name": "stdout",
     "output_type": "stream",
     "text": [
      "Processing batch size: 64\n"
     ]
    },
    {
     "name": "stderr",
     "output_type": "stream",
     "text": [
      "Trial 1/20: Running 500 iterations: 100%|██████████| 500/500 [00:01<00:00, 468.08it/s]\n",
      "Trial 2/20: Running 500 iterations: 100%|██████████| 500/500 [00:01<00:00, 470.99it/s]\n",
      "Trial 3/20: Running 500 iterations: 100%|██████████| 500/500 [00:01<00:00, 474.04it/s]\n",
      "Trial 4/20: Running 500 iterations: 100%|██████████| 500/500 [00:01<00:00, 461.63it/s]\n",
      "Trial 5/20: Running 500 iterations: 100%|██████████| 500/500 [00:01<00:00, 466.10it/s]\n",
      "Trial 6/20: Running 500 iterations: 100%|██████████| 500/500 [00:01<00:00, 472.88it/s]\n",
      "Trial 7/20: Running 500 iterations: 100%|██████████| 500/500 [00:01<00:00, 468.23it/s]\n",
      "Trial 8/20: Running 500 iterations: 100%|██████████| 500/500 [00:01<00:00, 478.02it/s]\n",
      "Trial 9/20: Running 500 iterations: 100%|██████████| 500/500 [00:01<00:00, 486.60it/s]\n",
      "Trial 10/20: Running 500 iterations: 100%|██████████| 500/500 [00:01<00:00, 484.46it/s]\n",
      "Trial 11/20: Running 500 iterations: 100%|██████████| 500/500 [00:01<00:00, 487.09it/s]\n",
      "Trial 12/20: Running 500 iterations: 100%|██████████| 500/500 [00:01<00:00, 482.38it/s]\n",
      "Trial 13/20: Running 500 iterations: 100%|██████████| 500/500 [00:01<00:00, 486.26it/s]\n",
      "Trial 14/20: Running 500 iterations: 100%|██████████| 500/500 [00:01<00:00, 482.75it/s]\n",
      "Trial 15/20: Running 500 iterations: 100%|██████████| 500/500 [00:01<00:00, 484.64it/s]\n",
      "Trial 16/20: Running 500 iterations: 100%|██████████| 500/500 [00:01<00:00, 489.29it/s]\n",
      "Trial 17/20: Running 500 iterations: 100%|██████████| 500/500 [00:01<00:00, 487.37it/s]\n",
      "Trial 18/20: Running 500 iterations: 100%|██████████| 500/500 [00:01<00:00, 485.33it/s]\n",
      "Trial 19/20: Running 500 iterations: 100%|██████████| 500/500 [00:01<00:00, 487.87it/s]\n",
      "Trial 20/20: Running 500 iterations: 100%|██████████| 500/500 [00:01<00:00, 487.47it/s]\n",
      "Processing Models:  59%|█████▉    | 39/66 [1:24:19<50:21, 111.92s/it]"
     ]
    },
    {
     "name": "stdout",
     "output_type": "stream",
     "text": [
      "Processing model: d:\\PruneLimit\\PruneLimitAnalyzer\\models\\AlexNet_DATASET_random_PD1_GPR-5_PRUNED_SEED_23.pth\n"
     ]
    },
    {
     "name": "stderr",
     "output_type": "stream",
     "text": [
      "Unsupported operator aten::max_pool2d encountered 3 time(s)\n",
      "Unsupported operator aten::add encountered 3 time(s)\n"
     ]
    },
    {
     "name": "stdout",
     "output_type": "stream",
     "text": [
      "Processing batch size: 1\n"
     ]
    },
    {
     "name": "stderr",
     "output_type": "stream",
     "text": [
      "Trial 1/20: Running 500 iterations: 100%|██████████| 500/500 [00:00<00:00, 1011.06it/s]\n",
      "Trial 2/20: Running 500 iterations: 100%|██████████| 500/500 [00:00<00:00, 1033.60it/s]\n",
      "Trial 3/20: Running 500 iterations: 100%|██████████| 500/500 [00:00<00:00, 1049.76it/s]\n",
      "Trial 4/20: Running 500 iterations: 100%|██████████| 500/500 [00:00<00:00, 1044.55it/s]\n",
      "Trial 5/20: Running 500 iterations: 100%|██████████| 500/500 [00:00<00:00, 1044.44it/s]\n",
      "Trial 6/20: Running 500 iterations: 100%|██████████| 500/500 [00:00<00:00, 1045.06it/s]\n",
      "Trial 7/20: Running 500 iterations: 100%|██████████| 500/500 [00:00<00:00, 1005.29it/s]\n",
      "Trial 8/20: Running 500 iterations: 100%|██████████| 500/500 [00:00<00:00, 1006.26it/s]\n",
      "Trial 9/20: Running 500 iterations: 100%|██████████| 500/500 [00:00<00:00, 911.62it/s]\n",
      "Trial 10/20: Running 500 iterations: 100%|██████████| 500/500 [00:00<00:00, 927.79it/s]\n",
      "Trial 11/20: Running 500 iterations: 100%|██████████| 500/500 [00:00<00:00, 984.44it/s]\n",
      "Trial 12/20: Running 500 iterations: 100%|██████████| 500/500 [00:00<00:00, 1085.48it/s]\n",
      "Trial 13/20: Running 500 iterations: 100%|██████████| 500/500 [00:00<00:00, 1085.54it/s]\n",
      "Trial 14/20: Running 500 iterations: 100%|██████████| 500/500 [00:00<00:00, 1105.52it/s]\n",
      "Trial 15/20: Running 500 iterations: 100%|██████████| 500/500 [00:00<00:00, 893.97it/s]\n",
      "Trial 16/20: Running 500 iterations: 100%|██████████| 500/500 [00:00<00:00, 1023.24it/s]\n",
      "Trial 17/20: Running 500 iterations: 100%|██████████| 500/500 [00:00<00:00, 944.36it/s]\n",
      "Trial 18/20: Running 500 iterations: 100%|██████████| 500/500 [00:00<00:00, 923.56it/s]\n",
      "Trial 19/20: Running 500 iterations: 100%|██████████| 500/500 [00:00<00:00, 1069.50it/s]\n",
      "Trial 20/20: Running 500 iterations: 100%|██████████| 500/500 [00:00<00:00, 968.78it/s]\n",
      "Unsupported operator aten::max_pool2d encountered 3 time(s)\n",
      "Unsupported operator aten::add encountered 3 time(s)\n"
     ]
    },
    {
     "name": "stdout",
     "output_type": "stream",
     "text": [
      "Processing batch size: 8\n"
     ]
    },
    {
     "name": "stderr",
     "output_type": "stream",
     "text": [
      "Trial 1/20: Running 500 iterations: 100%|██████████| 500/500 [00:00<00:00, 682.88it/s]\n",
      "Trial 2/20: Running 500 iterations: 100%|██████████| 500/500 [00:00<00:00, 682.96it/s]\n",
      "Trial 3/20: Running 500 iterations: 100%|██████████| 500/500 [00:00<00:00, 687.76it/s]\n",
      "Trial 4/20: Running 500 iterations: 100%|██████████| 500/500 [00:00<00:00, 670.62it/s]\n",
      "Trial 5/20: Running 500 iterations: 100%|██████████| 500/500 [00:00<00:00, 684.05it/s]\n",
      "Trial 6/20: Running 500 iterations: 100%|██████████| 500/500 [00:00<00:00, 677.11it/s]\n",
      "Trial 7/20: Running 500 iterations: 100%|██████████| 500/500 [00:00<00:00, 688.59it/s]\n",
      "Trial 8/20: Running 500 iterations: 100%|██████████| 500/500 [00:00<00:00, 674.11it/s]\n",
      "Trial 9/20: Running 500 iterations: 100%|██████████| 500/500 [00:00<00:00, 659.60it/s]\n",
      "Trial 10/20: Running 500 iterations: 100%|██████████| 500/500 [00:00<00:00, 692.48it/s]\n",
      "Trial 11/20: Running 500 iterations: 100%|██████████| 500/500 [00:00<00:00, 665.35it/s]\n",
      "Trial 12/20: Running 500 iterations: 100%|██████████| 500/500 [00:00<00:00, 696.06it/s]\n",
      "Trial 13/20: Running 500 iterations: 100%|██████████| 500/500 [00:00<00:00, 696.39it/s]\n",
      "Trial 14/20: Running 500 iterations: 100%|██████████| 500/500 [00:00<00:00, 696.07it/s]\n",
      "Trial 15/20: Running 500 iterations: 100%|██████████| 500/500 [00:00<00:00, 697.98it/s]\n",
      "Trial 16/20: Running 500 iterations: 100%|██████████| 500/500 [00:00<00:00, 685.69it/s]\n",
      "Trial 17/20: Running 500 iterations: 100%|██████████| 500/500 [00:00<00:00, 691.34it/s]\n",
      "Trial 18/20: Running 500 iterations: 100%|██████████| 500/500 [00:00<00:00, 696.16it/s]\n",
      "Trial 19/20: Running 500 iterations: 100%|██████████| 500/500 [00:00<00:00, 700.48it/s]\n",
      "Trial 20/20: Running 500 iterations: 100%|██████████| 500/500 [00:00<00:00, 685.44it/s]\n",
      "Unsupported operator aten::max_pool2d encountered 3 time(s)\n",
      "Unsupported operator aten::add encountered 3 time(s)\n"
     ]
    },
    {
     "name": "stdout",
     "output_type": "stream",
     "text": [
      "Processing batch size: 16\n"
     ]
    },
    {
     "name": "stderr",
     "output_type": "stream",
     "text": [
      "Trial 1/20: Running 500 iterations: 100%|██████████| 500/500 [00:01<00:00, 453.71it/s]\n",
      "Trial 2/20: Running 500 iterations: 100%|██████████| 500/500 [00:01<00:00, 458.34it/s]\n",
      "Trial 3/20: Running 500 iterations: 100%|██████████| 500/500 [00:01<00:00, 457.61it/s]\n",
      "Trial 4/20: Running 500 iterations: 100%|██████████| 500/500 [00:01<00:00, 459.42it/s]\n",
      "Trial 5/20: Running 500 iterations: 100%|██████████| 500/500 [00:01<00:00, 459.14it/s]\n",
      "Trial 6/20: Running 500 iterations: 100%|██████████| 500/500 [00:01<00:00, 453.94it/s]\n",
      "Trial 7/20: Running 500 iterations: 100%|██████████| 500/500 [00:01<00:00, 456.35it/s]\n",
      "Trial 8/20: Running 500 iterations: 100%|██████████| 500/500 [00:01<00:00, 465.08it/s]\n",
      "Trial 9/20: Running 500 iterations: 100%|██████████| 500/500 [00:01<00:00, 468.34it/s]\n",
      "Trial 10/20: Running 500 iterations: 100%|██████████| 500/500 [00:01<00:00, 467.00it/s]\n",
      "Trial 11/20: Running 500 iterations: 100%|██████████| 500/500 [00:01<00:00, 467.82it/s]\n",
      "Trial 12/20: Running 500 iterations: 100%|██████████| 500/500 [00:01<00:00, 465.18it/s]\n",
      "Trial 13/20: Running 500 iterations: 100%|██████████| 500/500 [00:01<00:00, 467.62it/s]\n",
      "Trial 14/20: Running 500 iterations: 100%|██████████| 500/500 [00:01<00:00, 460.49it/s]\n",
      "Trial 15/20: Running 500 iterations: 100%|██████████| 500/500 [00:01<00:00, 467.60it/s]\n",
      "Trial 16/20: Running 500 iterations: 100%|██████████| 500/500 [00:01<00:00, 466.54it/s]\n",
      "Trial 17/20: Running 500 iterations: 100%|██████████| 500/500 [00:01<00:00, 468.21it/s]\n",
      "Trial 18/20: Running 500 iterations: 100%|██████████| 500/500 [00:01<00:00, 466.13it/s]\n",
      "Trial 19/20: Running 500 iterations: 100%|██████████| 500/500 [00:01<00:00, 465.77it/s]\n",
      "Trial 20/20: Running 500 iterations: 100%|██████████| 500/500 [00:01<00:00, 467.11it/s]\n",
      "Unsupported operator aten::max_pool2d encountered 3 time(s)\n",
      "Unsupported operator aten::add encountered 3 time(s)\n"
     ]
    },
    {
     "name": "stdout",
     "output_type": "stream",
     "text": [
      "Processing batch size: 32\n"
     ]
    },
    {
     "name": "stderr",
     "output_type": "stream",
     "text": [
      "Trial 1/20: Running 500 iterations: 100%|██████████| 500/500 [00:01<00:00, 264.83it/s]\n",
      "Trial 2/20: Running 500 iterations: 100%|██████████| 500/500 [00:01<00:00, 265.23it/s]\n",
      "Trial 3/20: Running 500 iterations: 100%|██████████| 500/500 [00:01<00:00, 266.23it/s]\n",
      "Trial 4/20: Running 500 iterations: 100%|██████████| 500/500 [00:01<00:00, 266.13it/s]\n",
      "Trial 5/20: Running 500 iterations: 100%|██████████| 500/500 [00:01<00:00, 271.27it/s]\n",
      "Trial 6/20: Running 500 iterations: 100%|██████████| 500/500 [00:01<00:00, 271.69it/s]\n",
      "Trial 7/20: Running 500 iterations: 100%|██████████| 500/500 [00:01<00:00, 271.38it/s]\n",
      "Trial 8/20: Running 500 iterations: 100%|██████████| 500/500 [00:01<00:00, 272.02it/s]\n",
      "Trial 9/20: Running 500 iterations: 100%|██████████| 500/500 [00:01<00:00, 271.33it/s]\n",
      "Trial 10/20: Running 500 iterations: 100%|██████████| 500/500 [00:01<00:00, 272.46it/s]\n",
      "Trial 11/20: Running 500 iterations: 100%|██████████| 500/500 [00:01<00:00, 272.13it/s]\n",
      "Trial 12/20: Running 500 iterations: 100%|██████████| 500/500 [00:01<00:00, 271.86it/s]\n",
      "Trial 13/20: Running 500 iterations: 100%|██████████| 500/500 [00:01<00:00, 271.94it/s]\n",
      "Trial 14/20: Running 500 iterations: 100%|██████████| 500/500 [00:01<00:00, 272.28it/s]\n",
      "Trial 15/20: Running 500 iterations: 100%|██████████| 500/500 [00:01<00:00, 271.33it/s]\n",
      "Trial 16/20: Running 500 iterations: 100%|██████████| 500/500 [00:01<00:00, 271.97it/s]\n",
      "Trial 17/20: Running 500 iterations: 100%|██████████| 500/500 [00:01<00:00, 271.02it/s]\n",
      "Trial 18/20: Running 500 iterations: 100%|██████████| 500/500 [00:01<00:00, 265.63it/s]\n",
      "Trial 19/20: Running 500 iterations: 100%|██████████| 500/500 [00:01<00:00, 264.39it/s]\n",
      "Trial 20/20: Running 500 iterations: 100%|██████████| 500/500 [00:01<00:00, 266.42it/s]\n",
      "Unsupported operator aten::max_pool2d encountered 3 time(s)\n",
      "Unsupported operator aten::add encountered 3 time(s)\n"
     ]
    },
    {
     "name": "stdout",
     "output_type": "stream",
     "text": [
      "Processing batch size: 64\n"
     ]
    },
    {
     "name": "stderr",
     "output_type": "stream",
     "text": [
      "Trial 1/20: Running 500 iterations: 100%|██████████| 500/500 [00:03<00:00, 158.80it/s]\n",
      "Trial 2/20: Running 500 iterations: 100%|██████████| 500/500 [00:03<00:00, 159.69it/s]\n",
      "Trial 3/20: Running 500 iterations: 100%|██████████| 500/500 [00:03<00:00, 159.67it/s]\n",
      "Trial 4/20: Running 500 iterations: 100%|██████████| 500/500 [00:03<00:00, 160.06it/s]\n",
      "Trial 5/20: Running 500 iterations: 100%|██████████| 500/500 [00:03<00:00, 161.07it/s]\n",
      "Trial 6/20: Running 500 iterations: 100%|██████████| 500/500 [00:03<00:00, 161.30it/s]\n",
      "Trial 7/20: Running 500 iterations: 100%|██████████| 500/500 [00:03<00:00, 160.04it/s]\n",
      "Trial 8/20: Running 500 iterations: 100%|██████████| 500/500 [00:03<00:00, 165.96it/s]\n",
      "Trial 9/20: Running 500 iterations: 100%|██████████| 500/500 [00:02<00:00, 167.31it/s]\n",
      "Trial 10/20: Running 500 iterations: 100%|██████████| 500/500 [00:03<00:00, 163.53it/s]\n",
      "Trial 11/20: Running 500 iterations: 100%|██████████| 500/500 [00:03<00:00, 163.04it/s]\n",
      "Trial 12/20: Running 500 iterations: 100%|██████████| 500/500 [00:02<00:00, 167.78it/s]\n",
      "Trial 13/20: Running 500 iterations: 100%|██████████| 500/500 [00:02<00:00, 168.06it/s]\n",
      "Trial 14/20: Running 500 iterations: 100%|██████████| 500/500 [00:03<00:00, 165.56it/s]\n",
      "Trial 15/20: Running 500 iterations: 100%|██████████| 500/500 [00:03<00:00, 164.75it/s]\n",
      "Trial 16/20: Running 500 iterations: 100%|██████████| 500/500 [00:03<00:00, 163.81it/s]\n",
      "Trial 17/20: Running 500 iterations: 100%|██████████| 500/500 [00:03<00:00, 165.67it/s]\n",
      "Trial 18/20: Running 500 iterations: 100%|██████████| 500/500 [00:03<00:00, 164.79it/s]\n",
      "Trial 19/20: Running 500 iterations: 100%|██████████| 500/500 [00:03<00:00, 166.19it/s]\n",
      "Trial 20/20: Running 500 iterations: 100%|██████████| 500/500 [00:03<00:00, 165.70it/s]\n",
      "Processing Models:  61%|██████    | 40/66 [1:27:19<57:26, 132.57s/it]"
     ]
    },
    {
     "name": "stdout",
     "output_type": "stream",
     "text": [
      "Processing model: d:\\PruneLimit\\PruneLimitAnalyzer\\models\\AlexNet_DATASET_random_PD3_GPR-15_PRUNED_SEED_23.pth\n"
     ]
    },
    {
     "name": "stderr",
     "output_type": "stream",
     "text": [
      "Unsupported operator aten::max_pool2d encountered 3 time(s)\n",
      "Unsupported operator aten::add encountered 4 time(s)\n"
     ]
    },
    {
     "name": "stdout",
     "output_type": "stream",
     "text": [
      "Processing batch size: 1\n"
     ]
    },
    {
     "name": "stderr",
     "output_type": "stream",
     "text": [
      "Trial 1/20: Running 500 iterations: 100%|██████████| 500/500 [00:00<00:00, 798.23it/s]\n",
      "Trial 2/20: Running 500 iterations: 100%|██████████| 500/500 [00:00<00:00, 972.88it/s]\n",
      "Trial 3/20: Running 500 iterations: 100%|██████████| 500/500 [00:00<00:00, 916.20it/s]\n",
      "Trial 4/20: Running 500 iterations: 100%|██████████| 500/500 [00:00<00:00, 918.90it/s]\n",
      "Trial 5/20: Running 500 iterations: 100%|██████████| 500/500 [00:00<00:00, 943.66it/s]\n",
      "Trial 6/20: Running 500 iterations: 100%|██████████| 500/500 [00:00<00:00, 879.78it/s]\n",
      "Trial 7/20: Running 500 iterations: 100%|██████████| 500/500 [00:00<00:00, 914.91it/s]\n",
      "Trial 8/20: Running 500 iterations: 100%|██████████| 500/500 [00:00<00:00, 881.91it/s]\n",
      "Trial 9/20: Running 500 iterations: 100%|██████████| 500/500 [00:00<00:00, 859.24it/s]\n",
      "Trial 10/20: Running 500 iterations: 100%|██████████| 500/500 [00:00<00:00, 887.00it/s]\n",
      "Trial 11/20: Running 500 iterations: 100%|██████████| 500/500 [00:00<00:00, 936.88it/s]\n",
      "Trial 12/20: Running 500 iterations: 100%|██████████| 500/500 [00:00<00:00, 791.22it/s]\n",
      "Trial 13/20: Running 500 iterations: 100%|██████████| 500/500 [00:00<00:00, 854.05it/s]\n",
      "Trial 14/20: Running 500 iterations: 100%|██████████| 500/500 [00:00<00:00, 851.73it/s]\n",
      "Trial 15/20: Running 500 iterations: 100%|██████████| 500/500 [00:00<00:00, 932.22it/s]\n",
      "Trial 16/20: Running 500 iterations: 100%|██████████| 500/500 [00:00<00:00, 710.32it/s]\n",
      "Trial 17/20: Running 500 iterations: 100%|██████████| 500/500 [00:00<00:00, 868.98it/s]\n",
      "Trial 18/20: Running 500 iterations: 100%|██████████| 500/500 [00:00<00:00, 746.72it/s]\n",
      "Trial 19/20: Running 500 iterations: 100%|██████████| 500/500 [00:00<00:00, 873.78it/s]\n",
      "Trial 20/20: Running 500 iterations: 100%|██████████| 500/500 [00:00<00:00, 869.27it/s]\n",
      "Unsupported operator aten::max_pool2d encountered 3 time(s)\n",
      "Unsupported operator aten::add encountered 4 time(s)\n"
     ]
    },
    {
     "name": "stdout",
     "output_type": "stream",
     "text": [
      "Processing batch size: 8\n"
     ]
    },
    {
     "name": "stderr",
     "output_type": "stream",
     "text": [
      "Trial 1/20: Running 500 iterations: 100%|██████████| 500/500 [00:00<00:00, 679.90it/s]\n",
      "Trial 2/20: Running 500 iterations: 100%|██████████| 500/500 [00:00<00:00, 792.28it/s]\n",
      "Trial 3/20: Running 500 iterations: 100%|██████████| 500/500 [00:00<00:00, 763.32it/s]\n",
      "Trial 4/20: Running 500 iterations: 100%|██████████| 500/500 [00:00<00:00, 754.13it/s]\n",
      "Trial 5/20: Running 500 iterations: 100%|██████████| 500/500 [00:00<00:00, 753.10it/s]\n",
      "Trial 6/20: Running 500 iterations: 100%|██████████| 500/500 [00:00<00:00, 783.44it/s]\n",
      "Trial 7/20: Running 500 iterations: 100%|██████████| 500/500 [00:00<00:00, 749.81it/s]\n",
      "Trial 8/20: Running 500 iterations: 100%|██████████| 500/500 [00:00<00:00, 777.50it/s]\n",
      "Trial 9/20: Running 500 iterations: 100%|██████████| 500/500 [00:00<00:00, 799.84it/s]\n",
      "Trial 10/20: Running 500 iterations: 100%|██████████| 500/500 [00:00<00:00, 783.02it/s]\n",
      "Trial 11/20: Running 500 iterations: 100%|██████████| 500/500 [00:00<00:00, 781.35it/s]\n",
      "Trial 12/20: Running 500 iterations: 100%|██████████| 500/500 [00:00<00:00, 793.36it/s]\n",
      "Trial 13/20: Running 500 iterations: 100%|██████████| 500/500 [00:00<00:00, 765.00it/s]\n",
      "Trial 14/20: Running 500 iterations: 100%|██████████| 500/500 [00:00<00:00, 749.71it/s]\n",
      "Trial 15/20: Running 500 iterations: 100%|██████████| 500/500 [00:00<00:00, 794.72it/s]\n",
      "Trial 16/20: Running 500 iterations: 100%|██████████| 500/500 [00:00<00:00, 778.32it/s]\n",
      "Trial 17/20: Running 500 iterations: 100%|██████████| 500/500 [00:00<00:00, 788.13it/s]\n",
      "Trial 18/20: Running 500 iterations: 100%|██████████| 500/500 [00:00<00:00, 786.75it/s]\n",
      "Trial 19/20: Running 500 iterations: 100%|██████████| 500/500 [00:00<00:00, 795.01it/s]\n",
      "Trial 20/20: Running 500 iterations: 100%|██████████| 500/500 [00:00<00:00, 789.63it/s]\n",
      "Unsupported operator aten::max_pool2d encountered 3 time(s)\n",
      "Unsupported operator aten::add encountered 4 time(s)\n"
     ]
    },
    {
     "name": "stdout",
     "output_type": "stream",
     "text": [
      "Processing batch size: 16\n"
     ]
    },
    {
     "name": "stderr",
     "output_type": "stream",
     "text": [
      "Trial 1/20: Running 500 iterations: 100%|██████████| 500/500 [00:00<00:00, 518.83it/s]\n",
      "Trial 2/20: Running 500 iterations: 100%|██████████| 500/500 [00:00<00:00, 515.42it/s]\n",
      "Trial 3/20: Running 500 iterations: 100%|██████████| 500/500 [00:00<00:00, 511.86it/s]\n",
      "Trial 4/20: Running 500 iterations: 100%|██████████| 500/500 [00:00<00:00, 511.34it/s]\n",
      "Trial 5/20: Running 500 iterations: 100%|██████████| 500/500 [00:00<00:00, 515.64it/s]\n",
      "Trial 6/20: Running 500 iterations: 100%|██████████| 500/500 [00:00<00:00, 523.59it/s]\n",
      "Trial 7/20: Running 500 iterations: 100%|██████████| 500/500 [00:00<00:00, 519.80it/s]\n",
      "Trial 8/20: Running 500 iterations: 100%|██████████| 500/500 [00:00<00:00, 517.05it/s]\n",
      "Trial 9/20: Running 500 iterations: 100%|██████████| 500/500 [00:00<00:00, 509.26it/s]\n",
      "Trial 10/20: Running 500 iterations: 100%|██████████| 500/500 [00:00<00:00, 518.60it/s]\n",
      "Trial 11/20: Running 500 iterations: 100%|██████████| 500/500 [00:00<00:00, 511.29it/s]\n",
      "Trial 12/20: Running 500 iterations: 100%|██████████| 500/500 [00:00<00:00, 517.48it/s]\n",
      "Trial 13/20: Running 500 iterations: 100%|██████████| 500/500 [00:00<00:00, 518.08it/s]\n",
      "Trial 14/20: Running 500 iterations: 100%|██████████| 500/500 [00:00<00:00, 521.56it/s]\n",
      "Trial 15/20: Running 500 iterations: 100%|██████████| 500/500 [00:00<00:00, 513.94it/s]\n",
      "Trial 16/20: Running 500 iterations: 100%|██████████| 500/500 [00:00<00:00, 515.62it/s]\n",
      "Trial 17/20: Running 500 iterations: 100%|██████████| 500/500 [00:00<00:00, 516.18it/s]\n",
      "Trial 18/20: Running 500 iterations: 100%|██████████| 500/500 [00:00<00:00, 520.33it/s]\n",
      "Trial 19/20: Running 500 iterations: 100%|██████████| 500/500 [00:00<00:00, 506.99it/s]\n",
      "Trial 20/20: Running 500 iterations: 100%|██████████| 500/500 [00:00<00:00, 511.87it/s]\n",
      "Unsupported operator aten::max_pool2d encountered 3 time(s)\n",
      "Unsupported operator aten::add encountered 4 time(s)\n"
     ]
    },
    {
     "name": "stdout",
     "output_type": "stream",
     "text": [
      "Processing batch size: 32\n"
     ]
    },
    {
     "name": "stderr",
     "output_type": "stream",
     "text": [
      "Trial 1/20: Running 500 iterations: 100%|██████████| 500/500 [00:01<00:00, 310.11it/s]\n",
      "Trial 2/20: Running 500 iterations: 100%|██████████| 500/500 [00:01<00:00, 307.82it/s]\n",
      "Trial 3/20: Running 500 iterations: 100%|██████████| 500/500 [00:01<00:00, 308.80it/s]\n",
      "Trial 4/20: Running 500 iterations: 100%|██████████| 500/500 [00:01<00:00, 310.26it/s]\n",
      "Trial 5/20: Running 500 iterations: 100%|██████████| 500/500 [00:01<00:00, 309.67it/s]\n",
      "Trial 6/20: Running 500 iterations: 100%|██████████| 500/500 [00:01<00:00, 310.23it/s]\n",
      "Trial 7/20: Running 500 iterations: 100%|██████████| 500/500 [00:01<00:00, 311.72it/s]\n",
      "Trial 8/20: Running 500 iterations: 100%|██████████| 500/500 [00:01<00:00, 307.52it/s]\n",
      "Trial 9/20: Running 500 iterations: 100%|██████████| 500/500 [00:01<00:00, 310.27it/s]\n",
      "Trial 10/20: Running 500 iterations: 100%|██████████| 500/500 [00:01<00:00, 311.91it/s]\n",
      "Trial 11/20: Running 500 iterations: 100%|██████████| 500/500 [00:01<00:00, 307.21it/s]\n",
      "Trial 12/20: Running 500 iterations: 100%|██████████| 500/500 [00:01<00:00, 307.30it/s]\n",
      "Trial 13/20: Running 500 iterations: 100%|██████████| 500/500 [00:01<00:00, 307.29it/s]\n",
      "Trial 14/20: Running 500 iterations: 100%|██████████| 500/500 [00:01<00:00, 310.53it/s]\n",
      "Trial 15/20: Running 500 iterations: 100%|██████████| 500/500 [00:01<00:00, 309.90it/s]\n",
      "Trial 16/20: Running 500 iterations: 100%|██████████| 500/500 [00:01<00:00, 310.29it/s]\n",
      "Trial 17/20: Running 500 iterations: 100%|██████████| 500/500 [00:01<00:00, 307.97it/s]\n",
      "Trial 18/20: Running 500 iterations: 100%|██████████| 500/500 [00:01<00:00, 308.80it/s]\n",
      "Trial 19/20: Running 500 iterations: 100%|██████████| 500/500 [00:01<00:00, 309.44it/s]\n",
      "Trial 20/20: Running 500 iterations: 100%|██████████| 500/500 [00:01<00:00, 308.11it/s]\n",
      "Unsupported operator aten::max_pool2d encountered 3 time(s)\n",
      "Unsupported operator aten::add encountered 4 time(s)\n"
     ]
    },
    {
     "name": "stdout",
     "output_type": "stream",
     "text": [
      "Processing batch size: 64\n"
     ]
    },
    {
     "name": "stderr",
     "output_type": "stream",
     "text": [
      "Trial 1/20: Running 500 iterations: 100%|██████████| 500/500 [00:02<00:00, 189.43it/s]\n",
      "Trial 2/20: Running 500 iterations: 100%|██████████| 500/500 [00:02<00:00, 189.62it/s]\n",
      "Trial 3/20: Running 500 iterations: 100%|██████████| 500/500 [00:02<00:00, 190.81it/s]\n",
      "Trial 4/20: Running 500 iterations: 100%|██████████| 500/500 [00:02<00:00, 188.87it/s]\n",
      "Trial 5/20: Running 500 iterations: 100%|██████████| 500/500 [00:02<00:00, 189.58it/s]\n",
      "Trial 6/20: Running 500 iterations: 100%|██████████| 500/500 [00:02<00:00, 188.65it/s]\n",
      "Trial 7/20: Running 500 iterations: 100%|██████████| 500/500 [00:02<00:00, 190.32it/s]\n",
      "Trial 8/20: Running 500 iterations: 100%|██████████| 500/500 [00:02<00:00, 189.65it/s]\n",
      "Trial 9/20: Running 500 iterations: 100%|██████████| 500/500 [00:02<00:00, 189.72it/s]\n",
      "Trial 10/20: Running 500 iterations: 100%|██████████| 500/500 [00:02<00:00, 189.65it/s]\n",
      "Trial 11/20: Running 500 iterations: 100%|██████████| 500/500 [00:02<00:00, 189.79it/s]\n",
      "Trial 12/20: Running 500 iterations: 100%|██████████| 500/500 [00:02<00:00, 190.28it/s]\n",
      "Trial 13/20: Running 500 iterations: 100%|██████████| 500/500 [00:02<00:00, 190.45it/s]\n",
      "Trial 14/20: Running 500 iterations: 100%|██████████| 500/500 [00:02<00:00, 189.71it/s]\n",
      "Trial 15/20: Running 500 iterations: 100%|██████████| 500/500 [00:02<00:00, 189.61it/s]\n",
      "Trial 16/20: Running 500 iterations: 100%|██████████| 500/500 [00:02<00:00, 189.37it/s]\n",
      "Trial 17/20: Running 500 iterations: 100%|██████████| 500/500 [00:02<00:00, 189.64it/s]\n",
      "Trial 18/20: Running 500 iterations: 100%|██████████| 500/500 [00:02<00:00, 189.95it/s]\n",
      "Trial 19/20: Running 500 iterations: 100%|██████████| 500/500 [00:02<00:00, 190.27it/s]\n",
      "Trial 20/20: Running 500 iterations: 100%|██████████| 500/500 [00:02<00:00, 189.47it/s]\n",
      "Processing Models:  62%|██████▏   | 41/66 [1:30:00<58:45, 141.04s/it]"
     ]
    },
    {
     "name": "stdout",
     "output_type": "stream",
     "text": [
      "Processing model: d:\\PruneLimit\\PruneLimitAnalyzer\\models\\AlexNet_DATASET_random_PD2_GPR-15_PRUNED_SEED_23.pth\n"
     ]
    },
    {
     "name": "stderr",
     "output_type": "stream",
     "text": [
      "Unsupported operator aten::max_pool2d encountered 3 time(s)\n",
      "Unsupported operator aten::add encountered 4 time(s)\n"
     ]
    },
    {
     "name": "stdout",
     "output_type": "stream",
     "text": [
      "Processing batch size: 1\n"
     ]
    },
    {
     "name": "stderr",
     "output_type": "stream",
     "text": [
      "Trial 1/20: Running 500 iterations: 100%|██████████| 500/500 [00:00<00:00, 1048.98it/s]\n",
      "Trial 2/20: Running 500 iterations: 100%|██████████| 500/500 [00:00<00:00, 1051.43it/s]\n",
      "Trial 3/20: Running 500 iterations: 100%|██████████| 500/500 [00:00<00:00, 1044.58it/s]\n",
      "Trial 4/20: Running 500 iterations: 100%|██████████| 500/500 [00:00<00:00, 1049.92it/s]\n",
      "Trial 5/20: Running 500 iterations: 100%|██████████| 500/500 [00:00<00:00, 1023.38it/s]\n",
      "Trial 6/20: Running 500 iterations: 100%|██████████| 500/500 [00:00<00:00, 1060.32it/s]\n",
      "Trial 7/20: Running 500 iterations: 100%|██████████| 500/500 [00:00<00:00, 1030.64it/s]\n",
      "Trial 8/20: Running 500 iterations: 100%|██████████| 500/500 [00:00<00:00, 1043.68it/s]\n",
      "Trial 9/20: Running 500 iterations: 100%|██████████| 500/500 [00:00<00:00, 1038.75it/s]\n",
      "Trial 10/20: Running 500 iterations: 100%|██████████| 500/500 [00:00<00:00, 916.25it/s]\n",
      "Trial 11/20: Running 500 iterations: 100%|██████████| 500/500 [00:00<00:00, 982.09it/s]\n",
      "Trial 12/20: Running 500 iterations: 100%|██████████| 500/500 [00:00<00:00, 979.60it/s]\n",
      "Trial 13/20: Running 500 iterations: 100%|██████████| 500/500 [00:00<00:00, 1045.87it/s]\n",
      "Trial 14/20: Running 500 iterations: 100%|██████████| 500/500 [00:00<00:00, 958.68it/s] \n",
      "Trial 15/20: Running 500 iterations: 100%|██████████| 500/500 [00:00<00:00, 958.17it/s] \n",
      "Trial 16/20: Running 500 iterations: 100%|██████████| 500/500 [00:00<00:00, 953.88it/s]\n",
      "Trial 17/20: Running 500 iterations: 100%|██████████| 500/500 [00:00<00:00, 1044.94it/s]\n",
      "Trial 18/20: Running 500 iterations: 100%|██████████| 500/500 [00:00<00:00, 885.73it/s]\n",
      "Trial 19/20: Running 500 iterations: 100%|██████████| 500/500 [00:00<00:00, 994.82it/s]\n",
      "Trial 20/20: Running 500 iterations: 100%|██████████| 500/500 [00:00<00:00, 878.08it/s]\n",
      "Unsupported operator aten::max_pool2d encountered 3 time(s)\n",
      "Unsupported operator aten::add encountered 4 time(s)\n"
     ]
    },
    {
     "name": "stdout",
     "output_type": "stream",
     "text": [
      "Processing batch size: 8\n"
     ]
    },
    {
     "name": "stderr",
     "output_type": "stream",
     "text": [
      "Trial 1/20: Running 500 iterations: 100%|██████████| 500/500 [00:00<00:00, 791.65it/s]\n",
      "Trial 2/20: Running 500 iterations: 100%|██████████| 500/500 [00:00<00:00, 723.25it/s]\n",
      "Trial 3/20: Running 500 iterations: 100%|██████████| 500/500 [00:00<00:00, 689.55it/s]\n",
      "Trial 4/20: Running 500 iterations: 100%|██████████| 500/500 [00:00<00:00, 659.16it/s]\n",
      "Trial 5/20: Running 500 iterations: 100%|██████████| 500/500 [00:00<00:00, 822.24it/s]\n",
      "Trial 6/20: Running 500 iterations: 100%|██████████| 500/500 [00:00<00:00, 817.68it/s]\n",
      "Trial 7/20: Running 500 iterations: 100%|██████████| 500/500 [00:00<00:00, 817.95it/s]\n",
      "Trial 8/20: Running 500 iterations: 100%|██████████| 500/500 [00:00<00:00, 828.31it/s]\n",
      "Trial 9/20: Running 500 iterations: 100%|██████████| 500/500 [00:00<00:00, 810.42it/s]\n",
      "Trial 10/20: Running 500 iterations: 100%|██████████| 500/500 [00:00<00:00, 803.11it/s]\n",
      "Trial 11/20: Running 500 iterations: 100%|██████████| 500/500 [00:00<00:00, 740.36it/s]\n",
      "Trial 12/20: Running 500 iterations: 100%|██████████| 500/500 [00:00<00:00, 772.75it/s]\n",
      "Trial 13/20: Running 500 iterations: 100%|██████████| 500/500 [00:00<00:00, 807.08it/s]\n",
      "Trial 14/20: Running 500 iterations: 100%|██████████| 500/500 [00:00<00:00, 802.46it/s]\n",
      "Trial 15/20: Running 500 iterations: 100%|██████████| 500/500 [00:00<00:00, 781.82it/s]\n",
      "Trial 16/20: Running 500 iterations: 100%|██████████| 500/500 [00:00<00:00, 779.33it/s]\n",
      "Trial 17/20: Running 500 iterations: 100%|██████████| 500/500 [00:00<00:00, 796.83it/s]\n",
      "Trial 18/20: Running 500 iterations: 100%|██████████| 500/500 [00:00<00:00, 786.61it/s]\n",
      "Trial 19/20: Running 500 iterations: 100%|██████████| 500/500 [00:00<00:00, 805.00it/s]\n",
      "Trial 20/20: Running 500 iterations: 100%|██████████| 500/500 [00:00<00:00, 819.07it/s]\n",
      "Unsupported operator aten::max_pool2d encountered 3 time(s)\n",
      "Unsupported operator aten::add encountered 4 time(s)\n"
     ]
    },
    {
     "name": "stdout",
     "output_type": "stream",
     "text": [
      "Processing batch size: 16\n"
     ]
    },
    {
     "name": "stderr",
     "output_type": "stream",
     "text": [
      "Trial 1/20: Running 500 iterations: 100%|██████████| 500/500 [00:00<00:00, 531.63it/s]\n",
      "Trial 2/20: Running 500 iterations: 100%|██████████| 500/500 [00:00<00:00, 531.79it/s]\n",
      "Trial 3/20: Running 500 iterations: 100%|██████████| 500/500 [00:00<00:00, 528.58it/s]\n",
      "Trial 4/20: Running 500 iterations: 100%|██████████| 500/500 [00:00<00:00, 536.11it/s]\n",
      "Trial 5/20: Running 500 iterations: 100%|██████████| 500/500 [00:00<00:00, 527.54it/s]\n",
      "Trial 6/20: Running 500 iterations: 100%|██████████| 500/500 [00:00<00:00, 528.62it/s]\n",
      "Trial 7/20: Running 500 iterations: 100%|██████████| 500/500 [00:00<00:00, 539.23it/s]\n",
      "Trial 8/20: Running 500 iterations: 100%|██████████| 500/500 [00:00<00:00, 539.80it/s]\n",
      "Trial 9/20: Running 500 iterations: 100%|██████████| 500/500 [00:00<00:00, 534.87it/s]\n",
      "Trial 10/20: Running 500 iterations: 100%|██████████| 500/500 [00:00<00:00, 533.63it/s]\n",
      "Trial 11/20: Running 500 iterations: 100%|██████████| 500/500 [00:00<00:00, 536.92it/s]\n",
      "Trial 12/20: Running 500 iterations: 100%|██████████| 500/500 [00:00<00:00, 538.76it/s]\n",
      "Trial 13/20: Running 500 iterations: 100%|██████████| 500/500 [00:00<00:00, 535.90it/s]\n",
      "Trial 14/20: Running 500 iterations: 100%|██████████| 500/500 [00:00<00:00, 540.29it/s]\n",
      "Trial 15/20: Running 500 iterations: 100%|██████████| 500/500 [00:00<00:00, 525.91it/s]\n",
      "Trial 16/20: Running 500 iterations: 100%|██████████| 500/500 [00:00<00:00, 530.85it/s]\n",
      "Trial 17/20: Running 500 iterations: 100%|██████████| 500/500 [00:00<00:00, 529.78it/s]\n",
      "Trial 18/20: Running 500 iterations: 100%|██████████| 500/500 [00:00<00:00, 531.06it/s]\n",
      "Trial 19/20: Running 500 iterations: 100%|██████████| 500/500 [00:00<00:00, 532.54it/s]\n",
      "Trial 20/20: Running 500 iterations: 100%|██████████| 500/500 [00:00<00:00, 533.24it/s]\n",
      "Unsupported operator aten::max_pool2d encountered 3 time(s)\n",
      "Unsupported operator aten::add encountered 4 time(s)\n"
     ]
    },
    {
     "name": "stdout",
     "output_type": "stream",
     "text": [
      "Processing batch size: 32\n"
     ]
    },
    {
     "name": "stderr",
     "output_type": "stream",
     "text": [
      "Trial 1/20: Running 500 iterations: 100%|██████████| 500/500 [00:01<00:00, 316.78it/s]\n",
      "Trial 2/20: Running 500 iterations: 100%|██████████| 500/500 [00:01<00:00, 318.52it/s]\n",
      "Trial 3/20: Running 500 iterations: 100%|██████████| 500/500 [00:01<00:00, 318.64it/s]\n",
      "Trial 4/20: Running 500 iterations: 100%|██████████| 500/500 [00:01<00:00, 318.22it/s]\n",
      "Trial 5/20: Running 500 iterations: 100%|██████████| 500/500 [00:01<00:00, 318.20it/s]\n",
      "Trial 6/20: Running 500 iterations: 100%|██████████| 500/500 [00:01<00:00, 315.94it/s]\n",
      "Trial 7/20: Running 500 iterations: 100%|██████████| 500/500 [00:01<00:00, 320.64it/s]\n",
      "Trial 8/20: Running 500 iterations: 100%|██████████| 500/500 [00:01<00:00, 317.63it/s]\n",
      "Trial 9/20: Running 500 iterations: 100%|██████████| 500/500 [00:01<00:00, 317.46it/s]\n",
      "Trial 10/20: Running 500 iterations: 100%|██████████| 500/500 [00:01<00:00, 317.96it/s]\n",
      "Trial 11/20: Running 500 iterations: 100%|██████████| 500/500 [00:01<00:00, 317.93it/s]\n",
      "Trial 12/20: Running 500 iterations: 100%|██████████| 500/500 [00:01<00:00, 317.21it/s]\n",
      "Trial 13/20: Running 500 iterations: 100%|██████████| 500/500 [00:01<00:00, 316.28it/s]\n",
      "Trial 14/20: Running 500 iterations: 100%|██████████| 500/500 [00:01<00:00, 315.66it/s]\n",
      "Trial 15/20: Running 500 iterations: 100%|██████████| 500/500 [00:01<00:00, 317.53it/s]\n",
      "Trial 16/20: Running 500 iterations: 100%|██████████| 500/500 [00:01<00:00, 315.93it/s]\n",
      "Trial 17/20: Running 500 iterations: 100%|██████████| 500/500 [00:01<00:00, 316.57it/s]\n",
      "Trial 18/20: Running 500 iterations: 100%|██████████| 500/500 [00:01<00:00, 318.34it/s]\n",
      "Trial 19/20: Running 500 iterations: 100%|██████████| 500/500 [00:01<00:00, 314.75it/s]\n",
      "Trial 20/20: Running 500 iterations: 100%|██████████| 500/500 [00:01<00:00, 319.79it/s]\n",
      "Unsupported operator aten::max_pool2d encountered 3 time(s)\n",
      "Unsupported operator aten::add encountered 4 time(s)\n"
     ]
    },
    {
     "name": "stdout",
     "output_type": "stream",
     "text": [
      "Processing batch size: 64\n"
     ]
    },
    {
     "name": "stderr",
     "output_type": "stream",
     "text": [
      "Trial 1/20: Running 500 iterations: 100%|██████████| 500/500 [00:02<00:00, 192.86it/s]\n",
      "Trial 2/20: Running 500 iterations: 100%|██████████| 500/500 [00:02<00:00, 192.61it/s]\n",
      "Trial 3/20: Running 500 iterations: 100%|██████████| 500/500 [00:02<00:00, 193.43it/s]\n",
      "Trial 4/20: Running 500 iterations: 100%|██████████| 500/500 [00:02<00:00, 192.00it/s]\n",
      "Trial 5/20: Running 500 iterations: 100%|██████████| 500/500 [00:02<00:00, 192.82it/s]\n",
      "Trial 6/20: Running 500 iterations: 100%|██████████| 500/500 [00:02<00:00, 191.89it/s]\n",
      "Trial 7/20: Running 500 iterations: 100%|██████████| 500/500 [00:02<00:00, 193.21it/s]\n",
      "Trial 8/20: Running 500 iterations: 100%|██████████| 500/500 [00:02<00:00, 191.64it/s]\n",
      "Trial 9/20: Running 500 iterations: 100%|██████████| 500/500 [00:02<00:00, 192.25it/s]\n",
      "Trial 10/20: Running 500 iterations: 100%|██████████| 500/500 [00:02<00:00, 192.13it/s]\n",
      "Trial 11/20: Running 500 iterations: 100%|██████████| 500/500 [00:02<00:00, 192.37it/s]\n",
      "Trial 12/20: Running 500 iterations: 100%|██████████| 500/500 [00:02<00:00, 192.70it/s]\n",
      "Trial 13/20: Running 500 iterations: 100%|██████████| 500/500 [00:02<00:00, 191.69it/s]\n",
      "Trial 14/20: Running 500 iterations: 100%|██████████| 500/500 [00:02<00:00, 192.49it/s]\n",
      "Trial 15/20: Running 500 iterations: 100%|██████████| 500/500 [00:02<00:00, 192.69it/s]\n",
      "Trial 16/20: Running 500 iterations: 100%|██████████| 500/500 [00:02<00:00, 192.05it/s]\n",
      "Trial 17/20: Running 500 iterations: 100%|██████████| 500/500 [00:02<00:00, 192.48it/s]\n",
      "Trial 18/20: Running 500 iterations: 100%|██████████| 500/500 [00:02<00:00, 192.78it/s]\n",
      "Trial 19/20: Running 500 iterations: 100%|██████████| 500/500 [00:02<00:00, 192.44it/s]\n",
      "Trial 20/20: Running 500 iterations: 100%|██████████| 500/500 [00:02<00:00, 192.37it/s]\n",
      "Processing Models:  64%|██████▎   | 42/66 [1:32:36<58:12, 145.52s/it]"
     ]
    },
    {
     "name": "stdout",
     "output_type": "stream",
     "text": [
      "Processing model: d:\\PruneLimit\\PruneLimitAnalyzer\\models\\AlexNet_DATASET_random_PD4_GPR-25_PRUNED_SEED_23.pth\n",
      "Processing batch size: 1\n"
     ]
    },
    {
     "name": "stderr",
     "output_type": "stream",
     "text": [
      "Unsupported operator aten::max_pool2d encountered 3 time(s)\n",
      "Unsupported operator aten::add encountered 4 time(s)\n",
      "Trial 1/20: Running 500 iterations: 100%|██████████| 500/500 [00:00<00:00, 993.32it/s]\n",
      "Trial 2/20: Running 500 iterations: 100%|██████████| 500/500 [00:00<00:00, 948.83it/s]\n",
      "Trial 3/20: Running 500 iterations: 100%|██████████| 500/500 [00:00<00:00, 976.46it/s]\n",
      "Trial 4/20: Running 500 iterations: 100%|██████████| 500/500 [00:00<00:00, 939.69it/s]\n",
      "Trial 5/20: Running 500 iterations: 100%|██████████| 500/500 [00:00<00:00, 987.88it/s]\n",
      "Trial 6/20: Running 500 iterations: 100%|██████████| 500/500 [00:00<00:00, 833.43it/s]\n",
      "Trial 7/20: Running 500 iterations: 100%|██████████| 500/500 [00:00<00:00, 752.90it/s]\n",
      "Trial 8/20: Running 500 iterations: 100%|██████████| 500/500 [00:00<00:00, 919.92it/s]\n",
      "Trial 9/20: Running 500 iterations: 100%|██████████| 500/500 [00:00<00:00, 932.80it/s] \n",
      "Trial 10/20: Running 500 iterations: 100%|██████████| 500/500 [00:00<00:00, 865.30it/s]\n",
      "Trial 11/20: Running 500 iterations: 100%|██████████| 500/500 [00:00<00:00, 879.10it/s]\n",
      "Trial 12/20: Running 500 iterations: 100%|██████████| 500/500 [00:00<00:00, 1022.92it/s]\n",
      "Trial 13/20: Running 500 iterations: 100%|██████████| 500/500 [00:00<00:00, 830.45it/s]\n",
      "Trial 14/20: Running 500 iterations: 100%|██████████| 500/500 [00:00<00:00, 985.70it/s]\n",
      "Trial 15/20: Running 500 iterations: 100%|██████████| 500/500 [00:00<00:00, 998.63it/s] \n",
      "Trial 16/20: Running 500 iterations: 100%|██████████| 500/500 [00:00<00:00, 1030.35it/s]\n",
      "Trial 17/20: Running 500 iterations: 100%|██████████| 500/500 [00:00<00:00, 1028.17it/s]\n",
      "Trial 18/20: Running 500 iterations: 100%|██████████| 500/500 [00:00<00:00, 1021.01it/s]\n",
      "Trial 19/20: Running 500 iterations: 100%|██████████| 500/500 [00:00<00:00, 1014.51it/s]\n",
      "Trial 20/20: Running 500 iterations: 100%|██████████| 500/500 [00:00<00:00, 1010.92it/s]\n",
      "Unsupported operator aten::max_pool2d encountered 3 time(s)\n",
      "Unsupported operator aten::add encountered 4 time(s)\n"
     ]
    },
    {
     "name": "stdout",
     "output_type": "stream",
     "text": [
      "Processing batch size: 8\n"
     ]
    },
    {
     "name": "stderr",
     "output_type": "stream",
     "text": [
      "Trial 1/20: Running 500 iterations: 100%|██████████| 500/500 [00:00<00:00, 877.83it/s]\n",
      "Trial 2/20: Running 500 iterations: 100%|██████████| 500/500 [00:00<00:00, 850.69it/s]\n",
      "Trial 3/20: Running 500 iterations: 100%|██████████| 500/500 [00:00<00:00, 739.24it/s]\n",
      "Trial 4/20: Running 500 iterations: 100%|██████████| 500/500 [00:00<00:00, 686.31it/s]\n",
      "Trial 5/20: Running 500 iterations: 100%|██████████| 500/500 [00:00<00:00, 792.45it/s]\n",
      "Trial 6/20: Running 500 iterations: 100%|██████████| 500/500 [00:00<00:00, 625.14it/s]\n",
      "Trial 7/20: Running 500 iterations: 100%|██████████| 500/500 [00:00<00:00, 678.42it/s]\n",
      "Trial 8/20: Running 500 iterations: 100%|██████████| 500/500 [00:00<00:00, 722.41it/s]\n",
      "Trial 9/20: Running 500 iterations: 100%|██████████| 500/500 [00:00<00:00, 899.37it/s]\n",
      "Trial 10/20: Running 500 iterations: 100%|██████████| 500/500 [00:00<00:00, 881.26it/s]\n",
      "Trial 11/20: Running 500 iterations: 100%|██████████| 500/500 [00:00<00:00, 863.20it/s]\n",
      "Trial 12/20: Running 500 iterations: 100%|██████████| 500/500 [00:00<00:00, 876.59it/s]\n",
      "Trial 13/20: Running 500 iterations: 100%|██████████| 500/500 [00:00<00:00, 865.33it/s]\n",
      "Trial 14/20: Running 500 iterations: 100%|██████████| 500/500 [00:00<00:00, 849.12it/s]\n",
      "Trial 15/20: Running 500 iterations: 100%|██████████| 500/500 [00:00<00:00, 897.72it/s]\n",
      "Trial 16/20: Running 500 iterations: 100%|██████████| 500/500 [00:00<00:00, 867.62it/s]\n",
      "Trial 17/20: Running 500 iterations: 100%|██████████| 500/500 [00:00<00:00, 899.75it/s]\n",
      "Trial 18/20: Running 500 iterations: 100%|██████████| 500/500 [00:00<00:00, 906.27it/s]\n",
      "Trial 19/20: Running 500 iterations: 100%|██████████| 500/500 [00:00<00:00, 904.79it/s]\n",
      "Trial 20/20: Running 500 iterations: 100%|██████████| 500/500 [00:00<00:00, 898.83it/s]\n",
      "Unsupported operator aten::max_pool2d encountered 3 time(s)\n",
      "Unsupported operator aten::add encountered 4 time(s)\n"
     ]
    },
    {
     "name": "stdout",
     "output_type": "stream",
     "text": [
      "Processing batch size: 16\n"
     ]
    },
    {
     "name": "stderr",
     "output_type": "stream",
     "text": [
      "Trial 1/20: Running 500 iterations: 100%|██████████| 500/500 [00:00<00:00, 652.51it/s]\n",
      "Trial 2/20: Running 500 iterations: 100%|██████████| 500/500 [00:00<00:00, 636.03it/s]\n",
      "Trial 3/20: Running 500 iterations: 100%|██████████| 500/500 [00:00<00:00, 630.51it/s]\n",
      "Trial 4/20: Running 500 iterations: 100%|██████████| 500/500 [00:00<00:00, 628.94it/s]\n",
      "Trial 5/20: Running 500 iterations: 100%|██████████| 500/500 [00:00<00:00, 642.26it/s]\n",
      "Trial 6/20: Running 500 iterations: 100%|██████████| 500/500 [00:00<00:00, 632.57it/s]\n",
      "Trial 7/20: Running 500 iterations: 100%|██████████| 500/500 [00:00<00:00, 646.91it/s]\n",
      "Trial 8/20: Running 500 iterations: 100%|██████████| 500/500 [00:00<00:00, 639.87it/s]\n",
      "Trial 9/20: Running 500 iterations: 100%|██████████| 500/500 [00:00<00:00, 630.92it/s]\n",
      "Trial 10/20: Running 500 iterations: 100%|██████████| 500/500 [00:00<00:00, 634.63it/s]\n",
      "Trial 11/20: Running 500 iterations: 100%|██████████| 500/500 [00:00<00:00, 622.51it/s]\n",
      "Trial 12/20: Running 500 iterations: 100%|██████████| 500/500 [00:00<00:00, 640.14it/s]\n",
      "Trial 13/20: Running 500 iterations: 100%|██████████| 500/500 [00:00<00:00, 620.23it/s]\n",
      "Trial 14/20: Running 500 iterations: 100%|██████████| 500/500 [00:00<00:00, 624.83it/s]\n",
      "Trial 15/20: Running 500 iterations: 100%|██████████| 500/500 [00:00<00:00, 636.96it/s]\n",
      "Trial 16/20: Running 500 iterations: 100%|██████████| 500/500 [00:00<00:00, 634.55it/s]\n",
      "Trial 17/20: Running 500 iterations: 100%|██████████| 500/500 [00:00<00:00, 640.94it/s]\n",
      "Trial 18/20: Running 500 iterations: 100%|██████████| 500/500 [00:00<00:00, 644.79it/s]\n",
      "Trial 19/20: Running 500 iterations: 100%|██████████| 500/500 [00:00<00:00, 624.76it/s]\n",
      "Trial 20/20: Running 500 iterations: 100%|██████████| 500/500 [00:00<00:00, 639.65it/s]\n",
      "Unsupported operator aten::max_pool2d encountered 3 time(s)\n",
      "Unsupported operator aten::add encountered 4 time(s)\n"
     ]
    },
    {
     "name": "stdout",
     "output_type": "stream",
     "text": [
      "Processing batch size: 32\n"
     ]
    },
    {
     "name": "stderr",
     "output_type": "stream",
     "text": [
      "Trial 1/20: Running 500 iterations: 100%|██████████| 500/500 [00:01<00:00, 368.31it/s]\n",
      "Trial 2/20: Running 500 iterations: 100%|██████████| 500/500 [00:01<00:00, 366.23it/s]\n",
      "Trial 3/20: Running 500 iterations: 100%|██████████| 500/500 [00:01<00:00, 366.11it/s]\n",
      "Trial 4/20: Running 500 iterations: 100%|██████████| 500/500 [00:01<00:00, 365.26it/s]\n",
      "Trial 5/20: Running 500 iterations: 100%|██████████| 500/500 [00:01<00:00, 366.43it/s]\n",
      "Trial 6/20: Running 500 iterations: 100%|██████████| 500/500 [00:01<00:00, 365.17it/s]\n",
      "Trial 7/20: Running 500 iterations: 100%|██████████| 500/500 [00:01<00:00, 366.86it/s]\n",
      "Trial 8/20: Running 500 iterations: 100%|██████████| 500/500 [00:01<00:00, 367.86it/s]\n",
      "Trial 9/20: Running 500 iterations: 100%|██████████| 500/500 [00:01<00:00, 362.16it/s]\n",
      "Trial 10/20: Running 500 iterations: 100%|██████████| 500/500 [00:01<00:00, 366.52it/s]\n",
      "Trial 11/20: Running 500 iterations: 100%|██████████| 500/500 [00:01<00:00, 367.81it/s]\n",
      "Trial 12/20: Running 500 iterations: 100%|██████████| 500/500 [00:01<00:00, 363.39it/s]\n",
      "Trial 13/20: Running 500 iterations: 100%|██████████| 500/500 [00:01<00:00, 365.32it/s]\n",
      "Trial 14/20: Running 500 iterations: 100%|██████████| 500/500 [00:01<00:00, 363.44it/s]\n",
      "Trial 15/20: Running 500 iterations: 100%|██████████| 500/500 [00:01<00:00, 365.61it/s]\n",
      "Trial 16/20: Running 500 iterations: 100%|██████████| 500/500 [00:01<00:00, 367.65it/s]\n",
      "Trial 17/20: Running 500 iterations: 100%|██████████| 500/500 [00:01<00:00, 366.72it/s]\n",
      "Trial 18/20: Running 500 iterations: 100%|██████████| 500/500 [00:01<00:00, 368.50it/s]\n",
      "Trial 19/20: Running 500 iterations: 100%|██████████| 500/500 [00:01<00:00, 363.30it/s]\n",
      "Trial 20/20: Running 500 iterations: 100%|██████████| 500/500 [00:01<00:00, 363.00it/s]\n",
      "Unsupported operator aten::max_pool2d encountered 3 time(s)\n",
      "Unsupported operator aten::add encountered 4 time(s)\n"
     ]
    },
    {
     "name": "stdout",
     "output_type": "stream",
     "text": [
      "Processing batch size: 64\n"
     ]
    },
    {
     "name": "stderr",
     "output_type": "stream",
     "text": [
      "Trial 1/20: Running 500 iterations: 100%|██████████| 500/500 [00:02<00:00, 224.14it/s]\n",
      "Trial 2/20: Running 500 iterations: 100%|██████████| 500/500 [00:02<00:00, 223.93it/s]\n",
      "Trial 3/20: Running 500 iterations: 100%|██████████| 500/500 [00:02<00:00, 225.09it/s]\n",
      "Trial 4/20: Running 500 iterations: 100%|██████████| 500/500 [00:02<00:00, 224.22it/s]\n",
      "Trial 5/20: Running 500 iterations: 100%|██████████| 500/500 [00:02<00:00, 224.08it/s]\n",
      "Trial 6/20: Running 500 iterations: 100%|██████████| 500/500 [00:02<00:00, 224.96it/s]\n",
      "Trial 7/20: Running 500 iterations: 100%|██████████| 500/500 [00:02<00:00, 223.61it/s]\n",
      "Trial 8/20: Running 500 iterations: 100%|██████████| 500/500 [00:02<00:00, 223.26it/s]\n",
      "Trial 9/20: Running 500 iterations: 100%|██████████| 500/500 [00:02<00:00, 222.93it/s]\n",
      "Trial 10/20: Running 500 iterations: 100%|██████████| 500/500 [00:02<00:00, 224.81it/s]\n",
      "Trial 11/20: Running 500 iterations: 100%|██████████| 500/500 [00:02<00:00, 224.23it/s]\n",
      "Trial 12/20: Running 500 iterations: 100%|██████████| 500/500 [00:02<00:00, 222.74it/s]\n",
      "Trial 13/20: Running 500 iterations: 100%|██████████| 500/500 [00:02<00:00, 223.43it/s]\n",
      "Trial 14/20: Running 500 iterations: 100%|██████████| 500/500 [00:02<00:00, 224.35it/s]\n",
      "Trial 15/20: Running 500 iterations: 100%|██████████| 500/500 [00:02<00:00, 224.59it/s]\n",
      "Trial 16/20: Running 500 iterations: 100%|██████████| 500/500 [00:02<00:00, 223.91it/s]\n",
      "Trial 17/20: Running 500 iterations: 100%|██████████| 500/500 [00:02<00:00, 224.60it/s]\n",
      "Trial 18/20: Running 500 iterations: 100%|██████████| 500/500 [00:02<00:00, 224.85it/s]\n",
      "Trial 19/20: Running 500 iterations: 100%|██████████| 500/500 [00:02<00:00, 223.39it/s]\n",
      "Trial 20/20: Running 500 iterations: 100%|██████████| 500/500 [00:02<00:00, 225.12it/s]\n",
      "Processing Models:  65%|██████▌   | 43/66 [1:34:54<54:50, 143.08s/it]Unsupported operator aten::max_pool2d encountered 3 time(s)\n",
      "Unsupported operator aten::add encountered 4 time(s)\n"
     ]
    },
    {
     "name": "stdout",
     "output_type": "stream",
     "text": [
      "Processing model: d:\\PruneLimit\\PruneLimitAnalyzer\\models\\AlexNet_DATASET_random_PD4_GPR-55_PRUNED_SEED_23.pth\n",
      "Processing batch size: 1\n"
     ]
    },
    {
     "name": "stderr",
     "output_type": "stream",
     "text": [
      "Trial 1/20: Running 500 iterations: 100%|██████████| 500/500 [00:00<00:00, 948.74it/s]\n",
      "Trial 2/20: Running 500 iterations: 100%|██████████| 500/500 [00:00<00:00, 824.38it/s]\n",
      "Trial 3/20: Running 500 iterations: 100%|██████████| 500/500 [00:00<00:00, 868.69it/s]\n",
      "Trial 4/20: Running 500 iterations: 100%|██████████| 500/500 [00:00<00:00, 989.70it/s]\n",
      "Trial 5/20: Running 500 iterations: 100%|██████████| 500/500 [00:00<00:00, 924.80it/s]\n",
      "Trial 6/20: Running 500 iterations: 100%|██████████| 500/500 [00:00<00:00, 808.99it/s]\n",
      "Trial 7/20: Running 500 iterations: 100%|██████████| 500/500 [00:00<00:00, 804.66it/s]\n",
      "Trial 8/20: Running 500 iterations: 100%|██████████| 500/500 [00:00<00:00, 855.72it/s]\n",
      "Trial 9/20: Running 500 iterations: 100%|██████████| 500/500 [00:00<00:00, 869.52it/s]\n",
      "Trial 10/20: Running 500 iterations: 100%|██████████| 500/500 [00:00<00:00, 866.34it/s]\n",
      "Trial 11/20: Running 500 iterations: 100%|██████████| 500/500 [00:00<00:00, 816.96it/s]\n",
      "Trial 12/20: Running 500 iterations: 100%|██████████| 500/500 [00:00<00:00, 948.33it/s]\n",
      "Trial 13/20: Running 500 iterations: 100%|██████████| 500/500 [00:00<00:00, 1008.08it/s]\n",
      "Trial 14/20: Running 500 iterations: 100%|██████████| 500/500 [00:00<00:00, 924.48it/s]\n",
      "Trial 15/20: Running 500 iterations: 100%|██████████| 500/500 [00:00<00:00, 1031.03it/s]\n",
      "Trial 16/20: Running 500 iterations: 100%|██████████| 500/500 [00:00<00:00, 1008.17it/s]\n",
      "Trial 17/20: Running 500 iterations: 100%|██████████| 500/500 [00:00<00:00, 1028.80it/s]\n",
      "Trial 18/20: Running 500 iterations: 100%|██████████| 500/500 [00:00<00:00, 1026.33it/s]\n",
      "Trial 19/20: Running 500 iterations: 100%|██████████| 500/500 [00:00<00:00, 1015.84it/s]\n",
      "Trial 20/20: Running 500 iterations: 100%|██████████| 500/500 [00:00<00:00, 1039.20it/s]\n",
      "Unsupported operator aten::max_pool2d encountered 3 time(s)\n",
      "Unsupported operator aten::add encountered 4 time(s)\n"
     ]
    },
    {
     "name": "stdout",
     "output_type": "stream",
     "text": [
      "Processing batch size: 8\n"
     ]
    },
    {
     "name": "stderr",
     "output_type": "stream",
     "text": [
      "Trial 1/20: Running 500 iterations: 100%|██████████| 500/500 [00:00<00:00, 964.83it/s]\n",
      "Trial 2/20: Running 500 iterations: 100%|██████████| 500/500 [00:00<00:00, 991.07it/s]\n",
      "Trial 3/20: Running 500 iterations: 100%|██████████| 500/500 [00:00<00:00, 874.43it/s]\n",
      "Trial 4/20: Running 500 iterations: 100%|██████████| 500/500 [00:00<00:00, 952.73it/s]\n",
      "Trial 5/20: Running 500 iterations: 100%|██████████| 500/500 [00:00<00:00, 847.19it/s]\n",
      "Trial 6/20: Running 500 iterations: 100%|██████████| 500/500 [00:00<00:00, 809.63it/s]\n",
      "Trial 7/20: Running 500 iterations: 100%|██████████| 500/500 [00:00<00:00, 632.10it/s]\n",
      "Trial 8/20: Running 500 iterations: 100%|██████████| 500/500 [00:00<00:00, 637.69it/s]\n",
      "Trial 9/20: Running 500 iterations: 100%|██████████| 500/500 [00:00<00:00, 600.00it/s]\n",
      "Trial 10/20: Running 500 iterations: 100%|██████████| 500/500 [00:00<00:00, 559.96it/s]\n",
      "Trial 11/20: Running 500 iterations: 100%|██████████| 500/500 [00:00<00:00, 642.73it/s]\n",
      "Trial 12/20: Running 500 iterations: 100%|██████████| 500/500 [00:00<00:00, 647.20it/s]\n",
      "Trial 13/20: Running 500 iterations: 100%|██████████| 500/500 [00:00<00:00, 719.32it/s]\n",
      "Trial 14/20: Running 500 iterations: 100%|██████████| 500/500 [00:00<00:00, 850.60it/s]\n",
      "Trial 15/20: Running 500 iterations: 100%|██████████| 500/500 [00:00<00:00, 873.46it/s]\n",
      "Trial 16/20: Running 500 iterations: 100%|██████████| 500/500 [00:00<00:00, 828.78it/s]\n",
      "Trial 17/20: Running 500 iterations: 100%|██████████| 500/500 [00:00<00:00, 849.40it/s]\n",
      "Trial 18/20: Running 500 iterations: 100%|██████████| 500/500 [00:00<00:00, 790.92it/s]\n",
      "Trial 19/20: Running 500 iterations: 100%|██████████| 500/500 [00:00<00:00, 816.35it/s]\n",
      "Trial 20/20: Running 500 iterations: 100%|██████████| 500/500 [00:00<00:00, 856.66it/s]\n",
      "Unsupported operator aten::max_pool2d encountered 3 time(s)\n",
      "Unsupported operator aten::add encountered 4 time(s)\n"
     ]
    },
    {
     "name": "stdout",
     "output_type": "stream",
     "text": [
      "Processing batch size: 16\n"
     ]
    },
    {
     "name": "stderr",
     "output_type": "stream",
     "text": [
      "Trial 1/20: Running 500 iterations: 100%|██████████| 500/500 [00:00<00:00, 874.81it/s]\n",
      "Trial 2/20: Running 500 iterations: 100%|██████████| 500/500 [00:00<00:00, 868.08it/s]\n",
      "Trial 3/20: Running 500 iterations: 100%|██████████| 500/500 [00:00<00:00, 840.91it/s]\n",
      "Trial 4/20: Running 500 iterations: 100%|██████████| 500/500 [00:00<00:00, 893.83it/s]\n",
      "Trial 5/20: Running 500 iterations: 100%|██████████| 500/500 [00:00<00:00, 1017.80it/s]\n",
      "Trial 6/20: Running 500 iterations: 100%|██████████| 500/500 [00:00<00:00, 1051.33it/s]\n",
      "Trial 7/20: Running 500 iterations: 100%|██████████| 500/500 [00:00<00:00, 1017.96it/s]\n",
      "Trial 8/20: Running 500 iterations: 100%|██████████| 500/500 [00:00<00:00, 1044.81it/s]\n",
      "Trial 9/20: Running 500 iterations: 100%|██████████| 500/500 [00:00<00:00, 1043.81it/s]\n",
      "Trial 10/20: Running 500 iterations: 100%|██████████| 500/500 [00:00<00:00, 1001.37it/s]\n",
      "Trial 11/20: Running 500 iterations: 100%|██████████| 500/500 [00:00<00:00, 906.95it/s]\n",
      "Trial 12/20: Running 500 iterations: 100%|██████████| 500/500 [00:00<00:00, 1046.23it/s]\n",
      "Trial 13/20: Running 500 iterations: 100%|██████████| 500/500 [00:00<00:00, 1031.20it/s]\n",
      "Trial 14/20: Running 500 iterations: 100%|██████████| 500/500 [00:00<00:00, 1006.17it/s]\n",
      "Trial 15/20: Running 500 iterations: 100%|██████████| 500/500 [00:00<00:00, 736.58it/s]\n",
      "Trial 16/20: Running 500 iterations: 100%|██████████| 500/500 [00:00<00:00, 648.07it/s]\n",
      "Trial 17/20: Running 500 iterations: 100%|██████████| 500/500 [00:00<00:00, 817.57it/s]\n",
      "Trial 18/20: Running 500 iterations: 100%|██████████| 500/500 [00:00<00:00, 716.50it/s]\n",
      "Trial 19/20: Running 500 iterations: 100%|██████████| 500/500 [00:00<00:00, 627.97it/s]\n",
      "Trial 20/20: Running 500 iterations: 100%|██████████| 500/500 [00:00<00:00, 764.14it/s]\n",
      "Unsupported operator aten::max_pool2d encountered 3 time(s)\n",
      "Unsupported operator aten::add encountered 4 time(s)\n"
     ]
    },
    {
     "name": "stdout",
     "output_type": "stream",
     "text": [
      "Processing batch size: 32\n"
     ]
    },
    {
     "name": "stderr",
     "output_type": "stream",
     "text": [
      "Trial 1/20: Running 500 iterations: 100%|██████████| 500/500 [00:00<00:00, 671.25it/s]\n",
      "Trial 2/20: Running 500 iterations: 100%|██████████| 500/500 [00:00<00:00, 665.78it/s]\n",
      "Trial 3/20: Running 500 iterations: 100%|██████████| 500/500 [00:00<00:00, 670.80it/s]\n",
      "Trial 4/20: Running 500 iterations: 100%|██████████| 500/500 [00:00<00:00, 665.11it/s]\n",
      "Trial 5/20: Running 500 iterations: 100%|██████████| 500/500 [00:00<00:00, 656.77it/s]\n",
      "Trial 6/20: Running 500 iterations: 100%|██████████| 500/500 [00:00<00:00, 661.99it/s]\n",
      "Trial 7/20: Running 500 iterations: 100%|██████████| 500/500 [00:00<00:00, 663.97it/s]\n",
      "Trial 8/20: Running 500 iterations: 100%|██████████| 500/500 [00:00<00:00, 665.19it/s]\n",
      "Trial 9/20: Running 500 iterations: 100%|██████████| 500/500 [00:00<00:00, 648.23it/s]\n",
      "Trial 10/20: Running 500 iterations: 100%|██████████| 500/500 [00:00<00:00, 653.52it/s]\n",
      "Trial 11/20: Running 500 iterations: 100%|██████████| 500/500 [00:00<00:00, 664.21it/s]\n",
      "Trial 12/20: Running 500 iterations: 100%|██████████| 500/500 [00:00<00:00, 650.01it/s]\n",
      "Trial 13/20: Running 500 iterations: 100%|██████████| 500/500 [00:00<00:00, 657.28it/s]\n",
      "Trial 14/20: Running 500 iterations: 100%|██████████| 500/500 [00:00<00:00, 651.66it/s]\n",
      "Trial 15/20: Running 500 iterations: 100%|██████████| 500/500 [00:00<00:00, 663.14it/s]\n",
      "Trial 16/20: Running 500 iterations: 100%|██████████| 500/500 [00:00<00:00, 656.05it/s]\n",
      "Trial 17/20: Running 500 iterations: 100%|██████████| 500/500 [00:00<00:00, 662.98it/s]\n",
      "Trial 18/20: Running 500 iterations: 100%|██████████| 500/500 [00:00<00:00, 662.96it/s]\n",
      "Trial 19/20: Running 500 iterations: 100%|██████████| 500/500 [00:00<00:00, 663.26it/s]\n",
      "Trial 20/20: Running 500 iterations: 100%|██████████| 500/500 [00:00<00:00, 663.89it/s]\n",
      "Unsupported operator aten::max_pool2d encountered 3 time(s)\n",
      "Unsupported operator aten::add encountered 4 time(s)\n"
     ]
    },
    {
     "name": "stdout",
     "output_type": "stream",
     "text": [
      "Processing batch size: 64\n"
     ]
    },
    {
     "name": "stderr",
     "output_type": "stream",
     "text": [
      "Trial 1/20: Running 500 iterations: 100%|██████████| 500/500 [00:01<00:00, 389.20it/s]\n",
      "Trial 2/20: Running 500 iterations: 100%|██████████| 500/500 [00:01<00:00, 391.01it/s]\n",
      "Trial 3/20: Running 500 iterations: 100%|██████████| 500/500 [00:01<00:00, 391.99it/s]\n",
      "Trial 4/20: Running 500 iterations: 100%|██████████| 500/500 [00:01<00:00, 393.52it/s]\n",
      "Trial 5/20: Running 500 iterations: 100%|██████████| 500/500 [00:01<00:00, 392.78it/s]\n",
      "Trial 6/20: Running 500 iterations: 100%|██████████| 500/500 [00:01<00:00, 391.50it/s]\n",
      "Trial 7/20: Running 500 iterations: 100%|██████████| 500/500 [00:01<00:00, 395.72it/s]\n",
      "Trial 8/20: Running 500 iterations: 100%|██████████| 500/500 [00:01<00:00, 397.84it/s]\n",
      "Trial 9/20: Running 500 iterations: 100%|██████████| 500/500 [00:01<00:00, 393.94it/s]\n",
      "Trial 10/20: Running 500 iterations: 100%|██████████| 500/500 [00:01<00:00, 393.92it/s]\n",
      "Trial 11/20: Running 500 iterations: 100%|██████████| 500/500 [00:01<00:00, 396.17it/s]\n",
      "Trial 12/20: Running 500 iterations: 100%|██████████| 500/500 [00:01<00:00, 391.51it/s]\n",
      "Trial 13/20: Running 500 iterations: 100%|██████████| 500/500 [00:01<00:00, 390.22it/s]\n",
      "Trial 14/20: Running 500 iterations: 100%|██████████| 500/500 [00:01<00:00, 392.82it/s]\n",
      "Trial 15/20: Running 500 iterations: 100%|██████████| 500/500 [00:01<00:00, 395.06it/s]\n",
      "Trial 16/20: Running 500 iterations: 100%|██████████| 500/500 [00:01<00:00, 393.00it/s]\n",
      "Trial 17/20: Running 500 iterations: 100%|██████████| 500/500 [00:01<00:00, 394.99it/s]\n",
      "Trial 18/20: Running 500 iterations: 100%|██████████| 500/500 [00:01<00:00, 394.12it/s]\n",
      "Trial 19/20: Running 500 iterations: 100%|██████████| 500/500 [00:01<00:00, 391.58it/s]\n",
      "Trial 20/20: Running 500 iterations: 100%|██████████| 500/500 [00:01<00:00, 389.48it/s]\n",
      "Processing Models:  67%|██████▋   | 44/66 [1:36:27<46:59, 128.17s/it]Unsupported operator aten::max_pool2d encountered 3 time(s)\n",
      "Unsupported operator aten::add encountered 4 time(s)\n"
     ]
    },
    {
     "name": "stdout",
     "output_type": "stream",
     "text": [
      "Processing model: d:\\PruneLimit\\PruneLimitAnalyzer\\models\\AlexNet_DATASET_random_PD4_GPR-60_PRUNED_SEED_23.pth\n",
      "Processing batch size: 1\n"
     ]
    },
    {
     "name": "stderr",
     "output_type": "stream",
     "text": [
      "Trial 1/20: Running 500 iterations: 100%|██████████| 500/500 [00:00<00:00, 959.44it/s]\n",
      "Trial 2/20: Running 500 iterations: 100%|██████████| 500/500 [00:00<00:00, 967.23it/s]\n",
      "Trial 3/20: Running 500 iterations: 100%|██████████| 500/500 [00:00<00:00, 1038.66it/s]\n",
      "Trial 4/20: Running 500 iterations: 100%|██████████| 500/500 [00:00<00:00, 999.28it/s] \n",
      "Trial 5/20: Running 500 iterations: 100%|██████████| 500/500 [00:00<00:00, 981.78it/s] \n",
      "Trial 6/20: Running 500 iterations: 100%|██████████| 500/500 [00:00<00:00, 939.41it/s]\n",
      "Trial 7/20: Running 500 iterations: 100%|██████████| 500/500 [00:00<00:00, 948.05it/s]\n",
      "Trial 8/20: Running 500 iterations: 100%|██████████| 500/500 [00:00<00:00, 977.48it/s] \n",
      "Trial 9/20: Running 500 iterations: 100%|██████████| 500/500 [00:00<00:00, 981.74it/s]\n",
      "Trial 10/20: Running 500 iterations: 100%|██████████| 500/500 [00:00<00:00, 1066.58it/s]\n",
      "Trial 11/20: Running 500 iterations: 100%|██████████| 500/500 [00:00<00:00, 970.58it/s]\n",
      "Trial 12/20: Running 500 iterations: 100%|██████████| 500/500 [00:00<00:00, 912.66it/s]\n",
      "Trial 13/20: Running 500 iterations: 100%|██████████| 500/500 [00:00<00:00, 932.35it/s]\n",
      "Trial 14/20: Running 500 iterations: 100%|██████████| 500/500 [00:00<00:00, 900.70it/s]\n",
      "Trial 15/20: Running 500 iterations: 100%|██████████| 500/500 [00:00<00:00, 960.20it/s]\n",
      "Trial 16/20: Running 500 iterations: 100%|██████████| 500/500 [00:00<00:00, 856.19it/s]\n",
      "Trial 17/20: Running 500 iterations: 100%|██████████| 500/500 [00:00<00:00, 961.94it/s]\n",
      "Trial 18/20: Running 500 iterations: 100%|██████████| 500/500 [00:00<00:00, 826.48it/s]\n",
      "Trial 19/20: Running 500 iterations: 100%|██████████| 500/500 [00:00<00:00, 818.25it/s]\n",
      "Trial 20/20: Running 500 iterations: 100%|██████████| 500/500 [00:00<00:00, 815.26it/s]\n",
      "Unsupported operator aten::max_pool2d encountered 3 time(s)\n",
      "Unsupported operator aten::add encountered 4 time(s)\n"
     ]
    },
    {
     "name": "stdout",
     "output_type": "stream",
     "text": [
      "Processing batch size: 8\n"
     ]
    },
    {
     "name": "stderr",
     "output_type": "stream",
     "text": [
      "Trial 1/20: Running 500 iterations: 100%|██████████| 500/500 [00:00<00:00, 787.94it/s]\n",
      "Trial 2/20: Running 500 iterations: 100%|██████████| 500/500 [00:00<00:00, 836.15it/s]\n",
      "Trial 3/20: Running 500 iterations: 100%|██████████| 500/500 [00:00<00:00, 780.29it/s]\n",
      "Trial 4/20: Running 500 iterations: 100%|██████████| 500/500 [00:00<00:00, 883.89it/s]\n",
      "Trial 5/20: Running 500 iterations: 100%|██████████| 500/500 [00:00<00:00, 907.26it/s]\n",
      "Trial 6/20: Running 500 iterations: 100%|██████████| 500/500 [00:00<00:00, 969.60it/s]\n",
      "Trial 7/20: Running 500 iterations: 100%|██████████| 500/500 [00:00<00:00, 970.34it/s]\n",
      "Trial 8/20: Running 500 iterations: 100%|██████████| 500/500 [00:00<00:00, 943.77it/s]\n",
      "Trial 9/20: Running 500 iterations: 100%|██████████| 500/500 [00:00<00:00, 960.83it/s]\n",
      "Trial 10/20: Running 500 iterations: 100%|██████████| 500/500 [00:00<00:00, 987.00it/s]\n",
      "Trial 11/20: Running 500 iterations: 100%|██████████| 500/500 [00:00<00:00, 965.82it/s]\n",
      "Trial 12/20: Running 500 iterations: 100%|██████████| 500/500 [00:00<00:00, 939.90it/s]\n",
      "Trial 13/20: Running 500 iterations: 100%|██████████| 500/500 [00:00<00:00, 965.64it/s]\n",
      "Trial 14/20: Running 500 iterations: 100%|██████████| 500/500 [00:00<00:00, 955.26it/s]\n",
      "Trial 15/20: Running 500 iterations: 100%|██████████| 500/500 [00:00<00:00, 982.64it/s]\n",
      "Trial 16/20: Running 500 iterations: 100%|██████████| 500/500 [00:00<00:00, 834.64it/s]\n",
      "Trial 17/20: Running 500 iterations: 100%|██████████| 500/500 [00:00<00:00, 932.11it/s]\n",
      "Trial 18/20: Running 500 iterations: 100%|██████████| 500/500 [00:00<00:00, 977.32it/s]\n",
      "Trial 19/20: Running 500 iterations: 100%|██████████| 500/500 [00:00<00:00, 956.47it/s]\n",
      "Trial 20/20: Running 500 iterations: 100%|██████████| 500/500 [00:00<00:00, 920.76it/s]\n",
      "Unsupported operator aten::max_pool2d encountered 3 time(s)\n",
      "Unsupported operator aten::add encountered 4 time(s)\n"
     ]
    },
    {
     "name": "stdout",
     "output_type": "stream",
     "text": [
      "Processing batch size: 16\n"
     ]
    },
    {
     "name": "stderr",
     "output_type": "stream",
     "text": [
      "Trial 1/20: Running 500 iterations: 100%|██████████| 500/500 [00:00<00:00, 924.42it/s]\n",
      "Trial 2/20: Running 500 iterations: 100%|██████████| 500/500 [00:00<00:00, 884.77it/s]\n",
      "Trial 3/20: Running 500 iterations: 100%|██████████| 500/500 [00:00<00:00, 840.49it/s]\n",
      "Trial 4/20: Running 500 iterations: 100%|██████████| 500/500 [00:00<00:00, 917.68it/s]\n",
      "Trial 5/20: Running 500 iterations: 100%|██████████| 500/500 [00:00<00:00, 820.35it/s]\n",
      "Trial 6/20: Running 500 iterations: 100%|██████████| 500/500 [00:00<00:00, 885.03it/s]\n",
      "Trial 7/20: Running 500 iterations: 100%|██████████| 500/500 [00:00<00:00, 963.55it/s]\n",
      "Trial 8/20: Running 500 iterations: 100%|██████████| 500/500 [00:00<00:00, 885.22it/s]\n",
      "Trial 9/20: Running 500 iterations: 100%|██████████| 500/500 [00:00<00:00, 851.34it/s]\n",
      "Trial 10/20: Running 500 iterations: 100%|██████████| 500/500 [00:00<00:00, 956.04it/s]\n",
      "Trial 11/20: Running 500 iterations: 100%|██████████| 500/500 [00:00<00:00, 856.08it/s]\n",
      "Trial 12/20: Running 500 iterations: 100%|██████████| 500/500 [00:00<00:00, 865.33it/s]\n",
      "Trial 13/20: Running 500 iterations: 100%|██████████| 500/500 [00:00<00:00, 948.31it/s]\n",
      "Trial 14/20: Running 500 iterations: 100%|██████████| 500/500 [00:00<00:00, 1026.87it/s]\n",
      "Trial 15/20: Running 500 iterations: 100%|██████████| 500/500 [00:00<00:00, 1035.73it/s]\n",
      "Trial 16/20: Running 500 iterations: 100%|██████████| 500/500 [00:00<00:00, 923.42it/s]\n",
      "Trial 17/20: Running 500 iterations: 100%|██████████| 500/500 [00:00<00:00, 928.96it/s]\n",
      "Trial 18/20: Running 500 iterations: 100%|██████████| 500/500 [00:00<00:00, 851.65it/s]\n",
      "Trial 19/20: Running 500 iterations: 100%|██████████| 500/500 [00:00<00:00, 849.07it/s]\n",
      "Trial 20/20: Running 500 iterations: 100%|██████████| 500/500 [00:00<00:00, 1012.18it/s]\n",
      "Unsupported operator aten::max_pool2d encountered 3 time(s)\n",
      "Unsupported operator aten::add encountered 4 time(s)\n"
     ]
    },
    {
     "name": "stdout",
     "output_type": "stream",
     "text": [
      "Processing batch size: 32\n"
     ]
    },
    {
     "name": "stderr",
     "output_type": "stream",
     "text": [
      "Trial 1/20: Running 500 iterations: 100%|██████████| 500/500 [00:00<00:00, 747.84it/s]\n",
      "Trial 2/20: Running 500 iterations: 100%|██████████| 500/500 [00:00<00:00, 725.95it/s]\n",
      "Trial 3/20: Running 500 iterations: 100%|██████████| 500/500 [00:00<00:00, 763.69it/s]\n",
      "Trial 4/20: Running 500 iterations: 100%|██████████| 500/500 [00:00<00:00, 739.25it/s]\n",
      "Trial 5/20: Running 500 iterations: 100%|██████████| 500/500 [00:00<00:00, 746.45it/s]\n",
      "Trial 6/20: Running 500 iterations: 100%|██████████| 500/500 [00:00<00:00, 746.00it/s]\n",
      "Trial 7/20: Running 500 iterations: 100%|██████████| 500/500 [00:00<00:00, 740.81it/s]\n",
      "Trial 8/20: Running 500 iterations: 100%|██████████| 500/500 [00:00<00:00, 733.51it/s]\n",
      "Trial 9/20: Running 500 iterations: 100%|██████████| 500/500 [00:00<00:00, 720.87it/s]\n",
      "Trial 10/20: Running 500 iterations: 100%|██████████| 500/500 [00:00<00:00, 758.84it/s]\n",
      "Trial 11/20: Running 500 iterations: 100%|██████████| 500/500 [00:00<00:00, 744.61it/s]\n",
      "Trial 12/20: Running 500 iterations: 100%|██████████| 500/500 [00:00<00:00, 739.82it/s]\n",
      "Trial 13/20: Running 500 iterations: 100%|██████████| 500/500 [00:00<00:00, 732.29it/s]\n",
      "Trial 14/20: Running 500 iterations: 100%|██████████| 500/500 [00:00<00:00, 752.42it/s]\n",
      "Trial 15/20: Running 500 iterations: 100%|██████████| 500/500 [00:00<00:00, 727.35it/s]\n",
      "Trial 16/20: Running 500 iterations: 100%|██████████| 500/500 [00:00<00:00, 741.39it/s]\n",
      "Trial 17/20: Running 500 iterations: 100%|██████████| 500/500 [00:00<00:00, 733.76it/s]\n",
      "Trial 18/20: Running 500 iterations: 100%|██████████| 500/500 [00:00<00:00, 754.55it/s]\n",
      "Trial 19/20: Running 500 iterations: 100%|██████████| 500/500 [00:00<00:00, 752.71it/s]\n",
      "Trial 20/20: Running 500 iterations: 100%|██████████| 500/500 [00:00<00:00, 732.30it/s]\n",
      "Unsupported operator aten::max_pool2d encountered 3 time(s)\n",
      "Unsupported operator aten::add encountered 4 time(s)\n"
     ]
    },
    {
     "name": "stdout",
     "output_type": "stream",
     "text": [
      "Processing batch size: 64\n"
     ]
    },
    {
     "name": "stderr",
     "output_type": "stream",
     "text": [
      "Trial 1/20: Running 500 iterations: 100%|██████████| 500/500 [00:01<00:00, 438.48it/s]\n",
      "Trial 2/20: Running 500 iterations: 100%|██████████| 500/500 [00:01<00:00, 444.93it/s]\n",
      "Trial 3/20: Running 500 iterations: 100%|██████████| 500/500 [00:01<00:00, 441.89it/s]\n",
      "Trial 4/20: Running 500 iterations: 100%|██████████| 500/500 [00:01<00:00, 439.76it/s]\n",
      "Trial 5/20: Running 500 iterations: 100%|██████████| 500/500 [00:01<00:00, 432.35it/s]\n",
      "Trial 6/20: Running 500 iterations: 100%|██████████| 500/500 [00:01<00:00, 441.30it/s]\n",
      "Trial 7/20: Running 500 iterations: 100%|██████████| 500/500 [00:01<00:00, 440.84it/s]\n",
      "Trial 8/20: Running 500 iterations: 100%|██████████| 500/500 [00:01<00:00, 437.02it/s]\n",
      "Trial 9/20: Running 500 iterations: 100%|██████████| 500/500 [00:01<00:00, 437.36it/s]\n",
      "Trial 10/20: Running 500 iterations: 100%|██████████| 500/500 [00:01<00:00, 434.58it/s]\n",
      "Trial 11/20: Running 500 iterations: 100%|██████████| 500/500 [00:01<00:00, 434.97it/s]\n",
      "Trial 12/20: Running 500 iterations: 100%|██████████| 500/500 [00:01<00:00, 431.47it/s]\n",
      "Trial 13/20: Running 500 iterations: 100%|██████████| 500/500 [00:01<00:00, 429.84it/s]\n",
      "Trial 14/20: Running 500 iterations: 100%|██████████| 500/500 [00:01<00:00, 440.87it/s]\n",
      "Trial 15/20: Running 500 iterations: 100%|██████████| 500/500 [00:01<00:00, 440.53it/s]\n",
      "Trial 16/20: Running 500 iterations: 100%|██████████| 500/500 [00:01<00:00, 436.43it/s]\n",
      "Trial 17/20: Running 500 iterations: 100%|██████████| 500/500 [00:01<00:00, 434.58it/s]\n",
      "Trial 18/20: Running 500 iterations: 100%|██████████| 500/500 [00:01<00:00, 443.00it/s]\n",
      "Trial 19/20: Running 500 iterations: 100%|██████████| 500/500 [00:01<00:00, 439.27it/s]\n",
      "Trial 20/20: Running 500 iterations: 100%|██████████| 500/500 [00:01<00:00, 440.04it/s]\n",
      "Processing Models:  68%|██████▊   | 45/66 [1:37:52<40:18, 115.18s/it]Unsupported operator aten::max_pool2d encountered 3 time(s)\n",
      "Unsupported operator aten::add encountered 4 time(s)\n"
     ]
    },
    {
     "name": "stdout",
     "output_type": "stream",
     "text": [
      "Processing model: d:\\PruneLimit\\PruneLimitAnalyzer\\models\\AlexNet_DATASET_random_PD2_GPR-45_PRUNED_SEED_23.pth\n",
      "Processing batch size: 1\n"
     ]
    },
    {
     "name": "stderr",
     "output_type": "stream",
     "text": [
      "Trial 1/20: Running 500 iterations: 100%|██████████| 500/500 [00:00<00:00, 853.40it/s]\n",
      "Trial 2/20: Running 500 iterations: 100%|██████████| 500/500 [00:00<00:00, 907.70it/s]\n",
      "Trial 3/20: Running 500 iterations: 100%|██████████| 500/500 [00:00<00:00, 798.37it/s]\n",
      "Trial 4/20: Running 500 iterations: 100%|██████████| 500/500 [00:00<00:00, 852.89it/s]\n",
      "Trial 5/20: Running 500 iterations: 100%|██████████| 500/500 [00:00<00:00, 821.89it/s]\n",
      "Trial 6/20: Running 500 iterations: 100%|██████████| 500/500 [00:00<00:00, 833.60it/s]\n",
      "Trial 7/20: Running 500 iterations: 100%|██████████| 500/500 [00:00<00:00, 890.15it/s]\n",
      "Trial 8/20: Running 500 iterations: 100%|██████████| 500/500 [00:00<00:00, 791.61it/s]\n",
      "Trial 9/20: Running 500 iterations: 100%|██████████| 500/500 [00:00<00:00, 866.45it/s]\n",
      "Trial 10/20: Running 500 iterations: 100%|██████████| 500/500 [00:00<00:00, 882.82it/s]\n",
      "Trial 11/20: Running 500 iterations: 100%|██████████| 500/500 [00:00<00:00, 999.10it/s]\n",
      "Trial 12/20: Running 500 iterations: 100%|██████████| 500/500 [00:00<00:00, 989.06it/s]\n",
      "Trial 13/20: Running 500 iterations: 100%|██████████| 500/500 [00:00<00:00, 949.03it/s]\n",
      "Trial 14/20: Running 500 iterations: 100%|██████████| 500/500 [00:00<00:00, 957.29it/s]\n",
      "Trial 15/20: Running 500 iterations: 100%|██████████| 500/500 [00:00<00:00, 974.51it/s]\n",
      "Trial 16/20: Running 500 iterations: 100%|██████████| 500/500 [00:00<00:00, 959.35it/s]\n",
      "Trial 17/20: Running 500 iterations: 100%|██████████| 500/500 [00:00<00:00, 961.28it/s]\n",
      "Trial 18/20: Running 500 iterations: 100%|██████████| 500/500 [00:00<00:00, 893.54it/s]\n",
      "Trial 19/20: Running 500 iterations: 100%|██████████| 500/500 [00:00<00:00, 985.68it/s]\n",
      "Trial 20/20: Running 500 iterations: 100%|██████████| 500/500 [00:00<00:00, 873.04it/s]\n",
      "Unsupported operator aten::max_pool2d encountered 3 time(s)\n",
      "Unsupported operator aten::add encountered 4 time(s)\n"
     ]
    },
    {
     "name": "stdout",
     "output_type": "stream",
     "text": [
      "Processing batch size: 8\n"
     ]
    },
    {
     "name": "stderr",
     "output_type": "stream",
     "text": [
      "Trial 1/20: Running 500 iterations: 100%|██████████| 500/500 [00:00<00:00, 868.87it/s]\n",
      "Trial 2/20: Running 500 iterations: 100%|██████████| 500/500 [00:00<00:00, 882.55it/s]\n",
      "Trial 3/20: Running 500 iterations: 100%|██████████| 500/500 [00:00<00:00, 937.25it/s]\n",
      "Trial 4/20: Running 500 iterations: 100%|██████████| 500/500 [00:00<00:00, 959.88it/s]\n",
      "Trial 5/20: Running 500 iterations: 100%|██████████| 500/500 [00:00<00:00, 787.73it/s]\n",
      "Trial 6/20: Running 500 iterations: 100%|██████████| 500/500 [00:00<00:00, 850.88it/s]\n",
      "Trial 7/20: Running 500 iterations: 100%|██████████| 500/500 [00:00<00:00, 903.95it/s]\n",
      "Trial 8/20: Running 500 iterations: 100%|██████████| 500/500 [00:00<00:00, 916.56it/s]\n",
      "Trial 9/20: Running 500 iterations: 100%|██████████| 500/500 [00:00<00:00, 873.65it/s]\n",
      "Trial 10/20: Running 500 iterations: 100%|██████████| 500/500 [00:00<00:00, 868.68it/s]\n",
      "Trial 11/20: Running 500 iterations: 100%|██████████| 500/500 [00:00<00:00, 783.42it/s]\n",
      "Trial 12/20: Running 500 iterations: 100%|██████████| 500/500 [00:00<00:00, 762.83it/s]\n",
      "Trial 13/20: Running 500 iterations: 100%|██████████| 500/500 [00:00<00:00, 831.04it/s]\n",
      "Trial 14/20: Running 500 iterations: 100%|██████████| 500/500 [00:00<00:00, 861.37it/s]\n",
      "Trial 15/20: Running 500 iterations: 100%|██████████| 500/500 [00:00<00:00, 789.20it/s]\n",
      "Trial 16/20: Running 500 iterations: 100%|██████████| 500/500 [00:00<00:00, 816.56it/s]\n",
      "Trial 17/20: Running 500 iterations: 100%|██████████| 500/500 [00:00<00:00, 839.69it/s]\n",
      "Trial 18/20: Running 500 iterations: 100%|██████████| 500/500 [00:00<00:00, 918.39it/s]\n",
      "Trial 19/20: Running 500 iterations: 100%|██████████| 500/500 [00:00<00:00, 986.65it/s]\n",
      "Trial 20/20: Running 500 iterations: 100%|██████████| 500/500 [00:00<00:00, 941.90it/s]\n",
      "Unsupported operator aten::max_pool2d encountered 3 time(s)\n",
      "Unsupported operator aten::add encountered 4 time(s)\n"
     ]
    },
    {
     "name": "stdout",
     "output_type": "stream",
     "text": [
      "Processing batch size: 16\n"
     ]
    },
    {
     "name": "stderr",
     "output_type": "stream",
     "text": [
      "Trial 1/20: Running 500 iterations: 100%|██████████| 500/500 [00:00<00:00, 926.26it/s]\n",
      "Trial 2/20: Running 500 iterations: 100%|██████████| 500/500 [00:00<00:00, 947.86it/s]\n",
      "Trial 3/20: Running 500 iterations: 100%|██████████| 500/500 [00:00<00:00, 950.13it/s]\n",
      "Trial 4/20: Running 500 iterations: 100%|██████████| 500/500 [00:00<00:00, 937.09it/s]\n",
      "Trial 5/20: Running 500 iterations: 100%|██████████| 500/500 [00:00<00:00, 946.61it/s]\n",
      "Trial 6/20: Running 500 iterations: 100%|██████████| 500/500 [00:00<00:00, 941.98it/s]\n",
      "Trial 7/20: Running 500 iterations: 100%|██████████| 500/500 [00:00<00:00, 959.00it/s]\n",
      "Trial 8/20: Running 500 iterations: 100%|██████████| 500/500 [00:00<00:00, 914.11it/s]\n",
      "Trial 9/20: Running 500 iterations: 100%|██████████| 500/500 [00:00<00:00, 970.85it/s]\n",
      "Trial 10/20: Running 500 iterations: 100%|██████████| 500/500 [00:00<00:00, 872.98it/s]\n",
      "Trial 11/20: Running 500 iterations: 100%|██████████| 500/500 [00:00<00:00, 929.47it/s]\n",
      "Trial 12/20: Running 500 iterations: 100%|██████████| 500/500 [00:00<00:00, 882.29it/s]\n",
      "Trial 13/20: Running 500 iterations: 100%|██████████| 500/500 [00:00<00:00, 841.80it/s]\n",
      "Trial 14/20: Running 500 iterations: 100%|██████████| 500/500 [00:00<00:00, 863.19it/s]\n",
      "Trial 15/20: Running 500 iterations: 100%|██████████| 500/500 [00:00<00:00, 882.35it/s]\n",
      "Trial 16/20: Running 500 iterations: 100%|██████████| 500/500 [00:00<00:00, 643.40it/s]\n",
      "Trial 17/20: Running 500 iterations: 100%|██████████| 500/500 [00:00<00:00, 641.71it/s]\n",
      "Trial 18/20: Running 500 iterations: 100%|██████████| 500/500 [00:00<00:00, 605.35it/s]\n",
      "Trial 19/20: Running 500 iterations: 100%|██████████| 500/500 [00:00<00:00, 683.86it/s]\n",
      "Trial 20/20: Running 500 iterations: 100%|██████████| 500/500 [00:00<00:00, 860.11it/s]\n",
      "Unsupported operator aten::max_pool2d encountered 3 time(s)\n",
      "Unsupported operator aten::add encountered 4 time(s)\n"
     ]
    },
    {
     "name": "stdout",
     "output_type": "stream",
     "text": [
      "Processing batch size: 32\n"
     ]
    },
    {
     "name": "stderr",
     "output_type": "stream",
     "text": [
      "Trial 1/20: Running 500 iterations: 100%|██████████| 500/500 [00:00<00:00, 571.50it/s]\n",
      "Trial 2/20: Running 500 iterations: 100%|██████████| 500/500 [00:00<00:00, 579.74it/s]\n",
      "Trial 3/20: Running 500 iterations: 100%|██████████| 500/500 [00:00<00:00, 567.24it/s]\n",
      "Trial 4/20: Running 500 iterations: 100%|██████████| 500/500 [00:00<00:00, 566.64it/s]\n",
      "Trial 5/20: Running 500 iterations: 100%|██████████| 500/500 [00:00<00:00, 573.22it/s]\n",
      "Trial 6/20: Running 500 iterations: 100%|██████████| 500/500 [00:00<00:00, 581.18it/s]\n",
      "Trial 7/20: Running 500 iterations: 100%|██████████| 500/500 [00:00<00:00, 562.58it/s]\n",
      "Trial 8/20: Running 500 iterations: 100%|██████████| 500/500 [00:00<00:00, 567.74it/s]\n",
      "Trial 9/20: Running 500 iterations: 100%|██████████| 500/500 [00:00<00:00, 576.56it/s]\n",
      "Trial 10/20: Running 500 iterations: 100%|██████████| 500/500 [00:00<00:00, 564.57it/s]\n",
      "Trial 11/20: Running 500 iterations: 100%|██████████| 500/500 [00:00<00:00, 572.93it/s]\n",
      "Trial 12/20: Running 500 iterations: 100%|██████████| 500/500 [00:00<00:00, 565.39it/s]\n",
      "Trial 13/20: Running 500 iterations: 100%|██████████| 500/500 [00:00<00:00, 578.01it/s]\n",
      "Trial 14/20: Running 500 iterations: 100%|██████████| 500/500 [00:00<00:00, 569.49it/s]\n",
      "Trial 15/20: Running 500 iterations: 100%|██████████| 500/500 [00:00<00:00, 573.12it/s]\n",
      "Trial 16/20: Running 500 iterations: 100%|██████████| 500/500 [00:00<00:00, 576.81it/s]\n",
      "Trial 17/20: Running 500 iterations: 100%|██████████| 500/500 [00:00<00:00, 578.85it/s]\n",
      "Trial 18/20: Running 500 iterations: 100%|██████████| 500/500 [00:00<00:00, 575.42it/s]\n",
      "Trial 19/20: Running 500 iterations: 100%|██████████| 500/500 [00:00<00:00, 583.63it/s]\n",
      "Trial 20/20: Running 500 iterations: 100%|██████████| 500/500 [00:00<00:00, 568.42it/s]\n",
      "Unsupported operator aten::max_pool2d encountered 3 time(s)\n",
      "Unsupported operator aten::add encountered 4 time(s)\n"
     ]
    },
    {
     "name": "stdout",
     "output_type": "stream",
     "text": [
      "Processing batch size: 64\n"
     ]
    },
    {
     "name": "stderr",
     "output_type": "stream",
     "text": [
      "Trial 1/20: Running 500 iterations: 100%|██████████| 500/500 [00:01<00:00, 343.83it/s]\n",
      "Trial 2/20: Running 500 iterations: 100%|██████████| 500/500 [00:01<00:00, 344.15it/s]\n",
      "Trial 3/20: Running 500 iterations: 100%|██████████| 500/500 [00:01<00:00, 344.75it/s]\n",
      "Trial 4/20: Running 500 iterations: 100%|██████████| 500/500 [00:01<00:00, 345.88it/s]\n",
      "Trial 5/20: Running 500 iterations: 100%|██████████| 500/500 [00:01<00:00, 342.90it/s]\n",
      "Trial 6/20: Running 500 iterations: 100%|██████████| 500/500 [00:01<00:00, 345.64it/s]\n",
      "Trial 7/20: Running 500 iterations: 100%|██████████| 500/500 [00:01<00:00, 344.23it/s]\n",
      "Trial 8/20: Running 500 iterations: 100%|██████████| 500/500 [00:01<00:00, 344.41it/s]\n",
      "Trial 9/20: Running 500 iterations: 100%|██████████| 500/500 [00:01<00:00, 340.75it/s]\n",
      "Trial 10/20: Running 500 iterations: 100%|██████████| 500/500 [00:01<00:00, 346.22it/s]\n",
      "Trial 11/20: Running 500 iterations: 100%|██████████| 500/500 [00:01<00:00, 347.60it/s]\n",
      "Trial 12/20: Running 500 iterations: 100%|██████████| 500/500 [00:01<00:00, 340.65it/s]\n",
      "Trial 13/20: Running 500 iterations: 100%|██████████| 500/500 [00:01<00:00, 335.79it/s]\n",
      "Trial 14/20: Running 500 iterations: 100%|██████████| 500/500 [00:01<00:00, 341.03it/s]\n",
      "Trial 15/20: Running 500 iterations: 100%|██████████| 500/500 [00:01<00:00, 344.70it/s]\n",
      "Trial 16/20: Running 500 iterations: 100%|██████████| 500/500 [00:01<00:00, 343.76it/s]\n",
      "Trial 17/20: Running 500 iterations: 100%|██████████| 500/500 [00:01<00:00, 341.98it/s]\n",
      "Trial 18/20: Running 500 iterations: 100%|██████████| 500/500 [00:01<00:00, 340.24it/s]\n",
      "Trial 19/20: Running 500 iterations: 100%|██████████| 500/500 [00:01<00:00, 341.03it/s]\n",
      "Trial 20/20: Running 500 iterations: 100%|██████████| 500/500 [00:01<00:00, 341.41it/s]\n",
      "Processing Models:  70%|██████▉   | 46/66 [1:39:32<36:54, 110.70s/it]Unsupported operator aten::max_pool2d encountered 3 time(s)\n",
      "Unsupported operator aten::add encountered 4 time(s)\n"
     ]
    },
    {
     "name": "stdout",
     "output_type": "stream",
     "text": [
      "Processing model: d:\\PruneLimit\\PruneLimitAnalyzer\\models\\AlexNet_DATASET_random_PD2_GPR-50_PRUNED_SEED_23.pth\n",
      "Processing batch size: 1\n"
     ]
    },
    {
     "name": "stderr",
     "output_type": "stream",
     "text": [
      "Trial 1/20: Running 500 iterations: 100%|██████████| 500/500 [00:00<00:00, 961.95it/s]\n",
      "Trial 2/20: Running 500 iterations: 100%|██████████| 500/500 [00:00<00:00, 959.21it/s]\n",
      "Trial 3/20: Running 500 iterations: 100%|██████████| 500/500 [00:00<00:00, 954.26it/s]\n",
      "Trial 4/20: Running 500 iterations: 100%|██████████| 500/500 [00:00<00:00, 994.06it/s]\n",
      "Trial 5/20: Running 500 iterations: 100%|██████████| 500/500 [00:00<00:00, 944.47it/s]\n",
      "Trial 6/20: Running 500 iterations: 100%|██████████| 500/500 [00:00<00:00, 733.38it/s]\n",
      "Trial 7/20: Running 500 iterations: 100%|██████████| 500/500 [00:00<00:00, 523.47it/s]\n",
      "Trial 8/20: Running 500 iterations: 100%|██████████| 500/500 [00:00<00:00, 556.10it/s]\n",
      "Trial 9/20: Running 500 iterations: 100%|██████████| 500/500 [00:00<00:00, 539.74it/s]\n",
      "Trial 10/20: Running 500 iterations: 100%|██████████| 500/500 [00:00<00:00, 559.04it/s]\n",
      "Trial 11/20: Running 500 iterations: 100%|██████████| 500/500 [00:00<00:00, 561.53it/s]\n",
      "Trial 12/20: Running 500 iterations: 100%|██████████| 500/500 [00:00<00:00, 537.10it/s]\n",
      "Trial 13/20: Running 500 iterations: 100%|██████████| 500/500 [00:00<00:00, 828.25it/s]\n",
      "Trial 14/20: Running 500 iterations: 100%|██████████| 500/500 [00:00<00:00, 769.72it/s]\n",
      "Trial 15/20: Running 500 iterations: 100%|██████████| 500/500 [00:00<00:00, 817.02it/s]\n",
      "Trial 16/20: Running 500 iterations: 100%|██████████| 500/500 [00:00<00:00, 845.69it/s]\n",
      "Trial 17/20: Running 500 iterations: 100%|██████████| 500/500 [00:00<00:00, 755.10it/s]\n",
      "Trial 18/20: Running 500 iterations: 100%|██████████| 500/500 [00:00<00:00, 808.58it/s]\n",
      "Trial 19/20: Running 500 iterations: 100%|██████████| 500/500 [00:00<00:00, 917.37it/s]\n",
      "Trial 20/20: Running 500 iterations: 100%|██████████| 500/500 [00:00<00:00, 859.45it/s]\n",
      "Unsupported operator aten::max_pool2d encountered 3 time(s)\n",
      "Unsupported operator aten::add encountered 4 time(s)\n"
     ]
    },
    {
     "name": "stdout",
     "output_type": "stream",
     "text": [
      "Processing batch size: 8\n"
     ]
    },
    {
     "name": "stderr",
     "output_type": "stream",
     "text": [
      "Trial 1/20: Running 500 iterations: 100%|██████████| 500/500 [00:00<00:00, 826.11it/s]\n",
      "Trial 2/20: Running 500 iterations: 100%|██████████| 500/500 [00:00<00:00, 984.44it/s]\n",
      "Trial 3/20: Running 500 iterations: 100%|██████████| 500/500 [00:00<00:00, 709.10it/s]\n",
      "Trial 4/20: Running 500 iterations: 100%|██████████| 500/500 [00:00<00:00, 900.97it/s]\n",
      "Trial 5/20: Running 500 iterations: 100%|██████████| 500/500 [00:00<00:00, 964.12it/s]\n",
      "Trial 6/20: Running 500 iterations: 100%|██████████| 500/500 [00:00<00:00, 980.20it/s]\n",
      "Trial 7/20: Running 500 iterations: 100%|██████████| 500/500 [00:00<00:00, 966.03it/s]\n",
      "Trial 8/20: Running 500 iterations: 100%|██████████| 500/500 [00:00<00:00, 989.00it/s]\n",
      "Trial 9/20: Running 500 iterations: 100%|██████████| 500/500 [00:00<00:00, 953.73it/s]\n",
      "Trial 10/20: Running 500 iterations: 100%|██████████| 500/500 [00:00<00:00, 930.84it/s]\n",
      "Trial 11/20: Running 500 iterations: 100%|██████████| 500/500 [00:00<00:00, 876.88it/s]\n",
      "Trial 12/20: Running 500 iterations: 100%|██████████| 500/500 [00:00<00:00, 950.11it/s]\n",
      "Trial 13/20: Running 500 iterations: 100%|██████████| 500/500 [00:00<00:00, 896.84it/s]\n",
      "Trial 14/20: Running 500 iterations: 100%|██████████| 500/500 [00:00<00:00, 693.36it/s]\n",
      "Trial 15/20: Running 500 iterations: 100%|██████████| 500/500 [00:00<00:00, 682.14it/s]\n",
      "Trial 16/20: Running 500 iterations: 100%|██████████| 500/500 [00:00<00:00, 699.70it/s]\n",
      "Trial 17/20: Running 500 iterations: 100%|██████████| 500/500 [00:00<00:00, 833.82it/s]\n",
      "Trial 18/20: Running 500 iterations: 100%|██████████| 500/500 [00:00<00:00, 765.06it/s]\n",
      "Trial 19/20: Running 500 iterations: 100%|██████████| 500/500 [00:00<00:00, 912.30it/s]\n",
      "Trial 20/20: Running 500 iterations: 100%|██████████| 500/500 [00:00<00:00, 804.39it/s]\n",
      "Unsupported operator aten::max_pool2d encountered 3 time(s)\n",
      "Unsupported operator aten::add encountered 4 time(s)\n"
     ]
    },
    {
     "name": "stdout",
     "output_type": "stream",
     "text": [
      "Processing batch size: 16\n"
     ]
    },
    {
     "name": "stderr",
     "output_type": "stream",
     "text": [
      "Trial 1/20: Running 500 iterations: 100%|██████████| 500/500 [00:00<00:00, 971.00it/s]\n",
      "Trial 2/20: Running 500 iterations: 100%|██████████| 500/500 [00:00<00:00, 916.28it/s]\n",
      "Trial 3/20: Running 500 iterations: 100%|██████████| 500/500 [00:00<00:00, 873.25it/s]\n",
      "Trial 4/20: Running 500 iterations: 100%|██████████| 500/500 [00:00<00:00, 905.94it/s]\n",
      "Trial 5/20: Running 500 iterations: 100%|██████████| 500/500 [00:00<00:00, 876.32it/s]\n",
      "Trial 6/20: Running 500 iterations: 100%|██████████| 500/500 [00:00<00:00, 878.88it/s]\n",
      "Trial 7/20: Running 500 iterations: 100%|██████████| 500/500 [00:00<00:00, 871.73it/s]\n",
      "Trial 8/20: Running 500 iterations: 100%|██████████| 500/500 [00:00<00:00, 986.39it/s]\n",
      "Trial 9/20: Running 500 iterations: 100%|██████████| 500/500 [00:00<00:00, 1054.17it/s]\n",
      "Trial 10/20: Running 500 iterations: 100%|██████████| 500/500 [00:00<00:00, 1044.46it/s]\n",
      "Trial 11/20: Running 500 iterations: 100%|██████████| 500/500 [00:00<00:00, 1003.87it/s]\n",
      "Trial 12/20: Running 500 iterations: 100%|██████████| 500/500 [00:00<00:00, 971.54it/s]\n",
      "Trial 13/20: Running 500 iterations: 100%|██████████| 500/500 [00:00<00:00, 1069.13it/s]\n",
      "Trial 14/20: Running 500 iterations: 100%|██████████| 500/500 [00:00<00:00, 1069.19it/s]\n",
      "Trial 15/20: Running 500 iterations: 100%|██████████| 500/500 [00:00<00:00, 1000.07it/s]\n",
      "Trial 16/20: Running 500 iterations: 100%|██████████| 500/500 [00:00<00:00, 1034.12it/s]\n",
      "Trial 17/20: Running 500 iterations: 100%|██████████| 500/500 [00:00<00:00, 979.45it/s] \n",
      "Trial 18/20: Running 500 iterations: 100%|██████████| 500/500 [00:00<00:00, 1030.33it/s]\n",
      "Trial 19/20: Running 500 iterations: 100%|██████████| 500/500 [00:00<00:00, 966.63it/s]\n",
      "Trial 20/20: Running 500 iterations: 100%|██████████| 500/500 [00:00<00:00, 999.15it/s] \n",
      "Unsupported operator aten::max_pool2d encountered 3 time(s)\n",
      "Unsupported operator aten::add encountered 4 time(s)\n"
     ]
    },
    {
     "name": "stdout",
     "output_type": "stream",
     "text": [
      "Processing batch size: 32\n"
     ]
    },
    {
     "name": "stderr",
     "output_type": "stream",
     "text": [
      "Trial 1/20: Running 500 iterations: 100%|██████████| 500/500 [00:00<00:00, 642.23it/s]\n",
      "Trial 2/20: Running 500 iterations: 100%|██████████| 500/500 [00:00<00:00, 645.93it/s]\n",
      "Trial 3/20: Running 500 iterations: 100%|██████████| 500/500 [00:00<00:00, 658.67it/s]\n",
      "Trial 4/20: Running 500 iterations: 100%|██████████| 500/500 [00:00<00:00, 640.82it/s]\n",
      "Trial 5/20: Running 500 iterations: 100%|██████████| 500/500 [00:00<00:00, 644.41it/s]\n",
      "Trial 6/20: Running 500 iterations: 100%|██████████| 500/500 [00:00<00:00, 658.07it/s]\n",
      "Trial 7/20: Running 500 iterations: 100%|██████████| 500/500 [00:00<00:00, 630.58it/s]\n",
      "Trial 8/20: Running 500 iterations: 100%|██████████| 500/500 [00:00<00:00, 651.89it/s]\n",
      "Trial 9/20: Running 500 iterations: 100%|██████████| 500/500 [00:00<00:00, 640.70it/s]\n",
      "Trial 10/20: Running 500 iterations: 100%|██████████| 500/500 [00:00<00:00, 647.52it/s]\n",
      "Trial 11/20: Running 500 iterations: 100%|██████████| 500/500 [00:00<00:00, 646.74it/s]\n",
      "Trial 12/20: Running 500 iterations: 100%|██████████| 500/500 [00:00<00:00, 654.48it/s]\n",
      "Trial 13/20: Running 500 iterations: 100%|██████████| 500/500 [00:00<00:00, 641.63it/s]\n",
      "Trial 14/20: Running 500 iterations: 100%|██████████| 500/500 [00:00<00:00, 641.34it/s]\n",
      "Trial 15/20: Running 500 iterations: 100%|██████████| 500/500 [00:00<00:00, 656.76it/s]\n",
      "Trial 16/20: Running 500 iterations: 100%|██████████| 500/500 [00:00<00:00, 640.76it/s]\n",
      "Trial 17/20: Running 500 iterations: 100%|██████████| 500/500 [00:00<00:00, 643.31it/s]\n",
      "Trial 18/20: Running 500 iterations: 100%|██████████| 500/500 [00:00<00:00, 654.18it/s]\n",
      "Trial 19/20: Running 500 iterations: 100%|██████████| 500/500 [00:00<00:00, 641.14it/s]\n",
      "Trial 20/20: Running 500 iterations: 100%|██████████| 500/500 [00:00<00:00, 642.38it/s]\n",
      "Unsupported operator aten::max_pool2d encountered 3 time(s)\n",
      "Unsupported operator aten::add encountered 4 time(s)\n"
     ]
    },
    {
     "name": "stdout",
     "output_type": "stream",
     "text": [
      "Processing batch size: 64\n"
     ]
    },
    {
     "name": "stderr",
     "output_type": "stream",
     "text": [
      "Trial 1/20: Running 500 iterations: 100%|██████████| 500/500 [00:01<00:00, 392.29it/s]\n",
      "Trial 2/20: Running 500 iterations: 100%|██████████| 500/500 [00:01<00:00, 389.61it/s]\n",
      "Trial 3/20: Running 500 iterations: 100%|██████████| 500/500 [00:01<00:00, 389.69it/s]\n",
      "Trial 4/20: Running 500 iterations: 100%|██████████| 500/500 [00:01<00:00, 389.33it/s]\n",
      "Trial 5/20: Running 500 iterations: 100%|██████████| 500/500 [00:01<00:00, 386.98it/s]\n",
      "Trial 6/20: Running 500 iterations: 100%|██████████| 500/500 [00:01<00:00, 390.94it/s]\n",
      "Trial 7/20: Running 500 iterations: 100%|██████████| 500/500 [00:01<00:00, 382.02it/s]\n",
      "Trial 8/20: Running 500 iterations: 100%|██████████| 500/500 [00:01<00:00, 388.92it/s]\n",
      "Trial 9/20: Running 500 iterations: 100%|██████████| 500/500 [00:01<00:00, 386.33it/s]\n",
      "Trial 10/20: Running 500 iterations: 100%|██████████| 500/500 [00:01<00:00, 390.33it/s]\n",
      "Trial 11/20: Running 500 iterations: 100%|██████████| 500/500 [00:01<00:00, 388.56it/s]\n",
      "Trial 12/20: Running 500 iterations: 100%|██████████| 500/500 [00:01<00:00, 390.24it/s]\n",
      "Trial 13/20: Running 500 iterations: 100%|██████████| 500/500 [00:01<00:00, 387.74it/s]\n",
      "Trial 14/20: Running 500 iterations: 100%|██████████| 500/500 [00:01<00:00, 386.43it/s]\n",
      "Trial 15/20: Running 500 iterations: 100%|██████████| 500/500 [00:01<00:00, 387.48it/s]\n",
      "Trial 16/20: Running 500 iterations: 100%|██████████| 500/500 [00:01<00:00, 390.41it/s]\n",
      "Trial 17/20: Running 500 iterations: 100%|██████████| 500/500 [00:01<00:00, 386.93it/s]\n",
      "Trial 18/20: Running 500 iterations: 100%|██████████| 500/500 [00:01<00:00, 386.54it/s]\n",
      "Trial 19/20: Running 500 iterations: 100%|██████████| 500/500 [00:01<00:00, 388.39it/s]\n",
      "Trial 20/20: Running 500 iterations: 100%|██████████| 500/500 [00:01<00:00, 390.29it/s]\n",
      "Processing Models:  71%|███████   | 47/66 [1:41:07<33:32, 105.94s/it]"
     ]
    },
    {
     "name": "stdout",
     "output_type": "stream",
     "text": [
      "Processing model: d:\\PruneLimit\\PruneLimitAnalyzer\\models\\AlexNet_DATASET_random_PD4_GPR-20_PRUNED_SEED_23.pth\n"
     ]
    },
    {
     "name": "stderr",
     "output_type": "stream",
     "text": [
      "Unsupported operator aten::max_pool2d encountered 3 time(s)\n",
      "Unsupported operator aten::add encountered 4 time(s)\n"
     ]
    },
    {
     "name": "stdout",
     "output_type": "stream",
     "text": [
      "Processing batch size: 1\n"
     ]
    },
    {
     "name": "stderr",
     "output_type": "stream",
     "text": [
      "Trial 1/20: Running 500 iterations: 100%|██████████| 500/500 [00:00<00:00, 986.09it/s]\n",
      "Trial 2/20: Running 500 iterations: 100%|██████████| 500/500 [00:00<00:00, 996.23it/s]\n",
      "Trial 3/20: Running 500 iterations: 100%|██████████| 500/500 [00:00<00:00, 1013.78it/s]\n",
      "Trial 4/20: Running 500 iterations: 100%|██████████| 500/500 [00:00<00:00, 1038.91it/s]\n",
      "Trial 5/20: Running 500 iterations: 100%|██████████| 500/500 [00:00<00:00, 867.79it/s]\n",
      "Trial 6/20: Running 500 iterations: 100%|██████████| 500/500 [00:00<00:00, 947.96it/s]\n",
      "Trial 7/20: Running 500 iterations: 100%|██████████| 500/500 [00:00<00:00, 1065.54it/s]\n",
      "Trial 8/20: Running 500 iterations: 100%|██████████| 500/500 [00:00<00:00, 1098.20it/s]\n",
      "Trial 9/20: Running 500 iterations: 100%|██████████| 500/500 [00:00<00:00, 1047.67it/s]\n",
      "Trial 10/20: Running 500 iterations: 100%|██████████| 500/500 [00:00<00:00, 983.16it/s]\n",
      "Trial 11/20: Running 500 iterations: 100%|██████████| 500/500 [00:00<00:00, 890.78it/s]\n",
      "Trial 12/20: Running 500 iterations: 100%|██████████| 500/500 [00:00<00:00, 917.54it/s]\n",
      "Trial 13/20: Running 500 iterations: 100%|██████████| 500/500 [00:00<00:00, 1024.95it/s]\n",
      "Trial 14/20: Running 500 iterations: 100%|██████████| 500/500 [00:00<00:00, 964.46it/s]\n",
      "Trial 15/20: Running 500 iterations: 100%|██████████| 500/500 [00:00<00:00, 981.24it/s]\n",
      "Trial 16/20: Running 500 iterations: 100%|██████████| 500/500 [00:00<00:00, 1061.99it/s]\n",
      "Trial 17/20: Running 500 iterations: 100%|██████████| 500/500 [00:00<00:00, 966.84it/s]\n",
      "Trial 18/20: Running 500 iterations: 100%|██████████| 500/500 [00:00<00:00, 956.66it/s]\n",
      "Trial 19/20: Running 500 iterations: 100%|██████████| 500/500 [00:00<00:00, 1069.11it/s]\n",
      "Trial 20/20: Running 500 iterations: 100%|██████████| 500/500 [00:00<00:00, 942.96it/s]\n",
      "Unsupported operator aten::max_pool2d encountered 3 time(s)\n",
      "Unsupported operator aten::add encountered 4 time(s)\n"
     ]
    },
    {
     "name": "stdout",
     "output_type": "stream",
     "text": [
      "Processing batch size: 8\n"
     ]
    },
    {
     "name": "stderr",
     "output_type": "stream",
     "text": [
      "Trial 1/20: Running 500 iterations: 100%|██████████| 500/500 [00:00<00:00, 795.47it/s]\n",
      "Trial 2/20: Running 500 iterations: 100%|██████████| 500/500 [00:00<00:00, 823.76it/s]\n",
      "Trial 3/20: Running 500 iterations: 100%|██████████| 500/500 [00:00<00:00, 806.62it/s]\n",
      "Trial 4/20: Running 500 iterations: 100%|██████████| 500/500 [00:00<00:00, 824.91it/s]\n",
      "Trial 5/20: Running 500 iterations: 100%|██████████| 500/500 [00:00<00:00, 761.80it/s]\n",
      "Trial 6/20: Running 500 iterations: 100%|██████████| 500/500 [00:00<00:00, 786.79it/s]\n",
      "Trial 7/20: Running 500 iterations: 100%|██████████| 500/500 [00:00<00:00, 809.18it/s]\n",
      "Trial 8/20: Running 500 iterations: 100%|██████████| 500/500 [00:00<00:00, 833.63it/s]\n",
      "Trial 9/20: Running 500 iterations: 100%|██████████| 500/500 [00:00<00:00, 841.07it/s]\n",
      "Trial 10/20: Running 500 iterations: 100%|██████████| 500/500 [00:00<00:00, 817.65it/s]\n",
      "Trial 11/20: Running 500 iterations: 100%|██████████| 500/500 [00:00<00:00, 840.94it/s]\n",
      "Trial 12/20: Running 500 iterations: 100%|██████████| 500/500 [00:00<00:00, 846.67it/s]\n",
      "Trial 13/20: Running 500 iterations: 100%|██████████| 500/500 [00:00<00:00, 833.30it/s]\n",
      "Trial 14/20: Running 500 iterations: 100%|██████████| 500/500 [00:00<00:00, 842.44it/s]\n",
      "Trial 15/20: Running 500 iterations: 100%|██████████| 500/500 [00:00<00:00, 733.35it/s]\n",
      "Trial 16/20: Running 500 iterations: 100%|██████████| 500/500 [00:00<00:00, 844.92it/s]\n",
      "Trial 17/20: Running 500 iterations: 100%|██████████| 500/500 [00:00<00:00, 852.60it/s]\n",
      "Trial 18/20: Running 500 iterations: 100%|██████████| 500/500 [00:00<00:00, 836.21it/s]\n",
      "Trial 19/20: Running 500 iterations: 100%|██████████| 500/500 [00:00<00:00, 818.56it/s]\n",
      "Trial 20/20: Running 500 iterations: 100%|██████████| 500/500 [00:00<00:00, 751.71it/s]\n",
      "Unsupported operator aten::max_pool2d encountered 3 time(s)\n",
      "Unsupported operator aten::add encountered 4 time(s)\n"
     ]
    },
    {
     "name": "stdout",
     "output_type": "stream",
     "text": [
      "Processing batch size: 16\n"
     ]
    },
    {
     "name": "stderr",
     "output_type": "stream",
     "text": [
      "Trial 1/20: Running 500 iterations: 100%|██████████| 500/500 [00:00<00:00, 610.93it/s]\n",
      "Trial 2/20: Running 500 iterations: 100%|██████████| 500/500 [00:00<00:00, 605.06it/s]\n",
      "Trial 3/20: Running 500 iterations: 100%|██████████| 500/500 [00:00<00:00, 608.15it/s]\n",
      "Trial 4/20: Running 500 iterations: 100%|██████████| 500/500 [00:00<00:00, 604.72it/s]\n",
      "Trial 5/20: Running 500 iterations: 100%|██████████| 500/500 [00:00<00:00, 603.58it/s]\n",
      "Trial 6/20: Running 500 iterations: 100%|██████████| 500/500 [00:00<00:00, 614.83it/s]\n",
      "Trial 7/20: Running 500 iterations: 100%|██████████| 500/500 [00:00<00:00, 597.68it/s]\n",
      "Trial 8/20: Running 500 iterations: 100%|██████████| 500/500 [00:00<00:00, 614.11it/s]\n",
      "Trial 9/20: Running 500 iterations: 100%|██████████| 500/500 [00:00<00:00, 609.01it/s]\n",
      "Trial 10/20: Running 500 iterations: 100%|██████████| 500/500 [00:00<00:00, 614.85it/s]\n",
      "Trial 11/20: Running 500 iterations: 100%|██████████| 500/500 [00:00<00:00, 609.47it/s]\n",
      "Trial 12/20: Running 500 iterations: 100%|██████████| 500/500 [00:00<00:00, 602.00it/s]\n",
      "Trial 13/20: Running 500 iterations: 100%|██████████| 500/500 [00:00<00:00, 601.08it/s]\n",
      "Trial 14/20: Running 500 iterations: 100%|██████████| 500/500 [00:00<00:00, 620.59it/s]\n",
      "Trial 15/20: Running 500 iterations: 100%|██████████| 500/500 [00:00<00:00, 597.06it/s]\n",
      "Trial 16/20: Running 500 iterations: 100%|██████████| 500/500 [00:00<00:00, 594.03it/s]\n",
      "Trial 17/20: Running 500 iterations: 100%|██████████| 500/500 [00:00<00:00, 603.77it/s]\n",
      "Trial 18/20: Running 500 iterations: 100%|██████████| 500/500 [00:00<00:00, 606.57it/s]\n",
      "Trial 19/20: Running 500 iterations: 100%|██████████| 500/500 [00:00<00:00, 602.61it/s]\n",
      "Trial 20/20: Running 500 iterations: 100%|██████████| 500/500 [00:00<00:00, 598.12it/s]\n",
      "Unsupported operator aten::max_pool2d encountered 3 time(s)\n",
      "Unsupported operator aten::add encountered 4 time(s)\n"
     ]
    },
    {
     "name": "stdout",
     "output_type": "stream",
     "text": [
      "Processing batch size: 32\n"
     ]
    },
    {
     "name": "stderr",
     "output_type": "stream",
     "text": [
      "Trial 1/20: Running 500 iterations: 100%|██████████| 500/500 [00:01<00:00, 343.71it/s]\n",
      "Trial 2/20: Running 500 iterations: 100%|██████████| 500/500 [00:01<00:00, 338.34it/s]\n",
      "Trial 3/20: Running 500 iterations: 100%|██████████| 500/500 [00:01<00:00, 340.65it/s]\n",
      "Trial 4/20: Running 500 iterations: 100%|██████████| 500/500 [00:01<00:00, 341.42it/s]\n",
      "Trial 5/20: Running 500 iterations: 100%|██████████| 500/500 [00:01<00:00, 341.57it/s]\n",
      "Trial 6/20: Running 500 iterations: 100%|██████████| 500/500 [00:01<00:00, 340.08it/s]\n",
      "Trial 7/20: Running 500 iterations: 100%|██████████| 500/500 [00:01<00:00, 342.01it/s]\n",
      "Trial 8/20: Running 500 iterations: 100%|██████████| 500/500 [00:01<00:00, 341.07it/s]\n",
      "Trial 9/20: Running 500 iterations: 100%|██████████| 500/500 [00:01<00:00, 342.17it/s]\n",
      "Trial 10/20: Running 500 iterations: 100%|██████████| 500/500 [00:01<00:00, 340.73it/s]\n",
      "Trial 11/20: Running 500 iterations: 100%|██████████| 500/500 [00:01<00:00, 340.99it/s]\n",
      "Trial 12/20: Running 500 iterations: 100%|██████████| 500/500 [00:01<00:00, 343.26it/s]\n",
      "Trial 13/20: Running 500 iterations: 100%|██████████| 500/500 [00:01<00:00, 337.98it/s]\n",
      "Trial 14/20: Running 500 iterations: 100%|██████████| 500/500 [00:01<00:00, 340.27it/s]\n",
      "Trial 15/20: Running 500 iterations: 100%|██████████| 500/500 [00:01<00:00, 341.12it/s]\n",
      "Trial 16/20: Running 500 iterations: 100%|██████████| 500/500 [00:01<00:00, 341.28it/s]\n",
      "Trial 17/20: Running 500 iterations: 100%|██████████| 500/500 [00:01<00:00, 340.49it/s]\n",
      "Trial 18/20: Running 500 iterations: 100%|██████████| 500/500 [00:01<00:00, 338.15it/s]\n",
      "Trial 19/20: Running 500 iterations: 100%|██████████| 500/500 [00:01<00:00, 340.52it/s]\n",
      "Trial 20/20: Running 500 iterations: 100%|██████████| 500/500 [00:01<00:00, 339.95it/s]\n",
      "Unsupported operator aten::max_pool2d encountered 3 time(s)\n",
      "Unsupported operator aten::add encountered 4 time(s)\n"
     ]
    },
    {
     "name": "stdout",
     "output_type": "stream",
     "text": [
      "Processing batch size: 64\n"
     ]
    },
    {
     "name": "stderr",
     "output_type": "stream",
     "text": [
      "Trial 1/20: Running 500 iterations: 100%|██████████| 500/500 [00:02<00:00, 208.63it/s]\n",
      "Trial 2/20: Running 500 iterations: 100%|██████████| 500/500 [00:02<00:00, 206.96it/s]\n",
      "Trial 3/20: Running 500 iterations: 100%|██████████| 500/500 [00:02<00:00, 206.98it/s]\n",
      "Trial 4/20: Running 500 iterations: 100%|██████████| 500/500 [00:02<00:00, 207.11it/s]\n",
      "Trial 5/20: Running 500 iterations: 100%|██████████| 500/500 [00:02<00:00, 208.34it/s]\n",
      "Trial 6/20: Running 500 iterations: 100%|██████████| 500/500 [00:02<00:00, 208.41it/s]\n",
      "Trial 7/20: Running 500 iterations: 100%|██████████| 500/500 [00:02<00:00, 208.31it/s]\n",
      "Trial 8/20: Running 500 iterations: 100%|██████████| 500/500 [00:02<00:00, 207.95it/s]\n",
      "Trial 9/20: Running 500 iterations: 100%|██████████| 500/500 [00:02<00:00, 207.01it/s]\n",
      "Trial 10/20: Running 500 iterations: 100%|██████████| 500/500 [00:02<00:00, 208.45it/s]\n",
      "Trial 11/20: Running 500 iterations: 100%|██████████| 500/500 [00:02<00:00, 208.15it/s]\n",
      "Trial 12/20: Running 500 iterations: 100%|██████████| 500/500 [00:02<00:00, 207.33it/s]\n",
      "Trial 13/20: Running 500 iterations: 100%|██████████| 500/500 [00:02<00:00, 206.85it/s]\n",
      "Trial 14/20: Running 500 iterations: 100%|██████████| 500/500 [00:02<00:00, 206.80it/s]\n",
      "Trial 15/20: Running 500 iterations: 100%|██████████| 500/500 [00:02<00:00, 208.77it/s]\n",
      "Trial 16/20: Running 500 iterations: 100%|██████████| 500/500 [00:02<00:00, 208.32it/s]\n",
      "Trial 17/20: Running 500 iterations: 100%|██████████| 500/500 [00:02<00:00, 208.31it/s]\n",
      "Trial 18/20: Running 500 iterations: 100%|██████████| 500/500 [00:02<00:00, 208.48it/s]\n",
      "Trial 19/20: Running 500 iterations: 100%|██████████| 500/500 [00:02<00:00, 208.52it/s]\n",
      "Trial 20/20: Running 500 iterations: 100%|██████████| 500/500 [00:02<00:00, 206.95it/s]\n",
      "Processing Models:  73%|███████▎  | 48/66 [1:43:32<35:18, 117.69s/it]Unsupported operator aten::max_pool2d encountered 3 time(s)\n",
      "Unsupported operator aten::add encountered 4 time(s)\n"
     ]
    },
    {
     "name": "stdout",
     "output_type": "stream",
     "text": [
      "Processing model: d:\\PruneLimit\\PruneLimitAnalyzer\\models\\AlexNet_DATASET_random_PD2_GPR-60_PRUNED_SEED_23.pth\n",
      "Processing batch size: 1\n"
     ]
    },
    {
     "name": "stderr",
     "output_type": "stream",
     "text": [
      "Trial 1/20: Running 500 iterations: 100%|██████████| 500/500 [00:00<00:00, 602.41it/s]\n",
      "Trial 2/20: Running 500 iterations: 100%|██████████| 500/500 [00:00<00:00, 645.50it/s]\n",
      "Trial 3/20: Running 500 iterations: 100%|██████████| 500/500 [00:00<00:00, 629.42it/s]\n",
      "Trial 4/20: Running 500 iterations: 100%|██████████| 500/500 [00:00<00:00, 673.85it/s]\n",
      "Trial 5/20: Running 500 iterations: 100%|██████████| 500/500 [00:00<00:00, 896.35it/s]\n",
      "Trial 6/20: Running 500 iterations: 100%|██████████| 500/500 [00:00<00:00, 879.30it/s]\n",
      "Trial 7/20: Running 500 iterations: 100%|██████████| 500/500 [00:00<00:00, 917.90it/s]\n",
      "Trial 8/20: Running 500 iterations: 100%|██████████| 500/500 [00:00<00:00, 972.72it/s]\n",
      "Trial 9/20: Running 500 iterations: 100%|██████████| 500/500 [00:00<00:00, 877.97it/s]\n",
      "Trial 10/20: Running 500 iterations: 100%|██████████| 500/500 [00:00<00:00, 919.64it/s]\n",
      "Trial 11/20: Running 500 iterations: 100%|██████████| 500/500 [00:00<00:00, 849.75it/s]\n",
      "Trial 12/20: Running 500 iterations: 100%|██████████| 500/500 [00:00<00:00, 1004.28it/s]\n",
      "Trial 13/20: Running 500 iterations: 100%|██████████| 500/500 [00:00<00:00, 867.85it/s]\n",
      "Trial 14/20: Running 500 iterations: 100%|██████████| 500/500 [00:00<00:00, 712.19it/s]\n",
      "Trial 15/20: Running 500 iterations: 100%|██████████| 500/500 [00:00<00:00, 900.55it/s]\n",
      "Trial 16/20: Running 500 iterations: 100%|██████████| 500/500 [00:00<00:00, 892.75it/s]\n",
      "Trial 17/20: Running 500 iterations: 100%|██████████| 500/500 [00:00<00:00, 1003.36it/s]\n",
      "Trial 18/20: Running 500 iterations: 100%|██████████| 500/500 [00:00<00:00, 760.07it/s]\n",
      "Trial 19/20: Running 500 iterations: 100%|██████████| 500/500 [00:00<00:00, 919.18it/s]\n",
      "Trial 20/20: Running 500 iterations: 100%|██████████| 500/500 [00:00<00:00, 963.03it/s]\n",
      "Unsupported operator aten::max_pool2d encountered 3 time(s)\n",
      "Unsupported operator aten::add encountered 4 time(s)\n"
     ]
    },
    {
     "name": "stdout",
     "output_type": "stream",
     "text": [
      "Processing batch size: 8\n"
     ]
    },
    {
     "name": "stderr",
     "output_type": "stream",
     "text": [
      "Trial 1/20: Running 500 iterations: 100%|██████████| 500/500 [00:00<00:00, 987.54it/s]\n",
      "Trial 2/20: Running 500 iterations: 100%|██████████| 500/500 [00:00<00:00, 952.90it/s]\n",
      "Trial 3/20: Running 500 iterations: 100%|██████████| 500/500 [00:00<00:00, 1008.36it/s]\n",
      "Trial 4/20: Running 500 iterations: 100%|██████████| 500/500 [00:00<00:00, 965.19it/s]\n",
      "Trial 5/20: Running 500 iterations: 100%|██████████| 500/500 [00:00<00:00, 957.85it/s]\n",
      "Trial 6/20: Running 500 iterations: 100%|██████████| 500/500 [00:00<00:00, 783.92it/s]\n",
      "Trial 7/20: Running 500 iterations: 100%|██████████| 500/500 [00:00<00:00, 668.58it/s]\n",
      "Trial 8/20: Running 500 iterations: 100%|██████████| 500/500 [00:00<00:00, 889.72it/s]\n",
      "Trial 9/20: Running 500 iterations: 100%|██████████| 500/500 [00:00<00:00, 695.30it/s]\n",
      "Trial 10/20: Running 500 iterations: 100%|██████████| 500/500 [00:00<00:00, 713.81it/s]\n",
      "Trial 11/20: Running 500 iterations: 100%|██████████| 500/500 [00:00<00:00, 803.41it/s]\n",
      "Trial 12/20: Running 500 iterations: 100%|██████████| 500/500 [00:00<00:00, 661.10it/s]\n",
      "Trial 13/20: Running 500 iterations: 100%|██████████| 500/500 [00:00<00:00, 729.40it/s]\n",
      "Trial 14/20: Running 500 iterations: 100%|██████████| 500/500 [00:00<00:00, 917.41it/s]\n",
      "Trial 15/20: Running 500 iterations: 100%|██████████| 500/500 [00:00<00:00, 925.91it/s]\n",
      "Trial 16/20: Running 500 iterations: 100%|██████████| 500/500 [00:00<00:00, 871.40it/s]\n",
      "Trial 17/20: Running 500 iterations: 100%|██████████| 500/500 [00:00<00:00, 856.69it/s]\n",
      "Trial 18/20: Running 500 iterations: 100%|██████████| 500/500 [00:00<00:00, 843.80it/s]\n",
      "Trial 19/20: Running 500 iterations: 100%|██████████| 500/500 [00:00<00:00, 891.96it/s]\n",
      "Trial 20/20: Running 500 iterations: 100%|██████████| 500/500 [00:00<00:00, 977.15it/s]\n",
      "Unsupported operator aten::max_pool2d encountered 3 time(s)\n",
      "Unsupported operator aten::add encountered 4 time(s)\n"
     ]
    },
    {
     "name": "stdout",
     "output_type": "stream",
     "text": [
      "Processing batch size: 16\n"
     ]
    },
    {
     "name": "stderr",
     "output_type": "stream",
     "text": [
      "Trial 1/20: Running 500 iterations: 100%|██████████| 500/500 [00:00<00:00, 1024.79it/s]\n",
      "Trial 2/20: Running 500 iterations: 100%|██████████| 500/500 [00:00<00:00, 881.94it/s]\n",
      "Trial 3/20: Running 500 iterations: 100%|██████████| 500/500 [00:00<00:00, 1067.86it/s]\n",
      "Trial 4/20: Running 500 iterations: 100%|██████████| 500/500 [00:00<00:00, 1121.05it/s]\n",
      "Trial 5/20: Running 500 iterations: 100%|██████████| 500/500 [00:00<00:00, 1031.16it/s]\n",
      "Trial 6/20: Running 500 iterations: 100%|██████████| 500/500 [00:00<00:00, 1107.92it/s]\n",
      "Trial 7/20: Running 500 iterations: 100%|██████████| 500/500 [00:00<00:00, 1086.26it/s]\n",
      "Trial 8/20: Running 500 iterations: 100%|██████████| 500/500 [00:00<00:00, 1104.93it/s]\n",
      "Trial 9/20: Running 500 iterations: 100%|██████████| 500/500 [00:00<00:00, 1069.20it/s]\n",
      "Trial 10/20: Running 500 iterations: 100%|██████████| 500/500 [00:00<00:00, 1062.08it/s]\n",
      "Trial 11/20: Running 500 iterations: 100%|██████████| 500/500 [00:00<00:00, 1083.00it/s]\n",
      "Trial 12/20: Running 500 iterations: 100%|██████████| 500/500 [00:00<00:00, 1096.79it/s]\n",
      "Trial 13/20: Running 500 iterations: 100%|██████████| 500/500 [00:00<00:00, 1082.67it/s]\n",
      "Trial 14/20: Running 500 iterations: 100%|██████████| 500/500 [00:00<00:00, 1084.08it/s]\n",
      "Trial 15/20: Running 500 iterations: 100%|██████████| 500/500 [00:00<00:00, 1018.49it/s]\n",
      "Trial 16/20: Running 500 iterations: 100%|██████████| 500/500 [00:00<00:00, 1000.31it/s]\n",
      "Trial 17/20: Running 500 iterations: 100%|██████████| 500/500 [00:00<00:00, 772.20it/s]\n",
      "Trial 18/20: Running 500 iterations: 100%|██████████| 500/500 [00:00<00:00, 910.52it/s]\n",
      "Trial 19/20: Running 500 iterations: 100%|██████████| 500/500 [00:00<00:00, 852.87it/s]\n",
      "Trial 20/20: Running 500 iterations: 100%|██████████| 500/500 [00:00<00:00, 858.96it/s]\n",
      "Unsupported operator aten::max_pool2d encountered 3 time(s)\n",
      "Unsupported operator aten::add encountered 4 time(s)\n"
     ]
    },
    {
     "name": "stdout",
     "output_type": "stream",
     "text": [
      "Processing batch size: 32\n"
     ]
    },
    {
     "name": "stderr",
     "output_type": "stream",
     "text": [
      "Trial 1/20: Running 500 iterations: 100%|██████████| 500/500 [00:00<00:00, 715.60it/s]\n",
      "Trial 2/20: Running 500 iterations: 100%|██████████| 500/500 [00:00<00:00, 692.01it/s]\n",
      "Trial 3/20: Running 500 iterations: 100%|██████████| 500/500 [00:00<00:00, 710.57it/s]\n",
      "Trial 4/20: Running 500 iterations: 100%|██████████| 500/500 [00:00<00:00, 708.87it/s]\n",
      "Trial 5/20: Running 500 iterations: 100%|██████████| 500/500 [00:00<00:00, 706.02it/s]\n",
      "Trial 6/20: Running 500 iterations: 100%|██████████| 500/500 [00:00<00:00, 715.42it/s]\n",
      "Trial 7/20: Running 500 iterations: 100%|██████████| 500/500 [00:00<00:00, 705.72it/s]\n",
      "Trial 8/20: Running 500 iterations: 100%|██████████| 500/500 [00:00<00:00, 701.52it/s]\n",
      "Trial 9/20: Running 500 iterations: 100%|██████████| 500/500 [00:00<00:00, 700.46it/s]\n",
      "Trial 10/20: Running 500 iterations: 100%|██████████| 500/500 [00:00<00:00, 716.57it/s]\n",
      "Trial 11/20: Running 500 iterations: 100%|██████████| 500/500 [00:00<00:00, 708.28it/s]\n",
      "Trial 12/20: Running 500 iterations: 100%|██████████| 500/500 [00:00<00:00, 701.73it/s]\n",
      "Trial 13/20: Running 500 iterations: 100%|██████████| 500/500 [00:00<00:00, 684.62it/s]\n",
      "Trial 14/20: Running 500 iterations: 100%|██████████| 500/500 [00:00<00:00, 710.26it/s]\n",
      "Trial 15/20: Running 500 iterations: 100%|██████████| 500/500 [00:00<00:00, 707.57it/s]\n",
      "Trial 16/20: Running 500 iterations: 100%|██████████| 500/500 [00:00<00:00, 697.70it/s]\n",
      "Trial 17/20: Running 500 iterations: 100%|██████████| 500/500 [00:00<00:00, 712.43it/s]\n",
      "Trial 18/20: Running 500 iterations: 100%|██████████| 500/500 [00:00<00:00, 712.74it/s]\n",
      "Trial 19/20: Running 500 iterations: 100%|██████████| 500/500 [00:00<00:00, 705.96it/s]\n",
      "Trial 20/20: Running 500 iterations: 100%|██████████| 500/500 [00:00<00:00, 712.87it/s]\n",
      "Unsupported operator aten::max_pool2d encountered 3 time(s)\n",
      "Unsupported operator aten::add encountered 4 time(s)\n"
     ]
    },
    {
     "name": "stdout",
     "output_type": "stream",
     "text": [
      "Processing batch size: 64\n"
     ]
    },
    {
     "name": "stderr",
     "output_type": "stream",
     "text": [
      "Trial 1/20: Running 500 iterations: 100%|██████████| 500/500 [00:01<00:00, 450.75it/s]\n",
      "Trial 2/20: Running 500 iterations: 100%|██████████| 500/500 [00:01<00:00, 445.87it/s]\n",
      "Trial 3/20: Running 500 iterations: 100%|██████████| 500/500 [00:01<00:00, 452.20it/s]\n",
      "Trial 4/20: Running 500 iterations: 100%|██████████| 500/500 [00:01<00:00, 451.95it/s]\n",
      "Trial 5/20: Running 500 iterations: 100%|██████████| 500/500 [00:01<00:00, 452.02it/s]\n",
      "Trial 6/20: Running 500 iterations: 100%|██████████| 500/500 [00:01<00:00, 450.44it/s]\n",
      "Trial 7/20: Running 500 iterations: 100%|██████████| 500/500 [00:01<00:00, 450.93it/s]\n",
      "Trial 8/20: Running 500 iterations: 100%|██████████| 500/500 [00:01<00:00, 447.49it/s]\n",
      "Trial 9/20: Running 500 iterations: 100%|██████████| 500/500 [00:01<00:00, 444.97it/s]\n",
      "Trial 10/20: Running 500 iterations: 100%|██████████| 500/500 [00:01<00:00, 452.20it/s]\n",
      "Trial 11/20: Running 500 iterations: 100%|██████████| 500/500 [00:01<00:00, 454.00it/s]\n",
      "Trial 12/20: Running 500 iterations: 100%|██████████| 500/500 [00:01<00:00, 445.64it/s]\n",
      "Trial 13/20: Running 500 iterations: 100%|██████████| 500/500 [00:01<00:00, 453.88it/s]\n",
      "Trial 14/20: Running 500 iterations: 100%|██████████| 500/500 [00:01<00:00, 451.77it/s]\n",
      "Trial 15/20: Running 500 iterations: 100%|██████████| 500/500 [00:01<00:00, 445.85it/s]\n",
      "Trial 16/20: Running 500 iterations: 100%|██████████| 500/500 [00:01<00:00, 451.76it/s]\n",
      "Trial 17/20: Running 500 iterations: 100%|██████████| 500/500 [00:01<00:00, 453.35it/s]\n",
      "Trial 18/20: Running 500 iterations: 100%|██████████| 500/500 [00:01<00:00, 449.74it/s]\n",
      "Trial 19/20: Running 500 iterations: 100%|██████████| 500/500 [00:01<00:00, 451.10it/s]\n",
      "Trial 20/20: Running 500 iterations: 100%|██████████| 500/500 [00:01<00:00, 451.72it/s]\n",
      "Processing Models:  74%|███████▍  | 49/66 [1:44:59<30:42, 108.35s/it]Unsupported operator aten::max_pool2d encountered 3 time(s)\n",
      "Unsupported operator aten::add encountered 4 time(s)\n"
     ]
    },
    {
     "name": "stdout",
     "output_type": "stream",
     "text": [
      "Processing model: d:\\PruneLimit\\PruneLimitAnalyzer\\models\\AlexNet_DATASET_random_PD5_GPR-55_PRUNED_SEED_23.pth\n",
      "Processing batch size: 1\n"
     ]
    },
    {
     "name": "stderr",
     "output_type": "stream",
     "text": [
      "Trial 1/20: Running 500 iterations: 100%|██████████| 500/500 [00:00<00:00, 806.21it/s]\n",
      "Trial 2/20: Running 500 iterations: 100%|██████████| 500/500 [00:00<00:00, 677.10it/s]\n",
      "Trial 3/20: Running 500 iterations: 100%|██████████| 500/500 [00:00<00:00, 891.46it/s]\n",
      "Trial 4/20: Running 500 iterations: 100%|██████████| 500/500 [00:00<00:00, 756.98it/s]\n",
      "Trial 5/20: Running 500 iterations: 100%|██████████| 500/500 [00:00<00:00, 856.98it/s]\n",
      "Trial 6/20: Running 500 iterations: 100%|██████████| 500/500 [00:00<00:00, 973.45it/s]\n",
      "Trial 7/20: Running 500 iterations: 100%|██████████| 500/500 [00:00<00:00, 972.24it/s]\n",
      "Trial 8/20: Running 500 iterations: 100%|██████████| 500/500 [00:00<00:00, 972.20it/s]\n",
      "Trial 9/20: Running 500 iterations: 100%|██████████| 500/500 [00:00<00:00, 1001.26it/s]\n",
      "Trial 10/20: Running 500 iterations: 100%|██████████| 500/500 [00:00<00:00, 973.96it/s]\n",
      "Trial 11/20: Running 500 iterations: 100%|██████████| 500/500 [00:00<00:00, 960.52it/s]\n",
      "Trial 12/20: Running 500 iterations: 100%|██████████| 500/500 [00:00<00:00, 825.87it/s]\n",
      "Trial 13/20: Running 500 iterations: 100%|██████████| 500/500 [00:00<00:00, 553.51it/s]\n",
      "Trial 14/20: Running 500 iterations: 100%|██████████| 500/500 [00:00<00:00, 553.57it/s]\n",
      "Trial 15/20: Running 500 iterations: 100%|██████████| 500/500 [00:00<00:00, 639.59it/s]\n",
      "Trial 16/20: Running 500 iterations: 100%|██████████| 500/500 [00:00<00:00, 771.20it/s]\n",
      "Trial 17/20: Running 500 iterations: 100%|██████████| 500/500 [00:00<00:00, 509.34it/s]\n",
      "Trial 18/20: Running 500 iterations: 100%|██████████| 500/500 [00:00<00:00, 590.20it/s]\n",
      "Trial 19/20: Running 500 iterations: 100%|██████████| 500/500 [00:00<00:00, 801.07it/s]\n",
      "Trial 20/20: Running 500 iterations: 100%|██████████| 500/500 [00:00<00:00, 795.52it/s]\n",
      "Unsupported operator aten::max_pool2d encountered 3 time(s)\n",
      "Unsupported operator aten::add encountered 4 time(s)\n"
     ]
    },
    {
     "name": "stdout",
     "output_type": "stream",
     "text": [
      "Processing batch size: 8\n"
     ]
    },
    {
     "name": "stderr",
     "output_type": "stream",
     "text": [
      "Trial 1/20: Running 500 iterations: 100%|██████████| 500/500 [00:00<00:00, 783.26it/s]\n",
      "Trial 2/20: Running 500 iterations: 100%|██████████| 500/500 [00:00<00:00, 810.70it/s]\n",
      "Trial 3/20: Running 500 iterations: 100%|██████████| 500/500 [00:00<00:00, 826.08it/s]\n",
      "Trial 4/20: Running 500 iterations: 100%|██████████| 500/500 [00:00<00:00, 774.38it/s]\n",
      "Trial 5/20: Running 500 iterations: 100%|██████████| 500/500 [00:00<00:00, 938.20it/s]\n",
      "Trial 6/20: Running 500 iterations: 100%|██████████| 500/500 [00:00<00:00, 876.07it/s]\n",
      "Trial 7/20: Running 500 iterations: 100%|██████████| 500/500 [00:00<00:00, 890.48it/s]\n",
      "Trial 8/20: Running 500 iterations: 100%|██████████| 500/500 [00:00<00:00, 1000.12it/s]\n",
      "Trial 9/20: Running 500 iterations: 100%|██████████| 500/500 [00:00<00:00, 761.88it/s]\n",
      "Trial 10/20: Running 500 iterations: 100%|██████████| 500/500 [00:00<00:00, 764.88it/s]\n",
      "Trial 11/20: Running 500 iterations: 100%|██████████| 500/500 [00:00<00:00, 966.36it/s]\n",
      "Trial 12/20: Running 500 iterations: 100%|██████████| 500/500 [00:00<00:00, 955.35it/s]\n",
      "Trial 13/20: Running 500 iterations: 100%|██████████| 500/500 [00:00<00:00, 972.60it/s]\n",
      "Trial 14/20: Running 500 iterations: 100%|██████████| 500/500 [00:00<00:00, 952.79it/s]\n",
      "Trial 15/20: Running 500 iterations: 100%|██████████| 500/500 [00:00<00:00, 914.35it/s]\n",
      "Trial 16/20: Running 500 iterations: 100%|██████████| 500/500 [00:00<00:00, 883.63it/s]\n",
      "Trial 17/20: Running 500 iterations: 100%|██████████| 500/500 [00:00<00:00, 960.55it/s]\n",
      "Trial 18/20: Running 500 iterations: 100%|██████████| 500/500 [00:00<00:00, 954.03it/s]\n",
      "Trial 19/20: Running 500 iterations: 100%|██████████| 500/500 [00:00<00:00, 861.58it/s]\n",
      "Trial 20/20: Running 500 iterations: 100%|██████████| 500/500 [00:00<00:00, 904.37it/s]\n",
      "Unsupported operator aten::max_pool2d encountered 3 time(s)\n",
      "Unsupported operator aten::add encountered 4 time(s)\n"
     ]
    },
    {
     "name": "stdout",
     "output_type": "stream",
     "text": [
      "Processing batch size: 16\n"
     ]
    },
    {
     "name": "stderr",
     "output_type": "stream",
     "text": [
      "Trial 1/20: Running 500 iterations: 100%|██████████| 500/500 [00:00<00:00, 853.03it/s]\n",
      "Trial 2/20: Running 500 iterations: 100%|██████████| 500/500 [00:00<00:00, 833.37it/s]\n",
      "Trial 3/20: Running 500 iterations: 100%|██████████| 500/500 [00:00<00:00, 860.09it/s]\n",
      "Trial 4/20: Running 500 iterations: 100%|██████████| 500/500 [00:00<00:00, 605.06it/s]\n",
      "Trial 5/20: Running 500 iterations: 100%|██████████| 500/500 [00:00<00:00, 739.95it/s]\n",
      "Trial 6/20: Running 500 iterations: 100%|██████████| 500/500 [00:00<00:00, 677.34it/s]\n",
      "Trial 7/20: Running 500 iterations: 100%|██████████| 500/500 [00:00<00:00, 943.30it/s]\n",
      "Trial 8/20: Running 500 iterations: 100%|██████████| 500/500 [00:00<00:00, 926.99it/s]\n",
      "Trial 9/20: Running 500 iterations: 100%|██████████| 500/500 [00:00<00:00, 842.56it/s]\n",
      "Trial 10/20: Running 500 iterations: 100%|██████████| 500/500 [00:00<00:00, 920.89it/s]\n",
      "Trial 11/20: Running 500 iterations: 100%|██████████| 500/500 [00:00<00:00, 979.28it/s]\n",
      "Trial 12/20: Running 500 iterations: 100%|██████████| 500/500 [00:00<00:00, 917.43it/s]\n",
      "Trial 13/20: Running 500 iterations: 100%|██████████| 500/500 [00:00<00:00, 918.71it/s]\n",
      "Trial 14/20: Running 500 iterations: 100%|██████████| 500/500 [00:00<00:00, 873.71it/s]\n",
      "Trial 15/20: Running 500 iterations: 100%|██████████| 500/500 [00:00<00:00, 1020.20it/s]\n",
      "Trial 16/20: Running 500 iterations: 100%|██████████| 500/500 [00:00<00:00, 981.97it/s]\n",
      "Trial 17/20: Running 500 iterations: 100%|██████████| 500/500 [00:00<00:00, 721.93it/s]\n",
      "Trial 18/20: Running 500 iterations: 100%|██████████| 500/500 [00:00<00:00, 853.70it/s]\n",
      "Trial 19/20: Running 500 iterations: 100%|██████████| 500/500 [00:00<00:00, 1002.07it/s]\n",
      "Trial 20/20: Running 500 iterations: 100%|██████████| 500/500 [00:00<00:00, 1000.51it/s]\n",
      "Unsupported operator aten::max_pool2d encountered 3 time(s)\n",
      "Unsupported operator aten::add encountered 4 time(s)\n"
     ]
    },
    {
     "name": "stdout",
     "output_type": "stream",
     "text": [
      "Processing batch size: 32\n"
     ]
    },
    {
     "name": "stderr",
     "output_type": "stream",
     "text": [
      "Trial 1/20: Running 500 iterations: 100%|██████████| 500/500 [00:00<00:00, 623.77it/s]\n",
      "Trial 2/20: Running 500 iterations: 100%|██████████| 500/500 [00:00<00:00, 622.36it/s]\n",
      "Trial 3/20: Running 500 iterations: 100%|██████████| 500/500 [00:00<00:00, 626.21it/s]\n",
      "Trial 4/20: Running 500 iterations: 100%|██████████| 500/500 [00:00<00:00, 633.61it/s]\n",
      "Trial 5/20: Running 500 iterations: 100%|██████████| 500/500 [00:00<00:00, 628.15it/s]\n",
      "Trial 6/20: Running 500 iterations: 100%|██████████| 500/500 [00:00<00:00, 638.59it/s]\n",
      "Trial 7/20: Running 500 iterations: 100%|██████████| 500/500 [00:00<00:00, 624.85it/s]\n",
      "Trial 8/20: Running 500 iterations: 100%|██████████| 500/500 [00:00<00:00, 624.51it/s]\n",
      "Trial 9/20: Running 500 iterations: 100%|██████████| 500/500 [00:00<00:00, 619.44it/s]\n",
      "Trial 10/20: Running 500 iterations: 100%|██████████| 500/500 [00:00<00:00, 636.75it/s]\n",
      "Trial 11/20: Running 500 iterations: 100%|██████████| 500/500 [00:00<00:00, 623.05it/s]\n",
      "Trial 12/20: Running 500 iterations: 100%|██████████| 500/500 [00:00<00:00, 623.73it/s]\n",
      "Trial 13/20: Running 500 iterations: 100%|██████████| 500/500 [00:00<00:00, 629.67it/s]\n",
      "Trial 14/20: Running 500 iterations: 100%|██████████| 500/500 [00:00<00:00, 624.03it/s]\n",
      "Trial 15/20: Running 500 iterations: 100%|██████████| 500/500 [00:00<00:00, 624.16it/s]\n",
      "Trial 16/20: Running 500 iterations: 100%|██████████| 500/500 [00:00<00:00, 618.21it/s]\n",
      "Trial 17/20: Running 500 iterations: 100%|██████████| 500/500 [00:00<00:00, 635.40it/s]\n",
      "Trial 18/20: Running 500 iterations: 100%|██████████| 500/500 [00:00<00:00, 633.70it/s]\n",
      "Trial 19/20: Running 500 iterations: 100%|██████████| 500/500 [00:00<00:00, 631.67it/s]\n",
      "Trial 20/20: Running 500 iterations: 100%|██████████| 500/500 [00:00<00:00, 620.88it/s]\n",
      "Unsupported operator aten::max_pool2d encountered 3 time(s)\n",
      "Unsupported operator aten::add encountered 4 time(s)\n"
     ]
    },
    {
     "name": "stdout",
     "output_type": "stream",
     "text": [
      "Processing batch size: 64\n"
     ]
    },
    {
     "name": "stderr",
     "output_type": "stream",
     "text": [
      "Trial 1/20: Running 500 iterations: 100%|██████████| 500/500 [00:01<00:00, 381.20it/s]\n",
      "Trial 2/20: Running 500 iterations: 100%|██████████| 500/500 [00:01<00:00, 382.07it/s]\n",
      "Trial 3/20: Running 500 iterations: 100%|██████████| 500/500 [00:01<00:00, 382.18it/s]\n",
      "Trial 4/20: Running 500 iterations: 100%|██████████| 500/500 [00:01<00:00, 378.98it/s]\n",
      "Trial 5/20: Running 500 iterations: 100%|██████████| 500/500 [00:01<00:00, 381.96it/s]\n",
      "Trial 6/20: Running 500 iterations: 100%|██████████| 500/500 [00:01<00:00, 381.83it/s]\n",
      "Trial 7/20: Running 500 iterations: 100%|██████████| 500/500 [00:01<00:00, 381.66it/s]\n",
      "Trial 8/20: Running 500 iterations: 100%|██████████| 500/500 [00:01<00:00, 377.25it/s]\n",
      "Trial 9/20: Running 500 iterations: 100%|██████████| 500/500 [00:01<00:00, 378.86it/s]\n",
      "Trial 10/20: Running 500 iterations: 100%|██████████| 500/500 [00:01<00:00, 383.37it/s]\n",
      "Trial 11/20: Running 500 iterations: 100%|██████████| 500/500 [00:01<00:00, 377.24it/s]\n",
      "Trial 12/20: Running 500 iterations: 100%|██████████| 500/500 [00:01<00:00, 379.02it/s]\n",
      "Trial 13/20: Running 500 iterations: 100%|██████████| 500/500 [00:01<00:00, 377.20it/s]\n",
      "Trial 14/20: Running 500 iterations: 100%|██████████| 500/500 [00:01<00:00, 377.34it/s]\n",
      "Trial 15/20: Running 500 iterations: 100%|██████████| 500/500 [00:01<00:00, 377.95it/s]\n",
      "Trial 16/20: Running 500 iterations: 100%|██████████| 500/500 [00:01<00:00, 377.23it/s]\n",
      "Trial 17/20: Running 500 iterations: 100%|██████████| 500/500 [00:01<00:00, 376.50it/s]\n",
      "Trial 18/20: Running 500 iterations: 100%|██████████| 500/500 [00:01<00:00, 379.22it/s]\n",
      "Trial 19/20: Running 500 iterations: 100%|██████████| 500/500 [00:01<00:00, 378.36it/s]\n",
      "Trial 20/20: Running 500 iterations: 100%|██████████| 500/500 [00:01<00:00, 375.84it/s]\n",
      "Processing Models:  76%|███████▌  | 50/66 [1:46:35<27:58, 104.89s/it]Unsupported operator aten::max_pool2d encountered 3 time(s)\n",
      "Unsupported operator aten::add encountered 4 time(s)\n"
     ]
    },
    {
     "name": "stdout",
     "output_type": "stream",
     "text": [
      "Processing model: d:\\PruneLimit\\PruneLimitAnalyzer\\models\\AlexNet_DATASET_random_PD3_GPR-60_PRUNED_SEED_23.pth\n",
      "Processing batch size: 1\n"
     ]
    },
    {
     "name": "stderr",
     "output_type": "stream",
     "text": [
      "Trial 1/20: Running 500 iterations: 100%|██████████| 500/500 [00:00<00:00, 590.63it/s]\n",
      "Trial 2/20: Running 500 iterations: 100%|██████████| 500/500 [00:00<00:00, 849.79it/s]\n",
      "Trial 3/20: Running 500 iterations: 100%|██████████| 500/500 [00:00<00:00, 968.23it/s]\n",
      "Trial 4/20: Running 500 iterations: 100%|██████████| 500/500 [00:00<00:00, 922.19it/s]\n",
      "Trial 5/20: Running 500 iterations: 100%|██████████| 500/500 [00:00<00:00, 917.09it/s]\n",
      "Trial 6/20: Running 500 iterations: 100%|██████████| 500/500 [00:00<00:00, 905.64it/s]\n",
      "Trial 7/20: Running 500 iterations: 100%|██████████| 500/500 [00:00<00:00, 887.97it/s]\n",
      "Trial 8/20: Running 500 iterations: 100%|██████████| 500/500 [00:00<00:00, 915.54it/s]\n",
      "Trial 9/20: Running 500 iterations: 100%|██████████| 500/500 [00:00<00:00, 852.58it/s]\n",
      "Trial 10/20: Running 500 iterations: 100%|██████████| 500/500 [00:00<00:00, 1067.99it/s]\n",
      "Trial 11/20: Running 500 iterations: 100%|██████████| 500/500 [00:00<00:00, 925.70it/s]\n",
      "Trial 12/20: Running 500 iterations: 100%|██████████| 500/500 [00:00<00:00, 942.66it/s]\n",
      "Trial 13/20: Running 500 iterations: 100%|██████████| 500/500 [00:00<00:00, 1068.24it/s]\n",
      "Trial 14/20: Running 500 iterations: 100%|██████████| 500/500 [00:00<00:00, 881.33it/s]\n",
      "Trial 15/20: Running 500 iterations: 100%|██████████| 500/500 [00:00<00:00, 1040.18it/s]\n",
      "Trial 16/20: Running 500 iterations: 100%|██████████| 500/500 [00:00<00:00, 1005.03it/s]\n",
      "Trial 17/20: Running 500 iterations: 100%|██████████| 500/500 [00:00<00:00, 1071.04it/s]\n",
      "Trial 18/20: Running 500 iterations: 100%|██████████| 500/500 [00:00<00:00, 988.07it/s]\n",
      "Trial 19/20: Running 500 iterations: 100%|██████████| 500/500 [00:00<00:00, 1006.25it/s]\n",
      "Trial 20/20: Running 500 iterations: 100%|██████████| 500/500 [00:00<00:00, 973.89it/s]\n",
      "Unsupported operator aten::max_pool2d encountered 3 time(s)\n",
      "Unsupported operator aten::add encountered 4 time(s)\n"
     ]
    },
    {
     "name": "stdout",
     "output_type": "stream",
     "text": [
      "Processing batch size: 8\n"
     ]
    },
    {
     "name": "stderr",
     "output_type": "stream",
     "text": [
      "Trial 1/20: Running 500 iterations: 100%|██████████| 500/500 [00:00<00:00, 998.46it/s]\n",
      "Trial 2/20: Running 500 iterations: 100%|██████████| 500/500 [00:00<00:00, 993.21it/s]\n",
      "Trial 3/20: Running 500 iterations: 100%|██████████| 500/500 [00:00<00:00, 1052.05it/s]\n",
      "Trial 4/20: Running 500 iterations: 100%|██████████| 500/500 [00:00<00:00, 974.17it/s] \n",
      "Trial 5/20: Running 500 iterations: 100%|██████████| 500/500 [00:00<00:00, 704.56it/s]\n",
      "Trial 6/20: Running 500 iterations: 100%|██████████| 500/500 [00:00<00:00, 715.50it/s]\n",
      "Trial 7/20: Running 500 iterations: 100%|██████████| 500/500 [00:00<00:00, 744.43it/s]\n",
      "Trial 8/20: Running 500 iterations: 100%|██████████| 500/500 [00:00<00:00, 655.12it/s]\n",
      "Trial 9/20: Running 500 iterations: 100%|██████████| 500/500 [00:00<00:00, 844.06it/s]\n",
      "Trial 10/20: Running 500 iterations: 100%|██████████| 500/500 [00:00<00:00, 759.55it/s]\n",
      "Trial 11/20: Running 500 iterations: 100%|██████████| 500/500 [00:00<00:00, 764.12it/s]\n",
      "Trial 12/20: Running 500 iterations: 100%|██████████| 500/500 [00:00<00:00, 874.25it/s]\n",
      "Trial 13/20: Running 500 iterations: 100%|██████████| 500/500 [00:00<00:00, 891.98it/s]\n",
      "Trial 14/20: Running 500 iterations: 100%|██████████| 500/500 [00:00<00:00, 917.35it/s]\n",
      "Trial 15/20: Running 500 iterations: 100%|██████████| 500/500 [00:00<00:00, 842.76it/s]\n",
      "Trial 16/20: Running 500 iterations: 100%|██████████| 500/500 [00:00<00:00, 915.04it/s]\n",
      "Trial 17/20: Running 500 iterations: 100%|██████████| 500/500 [00:00<00:00, 868.69it/s]\n",
      "Trial 18/20: Running 500 iterations: 100%|██████████| 500/500 [00:00<00:00, 886.28it/s]\n",
      "Trial 19/20: Running 500 iterations: 100%|██████████| 500/500 [00:00<00:00, 915.12it/s]\n",
      "Trial 20/20: Running 500 iterations: 100%|██████████| 500/500 [00:00<00:00, 846.69it/s]\n",
      "Unsupported operator aten::max_pool2d encountered 3 time(s)\n",
      "Unsupported operator aten::add encountered 4 time(s)\n"
     ]
    },
    {
     "name": "stdout",
     "output_type": "stream",
     "text": [
      "Processing batch size: 16\n"
     ]
    },
    {
     "name": "stderr",
     "output_type": "stream",
     "text": [
      "Trial 1/20: Running 500 iterations: 100%|██████████| 500/500 [00:00<00:00, 1040.83it/s]\n",
      "Trial 2/20: Running 500 iterations: 100%|██████████| 500/500 [00:00<00:00, 778.31it/s]\n",
      "Trial 3/20: Running 500 iterations: 100%|██████████| 500/500 [00:00<00:00, 1024.25it/s]\n",
      "Trial 4/20: Running 500 iterations: 100%|██████████| 500/500 [00:00<00:00, 871.24it/s]\n",
      "Trial 5/20: Running 500 iterations: 100%|██████████| 500/500 [00:00<00:00, 974.31it/s]\n",
      "Trial 6/20: Running 500 iterations: 100%|██████████| 500/500 [00:00<00:00, 918.27it/s]\n",
      "Trial 7/20: Running 500 iterations: 100%|██████████| 500/500 [00:00<00:00, 1070.08it/s]\n",
      "Trial 8/20: Running 500 iterations: 100%|██████████| 500/500 [00:00<00:00, 1001.15it/s]\n",
      "Trial 9/20: Running 500 iterations: 100%|██████████| 500/500 [00:00<00:00, 959.03it/s]\n",
      "Trial 10/20: Running 500 iterations: 100%|██████████| 500/500 [00:00<00:00, 1041.84it/s]\n",
      "Trial 11/20: Running 500 iterations: 100%|██████████| 500/500 [00:00<00:00, 955.24it/s]\n",
      "Trial 12/20: Running 500 iterations: 100%|██████████| 500/500 [00:00<00:00, 1034.10it/s]\n",
      "Trial 13/20: Running 500 iterations: 100%|██████████| 500/500 [00:00<00:00, 1003.27it/s]\n",
      "Trial 14/20: Running 500 iterations: 100%|██████████| 500/500 [00:00<00:00, 606.74it/s]\n",
      "Trial 15/20: Running 500 iterations: 100%|██████████| 500/500 [00:00<00:00, 597.02it/s]\n",
      "Trial 16/20: Running 500 iterations: 100%|██████████| 500/500 [00:00<00:00, 673.86it/s]\n",
      "Trial 17/20: Running 500 iterations: 100%|██████████| 500/500 [00:00<00:00, 728.30it/s]\n",
      "Trial 18/20: Running 500 iterations: 100%|██████████| 500/500 [00:00<00:00, 762.76it/s]\n",
      "Trial 19/20: Running 500 iterations: 100%|██████████| 500/500 [00:00<00:00, 637.26it/s]\n",
      "Trial 20/20: Running 500 iterations: 100%|██████████| 500/500 [00:00<00:00, 804.09it/s]\n",
      "Unsupported operator aten::max_pool2d encountered 3 time(s)\n",
      "Unsupported operator aten::add encountered 4 time(s)\n"
     ]
    },
    {
     "name": "stdout",
     "output_type": "stream",
     "text": [
      "Processing batch size: 32\n"
     ]
    },
    {
     "name": "stderr",
     "output_type": "stream",
     "text": [
      "Trial 1/20: Running 500 iterations: 100%|██████████| 500/500 [00:00<00:00, 862.21it/s]\n",
      "Trial 2/20: Running 500 iterations: 100%|██████████| 500/500 [00:00<00:00, 885.65it/s]\n",
      "Trial 3/20: Running 500 iterations: 100%|██████████| 500/500 [00:00<00:00, 879.96it/s]\n",
      "Trial 4/20: Running 500 iterations: 100%|██████████| 500/500 [00:00<00:00, 866.27it/s]\n",
      "Trial 5/20: Running 500 iterations: 100%|██████████| 500/500 [00:00<00:00, 894.91it/s]\n",
      "Trial 6/20: Running 500 iterations: 100%|██████████| 500/500 [00:00<00:00, 867.99it/s]\n",
      "Trial 7/20: Running 500 iterations: 100%|██████████| 500/500 [00:00<00:00, 900.09it/s]\n",
      "Trial 8/20: Running 500 iterations: 100%|██████████| 500/500 [00:00<00:00, 840.82it/s]\n",
      "Trial 9/20: Running 500 iterations: 100%|██████████| 500/500 [00:00<00:00, 892.11it/s]\n",
      "Trial 10/20: Running 500 iterations: 100%|██████████| 500/500 [00:00<00:00, 834.47it/s]\n",
      "Trial 11/20: Running 500 iterations: 100%|██████████| 500/500 [00:00<00:00, 867.75it/s]\n",
      "Trial 12/20: Running 500 iterations: 100%|██████████| 500/500 [00:00<00:00, 890.79it/s]\n",
      "Trial 13/20: Running 500 iterations: 100%|██████████| 500/500 [00:00<00:00, 838.45it/s]\n",
      "Trial 14/20: Running 500 iterations: 100%|██████████| 500/500 [00:00<00:00, 865.37it/s]\n",
      "Trial 15/20: Running 500 iterations: 100%|██████████| 500/500 [00:00<00:00, 863.15it/s]\n",
      "Trial 16/20: Running 500 iterations: 100%|██████████| 500/500 [00:00<00:00, 885.92it/s]\n",
      "Trial 17/20: Running 500 iterations: 100%|██████████| 500/500 [00:00<00:00, 872.43it/s]\n",
      "Trial 18/20: Running 500 iterations: 100%|██████████| 500/500 [00:00<00:00, 890.88it/s]\n",
      "Trial 19/20: Running 500 iterations: 100%|██████████| 500/500 [00:00<00:00, 894.19it/s]\n",
      "Trial 20/20: Running 500 iterations: 100%|██████████| 500/500 [00:00<00:00, 886.30it/s]\n",
      "Unsupported operator aten::max_pool2d encountered 3 time(s)\n",
      "Unsupported operator aten::add encountered 4 time(s)\n"
     ]
    },
    {
     "name": "stdout",
     "output_type": "stream",
     "text": [
      "Processing batch size: 64\n"
     ]
    },
    {
     "name": "stderr",
     "output_type": "stream",
     "text": [
      "Trial 1/20: Running 500 iterations: 100%|██████████| 500/500 [00:01<00:00, 459.21it/s]\n",
      "Trial 2/20: Running 500 iterations: 100%|██████████| 500/500 [00:01<00:00, 461.09it/s]\n",
      "Trial 3/20: Running 500 iterations: 100%|██████████| 500/500 [00:01<00:00, 461.92it/s]\n",
      "Trial 4/20: Running 500 iterations: 100%|██████████| 500/500 [00:01<00:00, 458.14it/s]\n",
      "Trial 5/20: Running 500 iterations: 100%|██████████| 500/500 [00:01<00:00, 466.21it/s]\n",
      "Trial 6/20: Running 500 iterations: 100%|██████████| 500/500 [00:01<00:00, 462.78it/s]\n",
      "Trial 7/20: Running 500 iterations: 100%|██████████| 500/500 [00:01<00:00, 466.90it/s]\n",
      "Trial 8/20: Running 500 iterations: 100%|██████████| 500/500 [00:01<00:00, 463.49it/s]\n",
      "Trial 9/20: Running 500 iterations: 100%|██████████| 500/500 [00:01<00:00, 462.62it/s]\n",
      "Trial 10/20: Running 500 iterations: 100%|██████████| 500/500 [00:01<00:00, 454.29it/s]\n",
      "Trial 11/20: Running 500 iterations: 100%|██████████| 500/500 [00:01<00:00, 465.26it/s]\n",
      "Trial 12/20: Running 500 iterations: 100%|██████████| 500/500 [00:01<00:00, 467.14it/s]\n",
      "Trial 13/20: Running 500 iterations: 100%|██████████| 500/500 [00:01<00:00, 464.57it/s]\n",
      "Trial 14/20: Running 500 iterations: 100%|██████████| 500/500 [00:01<00:00, 462.09it/s]\n",
      "Trial 15/20: Running 500 iterations: 100%|██████████| 500/500 [00:01<00:00, 464.67it/s]\n",
      "Trial 16/20: Running 500 iterations: 100%|██████████| 500/500 [00:01<00:00, 462.13it/s]\n",
      "Trial 17/20: Running 500 iterations: 100%|██████████| 500/500 [00:01<00:00, 458.26it/s]\n",
      "Trial 18/20: Running 500 iterations: 100%|██████████| 500/500 [00:01<00:00, 463.78it/s]\n",
      "Trial 19/20: Running 500 iterations: 100%|██████████| 500/500 [00:01<00:00, 458.49it/s]\n",
      "Trial 20/20: Running 500 iterations: 100%|██████████| 500/500 [00:01<00:00, 465.09it/s]\n",
      "Processing Models:  77%|███████▋  | 51/66 [1:47:59<24:36, 98.42s/it] "
     ]
    },
    {
     "name": "stdout",
     "output_type": "stream",
     "text": [
      "Processing model: d:\\PruneLimit\\PruneLimitAnalyzer\\models\\AlexNet_DATASET_random_PD5_GPR-20_PRUNED_SEED_23.pth\n"
     ]
    },
    {
     "name": "stderr",
     "output_type": "stream",
     "text": [
      "Unsupported operator aten::max_pool2d encountered 3 time(s)\n",
      "Unsupported operator aten::add encountered 4 time(s)\n"
     ]
    },
    {
     "name": "stdout",
     "output_type": "stream",
     "text": [
      "Processing batch size: 1\n"
     ]
    },
    {
     "name": "stderr",
     "output_type": "stream",
     "text": [
      "Trial 1/20: Running 500 iterations: 100%|██████████| 500/500 [00:00<00:00, 883.26it/s]\n",
      "Trial 2/20: Running 500 iterations: 100%|██████████| 500/500 [00:00<00:00, 782.72it/s]\n",
      "Trial 3/20: Running 500 iterations: 100%|██████████| 500/500 [00:00<00:00, 1003.01it/s]\n",
      "Trial 4/20: Running 500 iterations: 100%|██████████| 500/500 [00:00<00:00, 1017.27it/s]\n",
      "Trial 5/20: Running 500 iterations: 100%|██████████| 500/500 [00:00<00:00, 1055.06it/s]\n",
      "Trial 6/20: Running 500 iterations: 100%|██████████| 500/500 [00:00<00:00, 920.40it/s]\n",
      "Trial 7/20: Running 500 iterations: 100%|██████████| 500/500 [00:00<00:00, 958.83it/s]\n",
      "Trial 8/20: Running 500 iterations: 100%|██████████| 500/500 [00:00<00:00, 1016.56it/s]\n",
      "Trial 9/20: Running 500 iterations: 100%|██████████| 500/500 [00:00<00:00, 899.96it/s]\n",
      "Trial 10/20: Running 500 iterations: 100%|██████████| 500/500 [00:00<00:00, 970.46it/s]\n",
      "Trial 11/20: Running 500 iterations: 100%|██████████| 500/500 [00:00<00:00, 922.25it/s]\n",
      "Trial 12/20: Running 500 iterations: 100%|██████████| 500/500 [00:00<00:00, 684.40it/s]\n",
      "Trial 13/20: Running 500 iterations: 100%|██████████| 500/500 [00:00<00:00, 756.65it/s]\n",
      "Trial 14/20: Running 500 iterations: 100%|██████████| 500/500 [00:00<00:00, 799.55it/s]\n",
      "Trial 15/20: Running 500 iterations: 100%|██████████| 500/500 [00:00<00:00, 859.13it/s]\n",
      "Trial 16/20: Running 500 iterations: 100%|██████████| 500/500 [00:00<00:00, 765.09it/s]\n",
      "Trial 17/20: Running 500 iterations: 100%|██████████| 500/500 [00:00<00:00, 733.25it/s]\n",
      "Trial 18/20: Running 500 iterations: 100%|██████████| 500/500 [00:00<00:00, 895.04it/s]\n",
      "Trial 19/20: Running 500 iterations: 100%|██████████| 500/500 [00:00<00:00, 897.72it/s]\n",
      "Trial 20/20: Running 500 iterations: 100%|██████████| 500/500 [00:00<00:00, 885.72it/s]\n",
      "Unsupported operator aten::max_pool2d encountered 3 time(s)\n",
      "Unsupported operator aten::add encountered 4 time(s)\n"
     ]
    },
    {
     "name": "stdout",
     "output_type": "stream",
     "text": [
      "Processing batch size: 8\n"
     ]
    },
    {
     "name": "stderr",
     "output_type": "stream",
     "text": [
      "Trial 1/20: Running 500 iterations: 100%|██████████| 500/500 [00:00<00:00, 852.14it/s]\n",
      "Trial 2/20: Running 500 iterations: 100%|██████████| 500/500 [00:00<00:00, 867.28it/s]\n",
      "Trial 3/20: Running 500 iterations: 100%|██████████| 500/500 [00:00<00:00, 875.91it/s]\n",
      "Trial 4/20: Running 500 iterations: 100%|██████████| 500/500 [00:00<00:00, 878.55it/s]\n",
      "Trial 5/20: Running 500 iterations: 100%|██████████| 500/500 [00:00<00:00, 866.39it/s]\n",
      "Trial 6/20: Running 500 iterations: 100%|██████████| 500/500 [00:00<00:00, 779.34it/s]\n",
      "Trial 7/20: Running 500 iterations: 100%|██████████| 500/500 [00:00<00:00, 846.00it/s]\n",
      "Trial 8/20: Running 500 iterations: 100%|██████████| 500/500 [00:00<00:00, 868.87it/s]\n",
      "Trial 9/20: Running 500 iterations: 100%|██████████| 500/500 [00:00<00:00, 851.01it/s]\n",
      "Trial 10/20: Running 500 iterations: 100%|██████████| 500/500 [00:00<00:00, 863.33it/s]\n",
      "Trial 11/20: Running 500 iterations: 100%|██████████| 500/500 [00:00<00:00, 811.18it/s]\n",
      "Trial 12/20: Running 500 iterations: 100%|██████████| 500/500 [00:00<00:00, 866.67it/s]\n",
      "Trial 13/20: Running 500 iterations: 100%|██████████| 500/500 [00:00<00:00, 764.28it/s]\n",
      "Trial 14/20: Running 500 iterations: 100%|██████████| 500/500 [00:00<00:00, 844.60it/s]\n",
      "Trial 15/20: Running 500 iterations: 100%|██████████| 500/500 [00:00<00:00, 872.44it/s]\n",
      "Trial 16/20: Running 500 iterations: 100%|██████████| 500/500 [00:00<00:00, 845.11it/s]\n",
      "Trial 17/20: Running 500 iterations: 100%|██████████| 500/500 [00:00<00:00, 867.20it/s]\n",
      "Trial 18/20: Running 500 iterations: 100%|██████████| 500/500 [00:00<00:00, 867.01it/s]\n",
      "Trial 19/20: Running 500 iterations: 100%|██████████| 500/500 [00:00<00:00, 810.31it/s]\n",
      "Trial 20/20: Running 500 iterations: 100%|██████████| 500/500 [00:00<00:00, 810.86it/s]\n",
      "Unsupported operator aten::max_pool2d encountered 3 time(s)\n",
      "Unsupported operator aten::add encountered 4 time(s)\n"
     ]
    },
    {
     "name": "stdout",
     "output_type": "stream",
     "text": [
      "Processing batch size: 16\n"
     ]
    },
    {
     "name": "stderr",
     "output_type": "stream",
     "text": [
      "Trial 1/20: Running 500 iterations: 100%|██████████| 500/500 [00:00<00:00, 549.27it/s]\n",
      "Trial 2/20: Running 500 iterations: 100%|██████████| 500/500 [00:00<00:00, 544.16it/s]\n",
      "Trial 3/20: Running 500 iterations: 100%|██████████| 500/500 [00:00<00:00, 540.80it/s]\n",
      "Trial 4/20: Running 500 iterations: 100%|██████████| 500/500 [00:00<00:00, 556.58it/s]\n",
      "Trial 5/20: Running 500 iterations: 100%|██████████| 500/500 [00:00<00:00, 549.94it/s]\n",
      "Trial 6/20: Running 500 iterations: 100%|██████████| 500/500 [00:00<00:00, 540.93it/s]\n",
      "Trial 7/20: Running 500 iterations: 100%|██████████| 500/500 [00:00<00:00, 550.46it/s]\n",
      "Trial 8/20: Running 500 iterations: 100%|██████████| 500/500 [00:00<00:00, 553.00it/s]\n",
      "Trial 9/20: Running 500 iterations: 100%|██████████| 500/500 [00:00<00:00, 552.91it/s]\n",
      "Trial 10/20: Running 500 iterations: 100%|██████████| 500/500 [00:00<00:00, 554.34it/s]\n",
      "Trial 11/20: Running 500 iterations: 100%|██████████| 500/500 [00:00<00:00, 552.74it/s]\n",
      "Trial 12/20: Running 500 iterations: 100%|██████████| 500/500 [00:00<00:00, 544.90it/s]\n",
      "Trial 13/20: Running 500 iterations: 100%|██████████| 500/500 [00:00<00:00, 545.35it/s]\n",
      "Trial 14/20: Running 500 iterations: 100%|██████████| 500/500 [00:00<00:00, 545.54it/s]\n",
      "Trial 15/20: Running 500 iterations: 100%|██████████| 500/500 [00:00<00:00, 550.99it/s]\n",
      "Trial 16/20: Running 500 iterations: 100%|██████████| 500/500 [00:00<00:00, 535.75it/s]\n",
      "Trial 17/20: Running 500 iterations: 100%|██████████| 500/500 [00:00<00:00, 552.16it/s]\n",
      "Trial 18/20: Running 500 iterations: 100%|██████████| 500/500 [00:00<00:00, 551.74it/s]\n",
      "Trial 19/20: Running 500 iterations: 100%|██████████| 500/500 [00:00<00:00, 556.42it/s]\n",
      "Trial 20/20: Running 500 iterations: 100%|██████████| 500/500 [00:00<00:00, 542.03it/s]\n",
      "Unsupported operator aten::max_pool2d encountered 3 time(s)\n",
      "Unsupported operator aten::add encountered 4 time(s)\n"
     ]
    },
    {
     "name": "stdout",
     "output_type": "stream",
     "text": [
      "Processing batch size: 32\n"
     ]
    },
    {
     "name": "stderr",
     "output_type": "stream",
     "text": [
      "Trial 1/20: Running 500 iterations: 100%|██████████| 500/500 [00:01<00:00, 327.84it/s]\n",
      "Trial 2/20: Running 500 iterations: 100%|██████████| 500/500 [00:01<00:00, 329.12it/s]\n",
      "Trial 3/20: Running 500 iterations: 100%|██████████| 500/500 [00:01<00:00, 326.58it/s]\n",
      "Trial 4/20: Running 500 iterations: 100%|██████████| 500/500 [00:01<00:00, 325.29it/s]\n",
      "Trial 5/20: Running 500 iterations: 100%|██████████| 500/500 [00:01<00:00, 325.88it/s]\n",
      "Trial 6/20: Running 500 iterations: 100%|██████████| 500/500 [00:01<00:00, 328.53it/s]\n",
      "Trial 7/20: Running 500 iterations: 100%|██████████| 500/500 [00:01<00:00, 331.06it/s]\n",
      "Trial 8/20: Running 500 iterations: 100%|██████████| 500/500 [00:01<00:00, 330.75it/s]\n",
      "Trial 9/20: Running 500 iterations: 100%|██████████| 500/500 [00:01<00:00, 327.38it/s]\n",
      "Trial 10/20: Running 500 iterations: 100%|██████████| 500/500 [00:01<00:00, 326.47it/s]\n",
      "Trial 11/20: Running 500 iterations: 100%|██████████| 500/500 [00:01<00:00, 330.95it/s]\n",
      "Trial 12/20: Running 500 iterations: 100%|██████████| 500/500 [00:01<00:00, 329.65it/s]\n",
      "Trial 13/20: Running 500 iterations: 100%|██████████| 500/500 [00:01<00:00, 329.49it/s]\n",
      "Trial 14/20: Running 500 iterations: 100%|██████████| 500/500 [00:01<00:00, 323.97it/s]\n",
      "Trial 15/20: Running 500 iterations: 100%|██████████| 500/500 [00:01<00:00, 327.51it/s]\n",
      "Trial 16/20: Running 500 iterations: 100%|██████████| 500/500 [00:01<00:00, 328.91it/s]\n",
      "Trial 17/20: Running 500 iterations: 100%|██████████| 500/500 [00:01<00:00, 327.28it/s]\n",
      "Trial 18/20: Running 500 iterations: 100%|██████████| 500/500 [00:01<00:00, 328.50it/s]\n",
      "Trial 19/20: Running 500 iterations: 100%|██████████| 500/500 [00:01<00:00, 327.29it/s]\n",
      "Trial 20/20: Running 500 iterations: 100%|██████████| 500/500 [00:01<00:00, 327.55it/s]\n",
      "Unsupported operator aten::max_pool2d encountered 3 time(s)\n",
      "Unsupported operator aten::add encountered 4 time(s)\n"
     ]
    },
    {
     "name": "stdout",
     "output_type": "stream",
     "text": [
      "Processing batch size: 64\n"
     ]
    },
    {
     "name": "stderr",
     "output_type": "stream",
     "text": [
      "Trial 1/20: Running 500 iterations: 100%|██████████| 500/500 [00:02<00:00, 198.73it/s]\n",
      "Trial 2/20: Running 500 iterations: 100%|██████████| 500/500 [00:02<00:00, 199.91it/s]\n",
      "Trial 3/20: Running 500 iterations: 100%|██████████| 500/500 [00:02<00:00, 199.74it/s]\n",
      "Trial 4/20: Running 500 iterations: 100%|██████████| 500/500 [00:02<00:00, 198.49it/s]\n",
      "Trial 5/20: Running 500 iterations: 100%|██████████| 500/500 [00:02<00:00, 198.47it/s]\n",
      "Trial 6/20: Running 500 iterations: 100%|██████████| 500/500 [00:02<00:00, 198.28it/s]\n",
      "Trial 7/20: Running 500 iterations: 100%|██████████| 500/500 [00:02<00:00, 199.93it/s]\n",
      "Trial 8/20: Running 500 iterations: 100%|██████████| 500/500 [00:02<00:00, 199.57it/s]\n",
      "Trial 9/20: Running 500 iterations: 100%|██████████| 500/500 [00:02<00:00, 199.15it/s]\n",
      "Trial 10/20: Running 500 iterations: 100%|██████████| 500/500 [00:02<00:00, 199.54it/s]\n",
      "Trial 11/20: Running 500 iterations: 100%|██████████| 500/500 [00:02<00:00, 199.48it/s]\n",
      "Trial 12/20: Running 500 iterations: 100%|██████████| 500/500 [00:02<00:00, 198.59it/s]\n",
      "Trial 13/20: Running 500 iterations: 100%|██████████| 500/500 [00:02<00:00, 199.25it/s]\n",
      "Trial 14/20: Running 500 iterations: 100%|██████████| 500/500 [00:02<00:00, 198.95it/s]\n",
      "Trial 15/20: Running 500 iterations: 100%|██████████| 500/500 [00:02<00:00, 197.92it/s]\n",
      "Trial 16/20: Running 500 iterations: 100%|██████████| 500/500 [00:02<00:00, 198.44it/s]\n",
      "Trial 17/20: Running 500 iterations: 100%|██████████| 500/500 [00:02<00:00, 199.85it/s]\n",
      "Trial 18/20: Running 500 iterations: 100%|██████████| 500/500 [00:02<00:00, 199.82it/s]\n",
      "Trial 19/20: Running 500 iterations: 100%|██████████| 500/500 [00:02<00:00, 198.47it/s]\n",
      "Trial 20/20: Running 500 iterations: 100%|██████████| 500/500 [00:02<00:00, 199.27it/s]\n",
      "Processing Models:  79%|███████▉  | 52/66 [1:50:31<26:43, 114.53s/it]Unsupported operator aten::max_pool2d encountered 3 time(s)\n",
      "Unsupported operator aten::add encountered 4 time(s)\n"
     ]
    },
    {
     "name": "stdout",
     "output_type": "stream",
     "text": [
      "Processing model: d:\\PruneLimit\\PruneLimitAnalyzer\\models\\AlexNet_DATASET_random_PD2_GPR-35_PRUNED_SEED_23.pth\n",
      "Processing batch size: 1\n"
     ]
    },
    {
     "name": "stderr",
     "output_type": "stream",
     "text": [
      "Trial 1/20: Running 500 iterations: 100%|██████████| 500/500 [00:00<00:00, 1013.45it/s]\n",
      "Trial 2/20: Running 500 iterations: 100%|██████████| 500/500 [00:00<00:00, 721.66it/s]\n",
      "Trial 3/20: Running 500 iterations: 100%|██████████| 500/500 [00:00<00:00, 886.69it/s]\n",
      "Trial 4/20: Running 500 iterations: 100%|██████████| 500/500 [00:00<00:00, 1047.55it/s]\n",
      "Trial 5/20: Running 500 iterations: 100%|██████████| 500/500 [00:00<00:00, 1021.49it/s]\n",
      "Trial 6/20: Running 500 iterations: 100%|██████████| 500/500 [00:00<00:00, 1040.71it/s]\n",
      "Trial 7/20: Running 500 iterations: 100%|██████████| 500/500 [00:00<00:00, 995.32it/s] \n",
      "Trial 8/20: Running 500 iterations: 100%|██████████| 500/500 [00:00<00:00, 813.58it/s]\n",
      "Trial 9/20: Running 500 iterations: 100%|██████████| 500/500 [00:00<00:00, 1019.38it/s]\n",
      "Trial 10/20: Running 500 iterations: 100%|██████████| 500/500 [00:00<00:00, 989.60it/s]\n",
      "Trial 11/20: Running 500 iterations: 100%|██████████| 500/500 [00:00<00:00, 1041.65it/s]\n",
      "Trial 12/20: Running 500 iterations: 100%|██████████| 500/500 [00:00<00:00, 1033.29it/s]\n",
      "Trial 13/20: Running 500 iterations: 100%|██████████| 500/500 [00:00<00:00, 975.37it/s]\n",
      "Trial 14/20: Running 500 iterations: 100%|██████████| 500/500 [00:00<00:00, 1021.81it/s]\n",
      "Trial 15/20: Running 500 iterations: 100%|██████████| 500/500 [00:00<00:00, 937.39it/s]\n",
      "Trial 16/20: Running 500 iterations: 100%|██████████| 500/500 [00:00<00:00, 1039.87it/s]\n",
      "Trial 17/20: Running 500 iterations: 100%|██████████| 500/500 [00:00<00:00, 767.81it/s]\n",
      "Trial 18/20: Running 500 iterations: 100%|██████████| 500/500 [00:00<00:00, 629.17it/s]\n",
      "Trial 19/20: Running 500 iterations: 100%|██████████| 500/500 [00:00<00:00, 643.53it/s]\n",
      "Trial 20/20: Running 500 iterations: 100%|██████████| 500/500 [00:00<00:00, 562.41it/s]\n",
      "Unsupported operator aten::max_pool2d encountered 3 time(s)\n",
      "Unsupported operator aten::add encountered 4 time(s)\n"
     ]
    },
    {
     "name": "stdout",
     "output_type": "stream",
     "text": [
      "Processing batch size: 8\n"
     ]
    },
    {
     "name": "stderr",
     "output_type": "stream",
     "text": [
      "Trial 1/20: Running 500 iterations: 100%|██████████| 500/500 [00:00<00:00, 643.81it/s]\n",
      "Trial 2/20: Running 500 iterations: 100%|██████████| 500/500 [00:00<00:00, 728.99it/s]\n",
      "Trial 3/20: Running 500 iterations: 100%|██████████| 500/500 [00:00<00:00, 793.70it/s]\n",
      "Trial 4/20: Running 500 iterations: 100%|██████████| 500/500 [00:00<00:00, 764.47it/s]\n",
      "Trial 5/20: Running 500 iterations: 100%|██████████| 500/500 [00:00<00:00, 827.01it/s]\n",
      "Trial 6/20: Running 500 iterations: 100%|██████████| 500/500 [00:00<00:00, 847.04it/s]\n",
      "Trial 7/20: Running 500 iterations: 100%|██████████| 500/500 [00:00<00:00, 875.93it/s]\n",
      "Trial 8/20: Running 500 iterations: 100%|██████████| 500/500 [00:00<00:00, 855.10it/s]\n",
      "Trial 9/20: Running 500 iterations: 100%|██████████| 500/500 [00:00<00:00, 844.13it/s]\n",
      "Trial 10/20: Running 500 iterations: 100%|██████████| 500/500 [00:00<00:00, 908.73it/s]\n",
      "Trial 11/20: Running 500 iterations: 100%|██████████| 500/500 [00:00<00:00, 890.71it/s]\n",
      "Trial 12/20: Running 500 iterations: 100%|██████████| 500/500 [00:00<00:00, 868.76it/s]\n",
      "Trial 13/20: Running 500 iterations: 100%|██████████| 500/500 [00:00<00:00, 798.45it/s]\n",
      "Trial 14/20: Running 500 iterations: 100%|██████████| 500/500 [00:00<00:00, 834.18it/s]\n",
      "Trial 15/20: Running 500 iterations: 100%|██████████| 500/500 [00:00<00:00, 870.11it/s]\n",
      "Trial 16/20: Running 500 iterations: 100%|██████████| 500/500 [00:00<00:00, 851.32it/s]\n",
      "Trial 17/20: Running 500 iterations: 100%|██████████| 500/500 [00:00<00:00, 942.33it/s]\n",
      "Trial 18/20: Running 500 iterations: 100%|██████████| 500/500 [00:00<00:00, 1014.89it/s]\n",
      "Trial 19/20: Running 500 iterations: 100%|██████████| 500/500 [00:00<00:00, 914.39it/s]\n",
      "Trial 20/20: Running 500 iterations: 100%|██████████| 500/500 [00:00<00:00, 1006.30it/s]\n",
      "Unsupported operator aten::max_pool2d encountered 3 time(s)\n",
      "Unsupported operator aten::add encountered 4 time(s)\n"
     ]
    },
    {
     "name": "stdout",
     "output_type": "stream",
     "text": [
      "Processing batch size: 16\n"
     ]
    },
    {
     "name": "stderr",
     "output_type": "stream",
     "text": [
      "Trial 1/20: Running 500 iterations: 100%|██████████| 500/500 [00:00<00:00, 653.90it/s]\n",
      "Trial 2/20: Running 500 iterations: 100%|██████████| 500/500 [00:00<00:00, 638.95it/s]\n",
      "Trial 3/20: Running 500 iterations: 100%|██████████| 500/500 [00:00<00:00, 641.66it/s]\n",
      "Trial 4/20: Running 500 iterations: 100%|██████████| 500/500 [00:00<00:00, 635.67it/s]\n",
      "Trial 5/20: Running 500 iterations: 100%|██████████| 500/500 [00:00<00:00, 631.09it/s]\n",
      "Trial 6/20: Running 500 iterations: 100%|██████████| 500/500 [00:00<00:00, 630.80it/s]\n",
      "Trial 7/20: Running 500 iterations: 100%|██████████| 500/500 [00:00<00:00, 631.25it/s]\n",
      "Trial 8/20: Running 500 iterations: 100%|██████████| 500/500 [00:00<00:00, 647.32it/s]\n",
      "Trial 9/20: Running 500 iterations: 100%|██████████| 500/500 [00:00<00:00, 650.81it/s]\n",
      "Trial 10/20: Running 500 iterations: 100%|██████████| 500/500 [00:00<00:00, 652.72it/s]\n",
      "Trial 11/20: Running 500 iterations: 100%|██████████| 500/500 [00:00<00:00, 636.22it/s]\n",
      "Trial 12/20: Running 500 iterations: 100%|██████████| 500/500 [00:00<00:00, 641.21it/s]\n",
      "Trial 13/20: Running 500 iterations: 100%|██████████| 500/500 [00:00<00:00, 641.64it/s]\n",
      "Trial 14/20: Running 500 iterations: 100%|██████████| 500/500 [00:00<00:00, 654.76it/s]\n",
      "Trial 15/20: Running 500 iterations: 100%|██████████| 500/500 [00:00<00:00, 637.80it/s]\n",
      "Trial 16/20: Running 500 iterations: 100%|██████████| 500/500 [00:00<00:00, 631.84it/s]\n",
      "Trial 17/20: Running 500 iterations: 100%|██████████| 500/500 [00:00<00:00, 628.32it/s]\n",
      "Trial 18/20: Running 500 iterations: 100%|██████████| 500/500 [00:00<00:00, 638.59it/s]\n",
      "Trial 19/20: Running 500 iterations: 100%|██████████| 500/500 [00:00<00:00, 654.02it/s]\n",
      "Trial 20/20: Running 500 iterations: 100%|██████████| 500/500 [00:00<00:00, 640.14it/s]\n",
      "Unsupported operator aten::max_pool2d encountered 3 time(s)\n",
      "Unsupported operator aten::add encountered 4 time(s)\n"
     ]
    },
    {
     "name": "stdout",
     "output_type": "stream",
     "text": [
      "Processing batch size: 32\n"
     ]
    },
    {
     "name": "stderr",
     "output_type": "stream",
     "text": [
      "Trial 1/20: Running 500 iterations: 100%|██████████| 500/500 [00:01<00:00, 387.96it/s]\n",
      "Trial 2/20: Running 500 iterations: 100%|██████████| 500/500 [00:01<00:00, 387.24it/s]\n",
      "Trial 3/20: Running 500 iterations: 100%|██████████| 500/500 [00:01<00:00, 386.87it/s]\n",
      "Trial 4/20: Running 500 iterations: 100%|██████████| 500/500 [00:01<00:00, 389.50it/s]\n",
      "Trial 5/20: Running 500 iterations: 100%|██████████| 500/500 [00:01<00:00, 387.45it/s]\n",
      "Trial 6/20: Running 500 iterations: 100%|██████████| 500/500 [00:01<00:00, 385.28it/s]\n",
      "Trial 7/20: Running 500 iterations: 100%|██████████| 500/500 [00:01<00:00, 390.17it/s]\n",
      "Trial 8/20: Running 500 iterations: 100%|██████████| 500/500 [00:01<00:00, 386.11it/s]\n",
      "Trial 9/20: Running 500 iterations: 100%|██████████| 500/500 [00:01<00:00, 391.14it/s]\n",
      "Trial 10/20: Running 500 iterations: 100%|██████████| 500/500 [00:01<00:00, 388.70it/s]\n",
      "Trial 11/20: Running 500 iterations: 100%|██████████| 500/500 [00:01<00:00, 388.42it/s]\n",
      "Trial 12/20: Running 500 iterations: 100%|██████████| 500/500 [00:01<00:00, 386.54it/s]\n",
      "Trial 13/20: Running 500 iterations: 100%|██████████| 500/500 [00:01<00:00, 387.16it/s]\n",
      "Trial 14/20: Running 500 iterations: 100%|██████████| 500/500 [00:01<00:00, 388.25it/s]\n",
      "Trial 15/20: Running 500 iterations: 100%|██████████| 500/500 [00:01<00:00, 392.31it/s]\n",
      "Trial 16/20: Running 500 iterations: 100%|██████████| 500/500 [00:01<00:00, 393.61it/s]\n",
      "Trial 17/20: Running 500 iterations: 100%|██████████| 500/500 [00:01<00:00, 387.36it/s]\n",
      "Trial 18/20: Running 500 iterations: 100%|██████████| 500/500 [00:01<00:00, 388.73it/s]\n",
      "Trial 19/20: Running 500 iterations: 100%|██████████| 500/500 [00:01<00:00, 391.04it/s]\n",
      "Trial 20/20: Running 500 iterations: 100%|██████████| 500/500 [00:01<00:00, 385.83it/s]\n",
      "Unsupported operator aten::max_pool2d encountered 3 time(s)\n",
      "Unsupported operator aten::add encountered 4 time(s)\n"
     ]
    },
    {
     "name": "stdout",
     "output_type": "stream",
     "text": [
      "Processing batch size: 64\n"
     ]
    },
    {
     "name": "stderr",
     "output_type": "stream",
     "text": [
      "Trial 1/20: Running 500 iterations: 100%|██████████| 500/500 [00:02<00:00, 227.57it/s]\n",
      "Trial 2/20: Running 500 iterations: 100%|██████████| 500/500 [00:02<00:00, 227.61it/s]\n",
      "Trial 3/20: Running 500 iterations: 100%|██████████| 500/500 [00:02<00:00, 227.21it/s]\n",
      "Trial 4/20: Running 500 iterations: 100%|██████████| 500/500 [00:02<00:00, 226.60it/s]\n",
      "Trial 5/20: Running 500 iterations: 100%|██████████| 500/500 [00:02<00:00, 227.78it/s]\n",
      "Trial 6/20: Running 500 iterations: 100%|██████████| 500/500 [00:02<00:00, 226.89it/s]\n",
      "Trial 7/20: Running 500 iterations: 100%|██████████| 500/500 [00:02<00:00, 227.43it/s]\n",
      "Trial 8/20: Running 500 iterations: 100%|██████████| 500/500 [00:02<00:00, 226.55it/s]\n",
      "Trial 9/20: Running 500 iterations: 100%|██████████| 500/500 [00:02<00:00, 227.35it/s]\n",
      "Trial 10/20: Running 500 iterations: 100%|██████████| 500/500 [00:02<00:00, 228.67it/s]\n",
      "Trial 11/20: Running 500 iterations: 100%|██████████| 500/500 [00:02<00:00, 227.87it/s]\n",
      "Trial 12/20: Running 500 iterations: 100%|██████████| 500/500 [00:02<00:00, 227.15it/s]\n",
      "Trial 13/20: Running 500 iterations: 100%|██████████| 500/500 [00:02<00:00, 228.52it/s]\n",
      "Trial 14/20: Running 500 iterations: 100%|██████████| 500/500 [00:02<00:00, 228.23it/s]\n",
      "Trial 15/20: Running 500 iterations: 100%|██████████| 500/500 [00:02<00:00, 227.56it/s]\n",
      "Trial 16/20: Running 500 iterations: 100%|██████████| 500/500 [00:02<00:00, 227.29it/s]\n",
      "Trial 17/20: Running 500 iterations: 100%|██████████| 500/500 [00:02<00:00, 227.61it/s]\n",
      "Trial 18/20: Running 500 iterations: 100%|██████████| 500/500 [00:02<00:00, 227.56it/s]\n",
      "Trial 19/20: Running 500 iterations: 100%|██████████| 500/500 [00:02<00:00, 227.34it/s]\n",
      "Trial 20/20: Running 500 iterations: 100%|██████████| 500/500 [00:02<00:00, 228.59it/s]\n",
      "Processing Models:  80%|████████  | 53/66 [1:52:46<26:08, 120.63s/it]"
     ]
    },
    {
     "name": "stdout",
     "output_type": "stream",
     "text": [
      "Processing model: d:\\PruneLimit\\PruneLimitAnalyzer\\models\\AlexNet_DATASET_random_PD5_GPR-35_PRUNED_SEED_23.pth\n"
     ]
    },
    {
     "name": "stderr",
     "output_type": "stream",
     "text": [
      "Unsupported operator aten::max_pool2d encountered 3 time(s)\n",
      "Unsupported operator aten::add encountered 4 time(s)\n"
     ]
    },
    {
     "name": "stdout",
     "output_type": "stream",
     "text": [
      "Processing batch size: 1\n"
     ]
    },
    {
     "name": "stderr",
     "output_type": "stream",
     "text": [
      "Trial 1/20: Running 500 iterations: 100%|██████████| 500/500 [00:00<00:00, 851.30it/s]\n",
      "Trial 2/20: Running 500 iterations: 100%|██████████| 500/500 [00:00<00:00, 918.95it/s]\n",
      "Trial 3/20: Running 500 iterations: 100%|██████████| 500/500 [00:00<00:00, 804.75it/s]\n",
      "Trial 4/20: Running 500 iterations: 100%|██████████| 500/500 [00:00<00:00, 834.91it/s]\n",
      "Trial 5/20: Running 500 iterations: 100%|██████████| 500/500 [00:00<00:00, 871.07it/s]\n",
      "Trial 6/20: Running 500 iterations: 100%|██████████| 500/500 [00:00<00:00, 804.37it/s]\n",
      "Trial 7/20: Running 500 iterations: 100%|██████████| 500/500 [00:00<00:00, 805.64it/s]\n",
      "Trial 8/20: Running 500 iterations: 100%|██████████| 500/500 [00:00<00:00, 801.04it/s]\n",
      "Trial 9/20: Running 500 iterations: 100%|██████████| 500/500 [00:00<00:00, 938.00it/s]\n",
      "Trial 10/20: Running 500 iterations: 100%|██████████| 500/500 [00:00<00:00, 948.32it/s]\n",
      "Trial 11/20: Running 500 iterations: 100%|██████████| 500/500 [00:00<00:00, 982.47it/s]\n",
      "Trial 12/20: Running 500 iterations: 100%|██████████| 500/500 [00:00<00:00, 920.90it/s]\n",
      "Trial 13/20: Running 500 iterations: 100%|██████████| 500/500 [00:00<00:00, 989.57it/s]\n",
      "Trial 14/20: Running 500 iterations: 100%|██████████| 500/500 [00:00<00:00, 977.25it/s]\n",
      "Trial 15/20: Running 500 iterations: 100%|██████████| 500/500 [00:00<00:00, 920.75it/s]\n",
      "Trial 16/20: Running 500 iterations: 100%|██████████| 500/500 [00:00<00:00, 921.14it/s]\n",
      "Trial 17/20: Running 500 iterations: 100%|██████████| 500/500 [00:00<00:00, 989.05it/s]\n",
      "Trial 18/20: Running 500 iterations: 100%|██████████| 500/500 [00:00<00:00, 941.99it/s]\n",
      "Trial 19/20: Running 500 iterations: 100%|██████████| 500/500 [00:00<00:00, 937.61it/s]\n",
      "Trial 20/20: Running 500 iterations: 100%|██████████| 500/500 [00:00<00:00, 989.21it/s]\n",
      "Unsupported operator aten::max_pool2d encountered 3 time(s)\n",
      "Unsupported operator aten::add encountered 4 time(s)\n"
     ]
    },
    {
     "name": "stdout",
     "output_type": "stream",
     "text": [
      "Processing batch size: 8\n"
     ]
    },
    {
     "name": "stderr",
     "output_type": "stream",
     "text": [
      "Trial 1/20: Running 500 iterations: 100%|██████████| 500/500 [00:00<00:00, 982.44it/s]\n",
      "Trial 2/20: Running 500 iterations: 100%|██████████| 500/500 [00:00<00:00, 1006.97it/s]\n",
      "Trial 3/20: Running 500 iterations: 100%|██████████| 500/500 [00:00<00:00, 1031.30it/s]\n",
      "Trial 4/20: Running 500 iterations: 100%|██████████| 500/500 [00:00<00:00, 799.88it/s]\n",
      "Trial 5/20: Running 500 iterations: 100%|██████████| 500/500 [00:00<00:00, 692.54it/s]\n",
      "Trial 6/20: Running 500 iterations: 100%|██████████| 500/500 [00:00<00:00, 710.07it/s]\n",
      "Trial 7/20: Running 500 iterations: 100%|██████████| 500/500 [00:00<00:00, 654.69it/s]\n",
      "Trial 8/20: Running 500 iterations: 100%|██████████| 500/500 [00:00<00:00, 655.37it/s]\n",
      "Trial 9/20: Running 500 iterations: 100%|██████████| 500/500 [00:00<00:00, 798.86it/s]\n",
      "Trial 10/20: Running 500 iterations: 100%|██████████| 500/500 [00:00<00:00, 716.29it/s]\n",
      "Trial 11/20: Running 500 iterations: 100%|██████████| 500/500 [00:00<00:00, 847.71it/s]\n",
      "Trial 12/20: Running 500 iterations: 100%|██████████| 500/500 [00:00<00:00, 844.36it/s]\n",
      "Trial 13/20: Running 500 iterations: 100%|██████████| 500/500 [00:00<00:00, 916.77it/s]\n",
      "Trial 14/20: Running 500 iterations: 100%|██████████| 500/500 [00:00<00:00, 916.67it/s]\n",
      "Trial 15/20: Running 500 iterations: 100%|██████████| 500/500 [00:00<00:00, 909.14it/s]\n",
      "Trial 16/20: Running 500 iterations: 100%|██████████| 500/500 [00:00<00:00, 858.42it/s]\n",
      "Trial 17/20: Running 500 iterations: 100%|██████████| 500/500 [00:00<00:00, 847.06it/s]\n",
      "Trial 18/20: Running 500 iterations: 100%|██████████| 500/500 [00:00<00:00, 1045.85it/s]\n",
      "Trial 19/20: Running 500 iterations: 100%|██████████| 500/500 [00:00<00:00, 900.40it/s]\n",
      "Trial 20/20: Running 500 iterations: 100%|██████████| 500/500 [00:00<00:00, 1011.60it/s]\n",
      "Unsupported operator aten::max_pool2d encountered 3 time(s)\n",
      "Unsupported operator aten::add encountered 4 time(s)\n"
     ]
    },
    {
     "name": "stdout",
     "output_type": "stream",
     "text": [
      "Processing batch size: 16\n"
     ]
    },
    {
     "name": "stderr",
     "output_type": "stream",
     "text": [
      "Trial 1/20: Running 500 iterations: 100%|██████████| 500/500 [00:00<00:00, 770.53it/s]\n",
      "Trial 2/20: Running 500 iterations: 100%|██████████| 500/500 [00:00<00:00, 734.75it/s]\n",
      "Trial 3/20: Running 500 iterations: 100%|██████████| 500/500 [00:00<00:00, 763.89it/s]\n",
      "Trial 4/20: Running 500 iterations: 100%|██████████| 500/500 [00:00<00:00, 771.13it/s]\n",
      "Trial 5/20: Running 500 iterations: 100%|██████████| 500/500 [00:00<00:00, 789.43it/s]\n",
      "Trial 6/20: Running 500 iterations: 100%|██████████| 500/500 [00:00<00:00, 776.08it/s]\n",
      "Trial 7/20: Running 500 iterations: 100%|██████████| 500/500 [00:00<00:00, 762.31it/s]\n",
      "Trial 8/20: Running 500 iterations: 100%|██████████| 500/500 [00:00<00:00, 768.43it/s]\n",
      "Trial 9/20: Running 500 iterations: 100%|██████████| 500/500 [00:00<00:00, 782.21it/s]\n",
      "Trial 10/20: Running 500 iterations: 100%|██████████| 500/500 [00:00<00:00, 765.40it/s]\n",
      "Trial 11/20: Running 500 iterations: 100%|██████████| 500/500 [00:00<00:00, 766.50it/s]\n",
      "Trial 12/20: Running 500 iterations: 100%|██████████| 500/500 [00:00<00:00, 732.00it/s]\n",
      "Trial 13/20: Running 500 iterations: 100%|██████████| 500/500 [00:00<00:00, 766.21it/s]\n",
      "Trial 14/20: Running 500 iterations: 100%|██████████| 500/500 [00:00<00:00, 735.40it/s]\n",
      "Trial 15/20: Running 500 iterations: 100%|██████████| 500/500 [00:00<00:00, 761.85it/s]\n",
      "Trial 16/20: Running 500 iterations: 100%|██████████| 500/500 [00:00<00:00, 739.76it/s]\n",
      "Trial 17/20: Running 500 iterations: 100%|██████████| 500/500 [00:00<00:00, 766.06it/s]\n",
      "Trial 18/20: Running 500 iterations: 100%|██████████| 500/500 [00:00<00:00, 671.89it/s]\n",
      "Trial 19/20: Running 500 iterations: 100%|██████████| 500/500 [00:00<00:00, 685.48it/s]\n",
      "Trial 20/20: Running 500 iterations: 100%|██████████| 500/500 [00:00<00:00, 767.41it/s]\n",
      "Unsupported operator aten::max_pool2d encountered 3 time(s)\n",
      "Unsupported operator aten::add encountered 4 time(s)\n"
     ]
    },
    {
     "name": "stdout",
     "output_type": "stream",
     "text": [
      "Processing batch size: 32\n"
     ]
    },
    {
     "name": "stderr",
     "output_type": "stream",
     "text": [
      "Trial 1/20: Running 500 iterations: 100%|██████████| 500/500 [00:01<00:00, 485.65it/s]\n",
      "Trial 2/20: Running 500 iterations: 100%|██████████| 500/500 [00:01<00:00, 482.80it/s]\n",
      "Trial 3/20: Running 500 iterations: 100%|██████████| 500/500 [00:01<00:00, 484.66it/s]\n",
      "Trial 4/20: Running 500 iterations: 100%|██████████| 500/500 [00:01<00:00, 487.06it/s]\n",
      "Trial 5/20: Running 500 iterations: 100%|██████████| 500/500 [00:01<00:00, 489.71it/s]\n",
      "Trial 6/20: Running 500 iterations: 100%|██████████| 500/500 [00:01<00:00, 488.59it/s]\n",
      "Trial 7/20: Running 500 iterations: 100%|██████████| 500/500 [00:01<00:00, 479.47it/s]\n",
      "Trial 8/20: Running 500 iterations: 100%|██████████| 500/500 [00:01<00:00, 482.93it/s]\n",
      "Trial 9/20: Running 500 iterations: 100%|██████████| 500/500 [00:01<00:00, 486.14it/s]\n",
      "Trial 10/20: Running 500 iterations: 100%|██████████| 500/500 [00:01<00:00, 481.26it/s]\n",
      "Trial 11/20: Running 500 iterations: 100%|██████████| 500/500 [00:01<00:00, 484.40it/s]\n",
      "Trial 12/20: Running 500 iterations: 100%|██████████| 500/500 [00:01<00:00, 478.08it/s]\n",
      "Trial 13/20: Running 500 iterations: 100%|██████████| 500/500 [00:01<00:00, 485.17it/s]\n",
      "Trial 14/20: Running 500 iterations: 100%|██████████| 500/500 [00:01<00:00, 485.14it/s]\n",
      "Trial 15/20: Running 500 iterations: 100%|██████████| 500/500 [00:01<00:00, 481.20it/s]\n",
      "Trial 16/20: Running 500 iterations: 100%|██████████| 500/500 [00:01<00:00, 485.81it/s]\n",
      "Trial 17/20: Running 500 iterations: 100%|██████████| 500/500 [00:01<00:00, 483.47it/s]\n",
      "Trial 18/20: Running 500 iterations: 100%|██████████| 500/500 [00:01<00:00, 486.12it/s]\n",
      "Trial 19/20: Running 500 iterations: 100%|██████████| 500/500 [00:01<00:00, 482.26it/s]\n",
      "Trial 20/20: Running 500 iterations: 100%|██████████| 500/500 [00:01<00:00, 483.47it/s]\n",
      "Unsupported operator aten::max_pool2d encountered 3 time(s)\n",
      "Unsupported operator aten::add encountered 4 time(s)\n"
     ]
    },
    {
     "name": "stdout",
     "output_type": "stream",
     "text": [
      "Processing batch size: 64\n"
     ]
    },
    {
     "name": "stderr",
     "output_type": "stream",
     "text": [
      "Trial 1/20: Running 500 iterations: 100%|██████████| 500/500 [00:01<00:00, 267.05it/s]\n",
      "Trial 2/20: Running 500 iterations: 100%|██████████| 500/500 [00:01<00:00, 268.77it/s]\n",
      "Trial 3/20: Running 500 iterations: 100%|██████████| 500/500 [00:01<00:00, 266.87it/s]\n",
      "Trial 4/20: Running 500 iterations: 100%|██████████| 500/500 [00:01<00:00, 267.44it/s]\n",
      "Trial 5/20: Running 500 iterations: 100%|██████████| 500/500 [00:01<00:00, 267.51it/s]\n",
      "Trial 6/20: Running 500 iterations: 100%|██████████| 500/500 [00:01<00:00, 268.39it/s]\n",
      "Trial 7/20: Running 500 iterations: 100%|██████████| 500/500 [00:01<00:00, 267.54it/s]\n",
      "Trial 8/20: Running 500 iterations: 100%|██████████| 500/500 [00:01<00:00, 266.13it/s]\n",
      "Trial 9/20: Running 500 iterations: 100%|██████████| 500/500 [00:01<00:00, 267.11it/s]\n",
      "Trial 10/20: Running 500 iterations: 100%|██████████| 500/500 [00:01<00:00, 265.66it/s]\n",
      "Trial 11/20: Running 500 iterations: 100%|██████████| 500/500 [00:01<00:00, 267.48it/s]\n",
      "Trial 12/20: Running 500 iterations: 100%|██████████| 500/500 [00:01<00:00, 266.96it/s]\n",
      "Trial 13/20: Running 500 iterations: 100%|██████████| 500/500 [00:01<00:00, 264.98it/s]\n",
      "Trial 14/20: Running 500 iterations: 100%|██████████| 500/500 [00:01<00:00, 265.11it/s]\n",
      "Trial 15/20: Running 500 iterations: 100%|██████████| 500/500 [00:01<00:00, 266.39it/s]\n",
      "Trial 16/20: Running 500 iterations: 100%|██████████| 500/500 [00:01<00:00, 266.90it/s]\n",
      "Trial 17/20: Running 500 iterations: 100%|██████████| 500/500 [00:01<00:00, 265.08it/s]\n",
      "Trial 18/20: Running 500 iterations: 100%|██████████| 500/500 [00:01<00:00, 264.28it/s]\n",
      "Trial 19/20: Running 500 iterations: 100%|██████████| 500/500 [00:01<00:00, 266.00it/s]\n",
      "Trial 20/20: Running 500 iterations: 100%|██████████| 500/500 [00:01<00:00, 265.57it/s]\n",
      "Processing Models:  82%|████████▏ | 54/66 [1:54:43<23:55, 119.61s/it]"
     ]
    },
    {
     "name": "stdout",
     "output_type": "stream",
     "text": [
      "Processing model: d:\\PruneLimit\\PruneLimitAnalyzer\\models\\AlexNet_DATASET_random_PD3_GPR-35_PRUNED_SEED_23.pth\n",
      "Processing batch size: 1\n"
     ]
    },
    {
     "name": "stderr",
     "output_type": "stream",
     "text": [
      "Unsupported operator aten::max_pool2d encountered 3 time(s)\n",
      "Unsupported operator aten::add encountered 4 time(s)\n",
      "Trial 1/20: Running 500 iterations: 100%|██████████| 500/500 [00:00<00:00, 973.02it/s]\n",
      "Trial 2/20: Running 500 iterations: 100%|██████████| 500/500 [00:00<00:00, 1005.59it/s]\n",
      "Trial 3/20: Running 500 iterations: 100%|██████████| 500/500 [00:00<00:00, 1001.81it/s]\n",
      "Trial 4/20: Running 500 iterations: 100%|██████████| 500/500 [00:00<00:00, 1021.86it/s]\n",
      "Trial 5/20: Running 500 iterations: 100%|██████████| 500/500 [00:00<00:00, 988.59it/s]\n",
      "Trial 6/20: Running 500 iterations: 100%|██████████| 500/500 [00:00<00:00, 667.69it/s]\n",
      "Trial 7/20: Running 500 iterations: 100%|██████████| 500/500 [00:00<00:00, 595.64it/s]\n",
      "Trial 8/20: Running 500 iterations: 100%|██████████| 500/500 [00:00<00:00, 642.47it/s]\n",
      "Trial 9/20: Running 500 iterations: 100%|██████████| 500/500 [00:00<00:00, 635.32it/s]\n",
      "Trial 10/20: Running 500 iterations: 100%|██████████| 500/500 [00:00<00:00, 728.14it/s]\n",
      "Trial 11/20: Running 500 iterations: 100%|██████████| 500/500 [00:00<00:00, 654.14it/s]\n",
      "Trial 12/20: Running 500 iterations: 100%|██████████| 500/500 [00:00<00:00, 959.12it/s]\n",
      "Trial 13/20: Running 500 iterations: 100%|██████████| 500/500 [00:00<00:00, 868.49it/s]\n",
      "Trial 14/20: Running 500 iterations: 100%|██████████| 500/500 [00:00<00:00, 987.68it/s]\n",
      "Trial 15/20: Running 500 iterations: 100%|██████████| 500/500 [00:00<00:00, 998.03it/s]\n",
      "Trial 16/20: Running 500 iterations: 100%|██████████| 500/500 [00:00<00:00, 983.58it/s]\n",
      "Trial 17/20: Running 500 iterations: 100%|██████████| 500/500 [00:00<00:00, 872.79it/s]\n",
      "Trial 18/20: Running 500 iterations: 100%|██████████| 500/500 [00:00<00:00, 912.16it/s]\n",
      "Trial 19/20: Running 500 iterations: 100%|██████████| 500/500 [00:00<00:00, 907.57it/s]\n",
      "Trial 20/20: Running 500 iterations: 100%|██████████| 500/500 [00:00<00:00, 863.11it/s]\n",
      "Unsupported operator aten::max_pool2d encountered 3 time(s)\n",
      "Unsupported operator aten::add encountered 4 time(s)\n"
     ]
    },
    {
     "name": "stdout",
     "output_type": "stream",
     "text": [
      "Processing batch size: 8\n"
     ]
    },
    {
     "name": "stderr",
     "output_type": "stream",
     "text": [
      "Trial 1/20: Running 500 iterations: 100%|██████████| 500/500 [00:00<00:00, 1005.04it/s]\n",
      "Trial 2/20: Running 500 iterations: 100%|██████████| 500/500 [00:00<00:00, 878.98it/s]\n",
      "Trial 3/20: Running 500 iterations: 100%|██████████| 500/500 [00:00<00:00, 774.56it/s]\n",
      "Trial 4/20: Running 500 iterations: 100%|██████████| 500/500 [00:00<00:00, 1043.22it/s]\n",
      "Trial 5/20: Running 500 iterations: 100%|██████████| 500/500 [00:00<00:00, 1010.89it/s]\n",
      "Trial 6/20: Running 500 iterations: 100%|██████████| 500/500 [00:00<00:00, 1016.29it/s]\n",
      "Trial 7/20: Running 500 iterations: 100%|██████████| 500/500 [00:00<00:00, 1005.62it/s]\n",
      "Trial 8/20: Running 500 iterations: 100%|██████████| 500/500 [00:00<00:00, 1034.04it/s]\n",
      "Trial 9/20: Running 500 iterations: 100%|██████████| 500/500 [00:00<00:00, 1015.22it/s]\n",
      "Trial 10/20: Running 500 iterations: 100%|██████████| 500/500 [00:00<00:00, 963.94it/s]\n",
      "Trial 11/20: Running 500 iterations: 100%|██████████| 500/500 [00:00<00:00, 1026.34it/s]\n",
      "Trial 12/20: Running 500 iterations: 100%|██████████| 500/500 [00:00<00:00, 1021.94it/s]\n",
      "Trial 13/20: Running 500 iterations: 100%|██████████| 500/500 [00:00<00:00, 944.06it/s]\n",
      "Trial 14/20: Running 500 iterations: 100%|██████████| 500/500 [00:00<00:00, 1034.90it/s]\n",
      "Trial 15/20: Running 500 iterations: 100%|██████████| 500/500 [00:00<00:00, 642.37it/s]\n",
      "Trial 16/20: Running 500 iterations: 100%|██████████| 500/500 [00:00<00:00, 763.77it/s]\n",
      "Trial 17/20: Running 500 iterations: 100%|██████████| 500/500 [00:00<00:00, 668.35it/s]\n",
      "Trial 18/20: Running 500 iterations: 100%|██████████| 500/500 [00:00<00:00, 792.05it/s]\n",
      "Trial 19/20: Running 500 iterations: 100%|██████████| 500/500 [00:00<00:00, 639.18it/s]\n",
      "Trial 20/20: Running 500 iterations: 100%|██████████| 500/500 [00:00<00:00, 653.10it/s]\n",
      "Unsupported operator aten::max_pool2d encountered 3 time(s)\n",
      "Unsupported operator aten::add encountered 4 time(s)\n"
     ]
    },
    {
     "name": "stdout",
     "output_type": "stream",
     "text": [
      "Processing batch size: 16\n"
     ]
    },
    {
     "name": "stderr",
     "output_type": "stream",
     "text": [
      "Trial 1/20: Running 500 iterations: 100%|██████████| 500/500 [00:00<00:00, 651.64it/s]\n",
      "Trial 2/20: Running 500 iterations: 100%|██████████| 500/500 [00:00<00:00, 671.08it/s]\n",
      "Trial 3/20: Running 500 iterations: 100%|██████████| 500/500 [00:00<00:00, 686.42it/s]\n",
      "Trial 4/20: Running 500 iterations: 100%|██████████| 500/500 [00:00<00:00, 674.02it/s]\n",
      "Trial 5/20: Running 500 iterations: 100%|██████████| 500/500 [00:00<00:00, 673.56it/s]\n",
      "Trial 6/20: Running 500 iterations: 100%|██████████| 500/500 [00:00<00:00, 661.90it/s]\n",
      "Trial 7/20: Running 500 iterations: 100%|██████████| 500/500 [00:00<00:00, 660.39it/s]\n",
      "Trial 8/20: Running 500 iterations: 100%|██████████| 500/500 [00:00<00:00, 669.19it/s]\n",
      "Trial 9/20: Running 500 iterations: 100%|██████████| 500/500 [00:00<00:00, 659.84it/s]\n",
      "Trial 10/20: Running 500 iterations: 100%|██████████| 500/500 [00:00<00:00, 664.53it/s]\n",
      "Trial 11/20: Running 500 iterations: 100%|██████████| 500/500 [00:00<00:00, 664.03it/s]\n",
      "Trial 12/20: Running 500 iterations: 100%|██████████| 500/500 [00:00<00:00, 663.13it/s]\n",
      "Trial 13/20: Running 500 iterations: 100%|██████████| 500/500 [00:00<00:00, 668.46it/s]\n",
      "Trial 14/20: Running 500 iterations: 100%|██████████| 500/500 [00:00<00:00, 662.78it/s]\n",
      "Trial 15/20: Running 500 iterations: 100%|██████████| 500/500 [00:00<00:00, 670.19it/s]\n",
      "Trial 16/20: Running 500 iterations: 100%|██████████| 500/500 [00:00<00:00, 656.68it/s]\n",
      "Trial 17/20: Running 500 iterations: 100%|██████████| 500/500 [00:00<00:00, 668.98it/s]\n",
      "Trial 18/20: Running 500 iterations: 100%|██████████| 500/500 [00:00<00:00, 663.67it/s]\n",
      "Trial 19/20: Running 500 iterations: 100%|██████████| 500/500 [00:00<00:00, 664.01it/s]\n",
      "Trial 20/20: Running 500 iterations: 100%|██████████| 500/500 [00:00<00:00, 669.01it/s]\n",
      "Unsupported operator aten::max_pool2d encountered 3 time(s)\n",
      "Unsupported operator aten::add encountered 4 time(s)\n"
     ]
    },
    {
     "name": "stdout",
     "output_type": "stream",
     "text": [
      "Processing batch size: 32\n"
     ]
    },
    {
     "name": "stderr",
     "output_type": "stream",
     "text": [
      "Trial 1/20: Running 500 iterations: 100%|██████████| 500/500 [00:01<00:00, 465.23it/s]\n",
      "Trial 2/20: Running 500 iterations: 100%|██████████| 500/500 [00:01<00:00, 463.87it/s]\n",
      "Trial 3/20: Running 500 iterations: 100%|██████████| 500/500 [00:01<00:00, 458.51it/s]\n",
      "Trial 4/20: Running 500 iterations: 100%|██████████| 500/500 [00:01<00:00, 461.36it/s]\n",
      "Trial 5/20: Running 500 iterations: 100%|██████████| 500/500 [00:01<00:00, 452.64it/s]\n",
      "Trial 6/20: Running 500 iterations: 100%|██████████| 500/500 [00:01<00:00, 465.94it/s]\n",
      "Trial 7/20: Running 500 iterations: 100%|██████████| 500/500 [00:01<00:00, 458.49it/s]\n",
      "Trial 8/20: Running 500 iterations: 100%|██████████| 500/500 [00:01<00:00, 466.63it/s]\n",
      "Trial 9/20: Running 500 iterations: 100%|██████████| 500/500 [00:01<00:00, 463.71it/s]\n",
      "Trial 10/20: Running 500 iterations: 100%|██████████| 500/500 [00:01<00:00, 460.70it/s]\n",
      "Trial 11/20: Running 500 iterations: 100%|██████████| 500/500 [00:01<00:00, 457.43it/s]\n",
      "Trial 12/20: Running 500 iterations: 100%|██████████| 500/500 [00:01<00:00, 457.97it/s]\n",
      "Trial 13/20: Running 500 iterations: 100%|██████████| 500/500 [00:01<00:00, 454.84it/s]\n",
      "Trial 14/20: Running 500 iterations: 100%|██████████| 500/500 [00:01<00:00, 461.59it/s]\n",
      "Trial 15/20: Running 500 iterations: 100%|██████████| 500/500 [00:01<00:00, 466.92it/s]\n",
      "Trial 16/20: Running 500 iterations: 100%|██████████| 500/500 [00:01<00:00, 464.09it/s]\n",
      "Trial 17/20: Running 500 iterations: 100%|██████████| 500/500 [00:01<00:00, 459.96it/s]\n",
      "Trial 18/20: Running 500 iterations: 100%|██████████| 500/500 [00:01<00:00, 462.70it/s]\n",
      "Trial 19/20: Running 500 iterations: 100%|██████████| 500/500 [00:01<00:00, 460.05it/s]\n",
      "Trial 20/20: Running 500 iterations: 100%|██████████| 500/500 [00:01<00:00, 464.96it/s]\n",
      "Unsupported operator aten::max_pool2d encountered 3 time(s)\n",
      "Unsupported operator aten::add encountered 4 time(s)\n"
     ]
    },
    {
     "name": "stdout",
     "output_type": "stream",
     "text": [
      "Processing batch size: 64\n"
     ]
    },
    {
     "name": "stderr",
     "output_type": "stream",
     "text": [
      "Trial 1/20: Running 500 iterations: 100%|██████████| 500/500 [00:01<00:00, 251.95it/s]\n",
      "Trial 2/20: Running 500 iterations: 100%|██████████| 500/500 [00:01<00:00, 254.60it/s]\n",
      "Trial 3/20: Running 500 iterations: 100%|██████████| 500/500 [00:01<00:00, 254.91it/s]\n",
      "Trial 4/20: Running 500 iterations: 100%|██████████| 500/500 [00:01<00:00, 252.56it/s]\n",
      "Trial 5/20: Running 500 iterations: 100%|██████████| 500/500 [00:01<00:00, 252.68it/s]\n",
      "Trial 6/20: Running 500 iterations: 100%|██████████| 500/500 [00:01<00:00, 254.50it/s]\n",
      "Trial 7/20: Running 500 iterations: 100%|██████████| 500/500 [00:01<00:00, 253.87it/s]\n",
      "Trial 8/20: Running 500 iterations: 100%|██████████| 500/500 [00:01<00:00, 252.65it/s]\n",
      "Trial 9/20: Running 500 iterations: 100%|██████████| 500/500 [00:01<00:00, 254.63it/s]\n",
      "Trial 10/20: Running 500 iterations: 100%|██████████| 500/500 [00:01<00:00, 253.44it/s]\n",
      "Trial 11/20: Running 500 iterations: 100%|██████████| 500/500 [00:01<00:00, 252.53it/s]\n",
      "Trial 12/20: Running 500 iterations: 100%|██████████| 500/500 [00:01<00:00, 254.57it/s]\n",
      "Trial 13/20: Running 500 iterations: 100%|██████████| 500/500 [00:01<00:00, 253.60it/s]\n",
      "Trial 14/20: Running 500 iterations: 100%|██████████| 500/500 [00:01<00:00, 252.67it/s]\n",
      "Trial 15/20: Running 500 iterations: 100%|██████████| 500/500 [00:01<00:00, 254.22it/s]\n",
      "Trial 16/20: Running 500 iterations: 100%|██████████| 500/500 [00:01<00:00, 254.46it/s]\n",
      "Trial 17/20: Running 500 iterations: 100%|██████████| 500/500 [00:01<00:00, 251.92it/s]\n",
      "Trial 18/20: Running 500 iterations: 100%|██████████| 500/500 [00:01<00:00, 252.46it/s]\n",
      "Trial 19/20: Running 500 iterations: 100%|██████████| 500/500 [00:01<00:00, 252.49it/s]\n",
      "Trial 20/20: Running 500 iterations: 100%|██████████| 500/500 [00:01<00:00, 252.43it/s]\n",
      "Processing Models:  83%|████████▎ | 55/66 [1:56:47<22:09, 120.85s/it]Unsupported operator aten::max_pool2d encountered 3 time(s)\n",
      "Unsupported operator aten::add encountered 4 time(s)\n"
     ]
    },
    {
     "name": "stdout",
     "output_type": "stream",
     "text": [
      "Processing model: d:\\PruneLimit\\PruneLimitAnalyzer\\models\\AlexNet_DATASET_random_PD4_GPR-35_PRUNED_SEED_23.pth\n",
      "Processing batch size: 1\n"
     ]
    },
    {
     "name": "stderr",
     "output_type": "stream",
     "text": [
      "Trial 1/20: Running 500 iterations: 100%|██████████| 500/500 [00:00<00:00, 962.68it/s]\n",
      "Trial 2/20: Running 500 iterations: 100%|██████████| 500/500 [00:00<00:00, 847.06it/s]\n",
      "Trial 3/20: Running 500 iterations: 100%|██████████| 500/500 [00:00<00:00, 950.06it/s]\n",
      "Trial 4/20: Running 500 iterations: 100%|██████████| 500/500 [00:00<00:00, 970.66it/s]\n",
      "Trial 5/20: Running 500 iterations: 100%|██████████| 500/500 [00:00<00:00, 959.22it/s]\n",
      "Trial 6/20: Running 500 iterations: 100%|██████████| 500/500 [00:00<00:00, 970.61it/s]\n",
      "Trial 7/20: Running 500 iterations: 100%|██████████| 500/500 [00:00<00:00, 985.15it/s]\n",
      "Trial 8/20: Running 500 iterations: 100%|██████████| 500/500 [00:00<00:00, 965.67it/s]\n",
      "Trial 9/20: Running 500 iterations: 100%|██████████| 500/500 [00:00<00:00, 921.00it/s]\n",
      "Trial 10/20: Running 500 iterations: 100%|██████████| 500/500 [00:00<00:00, 943.78it/s]\n",
      "Trial 11/20: Running 500 iterations: 100%|██████████| 500/500 [00:00<00:00, 921.06it/s]\n",
      "Trial 12/20: Running 500 iterations: 100%|██████████| 500/500 [00:00<00:00, 965.61it/s]\n",
      "Trial 13/20: Running 500 iterations: 100%|██████████| 500/500 [00:00<00:00, 966.14it/s]\n",
      "Trial 14/20: Running 500 iterations: 100%|██████████| 500/500 [00:00<00:00, 905.02it/s]\n",
      "Trial 15/20: Running 500 iterations: 100%|██████████| 500/500 [00:00<00:00, 782.73it/s]\n",
      "Trial 16/20: Running 500 iterations: 100%|██████████| 500/500 [00:00<00:00, 766.59it/s]\n",
      "Trial 17/20: Running 500 iterations: 100%|██████████| 500/500 [00:00<00:00, 797.51it/s]\n",
      "Trial 18/20: Running 500 iterations: 100%|██████████| 500/500 [00:00<00:00, 813.23it/s]\n",
      "Trial 19/20: Running 500 iterations: 100%|██████████| 500/500 [00:00<00:00, 736.09it/s]\n",
      "Trial 20/20: Running 500 iterations: 100%|██████████| 500/500 [00:00<00:00, 759.75it/s]\n",
      "Unsupported operator aten::max_pool2d encountered 3 time(s)\n",
      "Unsupported operator aten::add encountered 4 time(s)\n"
     ]
    },
    {
     "name": "stdout",
     "output_type": "stream",
     "text": [
      "Processing batch size: 8\n"
     ]
    },
    {
     "name": "stderr",
     "output_type": "stream",
     "text": [
      "Trial 1/20: Running 500 iterations: 100%|██████████| 500/500 [00:00<00:00, 902.21it/s]\n",
      "Trial 2/20: Running 500 iterations: 100%|██████████| 500/500 [00:00<00:00, 942.16it/s]\n",
      "Trial 3/20: Running 500 iterations: 100%|██████████| 500/500 [00:00<00:00, 943.39it/s]\n",
      "Trial 4/20: Running 500 iterations: 100%|██████████| 500/500 [00:00<00:00, 910.64it/s]\n",
      "Trial 5/20: Running 500 iterations: 100%|██████████| 500/500 [00:00<00:00, 894.34it/s]\n",
      "Trial 6/20: Running 500 iterations: 100%|██████████| 500/500 [00:00<00:00, 910.36it/s]\n",
      "Trial 7/20: Running 500 iterations: 100%|██████████| 500/500 [00:00<00:00, 1013.51it/s]\n",
      "Trial 8/20: Running 500 iterations: 100%|██████████| 500/500 [00:00<00:00, 942.13it/s] \n",
      "Trial 9/20: Running 500 iterations: 100%|██████████| 500/500 [00:00<00:00, 1070.62it/s]\n",
      "Trial 10/20: Running 500 iterations: 100%|██████████| 500/500 [00:00<00:00, 1046.11it/s]\n",
      "Trial 11/20: Running 500 iterations: 100%|██████████| 500/500 [00:00<00:00, 1115.09it/s]\n",
      "Trial 12/20: Running 500 iterations: 100%|██████████| 500/500 [00:00<00:00, 1108.59it/s]\n",
      "Trial 13/20: Running 500 iterations: 100%|██████████| 500/500 [00:00<00:00, 1054.01it/s]\n",
      "Trial 14/20: Running 500 iterations: 100%|██████████| 500/500 [00:00<00:00, 1070.45it/s]\n",
      "Trial 15/20: Running 500 iterations: 100%|██████████| 500/500 [00:00<00:00, 1015.80it/s]\n",
      "Trial 16/20: Running 500 iterations: 100%|██████████| 500/500 [00:00<00:00, 1078.50it/s]\n",
      "Trial 17/20: Running 500 iterations: 100%|██████████| 500/500 [00:00<00:00, 1046.79it/s]\n",
      "Trial 18/20: Running 500 iterations: 100%|██████████| 500/500 [00:00<00:00, 1095.41it/s]\n",
      "Trial 19/20: Running 500 iterations: 100%|██████████| 500/500 [00:00<00:00, 1010.54it/s]\n",
      "Trial 20/20: Running 500 iterations: 100%|██████████| 500/500 [00:00<00:00, 1085.03it/s]\n",
      "Unsupported operator aten::max_pool2d encountered 3 time(s)\n",
      "Unsupported operator aten::add encountered 4 time(s)\n"
     ]
    },
    {
     "name": "stdout",
     "output_type": "stream",
     "text": [
      "Processing batch size: 16\n"
     ]
    },
    {
     "name": "stderr",
     "output_type": "stream",
     "text": [
      "Trial 1/20: Running 500 iterations: 100%|██████████| 500/500 [00:00<00:00, 716.32it/s]\n",
      "Trial 2/20: Running 500 iterations: 100%|██████████| 500/500 [00:00<00:00, 735.69it/s]\n",
      "Trial 3/20: Running 500 iterations: 100%|██████████| 500/500 [00:00<00:00, 730.66it/s]\n",
      "Trial 4/20: Running 500 iterations: 100%|██████████| 500/500 [00:00<00:00, 728.16it/s]\n",
      "Trial 5/20: Running 500 iterations: 100%|██████████| 500/500 [00:00<00:00, 723.33it/s]\n",
      "Trial 6/20: Running 500 iterations: 100%|██████████| 500/500 [00:00<00:00, 709.10it/s]\n",
      "Trial 7/20: Running 500 iterations: 100%|██████████| 500/500 [00:00<00:00, 740.21it/s]\n",
      "Trial 8/20: Running 500 iterations: 100%|██████████| 500/500 [00:00<00:00, 717.38it/s]\n",
      "Trial 9/20: Running 500 iterations: 100%|██████████| 500/500 [00:00<00:00, 713.48it/s]\n",
      "Trial 10/20: Running 500 iterations: 100%|██████████| 500/500 [00:00<00:00, 717.00it/s]\n",
      "Trial 11/20: Running 500 iterations: 100%|██████████| 500/500 [00:00<00:00, 728.93it/s]\n",
      "Trial 12/20: Running 500 iterations: 100%|██████████| 500/500 [00:00<00:00, 712.19it/s]\n",
      "Trial 13/20: Running 500 iterations: 100%|██████████| 500/500 [00:00<00:00, 730.12it/s]\n",
      "Trial 14/20: Running 500 iterations: 100%|██████████| 500/500 [00:00<00:00, 739.64it/s]\n",
      "Trial 15/20: Running 500 iterations: 100%|██████████| 500/500 [00:00<00:00, 729.12it/s]\n",
      "Trial 16/20: Running 500 iterations: 100%|██████████| 500/500 [00:00<00:00, 752.98it/s]\n",
      "Trial 17/20: Running 500 iterations: 100%|██████████| 500/500 [00:00<00:00, 732.56it/s]\n",
      "Trial 18/20: Running 500 iterations: 100%|██████████| 500/500 [00:00<00:00, 735.57it/s]\n",
      "Trial 19/20: Running 500 iterations: 100%|██████████| 500/500 [00:00<00:00, 728.46it/s]\n",
      "Trial 20/20: Running 500 iterations: 100%|██████████| 500/500 [00:00<00:00, 727.87it/s]\n",
      "Unsupported operator aten::max_pool2d encountered 3 time(s)\n",
      "Unsupported operator aten::add encountered 4 time(s)\n"
     ]
    },
    {
     "name": "stdout",
     "output_type": "stream",
     "text": [
      "Processing batch size: 32\n"
     ]
    },
    {
     "name": "stderr",
     "output_type": "stream",
     "text": [
      "Trial 1/20: Running 500 iterations: 100%|██████████| 500/500 [00:01<00:00, 439.62it/s]\n",
      "Trial 2/20: Running 500 iterations: 100%|██████████| 500/500 [00:01<00:00, 441.67it/s]\n",
      "Trial 3/20: Running 500 iterations: 100%|██████████| 500/500 [00:01<00:00, 439.05it/s]\n",
      "Trial 4/20: Running 500 iterations: 100%|██████████| 500/500 [00:01<00:00, 439.26it/s]\n",
      "Trial 5/20: Running 500 iterations: 100%|██████████| 500/500 [00:01<00:00, 438.94it/s]\n",
      "Trial 6/20: Running 500 iterations: 100%|██████████| 500/500 [00:01<00:00, 432.44it/s]\n",
      "Trial 7/20: Running 500 iterations: 100%|██████████| 500/500 [00:01<00:00, 438.05it/s]\n",
      "Trial 8/20: Running 500 iterations: 100%|██████████| 500/500 [00:01<00:00, 437.07it/s]\n",
      "Trial 9/20: Running 500 iterations: 100%|██████████| 500/500 [00:01<00:00, 436.12it/s]\n",
      "Trial 10/20: Running 500 iterations: 100%|██████████| 500/500 [00:01<00:00, 434.00it/s]\n",
      "Trial 11/20: Running 500 iterations: 100%|██████████| 500/500 [00:01<00:00, 438.98it/s]\n",
      "Trial 12/20: Running 500 iterations: 100%|██████████| 500/500 [00:01<00:00, 438.23it/s]\n",
      "Trial 13/20: Running 500 iterations: 100%|██████████| 500/500 [00:01<00:00, 435.90it/s]\n",
      "Trial 14/20: Running 500 iterations: 100%|██████████| 500/500 [00:01<00:00, 435.47it/s]\n",
      "Trial 15/20: Running 500 iterations: 100%|██████████| 500/500 [00:01<00:00, 436.47it/s]\n",
      "Trial 16/20: Running 500 iterations: 100%|██████████| 500/500 [00:01<00:00, 439.70it/s]\n",
      "Trial 17/20: Running 500 iterations: 100%|██████████| 500/500 [00:01<00:00, 437.35it/s]\n",
      "Trial 18/20: Running 500 iterations: 100%|██████████| 500/500 [00:01<00:00, 440.80it/s]\n",
      "Trial 19/20: Running 500 iterations: 100%|██████████| 500/500 [00:01<00:00, 437.91it/s]\n",
      "Trial 20/20: Running 500 iterations: 100%|██████████| 500/500 [00:01<00:00, 438.97it/s]\n",
      "Unsupported operator aten::max_pool2d encountered 3 time(s)\n",
      "Unsupported operator aten::add encountered 4 time(s)\n"
     ]
    },
    {
     "name": "stdout",
     "output_type": "stream",
     "text": [
      "Processing batch size: 64\n"
     ]
    },
    {
     "name": "stderr",
     "output_type": "stream",
     "text": [
      "Trial 1/20: Running 500 iterations: 100%|██████████| 500/500 [00:02<00:00, 245.31it/s]\n",
      "Trial 2/20: Running 500 iterations: 100%|██████████| 500/500 [00:02<00:00, 245.06it/s]\n",
      "Trial 3/20: Running 500 iterations: 100%|██████████| 500/500 [00:02<00:00, 244.96it/s]\n",
      "Trial 4/20: Running 500 iterations: 100%|██████████| 500/500 [00:02<00:00, 245.43it/s]\n",
      "Trial 5/20: Running 500 iterations: 100%|██████████| 500/500 [00:02<00:00, 245.23it/s]\n",
      "Trial 6/20: Running 500 iterations: 100%|██████████| 500/500 [00:02<00:00, 244.11it/s]\n",
      "Trial 7/20: Running 500 iterations: 100%|██████████| 500/500 [00:02<00:00, 243.06it/s]\n",
      "Trial 8/20: Running 500 iterations: 100%|██████████| 500/500 [00:02<00:00, 245.09it/s]\n",
      "Trial 9/20: Running 500 iterations: 100%|██████████| 500/500 [00:02<00:00, 244.85it/s]\n",
      "Trial 10/20: Running 500 iterations: 100%|██████████| 500/500 [00:02<00:00, 244.05it/s]\n",
      "Trial 11/20: Running 500 iterations: 100%|██████████| 500/500 [00:02<00:00, 245.41it/s]\n",
      "Trial 12/20: Running 500 iterations: 100%|██████████| 500/500 [00:02<00:00, 244.58it/s]\n",
      "Trial 13/20: Running 500 iterations: 100%|██████████| 500/500 [00:02<00:00, 243.57it/s]\n",
      "Trial 14/20: Running 500 iterations: 100%|██████████| 500/500 [00:02<00:00, 245.05it/s]\n",
      "Trial 15/20: Running 500 iterations: 100%|██████████| 500/500 [00:02<00:00, 244.59it/s]\n",
      "Trial 16/20: Running 500 iterations: 100%|██████████| 500/500 [00:02<00:00, 244.39it/s]\n",
      "Trial 17/20: Running 500 iterations: 100%|██████████| 500/500 [00:02<00:00, 243.07it/s]\n",
      "Trial 18/20: Running 500 iterations: 100%|██████████| 500/500 [00:02<00:00, 242.97it/s]\n",
      "Trial 19/20: Running 500 iterations: 100%|██████████| 500/500 [00:02<00:00, 243.02it/s]\n",
      "Trial 20/20: Running 500 iterations: 100%|██████████| 500/500 [00:02<00:00, 243.60it/s]\n",
      "Processing Models:  85%|████████▍ | 56/66 [1:58:50<20:14, 121.49s/it]"
     ]
    },
    {
     "name": "stdout",
     "output_type": "stream",
     "text": [
      "Processing model: d:\\PruneLimit\\PruneLimitAnalyzer\\models\\AlexNet_DATASET_random_PD3_GPR-30_PRUNED_SEED_23.pth\n"
     ]
    },
    {
     "name": "stderr",
     "output_type": "stream",
     "text": [
      "Unsupported operator aten::max_pool2d encountered 3 time(s)\n",
      "Unsupported operator aten::add encountered 4 time(s)\n"
     ]
    },
    {
     "name": "stdout",
     "output_type": "stream",
     "text": [
      "Processing batch size: 1\n"
     ]
    },
    {
     "name": "stderr",
     "output_type": "stream",
     "text": [
      "Trial 1/20: Running 500 iterations: 100%|██████████| 500/500 [00:00<00:00, 648.79it/s]\n",
      "Trial 2/20: Running 500 iterations: 100%|██████████| 500/500 [00:00<00:00, 719.97it/s]\n",
      "Trial 3/20: Running 500 iterations: 100%|██████████| 500/500 [00:00<00:00, 822.31it/s]\n",
      "Trial 4/20: Running 500 iterations: 100%|██████████| 500/500 [00:00<00:00, 827.53it/s]\n",
      "Trial 5/20: Running 500 iterations: 100%|██████████| 500/500 [00:00<00:00, 770.47it/s]\n",
      "Trial 6/20: Running 500 iterations: 100%|██████████| 500/500 [00:00<00:00, 867.73it/s]\n",
      "Trial 7/20: Running 500 iterations: 100%|██████████| 500/500 [00:00<00:00, 822.76it/s]\n",
      "Trial 8/20: Running 500 iterations: 100%|██████████| 500/500 [00:00<00:00, 943.83it/s]\n",
      "Trial 9/20: Running 500 iterations: 100%|██████████| 500/500 [00:00<00:00, 890.61it/s]\n",
      "Trial 10/20: Running 500 iterations: 100%|██████████| 500/500 [00:00<00:00, 915.62it/s]\n",
      "Trial 11/20: Running 500 iterations: 100%|██████████| 500/500 [00:00<00:00, 994.21it/s]\n",
      "Trial 12/20: Running 500 iterations: 100%|██████████| 500/500 [00:00<00:00, 944.73it/s]\n",
      "Trial 13/20: Running 500 iterations: 100%|██████████| 500/500 [00:00<00:00, 1002.90it/s]\n",
      "Trial 14/20: Running 500 iterations: 100%|██████████| 500/500 [00:00<00:00, 992.78it/s]\n",
      "Trial 15/20: Running 500 iterations: 100%|██████████| 500/500 [00:00<00:00, 729.14it/s]\n",
      "Trial 16/20: Running 500 iterations: 100%|██████████| 500/500 [00:00<00:00, 963.80it/s]\n",
      "Trial 17/20: Running 500 iterations: 100%|██████████| 500/500 [00:00<00:00, 1023.77it/s]\n",
      "Trial 18/20: Running 500 iterations: 100%|██████████| 500/500 [00:00<00:00, 891.01it/s]\n",
      "Trial 19/20: Running 500 iterations: 100%|██████████| 500/500 [00:00<00:00, 985.43it/s]\n",
      "Trial 20/20: Running 500 iterations: 100%|██████████| 500/500 [00:00<00:00, 970.36it/s]\n",
      "Unsupported operator aten::max_pool2d encountered 3 time(s)\n",
      "Unsupported operator aten::add encountered 4 time(s)\n"
     ]
    },
    {
     "name": "stdout",
     "output_type": "stream",
     "text": [
      "Processing batch size: 8\n"
     ]
    },
    {
     "name": "stderr",
     "output_type": "stream",
     "text": [
      "Trial 1/20: Running 500 iterations: 100%|██████████| 500/500 [00:00<00:00, 980.48it/s]\n",
      "Trial 2/20: Running 500 iterations: 100%|██████████| 500/500 [00:00<00:00, 979.83it/s] \n",
      "Trial 3/20: Running 500 iterations: 100%|██████████| 500/500 [00:00<00:00, 940.84it/s]\n",
      "Trial 4/20: Running 500 iterations: 100%|██████████| 500/500 [00:00<00:00, 697.61it/s]\n",
      "Trial 5/20: Running 500 iterations: 100%|██████████| 500/500 [00:00<00:00, 594.32it/s]\n",
      "Trial 6/20: Running 500 iterations: 100%|██████████| 500/500 [00:00<00:00, 604.81it/s]\n",
      "Trial 7/20: Running 500 iterations: 100%|██████████| 500/500 [00:00<00:00, 654.76it/s]\n",
      "Trial 8/20: Running 500 iterations: 100%|██████████| 500/500 [00:00<00:00, 682.06it/s]\n",
      "Trial 9/20: Running 500 iterations: 100%|██████████| 500/500 [00:00<00:00, 687.56it/s]\n",
      "Trial 10/20: Running 500 iterations: 100%|██████████| 500/500 [00:00<00:00, 764.35it/s]\n",
      "Trial 11/20: Running 500 iterations: 100%|██████████| 500/500 [00:00<00:00, 801.63it/s]\n",
      "Trial 12/20: Running 500 iterations: 100%|██████████| 500/500 [00:00<00:00, 842.26it/s]\n",
      "Trial 13/20: Running 500 iterations: 100%|██████████| 500/500 [00:00<00:00, 826.60it/s]\n",
      "Trial 14/20: Running 500 iterations: 100%|██████████| 500/500 [00:00<00:00, 805.35it/s]\n",
      "Trial 15/20: Running 500 iterations: 100%|██████████| 500/500 [00:00<00:00, 862.50it/s]\n",
      "Trial 16/20: Running 500 iterations: 100%|██████████| 500/500 [00:00<00:00, 969.49it/s]\n",
      "Trial 17/20: Running 500 iterations: 100%|██████████| 500/500 [00:00<00:00, 1040.68it/s]\n",
      "Trial 18/20: Running 500 iterations: 100%|██████████| 500/500 [00:00<00:00, 1063.26it/s]\n",
      "Trial 19/20: Running 500 iterations: 100%|██████████| 500/500 [00:00<00:00, 1060.93it/s]\n",
      "Trial 20/20: Running 500 iterations: 100%|██████████| 500/500 [00:00<00:00, 861.06it/s]\n",
      "Unsupported operator aten::max_pool2d encountered 3 time(s)\n",
      "Unsupported operator aten::add encountered 4 time(s)\n"
     ]
    },
    {
     "name": "stdout",
     "output_type": "stream",
     "text": [
      "Processing batch size: 16\n"
     ]
    },
    {
     "name": "stderr",
     "output_type": "stream",
     "text": [
      "Trial 1/20: Running 500 iterations: 100%|██████████| 500/500 [00:00<00:00, 674.75it/s]\n",
      "Trial 2/20: Running 500 iterations: 100%|██████████| 500/500 [00:00<00:00, 668.47it/s]\n",
      "Trial 3/20: Running 500 iterations: 100%|██████████| 500/500 [00:00<00:00, 676.49it/s]\n",
      "Trial 4/20: Running 500 iterations: 100%|██████████| 500/500 [00:00<00:00, 658.89it/s]\n",
      "Trial 5/20: Running 500 iterations: 100%|██████████| 500/500 [00:00<00:00, 676.17it/s]\n",
      "Trial 6/20: Running 500 iterations: 100%|██████████| 500/500 [00:00<00:00, 682.77it/s]\n",
      "Trial 7/20: Running 500 iterations: 100%|██████████| 500/500 [00:00<00:00, 676.00it/s]\n",
      "Trial 8/20: Running 500 iterations: 100%|██████████| 500/500 [00:00<00:00, 681.79it/s]\n",
      "Trial 9/20: Running 500 iterations: 100%|██████████| 500/500 [00:00<00:00, 677.19it/s]\n",
      "Trial 10/20: Running 500 iterations: 100%|██████████| 500/500 [00:00<00:00, 670.25it/s]\n",
      "Trial 11/20: Running 500 iterations: 100%|██████████| 500/500 [00:00<00:00, 673.32it/s]\n",
      "Trial 12/20: Running 500 iterations: 100%|██████████| 500/500 [00:00<00:00, 676.16it/s]\n",
      "Trial 13/20: Running 500 iterations: 100%|██████████| 500/500 [00:00<00:00, 676.50it/s]\n",
      "Trial 14/20: Running 500 iterations: 100%|██████████| 500/500 [00:00<00:00, 667.53it/s]\n",
      "Trial 15/20: Running 500 iterations: 100%|██████████| 500/500 [00:00<00:00, 665.25it/s]\n",
      "Trial 16/20: Running 500 iterations: 100%|██████████| 500/500 [00:00<00:00, 667.94it/s]\n",
      "Trial 17/20: Running 500 iterations: 100%|██████████| 500/500 [00:00<00:00, 661.83it/s]\n",
      "Trial 18/20: Running 500 iterations: 100%|██████████| 500/500 [00:00<00:00, 684.51it/s]\n",
      "Trial 19/20: Running 500 iterations: 100%|██████████| 500/500 [00:00<00:00, 657.48it/s]\n",
      "Trial 20/20: Running 500 iterations: 100%|██████████| 500/500 [00:00<00:00, 675.61it/s]\n",
      "Unsupported operator aten::max_pool2d encountered 3 time(s)\n",
      "Unsupported operator aten::add encountered 4 time(s)\n"
     ]
    },
    {
     "name": "stdout",
     "output_type": "stream",
     "text": [
      "Processing batch size: 32\n"
     ]
    },
    {
     "name": "stderr",
     "output_type": "stream",
     "text": [
      "Trial 1/20: Running 500 iterations: 100%|██████████| 500/500 [00:01<00:00, 409.67it/s]\n",
      "Trial 2/20: Running 500 iterations: 100%|██████████| 500/500 [00:01<00:00, 406.25it/s]\n",
      "Trial 3/20: Running 500 iterations: 100%|██████████| 500/500 [00:01<00:00, 410.34it/s]\n",
      "Trial 4/20: Running 500 iterations: 100%|██████████| 500/500 [00:01<00:00, 411.64it/s]\n",
      "Trial 5/20: Running 500 iterations: 100%|██████████| 500/500 [00:01<00:00, 411.10it/s]\n",
      "Trial 6/20: Running 500 iterations: 100%|██████████| 500/500 [00:01<00:00, 405.83it/s]\n",
      "Trial 7/20: Running 500 iterations: 100%|██████████| 500/500 [00:01<00:00, 404.84it/s]\n",
      "Trial 8/20: Running 500 iterations: 100%|██████████| 500/500 [00:01<00:00, 409.42it/s]\n",
      "Trial 9/20: Running 500 iterations: 100%|██████████| 500/500 [00:01<00:00, 406.13it/s]\n",
      "Trial 10/20: Running 500 iterations: 100%|██████████| 500/500 [00:01<00:00, 409.60it/s]\n",
      "Trial 11/20: Running 500 iterations: 100%|██████████| 500/500 [00:01<00:00, 404.57it/s]\n",
      "Trial 12/20: Running 500 iterations: 100%|██████████| 500/500 [00:01<00:00, 406.01it/s]\n",
      "Trial 13/20: Running 500 iterations: 100%|██████████| 500/500 [00:01<00:00, 404.56it/s]\n",
      "Trial 14/20: Running 500 iterations: 100%|██████████| 500/500 [00:01<00:00, 400.72it/s]\n",
      "Trial 15/20: Running 500 iterations: 100%|██████████| 500/500 [00:01<00:00, 407.07it/s]\n",
      "Trial 16/20: Running 500 iterations: 100%|██████████| 500/500 [00:01<00:00, 409.25it/s]\n",
      "Trial 17/20: Running 500 iterations: 100%|██████████| 500/500 [00:01<00:00, 407.06it/s]\n",
      "Trial 18/20: Running 500 iterations: 100%|██████████| 500/500 [00:01<00:00, 408.88it/s]\n",
      "Trial 19/20: Running 500 iterations: 100%|██████████| 500/500 [00:01<00:00, 407.66it/s]\n",
      "Trial 20/20: Running 500 iterations: 100%|██████████| 500/500 [00:01<00:00, 406.80it/s]\n",
      "Unsupported operator aten::max_pool2d encountered 3 time(s)\n",
      "Unsupported operator aten::add encountered 4 time(s)\n"
     ]
    },
    {
     "name": "stdout",
     "output_type": "stream",
     "text": [
      "Processing batch size: 64\n"
     ]
    },
    {
     "name": "stderr",
     "output_type": "stream",
     "text": [
      "Trial 1/20: Running 500 iterations: 100%|██████████| 500/500 [00:01<00:00, 252.44it/s]\n",
      "Trial 2/20: Running 500 iterations: 100%|██████████| 500/500 [00:01<00:00, 253.19it/s]\n",
      "Trial 3/20: Running 500 iterations: 100%|██████████| 500/500 [00:01<00:00, 254.08it/s]\n",
      "Trial 4/20: Running 500 iterations: 100%|██████████| 500/500 [00:01<00:00, 251.74it/s]\n",
      "Trial 5/20: Running 500 iterations: 100%|██████████| 500/500 [00:01<00:00, 252.67it/s]\n",
      "Trial 6/20: Running 500 iterations: 100%|██████████| 500/500 [00:01<00:00, 252.75it/s]\n",
      "Trial 7/20: Running 500 iterations: 100%|██████████| 500/500 [00:01<00:00, 252.65it/s]\n",
      "Trial 8/20: Running 500 iterations: 100%|██████████| 500/500 [00:01<00:00, 252.65it/s]\n",
      "Trial 9/20: Running 500 iterations: 100%|██████████| 500/500 [00:01<00:00, 252.41it/s]\n",
      "Trial 10/20: Running 500 iterations: 100%|██████████| 500/500 [00:01<00:00, 252.12it/s]\n",
      "Trial 11/20: Running 500 iterations: 100%|██████████| 500/500 [00:01<00:00, 253.82it/s]\n",
      "Trial 12/20: Running 500 iterations: 100%|██████████| 500/500 [00:01<00:00, 251.90it/s]\n",
      "Trial 13/20: Running 500 iterations: 100%|██████████| 500/500 [00:01<00:00, 251.59it/s]\n",
      "Trial 14/20: Running 500 iterations: 100%|██████████| 500/500 [00:01<00:00, 252.68it/s]\n",
      "Trial 15/20: Running 500 iterations: 100%|██████████| 500/500 [00:01<00:00, 252.57it/s]\n",
      "Trial 16/20: Running 500 iterations: 100%|██████████| 500/500 [00:01<00:00, 252.37it/s]\n",
      "Trial 17/20: Running 500 iterations: 100%|██████████| 500/500 [00:01<00:00, 252.20it/s]\n",
      "Trial 18/20: Running 500 iterations: 100%|██████████| 500/500 [00:01<00:00, 251.85it/s]\n",
      "Trial 19/20: Running 500 iterations: 100%|██████████| 500/500 [00:01<00:00, 252.90it/s]\n",
      "Trial 20/20: Running 500 iterations: 100%|██████████| 500/500 [00:01<00:00, 252.04it/s]\n",
      "Processing Models:  86%|████████▋ | 57/66 [2:00:58<18:31, 123.47s/it]"
     ]
    },
    {
     "name": "stdout",
     "output_type": "stream",
     "text": [
      "Processing model: d:\\PruneLimit\\PruneLimitAnalyzer\\models\\AlexNet_DATASET_random_PD5_GPR-25_PRUNED_SEED_23.pth\n"
     ]
    },
    {
     "name": "stderr",
     "output_type": "stream",
     "text": [
      "Unsupported operator aten::max_pool2d encountered 3 time(s)\n",
      "Unsupported operator aten::add encountered 4 time(s)\n"
     ]
    },
    {
     "name": "stdout",
     "output_type": "stream",
     "text": [
      "Processing batch size: 1\n"
     ]
    },
    {
     "name": "stderr",
     "output_type": "stream",
     "text": [
      "Trial 1/20: Running 500 iterations: 100%|██████████| 500/500 [00:00<00:00, 1075.65it/s]\n",
      "Trial 2/20: Running 500 iterations: 100%|██████████| 500/500 [00:00<00:00, 922.98it/s]\n",
      "Trial 3/20: Running 500 iterations: 100%|██████████| 500/500 [00:00<00:00, 921.55it/s]\n",
      "Trial 4/20: Running 500 iterations: 100%|██████████| 500/500 [00:00<00:00, 807.44it/s]\n",
      "Trial 5/20: Running 500 iterations: 100%|██████████| 500/500 [00:00<00:00, 771.73it/s]\n",
      "Trial 6/20: Running 500 iterations: 100%|██████████| 500/500 [00:00<00:00, 698.18it/s]\n",
      "Trial 7/20: Running 500 iterations: 100%|██████████| 500/500 [00:00<00:00, 713.40it/s]\n",
      "Trial 8/20: Running 500 iterations: 100%|██████████| 500/500 [00:00<00:00, 619.50it/s]\n",
      "Trial 9/20: Running 500 iterations: 100%|██████████| 500/500 [00:00<00:00, 1061.20it/s]\n",
      "Trial 10/20: Running 500 iterations: 100%|██████████| 500/500 [00:00<00:00, 953.26it/s] \n",
      "Trial 11/20: Running 500 iterations: 100%|██████████| 500/500 [00:00<00:00, 847.33it/s]\n",
      "Trial 12/20: Running 500 iterations: 100%|██████████| 500/500 [00:00<00:00, 831.48it/s]\n",
      "Trial 13/20: Running 500 iterations: 100%|██████████| 500/500 [00:00<00:00, 856.10it/s]\n",
      "Trial 14/20: Running 500 iterations: 100%|██████████| 500/500 [00:00<00:00, 959.33it/s]\n",
      "Trial 15/20: Running 500 iterations: 100%|██████████| 500/500 [00:00<00:00, 987.40it/s]\n",
      "Trial 16/20: Running 500 iterations: 100%|██████████| 500/500 [00:00<00:00, 885.37it/s]\n",
      "Trial 17/20: Running 500 iterations: 100%|██████████| 500/500 [00:00<00:00, 1052.80it/s]\n",
      "Trial 18/20: Running 500 iterations: 100%|██████████| 500/500 [00:00<00:00, 1043.45it/s]\n",
      "Trial 19/20: Running 500 iterations: 100%|██████████| 500/500 [00:00<00:00, 1050.21it/s]\n",
      "Trial 20/20: Running 500 iterations: 100%|██████████| 500/500 [00:00<00:00, 1062.06it/s]\n",
      "Unsupported operator aten::max_pool2d encountered 3 time(s)\n",
      "Unsupported operator aten::add encountered 4 time(s)\n"
     ]
    },
    {
     "name": "stdout",
     "output_type": "stream",
     "text": [
      "Processing batch size: 8\n"
     ]
    },
    {
     "name": "stderr",
     "output_type": "stream",
     "text": [
      "Trial 1/20: Running 500 iterations: 100%|██████████| 500/500 [00:00<00:00, 890.43it/s]\n",
      "Trial 2/20: Running 500 iterations: 100%|██████████| 500/500 [00:00<00:00, 887.16it/s]\n",
      "Trial 3/20: Running 500 iterations: 100%|██████████| 500/500 [00:00<00:00, 898.97it/s]\n",
      "Trial 4/20: Running 500 iterations: 100%|██████████| 500/500 [00:00<00:00, 896.07it/s]\n",
      "Trial 5/20: Running 500 iterations: 100%|██████████| 500/500 [00:00<00:00, 874.04it/s]\n",
      "Trial 6/20: Running 500 iterations: 100%|██████████| 500/500 [00:00<00:00, 889.28it/s]\n",
      "Trial 7/20: Running 500 iterations: 100%|██████████| 500/500 [00:00<00:00, 885.37it/s]\n",
      "Trial 8/20: Running 500 iterations: 100%|██████████| 500/500 [00:00<00:00, 845.90it/s]\n",
      "Trial 9/20: Running 500 iterations: 100%|██████████| 500/500 [00:00<00:00, 915.31it/s]\n",
      "Trial 10/20: Running 500 iterations: 100%|██████████| 500/500 [00:00<00:00, 903.67it/s]\n",
      "Trial 11/20: Running 500 iterations: 100%|██████████| 500/500 [00:00<00:00, 888.39it/s]\n",
      "Trial 12/20: Running 500 iterations: 100%|██████████| 500/500 [00:00<00:00, 756.04it/s]\n",
      "Trial 13/20: Running 500 iterations: 100%|██████████| 500/500 [00:00<00:00, 786.96it/s]\n",
      "Trial 14/20: Running 500 iterations: 100%|██████████| 500/500 [00:00<00:00, 594.98it/s]\n",
      "Trial 15/20: Running 500 iterations: 100%|██████████| 500/500 [00:00<00:00, 593.21it/s]\n",
      "Trial 16/20: Running 500 iterations: 100%|██████████| 500/500 [00:00<00:00, 693.98it/s]\n",
      "Trial 17/20: Running 500 iterations: 100%|██████████| 500/500 [00:00<00:00, 616.18it/s]\n",
      "Trial 18/20: Running 500 iterations: 100%|██████████| 500/500 [00:00<00:00, 688.06it/s]\n",
      "Trial 19/20: Running 500 iterations: 100%|██████████| 500/500 [00:00<00:00, 889.38it/s]\n",
      "Trial 20/20: Running 500 iterations: 100%|██████████| 500/500 [00:00<00:00, 852.46it/s]\n",
      "Unsupported operator aten::max_pool2d encountered 3 time(s)\n",
      "Unsupported operator aten::add encountered 4 time(s)\n"
     ]
    },
    {
     "name": "stdout",
     "output_type": "stream",
     "text": [
      "Processing batch size: 16\n"
     ]
    },
    {
     "name": "stderr",
     "output_type": "stream",
     "text": [
      "Trial 1/20: Running 500 iterations: 100%|██████████| 500/500 [00:00<00:00, 614.13it/s]\n",
      "Trial 2/20: Running 500 iterations: 100%|██████████| 500/500 [00:00<00:00, 609.69it/s]\n",
      "Trial 3/20: Running 500 iterations: 100%|██████████| 500/500 [00:00<00:00, 611.19it/s]\n",
      "Trial 4/20: Running 500 iterations: 100%|██████████| 500/500 [00:00<00:00, 604.52it/s]\n",
      "Trial 5/20: Running 500 iterations: 100%|██████████| 500/500 [00:00<00:00, 610.45it/s]\n",
      "Trial 6/20: Running 500 iterations: 100%|██████████| 500/500 [00:00<00:00, 605.74it/s]\n",
      "Trial 7/20: Running 500 iterations: 100%|██████████| 500/500 [00:00<00:00, 609.83it/s]\n",
      "Trial 8/20: Running 500 iterations: 100%|██████████| 500/500 [00:00<00:00, 606.19it/s]\n",
      "Trial 9/20: Running 500 iterations: 100%|██████████| 500/500 [00:00<00:00, 614.11it/s]\n",
      "Trial 10/20: Running 500 iterations: 100%|██████████| 500/500 [00:00<00:00, 610.52it/s]\n",
      "Trial 11/20: Running 500 iterations: 100%|██████████| 500/500 [00:00<00:00, 606.38it/s]\n",
      "Trial 12/20: Running 500 iterations: 100%|██████████| 500/500 [00:00<00:00, 610.47it/s]\n",
      "Trial 13/20: Running 500 iterations: 100%|██████████| 500/500 [00:00<00:00, 596.31it/s]\n",
      "Trial 14/20: Running 500 iterations: 100%|██████████| 500/500 [00:00<00:00, 606.51it/s]\n",
      "Trial 15/20: Running 500 iterations: 100%|██████████| 500/500 [00:00<00:00, 604.72it/s]\n",
      "Trial 16/20: Running 500 iterations: 100%|██████████| 500/500 [00:00<00:00, 601.11it/s]\n",
      "Trial 17/20: Running 500 iterations: 100%|██████████| 500/500 [00:00<00:00, 622.37it/s]\n",
      "Trial 18/20: Running 500 iterations: 100%|██████████| 500/500 [00:00<00:00, 615.37it/s]\n",
      "Trial 19/20: Running 500 iterations: 100%|██████████| 500/500 [00:00<00:00, 617.43it/s]\n",
      "Trial 20/20: Running 500 iterations: 100%|██████████| 500/500 [00:00<00:00, 614.50it/s]\n",
      "Unsupported operator aten::max_pool2d encountered 3 time(s)\n",
      "Unsupported operator aten::add encountered 4 time(s)\n"
     ]
    },
    {
     "name": "stdout",
     "output_type": "stream",
     "text": [
      "Processing batch size: 32\n"
     ]
    },
    {
     "name": "stderr",
     "output_type": "stream",
     "text": [
      "Trial 1/20: Running 500 iterations: 100%|██████████| 500/500 [00:01<00:00, 337.17it/s]\n",
      "Trial 2/20: Running 500 iterations: 100%|██████████| 500/500 [00:01<00:00, 340.32it/s]\n",
      "Trial 3/20: Running 500 iterations: 100%|██████████| 500/500 [00:01<00:00, 337.49it/s]\n",
      "Trial 4/20: Running 500 iterations: 100%|██████████| 500/500 [00:01<00:00, 336.38it/s]\n",
      "Trial 5/20: Running 500 iterations: 100%|██████████| 500/500 [00:01<00:00, 336.20it/s]\n",
      "Trial 6/20: Running 500 iterations: 100%|██████████| 500/500 [00:01<00:00, 339.75it/s]\n",
      "Trial 7/20: Running 500 iterations: 100%|██████████| 500/500 [00:01<00:00, 337.25it/s]\n",
      "Trial 8/20: Running 500 iterations: 100%|██████████| 500/500 [00:01<00:00, 340.02it/s]\n",
      "Trial 9/20: Running 500 iterations: 100%|██████████| 500/500 [00:01<00:00, 338.44it/s]\n",
      "Trial 10/20: Running 500 iterations: 100%|██████████| 500/500 [00:01<00:00, 338.13it/s]\n",
      "Trial 11/20: Running 500 iterations: 100%|██████████| 500/500 [00:01<00:00, 334.54it/s]\n",
      "Trial 12/20: Running 500 iterations: 100%|██████████| 500/500 [00:01<00:00, 337.48it/s]\n",
      "Trial 13/20: Running 500 iterations: 100%|██████████| 500/500 [00:01<00:00, 336.69it/s]\n",
      "Trial 14/20: Running 500 iterations: 100%|██████████| 500/500 [00:01<00:00, 337.62it/s]\n",
      "Trial 15/20: Running 500 iterations: 100%|██████████| 500/500 [00:01<00:00, 342.06it/s]\n",
      "Trial 16/20: Running 500 iterations: 100%|██████████| 500/500 [00:01<00:00, 339.96it/s]\n",
      "Trial 17/20: Running 500 iterations: 100%|██████████| 500/500 [00:01<00:00, 340.37it/s]\n",
      "Trial 18/20: Running 500 iterations: 100%|██████████| 500/500 [00:01<00:00, 337.57it/s]\n",
      "Trial 19/20: Running 500 iterations: 100%|██████████| 500/500 [00:01<00:00, 340.89it/s]\n",
      "Trial 20/20: Running 500 iterations: 100%|██████████| 500/500 [00:01<00:00, 340.03it/s]\n",
      "Unsupported operator aten::max_pool2d encountered 3 time(s)\n",
      "Unsupported operator aten::add encountered 4 time(s)\n"
     ]
    },
    {
     "name": "stdout",
     "output_type": "stream",
     "text": [
      "Processing batch size: 64\n"
     ]
    },
    {
     "name": "stderr",
     "output_type": "stream",
     "text": [
      "Trial 1/20: Running 500 iterations: 100%|██████████| 500/500 [00:02<00:00, 201.69it/s]\n",
      "Trial 2/20: Running 500 iterations: 100%|██████████| 500/500 [00:02<00:00, 201.72it/s]\n",
      "Trial 3/20: Running 500 iterations: 100%|██████████| 500/500 [00:02<00:00, 201.46it/s]\n",
      "Trial 4/20: Running 500 iterations: 100%|██████████| 500/500 [00:02<00:00, 202.30it/s]\n",
      "Trial 5/20: Running 500 iterations: 100%|██████████| 500/500 [00:02<00:00, 200.97it/s]\n",
      "Trial 6/20: Running 500 iterations: 100%|██████████| 500/500 [00:02<00:00, 201.64it/s]\n",
      "Trial 7/20: Running 500 iterations: 100%|██████████| 500/500 [00:02<00:00, 202.54it/s]\n",
      "Trial 8/20: Running 500 iterations: 100%|██████████| 500/500 [00:02<00:00, 201.73it/s]\n",
      "Trial 9/20: Running 500 iterations: 100%|██████████| 500/500 [00:02<00:00, 200.91it/s]\n",
      "Trial 10/20: Running 500 iterations: 100%|██████████| 500/500 [00:02<00:00, 201.60it/s]\n",
      "Trial 11/20: Running 500 iterations: 100%|██████████| 500/500 [00:02<00:00, 201.27it/s]\n",
      "Trial 12/20: Running 500 iterations: 100%|██████████| 500/500 [00:02<00:00, 201.97it/s]\n",
      "Trial 13/20: Running 500 iterations: 100%|██████████| 500/500 [00:02<00:00, 201.60it/s]\n",
      "Trial 14/20: Running 500 iterations: 100%|██████████| 500/500 [00:02<00:00, 202.48it/s]\n",
      "Trial 15/20: Running 500 iterations: 100%|██████████| 500/500 [00:02<00:00, 202.40it/s]\n",
      "Trial 16/20: Running 500 iterations: 100%|██████████| 500/500 [00:02<00:00, 201.71it/s]\n",
      "Trial 17/20: Running 500 iterations: 100%|██████████| 500/500 [00:02<00:00, 201.94it/s]\n",
      "Trial 18/20: Running 500 iterations: 100%|██████████| 500/500 [00:02<00:00, 201.67it/s]\n",
      "Trial 19/20: Running 500 iterations: 100%|██████████| 500/500 [00:02<00:00, 200.53it/s]\n",
      "Trial 20/20: Running 500 iterations: 100%|██████████| 500/500 [00:02<00:00, 201.25it/s]\n",
      "Processing Models:  88%|████████▊ | 58/66 [2:03:26<17:27, 130.92s/it]Unsupported operator aten::max_pool2d encountered 3 time(s)\n",
      "Unsupported operator aten::add encountered 4 time(s)\n"
     ]
    },
    {
     "name": "stdout",
     "output_type": "stream",
     "text": [
      "Processing model: d:\\PruneLimit\\PruneLimitAnalyzer\\models\\AlexNet_DATASET_random_PD5_GPR-40_PRUNED_SEED_23.pth\n",
      "Processing batch size: 1\n"
     ]
    },
    {
     "name": "stderr",
     "output_type": "stream",
     "text": [
      "Trial 1/20: Running 500 iterations: 100%|██████████| 500/500 [00:00<00:00, 964.22it/s]\n",
      "Trial 2/20: Running 500 iterations: 100%|██████████| 500/500 [00:00<00:00, 923.54it/s]\n",
      "Trial 3/20: Running 500 iterations: 100%|██████████| 500/500 [00:00<00:00, 971.67it/s]\n",
      "Trial 4/20: Running 500 iterations: 100%|██████████| 500/500 [00:00<00:00, 970.38it/s]\n",
      "Trial 5/20: Running 500 iterations: 100%|██████████| 500/500 [00:00<00:00, 975.51it/s]\n",
      "Trial 6/20: Running 500 iterations: 100%|██████████| 500/500 [00:00<00:00, 973.33it/s]\n",
      "Trial 7/20: Running 500 iterations: 100%|██████████| 500/500 [00:00<00:00, 995.82it/s]\n",
      "Trial 8/20: Running 500 iterations: 100%|██████████| 500/500 [00:00<00:00, 595.73it/s]\n",
      "Trial 9/20: Running 500 iterations: 100%|██████████| 500/500 [00:00<00:00, 710.93it/s]\n",
      "Trial 10/20: Running 500 iterations: 100%|██████████| 500/500 [00:00<00:00, 621.27it/s]\n",
      "Trial 11/20: Running 500 iterations: 100%|██████████| 500/500 [00:00<00:00, 608.68it/s]\n",
      "Trial 12/20: Running 500 iterations: 100%|██████████| 500/500 [00:00<00:00, 571.78it/s]\n",
      "Trial 13/20: Running 500 iterations: 100%|██████████| 500/500 [00:00<00:00, 635.30it/s]\n",
      "Trial 14/20: Running 500 iterations: 100%|██████████| 500/500 [00:00<00:00, 659.32it/s]\n",
      "Trial 15/20: Running 500 iterations: 100%|██████████| 500/500 [00:00<00:00, 792.08it/s]\n",
      "Trial 16/20: Running 500 iterations: 100%|██████████| 500/500 [00:00<00:00, 846.42it/s]\n",
      "Trial 17/20: Running 500 iterations: 100%|██████████| 500/500 [00:00<00:00, 813.70it/s]\n",
      "Trial 18/20: Running 500 iterations: 100%|██████████| 500/500 [00:00<00:00, 821.50it/s]\n",
      "Trial 19/20: Running 500 iterations: 100%|██████████| 500/500 [00:00<00:00, 867.89it/s]\n",
      "Trial 20/20: Running 500 iterations: 100%|██████████| 500/500 [00:00<00:00, 760.27it/s]\n",
      "Unsupported operator aten::max_pool2d encountered 3 time(s)\n",
      "Unsupported operator aten::add encountered 4 time(s)\n"
     ]
    },
    {
     "name": "stdout",
     "output_type": "stream",
     "text": [
      "Processing batch size: 8\n"
     ]
    },
    {
     "name": "stderr",
     "output_type": "stream",
     "text": [
      "Trial 1/20: Running 500 iterations: 100%|██████████| 500/500 [00:00<00:00, 867.68it/s]\n",
      "Trial 2/20: Running 500 iterations: 100%|██████████| 500/500 [00:00<00:00, 915.62it/s]\n",
      "Trial 3/20: Running 500 iterations: 100%|██████████| 500/500 [00:00<00:00, 906.77it/s]\n",
      "Trial 4/20: Running 500 iterations: 100%|██████████| 500/500 [00:00<00:00, 788.09it/s]\n",
      "Trial 5/20: Running 500 iterations: 100%|██████████| 500/500 [00:00<00:00, 843.61it/s]\n",
      "Trial 6/20: Running 500 iterations: 100%|██████████| 500/500 [00:00<00:00, 845.54it/s]\n",
      "Trial 7/20: Running 500 iterations: 100%|██████████| 500/500 [00:00<00:00, 780.87it/s]\n",
      "Trial 8/20: Running 500 iterations: 100%|██████████| 500/500 [00:00<00:00, 935.70it/s]\n",
      "Trial 9/20: Running 500 iterations: 100%|██████████| 500/500 [00:00<00:00, 1003.20it/s]\n",
      "Trial 10/20: Running 500 iterations: 100%|██████████| 500/500 [00:00<00:00, 1015.33it/s]\n",
      "Trial 11/20: Running 500 iterations: 100%|██████████| 500/500 [00:00<00:00, 990.05it/s] \n",
      "Trial 12/20: Running 500 iterations: 100%|██████████| 500/500 [00:00<00:00, 1001.82it/s]\n",
      "Trial 13/20: Running 500 iterations: 100%|██████████| 500/500 [00:00<00:00, 1003.14it/s]\n",
      "Trial 14/20: Running 500 iterations: 100%|██████████| 500/500 [00:00<00:00, 973.27it/s]\n",
      "Trial 15/20: Running 500 iterations: 100%|██████████| 500/500 [00:00<00:00, 943.51it/s] \n",
      "Trial 16/20: Running 500 iterations: 100%|██████████| 500/500 [00:00<00:00, 787.73it/s]\n",
      "Trial 17/20: Running 500 iterations: 100%|██████████| 500/500 [00:00<00:00, 884.75it/s]\n",
      "Trial 18/20: Running 500 iterations: 100%|██████████| 500/500 [00:00<00:00, 994.55it/s] \n",
      "Trial 19/20: Running 500 iterations: 100%|██████████| 500/500 [00:00<00:00, 820.29it/s]\n",
      "Trial 20/20: Running 500 iterations: 100%|██████████| 500/500 [00:00<00:00, 910.15it/s]\n",
      "Unsupported operator aten::max_pool2d encountered 3 time(s)\n",
      "Unsupported operator aten::add encountered 4 time(s)\n"
     ]
    },
    {
     "name": "stdout",
     "output_type": "stream",
     "text": [
      "Processing batch size: 16\n"
     ]
    },
    {
     "name": "stderr",
     "output_type": "stream",
     "text": [
      "Trial 1/20: Running 500 iterations: 100%|██████████| 500/500 [00:00<00:00, 802.90it/s]\n",
      "Trial 2/20: Running 500 iterations: 100%|██████████| 500/500 [00:00<00:00, 840.06it/s]\n",
      "Trial 3/20: Running 500 iterations: 100%|██████████| 500/500 [00:00<00:00, 813.55it/s]\n",
      "Trial 4/20: Running 500 iterations: 100%|██████████| 500/500 [00:00<00:00, 904.97it/s]\n",
      "Trial 5/20: Running 500 iterations: 100%|██████████| 500/500 [00:00<00:00, 880.54it/s]\n",
      "Trial 6/20: Running 500 iterations: 100%|██████████| 500/500 [00:00<00:00, 898.27it/s]\n",
      "Trial 7/20: Running 500 iterations: 100%|██████████| 500/500 [00:00<00:00, 917.37it/s]\n",
      "Trial 8/20: Running 500 iterations: 100%|██████████| 500/500 [00:00<00:00, 910.56it/s]\n",
      "Trial 9/20: Running 500 iterations: 100%|██████████| 500/500 [00:00<00:00, 878.51it/s]\n",
      "Trial 10/20: Running 500 iterations: 100%|██████████| 500/500 [00:00<00:00, 806.80it/s]\n",
      "Trial 11/20: Running 500 iterations: 100%|██████████| 500/500 [00:00<00:00, 869.72it/s]\n",
      "Trial 12/20: Running 500 iterations: 100%|██████████| 500/500 [00:00<00:00, 894.94it/s]\n",
      "Trial 13/20: Running 500 iterations: 100%|██████████| 500/500 [00:00<00:00, 797.81it/s]\n",
      "Trial 14/20: Running 500 iterations: 100%|██████████| 500/500 [00:00<00:00, 890.68it/s]\n",
      "Trial 15/20: Running 500 iterations: 100%|██████████| 500/500 [00:00<00:00, 866.96it/s]\n",
      "Trial 16/20: Running 500 iterations: 100%|██████████| 500/500 [00:00<00:00, 862.06it/s]\n",
      "Trial 17/20: Running 500 iterations: 100%|██████████| 500/500 [00:00<00:00, 873.32it/s]\n",
      "Trial 18/20: Running 500 iterations: 100%|██████████| 500/500 [00:00<00:00, 918.89it/s]\n",
      "Trial 19/20: Running 500 iterations: 100%|██████████| 500/500 [00:00<00:00, 862.67it/s]\n",
      "Trial 20/20: Running 500 iterations: 100%|██████████| 500/500 [00:00<00:00, 877.80it/s]\n",
      "Unsupported operator aten::max_pool2d encountered 3 time(s)\n",
      "Unsupported operator aten::add encountered 4 time(s)\n"
     ]
    },
    {
     "name": "stdout",
     "output_type": "stream",
     "text": [
      "Processing batch size: 32\n"
     ]
    },
    {
     "name": "stderr",
     "output_type": "stream",
     "text": [
      "Trial 1/20: Running 500 iterations: 100%|██████████| 500/500 [00:00<00:00, 526.54it/s]\n",
      "Trial 2/20: Running 500 iterations: 100%|██████████| 500/500 [00:00<00:00, 528.94it/s]\n",
      "Trial 3/20: Running 500 iterations: 100%|██████████| 500/500 [00:00<00:00, 529.64it/s]\n",
      "Trial 4/20: Running 500 iterations: 100%|██████████| 500/500 [00:00<00:00, 533.76it/s]\n",
      "Trial 5/20: Running 500 iterations: 100%|██████████| 500/500 [00:00<00:00, 526.21it/s]\n",
      "Trial 6/20: Running 500 iterations: 100%|██████████| 500/500 [00:00<00:00, 541.00it/s]\n",
      "Trial 7/20: Running 500 iterations: 100%|██████████| 500/500 [00:00<00:00, 531.19it/s]\n",
      "Trial 8/20: Running 500 iterations: 100%|██████████| 500/500 [00:00<00:00, 534.78it/s]\n",
      "Trial 9/20: Running 500 iterations: 100%|██████████| 500/500 [00:00<00:00, 530.05it/s]\n",
      "Trial 10/20: Running 500 iterations: 100%|██████████| 500/500 [00:00<00:00, 533.69it/s]\n",
      "Trial 11/20: Running 500 iterations: 100%|██████████| 500/500 [00:00<00:00, 527.29it/s]\n",
      "Trial 12/20: Running 500 iterations: 100%|██████████| 500/500 [00:00<00:00, 529.91it/s]\n",
      "Trial 13/20: Running 500 iterations: 100%|██████████| 500/500 [00:00<00:00, 533.58it/s]\n",
      "Trial 14/20: Running 500 iterations: 100%|██████████| 500/500 [00:00<00:00, 525.53it/s]\n",
      "Trial 15/20: Running 500 iterations: 100%|██████████| 500/500 [00:00<00:00, 530.64it/s]\n",
      "Trial 16/20: Running 500 iterations: 100%|██████████| 500/500 [00:00<00:00, 526.91it/s]\n",
      "Trial 17/20: Running 500 iterations: 100%|██████████| 500/500 [00:00<00:00, 526.00it/s]\n",
      "Trial 18/20: Running 500 iterations: 100%|██████████| 500/500 [00:00<00:00, 525.69it/s]\n",
      "Trial 19/20: Running 500 iterations: 100%|██████████| 500/500 [00:00<00:00, 518.11it/s]\n",
      "Trial 20/20: Running 500 iterations: 100%|██████████| 500/500 [00:00<00:00, 520.55it/s]\n",
      "Unsupported operator aten::max_pool2d encountered 3 time(s)\n",
      "Unsupported operator aten::add encountered 4 time(s)\n"
     ]
    },
    {
     "name": "stdout",
     "output_type": "stream",
     "text": [
      "Processing batch size: 64\n"
     ]
    },
    {
     "name": "stderr",
     "output_type": "stream",
     "text": [
      "Trial 1/20: Running 500 iterations: 100%|██████████| 500/500 [00:01<00:00, 293.37it/s]\n",
      "Trial 2/20: Running 500 iterations: 100%|██████████| 500/500 [00:01<00:00, 291.61it/s]\n",
      "Trial 3/20: Running 500 iterations: 100%|██████████| 500/500 [00:01<00:00, 293.08it/s]\n",
      "Trial 4/20: Running 500 iterations: 100%|██████████| 500/500 [00:01<00:00, 291.93it/s]\n",
      "Trial 5/20: Running 500 iterations: 100%|██████████| 500/500 [00:01<00:00, 287.85it/s]\n",
      "Trial 6/20: Running 500 iterations: 100%|██████████| 500/500 [00:01<00:00, 293.45it/s]\n",
      "Trial 7/20: Running 500 iterations: 100%|██████████| 500/500 [00:01<00:00, 291.92it/s]\n",
      "Trial 8/20: Running 500 iterations: 100%|██████████| 500/500 [00:01<00:00, 293.26it/s]\n",
      "Trial 9/20: Running 500 iterations: 100%|██████████| 500/500 [00:01<00:00, 293.78it/s]\n",
      "Trial 10/20: Running 500 iterations: 100%|██████████| 500/500 [00:01<00:00, 291.78it/s]\n",
      "Trial 11/20: Running 500 iterations: 100%|██████████| 500/500 [00:01<00:00, 291.48it/s]\n",
      "Trial 12/20: Running 500 iterations: 100%|██████████| 500/500 [00:01<00:00, 291.77it/s]\n",
      "Trial 13/20: Running 500 iterations: 100%|██████████| 500/500 [00:01<00:00, 293.30it/s]\n",
      "Trial 14/20: Running 500 iterations: 100%|██████████| 500/500 [00:01<00:00, 291.37it/s]\n",
      "Trial 15/20: Running 500 iterations: 100%|██████████| 500/500 [00:01<00:00, 291.81it/s]\n",
      "Trial 16/20: Running 500 iterations: 100%|██████████| 500/500 [00:01<00:00, 290.93it/s]\n",
      "Trial 17/20: Running 500 iterations: 100%|██████████| 500/500 [00:01<00:00, 293.23it/s]\n",
      "Trial 18/20: Running 500 iterations: 100%|██████████| 500/500 [00:01<00:00, 291.79it/s]\n",
      "Trial 19/20: Running 500 iterations: 100%|██████████| 500/500 [00:01<00:00, 291.72it/s]\n",
      "Trial 20/20: Running 500 iterations: 100%|██████████| 500/500 [00:01<00:00, 291.62it/s]\n",
      "Processing Models:  89%|████████▉ | 59/66 [2:05:16<14:32, 124.61s/it]"
     ]
    },
    {
     "name": "stdout",
     "output_type": "stream",
     "text": [
      "Processing model: d:\\PruneLimit\\PruneLimitAnalyzer\\models\\AlexNet_DATASET_random_PD5_GPR-15_PRUNED_SEED_23.pth\n"
     ]
    },
    {
     "name": "stderr",
     "output_type": "stream",
     "text": [
      "Unsupported operator aten::max_pool2d encountered 3 time(s)\n",
      "Unsupported operator aten::add encountered 4 time(s)\n"
     ]
    },
    {
     "name": "stdout",
     "output_type": "stream",
     "text": [
      "Processing batch size: 1\n"
     ]
    },
    {
     "name": "stderr",
     "output_type": "stream",
     "text": [
      "Trial 1/20: Running 500 iterations: 100%|██████████| 500/500 [00:00<00:00, 934.97it/s]\n",
      "Trial 2/20: Running 500 iterations: 100%|██████████| 500/500 [00:00<00:00, 984.33it/s]\n",
      "Trial 3/20: Running 500 iterations: 100%|██████████| 500/500 [00:00<00:00, 964.90it/s]\n",
      "Trial 4/20: Running 500 iterations: 100%|██████████| 500/500 [00:00<00:00, 1001.97it/s]\n",
      "Trial 5/20: Running 500 iterations: 100%|██████████| 500/500 [00:00<00:00, 905.71it/s]\n",
      "Trial 6/20: Running 500 iterations: 100%|██████████| 500/500 [00:00<00:00, 756.33it/s]\n",
      "Trial 7/20: Running 500 iterations: 100%|██████████| 500/500 [00:00<00:00, 803.14it/s]\n",
      "Trial 8/20: Running 500 iterations: 100%|██████████| 500/500 [00:00<00:00, 732.59it/s]\n",
      "Trial 9/20: Running 500 iterations: 100%|██████████| 500/500 [00:00<00:00, 658.93it/s]\n",
      "Trial 10/20: Running 500 iterations: 100%|██████████| 500/500 [00:00<00:00, 772.64it/s]\n",
      "Trial 11/20: Running 500 iterations: 100%|██████████| 500/500 [00:00<00:00, 883.59it/s]\n",
      "Trial 12/20: Running 500 iterations: 100%|██████████| 500/500 [00:00<00:00, 1034.10it/s]\n",
      "Trial 13/20: Running 500 iterations: 100%|██████████| 500/500 [00:00<00:00, 1054.39it/s]\n",
      "Trial 14/20: Running 500 iterations: 100%|██████████| 500/500 [00:00<00:00, 943.88it/s]\n",
      "Trial 15/20: Running 500 iterations: 100%|██████████| 500/500 [00:00<00:00, 1035.69it/s]\n",
      "Trial 16/20: Running 500 iterations: 100%|██████████| 500/500 [00:00<00:00, 972.86it/s]\n",
      "Trial 17/20: Running 500 iterations: 100%|██████████| 500/500 [00:00<00:00, 1028.11it/s]\n",
      "Trial 18/20: Running 500 iterations: 100%|██████████| 500/500 [00:00<00:00, 1014.68it/s]\n",
      "Trial 19/20: Running 500 iterations: 100%|██████████| 500/500 [00:00<00:00, 867.18it/s]\n",
      "Trial 20/20: Running 500 iterations: 100%|██████████| 500/500 [00:00<00:00, 588.51it/s]\n",
      "Unsupported operator aten::max_pool2d encountered 3 time(s)\n",
      "Unsupported operator aten::add encountered 4 time(s)\n"
     ]
    },
    {
     "name": "stdout",
     "output_type": "stream",
     "text": [
      "Processing batch size: 8\n"
     ]
    },
    {
     "name": "stderr",
     "output_type": "stream",
     "text": [
      "Trial 1/20: Running 500 iterations: 100%|██████████| 500/500 [00:00<00:00, 677.93it/s]\n",
      "Trial 2/20: Running 500 iterations: 100%|██████████| 500/500 [00:00<00:00, 633.83it/s]\n",
      "Trial 3/20: Running 500 iterations: 100%|██████████| 500/500 [00:00<00:00, 673.14it/s]\n",
      "Trial 4/20: Running 500 iterations: 100%|██████████| 500/500 [00:00<00:00, 654.04it/s]\n",
      "Trial 5/20: Running 500 iterations: 100%|██████████| 500/500 [00:00<00:00, 702.45it/s]\n",
      "Trial 6/20: Running 500 iterations: 100%|██████████| 500/500 [00:00<00:00, 704.30it/s]\n",
      "Trial 7/20: Running 500 iterations: 100%|██████████| 500/500 [00:00<00:00, 803.72it/s]\n",
      "Trial 8/20: Running 500 iterations: 100%|██████████| 500/500 [00:00<00:00, 782.68it/s]\n",
      "Trial 9/20: Running 500 iterations: 100%|██████████| 500/500 [00:00<00:00, 812.68it/s]\n",
      "Trial 10/20: Running 500 iterations: 100%|██████████| 500/500 [00:00<00:00, 789.32it/s]\n",
      "Trial 11/20: Running 500 iterations: 100%|██████████| 500/500 [00:00<00:00, 774.91it/s]\n",
      "Trial 12/20: Running 500 iterations: 100%|██████████| 500/500 [00:00<00:00, 798.27it/s]\n",
      "Trial 13/20: Running 500 iterations: 100%|██████████| 500/500 [00:00<00:00, 777.04it/s]\n",
      "Trial 14/20: Running 500 iterations: 100%|██████████| 500/500 [00:00<00:00, 783.99it/s]\n",
      "Trial 15/20: Running 500 iterations: 100%|██████████| 500/500 [00:00<00:00, 784.82it/s]\n",
      "Trial 16/20: Running 500 iterations: 100%|██████████| 500/500 [00:00<00:00, 722.32it/s]\n",
      "Trial 17/20: Running 500 iterations: 100%|██████████| 500/500 [00:00<00:00, 780.78it/s]\n",
      "Trial 18/20: Running 500 iterations: 100%|██████████| 500/500 [00:00<00:00, 807.05it/s]\n",
      "Trial 19/20: Running 500 iterations: 100%|██████████| 500/500 [00:00<00:00, 773.41it/s]\n",
      "Trial 20/20: Running 500 iterations: 100%|██████████| 500/500 [00:00<00:00, 722.95it/s]\n",
      "Unsupported operator aten::max_pool2d encountered 3 time(s)\n",
      "Unsupported operator aten::add encountered 4 time(s)\n"
     ]
    },
    {
     "name": "stdout",
     "output_type": "stream",
     "text": [
      "Processing batch size: 16\n"
     ]
    },
    {
     "name": "stderr",
     "output_type": "stream",
     "text": [
      "Trial 1/20: Running 500 iterations: 100%|██████████| 500/500 [00:00<00:00, 539.51it/s]\n",
      "Trial 2/20: Running 500 iterations: 100%|██████████| 500/500 [00:00<00:00, 535.91it/s]\n",
      "Trial 3/20: Running 500 iterations: 100%|██████████| 500/500 [00:00<00:00, 537.56it/s]\n",
      "Trial 4/20: Running 500 iterations: 100%|██████████| 500/500 [00:00<00:00, 534.96it/s]\n",
      "Trial 5/20: Running 500 iterations: 100%|██████████| 500/500 [00:00<00:00, 536.21it/s]\n",
      "Trial 6/20: Running 500 iterations: 100%|██████████| 500/500 [00:00<00:00, 542.51it/s]\n",
      "Trial 7/20: Running 500 iterations: 100%|██████████| 500/500 [00:00<00:00, 534.21it/s]\n",
      "Trial 8/20: Running 500 iterations: 100%|██████████| 500/500 [00:00<00:00, 542.36it/s]\n",
      "Trial 9/20: Running 500 iterations: 100%|██████████| 500/500 [00:00<00:00, 533.86it/s]\n",
      "Trial 10/20: Running 500 iterations: 100%|██████████| 500/500 [00:00<00:00, 537.64it/s]\n",
      "Trial 11/20: Running 500 iterations: 100%|██████████| 500/500 [00:00<00:00, 534.23it/s]\n",
      "Trial 12/20: Running 500 iterations: 100%|██████████| 500/500 [00:00<00:00, 525.44it/s]\n",
      "Trial 13/20: Running 500 iterations: 100%|██████████| 500/500 [00:00<00:00, 534.52it/s]\n",
      "Trial 14/20: Running 500 iterations: 100%|██████████| 500/500 [00:00<00:00, 533.90it/s]\n",
      "Trial 15/20: Running 500 iterations: 100%|██████████| 500/500 [00:00<00:00, 538.73it/s]\n",
      "Trial 16/20: Running 500 iterations: 100%|██████████| 500/500 [00:00<00:00, 528.87it/s]\n",
      "Trial 17/20: Running 500 iterations: 100%|██████████| 500/500 [00:00<00:00, 542.36it/s]\n",
      "Trial 18/20: Running 500 iterations: 100%|██████████| 500/500 [00:00<00:00, 539.18it/s]\n",
      "Trial 19/20: Running 500 iterations: 100%|██████████| 500/500 [00:00<00:00, 534.24it/s]\n",
      "Trial 20/20: Running 500 iterations: 100%|██████████| 500/500 [00:00<00:00, 536.10it/s]\n",
      "Unsupported operator aten::max_pool2d encountered 3 time(s)\n",
      "Unsupported operator aten::add encountered 4 time(s)\n"
     ]
    },
    {
     "name": "stdout",
     "output_type": "stream",
     "text": [
      "Processing batch size: 32\n"
     ]
    },
    {
     "name": "stderr",
     "output_type": "stream",
     "text": [
      "Trial 1/20: Running 500 iterations: 100%|██████████| 500/500 [00:01<00:00, 315.88it/s]\n",
      "Trial 2/20: Running 500 iterations: 100%|██████████| 500/500 [00:01<00:00, 316.45it/s]\n",
      "Trial 3/20: Running 500 iterations: 100%|██████████| 500/500 [00:01<00:00, 317.59it/s]\n",
      "Trial 4/20: Running 500 iterations: 100%|██████████| 500/500 [00:01<00:00, 317.59it/s]\n",
      "Trial 5/20: Running 500 iterations: 100%|██████████| 500/500 [00:01<00:00, 314.29it/s]\n",
      "Trial 6/20: Running 500 iterations: 100%|██████████| 500/500 [00:01<00:00, 313.51it/s]\n",
      "Trial 7/20: Running 500 iterations: 100%|██████████| 500/500 [00:01<00:00, 315.82it/s]\n",
      "Trial 8/20: Running 500 iterations: 100%|██████████| 500/500 [00:01<00:00, 315.84it/s]\n",
      "Trial 9/20: Running 500 iterations: 100%|██████████| 500/500 [00:01<00:00, 317.49it/s]\n",
      "Trial 10/20: Running 500 iterations: 100%|██████████| 500/500 [00:01<00:00, 317.20it/s]\n",
      "Trial 11/20: Running 500 iterations: 100%|██████████| 500/500 [00:01<00:00, 316.20it/s]\n",
      "Trial 12/20: Running 500 iterations: 100%|██████████| 500/500 [00:01<00:00, 314.33it/s]\n",
      "Trial 13/20: Running 500 iterations: 100%|██████████| 500/500 [00:01<00:00, 311.59it/s]\n",
      "Trial 14/20: Running 500 iterations: 100%|██████████| 500/500 [00:01<00:00, 314.77it/s]\n",
      "Trial 15/20: Running 500 iterations: 100%|██████████| 500/500 [00:01<00:00, 315.14it/s]\n",
      "Trial 16/20: Running 500 iterations: 100%|██████████| 500/500 [00:01<00:00, 318.08it/s]\n",
      "Trial 17/20: Running 500 iterations: 100%|██████████| 500/500 [00:01<00:00, 314.34it/s]\n",
      "Trial 18/20: Running 500 iterations: 100%|██████████| 500/500 [00:01<00:00, 313.91it/s]\n",
      "Trial 19/20: Running 500 iterations: 100%|██████████| 500/500 [00:01<00:00, 311.43it/s]\n",
      "Trial 20/20: Running 500 iterations: 100%|██████████| 500/500 [00:01<00:00, 315.96it/s]\n",
      "Unsupported operator aten::max_pool2d encountered 3 time(s)\n",
      "Unsupported operator aten::add encountered 4 time(s)\n"
     ]
    },
    {
     "name": "stdout",
     "output_type": "stream",
     "text": [
      "Processing batch size: 64\n"
     ]
    },
    {
     "name": "stderr",
     "output_type": "stream",
     "text": [
      "Trial 1/20: Running 500 iterations: 100%|██████████| 500/500 [00:02<00:00, 188.98it/s]\n",
      "Trial 2/20: Running 500 iterations: 100%|██████████| 500/500 [00:02<00:00, 189.93it/s]\n",
      "Trial 3/20: Running 500 iterations: 100%|██████████| 500/500 [00:02<00:00, 188.68it/s]\n",
      "Trial 4/20: Running 500 iterations: 100%|██████████| 500/500 [00:02<00:00, 188.40it/s]\n",
      "Trial 5/20: Running 500 iterations: 100%|██████████| 500/500 [00:02<00:00, 189.14it/s]\n",
      "Trial 6/20: Running 500 iterations: 100%|██████████| 500/500 [00:02<00:00, 188.78it/s]\n",
      "Trial 7/20: Running 500 iterations: 100%|██████████| 500/500 [00:02<00:00, 187.82it/s]\n",
      "Trial 8/20: Running 500 iterations: 100%|██████████| 500/500 [00:02<00:00, 188.70it/s]\n",
      "Trial 9/20: Running 500 iterations: 100%|██████████| 500/500 [00:02<00:00, 189.95it/s]\n",
      "Trial 10/20: Running 500 iterations: 100%|██████████| 500/500 [00:02<00:00, 189.84it/s]\n",
      "Trial 11/20: Running 500 iterations: 100%|██████████| 500/500 [00:02<00:00, 189.30it/s]\n",
      "Trial 12/20: Running 500 iterations: 100%|██████████| 500/500 [00:02<00:00, 188.74it/s]\n",
      "Trial 13/20: Running 500 iterations: 100%|██████████| 500/500 [00:02<00:00, 189.02it/s]\n",
      "Trial 14/20: Running 500 iterations: 100%|██████████| 500/500 [00:02<00:00, 189.02it/s]\n",
      "Trial 15/20: Running 500 iterations: 100%|██████████| 500/500 [00:02<00:00, 188.18it/s]\n",
      "Trial 16/20: Running 500 iterations: 100%|██████████| 500/500 [00:02<00:00, 188.51it/s]\n",
      "Trial 17/20: Running 500 iterations: 100%|██████████| 500/500 [00:02<00:00, 189.63it/s]\n",
      "Trial 18/20: Running 500 iterations: 100%|██████████| 500/500 [00:02<00:00, 189.61it/s]\n",
      "Trial 19/20: Running 500 iterations: 100%|██████████| 500/500 [00:02<00:00, 189.31it/s]\n",
      "Trial 20/20: Running 500 iterations: 100%|██████████| 500/500 [00:02<00:00, 188.05it/s]\n",
      "Processing Models:  91%|█████████ | 60/66 [2:07:56<13:31, 135.19s/it]Unsupported operator aten::max_pool2d encountered 3 time(s)\n",
      "Unsupported operator aten::add encountered 4 time(s)\n"
     ]
    },
    {
     "name": "stdout",
     "output_type": "stream",
     "text": [
      "Processing model: d:\\PruneLimit\\PruneLimitAnalyzer\\models\\AlexNet_DATASET_random_PD5_GPR-45_PRUNED_SEED_23.pth\n",
      "Processing batch size: 1\n"
     ]
    },
    {
     "name": "stderr",
     "output_type": "stream",
     "text": [
      "Trial 1/20: Running 500 iterations: 100%|██████████| 500/500 [00:00<00:00, 863.80it/s]\n",
      "Trial 2/20: Running 500 iterations: 100%|██████████| 500/500 [00:00<00:00, 832.43it/s]\n",
      "Trial 3/20: Running 500 iterations: 100%|██████████| 500/500 [00:00<00:00, 798.38it/s]\n",
      "Trial 4/20: Running 500 iterations: 100%|██████████| 500/500 [00:00<00:00, 801.61it/s]\n",
      "Trial 5/20: Running 500 iterations: 100%|██████████| 500/500 [00:00<00:00, 813.70it/s]\n",
      "Trial 6/20: Running 500 iterations: 100%|██████████| 500/500 [00:00<00:00, 813.38it/s]\n",
      "Trial 7/20: Running 500 iterations: 100%|██████████| 500/500 [00:00<00:00, 870.81it/s]\n",
      "Trial 8/20: Running 500 iterations: 100%|██████████| 500/500 [00:00<00:00, 972.29it/s]\n",
      "Trial 9/20: Running 500 iterations: 100%|██████████| 500/500 [00:00<00:00, 1025.05it/s]\n",
      "Trial 10/20: Running 500 iterations: 100%|██████████| 500/500 [00:00<00:00, 889.10it/s]\n",
      "Trial 11/20: Running 500 iterations: 100%|██████████| 500/500 [00:00<00:00, 1028.52it/s]\n",
      "Trial 12/20: Running 500 iterations: 100%|██████████| 500/500 [00:00<00:00, 977.36it/s]\n",
      "Trial 13/20: Running 500 iterations: 100%|██████████| 500/500 [00:00<00:00, 970.89it/s]\n",
      "Trial 14/20: Running 500 iterations: 100%|██████████| 500/500 [00:00<00:00, 838.53it/s]\n",
      "Trial 15/20: Running 500 iterations: 100%|██████████| 500/500 [00:00<00:00, 959.35it/s]\n",
      "Trial 16/20: Running 500 iterations: 100%|██████████| 500/500 [00:00<00:00, 943.44it/s]\n",
      "Trial 17/20: Running 500 iterations: 100%|██████████| 500/500 [00:00<00:00, 959.94it/s]\n",
      "Trial 18/20: Running 500 iterations: 100%|██████████| 500/500 [00:00<00:00, 999.57it/s]\n",
      "Trial 19/20: Running 500 iterations: 100%|██████████| 500/500 [00:00<00:00, 1008.88it/s]\n",
      "Trial 20/20: Running 500 iterations: 100%|██████████| 500/500 [00:00<00:00, 988.93it/s]\n",
      "Unsupported operator aten::max_pool2d encountered 3 time(s)\n",
      "Unsupported operator aten::add encountered 4 time(s)\n"
     ]
    },
    {
     "name": "stdout",
     "output_type": "stream",
     "text": [
      "Processing batch size: 8\n"
     ]
    },
    {
     "name": "stderr",
     "output_type": "stream",
     "text": [
      "Trial 1/20: Running 500 iterations: 100%|██████████| 500/500 [00:00<00:00, 942.11it/s]\n",
      "Trial 2/20: Running 500 iterations: 100%|██████████| 500/500 [00:00<00:00, 861.68it/s]\n",
      "Trial 3/20: Running 500 iterations: 100%|██████████| 500/500 [00:00<00:00, 738.28it/s]\n",
      "Trial 4/20: Running 500 iterations: 100%|██████████| 500/500 [00:00<00:00, 745.43it/s]\n",
      "Trial 5/20: Running 500 iterations: 100%|██████████| 500/500 [00:00<00:00, 631.20it/s]\n",
      "Trial 6/20: Running 500 iterations: 100%|██████████| 500/500 [00:00<00:00, 611.79it/s]\n",
      "Trial 7/20: Running 500 iterations: 100%|██████████| 500/500 [00:00<00:00, 596.52it/s]\n",
      "Trial 8/20: Running 500 iterations: 100%|██████████| 500/500 [00:00<00:00, 974.36it/s] \n",
      "Trial 9/20: Running 500 iterations: 100%|██████████| 500/500 [00:00<00:00, 872.47it/s]\n",
      "Trial 10/20: Running 500 iterations: 100%|██████████| 500/500 [00:00<00:00, 797.54it/s]\n",
      "Trial 11/20: Running 500 iterations: 100%|██████████| 500/500 [00:00<00:00, 863.52it/s]\n",
      "Trial 12/20: Running 500 iterations: 100%|██████████| 500/500 [00:00<00:00, 920.61it/s]\n",
      "Trial 13/20: Running 500 iterations: 100%|██████████| 500/500 [00:00<00:00, 937.76it/s]\n",
      "Trial 14/20: Running 500 iterations: 100%|██████████| 500/500 [00:00<00:00, 906.13it/s]\n",
      "Trial 15/20: Running 500 iterations: 100%|██████████| 500/500 [00:00<00:00, 844.88it/s]\n",
      "Trial 16/20: Running 500 iterations: 100%|██████████| 500/500 [00:00<00:00, 839.35it/s]\n",
      "Trial 17/20: Running 500 iterations: 100%|██████████| 500/500 [00:00<00:00, 977.41it/s]\n",
      "Trial 18/20: Running 500 iterations: 100%|██████████| 500/500 [00:00<00:00, 964.52it/s]\n",
      "Trial 19/20: Running 500 iterations: 100%|██████████| 500/500 [00:00<00:00, 1043.77it/s]\n",
      "Trial 20/20: Running 500 iterations: 100%|██████████| 500/500 [00:00<00:00, 1060.99it/s]\n",
      "Unsupported operator aten::max_pool2d encountered 3 time(s)\n",
      "Unsupported operator aten::add encountered 4 time(s)\n"
     ]
    },
    {
     "name": "stdout",
     "output_type": "stream",
     "text": [
      "Processing batch size: 16\n"
     ]
    },
    {
     "name": "stderr",
     "output_type": "stream",
     "text": [
      "Trial 1/20: Running 500 iterations: 100%|██████████| 500/500 [00:00<00:00, 900.65it/s]\n",
      "Trial 2/20: Running 500 iterations: 100%|██████████| 500/500 [00:00<00:00, 925.34it/s]\n",
      "Trial 3/20: Running 500 iterations: 100%|██████████| 500/500 [00:00<00:00, 885.08it/s]\n",
      "Trial 4/20: Running 500 iterations: 100%|██████████| 500/500 [00:00<00:00, 822.03it/s]\n",
      "Trial 5/20: Running 500 iterations: 100%|██████████| 500/500 [00:00<00:00, 916.83it/s]\n",
      "Trial 6/20: Running 500 iterations: 100%|██████████| 500/500 [00:00<00:00, 939.24it/s]\n",
      "Trial 7/20: Running 500 iterations: 100%|██████████| 500/500 [00:00<00:00, 930.76it/s]\n",
      "Trial 8/20: Running 500 iterations: 100%|██████████| 500/500 [00:00<00:00, 934.38it/s]\n",
      "Trial 9/20: Running 500 iterations: 100%|██████████| 500/500 [00:00<00:00, 940.24it/s]\n",
      "Trial 10/20: Running 500 iterations: 100%|██████████| 500/500 [00:00<00:00, 925.00it/s]\n",
      "Trial 11/20: Running 500 iterations: 100%|██████████| 500/500 [00:00<00:00, 935.87it/s]\n",
      "Trial 12/20: Running 500 iterations: 100%|██████████| 500/500 [00:00<00:00, 686.60it/s]\n",
      "Trial 13/20: Running 500 iterations: 100%|██████████| 500/500 [00:00<00:00, 649.63it/s]\n",
      "Trial 14/20: Running 500 iterations: 100%|██████████| 500/500 [00:00<00:00, 653.67it/s]\n",
      "Trial 15/20: Running 500 iterations: 100%|██████████| 500/500 [00:00<00:00, 636.29it/s]\n",
      "Trial 16/20: Running 500 iterations: 100%|██████████| 500/500 [00:00<00:00, 767.82it/s]\n",
      "Trial 17/20: Running 500 iterations: 100%|██████████| 500/500 [00:00<00:00, 654.01it/s]\n",
      "Trial 18/20: Running 500 iterations: 100%|██████████| 500/500 [00:00<00:00, 732.46it/s]\n",
      "Trial 19/20: Running 500 iterations: 100%|██████████| 500/500 [00:00<00:00, 769.55it/s]\n",
      "Trial 20/20: Running 500 iterations: 100%|██████████| 500/500 [00:00<00:00, 912.76it/s]\n",
      "Unsupported operator aten::max_pool2d encountered 3 time(s)\n",
      "Unsupported operator aten::add encountered 4 time(s)\n"
     ]
    },
    {
     "name": "stdout",
     "output_type": "stream",
     "text": [
      "Processing batch size: 32\n"
     ]
    },
    {
     "name": "stderr",
     "output_type": "stream",
     "text": [
      "Trial 1/20: Running 500 iterations: 100%|██████████| 500/500 [00:00<00:00, 568.33it/s]\n",
      "Trial 2/20: Running 500 iterations: 100%|██████████| 500/500 [00:00<00:00, 561.23it/s]\n",
      "Trial 3/20: Running 500 iterations: 100%|██████████| 500/500 [00:00<00:00, 568.30it/s]\n",
      "Trial 4/20: Running 500 iterations: 100%|██████████| 500/500 [00:00<00:00, 562.85it/s]\n",
      "Trial 5/20: Running 500 iterations: 100%|██████████| 500/500 [00:00<00:00, 558.94it/s]\n",
      "Trial 6/20: Running 500 iterations: 100%|██████████| 500/500 [00:00<00:00, 572.17it/s]\n",
      "Trial 7/20: Running 500 iterations: 100%|██████████| 500/500 [00:00<00:00, 562.01it/s]\n",
      "Trial 8/20: Running 500 iterations: 100%|██████████| 500/500 [00:00<00:00, 572.52it/s]\n",
      "Trial 9/20: Running 500 iterations: 100%|██████████| 500/500 [00:00<00:00, 569.16it/s]\n",
      "Trial 10/20: Running 500 iterations: 100%|██████████| 500/500 [00:00<00:00, 570.13it/s]\n",
      "Trial 11/20: Running 500 iterations: 100%|██████████| 500/500 [00:00<00:00, 566.73it/s]\n",
      "Trial 12/20: Running 500 iterations: 100%|██████████| 500/500 [00:00<00:00, 571.24it/s]\n",
      "Trial 13/20: Running 500 iterations: 100%|██████████| 500/500 [00:00<00:00, 554.50it/s]\n",
      "Trial 14/20: Running 500 iterations: 100%|██████████| 500/500 [00:00<00:00, 572.42it/s]\n",
      "Trial 15/20: Running 500 iterations: 100%|██████████| 500/500 [00:00<00:00, 563.05it/s]\n",
      "Trial 16/20: Running 500 iterations: 100%|██████████| 500/500 [00:00<00:00, 572.82it/s]\n",
      "Trial 17/20: Running 500 iterations: 100%|██████████| 500/500 [00:00<00:00, 557.52it/s]\n",
      "Trial 18/20: Running 500 iterations: 100%|██████████| 500/500 [00:00<00:00, 566.57it/s]\n",
      "Trial 19/20: Running 500 iterations: 100%|██████████| 500/500 [00:00<00:00, 566.39it/s]\n",
      "Trial 20/20: Running 500 iterations: 100%|██████████| 500/500 [00:00<00:00, 567.04it/s]\n",
      "Unsupported operator aten::max_pool2d encountered 3 time(s)\n",
      "Unsupported operator aten::add encountered 4 time(s)\n"
     ]
    },
    {
     "name": "stdout",
     "output_type": "stream",
     "text": [
      "Processing batch size: 64\n"
     ]
    },
    {
     "name": "stderr",
     "output_type": "stream",
     "text": [
      "Trial 1/20: Running 500 iterations: 100%|██████████| 500/500 [00:01<00:00, 341.91it/s]\n",
      "Trial 2/20: Running 500 iterations: 100%|██████████| 500/500 [00:01<00:00, 338.01it/s]\n",
      "Trial 3/20: Running 500 iterations: 100%|██████████| 500/500 [00:01<00:00, 340.08it/s]\n",
      "Trial 4/20: Running 500 iterations: 100%|██████████| 500/500 [00:01<00:00, 339.98it/s]\n",
      "Trial 5/20: Running 500 iterations: 100%|██████████| 500/500 [00:01<00:00, 343.73it/s]\n",
      "Trial 6/20: Running 500 iterations: 100%|██████████| 500/500 [00:01<00:00, 343.05it/s]\n",
      "Trial 7/20: Running 500 iterations: 100%|██████████| 500/500 [00:01<00:00, 340.65it/s]\n",
      "Trial 8/20: Running 500 iterations: 100%|██████████| 500/500 [00:01<00:00, 341.35it/s]\n",
      "Trial 9/20: Running 500 iterations: 100%|██████████| 500/500 [00:01<00:00, 342.27it/s]\n",
      "Trial 10/20: Running 500 iterations: 100%|██████████| 500/500 [00:01<00:00, 339.21it/s]\n",
      "Trial 11/20: Running 500 iterations: 100%|██████████| 500/500 [00:01<00:00, 341.40it/s]\n",
      "Trial 12/20: Running 500 iterations: 100%|██████████| 500/500 [00:01<00:00, 342.78it/s]\n",
      "Trial 13/20: Running 500 iterations: 100%|██████████| 500/500 [00:01<00:00, 345.08it/s]\n",
      "Trial 14/20: Running 500 iterations: 100%|██████████| 500/500 [00:01<00:00, 344.36it/s]\n",
      "Trial 15/20: Running 500 iterations: 100%|██████████| 500/500 [00:01<00:00, 344.04it/s]\n",
      "Trial 16/20: Running 500 iterations: 100%|██████████| 500/500 [00:01<00:00, 340.88it/s]\n",
      "Trial 17/20: Running 500 iterations: 100%|██████████| 500/500 [00:01<00:00, 340.59it/s]\n",
      "Trial 18/20: Running 500 iterations: 100%|██████████| 500/500 [00:01<00:00, 337.77it/s]\n",
      "Trial 19/20: Running 500 iterations: 100%|██████████| 500/500 [00:01<00:00, 341.58it/s]\n",
      "Trial 20/20: Running 500 iterations: 100%|██████████| 500/500 [00:01<00:00, 343.06it/s]\n",
      "Processing Models:  92%|█████████▏| 61/66 [2:09:37<10:25, 125.08s/it]Unsupported operator aten::max_pool2d encountered 3 time(s)\n",
      "Unsupported operator aten::add encountered 4 time(s)\n"
     ]
    },
    {
     "name": "stdout",
     "output_type": "stream",
     "text": [
      "Processing model: d:\\PruneLimit\\PruneLimitAnalyzer\\models\\AlexNet_DATASET_random_PD2_GPR-55_PRUNED_SEED_23.pth\n",
      "Processing batch size: 1\n"
     ]
    },
    {
     "name": "stderr",
     "output_type": "stream",
     "text": [
      "Trial 1/20: Running 500 iterations: 100%|██████████| 500/500 [00:00<00:00, 995.41it/s]\n",
      "Trial 2/20: Running 500 iterations: 100%|██████████| 500/500 [00:00<00:00, 937.12it/s]\n",
      "Trial 3/20: Running 500 iterations: 100%|██████████| 500/500 [00:00<00:00, 975.59it/s]\n",
      "Trial 4/20: Running 500 iterations: 100%|██████████| 500/500 [00:00<00:00, 1007.75it/s]\n",
      "Trial 5/20: Running 500 iterations: 100%|██████████| 500/500 [00:00<00:00, 973.33it/s]\n",
      "Trial 6/20: Running 500 iterations: 100%|██████████| 500/500 [00:00<00:00, 1029.33it/s]\n",
      "Trial 7/20: Running 500 iterations: 100%|██████████| 500/500 [00:00<00:00, 654.76it/s]\n",
      "Trial 8/20: Running 500 iterations: 100%|██████████| 500/500 [00:00<00:00, 693.87it/s]\n",
      "Trial 9/20: Running 500 iterations: 100%|██████████| 500/500 [00:00<00:00, 603.28it/s]\n",
      "Trial 10/20: Running 500 iterations: 100%|██████████| 500/500 [00:00<00:00, 646.59it/s]\n",
      "Trial 11/20: Running 500 iterations: 100%|██████████| 500/500 [00:00<00:00, 610.52it/s]\n",
      "Trial 12/20: Running 500 iterations: 100%|██████████| 500/500 [00:00<00:00, 697.05it/s]\n",
      "Trial 13/20: Running 500 iterations: 100%|██████████| 500/500 [00:00<00:00, 688.33it/s]\n",
      "Trial 14/20: Running 500 iterations: 100%|██████████| 500/500 [00:00<00:00, 973.37it/s]\n",
      "Trial 15/20: Running 500 iterations: 100%|██████████| 500/500 [00:00<00:00, 943.18it/s]\n",
      "Trial 16/20: Running 500 iterations: 100%|██████████| 500/500 [00:00<00:00, 927.51it/s]\n",
      "Trial 17/20: Running 500 iterations: 100%|██████████| 500/500 [00:00<00:00, 843.64it/s]\n",
      "Trial 18/20: Running 500 iterations: 100%|██████████| 500/500 [00:00<00:00, 960.78it/s]\n",
      "Trial 19/20: Running 500 iterations: 100%|██████████| 500/500 [00:00<00:00, 991.09it/s]\n",
      "Trial 20/20: Running 500 iterations: 100%|██████████| 500/500 [00:00<00:00, 943.77it/s]\n",
      "Unsupported operator aten::max_pool2d encountered 3 time(s)\n",
      "Unsupported operator aten::add encountered 4 time(s)\n"
     ]
    },
    {
     "name": "stdout",
     "output_type": "stream",
     "text": [
      "Processing batch size: 8\n"
     ]
    },
    {
     "name": "stderr",
     "output_type": "stream",
     "text": [
      "Trial 1/20: Running 500 iterations: 100%|██████████| 500/500 [00:00<00:00, 878.97it/s]\n",
      "Trial 2/20: Running 500 iterations: 100%|██████████| 500/500 [00:00<00:00, 1004.72it/s]\n",
      "Trial 3/20: Running 500 iterations: 100%|██████████| 500/500 [00:00<00:00, 980.26it/s]\n",
      "Trial 4/20: Running 500 iterations: 100%|██████████| 500/500 [00:00<00:00, 940.15it/s]\n",
      "Trial 5/20: Running 500 iterations: 100%|██████████| 500/500 [00:00<00:00, 1025.15it/s]\n",
      "Trial 6/20: Running 500 iterations: 100%|██████████| 500/500 [00:00<00:00, 996.44it/s]\n",
      "Trial 7/20: Running 500 iterations: 100%|██████████| 500/500 [00:00<00:00, 966.31it/s]\n",
      "Trial 8/20: Running 500 iterations: 100%|██████████| 500/500 [00:00<00:00, 985.86it/s]\n",
      "Trial 9/20: Running 500 iterations: 100%|██████████| 500/500 [00:00<00:00, 966.33it/s] \n",
      "Trial 10/20: Running 500 iterations: 100%|██████████| 500/500 [00:00<00:00, 1004.38it/s]\n",
      "Trial 11/20: Running 500 iterations: 100%|██████████| 500/500 [00:00<00:00, 937.55it/s]\n",
      "Trial 12/20: Running 500 iterations: 100%|██████████| 500/500 [00:00<00:00, 960.66it/s]\n",
      "Trial 13/20: Running 500 iterations: 100%|██████████| 500/500 [00:00<00:00, 934.00it/s]\n",
      "Trial 14/20: Running 500 iterations: 100%|██████████| 500/500 [00:00<00:00, 1034.14it/s]\n",
      "Trial 15/20: Running 500 iterations: 100%|██████████| 500/500 [00:00<00:00, 1005.12it/s]\n",
      "Trial 16/20: Running 500 iterations: 100%|██████████| 500/500 [00:00<00:00, 737.76it/s]\n",
      "Trial 17/20: Running 500 iterations: 100%|██████████| 500/500 [00:00<00:00, 638.73it/s]\n",
      "Trial 18/20: Running 500 iterations: 100%|██████████| 500/500 [00:00<00:00, 665.49it/s]\n",
      "Trial 19/20: Running 500 iterations: 100%|██████████| 500/500 [00:00<00:00, 697.80it/s]\n",
      "Trial 20/20: Running 500 iterations: 100%|██████████| 500/500 [00:00<00:00, 665.90it/s]\n",
      "Unsupported operator aten::max_pool2d encountered 3 time(s)\n",
      "Unsupported operator aten::add encountered 4 time(s)\n"
     ]
    },
    {
     "name": "stdout",
     "output_type": "stream",
     "text": [
      "Processing batch size: 16\n"
     ]
    },
    {
     "name": "stderr",
     "output_type": "stream",
     "text": [
      "Trial 1/20: Running 500 iterations: 100%|██████████| 500/500 [00:00<00:00, 872.81it/s]\n",
      "Trial 2/20: Running 500 iterations: 100%|██████████| 500/500 [00:00<00:00, 619.09it/s]\n",
      "Trial 3/20: Running 500 iterations: 100%|██████████| 500/500 [00:00<00:00, 995.16it/s] \n",
      "Trial 4/20: Running 500 iterations: 100%|██████████| 500/500 [00:00<00:00, 943.51it/s]\n",
      "Trial 5/20: Running 500 iterations: 100%|██████████| 500/500 [00:00<00:00, 1034.42it/s]\n",
      "Trial 6/20: Running 500 iterations: 100%|██████████| 500/500 [00:00<00:00, 929.01it/s]\n",
      "Trial 7/20: Running 500 iterations: 100%|██████████| 500/500 [00:00<00:00, 968.92it/s]\n",
      "Trial 8/20: Running 500 iterations: 100%|██████████| 500/500 [00:00<00:00, 962.91it/s]\n",
      "Trial 9/20: Running 500 iterations: 100%|██████████| 500/500 [00:00<00:00, 973.60it/s]\n",
      "Trial 10/20: Running 500 iterations: 100%|██████████| 500/500 [00:00<00:00, 1097.56it/s]\n",
      "Trial 11/20: Running 500 iterations: 100%|██████████| 500/500 [00:00<00:00, 954.77it/s]\n",
      "Trial 12/20: Running 500 iterations: 100%|██████████| 500/500 [00:00<00:00, 1091.35it/s]\n",
      "Trial 13/20: Running 500 iterations: 100%|██████████| 500/500 [00:00<00:00, 1060.76it/s]\n",
      "Trial 14/20: Running 500 iterations: 100%|██████████| 500/500 [00:00<00:00, 1142.91it/s]\n",
      "Trial 15/20: Running 500 iterations: 100%|██████████| 500/500 [00:00<00:00, 939.26it/s]\n",
      "Trial 16/20: Running 500 iterations: 100%|██████████| 500/500 [00:00<00:00, 969.15it/s]\n",
      "Trial 17/20: Running 500 iterations: 100%|██████████| 500/500 [00:00<00:00, 1035.50it/s]\n",
      "Trial 18/20: Running 500 iterations: 100%|██████████| 500/500 [00:00<00:00, 986.97it/s]\n",
      "Trial 19/20: Running 500 iterations: 100%|██████████| 500/500 [00:00<00:00, 1079.27it/s]\n",
      "Trial 20/20: Running 500 iterations: 100%|██████████| 500/500 [00:00<00:00, 1138.18it/s]\n",
      "Unsupported operator aten::max_pool2d encountered 3 time(s)\n",
      "Unsupported operator aten::add encountered 4 time(s)\n"
     ]
    },
    {
     "name": "stdout",
     "output_type": "stream",
     "text": [
      "Processing batch size: 32\n"
     ]
    },
    {
     "name": "stderr",
     "output_type": "stream",
     "text": [
      "Trial 1/20: Running 500 iterations: 100%|██████████| 500/500 [00:00<00:00, 710.26it/s]\n",
      "Trial 2/20: Running 500 iterations: 100%|██████████| 500/500 [00:00<00:00, 696.78it/s]\n",
      "Trial 3/20: Running 500 iterations: 100%|██████████| 500/500 [00:00<00:00, 711.67it/s]\n",
      "Trial 4/20: Running 500 iterations: 100%|██████████| 500/500 [00:00<00:00, 723.25it/s]\n",
      "Trial 5/20: Running 500 iterations: 100%|██████████| 500/500 [00:00<00:00, 710.41it/s]\n",
      "Trial 6/20: Running 500 iterations: 100%|██████████| 500/500 [00:00<00:00, 711.59it/s]\n",
      "Trial 7/20: Running 500 iterations: 100%|██████████| 500/500 [00:00<00:00, 714.05it/s]\n",
      "Trial 8/20: Running 500 iterations: 100%|██████████| 500/500 [00:00<00:00, 696.70it/s]\n",
      "Trial 9/20: Running 500 iterations: 100%|██████████| 500/500 [00:00<00:00, 714.36it/s]\n",
      "Trial 10/20: Running 500 iterations: 100%|██████████| 500/500 [00:00<00:00, 698.45it/s]\n",
      "Trial 11/20: Running 500 iterations: 100%|██████████| 500/500 [00:00<00:00, 700.78it/s]\n",
      "Trial 12/20: Running 500 iterations: 100%|██████████| 500/500 [00:00<00:00, 705.76it/s]\n",
      "Trial 13/20: Running 500 iterations: 100%|██████████| 500/500 [00:00<00:00, 698.51it/s]\n",
      "Trial 14/20: Running 500 iterations: 100%|██████████| 500/500 [00:00<00:00, 702.27it/s]\n",
      "Trial 15/20: Running 500 iterations: 100%|██████████| 500/500 [00:00<00:00, 713.82it/s]\n",
      "Trial 16/20: Running 500 iterations: 100%|██████████| 500/500 [00:00<00:00, 728.25it/s]\n",
      "Trial 17/20: Running 500 iterations: 100%|██████████| 500/500 [00:00<00:00, 714.28it/s]\n",
      "Trial 18/20: Running 500 iterations: 100%|██████████| 500/500 [00:00<00:00, 696.83it/s]\n",
      "Trial 19/20: Running 500 iterations: 100%|██████████| 500/500 [00:00<00:00, 712.74it/s]\n",
      "Trial 20/20: Running 500 iterations: 100%|██████████| 500/500 [00:00<00:00, 703.81it/s]\n",
      "Unsupported operator aten::max_pool2d encountered 3 time(s)\n",
      "Unsupported operator aten::add encountered 4 time(s)\n"
     ]
    },
    {
     "name": "stdout",
     "output_type": "stream",
     "text": [
      "Processing batch size: 64\n"
     ]
    },
    {
     "name": "stderr",
     "output_type": "stream",
     "text": [
      "Trial 1/20: Running 500 iterations: 100%|██████████| 500/500 [00:01<00:00, 422.11it/s]\n",
      "Trial 2/20: Running 500 iterations: 100%|██████████| 500/500 [00:01<00:00, 430.28it/s]\n",
      "Trial 3/20: Running 500 iterations: 100%|██████████| 500/500 [00:01<00:00, 428.05it/s]\n",
      "Trial 4/20: Running 500 iterations: 100%|██████████| 500/500 [00:01<00:00, 428.47it/s]\n",
      "Trial 5/20: Running 500 iterations: 100%|██████████| 500/500 [00:01<00:00, 429.36it/s]\n",
      "Trial 6/20: Running 500 iterations: 100%|██████████| 500/500 [00:01<00:00, 427.23it/s]\n",
      "Trial 7/20: Running 500 iterations: 100%|██████████| 500/500 [00:01<00:00, 425.62it/s]\n",
      "Trial 8/20: Running 500 iterations: 100%|██████████| 500/500 [00:01<00:00, 428.11it/s]\n",
      "Trial 9/20: Running 500 iterations: 100%|██████████| 500/500 [00:01<00:00, 426.94it/s]\n",
      "Trial 10/20: Running 500 iterations: 100%|██████████| 500/500 [00:01<00:00, 422.21it/s]\n",
      "Trial 11/20: Running 500 iterations: 100%|██████████| 500/500 [00:01<00:00, 427.07it/s]\n",
      "Trial 12/20: Running 500 iterations: 100%|██████████| 500/500 [00:01<00:00, 427.46it/s]\n",
      "Trial 13/20: Running 500 iterations: 100%|██████████| 500/500 [00:01<00:00, 425.41it/s]\n",
      "Trial 14/20: Running 500 iterations: 100%|██████████| 500/500 [00:01<00:00, 424.75it/s]\n",
      "Trial 15/20: Running 500 iterations: 100%|██████████| 500/500 [00:01<00:00, 426.31it/s]\n",
      "Trial 16/20: Running 500 iterations: 100%|██████████| 500/500 [00:01<00:00, 425.39it/s]\n",
      "Trial 17/20: Running 500 iterations: 100%|██████████| 500/500 [00:01<00:00, 425.65it/s]\n",
      "Trial 18/20: Running 500 iterations: 100%|██████████| 500/500 [00:01<00:00, 430.18it/s]\n",
      "Trial 19/20: Running 500 iterations: 100%|██████████| 500/500 [00:01<00:00, 428.81it/s]\n",
      "Trial 20/20: Running 500 iterations: 100%|██████████| 500/500 [00:01<00:00, 430.52it/s]\n",
      "Processing Models:  94%|█████████▍| 62/66 [2:11:06<07:36, 114.04s/it]Unsupported operator aten::max_pool2d encountered 3 time(s)\n",
      "Unsupported operator aten::add encountered 4 time(s)\n"
     ]
    },
    {
     "name": "stdout",
     "output_type": "stream",
     "text": [
      "Processing model: d:\\PruneLimit\\PruneLimitAnalyzer\\models\\AlexNet_DATASET_random_PD2_GPR-65_PRUNED_SEED_23.pth\n",
      "Processing batch size: 1\n"
     ]
    },
    {
     "name": "stderr",
     "output_type": "stream",
     "text": [
      "Trial 1/20: Running 500 iterations: 100%|██████████| 500/500 [00:00<00:00, 764.18it/s]\n",
      "Trial 2/20: Running 500 iterations: 100%|██████████| 500/500 [00:00<00:00, 839.39it/s]\n",
      "Trial 3/20: Running 500 iterations: 100%|██████████| 500/500 [00:00<00:00, 778.33it/s]\n",
      "Trial 4/20: Running 500 iterations: 100%|██████████| 500/500 [00:00<00:00, 899.04it/s]\n",
      "Trial 5/20: Running 500 iterations: 100%|██████████| 500/500 [00:00<00:00, 769.65it/s]\n",
      "Trial 6/20: Running 500 iterations: 100%|██████████| 500/500 [00:00<00:00, 793.25it/s]\n",
      "Trial 7/20: Running 500 iterations: 100%|██████████| 500/500 [00:00<00:00, 800.95it/s]\n",
      "Trial 8/20: Running 500 iterations: 100%|██████████| 500/500 [00:00<00:00, 944.12it/s]\n",
      "Trial 9/20: Running 500 iterations: 100%|██████████| 500/500 [00:00<00:00, 965.57it/s]\n",
      "Trial 10/20: Running 500 iterations: 100%|██████████| 500/500 [00:00<00:00, 989.34it/s]\n",
      "Trial 11/20: Running 500 iterations: 100%|██████████| 500/500 [00:00<00:00, 931.61it/s]\n",
      "Trial 12/20: Running 500 iterations: 100%|██████████| 500/500 [00:00<00:00, 970.36it/s]\n",
      "Trial 13/20: Running 500 iterations: 100%|██████████| 500/500 [00:00<00:00, 977.86it/s]\n",
      "Trial 14/20: Running 500 iterations: 100%|██████████| 500/500 [00:00<00:00, 970.34it/s]\n",
      "Trial 15/20: Running 500 iterations: 100%|██████████| 500/500 [00:00<00:00, 988.85it/s]\n",
      "Trial 16/20: Running 500 iterations: 100%|██████████| 500/500 [00:00<00:00, 914.91it/s]\n",
      "Trial 17/20: Running 500 iterations: 100%|██████████| 500/500 [00:00<00:00, 972.67it/s]\n",
      "Trial 18/20: Running 500 iterations: 100%|██████████| 500/500 [00:00<00:00, 843.38it/s]\n",
      "Trial 19/20: Running 500 iterations: 100%|██████████| 500/500 [00:00<00:00, 899.27it/s]\n",
      "Trial 20/20: Running 500 iterations: 100%|██████████| 500/500 [00:00<00:00, 932.48it/s]\n",
      "Unsupported operator aten::max_pool2d encountered 3 time(s)\n",
      "Unsupported operator aten::add encountered 4 time(s)\n"
     ]
    },
    {
     "name": "stdout",
     "output_type": "stream",
     "text": [
      "Processing batch size: 8\n"
     ]
    },
    {
     "name": "stderr",
     "output_type": "stream",
     "text": [
      "Trial 1/20: Running 500 iterations: 100%|██████████| 500/500 [00:00<00:00, 1008.42it/s]\n",
      "Trial 2/20: Running 500 iterations: 100%|██████████| 500/500 [00:00<00:00, 865.31it/s]\n",
      "Trial 3/20: Running 500 iterations: 100%|██████████| 500/500 [00:00<00:00, 921.88it/s] \n",
      "Trial 4/20: Running 500 iterations: 100%|██████████| 500/500 [00:00<00:00, 852.72it/s]\n",
      "Trial 5/20: Running 500 iterations: 100%|██████████| 500/500 [00:00<00:00, 794.35it/s]\n",
      "Trial 6/20: Running 500 iterations: 100%|██████████| 500/500 [00:00<00:00, 818.91it/s]\n",
      "Trial 7/20: Running 500 iterations: 100%|██████████| 500/500 [00:00<00:00, 797.32it/s]\n",
      "Trial 8/20: Running 500 iterations: 100%|██████████| 500/500 [00:00<00:00, 860.45it/s]\n",
      "Trial 9/20: Running 500 iterations: 100%|██████████| 500/500 [00:00<00:00, 818.61it/s]\n",
      "Trial 10/20: Running 500 iterations: 100%|██████████| 500/500 [00:00<00:00, 886.52it/s]\n",
      "Trial 11/20: Running 500 iterations: 100%|██████████| 500/500 [00:00<00:00, 896.27it/s]\n",
      "Trial 12/20: Running 500 iterations: 100%|██████████| 500/500 [00:00<00:00, 885.67it/s]\n",
      "Trial 13/20: Running 500 iterations: 100%|██████████| 500/500 [00:00<00:00, 937.08it/s]\n",
      "Trial 14/20: Running 500 iterations: 100%|██████████| 500/500 [00:00<00:00, 899.24it/s]\n",
      "Trial 15/20: Running 500 iterations: 100%|██████████| 500/500 [00:00<00:00, 879.57it/s]\n",
      "Trial 16/20: Running 500 iterations: 100%|██████████| 500/500 [00:00<00:00, 821.90it/s]\n",
      "Trial 17/20: Running 500 iterations: 100%|██████████| 500/500 [00:00<00:00, 1061.56it/s]\n",
      "Trial 18/20: Running 500 iterations: 100%|██████████| 500/500 [00:00<00:00, 926.94it/s]\n",
      "Trial 19/20: Running 500 iterations: 100%|██████████| 500/500 [00:00<00:00, 995.71it/s] \n",
      "Trial 20/20: Running 500 iterations: 100%|██████████| 500/500 [00:00<00:00, 1021.21it/s]\n",
      "Unsupported operator aten::max_pool2d encountered 3 time(s)\n",
      "Unsupported operator aten::add encountered 4 time(s)\n"
     ]
    },
    {
     "name": "stdout",
     "output_type": "stream",
     "text": [
      "Processing batch size: 16\n"
     ]
    },
    {
     "name": "stderr",
     "output_type": "stream",
     "text": [
      "Trial 1/20: Running 500 iterations: 100%|██████████| 500/500 [00:00<00:00, 1012.65it/s]\n",
      "Trial 2/20: Running 500 iterations: 100%|██████████| 500/500 [00:00<00:00, 1038.24it/s]\n",
      "Trial 3/20: Running 500 iterations: 100%|██████████| 500/500 [00:00<00:00, 1025.86it/s]\n",
      "Trial 4/20: Running 500 iterations: 100%|██████████| 500/500 [00:00<00:00, 1062.29it/s]\n",
      "Trial 5/20: Running 500 iterations: 100%|██████████| 500/500 [00:00<00:00, 1060.64it/s]\n",
      "Trial 6/20: Running 500 iterations: 100%|██████████| 500/500 [00:00<00:00, 1008.13it/s]\n",
      "Trial 7/20: Running 500 iterations: 100%|██████████| 500/500 [00:00<00:00, 983.02it/s] \n",
      "Trial 8/20: Running 500 iterations: 100%|██████████| 500/500 [00:00<00:00, 1060.67it/s]\n",
      "Trial 9/20: Running 500 iterations: 100%|██████████| 500/500 [00:00<00:00, 1005.83it/s]\n",
      "Trial 10/20: Running 500 iterations: 100%|██████████| 500/500 [00:00<00:00, 1061.22it/s]\n",
      "Trial 11/20: Running 500 iterations: 100%|██████████| 500/500 [00:00<00:00, 1081.57it/s]\n",
      "Trial 12/20: Running 500 iterations: 100%|██████████| 500/500 [00:00<00:00, 738.79it/s]\n",
      "Trial 13/20: Running 500 iterations: 100%|██████████| 500/500 [00:00<00:00, 818.55it/s]\n",
      "Trial 14/20: Running 500 iterations: 100%|██████████| 500/500 [00:00<00:00, 784.89it/s]\n",
      "Trial 15/20: Running 500 iterations: 100%|██████████| 500/500 [00:00<00:00, 740.00it/s]\n",
      "Trial 16/20: Running 500 iterations: 100%|██████████| 500/500 [00:00<00:00, 726.16it/s]\n",
      "Trial 17/20: Running 500 iterations: 100%|██████████| 500/500 [00:00<00:00, 664.65it/s]\n",
      "Trial 18/20: Running 500 iterations: 100%|██████████| 500/500 [00:00<00:00, 888.77it/s]\n",
      "Trial 19/20: Running 500 iterations: 100%|██████████| 500/500 [00:00<00:00, 865.63it/s]\n",
      "Trial 20/20: Running 500 iterations: 100%|██████████| 500/500 [00:00<00:00, 980.13it/s] \n",
      "Unsupported operator aten::max_pool2d encountered 3 time(s)\n",
      "Unsupported operator aten::add encountered 4 time(s)\n"
     ]
    },
    {
     "name": "stdout",
     "output_type": "stream",
     "text": [
      "Processing batch size: 32\n"
     ]
    },
    {
     "name": "stderr",
     "output_type": "stream",
     "text": [
      "Trial 1/20: Running 500 iterations: 100%|██████████| 500/500 [00:00<00:00, 781.90it/s]\n",
      "Trial 2/20: Running 500 iterations: 100%|██████████| 500/500 [00:00<00:00, 776.51it/s]\n",
      "Trial 3/20: Running 500 iterations: 100%|██████████| 500/500 [00:00<00:00, 764.59it/s]\n",
      "Trial 4/20: Running 500 iterations: 100%|██████████| 500/500 [00:00<00:00, 764.29it/s]\n",
      "Trial 5/20: Running 500 iterations: 100%|██████████| 500/500 [00:00<00:00, 781.84it/s]\n",
      "Trial 6/20: Running 500 iterations: 100%|██████████| 500/500 [00:00<00:00, 773.02it/s]\n",
      "Trial 7/20: Running 500 iterations: 100%|██████████| 500/500 [00:00<00:00, 764.02it/s]\n",
      "Trial 8/20: Running 500 iterations: 100%|██████████| 500/500 [00:00<00:00, 732.76it/s]\n",
      "Trial 9/20: Running 500 iterations: 100%|██████████| 500/500 [00:00<00:00, 760.36it/s]\n",
      "Trial 10/20: Running 500 iterations: 100%|██████████| 500/500 [00:00<00:00, 772.95it/s]\n",
      "Trial 11/20: Running 500 iterations: 100%|██████████| 500/500 [00:00<00:00, 783.03it/s]\n",
      "Trial 12/20: Running 500 iterations: 100%|██████████| 500/500 [00:00<00:00, 764.89it/s]\n",
      "Trial 13/20: Running 500 iterations: 100%|██████████| 500/500 [00:00<00:00, 752.79it/s]\n",
      "Trial 14/20: Running 500 iterations: 100%|██████████| 500/500 [00:00<00:00, 762.76it/s]\n",
      "Trial 15/20: Running 500 iterations: 100%|██████████| 500/500 [00:00<00:00, 769.37it/s]\n",
      "Trial 16/20: Running 500 iterations: 100%|██████████| 500/500 [00:00<00:00, 764.55it/s]\n",
      "Trial 17/20: Running 500 iterations: 100%|██████████| 500/500 [00:00<00:00, 763.24it/s]\n",
      "Trial 18/20: Running 500 iterations: 100%|██████████| 500/500 [00:00<00:00, 780.07it/s]\n",
      "Trial 19/20: Running 500 iterations: 100%|██████████| 500/500 [00:00<00:00, 764.20it/s]\n",
      "Trial 20/20: Running 500 iterations: 100%|██████████| 500/500 [00:00<00:00, 762.60it/s]\n",
      "Unsupported operator aten::max_pool2d encountered 3 time(s)\n",
      "Unsupported operator aten::add encountered 4 time(s)\n"
     ]
    },
    {
     "name": "stdout",
     "output_type": "stream",
     "text": [
      "Processing batch size: 64\n"
     ]
    },
    {
     "name": "stderr",
     "output_type": "stream",
     "text": [
      "Trial 1/20: Running 500 iterations: 100%|██████████| 500/500 [00:00<00:00, 507.39it/s]\n",
      "Trial 2/20: Running 500 iterations: 100%|██████████| 500/500 [00:00<00:00, 505.71it/s]\n",
      "Trial 3/20: Running 500 iterations: 100%|██████████| 500/500 [00:00<00:00, 515.77it/s]\n",
      "Trial 4/20: Running 500 iterations: 100%|██████████| 500/500 [00:00<00:00, 509.45it/s]\n",
      "Trial 5/20: Running 500 iterations: 100%|██████████| 500/500 [00:00<00:00, 511.99it/s]\n",
      "Trial 6/20: Running 500 iterations: 100%|██████████| 500/500 [00:00<00:00, 514.93it/s]\n",
      "Trial 7/20: Running 500 iterations: 100%|██████████| 500/500 [00:00<00:00, 514.20it/s]\n",
      "Trial 8/20: Running 500 iterations: 100%|██████████| 500/500 [00:00<00:00, 519.72it/s]\n",
      "Trial 9/20: Running 500 iterations: 100%|██████████| 500/500 [00:00<00:00, 511.11it/s]\n",
      "Trial 10/20: Running 500 iterations: 100%|██████████| 500/500 [00:00<00:00, 509.58it/s]\n",
      "Trial 11/20: Running 500 iterations: 100%|██████████| 500/500 [00:00<00:00, 516.81it/s]\n",
      "Trial 12/20: Running 500 iterations: 100%|██████████| 500/500 [00:00<00:00, 510.60it/s]\n",
      "Trial 13/20: Running 500 iterations: 100%|██████████| 500/500 [00:00<00:00, 512.49it/s]\n",
      "Trial 14/20: Running 500 iterations: 100%|██████████| 500/500 [00:00<00:00, 519.23it/s]\n",
      "Trial 15/20: Running 500 iterations: 100%|██████████| 500/500 [00:00<00:00, 505.27it/s]\n",
      "Trial 16/20: Running 500 iterations: 100%|██████████| 500/500 [00:00<00:00, 513.70it/s]\n",
      "Trial 17/20: Running 500 iterations: 100%|██████████| 500/500 [00:00<00:00, 509.53it/s]\n",
      "Trial 18/20: Running 500 iterations: 100%|██████████| 500/500 [00:00<00:00, 512.53it/s]\n",
      "Trial 19/20: Running 500 iterations: 100%|██████████| 500/500 [00:00<00:00, 516.50it/s]\n",
      "Trial 20/20: Running 500 iterations: 100%|██████████| 500/500 [00:00<00:00, 512.01it/s]\n",
      "Processing Models:  95%|█████████▌| 63/66 [2:12:27<05:12, 104.23s/it]Unsupported operator aten::max_pool2d encountered 3 time(s)\n",
      "Unsupported operator aten::add encountered 4 time(s)\n"
     ]
    },
    {
     "name": "stdout",
     "output_type": "stream",
     "text": [
      "Processing model: d:\\PruneLimit\\PruneLimitAnalyzer\\models\\AlexNet_DATASET_random_PD2_GPR-40_PRUNED_SEED_23.pth\n",
      "Processing batch size: 1\n"
     ]
    },
    {
     "name": "stderr",
     "output_type": "stream",
     "text": [
      "Trial 1/20: Running 500 iterations: 100%|██████████| 500/500 [00:00<00:00, 1039.38it/s]\n",
      "Trial 2/20: Running 500 iterations: 100%|██████████| 500/500 [00:00<00:00, 989.31it/s]\n",
      "Trial 3/20: Running 500 iterations: 100%|██████████| 500/500 [00:00<00:00, 997.37it/s]\n",
      "Trial 4/20: Running 500 iterations: 100%|██████████| 500/500 [00:00<00:00, 1015.18it/s]\n",
      "Trial 5/20: Running 500 iterations: 100%|██████████| 500/500 [00:00<00:00, 914.50it/s]\n",
      "Trial 6/20: Running 500 iterations: 100%|██████████| 500/500 [00:00<00:00, 977.50it/s]\n",
      "Trial 7/20: Running 500 iterations: 100%|██████████| 500/500 [00:00<00:00, 1033.49it/s]\n",
      "Trial 8/20: Running 500 iterations: 100%|██████████| 500/500 [00:00<00:00, 917.39it/s]\n",
      "Trial 9/20: Running 500 iterations: 100%|██████████| 500/500 [00:00<00:00, 824.96it/s]\n",
      "Trial 10/20: Running 500 iterations: 100%|██████████| 500/500 [00:00<00:00, 804.81it/s]\n",
      "Trial 11/20: Running 500 iterations: 100%|██████████| 500/500 [00:00<00:00, 624.91it/s]\n",
      "Trial 12/20: Running 500 iterations: 100%|██████████| 500/500 [00:00<00:00, 587.68it/s]\n",
      "Trial 13/20: Running 500 iterations: 100%|██████████| 500/500 [00:00<00:00, 693.00it/s]\n",
      "Trial 14/20: Running 500 iterations: 100%|██████████| 500/500 [00:00<00:00, 733.93it/s]\n",
      "Trial 15/20: Running 500 iterations: 100%|██████████| 500/500 [00:00<00:00, 574.31it/s]\n",
      "Trial 16/20: Running 500 iterations: 100%|██████████| 500/500 [00:00<00:00, 685.09it/s]\n",
      "Trial 17/20: Running 500 iterations: 100%|██████████| 500/500 [00:00<00:00, 826.40it/s]\n",
      "Trial 18/20: Running 500 iterations: 100%|██████████| 500/500 [00:00<00:00, 783.38it/s]\n",
      "Trial 19/20: Running 500 iterations: 100%|██████████| 500/500 [00:00<00:00, 832.57it/s]\n",
      "Trial 20/20: Running 500 iterations: 100%|██████████| 500/500 [00:00<00:00, 819.91it/s]\n",
      "Unsupported operator aten::max_pool2d encountered 3 time(s)\n",
      "Unsupported operator aten::add encountered 4 time(s)\n"
     ]
    },
    {
     "name": "stdout",
     "output_type": "stream",
     "text": [
      "Processing batch size: 8\n"
     ]
    },
    {
     "name": "stderr",
     "output_type": "stream",
     "text": [
      "Trial 1/20: Running 500 iterations: 100%|██████████| 500/500 [00:00<00:00, 866.27it/s]\n",
      "Trial 2/20: Running 500 iterations: 100%|██████████| 500/500 [00:00<00:00, 858.45it/s]\n",
      "Trial 3/20: Running 500 iterations: 100%|██████████| 500/500 [00:00<00:00, 813.99it/s]\n",
      "Trial 4/20: Running 500 iterations: 100%|██████████| 500/500 [00:00<00:00, 954.09it/s]\n",
      "Trial 5/20: Running 500 iterations: 100%|██████████| 500/500 [00:00<00:00, 953.73it/s]\n",
      "Trial 6/20: Running 500 iterations: 100%|██████████| 500/500 [00:00<00:00, 972.53it/s]\n",
      "Trial 7/20: Running 500 iterations: 100%|██████████| 500/500 [00:00<00:00, 916.69it/s]\n",
      "Trial 8/20: Running 500 iterations: 100%|██████████| 500/500 [00:00<00:00, 953.63it/s]\n",
      "Trial 9/20: Running 500 iterations: 100%|██████████| 500/500 [00:00<00:00, 969.86it/s]\n",
      "Trial 10/20: Running 500 iterations: 100%|██████████| 500/500 [00:00<00:00, 890.89it/s]\n",
      "Trial 11/20: Running 500 iterations: 100%|██████████| 500/500 [00:00<00:00, 914.88it/s]\n",
      "Trial 12/20: Running 500 iterations: 100%|██████████| 500/500 [00:00<00:00, 970.98it/s]\n",
      "Trial 13/20: Running 500 iterations: 100%|██████████| 500/500 [00:00<00:00, 925.26it/s]\n",
      "Trial 14/20: Running 500 iterations: 100%|██████████| 500/500 [00:00<00:00, 917.97it/s]\n",
      "Trial 15/20: Running 500 iterations: 100%|██████████| 500/500 [00:00<00:00, 911.92it/s]\n",
      "Trial 16/20: Running 500 iterations: 100%|██████████| 500/500 [00:00<00:00, 954.41it/s]\n",
      "Trial 17/20: Running 500 iterations: 100%|██████████| 500/500 [00:00<00:00, 751.41it/s]\n",
      "Trial 18/20: Running 500 iterations: 100%|██████████| 500/500 [00:00<00:00, 655.02it/s]\n",
      "Trial 19/20: Running 500 iterations: 100%|██████████| 500/500 [00:00<00:00, 786.30it/s]\n",
      "Trial 20/20: Running 500 iterations: 100%|██████████| 500/500 [00:00<00:00, 844.33it/s]\n",
      "Unsupported operator aten::max_pool2d encountered 3 time(s)\n",
      "Unsupported operator aten::add encountered 4 time(s)\n"
     ]
    },
    {
     "name": "stdout",
     "output_type": "stream",
     "text": [
      "Processing batch size: 16\n"
     ]
    },
    {
     "name": "stderr",
     "output_type": "stream",
     "text": [
      "Trial 1/20: Running 500 iterations: 100%|██████████| 500/500 [00:00<00:00, 810.78it/s]\n",
      "Trial 2/20: Running 500 iterations: 100%|██████████| 500/500 [00:00<00:00, 702.30it/s]\n",
      "Trial 3/20: Running 500 iterations: 100%|██████████| 500/500 [00:00<00:00, 753.26it/s]\n",
      "Trial 4/20: Running 500 iterations: 100%|██████████| 500/500 [00:00<00:00, 867.40it/s]\n",
      "Trial 5/20: Running 500 iterations: 100%|██████████| 500/500 [00:00<00:00, 837.97it/s]\n",
      "Trial 6/20: Running 500 iterations: 100%|██████████| 500/500 [00:00<00:00, 852.79it/s]\n",
      "Trial 7/20: Running 500 iterations: 100%|██████████| 500/500 [00:00<00:00, 868.18it/s]\n",
      "Trial 8/20: Running 500 iterations: 100%|██████████| 500/500 [00:00<00:00, 866.93it/s]\n",
      "Trial 9/20: Running 500 iterations: 100%|██████████| 500/500 [00:00<00:00, 851.55it/s]\n",
      "Trial 10/20: Running 500 iterations: 100%|██████████| 500/500 [00:00<00:00, 820.78it/s]\n",
      "Trial 11/20: Running 500 iterations: 100%|██████████| 500/500 [00:00<00:00, 808.29it/s]\n",
      "Trial 12/20: Running 500 iterations: 100%|██████████| 500/500 [00:00<00:00, 793.21it/s]\n",
      "Trial 13/20: Running 500 iterations: 100%|██████████| 500/500 [00:00<00:00, 821.58it/s]\n",
      "Trial 14/20: Running 500 iterations: 100%|██████████| 500/500 [00:00<00:00, 809.74it/s]\n",
      "Trial 15/20: Running 500 iterations: 100%|██████████| 500/500 [00:00<00:00, 732.04it/s]\n",
      "Trial 16/20: Running 500 iterations: 100%|██████████| 500/500 [00:00<00:00, 834.25it/s]\n",
      "Trial 17/20: Running 500 iterations: 100%|██████████| 500/500 [00:00<00:00, 796.74it/s]\n",
      "Trial 18/20: Running 500 iterations: 100%|██████████| 500/500 [00:00<00:00, 844.34it/s]\n",
      "Trial 19/20: Running 500 iterations: 100%|██████████| 500/500 [00:00<00:00, 843.81it/s]\n",
      "Trial 20/20: Running 500 iterations: 100%|██████████| 500/500 [00:00<00:00, 840.37it/s]\n",
      "Unsupported operator aten::max_pool2d encountered 3 time(s)\n",
      "Unsupported operator aten::add encountered 4 time(s)\n"
     ]
    },
    {
     "name": "stdout",
     "output_type": "stream",
     "text": [
      "Processing batch size: 32\n"
     ]
    },
    {
     "name": "stderr",
     "output_type": "stream",
     "text": [
      "Trial 1/20: Running 500 iterations: 100%|██████████| 500/500 [00:00<00:00, 515.73it/s]\n",
      "Trial 2/20: Running 500 iterations: 100%|██████████| 500/500 [00:00<00:00, 513.26it/s]\n",
      "Trial 3/20: Running 500 iterations: 100%|██████████| 500/500 [00:00<00:00, 514.30it/s]\n",
      "Trial 4/20: Running 500 iterations: 100%|██████████| 500/500 [00:00<00:00, 509.18it/s]\n",
      "Trial 5/20: Running 500 iterations: 100%|██████████| 500/500 [00:00<00:00, 518.20it/s]\n",
      "Trial 6/20: Running 500 iterations: 100%|██████████| 500/500 [00:00<00:00, 509.54it/s]\n",
      "Trial 7/20: Running 500 iterations: 100%|██████████| 500/500 [00:00<00:00, 508.93it/s]\n",
      "Trial 8/20: Running 500 iterations: 100%|██████████| 500/500 [00:00<00:00, 513.42it/s]\n",
      "Trial 9/20: Running 500 iterations: 100%|██████████| 500/500 [00:00<00:00, 505.85it/s]\n",
      "Trial 10/20: Running 500 iterations: 100%|██████████| 500/500 [00:00<00:00, 515.64it/s]\n",
      "Trial 11/20: Running 500 iterations: 100%|██████████| 500/500 [00:00<00:00, 513.32it/s]\n",
      "Trial 12/20: Running 500 iterations: 100%|██████████| 500/500 [00:00<00:00, 512.94it/s]\n",
      "Trial 13/20: Running 500 iterations: 100%|██████████| 500/500 [00:00<00:00, 509.38it/s]\n",
      "Trial 14/20: Running 500 iterations: 100%|██████████| 500/500 [00:00<00:00, 517.33it/s]\n",
      "Trial 15/20: Running 500 iterations: 100%|██████████| 500/500 [00:00<00:00, 517.98it/s]\n",
      "Trial 16/20: Running 500 iterations: 100%|██████████| 500/500 [00:00<00:00, 508.45it/s]\n",
      "Trial 17/20: Running 500 iterations: 100%|██████████| 500/500 [00:00<00:00, 514.68it/s]\n",
      "Trial 18/20: Running 500 iterations: 100%|██████████| 500/500 [00:00<00:00, 517.33it/s]\n",
      "Trial 19/20: Running 500 iterations: 100%|██████████| 500/500 [00:00<00:00, 509.24it/s]\n",
      "Trial 20/20: Running 500 iterations: 100%|██████████| 500/500 [00:00<00:00, 517.75it/s]\n",
      "Unsupported operator aten::max_pool2d encountered 3 time(s)\n",
      "Unsupported operator aten::add encountered 4 time(s)\n"
     ]
    },
    {
     "name": "stdout",
     "output_type": "stream",
     "text": [
      "Processing batch size: 64\n"
     ]
    },
    {
     "name": "stderr",
     "output_type": "stream",
     "text": [
      "Trial 1/20: Running 500 iterations: 100%|██████████| 500/500 [00:01<00:00, 317.62it/s]\n",
      "Trial 2/20: Running 500 iterations: 100%|██████████| 500/500 [00:01<00:00, 317.56it/s]\n",
      "Trial 3/20: Running 500 iterations: 100%|██████████| 500/500 [00:01<00:00, 319.97it/s]\n",
      "Trial 4/20: Running 500 iterations: 100%|██████████| 500/500 [00:01<00:00, 318.05it/s]\n",
      "Trial 5/20: Running 500 iterations: 100%|██████████| 500/500 [00:01<00:00, 317.40it/s]\n",
      "Trial 6/20: Running 500 iterations: 100%|██████████| 500/500 [00:01<00:00, 317.35it/s]\n",
      "Trial 7/20: Running 500 iterations: 100%|██████████| 500/500 [00:01<00:00, 317.67it/s]\n",
      "Trial 8/20: Running 500 iterations: 100%|██████████| 500/500 [00:01<00:00, 317.15it/s]\n",
      "Trial 9/20: Running 500 iterations: 100%|██████████| 500/500 [00:01<00:00, 317.54it/s]\n",
      "Trial 10/20: Running 500 iterations: 100%|██████████| 500/500 [00:01<00:00, 317.29it/s]\n",
      "Trial 11/20: Running 500 iterations: 100%|██████████| 500/500 [00:01<00:00, 318.10it/s]\n",
      "Trial 12/20: Running 500 iterations: 100%|██████████| 500/500 [00:01<00:00, 317.70it/s]\n",
      "Trial 13/20: Running 500 iterations: 100%|██████████| 500/500 [00:01<00:00, 317.46it/s]\n",
      "Trial 14/20: Running 500 iterations: 100%|██████████| 500/500 [00:01<00:00, 317.59it/s]\n",
      "Trial 15/20: Running 500 iterations: 100%|██████████| 500/500 [00:01<00:00, 317.55it/s]\n",
      "Trial 16/20: Running 500 iterations: 100%|██████████| 500/500 [00:01<00:00, 317.63it/s]\n",
      "Trial 17/20: Running 500 iterations: 100%|██████████| 500/500 [00:01<00:00, 317.70it/s]\n",
      "Trial 18/20: Running 500 iterations: 100%|██████████| 500/500 [00:01<00:00, 318.76it/s]\n",
      "Trial 19/20: Running 500 iterations: 100%|██████████| 500/500 [00:01<00:00, 317.86it/s]\n",
      "Trial 20/20: Running 500 iterations: 100%|██████████| 500/500 [00:01<00:00, 317.56it/s]\n",
      "Processing Models:  97%|█████████▋| 64/66 [2:14:15<03:30, 105.26s/it]"
     ]
    },
    {
     "name": "stdout",
     "output_type": "stream",
     "text": [
      "Processing model: d:\\PruneLimit\\PruneLimitAnalyzer\\models\\AlexNet_DATASET_UNPRUNED.pth\n"
     ]
    },
    {
     "name": "stderr",
     "output_type": "stream",
     "text": [
      "Unsupported operator aten::max_pool2d encountered 3 time(s)\n"
     ]
    },
    {
     "name": "stdout",
     "output_type": "stream",
     "text": [
      "Processing batch size: 1\n"
     ]
    },
    {
     "name": "stderr",
     "output_type": "stream",
     "text": [
      "Trial 1/20: Running 500 iterations: 100%|██████████| 500/500 [00:00<00:00, 943.76it/s]\n",
      "Trial 2/20: Running 500 iterations: 100%|██████████| 500/500 [00:00<00:00, 974.30it/s]\n",
      "Trial 3/20: Running 500 iterations: 100%|██████████| 500/500 [00:00<00:00, 953.00it/s]\n",
      "Trial 4/20: Running 500 iterations: 100%|██████████| 500/500 [00:00<00:00, 882.32it/s]\n",
      "Trial 5/20: Running 500 iterations: 100%|██████████| 500/500 [00:00<00:00, 1034.90it/s]\n",
      "Trial 6/20: Running 500 iterations: 100%|██████████| 500/500 [00:00<00:00, 943.81it/s]\n",
      "Trial 7/20: Running 500 iterations: 100%|██████████| 500/500 [00:00<00:00, 1040.68it/s]\n",
      "Trial 8/20: Running 500 iterations: 100%|██████████| 500/500 [00:00<00:00, 1107.79it/s]\n",
      "Trial 9/20: Running 500 iterations: 100%|██████████| 500/500 [00:00<00:00, 1083.09it/s]\n",
      "Trial 10/20: Running 500 iterations: 100%|██████████| 500/500 [00:00<00:00, 927.55it/s]\n",
      "Trial 11/20: Running 500 iterations: 100%|██████████| 500/500 [00:00<00:00, 1000.86it/s]\n",
      "Trial 12/20: Running 500 iterations: 100%|██████████| 500/500 [00:00<00:00, 1035.54it/s]\n",
      "Trial 13/20: Running 500 iterations: 100%|██████████| 500/500 [00:00<00:00, 1096.95it/s]\n",
      "Trial 14/20: Running 500 iterations: 100%|██████████| 500/500 [00:00<00:00, 1103.68it/s]\n",
      "Trial 15/20: Running 500 iterations: 100%|██████████| 500/500 [00:00<00:00, 1082.57it/s]\n",
      "Trial 16/20: Running 500 iterations: 100%|██████████| 500/500 [00:00<00:00, 1011.24it/s]\n",
      "Trial 17/20: Running 500 iterations: 100%|██████████| 500/500 [00:00<00:00, 1047.03it/s]\n",
      "Trial 18/20: Running 500 iterations: 100%|██████████| 500/500 [00:00<00:00, 1145.12it/s]\n",
      "Trial 19/20: Running 500 iterations: 100%|██████████| 500/500 [00:00<00:00, 1085.58it/s]\n",
      "Trial 20/20: Running 500 iterations: 100%|██████████| 500/500 [00:00<00:00, 654.72it/s]\n",
      "Unsupported operator aten::max_pool2d encountered 3 time(s)\n"
     ]
    },
    {
     "name": "stdout",
     "output_type": "stream",
     "text": [
      "Processing batch size: 8\n"
     ]
    },
    {
     "name": "stderr",
     "output_type": "stream",
     "text": [
      "Trial 1/20: Running 500 iterations: 100%|██████████| 500/500 [00:00<00:00, 749.29it/s]\n",
      "Trial 2/20: Running 500 iterations: 100%|██████████| 500/500 [00:00<00:00, 756.61it/s]\n",
      "Trial 3/20: Running 500 iterations: 100%|██████████| 500/500 [00:00<00:00, 761.31it/s]\n",
      "Trial 4/20: Running 500 iterations: 100%|██████████| 500/500 [00:00<00:00, 760.84it/s]\n",
      "Trial 5/20: Running 500 iterations: 100%|██████████| 500/500 [00:00<00:00, 745.83it/s]\n",
      "Trial 6/20: Running 500 iterations: 100%|██████████| 500/500 [00:00<00:00, 766.85it/s]\n",
      "Trial 7/20: Running 500 iterations: 100%|██████████| 500/500 [00:00<00:00, 762.71it/s]\n",
      "Trial 8/20: Running 500 iterations: 100%|██████████| 500/500 [00:00<00:00, 760.36it/s]\n",
      "Trial 9/20: Running 500 iterations: 100%|██████████| 500/500 [00:00<00:00, 764.15it/s]\n",
      "Trial 10/20: Running 500 iterations: 100%|██████████| 500/500 [00:00<00:00, 756.61it/s]\n",
      "Trial 11/20: Running 500 iterations: 100%|██████████| 500/500 [00:00<00:00, 757.71it/s]\n",
      "Trial 12/20: Running 500 iterations: 100%|██████████| 500/500 [00:00<00:00, 745.71it/s]\n",
      "Trial 13/20: Running 500 iterations: 100%|██████████| 500/500 [00:00<00:00, 763.42it/s]\n",
      "Trial 14/20: Running 500 iterations: 100%|██████████| 500/500 [00:00<00:00, 742.52it/s]\n",
      "Trial 15/20: Running 500 iterations: 100%|██████████| 500/500 [00:00<00:00, 746.68it/s]\n",
      "Trial 16/20: Running 500 iterations: 100%|██████████| 500/500 [00:00<00:00, 761.26it/s]\n",
      "Trial 17/20: Running 500 iterations: 100%|██████████| 500/500 [00:00<00:00, 754.24it/s]\n",
      "Trial 18/20: Running 500 iterations: 100%|██████████| 500/500 [00:00<00:00, 763.51it/s]\n",
      "Trial 19/20: Running 500 iterations: 100%|██████████| 500/500 [00:00<00:00, 764.73it/s]\n",
      "Trial 20/20: Running 500 iterations: 100%|██████████| 500/500 [00:00<00:00, 740.48it/s]\n",
      "Unsupported operator aten::max_pool2d encountered 3 time(s)\n"
     ]
    },
    {
     "name": "stdout",
     "output_type": "stream",
     "text": [
      "Processing batch size: 16\n"
     ]
    },
    {
     "name": "stderr",
     "output_type": "stream",
     "text": [
      "Trial 1/20: Running 500 iterations: 100%|██████████| 500/500 [00:00<00:00, 531.28it/s]\n",
      "Trial 2/20: Running 500 iterations: 100%|██████████| 500/500 [00:00<00:00, 525.77it/s]\n",
      "Trial 3/20: Running 500 iterations: 100%|██████████| 500/500 [00:00<00:00, 526.11it/s]\n",
      "Trial 4/20: Running 500 iterations: 100%|██████████| 500/500 [00:00<00:00, 517.05it/s]\n",
      "Trial 5/20: Running 500 iterations: 100%|██████████| 500/500 [00:00<00:00, 523.31it/s]\n",
      "Trial 6/20: Running 500 iterations: 100%|██████████| 500/500 [00:00<00:00, 525.53it/s]\n",
      "Trial 7/20: Running 500 iterations: 100%|██████████| 500/500 [00:00<00:00, 526.46it/s]\n",
      "Trial 8/20: Running 500 iterations: 100%|██████████| 500/500 [00:00<00:00, 525.61it/s]\n",
      "Trial 9/20: Running 500 iterations: 100%|██████████| 500/500 [00:00<00:00, 526.30it/s]\n",
      "Trial 10/20: Running 500 iterations: 100%|██████████| 500/500 [00:00<00:00, 529.09it/s]\n",
      "Trial 11/20: Running 500 iterations: 100%|██████████| 500/500 [00:00<00:00, 529.92it/s]\n",
      "Trial 12/20: Running 500 iterations: 100%|██████████| 500/500 [00:00<00:00, 531.46it/s]\n",
      "Trial 13/20: Running 500 iterations: 100%|██████████| 500/500 [00:00<00:00, 517.26it/s]\n",
      "Trial 14/20: Running 500 iterations: 100%|██████████| 500/500 [00:00<00:00, 531.74it/s]\n",
      "Trial 15/20: Running 500 iterations: 100%|██████████| 500/500 [00:00<00:00, 526.23it/s]\n",
      "Trial 16/20: Running 500 iterations: 100%|██████████| 500/500 [00:00<00:00, 531.78it/s]\n",
      "Trial 17/20: Running 500 iterations: 100%|██████████| 500/500 [00:00<00:00, 521.68it/s]\n",
      "Trial 18/20: Running 500 iterations: 100%|██████████| 500/500 [00:00<00:00, 526.05it/s]\n",
      "Trial 19/20: Running 500 iterations: 100%|██████████| 500/500 [00:00<00:00, 525.47it/s]\n",
      "Trial 20/20: Running 500 iterations: 100%|██████████| 500/500 [00:00<00:00, 526.01it/s]\n",
      "Unsupported operator aten::max_pool2d encountered 3 time(s)\n"
     ]
    },
    {
     "name": "stdout",
     "output_type": "stream",
     "text": [
      "Processing batch size: 32\n"
     ]
    },
    {
     "name": "stderr",
     "output_type": "stream",
     "text": [
      "Trial 1/20: Running 500 iterations: 100%|██████████| 500/500 [00:01<00:00, 311.92it/s]\n",
      "Trial 2/20: Running 500 iterations: 100%|██████████| 500/500 [00:01<00:00, 310.07it/s]\n",
      "Trial 3/20: Running 500 iterations: 100%|██████████| 500/500 [00:01<00:00, 311.94it/s]\n",
      "Trial 4/20: Running 500 iterations: 100%|██████████| 500/500 [00:01<00:00, 311.40it/s]\n",
      "Trial 5/20: Running 500 iterations: 100%|██████████| 500/500 [00:01<00:00, 307.96it/s]\n",
      "Trial 6/20: Running 500 iterations: 100%|██████████| 500/500 [00:01<00:00, 310.33it/s]\n",
      "Trial 7/20: Running 500 iterations: 100%|██████████| 500/500 [00:01<00:00, 311.94it/s]\n",
      "Trial 8/20: Running 500 iterations: 100%|██████████| 500/500 [00:01<00:00, 310.48it/s]\n",
      "Trial 9/20: Running 500 iterations: 100%|██████████| 500/500 [00:01<00:00, 307.76it/s]\n",
      "Trial 10/20: Running 500 iterations: 100%|██████████| 500/500 [00:01<00:00, 308.50it/s]\n",
      "Trial 11/20: Running 500 iterations: 100%|██████████| 500/500 [00:01<00:00, 310.20it/s]\n",
      "Trial 12/20: Running 500 iterations: 100%|██████████| 500/500 [00:01<00:00, 308.50it/s]\n",
      "Trial 13/20: Running 500 iterations: 100%|██████████| 500/500 [00:01<00:00, 309.62it/s]\n",
      "Trial 14/20: Running 500 iterations: 100%|██████████| 500/500 [00:01<00:00, 308.45it/s]\n",
      "Trial 15/20: Running 500 iterations: 100%|██████████| 500/500 [00:01<00:00, 310.80it/s]\n",
      "Trial 16/20: Running 500 iterations: 100%|██████████| 500/500 [00:01<00:00, 307.78it/s]\n",
      "Trial 17/20: Running 500 iterations: 100%|██████████| 500/500 [00:01<00:00, 311.46it/s]\n",
      "Trial 18/20: Running 500 iterations: 100%|██████████| 500/500 [00:01<00:00, 307.89it/s]\n",
      "Trial 19/20: Running 500 iterations: 100%|██████████| 500/500 [00:01<00:00, 309.06it/s]\n",
      "Trial 20/20: Running 500 iterations: 100%|██████████| 500/500 [00:01<00:00, 308.01it/s]\n",
      "Unsupported operator aten::max_pool2d encountered 3 time(s)\n"
     ]
    },
    {
     "name": "stdout",
     "output_type": "stream",
     "text": [
      "Processing batch size: 64\n"
     ]
    },
    {
     "name": "stderr",
     "output_type": "stream",
     "text": [
      "Trial 1/20: Running 500 iterations: 100%|██████████| 500/500 [00:02<00:00, 188.76it/s]\n",
      "Trial 2/20: Running 500 iterations: 100%|██████████| 500/500 [00:02<00:00, 188.14it/s]\n",
      "Trial 3/20: Running 500 iterations: 100%|██████████| 500/500 [00:02<00:00, 188.51it/s]\n",
      "Trial 4/20: Running 500 iterations: 100%|██████████| 500/500 [00:02<00:00, 188.65it/s]\n",
      "Trial 5/20: Running 500 iterations: 100%|██████████| 500/500 [00:02<00:00, 189.61it/s]\n",
      "Trial 6/20: Running 500 iterations: 100%|██████████| 500/500 [00:02<00:00, 188.64it/s]\n",
      "Trial 7/20: Running 500 iterations: 100%|██████████| 500/500 [00:02<00:00, 189.60it/s]\n",
      "Trial 8/20: Running 500 iterations: 100%|██████████| 500/500 [00:02<00:00, 189.18it/s]\n",
      "Trial 9/20: Running 500 iterations: 100%|██████████| 500/500 [00:02<00:00, 190.07it/s]\n",
      "Trial 10/20: Running 500 iterations: 100%|██████████| 500/500 [00:02<00:00, 188.89it/s]\n",
      "Trial 11/20: Running 500 iterations: 100%|██████████| 500/500 [00:02<00:00, 190.13it/s]\n",
      "Trial 12/20: Running 500 iterations: 100%|██████████| 500/500 [00:02<00:00, 188.74it/s]\n",
      "Trial 13/20: Running 500 iterations: 100%|██████████| 500/500 [00:02<00:00, 189.89it/s]\n",
      "Trial 14/20: Running 500 iterations: 100%|██████████| 500/500 [00:02<00:00, 188.70it/s]\n",
      "Trial 15/20: Running 500 iterations: 100%|██████████| 500/500 [00:02<00:00, 189.31it/s]\n",
      "Trial 16/20: Running 500 iterations: 100%|██████████| 500/500 [00:02<00:00, 189.83it/s]\n",
      "Trial 17/20: Running 500 iterations: 100%|██████████| 500/500 [00:02<00:00, 189.78it/s]\n",
      "Trial 18/20: Running 500 iterations: 100%|██████████| 500/500 [00:02<00:00, 188.87it/s]\n",
      "Trial 19/20: Running 500 iterations: 100%|██████████| 500/500 [00:02<00:00, 190.32it/s]\n",
      "Trial 20/20: Running 500 iterations: 100%|██████████| 500/500 [00:02<00:00, 189.83it/s]\n",
      "Processing Models:  98%|█████████▊| 65/66 [2:16:56<02:01, 121.94s/it]"
     ]
    },
    {
     "name": "stdout",
     "output_type": "stream",
     "text": [
      "Processing model: d:\\PruneLimit\\PruneLimitAnalyzer\\models\\AlexNet_DATASET_random_PD1_GPR-20_PRUNED_SEED_23.pth\n"
     ]
    },
    {
     "name": "stderr",
     "output_type": "stream",
     "text": [
      "Unsupported operator aten::max_pool2d encountered 3 time(s)\n",
      "Unsupported operator aten::add encountered 4 time(s)\n"
     ]
    },
    {
     "name": "stdout",
     "output_type": "stream",
     "text": [
      "Processing batch size: 1\n"
     ]
    },
    {
     "name": "stderr",
     "output_type": "stream",
     "text": [
      "Trial 1/20: Running 500 iterations: 100%|██████████| 500/500 [00:00<00:00, 795.72it/s]\n",
      "Trial 2/20: Running 500 iterations: 100%|██████████| 500/500 [00:00<00:00, 788.71it/s]\n",
      "Trial 3/20: Running 500 iterations: 100%|██████████| 500/500 [00:00<00:00, 705.53it/s]\n",
      "Trial 4/20: Running 500 iterations: 100%|██████████| 500/500 [00:00<00:00, 812.22it/s]\n",
      "Trial 5/20: Running 500 iterations: 100%|██████████| 500/500 [00:00<00:00, 771.00it/s]\n",
      "Trial 6/20: Running 500 iterations: 100%|██████████| 500/500 [00:00<00:00, 805.46it/s]\n",
      "Trial 7/20: Running 500 iterations: 100%|██████████| 500/500 [00:00<00:00, 861.32it/s]\n",
      "Trial 8/20: Running 500 iterations: 100%|██████████| 500/500 [00:00<00:00, 847.97it/s]\n",
      "Trial 9/20: Running 500 iterations: 100%|██████████| 500/500 [00:00<00:00, 830.42it/s]\n",
      "Trial 10/20: Running 500 iterations: 100%|██████████| 500/500 [00:00<00:00, 933.43it/s]\n",
      "Trial 11/20: Running 500 iterations: 100%|██████████| 500/500 [00:00<00:00, 847.43it/s]\n",
      "Trial 12/20: Running 500 iterations: 100%|██████████| 500/500 [00:00<00:00, 883.82it/s]\n",
      "Trial 13/20: Running 500 iterations: 100%|██████████| 500/500 [00:00<00:00, 994.41it/s]\n",
      "Trial 14/20: Running 500 iterations: 100%|██████████| 500/500 [00:00<00:00, 1049.54it/s]\n",
      "Trial 15/20: Running 500 iterations: 100%|██████████| 500/500 [00:00<00:00, 1020.62it/s]\n",
      "Trial 16/20: Running 500 iterations: 100%|██████████| 500/500 [00:00<00:00, 1040.10it/s]\n",
      "Trial 17/20: Running 500 iterations: 100%|██████████| 500/500 [00:00<00:00, 1017.52it/s]\n",
      "Trial 18/20: Running 500 iterations: 100%|██████████| 500/500 [00:00<00:00, 887.27it/s]\n",
      "Trial 19/20: Running 500 iterations: 100%|██████████| 500/500 [00:00<00:00, 1008.19it/s]\n",
      "Trial 20/20: Running 500 iterations: 100%|██████████| 500/500 [00:00<00:00, 926.91it/s]\n",
      "Unsupported operator aten::max_pool2d encountered 3 time(s)\n",
      "Unsupported operator aten::add encountered 4 time(s)\n"
     ]
    },
    {
     "name": "stdout",
     "output_type": "stream",
     "text": [
      "Processing batch size: 8\n"
     ]
    },
    {
     "name": "stderr",
     "output_type": "stream",
     "text": [
      "Trial 1/20: Running 500 iterations: 100%|██████████| 500/500 [00:00<00:00, 831.49it/s]\n",
      "Trial 2/20: Running 500 iterations: 100%|██████████| 500/500 [00:00<00:00, 804.70it/s]\n",
      "Trial 3/20: Running 500 iterations: 100%|██████████| 500/500 [00:00<00:00, 827.83it/s]\n",
      "Trial 4/20: Running 500 iterations: 100%|██████████| 500/500 [00:00<00:00, 843.53it/s]\n",
      "Trial 5/20: Running 500 iterations: 100%|██████████| 500/500 [00:00<00:00, 842.17it/s]\n",
      "Trial 6/20: Running 500 iterations: 100%|██████████| 500/500 [00:00<00:00, 818.67it/s]\n",
      "Trial 7/20: Running 500 iterations: 100%|██████████| 500/500 [00:00<00:00, 605.43it/s]\n",
      "Trial 8/20: Running 500 iterations: 100%|██████████| 500/500 [00:00<00:00, 677.92it/s]\n",
      "Trial 9/20: Running 500 iterations: 100%|██████████| 500/500 [00:00<00:00, 763.94it/s]\n",
      "Trial 10/20: Running 500 iterations: 100%|██████████| 500/500 [00:00<00:00, 694.97it/s]\n",
      "Trial 11/20: Running 500 iterations: 100%|██████████| 500/500 [00:00<00:00, 595.74it/s]\n",
      "Trial 12/20: Running 500 iterations: 100%|██████████| 500/500 [00:00<00:00, 690.99it/s]\n",
      "Trial 13/20: Running 500 iterations: 100%|██████████| 500/500 [00:00<00:00, 727.27it/s]\n",
      "Trial 14/20: Running 500 iterations: 100%|██████████| 500/500 [00:00<00:00, 846.16it/s]\n",
      "Trial 15/20: Running 500 iterations: 100%|██████████| 500/500 [00:00<00:00, 822.72it/s]\n",
      "Trial 16/20: Running 500 iterations: 100%|██████████| 500/500 [00:00<00:00, 825.94it/s]\n",
      "Trial 17/20: Running 500 iterations: 100%|██████████| 500/500 [00:00<00:00, 811.27it/s]\n",
      "Trial 18/20: Running 500 iterations: 100%|██████████| 500/500 [00:00<00:00, 827.04it/s]\n",
      "Trial 19/20: Running 500 iterations: 100%|██████████| 500/500 [00:00<00:00, 822.27it/s]\n",
      "Trial 20/20: Running 500 iterations: 100%|██████████| 500/500 [00:00<00:00, 829.18it/s]\n",
      "Unsupported operator aten::max_pool2d encountered 3 time(s)\n",
      "Unsupported operator aten::add encountered 4 time(s)\n"
     ]
    },
    {
     "name": "stdout",
     "output_type": "stream",
     "text": [
      "Processing batch size: 16\n"
     ]
    },
    {
     "name": "stderr",
     "output_type": "stream",
     "text": [
      "Trial 1/20: Running 500 iterations: 100%|██████████| 500/500 [00:00<00:00, 546.83it/s]\n",
      "Trial 2/20: Running 500 iterations: 100%|██████████| 500/500 [00:00<00:00, 543.83it/s]\n",
      "Trial 3/20: Running 500 iterations: 100%|██████████| 500/500 [00:00<00:00, 543.46it/s]\n",
      "Trial 4/20: Running 500 iterations: 100%|██████████| 500/500 [00:00<00:00, 553.17it/s]\n",
      "Trial 5/20: Running 500 iterations: 100%|██████████| 500/500 [00:00<00:00, 554.50it/s]\n",
      "Trial 6/20: Running 500 iterations: 100%|██████████| 500/500 [00:00<00:00, 545.55it/s]\n",
      "Trial 7/20: Running 500 iterations: 100%|██████████| 500/500 [00:00<00:00, 542.51it/s]\n",
      "Trial 8/20: Running 500 iterations: 100%|██████████| 500/500 [00:00<00:00, 541.25it/s]\n",
      "Trial 9/20: Running 500 iterations: 100%|██████████| 500/500 [00:00<00:00, 543.59it/s]\n",
      "Trial 10/20: Running 500 iterations: 100%|██████████| 500/500 [00:00<00:00, 545.39it/s]\n",
      "Trial 11/20: Running 500 iterations: 100%|██████████| 500/500 [00:00<00:00, 548.82it/s]\n",
      "Trial 12/20: Running 500 iterations: 100%|██████████| 500/500 [00:00<00:00, 548.57it/s]\n",
      "Trial 13/20: Running 500 iterations: 100%|██████████| 500/500 [00:00<00:00, 551.77it/s]\n",
      "Trial 14/20: Running 500 iterations: 100%|██████████| 500/500 [00:00<00:00, 546.88it/s]\n",
      "Trial 15/20: Running 500 iterations: 100%|██████████| 500/500 [00:00<00:00, 557.86it/s]\n",
      "Trial 16/20: Running 500 iterations: 100%|██████████| 500/500 [00:00<00:00, 549.25it/s]\n",
      "Trial 17/20: Running 500 iterations: 100%|██████████| 500/500 [00:00<00:00, 546.97it/s]\n",
      "Trial 18/20: Running 500 iterations: 100%|██████████| 500/500 [00:00<00:00, 553.66it/s]\n",
      "Trial 19/20: Running 500 iterations: 100%|██████████| 500/500 [00:00<00:00, 540.95it/s]\n",
      "Trial 20/20: Running 500 iterations: 100%|██████████| 500/500 [00:00<00:00, 552.68it/s]\n",
      "Unsupported operator aten::max_pool2d encountered 3 time(s)\n",
      "Unsupported operator aten::add encountered 4 time(s)\n"
     ]
    },
    {
     "name": "stdout",
     "output_type": "stream",
     "text": [
      "Processing batch size: 32\n"
     ]
    },
    {
     "name": "stderr",
     "output_type": "stream",
     "text": [
      "Trial 1/20: Running 500 iterations: 100%|██████████| 500/500 [00:01<00:00, 322.49it/s]\n",
      "Trial 2/20: Running 500 iterations: 100%|██████████| 500/500 [00:01<00:00, 324.19it/s]\n",
      "Trial 3/20: Running 500 iterations: 100%|██████████| 500/500 [00:01<00:00, 322.07it/s]\n",
      "Trial 4/20: Running 500 iterations: 100%|██████████| 500/500 [00:01<00:00, 322.72it/s]\n",
      "Trial 5/20: Running 500 iterations: 100%|██████████| 500/500 [00:01<00:00, 323.00it/s]\n",
      "Trial 6/20: Running 500 iterations: 100%|██████████| 500/500 [00:01<00:00, 323.36it/s]\n",
      "Trial 7/20: Running 500 iterations: 100%|██████████| 500/500 [00:01<00:00, 323.31it/s]\n",
      "Trial 8/20: Running 500 iterations: 100%|██████████| 500/500 [00:01<00:00, 320.77it/s]\n",
      "Trial 9/20: Running 500 iterations: 100%|██████████| 500/500 [00:01<00:00, 322.59it/s]\n",
      "Trial 10/20: Running 500 iterations: 100%|██████████| 500/500 [00:01<00:00, 322.38it/s]\n",
      "Trial 11/20: Running 500 iterations: 100%|██████████| 500/500 [00:01<00:00, 320.67it/s]\n",
      "Trial 12/20: Running 500 iterations: 100%|██████████| 500/500 [00:01<00:00, 320.80it/s]\n",
      "Trial 13/20: Running 500 iterations: 100%|██████████| 500/500 [00:01<00:00, 322.71it/s]\n",
      "Trial 14/20: Running 500 iterations: 100%|██████████| 500/500 [00:01<00:00, 323.75it/s]\n",
      "Trial 15/20: Running 500 iterations: 100%|██████████| 500/500 [00:01<00:00, 320.34it/s]\n",
      "Trial 16/20: Running 500 iterations: 100%|██████████| 500/500 [00:01<00:00, 324.03it/s]\n",
      "Trial 17/20: Running 500 iterations: 100%|██████████| 500/500 [00:01<00:00, 318.22it/s]\n",
      "Trial 18/20: Running 500 iterations: 100%|██████████| 500/500 [00:01<00:00, 323.17it/s]\n",
      "Trial 19/20: Running 500 iterations: 100%|██████████| 500/500 [00:01<00:00, 319.25it/s]\n",
      "Trial 20/20: Running 500 iterations: 100%|██████████| 500/500 [00:01<00:00, 321.22it/s]\n",
      "Unsupported operator aten::max_pool2d encountered 3 time(s)\n",
      "Unsupported operator aten::add encountered 4 time(s)\n"
     ]
    },
    {
     "name": "stdout",
     "output_type": "stream",
     "text": [
      "Processing batch size: 64\n"
     ]
    },
    {
     "name": "stderr",
     "output_type": "stream",
     "text": [
      "Trial 1/20: Running 500 iterations: 100%|██████████| 500/500 [00:02<00:00, 198.75it/s]\n",
      "Trial 2/20: Running 500 iterations: 100%|██████████| 500/500 [00:02<00:00, 198.86it/s]\n",
      "Trial 3/20: Running 500 iterations: 100%|██████████| 500/500 [00:02<00:00, 199.33it/s]\n",
      "Trial 4/20: Running 500 iterations: 100%|██████████| 500/500 [00:02<00:00, 198.40it/s]\n",
      "Trial 5/20: Running 500 iterations: 100%|██████████| 500/500 [00:02<00:00, 197.99it/s]\n",
      "Trial 6/20: Running 500 iterations: 100%|██████████| 500/500 [00:02<00:00, 197.28it/s]\n",
      "Trial 7/20: Running 500 iterations: 100%|██████████| 500/500 [00:02<00:00, 198.27it/s]\n",
      "Trial 8/20: Running 500 iterations: 100%|██████████| 500/500 [00:02<00:00, 198.07it/s]\n",
      "Trial 9/20: Running 500 iterations: 100%|██████████| 500/500 [00:02<00:00, 197.87it/s]\n",
      "Trial 10/20: Running 500 iterations: 100%|██████████| 500/500 [00:02<00:00, 197.03it/s]\n",
      "Trial 11/20: Running 500 iterations: 100%|██████████| 500/500 [00:02<00:00, 197.39it/s]\n",
      "Trial 12/20: Running 500 iterations: 100%|██████████| 500/500 [00:02<00:00, 197.10it/s]\n",
      "Trial 13/20: Running 500 iterations: 100%|██████████| 500/500 [00:02<00:00, 195.72it/s]\n",
      "Trial 14/20: Running 500 iterations: 100%|██████████| 500/500 [00:02<00:00, 196.91it/s]\n",
      "Trial 15/20: Running 500 iterations: 100%|██████████| 500/500 [00:02<00:00, 197.20it/s]\n",
      "Trial 16/20: Running 500 iterations: 100%|██████████| 500/500 [00:02<00:00, 196.97it/s]\n",
      "Trial 17/20: Running 500 iterations: 100%|██████████| 500/500 [00:02<00:00, 196.22it/s]\n",
      "Trial 18/20: Running 500 iterations: 100%|██████████| 500/500 [00:02<00:00, 197.96it/s]\n",
      "Trial 19/20: Running 500 iterations: 100%|██████████| 500/500 [00:02<00:00, 197.50it/s]\n",
      "Trial 20/20: Running 500 iterations: 100%|██████████| 500/500 [00:02<00:00, 196.91it/s]\n",
      "Processing Models: 100%|██████████| 66/66 [2:19:30<00:00, 126.83s/it]\n"
     ]
    },
    {
     "data": {
      "text/html": [
       "<div>\n",
       "<style scoped>\n",
       "    .dataframe tbody tr th:only-of-type {\n",
       "        vertical-align: middle;\n",
       "    }\n",
       "\n",
       "    .dataframe tbody tr th {\n",
       "        vertical-align: top;\n",
       "    }\n",
       "\n",
       "    .dataframe thead th {\n",
       "        text-align: right;\n",
       "    }\n",
       "</style>\n",
       "<table border=\"1\" class=\"dataframe\">\n",
       "  <thead>\n",
       "    <tr style=\"text-align: right;\">\n",
       "      <th></th>\n",
       "      <th>MODEL_NAME</th>\n",
       "      <th>BATCH_SIZE</th>\n",
       "      <th>Mean Time per Sample (s)</th>\n",
       "      <th>FPS</th>\n",
       "      <th>STD Time per Sample (s)</th>\n",
       "      <th>Mean Energy per Sample (J)</th>\n",
       "      <th>STD Energy per Sample (J)</th>\n",
       "      <th>Parameters</th>\n",
       "      <th>FLOPs</th>\n",
       "    </tr>\n",
       "  </thead>\n",
       "  <tbody>\n",
       "    <tr>\n",
       "      <th>0</th>\n",
       "      <td>AlexNet_DATASET_random_PD1_GPR-45_PRUNED_SEED_...</td>\n",
       "      <td>1</td>\n",
       "      <td>0.001051</td>\n",
       "      <td>951.050459</td>\n",
       "      <td>8.149121e-05</td>\n",
       "      <td>0.176480</td>\n",
       "      <td>0.017662</td>\n",
       "      <td>19684806</td>\n",
       "      <td>234326646</td>\n",
       "    </tr>\n",
       "    <tr>\n",
       "      <th>1</th>\n",
       "      <td>AlexNet_DATASET_random_PD1_GPR-45_PRUNED_SEED_...</td>\n",
       "      <td>8</td>\n",
       "      <td>0.000143</td>\n",
       "      <td>6986.317633</td>\n",
       "      <td>2.247262e-05</td>\n",
       "      <td>0.036092</td>\n",
       "      <td>0.003658</td>\n",
       "      <td>19684806</td>\n",
       "      <td>1874613168</td>\n",
       "    </tr>\n",
       "    <tr>\n",
       "      <th>2</th>\n",
       "      <td>AlexNet_DATASET_random_PD1_GPR-45_PRUNED_SEED_...</td>\n",
       "      <td>16</td>\n",
       "      <td>0.000080</td>\n",
       "      <td>12517.014326</td>\n",
       "      <td>5.688501e-06</td>\n",
       "      <td>0.023516</td>\n",
       "      <td>0.001628</td>\n",
       "      <td>19684806</td>\n",
       "      <td>3749226336</td>\n",
       "    </tr>\n",
       "    <tr>\n",
       "      <th>3</th>\n",
       "      <td>AlexNet_DATASET_random_PD1_GPR-45_PRUNED_SEED_...</td>\n",
       "      <td>32</td>\n",
       "      <td>0.000064</td>\n",
       "      <td>15572.893992</td>\n",
       "      <td>5.565086e-07</td>\n",
       "      <td>0.019233</td>\n",
       "      <td>0.000754</td>\n",
       "      <td>19684806</td>\n",
       "      <td>7498452672</td>\n",
       "    </tr>\n",
       "    <tr>\n",
       "      <th>4</th>\n",
       "      <td>AlexNet_DATASET_random_PD1_GPR-45_PRUNED_SEED_...</td>\n",
       "      <td>64</td>\n",
       "      <td>0.000053</td>\n",
       "      <td>18695.209667</td>\n",
       "      <td>5.230126e-07</td>\n",
       "      <td>0.016532</td>\n",
       "      <td>0.000366</td>\n",
       "      <td>19684806</td>\n",
       "      <td>14996905344</td>\n",
       "    </tr>\n",
       "    <tr>\n",
       "      <th>...</th>\n",
       "      <td>...</td>\n",
       "      <td>...</td>\n",
       "      <td>...</td>\n",
       "      <td>...</td>\n",
       "      <td>...</td>\n",
       "      <td>...</td>\n",
       "      <td>...</td>\n",
       "      <td>...</td>\n",
       "      <td>...</td>\n",
       "    </tr>\n",
       "    <tr>\n",
       "      <th>325</th>\n",
       "      <td>AlexNet_DATASET_random_PD1_GPR-20_PRUNED_SEED_...</td>\n",
       "      <td>1</td>\n",
       "      <td>0.001142</td>\n",
       "      <td>875.545688</td>\n",
       "      <td>1.306459e-04</td>\n",
       "      <td>0.272282</td>\n",
       "      <td>0.036279</td>\n",
       "      <td>40026038</td>\n",
       "      <td>468902342</td>\n",
       "    </tr>\n",
       "    <tr>\n",
       "      <th>326</th>\n",
       "      <td>AlexNet_DATASET_random_PD1_GPR-20_PRUNED_SEED_...</td>\n",
       "      <td>8</td>\n",
       "      <td>0.000167</td>\n",
       "      <td>5985.722286</td>\n",
       "      <td>1.747937e-05</td>\n",
       "      <td>0.050303</td>\n",
       "      <td>0.005614</td>\n",
       "      <td>40026038</td>\n",
       "      <td>3751218736</td>\n",
       "    </tr>\n",
       "    <tr>\n",
       "      <th>327</th>\n",
       "      <td>AlexNet_DATASET_random_PD1_GPR-20_PRUNED_SEED_...</td>\n",
       "      <td>16</td>\n",
       "      <td>0.000119</td>\n",
       "      <td>8433.503900</td>\n",
       "      <td>9.069218e-08</td>\n",
       "      <td>0.036408</td>\n",
       "      <td>0.001931</td>\n",
       "      <td>40026038</td>\n",
       "      <td>7502437472</td>\n",
       "    </tr>\n",
       "    <tr>\n",
       "      <th>328</th>\n",
       "      <td>AlexNet_DATASET_random_PD1_GPR-20_PRUNED_SEED_...</td>\n",
       "      <td>32</td>\n",
       "      <td>0.000100</td>\n",
       "      <td>9959.311473</td>\n",
       "      <td>3.384769e-08</td>\n",
       "      <td>0.030444</td>\n",
       "      <td>0.000431</td>\n",
       "      <td>40026038</td>\n",
       "      <td>15004874944</td>\n",
       "    </tr>\n",
       "    <tr>\n",
       "      <th>329</th>\n",
       "      <td>AlexNet_DATASET_random_PD1_GPR-20_PRUNED_SEED_...</td>\n",
       "      <td>64</td>\n",
       "      <td>0.000082</td>\n",
       "      <td>12152.227360</td>\n",
       "      <td>2.240934e-07</td>\n",
       "      <td>0.025805</td>\n",
       "      <td>0.000490</td>\n",
       "      <td>40026038</td>\n",
       "      <td>30009749888</td>\n",
       "    </tr>\n",
       "  </tbody>\n",
       "</table>\n",
       "<p>330 rows × 9 columns</p>\n",
       "</div>"
      ],
      "text/plain": [
       "                                            MODEL_NAME  BATCH_SIZE  \\\n",
       "0    AlexNet_DATASET_random_PD1_GPR-45_PRUNED_SEED_...           1   \n",
       "1    AlexNet_DATASET_random_PD1_GPR-45_PRUNED_SEED_...           8   \n",
       "2    AlexNet_DATASET_random_PD1_GPR-45_PRUNED_SEED_...          16   \n",
       "3    AlexNet_DATASET_random_PD1_GPR-45_PRUNED_SEED_...          32   \n",
       "4    AlexNet_DATASET_random_PD1_GPR-45_PRUNED_SEED_...          64   \n",
       "..                                                 ...         ...   \n",
       "325  AlexNet_DATASET_random_PD1_GPR-20_PRUNED_SEED_...           1   \n",
       "326  AlexNet_DATASET_random_PD1_GPR-20_PRUNED_SEED_...           8   \n",
       "327  AlexNet_DATASET_random_PD1_GPR-20_PRUNED_SEED_...          16   \n",
       "328  AlexNet_DATASET_random_PD1_GPR-20_PRUNED_SEED_...          32   \n",
       "329  AlexNet_DATASET_random_PD1_GPR-20_PRUNED_SEED_...          64   \n",
       "\n",
       "     Mean Time per Sample (s)           FPS  STD Time per Sample (s)  \\\n",
       "0                    0.001051    951.050459             8.149121e-05   \n",
       "1                    0.000143   6986.317633             2.247262e-05   \n",
       "2                    0.000080  12517.014326             5.688501e-06   \n",
       "3                    0.000064  15572.893992             5.565086e-07   \n",
       "4                    0.000053  18695.209667             5.230126e-07   \n",
       "..                        ...           ...                      ...   \n",
       "325                  0.001142    875.545688             1.306459e-04   \n",
       "326                  0.000167   5985.722286             1.747937e-05   \n",
       "327                  0.000119   8433.503900             9.069218e-08   \n",
       "328                  0.000100   9959.311473             3.384769e-08   \n",
       "329                  0.000082  12152.227360             2.240934e-07   \n",
       "\n",
       "     Mean Energy per Sample (J)  STD Energy per Sample (J)  Parameters  \\\n",
       "0                      0.176480                   0.017662    19684806   \n",
       "1                      0.036092                   0.003658    19684806   \n",
       "2                      0.023516                   0.001628    19684806   \n",
       "3                      0.019233                   0.000754    19684806   \n",
       "4                      0.016532                   0.000366    19684806   \n",
       "..                          ...                        ...         ...   \n",
       "325                    0.272282                   0.036279    40026038   \n",
       "326                    0.050303                   0.005614    40026038   \n",
       "327                    0.036408                   0.001931    40026038   \n",
       "328                    0.030444                   0.000431    40026038   \n",
       "329                    0.025805                   0.000490    40026038   \n",
       "\n",
       "           FLOPs  \n",
       "0      234326646  \n",
       "1     1874613168  \n",
       "2     3749226336  \n",
       "3     7498452672  \n",
       "4    14996905344  \n",
       "..           ...  \n",
       "325    468902342  \n",
       "326   3751218736  \n",
       "327   7502437472  \n",
       "328  15004874944  \n",
       "329  30009749888  \n",
       "\n",
       "[330 rows x 9 columns]"
      ]
     },
     "execution_count": 2,
     "metadata": {},
     "output_type": "execute_result"
    }
   ],
   "source": [
    "import os\n",
    "import torch\n",
    "import pandas as pd\n",
    "from PruneEnergyAnalizer import ExperimentRunner\n",
    "\n",
    "# Define the model directory\n",
    "model_dir = os.path.abspath(os.path.join(os.getcwd(), \"..\", \"models\"))\n",
    "\n",
    "# Define batch sizes and number of trials\n",
    "batch_sizes = [1,8,16,32,64]  # Adjusted batch sizes for testing\n",
    "# Note: Adjust the batch sizes according to your GPU memory capacity\n",
    "num_trials = 20\n",
    "num_iters = 500\n",
    "\n",
    "# Define input tensor shape\n",
    "input_channels = 3\n",
    "input_height = 224\n",
    "input_width = 224\n",
    "\n",
    "# Select the device for inference\n",
    "device = torch.device(\"cuda\" if torch.cuda.is_available() else \"cpu\")\n",
    "print(f\"Using device: {device}\")\n",
    "\n",
    "# Initialize and run the experiment\n",
    "experiment = ExperimentRunner(\n",
    "    model_dir, \n",
    "    batch_sizes, \n",
    "    num_trials, \n",
    "    num_iters, \n",
    "    input_channels, \n",
    "    input_height, \n",
    "    input_width,\n",
    "    filename=\"results_v18.csv\",\n",
    ")\n",
    "\n",
    "results_df = experiment.run_experiment()\n",
    "\n",
    "# Display results\n",
    "results_df\n"
   ]
  }
 ],
 "metadata": {
  "kernelspec": {
   "display_name": "pruning_env_v2",
   "language": "python",
   "name": "python3"
  },
  "language_info": {
   "codemirror_mode": {
    "name": "ipython",
    "version": 3
   },
   "file_extension": ".py",
   "mimetype": "text/x-python",
   "name": "python",
   "nbconvert_exporter": "python",
   "pygments_lexer": "ipython3",
   "version": "3.11.7"
  }
 },
 "nbformat": 4,
 "nbformat_minor": 2
}
