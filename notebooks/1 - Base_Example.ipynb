{
 "cells": [
  {
   "cell_type": "markdown",
   "metadata": {},
   "source": [
    "# Experimentation Notebook\n",
    "\n",
    "This notebook demonstrates how to use the `pruning_limit_analysis` library to analyze the energy consumption and inference performance of pruned neural network models.\n",
    "\n",
    "## Structure of Model Filenames\n",
    "\n",
    "The models should be named following this convention:\n",
    "- `{ARCHITECTURE}`: Model architecture (e.g., `AlexNet`, `VGG16`)\n",
    "- `{DATASET}`: Dataset used for training (e.g., `CIFAR10`)\n",
    "- `{PRUNING_DISTRIBUTION}`: Pruning distribution strategy (e.g., `random_PD3`)\n",
    "- `{PRUNING_RATIO}`: Global pruning ratio in percentage (e.g., `20` for 20%)\n",
    "- `{STATE}`: Either `PRUNED` or `UNPRUNED`\n",
    "\n",
    "Example:\n",
    "\n",
    "`{ARCHITECTURE}{DATASET}{PRUNING_DISTRIBUTION}GPR-{PRUNING_RATIO}{STATE}.pth`\n",
    "\n",
    "### Case of Unpruned Models\n",
    "\n",
    "For unpruned models, the filename should follow a similar convention but with `UNPRUNED` as the state and no pruning ratio:\n",
    "`{ARCHITECTURE}_{DATASET}_UNPRUNED.pth`\n",
    "\n",
    "Since these models are not pruned, their pruning ratio is considered `0%`, and they serve as a baseline for comparison against pruned versions.\n",
    "\n",
    "## Parameters for the Experiment\n",
    "\n",
    "- `model_dir`: Path where models are stored.\n",
    "- `batch_sizes`: List of batch sizes to test.\n",
    "- `num_trials`: Number of trials per experiment.\n",
    "- `device`: GPU or CPU for inference."
   ]
  },
  {
   "cell_type": "code",
   "execution_count": null,
   "metadata": {},
   "outputs": [],
   "source": [
    "import sys\n",
    "import os\n",
    "\n",
    "lib_path = os.path.abspath(os.path.join(os.getcwd(), \"..\"))\n",
    "if lib_path not in sys.path:\n",
    "    sys.path.append(lib_path)\n",
    "\n"
   ]
  },
  {
   "cell_type": "code",
   "execution_count": 2,
   "metadata": {},
   "outputs": [
    {
     "name": "stdout",
     "output_type": "stream",
     "text": [
      "Using device: cuda\n"
     ]
    },
    {
     "name": "stderr",
     "output_type": "stream",
     "text": [
      "Processing Models:   0%|          | 0/16 [00:00<?, ?it/s]"
     ]
    },
    {
     "name": "stdout",
     "output_type": "stream",
     "text": [
      "Processing model: d:\\PruneLimit\\PruneLimitAnalyzer\\models\\AlexNet_CIFAR10_random_PD1_GPR-20_PRUNED_SEED_23.pth\n"
     ]
    },
    {
     "name": "stderr",
     "output_type": "stream",
     "text": [
      "Unsupported operator aten::max_pool2d encountered 3 time(s)\n",
      "Unsupported operator aten::add encountered 4 time(s)\n",
      "Trial 1/10: Running 500 iterations: 100%|██████████| 500/500 [00:01<00:00, 319.59it/s]\n",
      "Trial 2/10: Running 500 iterations: 100%|██████████| 500/500 [00:01<00:00, 320.36it/s]\n",
      "Trial 3/10: Running 500 iterations: 100%|██████████| 500/500 [00:01<00:00, 328.09it/s]\n",
      "Trial 4/10: Running 500 iterations: 100%|██████████| 500/500 [00:01<00:00, 313.19it/s]\n",
      "Trial 5/10: Running 500 iterations: 100%|██████████| 500/500 [00:01<00:00, 269.06it/s]\n",
      "Trial 6/10: Running 500 iterations: 100%|██████████| 500/500 [00:01<00:00, 271.35it/s]\n",
      "Trial 7/10: Running 500 iterations: 100%|██████████| 500/500 [00:01<00:00, 312.38it/s]\n",
      "Trial 8/10: Running 500 iterations: 100%|██████████| 500/500 [00:01<00:00, 299.78it/s]\n",
      "Trial 9/10: Running 500 iterations: 100%|██████████| 500/500 [00:01<00:00, 278.52it/s]\n",
      "Trial 10/10: Running 500 iterations: 100%|██████████| 500/500 [00:01<00:00, 270.38it/s]\n",
      "Processing Models:   6%|▋         | 1/16 [00:19<04:46, 19.12s/it]Unsupported operator aten::max_pool2d encountered 3 time(s)\n",
      "Unsupported operator aten::add encountered 4 time(s)\n"
     ]
    },
    {
     "name": "stdout",
     "output_type": "stream",
     "text": [
      "Processing model: d:\\PruneLimit\\PruneLimitAnalyzer\\models\\AlexNet_CIFAR10_random_PD1_GPR-30_PRUNED_SEED_23.pth\n"
     ]
    },
    {
     "name": "stderr",
     "output_type": "stream",
     "text": [
      "Trial 1/10: Running 500 iterations: 100%|██████████| 500/500 [00:01<00:00, 270.92it/s]\n",
      "Trial 2/10: Running 500 iterations: 100%|██████████| 500/500 [00:02<00:00, 247.80it/s]\n",
      "Trial 3/10: Running 500 iterations: 100%|██████████| 500/500 [00:01<00:00, 304.44it/s]\n",
      "Trial 4/10: Running 500 iterations: 100%|██████████| 500/500 [00:01<00:00, 311.66it/s]\n",
      "Trial 5/10: Running 500 iterations: 100%|██████████| 500/500 [00:01<00:00, 271.04it/s]\n",
      "Trial 6/10: Running 500 iterations: 100%|██████████| 500/500 [00:01<00:00, 306.17it/s]\n",
      "Trial 7/10: Running 500 iterations: 100%|██████████| 500/500 [00:01<00:00, 314.11it/s]\n",
      "Trial 8/10: Running 500 iterations: 100%|██████████| 500/500 [00:01<00:00, 293.87it/s]\n",
      "Trial 9/10: Running 500 iterations: 100%|██████████| 500/500 [00:01<00:00, 273.10it/s]\n",
      "Trial 10/10: Running 500 iterations: 100%|██████████| 500/500 [00:01<00:00, 263.90it/s]\n",
      "Processing Models:  12%|█▎        | 2/16 [00:36<04:16, 18.30s/it]Unsupported operator aten::max_pool2d encountered 3 time(s)\n",
      "Unsupported operator aten::add encountered 4 time(s)\n"
     ]
    },
    {
     "name": "stdout",
     "output_type": "stream",
     "text": [
      "Processing model: d:\\PruneLimit\\PruneLimitAnalyzer\\models\\AlexNet_CIFAR10_random_PD1_GPR-50_PRUNED_SEED_23.pth\n"
     ]
    },
    {
     "name": "stderr",
     "output_type": "stream",
     "text": [
      "Trial 1/10: Running 500 iterations: 100%|██████████| 500/500 [00:01<00:00, 288.80it/s]\n",
      "Trial 2/10: Running 500 iterations: 100%|██████████| 500/500 [00:01<00:00, 277.86it/s]\n",
      "Trial 3/10: Running 500 iterations: 100%|██████████| 500/500 [00:01<00:00, 260.94it/s]\n",
      "Trial 4/10: Running 500 iterations: 100%|██████████| 500/500 [00:02<00:00, 242.16it/s]\n",
      "Trial 5/10: Running 500 iterations: 100%|██████████| 500/500 [00:02<00:00, 244.79it/s]\n",
      "Trial 6/10: Running 500 iterations: 100%|██████████| 500/500 [00:02<00:00, 248.81it/s]\n",
      "Trial 7/10: Running 500 iterations: 100%|██████████| 500/500 [00:02<00:00, 185.81it/s]\n",
      "Trial 8/10: Running 500 iterations: 100%|██████████| 500/500 [00:02<00:00, 179.35it/s]\n",
      "Trial 9/10: Running 500 iterations: 100%|██████████| 500/500 [00:01<00:00, 316.33it/s]\n",
      "Trial 10/10: Running 500 iterations: 100%|██████████| 500/500 [00:01<00:00, 297.34it/s]\n",
      "Processing Models:  19%|█▉        | 3/16 [00:57<04:10, 19.26s/it]Unsupported operator aten::max_pool2d encountered 3 time(s)\n",
      "Unsupported operator aten::add encountered 4 time(s)\n"
     ]
    },
    {
     "name": "stdout",
     "output_type": "stream",
     "text": [
      "Processing model: d:\\PruneLimit\\PruneLimitAnalyzer\\models\\AlexNet_CIFAR10_random_PD2_GPR-20_PRUNED_SEED_23.pth\n"
     ]
    },
    {
     "name": "stderr",
     "output_type": "stream",
     "text": [
      "Trial 1/10: Running 500 iterations: 100%|██████████| 500/500 [00:02<00:00, 236.97it/s]\n",
      "Trial 2/10: Running 500 iterations: 100%|██████████| 500/500 [00:02<00:00, 228.53it/s]\n",
      "Trial 3/10: Running 500 iterations: 100%|██████████| 500/500 [00:02<00:00, 235.13it/s]\n",
      "Trial 4/10: Running 500 iterations: 100%|██████████| 500/500 [00:02<00:00, 238.24it/s]\n",
      "Trial 5/10: Running 500 iterations: 100%|██████████| 500/500 [00:02<00:00, 235.68it/s]\n",
      "Trial 6/10: Running 500 iterations: 100%|██████████| 500/500 [00:02<00:00, 235.00it/s]\n",
      "Trial 7/10: Running 500 iterations: 100%|██████████| 500/500 [00:02<00:00, 235.01it/s]\n",
      "Trial 8/10: Running 500 iterations: 100%|██████████| 500/500 [00:02<00:00, 232.23it/s]\n",
      "Trial 9/10: Running 500 iterations: 100%|██████████| 500/500 [00:02<00:00, 237.84it/s]\n",
      "Trial 10/10: Running 500 iterations: 100%|██████████| 500/500 [00:02<00:00, 237.58it/s]\n",
      "Processing Models:  25%|██▌       | 4/16 [01:18<04:01, 20.09s/it]Unsupported operator aten::max_pool2d encountered 3 time(s)\n",
      "Unsupported operator aten::add encountered 4 time(s)\n"
     ]
    },
    {
     "name": "stdout",
     "output_type": "stream",
     "text": [
      "Processing model: d:\\PruneLimit\\PruneLimitAnalyzer\\models\\AlexNet_CIFAR10_random_PD2_GPR-30_PRUNED_SEED_23.pth\n"
     ]
    },
    {
     "name": "stderr",
     "output_type": "stream",
     "text": [
      "Trial 1/10: Running 500 iterations: 100%|██████████| 500/500 [00:02<00:00, 234.46it/s]\n",
      "Trial 2/10: Running 500 iterations: 100%|██████████| 500/500 [00:02<00:00, 238.82it/s]\n",
      "Trial 3/10: Running 500 iterations: 100%|██████████| 500/500 [00:02<00:00, 237.73it/s]\n",
      "Trial 4/10: Running 500 iterations: 100%|██████████| 500/500 [00:02<00:00, 231.57it/s]\n",
      "Trial 5/10: Running 500 iterations: 100%|██████████| 500/500 [00:02<00:00, 230.95it/s]\n",
      "Trial 6/10: Running 500 iterations: 100%|██████████| 500/500 [00:02<00:00, 236.39it/s]\n",
      "Trial 7/10: Running 500 iterations: 100%|██████████| 500/500 [00:02<00:00, 242.39it/s]\n",
      "Trial 8/10: Running 500 iterations: 100%|██████████| 500/500 [00:02<00:00, 242.17it/s]\n",
      "Trial 9/10: Running 500 iterations: 100%|██████████| 500/500 [00:02<00:00, 233.27it/s]\n",
      "Trial 10/10: Running 500 iterations: 100%|██████████| 500/500 [00:02<00:00, 230.33it/s]\n",
      "Processing Models:  31%|███▏      | 5/16 [01:39<03:45, 20.53s/it]Unsupported operator aten::max_pool2d encountered 3 time(s)\n",
      "Unsupported operator aten::add encountered 4 time(s)\n"
     ]
    },
    {
     "name": "stdout",
     "output_type": "stream",
     "text": [
      "Processing model: d:\\PruneLimit\\PruneLimitAnalyzer\\models\\AlexNet_CIFAR10_random_PD2_GPR-50_PRUNED_SEED_23.pth\n"
     ]
    },
    {
     "name": "stderr",
     "output_type": "stream",
     "text": [
      "Trial 1/10: Running 500 iterations: 100%|██████████| 500/500 [00:01<00:00, 250.53it/s]\n",
      "Trial 2/10: Running 500 iterations: 100%|██████████| 500/500 [00:01<00:00, 262.56it/s]\n",
      "Trial 3/10: Running 500 iterations: 100%|██████████| 500/500 [00:01<00:00, 254.08it/s]\n",
      "Trial 4/10: Running 500 iterations: 100%|██████████| 500/500 [00:02<00:00, 246.92it/s]\n",
      "Trial 5/10: Running 500 iterations: 100%|██████████| 500/500 [00:02<00:00, 234.48it/s]\n",
      "Trial 6/10: Running 500 iterations: 100%|██████████| 500/500 [00:02<00:00, 239.17it/s]\n",
      "Trial 7/10: Running 500 iterations: 100%|██████████| 500/500 [00:02<00:00, 244.55it/s]\n",
      "Trial 8/10: Running 500 iterations: 100%|██████████| 500/500 [00:02<00:00, 235.02it/s]\n",
      "Trial 9/10: Running 500 iterations: 100%|██████████| 500/500 [00:02<00:00, 231.31it/s]\n",
      "Trial 10/10: Running 500 iterations: 100%|██████████| 500/500 [00:02<00:00, 241.24it/s]\n",
      "Processing Models:  38%|███▊      | 6/16 [02:00<03:25, 20.56s/it]Unsupported operator aten::max_pool2d encountered 3 time(s)\n",
      "Unsupported operator aten::add encountered 4 time(s)\n"
     ]
    },
    {
     "name": "stdout",
     "output_type": "stream",
     "text": [
      "Processing model: d:\\PruneLimit\\PruneLimitAnalyzer\\models\\AlexNet_CIFAR10_random_PD3_GPR-20_PRUNED_SEED_23.pth\n"
     ]
    },
    {
     "name": "stderr",
     "output_type": "stream",
     "text": [
      "Trial 1/10: Running 500 iterations: 100%|██████████| 500/500 [00:02<00:00, 207.25it/s]\n",
      "Trial 2/10: Running 500 iterations: 100%|██████████| 500/500 [00:02<00:00, 226.64it/s]\n",
      "Trial 3/10: Running 500 iterations: 100%|██████████| 500/500 [00:02<00:00, 224.78it/s]\n",
      "Trial 4/10: Running 500 iterations: 100%|██████████| 500/500 [00:02<00:00, 234.87it/s]\n",
      "Trial 5/10: Running 500 iterations: 100%|██████████| 500/500 [00:02<00:00, 241.09it/s]\n",
      "Trial 6/10: Running 500 iterations: 100%|██████████| 500/500 [00:02<00:00, 240.15it/s]\n",
      "Trial 7/10: Running 500 iterations: 100%|██████████| 500/500 [00:02<00:00, 227.49it/s]\n",
      "Trial 8/10: Running 500 iterations: 100%|██████████| 500/500 [00:02<00:00, 231.06it/s]\n",
      "Trial 9/10: Running 500 iterations: 100%|██████████| 500/500 [00:02<00:00, 238.12it/s]\n",
      "Trial 10/10: Running 500 iterations: 100%|██████████| 500/500 [00:02<00:00, 244.58it/s]\n",
      "Processing Models:  44%|████▍     | 7/16 [02:22<03:08, 20.95s/it]Unsupported operator aten::max_pool2d encountered 3 time(s)\n",
      "Unsupported operator aten::add encountered 4 time(s)\n"
     ]
    },
    {
     "name": "stdout",
     "output_type": "stream",
     "text": [
      "Processing model: d:\\PruneLimit\\PruneLimitAnalyzer\\models\\AlexNet_CIFAR10_random_PD3_GPR-30_PRUNED_SEED_23.pth\n"
     ]
    },
    {
     "name": "stderr",
     "output_type": "stream",
     "text": [
      "Trial 1/10: Running 500 iterations: 100%|██████████| 500/500 [00:02<00:00, 239.19it/s]\n",
      "Trial 2/10: Running 500 iterations: 100%|██████████| 500/500 [00:02<00:00, 241.38it/s]\n",
      "Trial 3/10: Running 500 iterations: 100%|██████████| 500/500 [00:01<00:00, 258.47it/s]\n",
      "Trial 4/10: Running 500 iterations: 100%|██████████| 500/500 [00:01<00:00, 331.16it/s]\n",
      "Trial 5/10: Running 500 iterations: 100%|██████████| 500/500 [00:01<00:00, 321.11it/s]\n",
      "Trial 6/10: Running 500 iterations: 100%|██████████| 500/500 [00:01<00:00, 256.29it/s]\n",
      "Trial 7/10: Running 500 iterations: 100%|██████████| 500/500 [00:02<00:00, 238.45it/s]\n",
      "Trial 8/10: Running 500 iterations: 100%|██████████| 500/500 [00:02<00:00, 221.31it/s]\n",
      "Trial 9/10: Running 500 iterations: 100%|██████████| 500/500 [00:01<00:00, 280.35it/s]\n",
      "Trial 10/10: Running 500 iterations: 100%|██████████| 500/500 [00:01<00:00, 303.83it/s]\n",
      "Processing Models:  50%|█████     | 8/16 [02:41<02:42, 20.33s/it]Unsupported operator aten::max_pool2d encountered 3 time(s)\n",
      "Unsupported operator aten::add encountered 4 time(s)\n"
     ]
    },
    {
     "name": "stdout",
     "output_type": "stream",
     "text": [
      "Processing model: d:\\PruneLimit\\PruneLimitAnalyzer\\models\\AlexNet_CIFAR10_random_PD3_GPR-50_PRUNED_SEED_23.pth\n"
     ]
    },
    {
     "name": "stderr",
     "output_type": "stream",
     "text": [
      "Trial 1/10: Running 500 iterations: 100%|██████████| 500/500 [00:01<00:00, 289.18it/s]\n",
      "Trial 2/10: Running 500 iterations: 100%|██████████| 500/500 [00:01<00:00, 277.14it/s]\n",
      "Trial 3/10: Running 500 iterations: 100%|██████████| 500/500 [00:01<00:00, 255.25it/s]\n",
      "Trial 4/10: Running 500 iterations: 100%|██████████| 500/500 [00:02<00:00, 236.16it/s]\n",
      "Trial 5/10: Running 500 iterations: 100%|██████████| 500/500 [00:02<00:00, 242.56it/s]\n",
      "Trial 6/10: Running 500 iterations: 100%|██████████| 500/500 [00:01<00:00, 259.97it/s]\n",
      "Trial 7/10: Running 500 iterations: 100%|██████████| 500/500 [00:01<00:00, 273.42it/s]\n",
      "Trial 8/10: Running 500 iterations: 100%|██████████| 500/500 [00:02<00:00, 246.06it/s]\n",
      "Trial 9/10: Running 500 iterations: 100%|██████████| 500/500 [00:02<00:00, 239.74it/s]\n",
      "Trial 10/10: Running 500 iterations: 100%|██████████| 500/500 [00:02<00:00, 236.91it/s]\n",
      "Processing Models:  56%|█████▋    | 9/16 [03:01<02:21, 20.15s/it]Unsupported operator aten::max_pool2d encountered 3 time(s)\n",
      "Unsupported operator aten::add encountered 4 time(s)\n"
     ]
    },
    {
     "name": "stdout",
     "output_type": "stream",
     "text": [
      "Processing model: d:\\PruneLimit\\PruneLimitAnalyzer\\models\\AlexNet_CIFAR10_random_PD4_GPR-20_PRUNED_SEED_23.pth\n"
     ]
    },
    {
     "name": "stderr",
     "output_type": "stream",
     "text": [
      "Trial 1/10: Running 500 iterations: 100%|██████████| 500/500 [00:02<00:00, 206.36it/s]\n",
      "Trial 2/10: Running 500 iterations: 100%|██████████| 500/500 [00:02<00:00, 235.04it/s]\n",
      "Trial 3/10: Running 500 iterations: 100%|██████████| 500/500 [00:02<00:00, 232.23it/s]\n",
      "Trial 4/10: Running 500 iterations: 100%|██████████| 500/500 [00:01<00:00, 256.41it/s]\n",
      "Trial 5/10: Running 500 iterations: 100%|██████████| 500/500 [00:01<00:00, 250.07it/s]\n",
      "Trial 6/10: Running 500 iterations: 100%|██████████| 500/500 [00:01<00:00, 272.91it/s]\n",
      "Trial 7/10: Running 500 iterations: 100%|██████████| 500/500 [00:02<00:00, 243.56it/s]\n",
      "Trial 8/10: Running 500 iterations: 100%|██████████| 500/500 [00:01<00:00, 278.20it/s]\n",
      "Trial 9/10: Running 500 iterations: 100%|██████████| 500/500 [00:01<00:00, 262.43it/s]\n",
      "Trial 10/10: Running 500 iterations: 100%|██████████| 500/500 [00:01<00:00, 275.85it/s]\n",
      "Processing Models:  62%|██████▎   | 10/16 [03:21<02:00, 20.15s/it]Unsupported operator aten::max_pool2d encountered 3 time(s)\n",
      "Unsupported operator aten::add encountered 4 time(s)\n"
     ]
    },
    {
     "name": "stdout",
     "output_type": "stream",
     "text": [
      "Processing model: d:\\PruneLimit\\PruneLimitAnalyzer\\models\\AlexNet_CIFAR10_random_PD4_GPR-30_PRUNED_SEED_23.pth\n"
     ]
    },
    {
     "name": "stderr",
     "output_type": "stream",
     "text": [
      "Trial 1/10: Running 500 iterations: 100%|██████████| 500/500 [00:01<00:00, 283.29it/s]\n",
      "Trial 2/10: Running 500 iterations: 100%|██████████| 500/500 [00:01<00:00, 282.93it/s]\n",
      "Trial 3/10: Running 500 iterations: 100%|██████████| 500/500 [00:01<00:00, 271.40it/s]\n",
      "Trial 4/10: Running 500 iterations: 100%|██████████| 500/500 [00:01<00:00, 273.59it/s]\n",
      "Trial 5/10: Running 500 iterations: 100%|██████████| 500/500 [00:01<00:00, 252.19it/s]\n",
      "Trial 6/10: Running 500 iterations: 100%|██████████| 500/500 [00:02<00:00, 248.09it/s]\n",
      "Trial 7/10: Running 500 iterations: 100%|██████████| 500/500 [00:01<00:00, 264.12it/s]\n",
      "Trial 8/10: Running 500 iterations: 100%|██████████| 500/500 [00:01<00:00, 263.91it/s]\n",
      "Trial 9/10: Running 500 iterations: 100%|██████████| 500/500 [00:01<00:00, 320.74it/s]\n",
      "Trial 10/10: Running 500 iterations: 100%|██████████| 500/500 [00:01<00:00, 332.02it/s]\n",
      "Processing Models:  69%|██████▉   | 11/16 [03:39<01:37, 19.54s/it]Unsupported operator aten::max_pool2d encountered 3 time(s)\n",
      "Unsupported operator aten::add encountered 4 time(s)\n"
     ]
    },
    {
     "name": "stdout",
     "output_type": "stream",
     "text": [
      "Processing model: d:\\PruneLimit\\PruneLimitAnalyzer\\models\\AlexNet_CIFAR10_random_PD4_GPR-50_PRUNED_SEED_23.pth\n"
     ]
    },
    {
     "name": "stderr",
     "output_type": "stream",
     "text": [
      "Trial 1/10: Running 500 iterations: 100%|██████████| 500/500 [00:01<00:00, 304.54it/s]\n",
      "Trial 2/10: Running 500 iterations: 100%|██████████| 500/500 [00:01<00:00, 292.44it/s]\n",
      "Trial 3/10: Running 500 iterations: 100%|██████████| 500/500 [00:01<00:00, 284.99it/s]\n",
      "Trial 4/10: Running 500 iterations: 100%|██████████| 500/500 [00:01<00:00, 281.77it/s]\n",
      "Trial 5/10: Running 500 iterations: 100%|██████████| 500/500 [00:01<00:00, 272.35it/s]\n",
      "Trial 6/10: Running 500 iterations: 100%|██████████| 500/500 [00:02<00:00, 242.10it/s]\n",
      "Trial 7/10: Running 500 iterations: 100%|██████████| 500/500 [00:02<00:00, 241.35it/s]\n",
      "Trial 8/10: Running 500 iterations: 100%|██████████| 500/500 [00:02<00:00, 245.85it/s]\n",
      "Trial 9/10: Running 500 iterations: 100%|██████████| 500/500 [00:02<00:00, 241.80it/s]\n",
      "Trial 10/10: Running 500 iterations: 100%|██████████| 500/500 [00:02<00:00, 232.39it/s]\n",
      "Processing Models:  75%|███████▌  | 12/16 [03:58<01:17, 19.43s/it]Unsupported operator aten::max_pool2d encountered 3 time(s)\n",
      "Unsupported operator aten::add encountered 4 time(s)\n"
     ]
    },
    {
     "name": "stdout",
     "output_type": "stream",
     "text": [
      "Processing model: d:\\PruneLimit\\PruneLimitAnalyzer\\models\\AlexNet_CIFAR10_random_PD5_GPR-20_PRUNED_SEED_23.pth\n"
     ]
    },
    {
     "name": "stderr",
     "output_type": "stream",
     "text": [
      "Trial 1/10: Running 500 iterations: 100%|██████████| 500/500 [00:01<00:00, 315.63it/s]\n",
      "Trial 2/10: Running 500 iterations: 100%|██████████| 500/500 [00:01<00:00, 326.64it/s]\n",
      "Trial 3/10: Running 500 iterations: 100%|██████████| 500/500 [00:01<00:00, 296.96it/s]\n",
      "Trial 4/10: Running 500 iterations: 100%|██████████| 500/500 [00:01<00:00, 284.45it/s]\n",
      "Trial 5/10: Running 500 iterations: 100%|██████████| 500/500 [00:01<00:00, 255.91it/s]\n",
      "Trial 6/10: Running 500 iterations: 100%|██████████| 500/500 [00:02<00:00, 237.05it/s]\n",
      "Trial 7/10: Running 500 iterations: 100%|██████████| 500/500 [00:02<00:00, 242.12it/s]\n",
      "Trial 8/10: Running 500 iterations: 100%|██████████| 500/500 [00:01<00:00, 267.37it/s]\n",
      "Trial 9/10: Running 500 iterations: 100%|██████████| 500/500 [00:01<00:00, 329.73it/s]\n",
      "Trial 10/10: Running 500 iterations: 100%|██████████| 500/500 [00:01<00:00, 273.48it/s]\n",
      "Processing Models:  81%|████████▏ | 13/16 [04:16<00:57, 19.01s/it]Unsupported operator aten::max_pool2d encountered 3 time(s)\n",
      "Unsupported operator aten::add encountered 4 time(s)\n"
     ]
    },
    {
     "name": "stdout",
     "output_type": "stream",
     "text": [
      "Processing model: d:\\PruneLimit\\PruneLimitAnalyzer\\models\\AlexNet_CIFAR10_random_PD5_GPR-30_PRUNED_SEED_23.pth\n"
     ]
    },
    {
     "name": "stderr",
     "output_type": "stream",
     "text": [
      "Trial 1/10: Running 500 iterations: 100%|██████████| 500/500 [00:01<00:00, 260.88it/s]\n",
      "Trial 2/10: Running 500 iterations: 100%|██████████| 500/500 [00:01<00:00, 267.11it/s]\n",
      "Trial 3/10: Running 500 iterations: 100%|██████████| 500/500 [00:01<00:00, 258.93it/s]\n",
      "Trial 4/10: Running 500 iterations: 100%|██████████| 500/500 [00:02<00:00, 227.73it/s]\n",
      "Trial 5/10: Running 500 iterations: 100%|██████████| 500/500 [00:02<00:00, 244.66it/s]\n",
      "Trial 6/10: Running 500 iterations: 100%|██████████| 500/500 [00:01<00:00, 264.46it/s]\n",
      "Trial 7/10: Running 500 iterations: 100%|██████████| 500/500 [00:01<00:00, 268.92it/s]\n",
      "Trial 8/10: Running 500 iterations: 100%|██████████| 500/500 [00:01<00:00, 272.73it/s]\n",
      "Trial 9/10: Running 500 iterations: 100%|██████████| 500/500 [00:01<00:00, 271.34it/s]\n",
      "Trial 10/10: Running 500 iterations: 100%|██████████| 500/500 [00:01<00:00, 303.84it/s]\n",
      "Processing Models:  88%|████████▊ | 14/16 [04:35<00:38, 19.05s/it]Unsupported operator aten::max_pool2d encountered 3 time(s)\n",
      "Unsupported operator aten::add encountered 4 time(s)\n"
     ]
    },
    {
     "name": "stdout",
     "output_type": "stream",
     "text": [
      "Processing model: d:\\PruneLimit\\PruneLimitAnalyzer\\models\\AlexNet_CIFAR10_random_PD5_GPR-50_PRUNED_SEED_23.pth\n"
     ]
    },
    {
     "name": "stderr",
     "output_type": "stream",
     "text": [
      "Trial 1/10: Running 500 iterations: 100%|██████████| 500/500 [00:01<00:00, 311.76it/s]\n",
      "Trial 2/10: Running 500 iterations: 100%|██████████| 500/500 [00:01<00:00, 320.71it/s]\n",
      "Trial 3/10: Running 500 iterations: 100%|██████████| 500/500 [00:01<00:00, 295.47it/s]\n",
      "Trial 4/10: Running 500 iterations: 100%|██████████| 500/500 [00:01<00:00, 285.90it/s]\n",
      "Trial 5/10: Running 500 iterations: 100%|██████████| 500/500 [00:01<00:00, 258.84it/s]\n",
      "Trial 6/10: Running 500 iterations: 100%|██████████| 500/500 [00:02<00:00, 245.56it/s]\n",
      "Trial 7/10: Running 500 iterations: 100%|██████████| 500/500 [00:02<00:00, 239.59it/s]\n",
      "Trial 8/10: Running 500 iterations: 100%|██████████| 500/500 [00:02<00:00, 246.22it/s]\n",
      "Trial 9/10: Running 500 iterations: 100%|██████████| 500/500 [00:02<00:00, 245.54it/s]\n",
      "Trial 10/10: Running 500 iterations: 100%|██████████| 500/500 [00:02<00:00, 243.87it/s]\n",
      "Processing Models:  94%|█████████▍| 15/16 [04:54<00:18, 18.99s/it]Unsupported operator aten::max_pool2d encountered 3 time(s)\n"
     ]
    },
    {
     "name": "stdout",
     "output_type": "stream",
     "text": [
      "Processing model: d:\\PruneLimit\\PruneLimitAnalyzer\\models\\AlexNet_CIFAR10_UNPRUNED.pth\n"
     ]
    },
    {
     "name": "stderr",
     "output_type": "stream",
     "text": [
      "Trial 1/10: Running 500 iterations: 100%|██████████| 500/500 [00:02<00:00, 207.97it/s]\n",
      "Trial 2/10: Running 500 iterations: 100%|██████████| 500/500 [00:02<00:00, 221.36it/s]\n",
      "Trial 3/10: Running 500 iterations: 100%|██████████| 500/500 [00:02<00:00, 227.36it/s]\n",
      "Trial 4/10: Running 500 iterations: 100%|██████████| 500/500 [00:02<00:00, 222.93it/s]\n",
      "Trial 5/10: Running 500 iterations: 100%|██████████| 500/500 [00:02<00:00, 225.07it/s]\n",
      "Trial 6/10: Running 500 iterations: 100%|██████████| 500/500 [00:02<00:00, 230.52it/s]\n",
      "Trial 7/10: Running 500 iterations: 100%|██████████| 500/500 [00:02<00:00, 224.55it/s]\n",
      "Trial 8/10: Running 500 iterations: 100%|██████████| 500/500 [00:02<00:00, 236.64it/s]\n",
      "Trial 9/10: Running 500 iterations: 100%|██████████| 500/500 [00:02<00:00, 231.37it/s]\n",
      "Trial 10/10: Running 500 iterations: 100%|██████████| 500/500 [00:02<00:00, 239.42it/s]\n",
      "Processing Models: 100%|██████████| 16/16 [05:16<00:00, 19.80s/it]"
     ]
    },
    {
     "name": "stdout",
     "output_type": "stream",
     "text": [
      "Results saved to experiment_results.csv\n"
     ]
    },
    {
     "name": "stderr",
     "output_type": "stream",
     "text": [
      "\n"
     ]
    },
    {
     "data": {
      "text/html": [
       "<div>\n",
       "<style scoped>\n",
       "    .dataframe tbody tr th:only-of-type {\n",
       "        vertical-align: middle;\n",
       "    }\n",
       "\n",
       "    .dataframe tbody tr th {\n",
       "        vertical-align: top;\n",
       "    }\n",
       "\n",
       "    .dataframe thead th {\n",
       "        text-align: right;\n",
       "    }\n",
       "</style>\n",
       "<table border=\"1\" class=\"dataframe\">\n",
       "  <thead>\n",
       "    <tr style=\"text-align: right;\">\n",
       "      <th></th>\n",
       "      <th>GPR</th>\n",
       "      <th>Architecture</th>\n",
       "      <th>Pruning Distribution</th>\n",
       "      <th>BATCH_SIZE</th>\n",
       "      <th>Mean Time per Sample (s)</th>\n",
       "      <th>STD Time per Sample (s)</th>\n",
       "      <th>Mean Energy per Sample (J)</th>\n",
       "      <th>STD Energy per Sample (J)</th>\n",
       "      <th>Parameters</th>\n",
       "      <th>FLOPs</th>\n",
       "    </tr>\n",
       "  </thead>\n",
       "  <tbody>\n",
       "    <tr>\n",
       "      <th>0</th>\n",
       "      <td>20</td>\n",
       "      <td>AlexNet</td>\n",
       "      <td>PD1</td>\n",
       "      <td>1</td>\n",
       "      <td>0.001267</td>\n",
       "      <td>0.000087</td>\n",
       "      <td>0.018308</td>\n",
       "      <td>0.004266</td>\n",
       "      <td>40026038</td>\n",
       "      <td>468902342</td>\n",
       "    </tr>\n",
       "    <tr>\n",
       "      <th>1</th>\n",
       "      <td>30</td>\n",
       "      <td>AlexNet</td>\n",
       "      <td>PD1</td>\n",
       "      <td>1</td>\n",
       "      <td>0.001308</td>\n",
       "      <td>0.000070</td>\n",
       "      <td>0.016609</td>\n",
       "      <td>0.003668</td>\n",
       "      <td>30985292</td>\n",
       "      <td>365676204</td>\n",
       "    </tr>\n",
       "    <tr>\n",
       "      <th>2</th>\n",
       "      <td>50</td>\n",
       "      <td>AlexNet</td>\n",
       "      <td>PD1</td>\n",
       "      <td>1</td>\n",
       "      <td>0.001244</td>\n",
       "      <td>0.000416</td>\n",
       "      <td>0.012672</td>\n",
       "      <td>0.005623</td>\n",
       "      <td>16453256</td>\n",
       "      <td>197144928</td>\n",
       "    </tr>\n",
       "    <tr>\n",
       "      <th>3</th>\n",
       "      <td>20</td>\n",
       "      <td>AlexNet</td>\n",
       "      <td>PD2</td>\n",
       "      <td>1</td>\n",
       "      <td>0.001408</td>\n",
       "      <td>0.000031</td>\n",
       "      <td>0.016823</td>\n",
       "      <td>0.002688</td>\n",
       "      <td>36841650</td>\n",
       "      <td>464725412</td>\n",
       "    </tr>\n",
       "    <tr>\n",
       "      <th>4</th>\n",
       "      <td>30</td>\n",
       "      <td>AlexNet</td>\n",
       "      <td>PD2</td>\n",
       "      <td>1</td>\n",
       "      <td>0.001386</td>\n",
       "      <td>0.000053</td>\n",
       "      <td>0.013616</td>\n",
       "      <td>0.003189</td>\n",
       "      <td>26913043</td>\n",
       "      <td>358293666</td>\n",
       "    </tr>\n",
       "    <tr>\n",
       "      <th>5</th>\n",
       "      <td>50</td>\n",
       "      <td>AlexNet</td>\n",
       "      <td>PD2</td>\n",
       "      <td>1</td>\n",
       "      <td>0.001211</td>\n",
       "      <td>0.000077</td>\n",
       "      <td>0.012295</td>\n",
       "      <td>0.003411</td>\n",
       "      <td>11323759</td>\n",
       "      <td>189546168</td>\n",
       "    </tr>\n",
       "    <tr>\n",
       "      <th>6</th>\n",
       "      <td>20</td>\n",
       "      <td>AlexNet</td>\n",
       "      <td>PD3</td>\n",
       "      <td>1</td>\n",
       "      <td>0.001504</td>\n",
       "      <td>0.000097</td>\n",
       "      <td>0.017807</td>\n",
       "      <td>0.003815</td>\n",
       "      <td>44070946</td>\n",
       "      <td>476470562</td>\n",
       "    </tr>\n",
       "    <tr>\n",
       "      <th>7</th>\n",
       "      <td>30</td>\n",
       "      <td>AlexNet</td>\n",
       "      <td>PD3</td>\n",
       "      <td>1</td>\n",
       "      <td>0.001368</td>\n",
       "      <td>0.000147</td>\n",
       "      <td>0.018179</td>\n",
       "      <td>0.005057</td>\n",
       "      <td>36457297</td>\n",
       "      <td>375712791</td>\n",
       "    </tr>\n",
       "    <tr>\n",
       "      <th>8</th>\n",
       "      <td>50</td>\n",
       "      <td>AlexNet</td>\n",
       "      <td>PD3</td>\n",
       "      <td>1</td>\n",
       "      <td>0.001254</td>\n",
       "      <td>0.000045</td>\n",
       "      <td>0.014421</td>\n",
       "      <td>0.004027</td>\n",
       "      <td>22765650</td>\n",
       "      <td>210149574</td>\n",
       "    </tr>\n",
       "    <tr>\n",
       "      <th>9</th>\n",
       "      <td>20</td>\n",
       "      <td>AlexNet</td>\n",
       "      <td>PD4</td>\n",
       "      <td>1</td>\n",
       "      <td>0.001401</td>\n",
       "      <td>0.000119</td>\n",
       "      <td>0.017891</td>\n",
       "      <td>0.004471</td>\n",
       "      <td>37692380</td>\n",
       "      <td>481006493</td>\n",
       "    </tr>\n",
       "    <tr>\n",
       "      <th>10</th>\n",
       "      <td>30</td>\n",
       "      <td>AlexNet</td>\n",
       "      <td>PD4</td>\n",
       "      <td>1</td>\n",
       "      <td>0.001279</td>\n",
       "      <td>0.000089</td>\n",
       "      <td>0.012976</td>\n",
       "      <td>0.003769</td>\n",
       "      <td>27982174</td>\n",
       "      <td>378262440</td>\n",
       "    </tr>\n",
       "    <tr>\n",
       "      <th>11</th>\n",
       "      <td>50</td>\n",
       "      <td>AlexNet</td>\n",
       "      <td>PD4</td>\n",
       "      <td>1</td>\n",
       "      <td>0.001197</td>\n",
       "      <td>0.000075</td>\n",
       "      <td>0.012142</td>\n",
       "      <td>0.002523</td>\n",
       "      <td>12918820</td>\n",
       "      <td>203625090</td>\n",
       "    </tr>\n",
       "    <tr>\n",
       "      <th>12</th>\n",
       "      <td>20</td>\n",
       "      <td>AlexNet</td>\n",
       "      <td>PD5</td>\n",
       "      <td>1</td>\n",
       "      <td>0.001337</td>\n",
       "      <td>0.000121</td>\n",
       "      <td>0.016395</td>\n",
       "      <td>0.004889</td>\n",
       "      <td>42285583</td>\n",
       "      <td>468299627</td>\n",
       "    </tr>\n",
       "    <tr>\n",
       "      <th>13</th>\n",
       "      <td>30</td>\n",
       "      <td>AlexNet</td>\n",
       "      <td>PD5</td>\n",
       "      <td>1</td>\n",
       "      <td>0.001335</td>\n",
       "      <td>0.000075</td>\n",
       "      <td>0.014401</td>\n",
       "      <td>0.003053</td>\n",
       "      <td>33738583</td>\n",
       "      <td>363837696</td>\n",
       "    </tr>\n",
       "    <tr>\n",
       "      <th>14</th>\n",
       "      <td>50</td>\n",
       "      <td>AlexNet</td>\n",
       "      <td>PD5</td>\n",
       "      <td>1</td>\n",
       "      <td>0.001147</td>\n",
       "      <td>0.000049</td>\n",
       "      <td>0.013201</td>\n",
       "      <td>0.005556</td>\n",
       "      <td>19662664</td>\n",
       "      <td>194247576</td>\n",
       "    </tr>\n",
       "    <tr>\n",
       "      <th>15</th>\n",
       "      <td>0</td>\n",
       "      <td>AlexNet</td>\n",
       "      <td>N/A</td>\n",
       "      <td>1</td>\n",
       "      <td>0.001504</td>\n",
       "      <td>0.000090</td>\n",
       "      <td>0.015137</td>\n",
       "      <td>0.003554</td>\n",
       "      <td>61100840</td>\n",
       "      <td>714197696</td>\n",
       "    </tr>\n",
       "  </tbody>\n",
       "</table>\n",
       "</div>"
      ],
      "text/plain": [
       "    GPR Architecture Pruning Distribution  BATCH_SIZE  \\\n",
       "0    20      AlexNet                  PD1           1   \n",
       "1    30      AlexNet                  PD1           1   \n",
       "2    50      AlexNet                  PD1           1   \n",
       "3    20      AlexNet                  PD2           1   \n",
       "4    30      AlexNet                  PD2           1   \n",
       "5    50      AlexNet                  PD2           1   \n",
       "6    20      AlexNet                  PD3           1   \n",
       "7    30      AlexNet                  PD3           1   \n",
       "8    50      AlexNet                  PD3           1   \n",
       "9    20      AlexNet                  PD4           1   \n",
       "10   30      AlexNet                  PD4           1   \n",
       "11   50      AlexNet                  PD4           1   \n",
       "12   20      AlexNet                  PD5           1   \n",
       "13   30      AlexNet                  PD5           1   \n",
       "14   50      AlexNet                  PD5           1   \n",
       "15    0      AlexNet                  N/A           1   \n",
       "\n",
       "    Mean Time per Sample (s)  STD Time per Sample (s)  \\\n",
       "0                   0.001267                 0.000087   \n",
       "1                   0.001308                 0.000070   \n",
       "2                   0.001244                 0.000416   \n",
       "3                   0.001408                 0.000031   \n",
       "4                   0.001386                 0.000053   \n",
       "5                   0.001211                 0.000077   \n",
       "6                   0.001504                 0.000097   \n",
       "7                   0.001368                 0.000147   \n",
       "8                   0.001254                 0.000045   \n",
       "9                   0.001401                 0.000119   \n",
       "10                  0.001279                 0.000089   \n",
       "11                  0.001197                 0.000075   \n",
       "12                  0.001337                 0.000121   \n",
       "13                  0.001335                 0.000075   \n",
       "14                  0.001147                 0.000049   \n",
       "15                  0.001504                 0.000090   \n",
       "\n",
       "    Mean Energy per Sample (J)  STD Energy per Sample (J)  Parameters  \\\n",
       "0                     0.018308                   0.004266    40026038   \n",
       "1                     0.016609                   0.003668    30985292   \n",
       "2                     0.012672                   0.005623    16453256   \n",
       "3                     0.016823                   0.002688    36841650   \n",
       "4                     0.013616                   0.003189    26913043   \n",
       "5                     0.012295                   0.003411    11323759   \n",
       "6                     0.017807                   0.003815    44070946   \n",
       "7                     0.018179                   0.005057    36457297   \n",
       "8                     0.014421                   0.004027    22765650   \n",
       "9                     0.017891                   0.004471    37692380   \n",
       "10                    0.012976                   0.003769    27982174   \n",
       "11                    0.012142                   0.002523    12918820   \n",
       "12                    0.016395                   0.004889    42285583   \n",
       "13                    0.014401                   0.003053    33738583   \n",
       "14                    0.013201                   0.005556    19662664   \n",
       "15                    0.015137                   0.003554    61100840   \n",
       "\n",
       "        FLOPs  \n",
       "0   468902342  \n",
       "1   365676204  \n",
       "2   197144928  \n",
       "3   464725412  \n",
       "4   358293666  \n",
       "5   189546168  \n",
       "6   476470562  \n",
       "7   375712791  \n",
       "8   210149574  \n",
       "9   481006493  \n",
       "10  378262440  \n",
       "11  203625090  \n",
       "12  468299627  \n",
       "13  363837696  \n",
       "14  194247576  \n",
       "15  714197696  "
      ]
     },
     "execution_count": 2,
     "metadata": {},
     "output_type": "execute_result"
    }
   ],
   "source": [
    "import os\n",
    "import torch\n",
    "import pandas as pd\n",
    "from prunelimitanalizer import ExperimentRunner\n",
    "\n",
    "\n",
    "model_dir = os.path.abspath(os.path.join(os.getcwd(), \"..\", \"models\"))\n",
    "\n",
    "\n",
    "# Define batch sizes and number of trials\n",
    "batch_sizes = [1]\n",
    "num_trials = 10\n",
    "\n",
    "# Select the device for inference\n",
    "device = torch.device(\"cuda\" if torch.cuda.is_available() else \"cpu\")\n",
    "print(f\"Using device: {device}\")\n",
    "\n",
    "# Initialize and run the experiment\n",
    "experiment = ExperimentRunner(model_dir, batch_sizes, num_trials, num_iters=500)\n",
    "\n",
    "results_df = experiment.run_experiment()\n",
    "\n",
    "# Save results to a CSV file\n",
    "results_csv_path = \"experiment_results.csv\"\n",
    "results_df.to_csv(results_csv_path, index=False)\n",
    "print(f\"Results saved to {results_csv_path}\")\n",
    "\n",
    "# Display results\n",
    "results_df"
   ]
  }
 ],
 "metadata": {
  "kernelspec": {
   "display_name": "pruning_env_v2",
   "language": "python",
   "name": "python3"
  },
  "language_info": {
   "codemirror_mode": {
    "name": "ipython",
    "version": 3
   },
   "file_extension": ".py",
   "mimetype": "text/x-python",
   "name": "python",
   "nbconvert_exporter": "python",
   "pygments_lexer": "ipython3",
   "version": "3.11.7"
  }
 },
 "nbformat": 4,
 "nbformat_minor": 2
}
