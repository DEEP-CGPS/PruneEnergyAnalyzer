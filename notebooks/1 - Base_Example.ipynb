{
 "cells": [
  {
   "cell_type": "markdown",
   "metadata": {},
   "source": [
    "# Experimentation Notebook\n",
    "\n",
    "This notebook demonstrates how to use the `pruning_limit_analysis` library to analyze the energy consumption and inference performance of pruned neural network models.\n",
    "\n",
    "## Structure of Model Filenames\n",
    "\n",
    "The models should be named following this convention:\n",
    "- `{ARCHITECTURE}`: Model architecture (e.g., `AlexNet`, `VGG16`)\n",
    "- `{DATASET}`: Dataset used for training (e.g., `CIFAR10`)\n",
    "- `{PRUNING_DISTRIBUTION}`: Pruning distribution strategy (e.g., `random_PD3`)\n",
    "- `{PRUNING_RATIO}`: Global pruning ratio in percentage (e.g., `20` for 20%)\n",
    "- `{STATE}`: Either `PRUNED` or `UNPRUNED`\n",
    "\n",
    "Example:\n",
    "\n",
    "`{ARCHITECTURE}_{DATASET}_{PRUNING_DISTRIBUTION}_GPR-{PRUNING_RATIO}_{SEED}.pth`\n",
    "\n",
    "### Case of Unpruned Models\n",
    "\n",
    "For unpruned models, the filename should follow a similar convention but with `UNPRUNED` as the state and no pruning ratio:\n",
    "`{ARCHITECTURE}_{DATASET}_UNPRUNED.pth`\n",
    "\n",
    "Since these models are not pruned, their pruning ratio is considered `0%`, and they serve as a baseline for comparison against pruned versions.\n",
    "\n",
    "## Parameters for the Experiment\n",
    "\n",
    "- `model_dir`: Path where models are stored.\n",
    "- `batch_sizes`: List of batch sizes to test.\n",
    "- `num_trials`: Number of trials per experiment.\n",
    "- `device`: GPU or CPU for inference."
   ]
  },
  {
   "cell_type": "code",
   "execution_count": 1,
   "metadata": {},
   "outputs": [],
   "source": [
    "import sys\n",
    "import os\n",
    "\n",
    "lib_path = os.path.abspath(os.path.join(os.getcwd(), \"..\"))\n",
    "if lib_path not in sys.path:\n",
    "    sys.path.append(lib_path)\n",
    "\n"
   ]
  },
  {
   "cell_type": "code",
   "execution_count": 2,
   "metadata": {},
   "outputs": [
    {
     "name": "stdout",
     "output_type": "stream",
     "text": [
      "Using device: cuda\n"
     ]
    },
    {
     "name": "stderr",
     "output_type": "stream",
     "text": [
      "Processing Models:   0%|          | 0/31 [00:00<?, ?it/s]"
     ]
    },
    {
     "name": "stdout",
     "output_type": "stream",
     "text": [
      "Processing model: d:\\PruneLimit\\PruneLimitAnalyzer\\models\\VGG11_CIFAR10_random_PD1_GPR-10_PRUNED_SEED_23.pth\n",
      "Processing batch size: 1\n"
     ]
    },
    {
     "name": "stderr",
     "output_type": "stream",
     "text": [
      "Unsupported operator aten::max_pool2d encountered 5 time(s)\n",
      "Unsupported operator aten::add encountered 7 time(s)\n",
      "Trial 1/10: Running 500 iterations: 100%|██████████| 500/500 [00:02<00:00, 211.55it/s]\n",
      "Trial 2/10: Running 500 iterations: 100%|██████████| 500/500 [00:02<00:00, 226.17it/s]\n",
      "Trial 3/10: Running 500 iterations: 100%|██████████| 500/500 [00:02<00:00, 233.90it/s]\n",
      "Trial 4/10: Running 500 iterations: 100%|██████████| 500/500 [00:02<00:00, 232.43it/s]\n",
      "Trial 5/10: Running 500 iterations: 100%|██████████| 500/500 [00:02<00:00, 224.25it/s]\n",
      "Trial 6/10: Running 500 iterations: 100%|██████████| 500/500 [00:02<00:00, 236.38it/s]\n",
      "Trial 7/10: Running 500 iterations: 100%|██████████| 500/500 [00:02<00:00, 235.75it/s]\n",
      "Trial 8/10: Running 500 iterations: 100%|██████████| 500/500 [00:02<00:00, 230.94it/s]\n",
      "Trial 9/10: Running 500 iterations: 100%|██████████| 500/500 [00:02<00:00, 219.23it/s]\n",
      "Trial 10/10: Running 500 iterations: 100%|██████████| 500/500 [00:02<00:00, 220.69it/s]\n",
      "Unsupported operator aten::max_pool2d encountered 5 time(s)\n",
      "Unsupported operator aten::add encountered 7 time(s)\n"
     ]
    },
    {
     "name": "stdout",
     "output_type": "stream",
     "text": [
      "Processing batch size: 8\n"
     ]
    },
    {
     "name": "stderr",
     "output_type": "stream",
     "text": [
      "Trial 1/10: Running 500 iterations: 100%|██████████| 500/500 [00:06<00:00, 83.32it/s]\n",
      "Trial 2/10: Running 500 iterations: 100%|██████████| 500/500 [00:05<00:00, 85.90it/s]\n",
      "Trial 3/10: Running 500 iterations: 100%|██████████| 500/500 [00:05<00:00, 87.28it/s]\n",
      "Trial 4/10: Running 500 iterations: 100%|██████████| 500/500 [00:05<00:00, 87.02it/s]\n",
      "Trial 5/10: Running 500 iterations: 100%|██████████| 500/500 [00:05<00:00, 85.84it/s]\n",
      "Trial 6/10: Running 500 iterations: 100%|██████████| 500/500 [00:05<00:00, 86.40it/s]\n",
      "Trial 7/10: Running 500 iterations: 100%|██████████| 500/500 [00:05<00:00, 86.20it/s]\n",
      "Trial 8/10: Running 500 iterations: 100%|██████████| 500/500 [00:05<00:00, 86.49it/s]\n",
      "Trial 9/10: Running 500 iterations: 100%|██████████| 500/500 [00:05<00:00, 85.97it/s]\n",
      "Trial 10/10: Running 500 iterations: 100%|██████████| 500/500 [00:05<00:00, 85.58it/s]\n",
      "Unsupported operator aten::max_pool2d encountered 5 time(s)\n",
      "Unsupported operator aten::add encountered 7 time(s)\n"
     ]
    },
    {
     "name": "stdout",
     "output_type": "stream",
     "text": [
      "Processing batch size: 16\n"
     ]
    },
    {
     "name": "stderr",
     "output_type": "stream",
     "text": [
      "Trial 1/10: Running 500 iterations: 100%|██████████| 500/500 [00:10<00:00, 47.49it/s]\n",
      "Trial 2/10: Running 500 iterations: 100%|██████████| 500/500 [00:10<00:00, 49.03it/s]\n",
      "Trial 3/10: Running 500 iterations: 100%|██████████| 500/500 [00:10<00:00, 49.14it/s]\n",
      "Trial 4/10: Running 500 iterations: 100%|██████████| 500/500 [00:10<00:00, 49.11it/s]\n",
      "Trial 5/10: Running 500 iterations: 100%|██████████| 500/500 [00:10<00:00, 49.00it/s]\n",
      "Trial 6/10: Running 500 iterations: 100%|██████████| 500/500 [00:10<00:00, 48.91it/s]\n",
      "Trial 7/10: Running 500 iterations: 100%|██████████| 500/500 [00:10<00:00, 48.65it/s]\n",
      "Trial 8/10: Running 500 iterations: 100%|██████████| 500/500 [00:10<00:00, 48.90it/s]\n",
      "Trial 9/10: Running 500 iterations: 100%|██████████| 500/500 [00:10<00:00, 48.89it/s]\n",
      "Trial 10/10: Running 500 iterations: 100%|██████████| 500/500 [00:10<00:00, 48.77it/s]\n",
      "Unsupported operator aten::max_pool2d encountered 5 time(s)\n",
      "Unsupported operator aten::add encountered 7 time(s)\n"
     ]
    },
    {
     "name": "stdout",
     "output_type": "stream",
     "text": [
      "Processing batch size: 32\n"
     ]
    },
    {
     "name": "stderr",
     "output_type": "stream",
     "text": [
      "Trial 1/10: Running 500 iterations: 100%|██████████| 500/500 [00:17<00:00, 28.97it/s]\n",
      "Trial 2/10: Running 500 iterations: 100%|██████████| 500/500 [00:16<00:00, 29.66it/s]\n",
      "Trial 3/10: Running 500 iterations: 100%|██████████| 500/500 [00:17<00:00, 29.30it/s]\n",
      "Trial 4/10: Running 500 iterations: 100%|██████████| 500/500 [00:16<00:00, 29.49it/s]\n",
      "Trial 5/10: Running 500 iterations: 100%|██████████| 500/500 [00:16<00:00, 29.52it/s]\n",
      "Trial 6/10: Running 500 iterations: 100%|██████████| 500/500 [00:16<00:00, 29.49it/s]\n",
      "Trial 7/10: Running 500 iterations: 100%|██████████| 500/500 [00:16<00:00, 29.43it/s]\n",
      "Trial 8/10: Running 500 iterations: 100%|██████████| 500/500 [00:16<00:00, 29.57it/s]\n",
      "Trial 9/10: Running 500 iterations: 100%|██████████| 500/500 [00:16<00:00, 29.55it/s]\n",
      "Trial 10/10: Running 500 iterations: 100%|██████████| 500/500 [00:16<00:00, 29.66it/s]\n",
      "Unsupported operator aten::max_pool2d encountered 5 time(s)\n",
      "Unsupported operator aten::add encountered 7 time(s)\n"
     ]
    },
    {
     "name": "stdout",
     "output_type": "stream",
     "text": [
      "Processing batch size: 64\n"
     ]
    },
    {
     "name": "stderr",
     "output_type": "stream",
     "text": [
      "Trial 1/10: Running 500 iterations: 100%|██████████| 500/500 [00:32<00:00, 15.45it/s]\n",
      "Trial 2/10: Running 500 iterations: 100%|██████████| 500/500 [00:32<00:00, 15.59it/s]\n",
      "Trial 3/10: Running 500 iterations: 100%|██████████| 500/500 [00:32<00:00, 15.60it/s]\n",
      "Trial 4/10: Running 500 iterations: 100%|██████████| 500/500 [00:32<00:00, 15.60it/s]\n",
      "Trial 5/10: Running 500 iterations: 100%|██████████| 500/500 [00:32<00:00, 15.61it/s]\n",
      "Trial 6/10: Running 500 iterations: 100%|██████████| 500/500 [00:32<00:00, 15.60it/s]\n",
      "Trial 7/10: Running 500 iterations: 100%|██████████| 500/500 [00:32<00:00, 15.59it/s]\n",
      "Trial 8/10: Running 500 iterations: 100%|██████████| 500/500 [00:32<00:00, 15.57it/s]\n",
      "Trial 9/10: Running 500 iterations: 100%|██████████| 500/500 [00:32<00:00, 15.58it/s]\n",
      "Trial 10/10: Running 500 iterations: 100%|██████████| 500/500 [00:32<00:00, 15.56it/s]\n",
      "Processing Models:   3%|▎         | 1/31 [11:17<5:38:40, 677.36s/it]"
     ]
    },
    {
     "name": "stdout",
     "output_type": "stream",
     "text": [
      "Processing model: d:\\PruneLimit\\PruneLimitAnalyzer\\models\\VGG11_CIFAR10_random_PD1_GPR-20_PRUNED_SEED_23.pth\n"
     ]
    },
    {
     "name": "stderr",
     "output_type": "stream",
     "text": [
      "Unsupported operator aten::max_pool2d encountered 5 time(s)\n",
      "Unsupported operator aten::add encountered 7 time(s)\n"
     ]
    },
    {
     "name": "stdout",
     "output_type": "stream",
     "text": [
      "Processing batch size: 1\n"
     ]
    },
    {
     "name": "stderr",
     "output_type": "stream",
     "text": [
      "Trial 1/10: Running 500 iterations: 100%|██████████| 500/500 [00:02<00:00, 239.56it/s]\n",
      "Trial 2/10: Running 500 iterations: 100%|██████████| 500/500 [00:02<00:00, 234.75it/s]\n",
      "Trial 3/10: Running 500 iterations: 100%|██████████| 500/500 [00:02<00:00, 239.79it/s]\n",
      "Trial 4/10: Running 500 iterations: 100%|██████████| 500/500 [00:02<00:00, 242.39it/s]\n",
      "Trial 5/10: Running 500 iterations: 100%|██████████| 500/500 [00:02<00:00, 239.82it/s]\n",
      "Trial 6/10: Running 500 iterations: 100%|██████████| 500/500 [00:02<00:00, 243.89it/s]\n",
      "Trial 7/10: Running 500 iterations: 100%|██████████| 500/500 [00:02<00:00, 237.34it/s]\n",
      "Trial 8/10: Running 500 iterations: 100%|██████████| 500/500 [00:02<00:00, 244.62it/s]\n",
      "Trial 9/10: Running 500 iterations: 100%|██████████| 500/500 [00:02<00:00, 241.71it/s]\n",
      "Trial 10/10: Running 500 iterations: 100%|██████████| 500/500 [00:02<00:00, 244.77it/s]\n",
      "Unsupported operator aten::max_pool2d encountered 5 time(s)\n",
      "Unsupported operator aten::add encountered 7 time(s)\n"
     ]
    },
    {
     "name": "stdout",
     "output_type": "stream",
     "text": [
      "Processing batch size: 8\n"
     ]
    },
    {
     "name": "stderr",
     "output_type": "stream",
     "text": [
      "Trial 1/10: Running 500 iterations: 100%|██████████| 500/500 [00:05<00:00, 99.90it/s]\n",
      "Trial 2/10: Running 500 iterations: 100%|██████████| 500/500 [00:04<00:00, 100.11it/s]\n",
      "Trial 3/10: Running 500 iterations: 100%|██████████| 500/500 [00:05<00:00, 99.91it/s] \n",
      "Trial 4/10: Running 500 iterations: 100%|██████████| 500/500 [00:04<00:00, 100.26it/s]\n",
      "Trial 5/10: Running 500 iterations: 100%|██████████| 500/500 [00:04<00:00, 100.26it/s]\n",
      "Trial 6/10: Running 500 iterations: 100%|██████████| 500/500 [00:04<00:00, 100.14it/s]\n",
      "Trial 7/10: Running 500 iterations: 100%|██████████| 500/500 [00:04<00:00, 100.01it/s]\n",
      "Trial 8/10: Running 500 iterations: 100%|██████████| 500/500 [00:04<00:00, 100.03it/s]\n",
      "Trial 9/10: Running 500 iterations: 100%|██████████| 500/500 [00:04<00:00, 100.05it/s]\n",
      "Trial 10/10: Running 500 iterations: 100%|██████████| 500/500 [00:04<00:00, 100.09it/s]\n",
      "Unsupported operator aten::max_pool2d encountered 5 time(s)\n",
      "Unsupported operator aten::add encountered 7 time(s)\n"
     ]
    },
    {
     "name": "stdout",
     "output_type": "stream",
     "text": [
      "Processing batch size: 16\n"
     ]
    },
    {
     "name": "stderr",
     "output_type": "stream",
     "text": [
      "Trial 1/10: Running 500 iterations: 100%|██████████| 500/500 [00:09<00:00, 50.07it/s]\n",
      "Trial 2/10: Running 500 iterations: 100%|██████████| 500/500 [00:09<00:00, 51.29it/s]\n",
      "Trial 3/10: Running 500 iterations: 100%|██████████| 500/500 [00:09<00:00, 50.43it/s]\n",
      "Trial 4/10: Running 500 iterations: 100%|██████████| 500/500 [00:09<00:00, 50.85it/s]\n",
      "Trial 5/10: Running 500 iterations: 100%|██████████| 500/500 [00:09<00:00, 51.15it/s]\n",
      "Trial 6/10: Running 500 iterations: 100%|██████████| 500/500 [00:09<00:00, 51.17it/s]\n",
      "Trial 7/10: Running 500 iterations: 100%|██████████| 500/500 [00:09<00:00, 50.62it/s]\n",
      "Trial 8/10: Running 500 iterations: 100%|██████████| 500/500 [00:09<00:00, 50.42it/s]\n",
      "Trial 9/10: Running 500 iterations: 100%|██████████| 500/500 [00:09<00:00, 50.33it/s]\n",
      "Trial 10/10: Running 500 iterations: 100%|██████████| 500/500 [00:09<00:00, 50.23it/s]\n",
      "Unsupported operator aten::max_pool2d encountered 5 time(s)\n",
      "Unsupported operator aten::add encountered 7 time(s)\n"
     ]
    },
    {
     "name": "stdout",
     "output_type": "stream",
     "text": [
      "Processing batch size: 32\n"
     ]
    },
    {
     "name": "stderr",
     "output_type": "stream",
     "text": [
      "Trial 1/10: Running 500 iterations: 100%|██████████| 500/500 [00:15<00:00, 32.83it/s]\n",
      "Trial 2/10: Running 500 iterations: 100%|██████████| 500/500 [00:14<00:00, 33.35it/s]\n",
      "Trial 3/10: Running 500 iterations: 100%|██████████| 500/500 [00:14<00:00, 33.37it/s]\n",
      "Trial 4/10: Running 500 iterations: 100%|██████████| 500/500 [00:14<00:00, 33.36it/s]\n",
      "Trial 5/10: Running 500 iterations: 100%|██████████| 500/500 [00:14<00:00, 33.34it/s]\n",
      "Trial 6/10: Running 500 iterations: 100%|██████████| 500/500 [00:14<00:00, 33.34it/s]\n",
      "Trial 7/10: Running 500 iterations: 100%|██████████| 500/500 [00:14<00:00, 33.33it/s]\n",
      "Trial 8/10: Running 500 iterations: 100%|██████████| 500/500 [00:14<00:00, 33.34it/s]\n",
      "Trial 9/10: Running 500 iterations: 100%|██████████| 500/500 [00:14<00:00, 33.36it/s]\n",
      "Trial 10/10: Running 500 iterations: 100%|██████████| 500/500 [00:14<00:00, 33.36it/s]\n",
      "Unsupported operator aten::max_pool2d encountered 5 time(s)\n",
      "Unsupported operator aten::add encountered 7 time(s)\n"
     ]
    },
    {
     "name": "stdout",
     "output_type": "stream",
     "text": [
      "Processing batch size: 64\n"
     ]
    },
    {
     "name": "stderr",
     "output_type": "stream",
     "text": [
      "Trial 1/10: Running 500 iterations: 100%|██████████| 500/500 [00:29<00:00, 16.89it/s]\n",
      "Trial 2/10: Running 500 iterations: 100%|██████████| 500/500 [00:29<00:00, 17.19it/s]\n",
      "Trial 3/10: Running 500 iterations: 100%|██████████| 500/500 [00:29<00:00, 16.88it/s]\n",
      "Trial 4/10: Running 500 iterations: 100%|██████████| 500/500 [00:29<00:00, 17.08it/s]\n",
      "Trial 5/10: Running 500 iterations: 100%|██████████| 500/500 [00:29<00:00, 16.99it/s]\n",
      "Trial 6/10: Running 500 iterations: 100%|██████████| 500/500 [00:29<00:00, 17.01it/s]\n",
      "Trial 7/10: Running 500 iterations: 100%|██████████| 500/500 [00:29<00:00, 16.98it/s]\n",
      "Trial 8/10: Running 500 iterations: 100%|██████████| 500/500 [00:29<00:00, 17.05it/s]\n",
      "Trial 9/10: Running 500 iterations: 100%|██████████| 500/500 [00:29<00:00, 16.97it/s]\n",
      "Trial 10/10: Running 500 iterations: 100%|██████████| 500/500 [00:29<00:00, 17.12it/s]\n",
      "Processing Models:   6%|▋         | 2/31 [21:31<5:09:28, 640.30s/it]"
     ]
    },
    {
     "name": "stdout",
     "output_type": "stream",
     "text": [
      "Processing model: d:\\PruneLimit\\PruneLimitAnalyzer\\models\\VGG11_CIFAR10_random_PD1_GPR-30_PRUNED_SEED_23.pth\n"
     ]
    },
    {
     "name": "stderr",
     "output_type": "stream",
     "text": [
      "Unsupported operator aten::max_pool2d encountered 5 time(s)\n",
      "Unsupported operator aten::add encountered 7 time(s)\n"
     ]
    },
    {
     "name": "stdout",
     "output_type": "stream",
     "text": [
      "Processing batch size: 1\n"
     ]
    },
    {
     "name": "stderr",
     "output_type": "stream",
     "text": [
      "Trial 1/10: Running 500 iterations: 100%|██████████| 500/500 [00:02<00:00, 244.09it/s]\n",
      "Trial 2/10: Running 500 iterations: 100%|██████████| 500/500 [00:02<00:00, 239.14it/s]\n",
      "Trial 3/10: Running 500 iterations: 100%|██████████| 500/500 [00:02<00:00, 225.90it/s]\n",
      "Trial 4/10: Running 500 iterations: 100%|██████████| 500/500 [00:02<00:00, 232.81it/s]\n",
      "Trial 5/10: Running 500 iterations: 100%|██████████| 500/500 [00:02<00:00, 238.84it/s]\n",
      "Trial 6/10: Running 500 iterations: 100%|██████████| 500/500 [00:02<00:00, 231.13it/s]\n",
      "Trial 7/10: Running 500 iterations: 100%|██████████| 500/500 [00:02<00:00, 239.84it/s]\n",
      "Trial 8/10: Running 500 iterations: 100%|██████████| 500/500 [00:02<00:00, 233.51it/s]\n",
      "Trial 9/10: Running 500 iterations: 100%|██████████| 500/500 [00:02<00:00, 239.66it/s]\n",
      "Trial 10/10: Running 500 iterations: 100%|██████████| 500/500 [00:02<00:00, 245.51it/s]\n",
      "Unsupported operator aten::max_pool2d encountered 5 time(s)\n",
      "Unsupported operator aten::add encountered 7 time(s)\n"
     ]
    },
    {
     "name": "stdout",
     "output_type": "stream",
     "text": [
      "Processing batch size: 8\n"
     ]
    },
    {
     "name": "stderr",
     "output_type": "stream",
     "text": [
      "Trial 1/10: Running 500 iterations: 100%|██████████| 500/500 [00:04<00:00, 100.00it/s]\n",
      "Trial 2/10: Running 500 iterations: 100%|██████████| 500/500 [00:04<00:00, 100.62it/s]\n",
      "Trial 3/10: Running 500 iterations: 100%|██████████| 500/500 [00:04<00:00, 101.93it/s]\n",
      "Trial 4/10: Running 500 iterations: 100%|██████████| 500/500 [00:04<00:00, 102.56it/s]\n",
      "Trial 5/10: Running 500 iterations: 100%|██████████| 500/500 [00:04<00:00, 102.39it/s]\n",
      "Trial 6/10: Running 500 iterations: 100%|██████████| 500/500 [00:04<00:00, 102.32it/s]\n",
      "Trial 7/10: Running 500 iterations: 100%|██████████| 500/500 [00:04<00:00, 102.09it/s]\n",
      "Trial 8/10: Running 500 iterations: 100%|██████████| 500/500 [00:04<00:00, 102.42it/s]\n",
      "Trial 9/10: Running 500 iterations: 100%|██████████| 500/500 [00:04<00:00, 101.86it/s]\n",
      "Trial 10/10: Running 500 iterations: 100%|██████████| 500/500 [00:04<00:00, 101.88it/s]\n",
      "Unsupported operator aten::max_pool2d encountered 5 time(s)\n",
      "Unsupported operator aten::add encountered 7 time(s)\n"
     ]
    },
    {
     "name": "stdout",
     "output_type": "stream",
     "text": [
      "Processing batch size: 16\n"
     ]
    },
    {
     "name": "stderr",
     "output_type": "stream",
     "text": [
      "Trial 1/10: Running 500 iterations: 100%|██████████| 500/500 [00:07<00:00, 65.17it/s]\n",
      "Trial 2/10: Running 500 iterations: 100%|██████████| 500/500 [00:07<00:00, 65.54it/s]\n",
      "Trial 3/10: Running 500 iterations: 100%|██████████| 500/500 [00:07<00:00, 65.79it/s]\n",
      "Trial 4/10: Running 500 iterations: 100%|██████████| 500/500 [00:07<00:00, 65.85it/s]\n",
      "Trial 5/10: Running 500 iterations: 100%|██████████| 500/500 [00:07<00:00, 65.74it/s]\n",
      "Trial 6/10: Running 500 iterations: 100%|██████████| 500/500 [00:07<00:00, 66.31it/s]\n",
      "Trial 7/10: Running 500 iterations: 100%|██████████| 500/500 [00:07<00:00, 65.83it/s]\n",
      "Trial 8/10: Running 500 iterations: 100%|██████████| 500/500 [00:07<00:00, 65.57it/s]\n",
      "Trial 9/10: Running 500 iterations: 100%|██████████| 500/500 [00:07<00:00, 65.38it/s]\n",
      "Trial 10/10: Running 500 iterations: 100%|██████████| 500/500 [00:07<00:00, 65.53it/s]\n",
      "Unsupported operator aten::max_pool2d encountered 5 time(s)\n",
      "Unsupported operator aten::add encountered 7 time(s)\n"
     ]
    },
    {
     "name": "stdout",
     "output_type": "stream",
     "text": [
      "Processing batch size: 32\n"
     ]
    },
    {
     "name": "stderr",
     "output_type": "stream",
     "text": [
      "Trial 1/10: Running 500 iterations: 100%|██████████| 500/500 [00:13<00:00, 38.01it/s]\n",
      "Trial 2/10: Running 500 iterations: 100%|██████████| 500/500 [00:12<00:00, 39.03it/s]\n",
      "Trial 3/10: Running 500 iterations: 100%|██████████| 500/500 [00:12<00:00, 39.10it/s]\n",
      "Trial 4/10: Running 500 iterations: 100%|██████████| 500/500 [00:12<00:00, 38.98it/s]\n",
      "Trial 5/10: Running 500 iterations: 100%|██████████| 500/500 [00:12<00:00, 38.94it/s]\n",
      "Trial 6/10: Running 500 iterations: 100%|██████████| 500/500 [00:12<00:00, 38.96it/s]\n",
      "Trial 7/10: Running 500 iterations: 100%|██████████| 500/500 [00:12<00:00, 39.02it/s]\n",
      "Trial 8/10: Running 500 iterations: 100%|██████████| 500/500 [00:12<00:00, 38.89it/s]\n",
      "Trial 9/10: Running 500 iterations: 100%|██████████| 500/500 [00:12<00:00, 38.99it/s]\n",
      "Trial 10/10: Running 500 iterations: 100%|██████████| 500/500 [00:12<00:00, 38.78it/s]\n",
      "Unsupported operator aten::max_pool2d encountered 5 time(s)\n",
      "Unsupported operator aten::add encountered 7 time(s)\n"
     ]
    },
    {
     "name": "stdout",
     "output_type": "stream",
     "text": [
      "Processing batch size: 64\n"
     ]
    },
    {
     "name": "stderr",
     "output_type": "stream",
     "text": [
      "Trial 1/10: Running 500 iterations: 100%|██████████| 500/500 [00:24<00:00, 20.67it/s]\n",
      "Trial 2/10: Running 500 iterations: 100%|██████████| 500/500 [00:23<00:00, 20.91it/s]\n",
      "Trial 3/10: Running 500 iterations: 100%|██████████| 500/500 [00:23<00:00, 20.94it/s]\n",
      "Trial 4/10: Running 500 iterations: 100%|██████████| 500/500 [00:23<00:00, 20.97it/s]\n",
      "Trial 5/10: Running 500 iterations: 100%|██████████| 500/500 [00:23<00:00, 20.96it/s]\n",
      "Trial 6/10: Running 500 iterations: 100%|██████████| 500/500 [00:23<00:00, 20.94it/s]\n",
      "Trial 7/10: Running 500 iterations: 100%|██████████| 500/500 [00:23<00:00, 20.90it/s]\n",
      "Trial 8/10: Running 500 iterations: 100%|██████████| 500/500 [00:23<00:00, 20.90it/s]\n",
      "Trial 9/10: Running 500 iterations: 100%|██████████| 500/500 [00:23<00:00, 20.88it/s]\n",
      "Trial 10/10: Running 500 iterations: 100%|██████████| 500/500 [00:23<00:00, 20.90it/s]\n",
      "Processing Models:  10%|▉         | 3/31 [30:06<4:32:06, 583.09s/it]"
     ]
    },
    {
     "name": "stdout",
     "output_type": "stream",
     "text": [
      "Processing model: d:\\PruneLimit\\PruneLimitAnalyzer\\models\\VGG11_CIFAR10_random_PD1_GPR-40_PRUNED_SEED_23.pth\n"
     ]
    },
    {
     "name": "stderr",
     "output_type": "stream",
     "text": [
      "Unsupported operator aten::max_pool2d encountered 5 time(s)\n",
      "Unsupported operator aten::add encountered 7 time(s)\n"
     ]
    },
    {
     "name": "stdout",
     "output_type": "stream",
     "text": [
      "Processing batch size: 1\n"
     ]
    },
    {
     "name": "stderr",
     "output_type": "stream",
     "text": [
      "Trial 1/10: Running 500 iterations: 100%|██████████| 500/500 [00:02<00:00, 242.52it/s]\n",
      "Trial 2/10: Running 500 iterations: 100%|██████████| 500/500 [00:02<00:00, 232.61it/s]\n",
      "Trial 3/10: Running 500 iterations: 100%|██████████| 500/500 [00:02<00:00, 235.49it/s]\n",
      "Trial 4/10: Running 500 iterations: 100%|██████████| 500/500 [00:02<00:00, 242.32it/s]\n",
      "Trial 5/10: Running 500 iterations: 100%|██████████| 500/500 [00:02<00:00, 234.57it/s]\n",
      "Trial 6/10: Running 500 iterations: 100%|██████████| 500/500 [00:02<00:00, 239.78it/s]\n",
      "Trial 7/10: Running 500 iterations: 100%|██████████| 500/500 [00:02<00:00, 236.64it/s]\n",
      "Trial 8/10: Running 500 iterations: 100%|██████████| 500/500 [00:02<00:00, 239.23it/s]\n",
      "Trial 9/10: Running 500 iterations: 100%|██████████| 500/500 [00:02<00:00, 244.76it/s]\n",
      "Trial 10/10: Running 500 iterations: 100%|██████████| 500/500 [00:02<00:00, 244.14it/s]\n",
      "Unsupported operator aten::max_pool2d encountered 5 time(s)\n",
      "Unsupported operator aten::add encountered 7 time(s)\n"
     ]
    },
    {
     "name": "stdout",
     "output_type": "stream",
     "text": [
      "Processing batch size: 8\n"
     ]
    },
    {
     "name": "stderr",
     "output_type": "stream",
     "text": [
      "Trial 1/10: Running 500 iterations: 100%|██████████| 500/500 [00:04<00:00, 112.02it/s]\n",
      "Trial 2/10: Running 500 iterations: 100%|██████████| 500/500 [00:04<00:00, 114.80it/s]\n",
      "Trial 3/10: Running 500 iterations: 100%|██████████| 500/500 [00:04<00:00, 117.66it/s]\n",
      "Trial 4/10: Running 500 iterations: 100%|██████████| 500/500 [00:04<00:00, 119.33it/s]\n",
      "Trial 5/10: Running 500 iterations: 100%|██████████| 500/500 [00:04<00:00, 119.69it/s]\n",
      "Trial 6/10: Running 500 iterations: 100%|██████████| 500/500 [00:04<00:00, 119.07it/s]\n",
      "Trial 7/10: Running 500 iterations: 100%|██████████| 500/500 [00:04<00:00, 118.35it/s]\n",
      "Trial 8/10: Running 500 iterations: 100%|██████████| 500/500 [00:04<00:00, 118.97it/s]\n",
      "Trial 9/10: Running 500 iterations: 100%|██████████| 500/500 [00:04<00:00, 117.87it/s]\n",
      "Trial 10/10: Running 500 iterations: 100%|██████████| 500/500 [00:04<00:00, 119.88it/s]\n",
      "Unsupported operator aten::max_pool2d encountered 5 time(s)\n",
      "Unsupported operator aten::add encountered 7 time(s)\n"
     ]
    },
    {
     "name": "stdout",
     "output_type": "stream",
     "text": [
      "Processing batch size: 16\n"
     ]
    },
    {
     "name": "stderr",
     "output_type": "stream",
     "text": [
      "Trial 1/10: Running 500 iterations: 100%|██████████| 500/500 [00:06<00:00, 75.12it/s]\n",
      "Trial 2/10: Running 500 iterations: 100%|██████████| 500/500 [00:06<00:00, 75.79it/s]\n",
      "Trial 3/10: Running 500 iterations: 100%|██████████| 500/500 [00:06<00:00, 77.32it/s]\n",
      "Trial 4/10: Running 500 iterations: 100%|██████████| 500/500 [00:06<00:00, 76.07it/s]\n",
      "Trial 5/10: Running 500 iterations: 100%|██████████| 500/500 [00:06<00:00, 76.25it/s]\n",
      "Trial 6/10: Running 500 iterations: 100%|██████████| 500/500 [00:06<00:00, 75.79it/s]\n",
      "Trial 7/10: Running 500 iterations: 100%|██████████| 500/500 [00:06<00:00, 75.81it/s]\n",
      "Trial 8/10: Running 500 iterations: 100%|██████████| 500/500 [00:06<00:00, 75.98it/s]\n",
      "Trial 9/10: Running 500 iterations: 100%|██████████| 500/500 [00:06<00:00, 76.09it/s]\n",
      "Trial 10/10: Running 500 iterations: 100%|██████████| 500/500 [00:06<00:00, 77.11it/s]\n",
      "Unsupported operator aten::max_pool2d encountered 5 time(s)\n",
      "Unsupported operator aten::add encountered 7 time(s)\n"
     ]
    },
    {
     "name": "stdout",
     "output_type": "stream",
     "text": [
      "Processing batch size: 32\n"
     ]
    },
    {
     "name": "stderr",
     "output_type": "stream",
     "text": [
      "Trial 1/10: Running 500 iterations: 100%|██████████| 500/500 [00:11<00:00, 43.93it/s]\n",
      "Trial 2/10: Running 500 iterations: 100%|██████████| 500/500 [00:11<00:00, 45.12it/s]\n",
      "Trial 3/10: Running 500 iterations: 100%|██████████| 500/500 [00:11<00:00, 45.17it/s]\n",
      "Trial 4/10: Running 500 iterations: 100%|██████████| 500/500 [00:11<00:00, 45.26it/s]\n",
      "Trial 5/10: Running 500 iterations: 100%|██████████| 500/500 [00:11<00:00, 45.08it/s]\n",
      "Trial 6/10: Running 500 iterations: 100%|██████████| 500/500 [00:11<00:00, 45.18it/s]\n",
      "Trial 7/10: Running 500 iterations: 100%|██████████| 500/500 [00:11<00:00, 45.20it/s]\n",
      "Trial 8/10: Running 500 iterations: 100%|██████████| 500/500 [00:11<00:00, 45.25it/s]\n",
      "Trial 9/10: Running 500 iterations: 100%|██████████| 500/500 [00:11<00:00, 45.24it/s]\n",
      "Trial 10/10: Running 500 iterations: 100%|██████████| 500/500 [00:11<00:00, 45.28it/s]\n",
      "Unsupported operator aten::max_pool2d encountered 5 time(s)\n",
      "Unsupported operator aten::add encountered 7 time(s)\n"
     ]
    },
    {
     "name": "stdout",
     "output_type": "stream",
     "text": [
      "Processing batch size: 64\n"
     ]
    },
    {
     "name": "stderr",
     "output_type": "stream",
     "text": [
      "Trial 1/10: Running 500 iterations: 100%|██████████| 500/500 [00:20<00:00, 24.04it/s]\n",
      "Trial 2/10: Running 500 iterations: 100%|██████████| 500/500 [00:20<00:00, 24.39it/s]\n",
      "Trial 3/10: Running 500 iterations: 100%|██████████| 500/500 [00:20<00:00, 24.36it/s]\n",
      "Trial 4/10: Running 500 iterations: 100%|██████████| 500/500 [00:20<00:00, 24.33it/s]\n",
      "Trial 5/10: Running 500 iterations: 100%|██████████| 500/500 [00:20<00:00, 24.36it/s]\n",
      "Trial 6/10: Running 500 iterations: 100%|██████████| 500/500 [00:20<00:00, 24.37it/s]\n",
      "Trial 7/10: Running 500 iterations: 100%|██████████| 500/500 [00:20<00:00, 24.35it/s]\n",
      "Trial 8/10: Running 500 iterations: 100%|██████████| 500/500 [00:20<00:00, 24.39it/s]\n",
      "Trial 9/10: Running 500 iterations: 100%|██████████| 500/500 [00:20<00:00, 24.40it/s]\n",
      "Trial 10/10: Running 500 iterations: 100%|██████████| 500/500 [00:20<00:00, 24.39it/s]\n",
      "Processing Models:  13%|█▎        | 4/31 [37:32<3:58:03, 529.02s/it]"
     ]
    },
    {
     "name": "stdout",
     "output_type": "stream",
     "text": [
      "Processing model: d:\\PruneLimit\\PruneLimitAnalyzer\\models\\VGG11_CIFAR10_random_PD1_GPR-50_PRUNED_SEED_23.pth\n",
      "Processing batch size: 1\n"
     ]
    },
    {
     "name": "stderr",
     "output_type": "stream",
     "text": [
      "Unsupported operator aten::max_pool2d encountered 5 time(s)\n",
      "Unsupported operator aten::add encountered 7 time(s)\n",
      "Trial 1/10: Running 500 iterations: 100%|██████████| 500/500 [00:02<00:00, 233.71it/s]\n",
      "Trial 2/10: Running 500 iterations: 100%|██████████| 500/500 [00:02<00:00, 200.34it/s]\n",
      "Trial 3/10: Running 500 iterations: 100%|██████████| 500/500 [00:02<00:00, 214.75it/s]\n",
      "Trial 4/10: Running 500 iterations: 100%|██████████| 500/500 [00:02<00:00, 241.20it/s]\n",
      "Trial 5/10: Running 500 iterations: 100%|██████████| 500/500 [00:01<00:00, 252.23it/s]\n",
      "Trial 6/10: Running 500 iterations: 100%|██████████| 500/500 [00:02<00:00, 218.00it/s]\n",
      "Trial 7/10: Running 500 iterations: 100%|██████████| 500/500 [00:02<00:00, 210.44it/s]\n",
      "Trial 8/10: Running 500 iterations: 100%|██████████| 500/500 [00:02<00:00, 203.76it/s]\n",
      "Trial 9/10: Running 500 iterations: 100%|██████████| 500/500 [00:02<00:00, 208.14it/s]\n",
      "Trial 10/10: Running 500 iterations: 100%|██████████| 500/500 [00:02<00:00, 210.17it/s]\n",
      "Unsupported operator aten::max_pool2d encountered 5 time(s)\n",
      "Unsupported operator aten::add encountered 7 time(s)\n"
     ]
    },
    {
     "name": "stdout",
     "output_type": "stream",
     "text": [
      "Processing batch size: 8\n"
     ]
    },
    {
     "name": "stderr",
     "output_type": "stream",
     "text": [
      "Trial 1/10: Running 500 iterations: 100%|██████████| 500/500 [00:02<00:00, 168.92it/s]\n",
      "Trial 2/10: Running 500 iterations: 100%|██████████| 500/500 [00:02<00:00, 191.18it/s]\n",
      "Trial 3/10: Running 500 iterations: 100%|██████████| 500/500 [00:02<00:00, 189.25it/s]\n",
      "Trial 4/10: Running 500 iterations: 100%|██████████| 500/500 [00:02<00:00, 190.22it/s]\n",
      "Trial 5/10: Running 500 iterations: 100%|██████████| 500/500 [00:02<00:00, 192.32it/s]\n",
      "Trial 6/10: Running 500 iterations: 100%|██████████| 500/500 [00:02<00:00, 193.45it/s]\n",
      "Trial 7/10: Running 500 iterations: 100%|██████████| 500/500 [00:02<00:00, 188.57it/s]\n",
      "Trial 8/10: Running 500 iterations: 100%|██████████| 500/500 [00:02<00:00, 192.61it/s]\n",
      "Trial 9/10: Running 500 iterations: 100%|██████████| 500/500 [00:02<00:00, 191.83it/s]\n",
      "Trial 10/10: Running 500 iterations: 100%|██████████| 500/500 [00:02<00:00, 192.75it/s]\n",
      "Unsupported operator aten::max_pool2d encountered 5 time(s)\n",
      "Unsupported operator aten::add encountered 7 time(s)\n"
     ]
    },
    {
     "name": "stdout",
     "output_type": "stream",
     "text": [
      "Processing batch size: 16\n"
     ]
    },
    {
     "name": "stderr",
     "output_type": "stream",
     "text": [
      "Trial 1/10: Running 500 iterations: 100%|██████████| 500/500 [00:04<00:00, 104.29it/s]\n",
      "Trial 2/10: Running 500 iterations: 100%|██████████| 500/500 [00:04<00:00, 105.08it/s]\n",
      "Trial 3/10: Running 500 iterations: 100%|██████████| 500/500 [00:04<00:00, 110.54it/s]\n",
      "Trial 4/10: Running 500 iterations: 100%|██████████| 500/500 [00:04<00:00, 110.22it/s]\n",
      "Trial 5/10: Running 500 iterations: 100%|██████████| 500/500 [00:04<00:00, 112.11it/s]\n",
      "Trial 6/10: Running 500 iterations: 100%|██████████| 500/500 [00:04<00:00, 111.10it/s]\n",
      "Trial 7/10: Running 500 iterations: 100%|██████████| 500/500 [00:04<00:00, 110.41it/s]\n",
      "Trial 8/10: Running 500 iterations: 100%|██████████| 500/500 [00:04<00:00, 111.12it/s]\n",
      "Trial 9/10: Running 500 iterations: 100%|██████████| 500/500 [00:04<00:00, 111.20it/s]\n",
      "Trial 10/10: Running 500 iterations: 100%|██████████| 500/500 [00:04<00:00, 111.69it/s]\n",
      "Unsupported operator aten::max_pool2d encountered 5 time(s)\n",
      "Unsupported operator aten::add encountered 7 time(s)\n"
     ]
    },
    {
     "name": "stdout",
     "output_type": "stream",
     "text": [
      "Processing batch size: 32\n"
     ]
    },
    {
     "name": "stderr",
     "output_type": "stream",
     "text": [
      "Trial 1/10: Running 500 iterations: 100%|██████████| 500/500 [00:07<00:00, 67.94it/s]\n",
      "Trial 2/10: Running 500 iterations: 100%|██████████| 500/500 [00:07<00:00, 70.39it/s]\n",
      "Trial 3/10: Running 500 iterations: 100%|██████████| 500/500 [00:07<00:00, 71.31it/s]\n",
      "Trial 4/10: Running 500 iterations: 100%|██████████| 500/500 [00:06<00:00, 71.59it/s]\n",
      "Trial 5/10: Running 500 iterations: 100%|██████████| 500/500 [00:06<00:00, 71.75it/s]\n",
      "Trial 6/10: Running 500 iterations: 100%|██████████| 500/500 [00:06<00:00, 71.63it/s]\n",
      "Trial 7/10: Running 500 iterations: 100%|██████████| 500/500 [00:06<00:00, 71.73it/s]\n",
      "Trial 8/10: Running 500 iterations: 100%|██████████| 500/500 [00:07<00:00, 71.19it/s]\n",
      "Trial 9/10: Running 500 iterations: 100%|██████████| 500/500 [00:06<00:00, 71.76it/s]\n",
      "Trial 10/10: Running 500 iterations: 100%|██████████| 500/500 [00:06<00:00, 72.08it/s]\n",
      "Unsupported operator aten::max_pool2d encountered 5 time(s)\n",
      "Unsupported operator aten::add encountered 7 time(s)\n"
     ]
    },
    {
     "name": "stdout",
     "output_type": "stream",
     "text": [
      "Processing batch size: 64\n"
     ]
    },
    {
     "name": "stderr",
     "output_type": "stream",
     "text": [
      "Trial 1/10: Running 500 iterations: 100%|██████████| 500/500 [00:13<00:00, 38.29it/s]\n",
      "Trial 2/10: Running 500 iterations: 100%|██████████| 500/500 [00:12<00:00, 39.10it/s]\n",
      "Trial 3/10: Running 500 iterations: 100%|██████████| 500/500 [00:12<00:00, 39.27it/s]\n",
      "Trial 4/10: Running 500 iterations: 100%|██████████| 500/500 [00:12<00:00, 39.27it/s]\n",
      "Trial 5/10: Running 500 iterations: 100%|██████████| 500/500 [00:12<00:00, 39.43it/s]\n",
      "Trial 6/10: Running 500 iterations: 100%|██████████| 500/500 [00:12<00:00, 39.28it/s]\n",
      "Trial 7/10: Running 500 iterations: 100%|██████████| 500/500 [00:12<00:00, 39.09it/s]\n",
      "Trial 8/10: Running 500 iterations: 100%|██████████| 500/500 [00:12<00:00, 39.13it/s]\n",
      "Trial 9/10: Running 500 iterations: 100%|██████████| 500/500 [00:12<00:00, 39.12it/s]\n",
      "Trial 10/10: Running 500 iterations: 100%|██████████| 500/500 [00:12<00:00, 39.03it/s]\n",
      "Processing Models:  16%|█▌        | 5/31 [42:26<3:12:29, 444.22s/it]Unsupported operator aten::max_pool2d encountered 5 time(s)\n",
      "Unsupported operator aten::add encountered 7 time(s)\n"
     ]
    },
    {
     "name": "stdout",
     "output_type": "stream",
     "text": [
      "Processing model: d:\\PruneLimit\\PruneLimitAnalyzer\\models\\VGG11_CIFAR10_random_PD1_GPR-60_PRUNED_SEED_23.pth\n",
      "Processing batch size: 1\n"
     ]
    },
    {
     "name": "stderr",
     "output_type": "stream",
     "text": [
      "Trial 1/10: Running 500 iterations: 100%|██████████| 500/500 [00:02<00:00, 229.64it/s]\n",
      "Trial 2/10: Running 500 iterations: 100%|██████████| 500/500 [00:02<00:00, 213.18it/s]\n",
      "Trial 3/10: Running 500 iterations: 100%|██████████| 500/500 [00:02<00:00, 236.98it/s]\n",
      "Trial 4/10: Running 500 iterations: 100%|██████████| 500/500 [00:02<00:00, 230.40it/s]\n",
      "Trial 5/10: Running 500 iterations: 100%|██████████| 500/500 [00:02<00:00, 218.27it/s]\n",
      "Trial 6/10: Running 500 iterations: 100%|██████████| 500/500 [00:02<00:00, 201.91it/s]\n",
      "Trial 7/10: Running 500 iterations: 100%|██████████| 500/500 [00:02<00:00, 185.86it/s]\n",
      "Trial 8/10: Running 500 iterations: 100%|██████████| 500/500 [00:02<00:00, 196.59it/s]\n",
      "Trial 9/10: Running 500 iterations: 100%|██████████| 500/500 [00:02<00:00, 208.39it/s]\n",
      "Trial 10/10: Running 500 iterations: 100%|██████████| 500/500 [00:02<00:00, 178.97it/s]\n",
      "Unsupported operator aten::max_pool2d encountered 5 time(s)\n",
      "Unsupported operator aten::add encountered 7 time(s)\n"
     ]
    },
    {
     "name": "stdout",
     "output_type": "stream",
     "text": [
      "Processing batch size: 8\n"
     ]
    },
    {
     "name": "stderr",
     "output_type": "stream",
     "text": [
      "Trial 1/10: Running 500 iterations: 100%|██████████| 500/500 [00:02<00:00, 175.38it/s]\n",
      "Trial 2/10: Running 500 iterations: 100%|██████████| 500/500 [00:02<00:00, 193.33it/s]\n",
      "Trial 3/10: Running 500 iterations: 100%|██████████| 500/500 [00:02<00:00, 195.27it/s]\n",
      "Trial 4/10: Running 500 iterations: 100%|██████████| 500/500 [00:02<00:00, 191.45it/s]\n",
      "Trial 5/10: Running 500 iterations: 100%|██████████| 500/500 [00:02<00:00, 194.02it/s]\n",
      "Trial 6/10: Running 500 iterations: 100%|██████████| 500/500 [00:02<00:00, 197.54it/s]\n",
      "Trial 7/10: Running 500 iterations: 100%|██████████| 500/500 [00:02<00:00, 195.49it/s]\n",
      "Trial 8/10: Running 500 iterations: 100%|██████████| 500/500 [00:02<00:00, 191.39it/s]\n",
      "Trial 9/10: Running 500 iterations: 100%|██████████| 500/500 [00:02<00:00, 194.19it/s]\n",
      "Trial 10/10: Running 500 iterations: 100%|██████████| 500/500 [00:02<00:00, 197.14it/s]\n",
      "Unsupported operator aten::max_pool2d encountered 5 time(s)\n",
      "Unsupported operator aten::add encountered 7 time(s)\n"
     ]
    },
    {
     "name": "stdout",
     "output_type": "stream",
     "text": [
      "Processing batch size: 16\n"
     ]
    },
    {
     "name": "stderr",
     "output_type": "stream",
     "text": [
      "Trial 1/10: Running 500 iterations: 100%|██████████| 500/500 [00:04<00:00, 117.86it/s]\n",
      "Trial 2/10: Running 500 iterations: 100%|██████████| 500/500 [00:04<00:00, 120.64it/s]\n",
      "Trial 3/10: Running 500 iterations: 100%|██████████| 500/500 [00:04<00:00, 121.39it/s]\n",
      "Trial 4/10: Running 500 iterations: 100%|██████████| 500/500 [00:04<00:00, 122.08it/s]\n",
      "Trial 5/10: Running 500 iterations: 100%|██████████| 500/500 [00:04<00:00, 123.36it/s]\n",
      "Trial 6/10: Running 500 iterations: 100%|██████████| 500/500 [00:04<00:00, 122.52it/s]\n",
      "Trial 7/10: Running 500 iterations: 100%|██████████| 500/500 [00:04<00:00, 119.74it/s]\n",
      "Trial 8/10: Running 500 iterations: 100%|██████████| 500/500 [00:04<00:00, 115.26it/s]\n",
      "Trial 9/10: Running 500 iterations: 100%|██████████| 500/500 [00:04<00:00, 119.54it/s]\n",
      "Trial 10/10: Running 500 iterations: 100%|██████████| 500/500 [00:04<00:00, 119.95it/s]\n",
      "Unsupported operator aten::max_pool2d encountered 5 time(s)\n",
      "Unsupported operator aten::add encountered 7 time(s)\n"
     ]
    },
    {
     "name": "stdout",
     "output_type": "stream",
     "text": [
      "Processing batch size: 32\n"
     ]
    },
    {
     "name": "stderr",
     "output_type": "stream",
     "text": [
      "Trial 1/10: Running 500 iterations: 100%|██████████| 500/500 [00:06<00:00, 74.31it/s]\n",
      "Trial 2/10: Running 500 iterations: 100%|██████████| 500/500 [00:06<00:00, 74.31it/s]\n",
      "Trial 3/10: Running 500 iterations: 100%|██████████| 500/500 [00:06<00:00, 74.90it/s]\n",
      "Trial 4/10: Running 500 iterations: 100%|██████████| 500/500 [00:06<00:00, 74.72it/s]\n",
      "Trial 5/10: Running 500 iterations: 100%|██████████| 500/500 [00:06<00:00, 74.63it/s]\n",
      "Trial 6/10: Running 500 iterations: 100%|██████████| 500/500 [00:06<00:00, 74.81it/s]\n",
      "Trial 7/10: Running 500 iterations: 100%|██████████| 500/500 [00:06<00:00, 74.88it/s]\n",
      "Trial 8/10: Running 500 iterations: 100%|██████████| 500/500 [00:06<00:00, 75.09it/s]\n",
      "Trial 9/10: Running 500 iterations: 100%|██████████| 500/500 [00:06<00:00, 74.62it/s]\n",
      "Trial 10/10: Running 500 iterations: 100%|██████████| 500/500 [00:06<00:00, 74.68it/s]\n",
      "Unsupported operator aten::max_pool2d encountered 5 time(s)\n",
      "Unsupported operator aten::add encountered 7 time(s)\n"
     ]
    },
    {
     "name": "stdout",
     "output_type": "stream",
     "text": [
      "Processing batch size: 64\n"
     ]
    },
    {
     "name": "stderr",
     "output_type": "stream",
     "text": [
      "Trial 1/10: Running 500 iterations: 100%|██████████| 500/500 [00:11<00:00, 43.37it/s]\n",
      "Trial 2/10: Running 500 iterations: 100%|██████████| 500/500 [00:11<00:00, 43.49it/s]\n",
      "Trial 3/10: Running 500 iterations: 100%|██████████| 500/500 [00:11<00:00, 43.44it/s]\n",
      "Trial 4/10: Running 500 iterations: 100%|██████████| 500/500 [00:11<00:00, 43.59it/s]\n",
      "Trial 5/10: Running 500 iterations: 100%|██████████| 500/500 [00:11<00:00, 43.57it/s]\n",
      "Trial 6/10: Running 500 iterations: 100%|██████████| 500/500 [00:11<00:00, 43.58it/s]\n",
      "Trial 7/10: Running 500 iterations: 100%|██████████| 500/500 [00:11<00:00, 43.63it/s]\n",
      "Trial 8/10: Running 500 iterations: 100%|██████████| 500/500 [00:11<00:00, 43.63it/s]\n",
      "Trial 9/10: Running 500 iterations: 100%|██████████| 500/500 [00:11<00:00, 43.60it/s]\n",
      "Trial 10/10: Running 500 iterations: 100%|██████████| 500/500 [00:11<00:00, 43.70it/s]\n",
      "Processing Models:  19%|█▉        | 6/31 [47:00<2:40:56, 386.27s/it]"
     ]
    },
    {
     "name": "stdout",
     "output_type": "stream",
     "text": [
      "Processing model: d:\\PruneLimit\\PruneLimitAnalyzer\\models\\VGG11_CIFAR10_random_PD2_GPR-10_PRUNED_SEED_23.pth\n"
     ]
    },
    {
     "name": "stderr",
     "output_type": "stream",
     "text": [
      "Unsupported operator aten::max_pool2d encountered 5 time(s)\n",
      "Unsupported operator aten::add encountered 7 time(s)\n"
     ]
    },
    {
     "name": "stdout",
     "output_type": "stream",
     "text": [
      "Processing batch size: 1\n"
     ]
    },
    {
     "name": "stderr",
     "output_type": "stream",
     "text": [
      "Trial 1/10: Running 500 iterations: 100%|██████████| 500/500 [00:02<00:00, 235.65it/s]\n",
      "Trial 2/10: Running 500 iterations: 100%|██████████| 500/500 [00:02<00:00, 221.75it/s]\n",
      "Trial 3/10: Running 500 iterations: 100%|██████████| 500/500 [00:02<00:00, 223.57it/s]\n",
      "Trial 4/10: Running 500 iterations: 100%|██████████| 500/500 [00:02<00:00, 231.20it/s]\n",
      "Trial 5/10: Running 500 iterations: 100%|██████████| 500/500 [00:02<00:00, 223.69it/s]\n",
      "Trial 6/10: Running 500 iterations: 100%|██████████| 500/500 [00:02<00:00, 230.62it/s]\n",
      "Trial 7/10: Running 500 iterations: 100%|██████████| 500/500 [00:02<00:00, 231.69it/s]\n",
      "Trial 8/10: Running 500 iterations: 100%|██████████| 500/500 [00:02<00:00, 216.17it/s]\n",
      "Trial 9/10: Running 500 iterations: 100%|██████████| 500/500 [00:02<00:00, 214.04it/s]\n",
      "Trial 10/10: Running 500 iterations: 100%|██████████| 500/500 [00:02<00:00, 216.34it/s]\n",
      "Unsupported operator aten::max_pool2d encountered 5 time(s)\n",
      "Unsupported operator aten::add encountered 7 time(s)\n"
     ]
    },
    {
     "name": "stdout",
     "output_type": "stream",
     "text": [
      "Processing batch size: 8\n"
     ]
    },
    {
     "name": "stderr",
     "output_type": "stream",
     "text": [
      "Trial 1/10: Running 500 iterations: 100%|██████████| 500/500 [00:05<00:00, 85.24it/s]\n",
      "Trial 2/10: Running 500 iterations: 100%|██████████| 500/500 [00:05<00:00, 85.78it/s]\n",
      "Trial 3/10: Running 500 iterations: 100%|██████████| 500/500 [00:05<00:00, 86.11it/s]\n",
      "Trial 4/10: Running 500 iterations: 100%|██████████| 500/500 [00:05<00:00, 86.08it/s]\n",
      "Trial 5/10: Running 500 iterations: 100%|██████████| 500/500 [00:05<00:00, 86.03it/s]\n",
      "Trial 6/10: Running 500 iterations: 100%|██████████| 500/500 [00:05<00:00, 85.53it/s]\n",
      "Trial 7/10: Running 500 iterations: 100%|██████████| 500/500 [00:05<00:00, 85.50it/s]\n",
      "Trial 8/10: Running 500 iterations: 100%|██████████| 500/500 [00:05<00:00, 85.35it/s]\n",
      "Trial 9/10: Running 500 iterations: 100%|██████████| 500/500 [00:05<00:00, 85.89it/s]\n",
      "Trial 10/10: Running 500 iterations: 100%|██████████| 500/500 [00:05<00:00, 85.95it/s]\n",
      "Unsupported operator aten::max_pool2d encountered 5 time(s)\n",
      "Unsupported operator aten::add encountered 7 time(s)\n"
     ]
    },
    {
     "name": "stdout",
     "output_type": "stream",
     "text": [
      "Processing batch size: 16\n"
     ]
    },
    {
     "name": "stderr",
     "output_type": "stream",
     "text": [
      "Trial 1/10: Running 500 iterations: 100%|██████████| 500/500 [00:09<00:00, 50.13it/s]\n",
      "Trial 2/10: Running 500 iterations: 100%|██████████| 500/500 [00:10<00:00, 49.88it/s]\n",
      "Trial 3/10: Running 500 iterations: 100%|██████████| 500/500 [00:09<00:00, 50.01it/s]\n",
      "Trial 4/10: Running 500 iterations: 100%|██████████| 500/500 [00:09<00:00, 50.03it/s]\n",
      "Trial 5/10: Running 500 iterations: 100%|██████████| 500/500 [00:09<00:00, 50.05it/s]\n",
      "Trial 6/10: Running 500 iterations: 100%|██████████| 500/500 [00:09<00:00, 50.03it/s]\n",
      "Trial 7/10: Running 500 iterations: 100%|██████████| 500/500 [00:09<00:00, 50.02it/s]\n",
      "Trial 8/10: Running 500 iterations: 100%|██████████| 500/500 [00:09<00:00, 50.07it/s]\n",
      "Trial 9/10: Running 500 iterations: 100%|██████████| 500/500 [00:09<00:00, 50.00it/s]\n",
      "Trial 10/10: Running 500 iterations: 100%|██████████| 500/500 [00:09<00:00, 50.00it/s]\n",
      "Unsupported operator aten::max_pool2d encountered 5 time(s)\n",
      "Unsupported operator aten::add encountered 7 time(s)\n"
     ]
    },
    {
     "name": "stdout",
     "output_type": "stream",
     "text": [
      "Processing batch size: 32\n"
     ]
    },
    {
     "name": "stderr",
     "output_type": "stream",
     "text": [
      "Trial 1/10: Running 500 iterations: 100%|██████████| 500/500 [00:16<00:00, 29.88it/s]\n",
      "Trial 2/10: Running 500 iterations: 100%|██████████| 500/500 [00:16<00:00, 29.86it/s]\n",
      "Trial 3/10: Running 500 iterations: 100%|██████████| 500/500 [00:16<00:00, 29.72it/s]\n",
      "Trial 4/10: Running 500 iterations: 100%|██████████| 500/500 [00:16<00:00, 29.94it/s]\n",
      "Trial 5/10: Running 500 iterations: 100%|██████████| 500/500 [00:16<00:00, 29.96it/s]\n",
      "Trial 6/10: Running 500 iterations: 100%|██████████| 500/500 [00:16<00:00, 29.97it/s]\n",
      "Trial 7/10: Running 500 iterations: 100%|██████████| 500/500 [00:16<00:00, 29.92it/s]\n",
      "Trial 8/10: Running 500 iterations: 100%|██████████| 500/500 [00:16<00:00, 29.99it/s]\n",
      "Trial 9/10: Running 500 iterations: 100%|██████████| 500/500 [00:16<00:00, 29.95it/s]\n",
      "Trial 10/10: Running 500 iterations: 100%|██████████| 500/500 [00:16<00:00, 29.98it/s]\n",
      "Unsupported operator aten::max_pool2d encountered 5 time(s)\n",
      "Unsupported operator aten::add encountered 7 time(s)\n"
     ]
    },
    {
     "name": "stdout",
     "output_type": "stream",
     "text": [
      "Processing batch size: 64\n"
     ]
    },
    {
     "name": "stderr",
     "output_type": "stream",
     "text": [
      "Trial 1/10: Running 500 iterations: 100%|██████████| 500/500 [00:31<00:00, 15.68it/s]\n",
      "Trial 2/10: Running 500 iterations: 100%|██████████| 500/500 [00:31<00:00, 15.70it/s]\n",
      "Trial 3/10: Running 500 iterations: 100%|██████████| 500/500 [00:31<00:00, 15.70it/s]\n",
      "Trial 4/10: Running 500 iterations: 100%|██████████| 500/500 [00:31<00:00, 15.71it/s]\n",
      "Trial 5/10: Running 500 iterations: 100%|██████████| 500/500 [00:31<00:00, 15.72it/s]\n",
      "Trial 6/10: Running 500 iterations: 100%|██████████| 500/500 [00:31<00:00, 15.70it/s]\n",
      "Trial 7/10: Running 500 iterations: 100%|██████████| 500/500 [00:31<00:00, 15.70it/s]\n",
      "Trial 8/10: Running 500 iterations: 100%|██████████| 500/500 [00:31<00:00, 15.70it/s]\n",
      "Trial 9/10: Running 500 iterations: 100%|██████████| 500/500 [00:31<00:00, 15.70it/s]\n",
      "Trial 10/10: Running 500 iterations: 100%|██████████| 500/500 [00:31<00:00, 15.70it/s]\n",
      "Processing Models:  23%|██▎       | 7/31 [58:07<3:11:14, 478.10s/it]"
     ]
    },
    {
     "name": "stdout",
     "output_type": "stream",
     "text": [
      "Processing model: d:\\PruneLimit\\PruneLimitAnalyzer\\models\\VGG11_CIFAR10_random_PD2_GPR-20_PRUNED_SEED_23.pth\n"
     ]
    },
    {
     "name": "stderr",
     "output_type": "stream",
     "text": [
      "Unsupported operator aten::max_pool2d encountered 5 time(s)\n",
      "Unsupported operator aten::add encountered 7 time(s)\n"
     ]
    },
    {
     "name": "stdout",
     "output_type": "stream",
     "text": [
      "Processing batch size: 1\n"
     ]
    },
    {
     "name": "stderr",
     "output_type": "stream",
     "text": [
      "Trial 1/10: Running 500 iterations: 100%|██████████| 500/500 [00:02<00:00, 218.83it/s]\n",
      "Trial 2/10: Running 500 iterations: 100%|██████████| 500/500 [00:02<00:00, 210.41it/s]\n",
      "Trial 3/10: Running 500 iterations: 100%|██████████| 500/500 [00:02<00:00, 234.14it/s]\n",
      "Trial 4/10: Running 500 iterations: 100%|██████████| 500/500 [00:02<00:00, 236.53it/s]\n",
      "Trial 5/10: Running 500 iterations: 100%|██████████| 500/500 [00:02<00:00, 230.55it/s]\n",
      "Trial 6/10: Running 500 iterations: 100%|██████████| 500/500 [00:02<00:00, 223.28it/s]\n",
      "Trial 7/10: Running 500 iterations: 100%|██████████| 500/500 [00:02<00:00, 230.06it/s]\n",
      "Trial 8/10: Running 500 iterations: 100%|██████████| 500/500 [00:02<00:00, 239.69it/s]\n",
      "Trial 9/10: Running 500 iterations: 100%|██████████| 500/500 [00:02<00:00, 236.04it/s]\n",
      "Trial 10/10: Running 500 iterations: 100%|██████████| 500/500 [00:02<00:00, 215.62it/s]\n",
      "Unsupported operator aten::max_pool2d encountered 5 time(s)\n",
      "Unsupported operator aten::add encountered 7 time(s)\n"
     ]
    },
    {
     "name": "stdout",
     "output_type": "stream",
     "text": [
      "Processing batch size: 8\n"
     ]
    },
    {
     "name": "stderr",
     "output_type": "stream",
     "text": [
      "Trial 1/10: Running 500 iterations: 100%|██████████| 500/500 [00:05<00:00, 99.38it/s]\n",
      "Trial 2/10: Running 500 iterations: 100%|██████████| 500/500 [00:04<00:00, 100.01it/s]\n",
      "Trial 3/10: Running 500 iterations: 100%|██████████| 500/500 [00:04<00:00, 100.08it/s]\n",
      "Trial 4/10: Running 500 iterations: 100%|██████████| 500/500 [00:04<00:00, 100.07it/s]\n",
      "Trial 5/10: Running 500 iterations: 100%|██████████| 500/500 [00:04<00:00, 100.07it/s]\n",
      "Trial 6/10: Running 500 iterations: 100%|██████████| 500/500 [00:05<00:00, 99.47it/s] \n",
      "Trial 7/10: Running 500 iterations: 100%|██████████| 500/500 [00:04<00:00, 100.16it/s]\n",
      "Trial 8/10: Running 500 iterations: 100%|██████████| 500/500 [00:04<00:00, 100.01it/s]\n",
      "Trial 9/10: Running 500 iterations: 100%|██████████| 500/500 [00:04<00:00, 100.01it/s]\n",
      "Trial 10/10: Running 500 iterations: 100%|██████████| 500/500 [00:04<00:00, 100.02it/s]\n",
      "Unsupported operator aten::max_pool2d encountered 5 time(s)\n",
      "Unsupported operator aten::add encountered 7 time(s)\n"
     ]
    },
    {
     "name": "stdout",
     "output_type": "stream",
     "text": [
      "Processing batch size: 16\n"
     ]
    },
    {
     "name": "stderr",
     "output_type": "stream",
     "text": [
      "Trial 1/10: Running 500 iterations: 100%|██████████| 500/500 [00:09<00:00, 51.00it/s]\n",
      "Trial 2/10: Running 500 iterations: 100%|██████████| 500/500 [00:09<00:00, 51.97it/s]\n",
      "Trial 3/10: Running 500 iterations: 100%|██████████| 500/500 [00:09<00:00, 51.79it/s]\n",
      "Trial 4/10: Running 500 iterations: 100%|██████████| 500/500 [00:09<00:00, 51.47it/s]\n",
      "Trial 5/10: Running 500 iterations: 100%|██████████| 500/500 [00:09<00:00, 51.99it/s]\n",
      "Trial 6/10: Running 500 iterations: 100%|██████████| 500/500 [00:09<00:00, 51.94it/s]\n",
      "Trial 7/10: Running 500 iterations: 100%|██████████| 500/500 [00:09<00:00, 52.28it/s]\n",
      "Trial 8/10: Running 500 iterations: 100%|██████████| 500/500 [00:09<00:00, 52.01it/s]\n",
      "Trial 9/10: Running 500 iterations: 100%|██████████| 500/500 [00:09<00:00, 51.58it/s]\n",
      "Trial 10/10: Running 500 iterations: 100%|██████████| 500/500 [00:09<00:00, 51.49it/s]\n",
      "Unsupported operator aten::max_pool2d encountered 5 time(s)\n",
      "Unsupported operator aten::add encountered 7 time(s)\n"
     ]
    },
    {
     "name": "stdout",
     "output_type": "stream",
     "text": [
      "Processing batch size: 32\n"
     ]
    },
    {
     "name": "stderr",
     "output_type": "stream",
     "text": [
      "Trial 1/10: Running 500 iterations: 100%|██████████| 500/500 [00:15<00:00, 33.21it/s]\n",
      "Trial 2/10: Running 500 iterations: 100%|██████████| 500/500 [00:14<00:00, 33.33it/s]\n",
      "Trial 3/10: Running 500 iterations: 100%|██████████| 500/500 [00:14<00:00, 33.34it/s]\n",
      "Trial 4/10: Running 500 iterations: 100%|██████████| 500/500 [00:15<00:00, 33.33it/s]\n",
      "Trial 5/10: Running 500 iterations: 100%|██████████| 500/500 [00:15<00:00, 33.33it/s]\n",
      "Trial 6/10: Running 500 iterations: 100%|██████████| 500/500 [00:15<00:00, 33.33it/s]\n",
      "Trial 7/10: Running 500 iterations: 100%|██████████| 500/500 [00:15<00:00, 33.33it/s]\n",
      "Trial 8/10: Running 500 iterations: 100%|██████████| 500/500 [00:15<00:00, 33.33it/s]\n",
      "Trial 9/10: Running 500 iterations: 100%|██████████| 500/500 [00:14<00:00, 33.34it/s]\n",
      "Trial 10/10: Running 500 iterations: 100%|██████████| 500/500 [00:15<00:00, 33.32it/s]\n",
      "Unsupported operator aten::max_pool2d encountered 5 time(s)\n",
      "Unsupported operator aten::add encountered 7 time(s)\n"
     ]
    },
    {
     "name": "stdout",
     "output_type": "stream",
     "text": [
      "Processing batch size: 64\n"
     ]
    },
    {
     "name": "stderr",
     "output_type": "stream",
     "text": [
      "Trial 1/10: Running 500 iterations: 100%|██████████| 500/500 [00:29<00:00, 17.12it/s]\n",
      "Trial 2/10: Running 500 iterations: 100%|██████████| 500/500 [00:29<00:00, 17.22it/s]\n",
      "Trial 3/10: Running 500 iterations: 100%|██████████| 500/500 [00:29<00:00, 17.19it/s]\n",
      "Trial 4/10: Running 500 iterations: 100%|██████████| 500/500 [00:29<00:00, 17.24it/s]\n",
      "Trial 5/10: Running 500 iterations: 100%|██████████| 500/500 [00:29<00:00, 17.21it/s]\n",
      "Trial 6/10: Running 500 iterations: 100%|██████████| 500/500 [00:29<00:00, 17.17it/s]\n",
      "Trial 7/10: Running 500 iterations: 100%|██████████| 500/500 [00:28<00:00, 17.28it/s]\n",
      "Trial 8/10: Running 500 iterations: 100%|██████████| 500/500 [00:28<00:00, 17.29it/s]\n",
      "Trial 9/10: Running 500 iterations: 100%|██████████| 500/500 [00:28<00:00, 17.25it/s]\n",
      "Trial 10/10: Running 500 iterations: 100%|██████████| 500/500 [00:29<00:00, 17.17it/s]\n",
      "Processing Models:  26%|██▌       | 8/31 [1:08:17<3:19:22, 520.11s/it]"
     ]
    },
    {
     "name": "stdout",
     "output_type": "stream",
     "text": [
      "Processing model: d:\\PruneLimit\\PruneLimitAnalyzer\\models\\VGG11_CIFAR10_random_PD2_GPR-30_PRUNED_SEED_23.pth\n"
     ]
    },
    {
     "name": "stderr",
     "output_type": "stream",
     "text": [
      "Unsupported operator aten::max_pool2d encountered 5 time(s)\n",
      "Unsupported operator aten::add encountered 7 time(s)\n"
     ]
    },
    {
     "name": "stdout",
     "output_type": "stream",
     "text": [
      "Processing batch size: 1\n"
     ]
    },
    {
     "name": "stderr",
     "output_type": "stream",
     "text": [
      "Trial 1/10: Running 500 iterations: 100%|██████████| 500/500 [00:02<00:00, 243.98it/s]\n",
      "Trial 2/10: Running 500 iterations: 100%|██████████| 500/500 [00:02<00:00, 218.53it/s]\n",
      "Trial 3/10: Running 500 iterations: 100%|██████████| 500/500 [00:02<00:00, 228.43it/s]\n",
      "Trial 4/10: Running 500 iterations: 100%|██████████| 500/500 [00:02<00:00, 233.81it/s]\n",
      "Trial 5/10: Running 500 iterations: 100%|██████████| 500/500 [00:02<00:00, 236.82it/s]\n",
      "Trial 6/10: Running 500 iterations: 100%|██████████| 500/500 [00:02<00:00, 228.21it/s]\n",
      "Trial 7/10: Running 500 iterations: 100%|██████████| 500/500 [00:02<00:00, 226.86it/s]\n",
      "Trial 8/10: Running 500 iterations: 100%|██████████| 500/500 [00:02<00:00, 225.86it/s]\n",
      "Trial 9/10: Running 500 iterations: 100%|██████████| 500/500 [00:02<00:00, 243.22it/s]\n",
      "Trial 10/10: Running 500 iterations: 100%|██████████| 500/500 [00:02<00:00, 243.74it/s]\n",
      "Unsupported operator aten::max_pool2d encountered 5 time(s)\n",
      "Unsupported operator aten::add encountered 7 time(s)\n"
     ]
    },
    {
     "name": "stdout",
     "output_type": "stream",
     "text": [
      "Processing batch size: 8\n"
     ]
    },
    {
     "name": "stderr",
     "output_type": "stream",
     "text": [
      "Trial 1/10: Running 500 iterations: 100%|██████████| 500/500 [00:05<00:00, 98.89it/s]\n",
      "Trial 2/10: Running 500 iterations: 100%|██████████| 500/500 [00:04<00:00, 100.08it/s]\n",
      "Trial 3/10: Running 500 iterations: 100%|██████████| 500/500 [00:04<00:00, 100.17it/s]\n",
      "Trial 4/10: Running 500 iterations: 100%|██████████| 500/500 [00:04<00:00, 100.06it/s]\n",
      "Trial 5/10: Running 500 iterations: 100%|██████████| 500/500 [00:04<00:00, 100.10it/s]\n",
      "Trial 6/10: Running 500 iterations: 100%|██████████| 500/500 [00:04<00:00, 100.03it/s]\n",
      "Trial 7/10: Running 500 iterations: 100%|██████████| 500/500 [00:04<00:00, 100.27it/s]\n",
      "Trial 8/10: Running 500 iterations: 100%|██████████| 500/500 [00:04<00:00, 100.26it/s]\n",
      "Trial 9/10: Running 500 iterations: 100%|██████████| 500/500 [00:05<00:00, 99.94it/s]\n",
      "Trial 10/10: Running 500 iterations: 100%|██████████| 500/500 [00:04<00:00, 100.14it/s]\n",
      "Unsupported operator aten::max_pool2d encountered 5 time(s)\n",
      "Unsupported operator aten::add encountered 7 time(s)\n"
     ]
    },
    {
     "name": "stdout",
     "output_type": "stream",
     "text": [
      "Processing batch size: 16\n"
     ]
    },
    {
     "name": "stderr",
     "output_type": "stream",
     "text": [
      "Trial 1/10: Running 500 iterations: 100%|██████████| 500/500 [00:07<00:00, 64.38it/s]\n",
      "Trial 2/10: Running 500 iterations: 100%|██████████| 500/500 [00:07<00:00, 64.81it/s]\n",
      "Trial 3/10: Running 500 iterations: 100%|██████████| 500/500 [00:07<00:00, 64.64it/s]\n",
      "Trial 4/10: Running 500 iterations: 100%|██████████| 500/500 [00:07<00:00, 64.66it/s]\n",
      "Trial 5/10: Running 500 iterations: 100%|██████████| 500/500 [00:07<00:00, 64.53it/s]\n",
      "Trial 6/10: Running 500 iterations: 100%|██████████| 500/500 [00:07<00:00, 64.69it/s]\n",
      "Trial 7/10: Running 500 iterations: 100%|██████████| 500/500 [00:07<00:00, 65.24it/s]\n",
      "Trial 8/10: Running 500 iterations: 100%|██████████| 500/500 [00:07<00:00, 65.20it/s]\n",
      "Trial 9/10: Running 500 iterations: 100%|██████████| 500/500 [00:07<00:00, 64.72it/s]\n",
      "Trial 10/10: Running 500 iterations: 100%|██████████| 500/500 [00:07<00:00, 64.90it/s]\n",
      "Unsupported operator aten::max_pool2d encountered 5 time(s)\n",
      "Unsupported operator aten::add encountered 7 time(s)\n"
     ]
    },
    {
     "name": "stdout",
     "output_type": "stream",
     "text": [
      "Processing batch size: 32\n"
     ]
    },
    {
     "name": "stderr",
     "output_type": "stream",
     "text": [
      "Trial 1/10: Running 500 iterations: 100%|██████████| 500/500 [00:13<00:00, 36.83it/s]\n",
      "Trial 2/10: Running 500 iterations: 100%|██████████| 500/500 [00:13<00:00, 36.99it/s]\n",
      "Trial 3/10: Running 500 iterations: 100%|██████████| 500/500 [00:13<00:00, 37.05it/s]\n",
      "Trial 4/10: Running 500 iterations: 100%|██████████| 500/500 [00:13<00:00, 36.97it/s]\n",
      "Trial 5/10: Running 500 iterations: 100%|██████████| 500/500 [00:13<00:00, 37.02it/s]\n",
      "Trial 6/10: Running 500 iterations: 100%|██████████| 500/500 [00:13<00:00, 37.24it/s]\n",
      "Trial 7/10: Running 500 iterations: 100%|██████████| 500/500 [00:13<00:00, 36.98it/s]\n",
      "Trial 8/10: Running 500 iterations: 100%|██████████| 500/500 [00:13<00:00, 37.02it/s]\n",
      "Trial 9/10: Running 500 iterations: 100%|██████████| 500/500 [00:13<00:00, 36.95it/s]\n",
      "Trial 10/10: Running 500 iterations: 100%|██████████| 500/500 [00:13<00:00, 36.87it/s]\n",
      "Unsupported operator aten::max_pool2d encountered 5 time(s)\n",
      "Unsupported operator aten::add encountered 7 time(s)\n"
     ]
    },
    {
     "name": "stdout",
     "output_type": "stream",
     "text": [
      "Processing batch size: 64\n"
     ]
    },
    {
     "name": "stderr",
     "output_type": "stream",
     "text": [
      "Trial 1/10: Running 500 iterations: 100%|██████████| 500/500 [00:25<00:00, 19.97it/s]\n",
      "Trial 2/10: Running 500 iterations: 100%|██████████| 500/500 [00:24<00:00, 20.01it/s]\n",
      "Trial 3/10: Running 500 iterations: 100%|██████████| 500/500 [00:24<00:00, 20.00it/s]\n",
      "Trial 4/10: Running 500 iterations: 100%|██████████| 500/500 [00:24<00:00, 20.00it/s]\n",
      "Trial 5/10: Running 500 iterations: 100%|██████████| 500/500 [00:24<00:00, 20.00it/s]\n",
      "Trial 6/10: Running 500 iterations: 100%|██████████| 500/500 [00:24<00:00, 20.00it/s]\n",
      "Trial 7/10: Running 500 iterations: 100%|██████████| 500/500 [00:24<00:00, 20.01it/s]\n",
      "Trial 8/10: Running 500 iterations: 100%|██████████| 500/500 [00:24<00:00, 20.00it/s]\n",
      "Trial 9/10: Running 500 iterations: 100%|██████████| 500/500 [00:24<00:00, 20.01it/s]\n",
      "Trial 10/10: Running 500 iterations: 100%|██████████| 500/500 [00:24<00:00, 20.00it/s]\n",
      "Processing Models:  29%|██▉       | 9/31 [1:17:12<3:12:21, 524.62s/it]"
     ]
    },
    {
     "name": "stdout",
     "output_type": "stream",
     "text": [
      "Processing model: d:\\PruneLimit\\PruneLimitAnalyzer\\models\\VGG11_CIFAR10_random_PD2_GPR-40_PRUNED_SEED_23.pth\n",
      "Processing batch size: 1\n"
     ]
    },
    {
     "name": "stderr",
     "output_type": "stream",
     "text": [
      "Unsupported operator aten::max_pool2d encountered 5 time(s)\n",
      "Unsupported operator aten::add encountered 7 time(s)\n",
      "Trial 1/10: Running 500 iterations: 100%|██████████| 500/500 [00:02<00:00, 248.64it/s]\n",
      "Trial 2/10: Running 500 iterations: 100%|██████████| 500/500 [00:02<00:00, 235.68it/s]\n",
      "Trial 3/10: Running 500 iterations: 100%|██████████| 500/500 [00:02<00:00, 244.80it/s]\n",
      "Trial 4/10: Running 500 iterations: 100%|██████████| 500/500 [00:02<00:00, 242.46it/s]\n",
      "Trial 5/10: Running 500 iterations: 100%|██████████| 500/500 [00:02<00:00, 247.59it/s]\n",
      "Trial 6/10: Running 500 iterations: 100%|██████████| 500/500 [00:02<00:00, 243.32it/s]\n",
      "Trial 7/10: Running 500 iterations: 100%|██████████| 500/500 [00:02<00:00, 241.66it/s]\n",
      "Trial 8/10: Running 500 iterations: 100%|██████████| 500/500 [00:02<00:00, 243.11it/s]\n",
      "Trial 9/10: Running 500 iterations: 100%|██████████| 500/500 [00:01<00:00, 252.07it/s]\n",
      "Trial 10/10: Running 500 iterations: 100%|██████████| 500/500 [00:02<00:00, 230.11it/s]\n",
      "Unsupported operator aten::max_pool2d encountered 5 time(s)\n",
      "Unsupported operator aten::add encountered 7 time(s)\n"
     ]
    },
    {
     "name": "stdout",
     "output_type": "stream",
     "text": [
      "Processing batch size: 8\n"
     ]
    },
    {
     "name": "stderr",
     "output_type": "stream",
     "text": [
      "Trial 1/10: Running 500 iterations: 100%|██████████| 500/500 [00:04<00:00, 113.32it/s]\n",
      "Trial 2/10: Running 500 iterations: 100%|██████████| 500/500 [00:04<00:00, 112.01it/s]\n",
      "Trial 3/10: Running 500 iterations: 100%|██████████| 500/500 [00:04<00:00, 112.43it/s]\n",
      "Trial 4/10: Running 500 iterations: 100%|██████████| 500/500 [00:04<00:00, 112.56it/s]\n",
      "Trial 5/10: Running 500 iterations: 100%|██████████| 500/500 [00:04<00:00, 112.00it/s]\n",
      "Trial 6/10: Running 500 iterations: 100%|██████████| 500/500 [00:04<00:00, 111.69it/s]\n",
      "Trial 7/10: Running 500 iterations: 100%|██████████| 500/500 [00:04<00:00, 112.38it/s]\n",
      "Trial 8/10: Running 500 iterations: 100%|██████████| 500/500 [00:04<00:00, 112.85it/s]\n",
      "Trial 9/10: Running 500 iterations: 100%|██████████| 500/500 [00:04<00:00, 114.07it/s]\n",
      "Trial 10/10: Running 500 iterations: 100%|██████████| 500/500 [00:04<00:00, 112.71it/s]\n",
      "Unsupported operator aten::max_pool2d encountered 5 time(s)\n",
      "Unsupported operator aten::add encountered 7 time(s)\n"
     ]
    },
    {
     "name": "stdout",
     "output_type": "stream",
     "text": [
      "Processing batch size: 16\n"
     ]
    },
    {
     "name": "stderr",
     "output_type": "stream",
     "text": [
      "Trial 1/10: Running 500 iterations: 100%|██████████| 500/500 [00:06<00:00, 73.91it/s]\n",
      "Trial 2/10: Running 500 iterations: 100%|██████████| 500/500 [00:06<00:00, 73.73it/s]\n",
      "Trial 3/10: Running 500 iterations: 100%|██████████| 500/500 [00:06<00:00, 74.06it/s]\n",
      "Trial 4/10: Running 500 iterations: 100%|██████████| 500/500 [00:06<00:00, 74.09it/s]\n",
      "Trial 5/10: Running 500 iterations: 100%|██████████| 500/500 [00:06<00:00, 73.79it/s]\n",
      "Trial 6/10: Running 500 iterations: 100%|██████████| 500/500 [00:06<00:00, 73.99it/s]\n",
      "Trial 7/10: Running 500 iterations: 100%|██████████| 500/500 [00:06<00:00, 74.28it/s]\n",
      "Trial 8/10: Running 500 iterations: 100%|██████████| 500/500 [00:06<00:00, 74.33it/s]\n",
      "Trial 9/10: Running 500 iterations: 100%|██████████| 500/500 [00:06<00:00, 74.50it/s]\n",
      "Trial 10/10: Running 500 iterations: 100%|██████████| 500/500 [00:06<00:00, 74.34it/s]\n",
      "Unsupported operator aten::max_pool2d encountered 5 time(s)\n",
      "Unsupported operator aten::add encountered 7 time(s)\n"
     ]
    },
    {
     "name": "stdout",
     "output_type": "stream",
     "text": [
      "Processing batch size: 32\n"
     ]
    },
    {
     "name": "stderr",
     "output_type": "stream",
     "text": [
      "Trial 1/10: Running 500 iterations: 100%|██████████| 500/500 [00:11<00:00, 41.74it/s]\n",
      "Trial 2/10: Running 500 iterations: 100%|██████████| 500/500 [00:11<00:00, 41.96it/s]\n",
      "Trial 3/10: Running 500 iterations: 100%|██████████| 500/500 [00:11<00:00, 41.88it/s]\n",
      "Trial 4/10: Running 500 iterations: 100%|██████████| 500/500 [00:11<00:00, 41.86it/s]\n",
      "Trial 5/10: Running 500 iterations: 100%|██████████| 500/500 [00:11<00:00, 41.84it/s]\n",
      "Trial 6/10: Running 500 iterations: 100%|██████████| 500/500 [00:11<00:00, 41.81it/s]\n",
      "Trial 7/10: Running 500 iterations: 100%|██████████| 500/500 [00:11<00:00, 41.85it/s]\n",
      "Trial 8/10: Running 500 iterations: 100%|██████████| 500/500 [00:11<00:00, 41.97it/s]\n",
      "Trial 9/10: Running 500 iterations: 100%|██████████| 500/500 [00:11<00:00, 41.88it/s]\n",
      "Trial 10/10: Running 500 iterations: 100%|██████████| 500/500 [00:11<00:00, 41.88it/s]\n",
      "Unsupported operator aten::max_pool2d encountered 5 time(s)\n",
      "Unsupported operator aten::add encountered 7 time(s)\n"
     ]
    },
    {
     "name": "stdout",
     "output_type": "stream",
     "text": [
      "Processing batch size: 64\n"
     ]
    },
    {
     "name": "stderr",
     "output_type": "stream",
     "text": [
      "Trial 1/10: Running 500 iterations: 100%|██████████| 500/500 [00:22<00:00, 22.48it/s]\n",
      "Trial 2/10: Running 500 iterations: 100%|██████████| 500/500 [00:22<00:00, 22.52it/s]\n",
      "Trial 3/10: Running 500 iterations: 100%|██████████| 500/500 [00:22<00:00, 22.51it/s]\n",
      "Trial 4/10: Running 500 iterations: 100%|██████████| 500/500 [00:22<00:00, 22.51it/s]\n",
      "Trial 5/10: Running 500 iterations: 100%|██████████| 500/500 [00:22<00:00, 22.50it/s]\n",
      "Trial 6/10: Running 500 iterations: 100%|██████████| 500/500 [00:22<00:00, 22.51it/s]\n",
      "Trial 7/10: Running 500 iterations: 100%|██████████| 500/500 [00:22<00:00, 22.54it/s]\n",
      "Trial 8/10: Running 500 iterations: 100%|██████████| 500/500 [00:22<00:00, 22.53it/s]\n",
      "Trial 9/10: Running 500 iterations: 100%|██████████| 500/500 [00:22<00:00, 22.53it/s]\n",
      "Trial 10/10: Running 500 iterations: 100%|██████████| 500/500 [00:22<00:00, 22.52it/s]\n",
      "Processing Models:  32%|███▏      | 10/31 [1:25:06<2:58:12, 509.18s/it]Unsupported operator aten::max_pool2d encountered 5 time(s)\n"
     ]
    },
    {
     "name": "stdout",
     "output_type": "stream",
     "text": [
      "Processing model: d:\\PruneLimit\\PruneLimitAnalyzer\\models\\VGG11_CIFAR10_random_PD2_GPR-50_PRUNED_SEED_23.pth\n",
      "Processing batch size: 1\n"
     ]
    },
    {
     "name": "stderr",
     "output_type": "stream",
     "text": [
      "Unsupported operator aten::add encountered 7 time(s)\n",
      "Trial 1/10: Running 500 iterations: 100%|██████████| 500/500 [00:02<00:00, 231.66it/s]\n",
      "Trial 2/10: Running 500 iterations: 100%|██████████| 500/500 [00:02<00:00, 216.07it/s]\n",
      "Trial 3/10: Running 500 iterations: 100%|██████████| 500/500 [00:02<00:00, 213.11it/s]\n",
      "Trial 4/10: Running 500 iterations: 100%|██████████| 500/500 [00:02<00:00, 218.21it/s]\n",
      "Trial 5/10: Running 500 iterations: 100%|██████████| 500/500 [00:02<00:00, 219.94it/s]\n",
      "Trial 6/10: Running 500 iterations: 100%|██████████| 500/500 [00:02<00:00, 221.21it/s]\n",
      "Trial 7/10: Running 500 iterations: 100%|██████████| 500/500 [00:02<00:00, 191.43it/s]\n",
      "Trial 8/10: Running 500 iterations: 100%|██████████| 500/500 [00:02<00:00, 191.28it/s]\n",
      "Trial 9/10: Running 500 iterations: 100%|██████████| 500/500 [00:02<00:00, 207.26it/s]\n",
      "Trial 10/10: Running 500 iterations: 100%|██████████| 500/500 [00:02<00:00, 212.84it/s]\n",
      "Unsupported operator aten::max_pool2d encountered 5 time(s)\n",
      "Unsupported operator aten::add encountered 7 time(s)\n"
     ]
    },
    {
     "name": "stdout",
     "output_type": "stream",
     "text": [
      "Processing batch size: 8\n"
     ]
    },
    {
     "name": "stderr",
     "output_type": "stream",
     "text": [
      "Trial 1/10: Running 500 iterations: 100%|██████████| 500/500 [00:03<00:00, 144.47it/s]\n",
      "Trial 2/10: Running 500 iterations: 100%|██████████| 500/500 [00:03<00:00, 148.62it/s]\n",
      "Trial 3/10: Running 500 iterations: 100%|██████████| 500/500 [00:03<00:00, 148.93it/s]\n",
      "Trial 4/10: Running 500 iterations: 100%|██████████| 500/500 [00:03<00:00, 149.58it/s]\n",
      "Trial 5/10: Running 500 iterations: 100%|██████████| 500/500 [00:03<00:00, 148.60it/s]\n",
      "Trial 6/10: Running 500 iterations: 100%|██████████| 500/500 [00:03<00:00, 149.79it/s]\n",
      "Trial 7/10: Running 500 iterations: 100%|██████████| 500/500 [00:03<00:00, 149.27it/s]\n",
      "Trial 8/10: Running 500 iterations: 100%|██████████| 500/500 [00:03<00:00, 149.84it/s]\n",
      "Trial 9/10: Running 500 iterations: 100%|██████████| 500/500 [00:03<00:00, 149.73it/s]\n",
      "Trial 10/10: Running 500 iterations: 100%|██████████| 500/500 [00:03<00:00, 149.46it/s]\n",
      "Unsupported operator aten::max_pool2d encountered 5 time(s)\n",
      "Unsupported operator aten::add encountered 7 time(s)\n"
     ]
    },
    {
     "name": "stdout",
     "output_type": "stream",
     "text": [
      "Processing batch size: 16\n"
     ]
    },
    {
     "name": "stderr",
     "output_type": "stream",
     "text": [
      "Trial 1/10: Running 500 iterations: 100%|██████████| 500/500 [00:05<00:00, 93.12it/s]\n",
      "Trial 2/10: Running 500 iterations: 100%|██████████| 500/500 [00:05<00:00, 95.23it/s]\n",
      "Trial 3/10: Running 500 iterations: 100%|██████████| 500/500 [00:05<00:00, 94.80it/s]\n",
      "Trial 4/10: Running 500 iterations: 100%|██████████| 500/500 [00:05<00:00, 94.63it/s]\n",
      "Trial 5/10: Running 500 iterations: 100%|██████████| 500/500 [00:05<00:00, 94.39it/s]\n",
      "Trial 6/10: Running 500 iterations: 100%|██████████| 500/500 [00:05<00:00, 94.41it/s]\n",
      "Trial 7/10: Running 500 iterations: 100%|██████████| 500/500 [00:05<00:00, 93.37it/s]\n",
      "Trial 8/10: Running 500 iterations: 100%|██████████| 500/500 [00:05<00:00, 93.35it/s]\n",
      "Trial 9/10: Running 500 iterations: 100%|██████████| 500/500 [00:05<00:00, 94.04it/s]\n",
      "Trial 10/10: Running 500 iterations: 100%|██████████| 500/500 [00:05<00:00, 94.24it/s]\n",
      "Unsupported operator aten::max_pool2d encountered 5 time(s)\n",
      "Unsupported operator aten::add encountered 7 time(s)\n"
     ]
    },
    {
     "name": "stdout",
     "output_type": "stream",
     "text": [
      "Processing batch size: 32\n"
     ]
    },
    {
     "name": "stderr",
     "output_type": "stream",
     "text": [
      "Trial 1/10: Running 500 iterations: 100%|██████████| 500/500 [00:09<00:00, 50.12it/s]\n",
      "Trial 2/10: Running 500 iterations: 100%|██████████| 500/500 [00:09<00:00, 50.00it/s]\n",
      "Trial 3/10: Running 500 iterations: 100%|██████████| 500/500 [00:09<00:00, 50.00it/s]\n",
      "Trial 4/10: Running 500 iterations: 100%|██████████| 500/500 [00:09<00:00, 50.02it/s]\n",
      "Trial 5/10: Running 500 iterations: 100%|██████████| 500/500 [00:09<00:00, 50.04it/s]\n",
      "Trial 6/10: Running 500 iterations: 100%|██████████| 500/500 [00:09<00:00, 50.06it/s]\n",
      "Trial 7/10: Running 500 iterations: 100%|██████████| 500/500 [00:09<00:00, 50.06it/s]\n",
      "Trial 8/10: Running 500 iterations: 100%|██████████| 500/500 [00:10<00:00, 49.99it/s]\n",
      "Trial 9/10: Running 500 iterations: 100%|██████████| 500/500 [00:09<00:00, 50.01it/s]\n",
      "Trial 10/10: Running 500 iterations: 100%|██████████| 500/500 [00:09<00:00, 50.03it/s]\n",
      "Unsupported operator aten::max_pool2d encountered 5 time(s)\n",
      "Unsupported operator aten::add encountered 7 time(s)\n"
     ]
    },
    {
     "name": "stdout",
     "output_type": "stream",
     "text": [
      "Processing batch size: 64\n"
     ]
    },
    {
     "name": "stderr",
     "output_type": "stream",
     "text": [
      "Trial 1/10: Running 500 iterations: 100%|██████████| 500/500 [00:17<00:00, 27.86it/s]\n",
      "Trial 2/10: Running 500 iterations: 100%|██████████| 500/500 [00:17<00:00, 27.92it/s]\n",
      "Trial 3/10: Running 500 iterations: 100%|██████████| 500/500 [00:17<00:00, 27.94it/s]\n",
      "Trial 4/10: Running 500 iterations: 100%|██████████| 500/500 [00:17<00:00, 27.81it/s]\n",
      "Trial 5/10: Running 500 iterations: 100%|██████████| 500/500 [00:17<00:00, 27.90it/s]\n",
      "Trial 6/10: Running 500 iterations: 100%|██████████| 500/500 [00:17<00:00, 27.91it/s]\n",
      "Trial 7/10: Running 500 iterations: 100%|██████████| 500/500 [00:18<00:00, 27.64it/s]\n",
      "Trial 8/10: Running 500 iterations: 100%|██████████| 500/500 [00:18<00:00, 27.73it/s]\n",
      "Trial 9/10: Running 500 iterations: 100%|██████████| 500/500 [00:17<00:00, 27.91it/s]\n",
      "Trial 10/10: Running 500 iterations: 100%|██████████| 500/500 [00:17<00:00, 27.78it/s]\n",
      "Processing Models:  35%|███▌      | 11/31 [1:31:37<2:37:36, 472.83s/it]Unsupported operator aten::max_pool2d encountered 5 time(s)\n",
      "Unsupported operator aten::add encountered 7 time(s)\n"
     ]
    },
    {
     "name": "stdout",
     "output_type": "stream",
     "text": [
      "Processing model: d:\\PruneLimit\\PruneLimitAnalyzer\\models\\VGG11_CIFAR10_random_PD2_GPR-60_PRUNED_SEED_23.pth\n",
      "Processing batch size: 1\n"
     ]
    },
    {
     "name": "stderr",
     "output_type": "stream",
     "text": [
      "Trial 1/10: Running 500 iterations: 100%|██████████| 500/500 [00:02<00:00, 225.01it/s]\n",
      "Trial 2/10: Running 500 iterations: 100%|██████████| 500/500 [00:02<00:00, 206.93it/s]\n",
      "Trial 3/10: Running 500 iterations: 100%|██████████| 500/500 [00:02<00:00, 198.55it/s]\n",
      "Trial 4/10: Running 500 iterations: 100%|██████████| 500/500 [00:02<00:00, 201.45it/s]\n",
      "Trial 5/10: Running 500 iterations: 100%|██████████| 500/500 [00:02<00:00, 217.47it/s]\n",
      "Trial 6/10: Running 500 iterations: 100%|██████████| 500/500 [00:02<00:00, 211.91it/s]\n",
      "Trial 7/10: Running 500 iterations: 100%|██████████| 500/500 [00:02<00:00, 193.62it/s]\n",
      "Trial 8/10: Running 500 iterations: 100%|██████████| 500/500 [00:02<00:00, 185.81it/s]\n",
      "Trial 9/10: Running 500 iterations: 100%|██████████| 500/500 [00:02<00:00, 215.15it/s]\n",
      "Trial 10/10: Running 500 iterations: 100%|██████████| 500/500 [00:02<00:00, 215.27it/s]\n",
      "Unsupported operator aten::max_pool2d encountered 5 time(s)\n",
      "Unsupported operator aten::add encountered 7 time(s)\n"
     ]
    },
    {
     "name": "stdout",
     "output_type": "stream",
     "text": [
      "Processing batch size: 8\n"
     ]
    },
    {
     "name": "stderr",
     "output_type": "stream",
     "text": [
      "Trial 1/10: Running 500 iterations: 100%|██████████| 500/500 [00:03<00:00, 147.79it/s]\n",
      "Trial 2/10: Running 500 iterations: 100%|██████████| 500/500 [00:03<00:00, 159.24it/s]\n",
      "Trial 3/10: Running 500 iterations: 100%|██████████| 500/500 [00:03<00:00, 154.50it/s]\n",
      "Trial 4/10: Running 500 iterations: 100%|██████████| 500/500 [00:03<00:00, 152.22it/s]\n",
      "Trial 5/10: Running 500 iterations: 100%|██████████| 500/500 [00:03<00:00, 152.03it/s]\n",
      "Trial 6/10: Running 500 iterations: 100%|██████████| 500/500 [00:03<00:00, 153.21it/s]\n",
      "Trial 7/10: Running 500 iterations: 100%|██████████| 500/500 [00:03<00:00, 153.11it/s]\n",
      "Trial 8/10: Running 500 iterations: 100%|██████████| 500/500 [00:03<00:00, 152.78it/s]\n",
      "Trial 9/10: Running 500 iterations: 100%|██████████| 500/500 [00:03<00:00, 153.64it/s]\n",
      "Trial 10/10: Running 500 iterations: 100%|██████████| 500/500 [00:03<00:00, 152.93it/s]\n",
      "Unsupported operator aten::max_pool2d encountered 5 time(s)\n",
      "Unsupported operator aten::add encountered 7 time(s)\n"
     ]
    },
    {
     "name": "stdout",
     "output_type": "stream",
     "text": [
      "Processing batch size: 16\n"
     ]
    },
    {
     "name": "stderr",
     "output_type": "stream",
     "text": [
      "Trial 1/10: Running 500 iterations: 100%|██████████| 500/500 [00:05<00:00, 99.97it/s]\n",
      "Trial 2/10: Running 500 iterations: 100%|██████████| 500/500 [00:05<00:00, 99.48it/s]\n",
      "Trial 3/10: Running 500 iterations: 100%|██████████| 500/500 [00:04<00:00, 100.06it/s]\n",
      "Trial 4/10: Running 500 iterations: 100%|██████████| 500/500 [00:04<00:00, 100.07it/s]\n",
      "Trial 5/10: Running 500 iterations: 100%|██████████| 500/500 [00:04<00:00, 100.07it/s]\n",
      "Trial 6/10: Running 500 iterations: 100%|██████████| 500/500 [00:04<00:00, 100.07it/s]\n",
      "Trial 7/10: Running 500 iterations: 100%|██████████| 500/500 [00:04<00:00, 100.00it/s]\n",
      "Trial 8/10: Running 500 iterations: 100%|██████████| 500/500 [00:04<00:00, 100.08it/s]\n",
      "Trial 9/10: Running 500 iterations: 100%|██████████| 500/500 [00:05<00:00, 99.50it/s] \n",
      "Trial 10/10: Running 500 iterations: 100%|██████████| 500/500 [00:04<00:00, 100.10it/s]\n",
      "Unsupported operator aten::max_pool2d encountered 5 time(s)\n",
      "Unsupported operator aten::add encountered 7 time(s)\n"
     ]
    },
    {
     "name": "stdout",
     "output_type": "stream",
     "text": [
      "Processing batch size: 32\n"
     ]
    },
    {
     "name": "stderr",
     "output_type": "stream",
     "text": [
      "Trial 1/10: Running 500 iterations: 100%|██████████| 500/500 [00:09<00:00, 51.69it/s]\n",
      "Trial 2/10: Running 500 iterations: 100%|██████████| 500/500 [00:09<00:00, 51.09it/s]\n",
      "Trial 3/10: Running 500 iterations: 100%|██████████| 500/500 [00:09<00:00, 51.13it/s]\n",
      "Trial 4/10: Running 500 iterations: 100%|██████████| 500/500 [00:09<00:00, 51.39it/s]\n",
      "Trial 5/10: Running 500 iterations: 100%|██████████| 500/500 [00:09<00:00, 51.70it/s]\n",
      "Trial 6/10: Running 500 iterations: 100%|██████████| 500/500 [00:09<00:00, 51.87it/s]\n",
      "Trial 7/10: Running 500 iterations: 100%|██████████| 500/500 [00:09<00:00, 51.87it/s]\n",
      "Trial 8/10: Running 500 iterations: 100%|██████████| 500/500 [00:09<00:00, 51.60it/s]\n",
      "Trial 9/10: Running 500 iterations: 100%|██████████| 500/500 [00:09<00:00, 51.91it/s]\n",
      "Trial 10/10: Running 500 iterations: 100%|██████████| 500/500 [00:09<00:00, 51.92it/s]\n",
      "Unsupported operator aten::max_pool2d encountered 5 time(s)\n",
      "Unsupported operator aten::add encountered 7 time(s)\n"
     ]
    },
    {
     "name": "stdout",
     "output_type": "stream",
     "text": [
      "Processing batch size: 64\n"
     ]
    },
    {
     "name": "stderr",
     "output_type": "stream",
     "text": [
      "Trial 1/10: Running 500 iterations: 100%|██████████| 500/500 [00:15<00:00, 32.23it/s]\n",
      "Trial 2/10: Running 500 iterations: 100%|██████████| 500/500 [00:15<00:00, 32.33it/s]\n",
      "Trial 3/10: Running 500 iterations: 100%|██████████| 500/500 [00:15<00:00, 32.25it/s]\n",
      "Trial 4/10: Running 500 iterations: 100%|██████████| 500/500 [00:15<00:00, 32.35it/s]\n",
      "Trial 5/10: Running 500 iterations: 100%|██████████| 500/500 [00:15<00:00, 32.37it/s]\n",
      "Trial 6/10: Running 500 iterations: 100%|██████████| 500/500 [00:15<00:00, 32.37it/s]\n",
      "Trial 7/10: Running 500 iterations: 100%|██████████| 500/500 [00:15<00:00, 32.43it/s]\n",
      "Trial 8/10: Running 500 iterations: 100%|██████████| 500/500 [00:15<00:00, 32.36it/s]\n",
      "Trial 9/10: Running 500 iterations: 100%|██████████| 500/500 [00:15<00:00, 32.40it/s]\n",
      "Trial 10/10: Running 500 iterations: 100%|██████████| 500/500 [00:15<00:00, 32.28it/s]\n",
      "Processing Models:  39%|███▊      | 12/31 [1:37:36<2:18:45, 438.17s/it]"
     ]
    },
    {
     "name": "stdout",
     "output_type": "stream",
     "text": [
      "Processing model: d:\\PruneLimit\\PruneLimitAnalyzer\\models\\VGG11_CIFAR10_random_PD3_GPR-10_PRUNED_SEED_23.pth\n"
     ]
    },
    {
     "name": "stderr",
     "output_type": "stream",
     "text": [
      "Unsupported operator aten::max_pool2d encountered 5 time(s)\n",
      "Unsupported operator aten::add encountered 7 time(s)\n"
     ]
    },
    {
     "name": "stdout",
     "output_type": "stream",
     "text": [
      "Processing batch size: 1\n"
     ]
    },
    {
     "name": "stderr",
     "output_type": "stream",
     "text": [
      "Trial 1/10: Running 500 iterations: 100%|██████████| 500/500 [00:02<00:00, 231.74it/s]\n",
      "Trial 2/10: Running 500 iterations: 100%|██████████| 500/500 [00:02<00:00, 217.13it/s]\n",
      "Trial 3/10: Running 500 iterations: 100%|██████████| 500/500 [00:02<00:00, 223.06it/s]\n",
      "Trial 4/10: Running 500 iterations: 100%|██████████| 500/500 [00:02<00:00, 237.99it/s]\n",
      "Trial 5/10: Running 500 iterations: 100%|██████████| 500/500 [00:02<00:00, 240.51it/s]\n",
      "Trial 6/10: Running 500 iterations: 100%|██████████| 500/500 [00:02<00:00, 208.75it/s]\n",
      "Trial 7/10: Running 500 iterations: 100%|██████████| 500/500 [00:02<00:00, 219.66it/s]\n",
      "Trial 8/10: Running 500 iterations: 100%|██████████| 500/500 [00:02<00:00, 231.88it/s]\n",
      "Trial 9/10: Running 500 iterations: 100%|██████████| 500/500 [00:02<00:00, 235.80it/s]\n",
      "Trial 10/10: Running 500 iterations: 100%|██████████| 500/500 [00:02<00:00, 227.60it/s]\n",
      "Unsupported operator aten::max_pool2d encountered 5 time(s)\n",
      "Unsupported operator aten::add encountered 7 time(s)\n"
     ]
    },
    {
     "name": "stdout",
     "output_type": "stream",
     "text": [
      "Processing batch size: 8\n"
     ]
    },
    {
     "name": "stderr",
     "output_type": "stream",
     "text": [
      "Trial 1/10: Running 500 iterations: 100%|██████████| 500/500 [00:05<00:00, 92.83it/s]\n",
      "Trial 2/10: Running 500 iterations: 100%|██████████| 500/500 [00:05<00:00, 93.65it/s]\n",
      "Trial 3/10: Running 500 iterations: 100%|██████████| 500/500 [00:05<00:00, 93.78it/s]\n",
      "Trial 4/10: Running 500 iterations: 100%|██████████| 500/500 [00:05<00:00, 93.40it/s]\n",
      "Trial 5/10: Running 500 iterations: 100%|██████████| 500/500 [00:05<00:00, 93.78it/s]\n",
      "Trial 6/10: Running 500 iterations: 100%|██████████| 500/500 [00:05<00:00, 92.68it/s]\n",
      "Trial 7/10: Running 500 iterations: 100%|██████████| 500/500 [00:05<00:00, 94.14it/s]\n",
      "Trial 8/10: Running 500 iterations: 100%|██████████| 500/500 [00:05<00:00, 93.95it/s]\n",
      "Trial 9/10: Running 500 iterations: 100%|██████████| 500/500 [00:05<00:00, 94.11it/s]\n",
      "Trial 10/10: Running 500 iterations: 100%|██████████| 500/500 [00:05<00:00, 94.41it/s]\n",
      "Unsupported operator aten::max_pool2d encountered 5 time(s)\n",
      "Unsupported operator aten::add encountered 7 time(s)\n"
     ]
    },
    {
     "name": "stdout",
     "output_type": "stream",
     "text": [
      "Processing batch size: 16\n"
     ]
    },
    {
     "name": "stderr",
     "output_type": "stream",
     "text": [
      "Trial 1/10: Running 500 iterations: 100%|██████████| 500/500 [00:10<00:00, 49.96it/s]\n",
      "Trial 2/10: Running 500 iterations: 100%|██████████| 500/500 [00:09<00:00, 50.05it/s]\n",
      "Trial 3/10: Running 500 iterations: 100%|██████████| 500/500 [00:09<00:00, 50.03it/s]\n",
      "Trial 4/10: Running 500 iterations: 100%|██████████| 500/500 [00:09<00:00, 50.03it/s]\n",
      "Trial 5/10: Running 500 iterations: 100%|██████████| 500/500 [00:09<00:00, 50.03it/s]\n",
      "Trial 6/10: Running 500 iterations: 100%|██████████| 500/500 [00:09<00:00, 50.03it/s]\n",
      "Trial 7/10: Running 500 iterations: 100%|██████████| 500/500 [00:09<00:00, 50.02it/s]\n",
      "Trial 8/10: Running 500 iterations: 100%|██████████| 500/500 [00:09<00:00, 50.03it/s]\n",
      "Trial 9/10: Running 500 iterations: 100%|██████████| 500/500 [00:09<00:00, 50.01it/s]\n",
      "Trial 10/10: Running 500 iterations: 100%|██████████| 500/500 [00:09<00:00, 50.02it/s]\n",
      "Unsupported operator aten::max_pool2d encountered 5 time(s)\n",
      "Unsupported operator aten::add encountered 7 time(s)\n"
     ]
    },
    {
     "name": "stdout",
     "output_type": "stream",
     "text": [
      "Processing batch size: 32\n"
     ]
    },
    {
     "name": "stderr",
     "output_type": "stream",
     "text": [
      "Trial 1/10: Running 500 iterations: 100%|██████████| 500/500 [00:16<00:00, 30.68it/s]\n",
      "Trial 2/10: Running 500 iterations: 100%|██████████| 500/500 [00:16<00:00, 30.77it/s]\n",
      "Trial 3/10: Running 500 iterations: 100%|██████████| 500/500 [00:16<00:00, 30.76it/s]\n",
      "Trial 4/10: Running 500 iterations: 100%|██████████| 500/500 [00:16<00:00, 30.75it/s]\n",
      "Trial 5/10: Running 500 iterations: 100%|██████████| 500/500 [00:16<00:00, 30.76it/s]\n",
      "Trial 6/10: Running 500 iterations: 100%|██████████| 500/500 [00:16<00:00, 30.76it/s]\n",
      "Trial 7/10: Running 500 iterations: 100%|██████████| 500/500 [00:16<00:00, 30.76it/s]\n",
      "Trial 8/10: Running 500 iterations: 100%|██████████| 500/500 [00:16<00:00, 30.74it/s]\n",
      "Trial 9/10: Running 500 iterations: 100%|██████████| 500/500 [00:16<00:00, 30.76it/s]\n",
      "Trial 10/10: Running 500 iterations: 100%|██████████| 500/500 [00:16<00:00, 30.73it/s]\n",
      "Unsupported operator aten::max_pool2d encountered 5 time(s)\n",
      "Unsupported operator aten::add encountered 7 time(s)\n"
     ]
    },
    {
     "name": "stdout",
     "output_type": "stream",
     "text": [
      "Processing batch size: 64\n"
     ]
    },
    {
     "name": "stderr",
     "output_type": "stream",
     "text": [
      "Trial 1/10: Running 500 iterations: 100%|██████████| 500/500 [00:30<00:00, 16.35it/s]\n",
      "Trial 2/10: Running 500 iterations: 100%|██████████| 500/500 [00:30<00:00, 16.38it/s]\n",
      "Trial 3/10: Running 500 iterations: 100%|██████████| 500/500 [00:30<00:00, 16.35it/s]\n",
      "Trial 4/10: Running 500 iterations: 100%|██████████| 500/500 [00:30<00:00, 16.35it/s]\n",
      "Trial 5/10: Running 500 iterations: 100%|██████████| 500/500 [00:30<00:00, 16.35it/s]\n",
      "Trial 6/10: Running 500 iterations: 100%|██████████| 500/500 [00:30<00:00, 16.35it/s]\n",
      "Trial 7/10: Running 500 iterations: 100%|██████████| 500/500 [00:30<00:00, 16.35it/s]\n",
      "Trial 8/10: Running 500 iterations: 100%|██████████| 500/500 [00:30<00:00, 16.36it/s]\n",
      "Trial 9/10: Running 500 iterations: 100%|██████████| 500/500 [00:30<00:00, 16.38it/s]\n",
      "Trial 10/10: Running 500 iterations: 100%|██████████| 500/500 [00:30<00:00, 16.39it/s]\n",
      "Processing Models:  42%|████▏     | 13/31 [1:48:20<2:30:12, 500.70s/it]"
     ]
    },
    {
     "name": "stdout",
     "output_type": "stream",
     "text": [
      "Processing model: d:\\PruneLimit\\PruneLimitAnalyzer\\models\\VGG11_CIFAR10_random_PD3_GPR-20_PRUNED_SEED_23.pth\n"
     ]
    },
    {
     "name": "stderr",
     "output_type": "stream",
     "text": [
      "Unsupported operator aten::max_pool2d encountered 5 time(s)\n",
      "Unsupported operator aten::add encountered 7 time(s)\n"
     ]
    },
    {
     "name": "stdout",
     "output_type": "stream",
     "text": [
      "Processing batch size: 1\n"
     ]
    },
    {
     "name": "stderr",
     "output_type": "stream",
     "text": [
      "Trial 1/10: Running 500 iterations: 100%|██████████| 500/500 [00:02<00:00, 214.79it/s]\n",
      "Trial 2/10: Running 500 iterations: 100%|██████████| 500/500 [00:02<00:00, 224.45it/s]\n",
      "Trial 3/10: Running 500 iterations: 100%|██████████| 500/500 [00:02<00:00, 228.95it/s]\n",
      "Trial 4/10: Running 500 iterations: 100%|██████████| 500/500 [00:02<00:00, 216.27it/s]\n",
      "Trial 5/10: Running 500 iterations: 100%|██████████| 500/500 [00:02<00:00, 231.74it/s]\n",
      "Trial 6/10: Running 500 iterations: 100%|██████████| 500/500 [00:02<00:00, 231.51it/s]\n",
      "Trial 7/10: Running 500 iterations: 100%|██████████| 500/500 [00:02<00:00, 233.47it/s]\n",
      "Trial 8/10: Running 500 iterations: 100%|██████████| 500/500 [00:02<00:00, 216.33it/s]\n",
      "Trial 9/10: Running 500 iterations: 100%|██████████| 500/500 [00:02<00:00, 199.68it/s]\n",
      "Trial 10/10: Running 500 iterations: 100%|██████████| 500/500 [00:02<00:00, 225.20it/s]\n",
      "Unsupported operator aten::max_pool2d encountered 5 time(s)\n",
      "Unsupported operator aten::add encountered 7 time(s)\n"
     ]
    },
    {
     "name": "stdout",
     "output_type": "stream",
     "text": [
      "Processing batch size: 8\n"
     ]
    },
    {
     "name": "stderr",
     "output_type": "stream",
     "text": [
      "Trial 1/10: Running 500 iterations: 100%|██████████| 500/500 [00:04<00:00, 100.05it/s]\n",
      "Trial 2/10: Running 500 iterations: 100%|██████████| 500/500 [00:04<00:00, 100.08it/s]\n",
      "Trial 3/10: Running 500 iterations: 100%|██████████| 500/500 [00:04<00:00, 100.09it/s]\n",
      "Trial 4/10: Running 500 iterations: 100%|██████████| 500/500 [00:05<00:00, 99.68it/s]\n",
      "Trial 5/10: Running 500 iterations: 100%|██████████| 500/500 [00:04<00:00, 100.07it/s]\n",
      "Trial 6/10: Running 500 iterations: 100%|██████████| 500/500 [00:04<00:00, 100.10it/s]\n",
      "Trial 7/10: Running 500 iterations: 100%|██████████| 500/500 [00:04<00:00, 100.15it/s]\n",
      "Trial 8/10: Running 500 iterations: 100%|██████████| 500/500 [00:04<00:00, 100.08it/s]\n",
      "Trial 9/10: Running 500 iterations: 100%|██████████| 500/500 [00:04<00:00, 100.08it/s]\n",
      "Trial 10/10: Running 500 iterations: 100%|██████████| 500/500 [00:04<00:00, 100.02it/s]\n",
      "Unsupported operator aten::max_pool2d encountered 5 time(s)\n",
      "Unsupported operator aten::add encountered 7 time(s)\n"
     ]
    },
    {
     "name": "stdout",
     "output_type": "stream",
     "text": [
      "Processing batch size: 16\n"
     ]
    },
    {
     "name": "stderr",
     "output_type": "stream",
     "text": [
      "Trial 1/10: Running 500 iterations: 100%|██████████| 500/500 [00:09<00:00, 50.09it/s]\n",
      "Trial 2/10: Running 500 iterations: 100%|██████████| 500/500 [00:09<00:00, 50.12it/s]\n",
      "Trial 3/10: Running 500 iterations: 100%|██████████| 500/500 [00:09<00:00, 50.03it/s]\n",
      "Trial 4/10: Running 500 iterations: 100%|██████████| 500/500 [00:09<00:00, 50.02it/s]\n",
      "Trial 5/10: Running 500 iterations: 100%|██████████| 500/500 [00:09<00:00, 50.03it/s]\n",
      "Trial 6/10: Running 500 iterations: 100%|██████████| 500/500 [00:09<00:00, 50.02it/s]\n",
      "Trial 7/10: Running 500 iterations: 100%|██████████| 500/500 [00:09<00:00, 50.03it/s]\n",
      "Trial 8/10: Running 500 iterations: 100%|██████████| 500/500 [00:09<00:00, 50.03it/s]\n",
      "Trial 9/10: Running 500 iterations: 100%|██████████| 500/500 [00:09<00:00, 50.05it/s]\n",
      "Trial 10/10: Running 500 iterations: 100%|██████████| 500/500 [00:09<00:00, 50.03it/s]\n",
      "Unsupported operator aten::max_pool2d encountered 5 time(s)\n",
      "Unsupported operator aten::add encountered 7 time(s)\n"
     ]
    },
    {
     "name": "stdout",
     "output_type": "stream",
     "text": [
      "Processing batch size: 32\n"
     ]
    },
    {
     "name": "stderr",
     "output_type": "stream",
     "text": [
      "Trial 1/10: Running 500 iterations: 100%|██████████| 500/500 [00:14<00:00, 33.35it/s]\n",
      "Trial 2/10: Running 500 iterations: 100%|██████████| 500/500 [00:14<00:00, 33.35it/s]\n",
      "Trial 3/10: Running 500 iterations: 100%|██████████| 500/500 [00:14<00:00, 33.34it/s]\n",
      "Trial 4/10: Running 500 iterations: 100%|██████████| 500/500 [00:14<00:00, 33.35it/s]\n",
      "Trial 5/10: Running 500 iterations: 100%|██████████| 500/500 [00:14<00:00, 33.34it/s]\n",
      "Trial 6/10: Running 500 iterations: 100%|██████████| 500/500 [00:14<00:00, 33.36it/s]\n",
      "Trial 7/10: Running 500 iterations: 100%|██████████| 500/500 [00:14<00:00, 33.35it/s]\n",
      "Trial 8/10: Running 500 iterations: 100%|██████████| 500/500 [00:14<00:00, 33.35it/s]\n",
      "Trial 9/10: Running 500 iterations: 100%|██████████| 500/500 [00:14<00:00, 33.34it/s]\n",
      "Trial 10/10: Running 500 iterations: 100%|██████████| 500/500 [00:14<00:00, 33.35it/s]\n",
      "Unsupported operator aten::max_pool2d encountered 5 time(s)\n",
      "Unsupported operator aten::add encountered 7 time(s)\n"
     ]
    },
    {
     "name": "stdout",
     "output_type": "stream",
     "text": [
      "Processing batch size: 64\n"
     ]
    },
    {
     "name": "stderr",
     "output_type": "stream",
     "text": [
      "Trial 1/10: Running 500 iterations: 100%|██████████| 500/500 [00:27<00:00, 18.13it/s]\n",
      "Trial 2/10: Running 500 iterations: 100%|██████████| 500/500 [00:27<00:00, 18.12it/s]\n",
      "Trial 3/10: Running 500 iterations: 100%|██████████| 500/500 [00:27<00:00, 18.19it/s]\n",
      "Trial 4/10: Running 500 iterations: 100%|██████████| 500/500 [00:27<00:00, 18.17it/s]\n",
      "Trial 5/10: Running 500 iterations: 100%|██████████| 500/500 [00:27<00:00, 18.12it/s]\n",
      "Trial 6/10: Running 500 iterations: 100%|██████████| 500/500 [00:27<00:00, 18.08it/s]\n",
      "Trial 7/10: Running 500 iterations: 100%|██████████| 500/500 [00:27<00:00, 18.10it/s]\n",
      "Trial 8/10: Running 500 iterations: 100%|██████████| 500/500 [00:27<00:00, 18.14it/s]\n",
      "Trial 9/10: Running 500 iterations: 100%|██████████| 500/500 [00:27<00:00, 18.11it/s]\n",
      "Trial 10/10: Running 500 iterations: 100%|██████████| 500/500 [00:27<00:00, 18.13it/s]\n",
      "Processing Models:  45%|████▌     | 14/31 [1:58:19<2:30:17, 530.43s/it]"
     ]
    },
    {
     "name": "stdout",
     "output_type": "stream",
     "text": [
      "Processing model: d:\\PruneLimit\\PruneLimitAnalyzer\\models\\VGG11_CIFAR10_random_PD3_GPR-30_PRUNED_SEED_23.pth\n"
     ]
    },
    {
     "name": "stderr",
     "output_type": "stream",
     "text": [
      "Unsupported operator aten::max_pool2d encountered 5 time(s)\n",
      "Unsupported operator aten::add encountered 7 time(s)\n"
     ]
    },
    {
     "name": "stdout",
     "output_type": "stream",
     "text": [
      "Processing batch size: 1\n"
     ]
    },
    {
     "name": "stderr",
     "output_type": "stream",
     "text": [
      "Trial 1/10: Running 500 iterations: 100%|██████████| 500/500 [00:02<00:00, 231.65it/s]\n",
      "Trial 2/10: Running 500 iterations: 100%|██████████| 500/500 [00:02<00:00, 232.19it/s]\n",
      "Trial 3/10: Running 500 iterations: 100%|██████████| 500/500 [00:02<00:00, 238.40it/s]\n",
      "Trial 4/10: Running 500 iterations: 100%|██████████| 500/500 [00:02<00:00, 244.52it/s]\n",
      "Trial 5/10: Running 500 iterations: 100%|██████████| 500/500 [00:02<00:00, 235.88it/s]\n",
      "Trial 6/10: Running 500 iterations: 100%|██████████| 500/500 [00:02<00:00, 210.22it/s]\n",
      "Trial 7/10: Running 500 iterations: 100%|██████████| 500/500 [00:02<00:00, 206.81it/s]\n",
      "Trial 8/10: Running 500 iterations: 100%|██████████| 500/500 [00:02<00:00, 239.83it/s]\n",
      "Trial 9/10: Running 500 iterations: 100%|██████████| 500/500 [00:02<00:00, 244.07it/s]\n",
      "Trial 10/10: Running 500 iterations: 100%|██████████| 500/500 [00:02<00:00, 235.54it/s]\n",
      "Unsupported operator aten::max_pool2d encountered 5 time(s)\n",
      "Unsupported operator aten::add encountered 7 time(s)\n"
     ]
    },
    {
     "name": "stdout",
     "output_type": "stream",
     "text": [
      "Processing batch size: 8\n"
     ]
    },
    {
     "name": "stderr",
     "output_type": "stream",
     "text": [
      "Trial 1/10: Running 500 iterations: 100%|██████████| 500/500 [00:05<00:00, 99.86it/s]\n",
      "Trial 2/10: Running 500 iterations: 100%|██████████| 500/500 [00:04<00:00, 100.48it/s]\n",
      "Trial 3/10: Running 500 iterations: 100%|██████████| 500/500 [00:04<00:00, 100.89it/s]\n",
      "Trial 4/10: Running 500 iterations: 100%|██████████| 500/500 [00:04<00:00, 100.88it/s]\n",
      "Trial 5/10: Running 500 iterations: 100%|██████████| 500/500 [00:05<00:00, 99.93it/s] \n",
      "Trial 6/10: Running 500 iterations: 100%|██████████| 500/500 [00:04<00:00, 100.27it/s]\n",
      "Trial 7/10: Running 500 iterations: 100%|██████████| 500/500 [00:04<00:00, 100.27it/s]\n",
      "Trial 8/10: Running 500 iterations: 100%|██████████| 500/500 [00:04<00:00, 100.05it/s]\n",
      "Trial 9/10: Running 500 iterations: 100%|██████████| 500/500 [00:04<00:00, 100.28it/s]\n",
      "Trial 10/10: Running 500 iterations: 100%|██████████| 500/500 [00:04<00:00, 100.28it/s]\n",
      "Unsupported operator aten::max_pool2d encountered 5 time(s)\n",
      "Unsupported operator aten::add encountered 7 time(s)\n"
     ]
    },
    {
     "name": "stdout",
     "output_type": "stream",
     "text": [
      "Processing batch size: 16\n"
     ]
    },
    {
     "name": "stderr",
     "output_type": "stream",
     "text": [
      "Trial 1/10: Running 500 iterations: 100%|██████████| 500/500 [00:07<00:00, 66.81it/s]\n",
      "Trial 2/10: Running 500 iterations: 100%|██████████| 500/500 [00:07<00:00, 67.45it/s]\n",
      "Trial 3/10: Running 500 iterations: 100%|██████████| 500/500 [00:07<00:00, 67.57it/s]\n",
      "Trial 4/10: Running 500 iterations: 100%|██████████| 500/500 [00:07<00:00, 67.24it/s]\n",
      "Trial 5/10: Running 500 iterations: 100%|██████████| 500/500 [00:07<00:00, 67.50it/s]\n",
      "Trial 6/10: Running 500 iterations: 100%|██████████| 500/500 [00:07<00:00, 67.25it/s]\n",
      "Trial 7/10: Running 500 iterations: 100%|██████████| 500/500 [00:07<00:00, 67.12it/s]\n",
      "Trial 8/10: Running 500 iterations: 100%|██████████| 500/500 [00:07<00:00, 67.04it/s]\n",
      "Trial 9/10: Running 500 iterations: 100%|██████████| 500/500 [00:07<00:00, 67.36it/s]\n",
      "Trial 10/10: Running 500 iterations: 100%|██████████| 500/500 [00:07<00:00, 67.08it/s]\n",
      "Unsupported operator aten::max_pool2d encountered 5 time(s)\n",
      "Unsupported operator aten::add encountered 7 time(s)\n"
     ]
    },
    {
     "name": "stdout",
     "output_type": "stream",
     "text": [
      "Processing batch size: 32\n"
     ]
    },
    {
     "name": "stderr",
     "output_type": "stream",
     "text": [
      "Trial 1/10: Running 500 iterations: 100%|██████████| 500/500 [00:12<00:00, 38.74it/s]\n",
      "Trial 2/10: Running 500 iterations: 100%|██████████| 500/500 [00:12<00:00, 38.76it/s]\n",
      "Trial 3/10: Running 500 iterations: 100%|██████████| 500/500 [00:12<00:00, 39.01it/s]\n",
      "Trial 4/10: Running 500 iterations: 100%|██████████| 500/500 [00:12<00:00, 39.09it/s]\n",
      "Trial 5/10: Running 500 iterations: 100%|██████████| 500/500 [00:12<00:00, 39.03it/s]\n",
      "Trial 6/10: Running 500 iterations: 100%|██████████| 500/500 [00:12<00:00, 39.04it/s]\n",
      "Trial 7/10: Running 500 iterations: 100%|██████████| 500/500 [00:12<00:00, 39.10it/s]\n",
      "Trial 8/10: Running 500 iterations: 100%|██████████| 500/500 [00:12<00:00, 39.17it/s]\n",
      "Trial 9/10: Running 500 iterations: 100%|██████████| 500/500 [00:12<00:00, 39.16it/s]\n",
      "Trial 10/10: Running 500 iterations: 100%|██████████| 500/500 [00:12<00:00, 39.31it/s]\n",
      "Unsupported operator aten::max_pool2d encountered 5 time(s)\n",
      "Unsupported operator aten::add encountered 7 time(s)\n"
     ]
    },
    {
     "name": "stdout",
     "output_type": "stream",
     "text": [
      "Processing batch size: 64\n"
     ]
    },
    {
     "name": "stderr",
     "output_type": "stream",
     "text": [
      "Trial 1/10: Running 500 iterations: 100%|██████████| 500/500 [00:23<00:00, 20.92it/s]\n",
      "Trial 2/10: Running 500 iterations: 100%|██████████| 500/500 [00:23<00:00, 20.96it/s]\n",
      "Trial 3/10: Running 500 iterations: 100%|██████████| 500/500 [00:23<00:00, 20.95it/s]\n",
      "Trial 4/10: Running 500 iterations: 100%|██████████| 500/500 [00:23<00:00, 20.94it/s]\n",
      "Trial 5/10: Running 500 iterations: 100%|██████████| 500/500 [00:23<00:00, 21.00it/s]\n",
      "Trial 6/10: Running 500 iterations: 100%|██████████| 500/500 [00:23<00:00, 21.01it/s]\n",
      "Trial 7/10: Running 500 iterations: 100%|██████████| 500/500 [00:23<00:00, 20.99it/s]\n",
      "Trial 8/10: Running 500 iterations: 100%|██████████| 500/500 [00:23<00:00, 20.99it/s]\n",
      "Trial 9/10: Running 500 iterations: 100%|██████████| 500/500 [00:23<00:00, 21.01it/s]\n",
      "Trial 10/10: Running 500 iterations: 100%|██████████| 500/500 [00:23<00:00, 20.96it/s]\n",
      "Processing Models:  48%|████▊     | 15/31 [2:06:53<2:20:03, 525.22s/it]"
     ]
    },
    {
     "name": "stdout",
     "output_type": "stream",
     "text": [
      "Processing model: d:\\PruneLimit\\PruneLimitAnalyzer\\models\\VGG11_CIFAR10_random_PD3_GPR-40_PRUNED_SEED_23.pth\n"
     ]
    },
    {
     "name": "stderr",
     "output_type": "stream",
     "text": [
      "Unsupported operator aten::max_pool2d encountered 5 time(s)\n",
      "Unsupported operator aten::add encountered 7 time(s)\n"
     ]
    },
    {
     "name": "stdout",
     "output_type": "stream",
     "text": [
      "Processing batch size: 1\n"
     ]
    },
    {
     "name": "stderr",
     "output_type": "stream",
     "text": [
      "Trial 1/10: Running 500 iterations: 100%|██████████| 500/500 [00:02<00:00, 218.60it/s]\n",
      "Trial 2/10: Running 500 iterations: 100%|██████████| 500/500 [00:02<00:00, 219.46it/s]\n",
      "Trial 3/10: Running 500 iterations: 100%|██████████| 500/500 [00:02<00:00, 230.46it/s]\n",
      "Trial 4/10: Running 500 iterations: 100%|██████████| 500/500 [00:02<00:00, 239.75it/s]\n",
      "Trial 5/10: Running 500 iterations: 100%|██████████| 500/500 [00:02<00:00, 233.45it/s]\n",
      "Trial 6/10: Running 500 iterations: 100%|██████████| 500/500 [00:02<00:00, 240.41it/s]\n",
      "Trial 7/10: Running 500 iterations: 100%|██████████| 500/500 [00:02<00:00, 243.03it/s]\n",
      "Trial 8/10: Running 500 iterations: 100%|██████████| 500/500 [00:02<00:00, 238.43it/s]\n",
      "Trial 9/10: Running 500 iterations: 100%|██████████| 500/500 [00:02<00:00, 226.67it/s]\n",
      "Trial 10/10: Running 500 iterations: 100%|██████████| 500/500 [00:02<00:00, 220.04it/s]\n",
      "Unsupported operator aten::max_pool2d encountered 5 time(s)\n",
      "Unsupported operator aten::add encountered 7 time(s)\n"
     ]
    },
    {
     "name": "stdout",
     "output_type": "stream",
     "text": [
      "Processing batch size: 8\n"
     ]
    },
    {
     "name": "stderr",
     "output_type": "stream",
     "text": [
      "Trial 1/10: Running 500 iterations: 100%|██████████| 500/500 [00:03<00:00, 137.49it/s]\n",
      "Trial 2/10: Running 500 iterations: 100%|██████████| 500/500 [00:03<00:00, 143.66it/s]\n",
      "Trial 3/10: Running 500 iterations: 100%|██████████| 500/500 [00:03<00:00, 140.85it/s]\n",
      "Trial 4/10: Running 500 iterations: 100%|██████████| 500/500 [00:03<00:00, 139.38it/s]\n",
      "Trial 5/10: Running 500 iterations: 100%|██████████| 500/500 [00:03<00:00, 137.97it/s]\n",
      "Trial 6/10: Running 500 iterations: 100%|██████████| 500/500 [00:03<00:00, 137.59it/s]\n",
      "Trial 7/10: Running 500 iterations: 100%|██████████| 500/500 [00:03<00:00, 140.02it/s]\n",
      "Trial 8/10: Running 500 iterations: 100%|██████████| 500/500 [00:03<00:00, 138.73it/s]\n",
      "Trial 9/10: Running 500 iterations: 100%|██████████| 500/500 [00:03<00:00, 139.25it/s]\n",
      "Trial 10/10: Running 500 iterations: 100%|██████████| 500/500 [00:03<00:00, 138.13it/s]\n",
      "Unsupported operator aten::max_pool2d encountered 5 time(s)\n",
      "Unsupported operator aten::add encountered 7 time(s)\n"
     ]
    },
    {
     "name": "stdout",
     "output_type": "stream",
     "text": [
      "Processing batch size: 16\n"
     ]
    },
    {
     "name": "stderr",
     "output_type": "stream",
     "text": [
      "Trial 1/10: Running 500 iterations: 100%|██████████| 500/500 [00:05<00:00, 87.17it/s]\n",
      "Trial 2/10: Running 500 iterations: 100%|██████████| 500/500 [00:05<00:00, 87.24it/s]\n",
      "Trial 3/10: Running 500 iterations: 100%|██████████| 500/500 [00:05<00:00, 87.18it/s]\n",
      "Trial 4/10: Running 500 iterations: 100%|██████████| 500/500 [00:05<00:00, 86.54it/s]\n",
      "Trial 5/10: Running 500 iterations: 100%|██████████| 500/500 [00:05<00:00, 87.51it/s]\n",
      "Trial 6/10: Running 500 iterations: 100%|██████████| 500/500 [00:05<00:00, 87.14it/s]\n",
      "Trial 7/10: Running 500 iterations: 100%|██████████| 500/500 [00:05<00:00, 87.30it/s]\n",
      "Trial 8/10: Running 500 iterations: 100%|██████████| 500/500 [00:05<00:00, 87.53it/s]\n",
      "Trial 9/10: Running 500 iterations: 100%|██████████| 500/500 [00:05<00:00, 86.97it/s]\n",
      "Trial 10/10: Running 500 iterations: 100%|██████████| 500/500 [00:05<00:00, 86.81it/s]\n",
      "Unsupported operator aten::max_pool2d encountered 5 time(s)\n",
      "Unsupported operator aten::add encountered 7 time(s)\n"
     ]
    },
    {
     "name": "stdout",
     "output_type": "stream",
     "text": [
      "Processing batch size: 32\n"
     ]
    },
    {
     "name": "stderr",
     "output_type": "stream",
     "text": [
      "Trial 1/10: Running 500 iterations: 100%|██████████| 500/500 [00:09<00:00, 50.05it/s]\n",
      "Trial 2/10: Running 500 iterations: 100%|██████████| 500/500 [00:09<00:00, 50.03it/s]\n",
      "Trial 3/10: Running 500 iterations: 100%|██████████| 500/500 [00:09<00:00, 50.03it/s]\n",
      "Trial 4/10: Running 500 iterations: 100%|██████████| 500/500 [00:09<00:00, 50.08it/s]\n",
      "Trial 5/10: Running 500 iterations: 100%|██████████| 500/500 [00:09<00:00, 50.07it/s]\n",
      "Trial 6/10: Running 500 iterations: 100%|██████████| 500/500 [00:09<00:00, 50.00it/s]\n",
      "Trial 7/10: Running 500 iterations: 100%|██████████| 500/500 [00:09<00:00, 50.00it/s]\n",
      "Trial 8/10: Running 500 iterations: 100%|██████████| 500/500 [00:09<00:00, 50.01it/s]\n",
      "Trial 9/10: Running 500 iterations: 100%|██████████| 500/500 [00:09<00:00, 50.03it/s]\n",
      "Trial 10/10: Running 500 iterations: 100%|██████████| 500/500 [00:09<00:00, 50.03it/s]\n",
      "Unsupported operator aten::max_pool2d encountered 5 time(s)\n",
      "Unsupported operator aten::add encountered 7 time(s)\n"
     ]
    },
    {
     "name": "stdout",
     "output_type": "stream",
     "text": [
      "Processing batch size: 64\n"
     ]
    },
    {
     "name": "stderr",
     "output_type": "stream",
     "text": [
      "Trial 1/10: Running 500 iterations: 100%|██████████| 500/500 [00:18<00:00, 27.44it/s]\n",
      "Trial 2/10: Running 500 iterations: 100%|██████████| 500/500 [00:18<00:00, 27.50it/s]\n",
      "Trial 3/10: Running 500 iterations: 100%|██████████| 500/500 [00:18<00:00, 27.50it/s]\n",
      "Trial 4/10: Running 500 iterations: 100%|██████████| 500/500 [00:18<00:00, 27.57it/s]\n",
      "Trial 5/10: Running 500 iterations: 100%|██████████| 500/500 [00:18<00:00, 27.49it/s]\n",
      "Trial 6/10: Running 500 iterations: 100%|██████████| 500/500 [00:18<00:00, 27.52it/s]\n",
      "Trial 7/10: Running 500 iterations: 100%|██████████| 500/500 [00:18<00:00, 27.48it/s]\n",
      "Trial 8/10: Running 500 iterations: 100%|██████████| 500/500 [00:18<00:00, 27.44it/s]\n",
      "Trial 9/10: Running 500 iterations: 100%|██████████| 500/500 [00:18<00:00, 27.40it/s]\n",
      "Trial 10/10: Running 500 iterations: 100%|██████████| 500/500 [00:18<00:00, 27.40it/s]\n",
      "Processing Models:  52%|█████▏    | 16/31 [2:13:30<2:01:41, 486.79s/it]"
     ]
    },
    {
     "name": "stdout",
     "output_type": "stream",
     "text": [
      "Processing model: d:\\PruneLimit\\PruneLimitAnalyzer\\models\\VGG11_CIFAR10_random_PD3_GPR-50_PRUNED_SEED_23.pth\n"
     ]
    },
    {
     "name": "stderr",
     "output_type": "stream",
     "text": [
      "Unsupported operator aten::max_pool2d encountered 5 time(s)\n",
      "Unsupported operator aten::add encountered 7 time(s)\n"
     ]
    },
    {
     "name": "stdout",
     "output_type": "stream",
     "text": [
      "Processing batch size: 1\n"
     ]
    },
    {
     "name": "stderr",
     "output_type": "stream",
     "text": [
      "Trial 1/10: Running 500 iterations: 100%|██████████| 500/500 [00:02<00:00, 233.00it/s]\n",
      "Trial 2/10: Running 500 iterations: 100%|██████████| 500/500 [00:02<00:00, 211.54it/s]\n",
      "Trial 3/10: Running 500 iterations: 100%|██████████| 500/500 [00:02<00:00, 206.37it/s]\n",
      "Trial 4/10: Running 500 iterations: 100%|██████████| 500/500 [00:02<00:00, 204.29it/s]\n",
      "Trial 5/10: Running 500 iterations: 100%|██████████| 500/500 [00:02<00:00, 197.38it/s]\n",
      "Trial 6/10: Running 500 iterations: 100%|██████████| 500/500 [00:02<00:00, 201.28it/s]\n",
      "Trial 7/10: Running 500 iterations: 100%|██████████| 500/500 [00:02<00:00, 201.22it/s]\n",
      "Trial 8/10: Running 500 iterations: 100%|██████████| 500/500 [00:02<00:00, 201.05it/s]\n",
      "Trial 9/10: Running 500 iterations: 100%|██████████| 500/500 [00:02<00:00, 206.05it/s]\n",
      "Trial 10/10: Running 500 iterations: 100%|██████████| 500/500 [00:02<00:00, 203.83it/s]\n",
      "Unsupported operator aten::max_pool2d encountered 5 time(s)\n",
      "Unsupported operator aten::add encountered 7 time(s)\n"
     ]
    },
    {
     "name": "stdout",
     "output_type": "stream",
     "text": [
      "Processing batch size: 8\n"
     ]
    },
    {
     "name": "stderr",
     "output_type": "stream",
     "text": [
      "Trial 1/10: Running 500 iterations: 100%|██████████| 500/500 [00:03<00:00, 149.38it/s]\n",
      "Trial 2/10: Running 500 iterations: 100%|██████████| 500/500 [00:03<00:00, 153.78it/s]\n",
      "Trial 3/10: Running 500 iterations: 100%|██████████| 500/500 [00:03<00:00, 153.96it/s]\n",
      "Trial 4/10: Running 500 iterations: 100%|██████████| 500/500 [00:03<00:00, 152.37it/s]\n",
      "Trial 5/10: Running 500 iterations: 100%|██████████| 500/500 [00:03<00:00, 153.11it/s]\n",
      "Trial 6/10: Running 500 iterations: 100%|██████████| 500/500 [00:03<00:00, 153.59it/s]\n",
      "Trial 7/10: Running 500 iterations: 100%|██████████| 500/500 [00:03<00:00, 154.31it/s]\n",
      "Trial 8/10: Running 500 iterations: 100%|██████████| 500/500 [00:03<00:00, 153.57it/s]\n",
      "Trial 9/10: Running 500 iterations: 100%|██████████| 500/500 [00:03<00:00, 153.86it/s]\n",
      "Trial 10/10: Running 500 iterations: 100%|██████████| 500/500 [00:03<00:00, 153.55it/s]\n",
      "Unsupported operator aten::max_pool2d encountered 5 time(s)\n",
      "Unsupported operator aten::add encountered 7 time(s)\n"
     ]
    },
    {
     "name": "stdout",
     "output_type": "stream",
     "text": [
      "Processing batch size: 16\n"
     ]
    },
    {
     "name": "stderr",
     "output_type": "stream",
     "text": [
      "Trial 1/10: Running 500 iterations: 100%|██████████| 500/500 [00:04<00:00, 102.78it/s]\n",
      "Trial 2/10: Running 500 iterations: 100%|██████████| 500/500 [00:04<00:00, 103.82it/s]\n",
      "Trial 3/10: Running 500 iterations: 100%|██████████| 500/500 [00:04<00:00, 103.47it/s]\n",
      "Trial 4/10: Running 500 iterations: 100%|██████████| 500/500 [00:04<00:00, 103.13it/s]\n",
      "Trial 5/10: Running 500 iterations: 100%|██████████| 500/500 [00:04<00:00, 102.30it/s]\n",
      "Trial 6/10: Running 500 iterations: 100%|██████████| 500/500 [00:04<00:00, 103.25it/s]\n",
      "Trial 7/10: Running 500 iterations: 100%|██████████| 500/500 [00:04<00:00, 102.87it/s]\n",
      "Trial 8/10: Running 500 iterations: 100%|██████████| 500/500 [00:04<00:00, 103.59it/s]\n",
      "Trial 9/10: Running 500 iterations: 100%|██████████| 500/500 [00:04<00:00, 102.55it/s]\n",
      "Trial 10/10: Running 500 iterations: 100%|██████████| 500/500 [00:04<00:00, 102.32it/s]\n",
      "Unsupported operator aten::max_pool2d encountered 5 time(s)\n",
      "Unsupported operator aten::add encountered 7 time(s)\n"
     ]
    },
    {
     "name": "stdout",
     "output_type": "stream",
     "text": [
      "Processing batch size: 32\n"
     ]
    },
    {
     "name": "stderr",
     "output_type": "stream",
     "text": [
      "Trial 1/10: Running 500 iterations: 100%|██████████| 500/500 [00:07<00:00, 65.38it/s]\n",
      "Trial 2/10: Running 500 iterations: 100%|██████████| 500/500 [00:07<00:00, 66.27it/s]\n",
      "Trial 3/10: Running 500 iterations: 100%|██████████| 500/500 [00:07<00:00, 65.95it/s]\n",
      "Trial 4/10: Running 500 iterations: 100%|██████████| 500/500 [00:07<00:00, 65.89it/s]\n",
      "Trial 5/10: Running 500 iterations: 100%|██████████| 500/500 [00:07<00:00, 65.83it/s]\n",
      "Trial 6/10: Running 500 iterations: 100%|██████████| 500/500 [00:07<00:00, 65.43it/s]\n",
      "Trial 7/10: Running 500 iterations: 100%|██████████| 500/500 [00:07<00:00, 65.53it/s]\n",
      "Trial 8/10: Running 500 iterations: 100%|██████████| 500/500 [00:07<00:00, 65.58it/s]\n",
      "Trial 9/10: Running 500 iterations: 100%|██████████| 500/500 [00:07<00:00, 65.99it/s]\n",
      "Trial 10/10: Running 500 iterations: 100%|██████████| 500/500 [00:07<00:00, 66.27it/s]\n",
      "Unsupported operator aten::max_pool2d encountered 5 time(s)\n",
      "Unsupported operator aten::add encountered 7 time(s)\n"
     ]
    },
    {
     "name": "stdout",
     "output_type": "stream",
     "text": [
      "Processing batch size: 64\n"
     ]
    },
    {
     "name": "stderr",
     "output_type": "stream",
     "text": [
      "Trial 1/10: Running 500 iterations: 100%|██████████| 500/500 [00:13<00:00, 37.43it/s]\n",
      "Trial 2/10: Running 500 iterations: 100%|██████████| 500/500 [00:13<00:00, 37.53it/s]\n",
      "Trial 3/10: Running 500 iterations: 100%|██████████| 500/500 [00:13<00:00, 37.50it/s]\n",
      "Trial 4/10: Running 500 iterations: 100%|██████████| 500/500 [00:13<00:00, 37.54it/s]\n",
      "Trial 5/10: Running 500 iterations: 100%|██████████| 500/500 [00:13<00:00, 37.51it/s]\n",
      "Trial 6/10: Running 500 iterations: 100%|██████████| 500/500 [00:13<00:00, 37.50it/s]\n",
      "Trial 7/10: Running 500 iterations: 100%|██████████| 500/500 [00:13<00:00, 37.52it/s]\n",
      "Trial 8/10: Running 500 iterations: 100%|██████████| 500/500 [00:13<00:00, 37.52it/s]\n",
      "Trial 9/10: Running 500 iterations: 100%|██████████| 500/500 [00:13<00:00, 37.49it/s]\n",
      "Trial 10/10: Running 500 iterations: 100%|██████████| 500/500 [00:13<00:00, 37.51it/s]\n",
      "Processing Models:  55%|█████▍    | 17/31 [2:18:45<1:41:33, 435.25s/it]"
     ]
    },
    {
     "name": "stdout",
     "output_type": "stream",
     "text": [
      "Processing model: d:\\PruneLimit\\PruneLimitAnalyzer\\models\\VGG11_CIFAR10_random_PD3_GPR-60_PRUNED_SEED_23.pth\n",
      "Processing batch size: 1\n"
     ]
    },
    {
     "name": "stderr",
     "output_type": "stream",
     "text": [
      "Unsupported operator aten::max_pool2d encountered 5 time(s)\n",
      "Unsupported operator aten::add encountered 7 time(s)\n",
      "Trial 1/10: Running 500 iterations: 100%|██████████| 500/500 [00:02<00:00, 240.48it/s]\n",
      "Trial 2/10: Running 500 iterations: 100%|██████████| 500/500 [00:02<00:00, 201.16it/s]\n",
      "Trial 3/10: Running 500 iterations: 100%|██████████| 500/500 [00:02<00:00, 198.49it/s]\n",
      "Trial 4/10: Running 500 iterations: 100%|██████████| 500/500 [00:02<00:00, 206.08it/s]\n",
      "Trial 5/10: Running 500 iterations: 100%|██████████| 500/500 [00:02<00:00, 200.91it/s]\n",
      "Trial 6/10: Running 500 iterations: 100%|██████████| 500/500 [00:02<00:00, 191.99it/s]\n",
      "Trial 7/10: Running 500 iterations: 100%|██████████| 500/500 [00:02<00:00, 185.78it/s]\n",
      "Trial 8/10: Running 500 iterations: 100%|██████████| 500/500 [00:02<00:00, 193.24it/s]\n",
      "Trial 9/10: Running 500 iterations: 100%|██████████| 500/500 [00:02<00:00, 195.86it/s]\n",
      "Trial 10/10: Running 500 iterations: 100%|██████████| 500/500 [00:02<00:00, 197.67it/s]\n",
      "Unsupported operator aten::max_pool2d encountered 5 time(s)\n",
      "Unsupported operator aten::add encountered 7 time(s)\n"
     ]
    },
    {
     "name": "stdout",
     "output_type": "stream",
     "text": [
      "Processing batch size: 8\n"
     ]
    },
    {
     "name": "stderr",
     "output_type": "stream",
     "text": [
      "Trial 1/10: Running 500 iterations: 100%|██████████| 500/500 [00:02<00:00, 183.07it/s]\n",
      "Trial 2/10: Running 500 iterations: 100%|██████████| 500/500 [00:02<00:00, 197.50it/s]\n",
      "Trial 3/10: Running 500 iterations: 100%|██████████| 500/500 [00:02<00:00, 199.43it/s]\n",
      "Trial 4/10: Running 500 iterations: 100%|██████████| 500/500 [00:02<00:00, 198.97it/s]\n",
      "Trial 5/10: Running 500 iterations: 100%|██████████| 500/500 [00:02<00:00, 199.41it/s]\n",
      "Trial 6/10: Running 500 iterations: 100%|██████████| 500/500 [00:02<00:00, 199.75it/s]\n",
      "Trial 7/10: Running 500 iterations: 100%|██████████| 500/500 [00:02<00:00, 200.06it/s]\n",
      "Trial 8/10: Running 500 iterations: 100%|██████████| 500/500 [00:02<00:00, 199.63it/s]\n",
      "Trial 9/10: Running 500 iterations: 100%|██████████| 500/500 [00:02<00:00, 197.94it/s]\n",
      "Trial 10/10: Running 500 iterations: 100%|██████████| 500/500 [00:02<00:00, 199.74it/s]\n",
      "Unsupported operator aten::max_pool2d encountered 5 time(s)\n",
      "Unsupported operator aten::add encountered 7 time(s)\n"
     ]
    },
    {
     "name": "stdout",
     "output_type": "stream",
     "text": [
      "Processing batch size: 16\n"
     ]
    },
    {
     "name": "stderr",
     "output_type": "stream",
     "text": [
      "Trial 1/10: Running 500 iterations: 100%|██████████| 500/500 [00:03<00:00, 147.75it/s]\n",
      "Trial 2/10: Running 500 iterations: 100%|██████████| 500/500 [00:03<00:00, 149.44it/s]\n",
      "Trial 3/10: Running 500 iterations: 100%|██████████| 500/500 [00:03<00:00, 149.84it/s]\n",
      "Trial 4/10: Running 500 iterations: 100%|██████████| 500/500 [00:03<00:00, 148.65it/s]\n",
      "Trial 5/10: Running 500 iterations: 100%|██████████| 500/500 [00:03<00:00, 149.02it/s]\n",
      "Trial 6/10: Running 500 iterations: 100%|██████████| 500/500 [00:03<00:00, 147.38it/s]\n",
      "Trial 7/10: Running 500 iterations: 100%|██████████| 500/500 [00:03<00:00, 149.14it/s]\n",
      "Trial 8/10: Running 500 iterations: 100%|██████████| 500/500 [00:03<00:00, 147.97it/s]\n",
      "Trial 9/10: Running 500 iterations: 100%|██████████| 500/500 [00:03<00:00, 147.51it/s]\n",
      "Trial 10/10: Running 500 iterations: 100%|██████████| 500/500 [00:03<00:00, 148.05it/s]\n",
      "Unsupported operator aten::max_pool2d encountered 5 time(s)\n",
      "Unsupported operator aten::add encountered 7 time(s)\n"
     ]
    },
    {
     "name": "stdout",
     "output_type": "stream",
     "text": [
      "Processing batch size: 32\n"
     ]
    },
    {
     "name": "stderr",
     "output_type": "stream",
     "text": [
      "Trial 1/10: Running 500 iterations: 100%|██████████| 500/500 [00:05<00:00, 88.00it/s]\n",
      "Trial 2/10: Running 500 iterations: 100%|██████████| 500/500 [00:05<00:00, 89.68it/s]\n",
      "Trial 3/10: Running 500 iterations: 100%|██████████| 500/500 [00:05<00:00, 88.80it/s]\n",
      "Trial 4/10: Running 500 iterations: 100%|██████████| 500/500 [00:05<00:00, 88.02it/s]\n",
      "Trial 5/10: Running 500 iterations: 100%|██████████| 500/500 [00:05<00:00, 88.02it/s]\n",
      "Trial 6/10: Running 500 iterations: 100%|██████████| 500/500 [00:05<00:00, 87.68it/s]\n",
      "Trial 7/10: Running 500 iterations: 100%|██████████| 500/500 [00:05<00:00, 87.69it/s]\n",
      "Trial 8/10: Running 500 iterations: 100%|██████████| 500/500 [00:05<00:00, 87.00it/s]\n",
      "Trial 9/10: Running 500 iterations: 100%|██████████| 500/500 [00:05<00:00, 87.76it/s]\n",
      "Trial 10/10: Running 500 iterations: 100%|██████████| 500/500 [00:05<00:00, 87.49it/s]\n",
      "Unsupported operator aten::max_pool2d encountered 5 time(s)\n",
      "Unsupported operator aten::add encountered 7 time(s)\n"
     ]
    },
    {
     "name": "stdout",
     "output_type": "stream",
     "text": [
      "Processing batch size: 64\n"
     ]
    },
    {
     "name": "stderr",
     "output_type": "stream",
     "text": [
      "Trial 1/10: Running 500 iterations: 100%|██████████| 500/500 [00:09<00:00, 50.05it/s]\n",
      "Trial 2/10: Running 500 iterations: 100%|██████████| 500/500 [00:09<00:00, 50.02it/s]\n",
      "Trial 3/10: Running 500 iterations: 100%|██████████| 500/500 [00:09<00:00, 50.04it/s]\n",
      "Trial 4/10: Running 500 iterations: 100%|██████████| 500/500 [00:09<00:00, 50.01it/s]\n",
      "Trial 5/10: Running 500 iterations: 100%|██████████| 500/500 [00:09<00:00, 50.03it/s]\n",
      "Trial 6/10: Running 500 iterations: 100%|██████████| 500/500 [00:09<00:00, 50.02it/s]\n",
      "Trial 7/10: Running 500 iterations: 100%|██████████| 500/500 [00:09<00:00, 50.03it/s]\n",
      "Trial 8/10: Running 500 iterations: 100%|██████████| 500/500 [00:09<00:00, 50.05it/s]\n",
      "Trial 9/10: Running 500 iterations: 100%|██████████| 500/500 [00:09<00:00, 50.03it/s]\n",
      "Trial 10/10: Running 500 iterations: 100%|██████████| 500/500 [00:09<00:00, 50.03it/s]\n",
      "Processing Models:  58%|█████▊    | 18/31 [2:22:47<1:21:40, 376.99s/it]"
     ]
    },
    {
     "name": "stdout",
     "output_type": "stream",
     "text": [
      "Processing model: d:\\PruneLimit\\PruneLimitAnalyzer\\models\\VGG11_CIFAR10_random_PD4_GPR-10_PRUNED_SEED_23.pth\n"
     ]
    },
    {
     "name": "stderr",
     "output_type": "stream",
     "text": [
      "Unsupported operator aten::max_pool2d encountered 5 time(s)\n",
      "Unsupported operator aten::add encountered 7 time(s)\n"
     ]
    },
    {
     "name": "stdout",
     "output_type": "stream",
     "text": [
      "Processing batch size: 1\n"
     ]
    },
    {
     "name": "stderr",
     "output_type": "stream",
     "text": [
      "Trial 1/10: Running 500 iterations: 100%|██████████| 500/500 [00:02<00:00, 218.69it/s]\n",
      "Trial 2/10: Running 500 iterations: 100%|██████████| 500/500 [00:02<00:00, 213.22it/s]\n",
      "Trial 3/10: Running 500 iterations: 100%|██████████| 500/500 [00:02<00:00, 218.82it/s]\n",
      "Trial 4/10: Running 500 iterations: 100%|██████████| 500/500 [00:02<00:00, 224.31it/s]\n",
      "Trial 5/10: Running 500 iterations: 100%|██████████| 500/500 [00:02<00:00, 227.19it/s]\n",
      "Trial 6/10: Running 500 iterations: 100%|██████████| 500/500 [00:02<00:00, 219.00it/s]\n",
      "Trial 7/10: Running 500 iterations: 100%|██████████| 500/500 [00:02<00:00, 206.01it/s]\n",
      "Trial 8/10: Running 500 iterations: 100%|██████████| 500/500 [00:02<00:00, 212.19it/s]\n",
      "Trial 9/10: Running 500 iterations: 100%|██████████| 500/500 [00:02<00:00, 224.51it/s]\n",
      "Trial 10/10: Running 500 iterations: 100%|██████████| 500/500 [00:02<00:00, 223.66it/s]\n",
      "Unsupported operator aten::max_pool2d encountered 5 time(s)\n",
      "Unsupported operator aten::add encountered 7 time(s)\n"
     ]
    },
    {
     "name": "stdout",
     "output_type": "stream",
     "text": [
      "Processing batch size: 8\n"
     ]
    },
    {
     "name": "stderr",
     "output_type": "stream",
     "text": [
      "Trial 1/10: Running 500 iterations: 100%|██████████| 500/500 [00:05<00:00, 86.41it/s]\n",
      "Trial 2/10: Running 500 iterations: 100%|██████████| 500/500 [00:05<00:00, 86.83it/s]\n",
      "Trial 3/10: Running 500 iterations: 100%|██████████| 500/500 [00:05<00:00, 86.71it/s]\n",
      "Trial 4/10: Running 500 iterations: 100%|██████████| 500/500 [00:05<00:00, 86.43it/s]\n",
      "Trial 5/10: Running 500 iterations: 100%|██████████| 500/500 [00:05<00:00, 86.87it/s]\n",
      "Trial 6/10: Running 500 iterations: 100%|██████████| 500/500 [00:05<00:00, 86.27it/s]\n",
      "Trial 7/10: Running 500 iterations: 100%|██████████| 500/500 [00:05<00:00, 86.27it/s]\n",
      "Trial 8/10: Running 500 iterations: 100%|██████████| 500/500 [00:05<00:00, 87.11it/s]\n",
      "Trial 9/10: Running 500 iterations: 100%|██████████| 500/500 [00:05<00:00, 86.92it/s]\n",
      "Trial 10/10: Running 500 iterations: 100%|██████████| 500/500 [00:05<00:00, 87.21it/s]\n",
      "Unsupported operator aten::max_pool2d encountered 5 time(s)\n",
      "Unsupported operator aten::add encountered 7 time(s)\n"
     ]
    },
    {
     "name": "stdout",
     "output_type": "stream",
     "text": [
      "Processing batch size: 16\n"
     ]
    },
    {
     "name": "stderr",
     "output_type": "stream",
     "text": [
      "Trial 1/10: Running 500 iterations: 100%|██████████| 500/500 [00:10<00:00, 50.00it/s]\n",
      "Trial 2/10: Running 500 iterations: 100%|██████████| 500/500 [00:09<00:00, 50.04it/s]\n",
      "Trial 3/10: Running 500 iterations: 100%|██████████| 500/500 [00:09<00:00, 50.01it/s]\n",
      "Trial 4/10: Running 500 iterations: 100%|██████████| 500/500 [00:09<00:00, 50.03it/s]\n",
      "Trial 5/10: Running 500 iterations: 100%|██████████| 500/500 [00:09<00:00, 50.04it/s]\n",
      "Trial 6/10: Running 500 iterations: 100%|██████████| 500/500 [00:09<00:00, 50.00it/s]\n",
      "Trial 7/10: Running 500 iterations: 100%|██████████| 500/500 [00:09<00:00, 50.06it/s]\n",
      "Trial 8/10: Running 500 iterations: 100%|██████████| 500/500 [00:09<00:00, 50.03it/s]\n",
      "Trial 9/10: Running 500 iterations: 100%|██████████| 500/500 [00:09<00:00, 50.04it/s]\n",
      "Trial 10/10: Running 500 iterations: 100%|██████████| 500/500 [00:09<00:00, 50.03it/s]\n",
      "Unsupported operator aten::max_pool2d encountered 5 time(s)\n",
      "Unsupported operator aten::add encountered 7 time(s)\n"
     ]
    },
    {
     "name": "stdout",
     "output_type": "stream",
     "text": [
      "Processing batch size: 32\n"
     ]
    },
    {
     "name": "stderr",
     "output_type": "stream",
     "text": [
      "Trial 1/10: Running 500 iterations: 100%|██████████| 500/500 [00:17<00:00, 28.75it/s]\n",
      "Trial 2/10: Running 500 iterations: 100%|██████████| 500/500 [00:17<00:00, 28.84it/s]\n",
      "Trial 3/10: Running 500 iterations: 100%|██████████| 500/500 [00:17<00:00, 28.86it/s]\n",
      "Trial 4/10: Running 500 iterations: 100%|██████████| 500/500 [00:17<00:00, 28.80it/s]\n",
      "Trial 5/10: Running 500 iterations: 100%|██████████| 500/500 [00:17<00:00, 28.85it/s]\n",
      "Trial 6/10: Running 500 iterations: 100%|██████████| 500/500 [00:17<00:00, 28.92it/s]\n",
      "Trial 7/10: Running 500 iterations: 100%|██████████| 500/500 [00:17<00:00, 28.87it/s]\n",
      "Trial 8/10: Running 500 iterations: 100%|██████████| 500/500 [00:17<00:00, 28.90it/s]\n",
      "Trial 9/10: Running 500 iterations: 100%|██████████| 500/500 [00:17<00:00, 28.93it/s]\n",
      "Trial 10/10: Running 500 iterations: 100%|██████████| 500/500 [00:17<00:00, 28.88it/s]\n",
      "Unsupported operator aten::max_pool2d encountered 5 time(s)\n",
      "Unsupported operator aten::add encountered 7 time(s)\n"
     ]
    },
    {
     "name": "stdout",
     "output_type": "stream",
     "text": [
      "Processing batch size: 64\n"
     ]
    },
    {
     "name": "stderr",
     "output_type": "stream",
     "text": [
      "Trial 1/10: Running 500 iterations: 100%|██████████| 500/500 [00:33<00:00, 15.04it/s]\n",
      "Trial 2/10: Running 500 iterations: 100%|██████████| 500/500 [00:33<00:00, 15.04it/s]\n",
      "Trial 3/10: Running 500 iterations: 100%|██████████| 500/500 [00:33<00:00, 15.03it/s]\n",
      "Trial 4/10: Running 500 iterations: 100%|██████████| 500/500 [00:33<00:00, 15.03it/s]\n",
      "Trial 5/10: Running 500 iterations: 100%|██████████| 500/500 [00:33<00:00, 15.11it/s]\n",
      "Trial 6/10: Running 500 iterations: 100%|██████████| 500/500 [00:33<00:00, 15.08it/s]\n",
      "Trial 7/10: Running 500 iterations: 100%|██████████| 500/500 [00:33<00:00, 15.14it/s]\n",
      "Trial 8/10: Running 500 iterations: 100%|██████████| 500/500 [00:33<00:00, 15.11it/s]\n",
      "Trial 9/10: Running 500 iterations: 100%|██████████| 500/500 [00:33<00:00, 15.06it/s]\n",
      "Trial 10/10: Running 500 iterations: 100%|██████████| 500/500 [00:33<00:00, 15.01it/s]\n",
      "Processing Models:  61%|██████▏   | 19/31 [2:34:14<1:34:00, 470.02s/it]"
     ]
    },
    {
     "name": "stdout",
     "output_type": "stream",
     "text": [
      "Processing model: d:\\PruneLimit\\PruneLimitAnalyzer\\models\\VGG11_CIFAR10_random_PD4_GPR-20_PRUNED_SEED_23.pth\n"
     ]
    },
    {
     "name": "stderr",
     "output_type": "stream",
     "text": [
      "Unsupported operator aten::max_pool2d encountered 5 time(s)\n",
      "Unsupported operator aten::add encountered 7 time(s)\n"
     ]
    },
    {
     "name": "stdout",
     "output_type": "stream",
     "text": [
      "Processing batch size: 1\n"
     ]
    },
    {
     "name": "stderr",
     "output_type": "stream",
     "text": [
      "Trial 1/10: Running 500 iterations: 100%|██████████| 500/500 [00:02<00:00, 227.90it/s]\n",
      "Trial 2/10: Running 500 iterations: 100%|██████████| 500/500 [00:02<00:00, 221.18it/s]\n",
      "Trial 3/10: Running 500 iterations: 100%|██████████| 500/500 [00:02<00:00, 231.39it/s]\n",
      "Trial 4/10: Running 500 iterations: 100%|██████████| 500/500 [00:02<00:00, 238.66it/s]\n",
      "Trial 5/10: Running 500 iterations: 100%|██████████| 500/500 [00:02<00:00, 240.75it/s]\n",
      "Trial 6/10: Running 500 iterations: 100%|██████████| 500/500 [00:02<00:00, 221.38it/s]\n",
      "Trial 7/10: Running 500 iterations: 100%|██████████| 500/500 [00:02<00:00, 217.30it/s]\n",
      "Trial 8/10: Running 500 iterations: 100%|██████████| 500/500 [00:02<00:00, 234.24it/s]\n",
      "Trial 9/10: Running 500 iterations: 100%|██████████| 500/500 [00:02<00:00, 229.62it/s]\n",
      "Trial 10/10: Running 500 iterations: 100%|██████████| 500/500 [00:02<00:00, 238.19it/s]\n",
      "Unsupported operator aten::max_pool2d encountered 5 time(s)\n",
      "Unsupported operator aten::add encountered 7 time(s)\n"
     ]
    },
    {
     "name": "stdout",
     "output_type": "stream",
     "text": [
      "Processing batch size: 8\n"
     ]
    },
    {
     "name": "stderr",
     "output_type": "stream",
     "text": [
      "Trial 1/10: Running 500 iterations: 100%|██████████| 500/500 [00:05<00:00, 99.52it/s]\n",
      "Trial 2/10: Running 500 iterations: 100%|██████████| 500/500 [00:05<00:00, 99.51it/s]\n",
      "Trial 3/10: Running 500 iterations: 100%|██████████| 500/500 [00:04<00:00, 100.02it/s]\n",
      "Trial 4/10: Running 500 iterations: 100%|██████████| 500/500 [00:05<00:00, 99.93it/s]\n",
      "Trial 5/10: Running 500 iterations: 100%|██████████| 500/500 [00:04<00:00, 100.06it/s]\n",
      "Trial 6/10: Running 500 iterations: 100%|██████████| 500/500 [00:04<00:00, 100.12it/s]\n",
      "Trial 7/10: Running 500 iterations: 100%|██████████| 500/500 [00:04<00:00, 100.01it/s]\n",
      "Trial 8/10: Running 500 iterations: 100%|██████████| 500/500 [00:04<00:00, 100.09it/s]\n",
      "Trial 9/10: Running 500 iterations: 100%|██████████| 500/500 [00:04<00:00, 100.09it/s]\n",
      "Trial 10/10: Running 500 iterations: 100%|██████████| 500/500 [00:04<00:00, 100.02it/s]\n",
      "Unsupported operator aten::max_pool2d encountered 5 time(s)\n",
      "Unsupported operator aten::add encountered 7 time(s)\n"
     ]
    },
    {
     "name": "stdout",
     "output_type": "stream",
     "text": [
      "Processing batch size: 16\n"
     ]
    },
    {
     "name": "stderr",
     "output_type": "stream",
     "text": [
      "Trial 1/10: Running 500 iterations: 100%|██████████| 500/500 [00:09<00:00, 50.54it/s]\n",
      "Trial 2/10: Running 500 iterations: 100%|██████████| 500/500 [00:09<00:00, 50.43it/s]\n",
      "Trial 3/10: Running 500 iterations: 100%|██████████| 500/500 [00:09<00:00, 50.22it/s]\n",
      "Trial 4/10: Running 500 iterations: 100%|██████████| 500/500 [00:09<00:00, 50.63it/s]\n",
      "Trial 5/10: Running 500 iterations: 100%|██████████| 500/500 [00:09<00:00, 50.53it/s]\n",
      "Trial 6/10: Running 500 iterations: 100%|██████████| 500/500 [00:09<00:00, 50.43it/s]\n",
      "Trial 7/10: Running 500 iterations: 100%|██████████| 500/500 [00:09<00:00, 50.51it/s]\n",
      "Trial 8/10: Running 500 iterations: 100%|██████████| 500/500 [00:09<00:00, 50.36it/s]\n",
      "Trial 9/10: Running 500 iterations: 100%|██████████| 500/500 [00:09<00:00, 50.49it/s]\n",
      "Trial 10/10: Running 500 iterations: 100%|██████████| 500/500 [00:09<00:00, 50.96it/s]\n",
      "Unsupported operator aten::max_pool2d encountered 5 time(s)\n",
      "Unsupported operator aten::add encountered 7 time(s)\n"
     ]
    },
    {
     "name": "stdout",
     "output_type": "stream",
     "text": [
      "Processing batch size: 32\n"
     ]
    },
    {
     "name": "stderr",
     "output_type": "stream",
     "text": [
      "Trial 1/10: Running 500 iterations: 100%|██████████| 500/500 [00:15<00:00, 33.25it/s]\n",
      "Trial 2/10: Running 500 iterations: 100%|██████████| 500/500 [00:15<00:00, 33.31it/s]\n",
      "Trial 3/10: Running 500 iterations: 100%|██████████| 500/500 [00:15<00:00, 33.33it/s]\n",
      "Trial 4/10: Running 500 iterations: 100%|██████████| 500/500 [00:15<00:00, 33.32it/s]\n",
      "Trial 5/10: Running 500 iterations: 100%|██████████| 500/500 [00:15<00:00, 33.31it/s]\n",
      "Trial 6/10: Running 500 iterations: 100%|██████████| 500/500 [00:15<00:00, 33.31it/s]\n",
      "Trial 7/10: Running 500 iterations: 100%|██████████| 500/500 [00:15<00:00, 33.33it/s]\n",
      "Trial 8/10: Running 500 iterations: 100%|██████████| 500/500 [00:15<00:00, 33.31it/s]\n",
      "Trial 9/10: Running 500 iterations: 100%|██████████| 500/500 [00:15<00:00, 33.31it/s]\n",
      "Trial 10/10: Running 500 iterations: 100%|██████████| 500/500 [00:14<00:00, 33.34it/s]\n",
      "Unsupported operator aten::max_pool2d encountered 5 time(s)\n",
      "Unsupported operator aten::add encountered 7 time(s)\n"
     ]
    },
    {
     "name": "stdout",
     "output_type": "stream",
     "text": [
      "Processing batch size: 64\n"
     ]
    },
    {
     "name": "stderr",
     "output_type": "stream",
     "text": [
      "Trial 1/10: Running 500 iterations: 100%|██████████| 500/500 [00:29<00:00, 16.67it/s]\n",
      "Trial 2/10: Running 500 iterations: 100%|██████████| 500/500 [00:29<00:00, 16.67it/s]\n",
      "Trial 3/10: Running 500 iterations: 100%|██████████| 500/500 [00:29<00:00, 16.68it/s]\n",
      "Trial 4/10: Running 500 iterations: 100%|██████████| 500/500 [00:29<00:00, 16.67it/s]\n",
      "Trial 5/10: Running 500 iterations: 100%|██████████| 500/500 [00:29<00:00, 16.68it/s]\n",
      "Trial 6/10: Running 500 iterations: 100%|██████████| 500/500 [00:29<00:00, 16.67it/s]\n",
      "Trial 7/10: Running 500 iterations: 100%|██████████| 500/500 [00:29<00:00, 16.68it/s]\n",
      "Trial 8/10: Running 500 iterations: 100%|██████████| 500/500 [00:29<00:00, 16.67it/s]\n",
      "Trial 9/10: Running 500 iterations: 100%|██████████| 500/500 [00:29<00:00, 16.67it/s]\n",
      "Trial 10/10: Running 500 iterations: 100%|██████████| 500/500 [00:29<00:00, 16.68it/s]\n",
      "Processing Models:  65%|██████▍   | 20/31 [2:44:35<1:34:30, 515.53s/it]"
     ]
    },
    {
     "name": "stdout",
     "output_type": "stream",
     "text": [
      "Processing model: d:\\PruneLimit\\PruneLimitAnalyzer\\models\\VGG11_CIFAR10_random_PD4_GPR-30_PRUNED_SEED_23.pth\n"
     ]
    },
    {
     "name": "stderr",
     "output_type": "stream",
     "text": [
      "Unsupported operator aten::max_pool2d encountered 5 time(s)\n",
      "Unsupported operator aten::add encountered 7 time(s)\n"
     ]
    },
    {
     "name": "stdout",
     "output_type": "stream",
     "text": [
      "Processing batch size: 1\n"
     ]
    },
    {
     "name": "stderr",
     "output_type": "stream",
     "text": [
      "Trial 1/10: Running 500 iterations: 100%|██████████| 500/500 [00:02<00:00, 213.71it/s]\n",
      "Trial 2/10: Running 500 iterations: 100%|██████████| 500/500 [00:02<00:00, 210.45it/s]\n",
      "Trial 3/10: Running 500 iterations: 100%|██████████| 500/500 [00:02<00:00, 228.90it/s]\n",
      "Trial 4/10: Running 500 iterations: 100%|██████████| 500/500 [00:02<00:00, 239.10it/s]\n",
      "Trial 5/10: Running 500 iterations: 100%|██████████| 500/500 [00:02<00:00, 237.98it/s]\n",
      "Trial 6/10: Running 500 iterations: 100%|██████████| 500/500 [00:02<00:00, 227.16it/s]\n",
      "Trial 7/10: Running 500 iterations: 100%|██████████| 500/500 [00:02<00:00, 233.02it/s]\n",
      "Trial 8/10: Running 500 iterations: 100%|██████████| 500/500 [00:02<00:00, 241.39it/s]\n",
      "Trial 9/10: Running 500 iterations: 100%|██████████| 500/500 [00:02<00:00, 240.78it/s]\n",
      "Trial 10/10: Running 500 iterations: 100%|██████████| 500/500 [00:02<00:00, 207.85it/s]\n",
      "Unsupported operator aten::max_pool2d encountered 5 time(s)\n",
      "Unsupported operator aten::add encountered 7 time(s)\n"
     ]
    },
    {
     "name": "stdout",
     "output_type": "stream",
     "text": [
      "Processing batch size: 8\n"
     ]
    },
    {
     "name": "stderr",
     "output_type": "stream",
     "text": [
      "Trial 1/10: Running 500 iterations: 100%|██████████| 500/500 [00:04<00:00, 100.08it/s]\n",
      "Trial 2/10: Running 500 iterations: 100%|██████████| 500/500 [00:04<00:00, 100.14it/s]\n",
      "Trial 3/10: Running 500 iterations: 100%|██████████| 500/500 [00:05<00:00, 99.82it/s]\n",
      "Trial 4/10: Running 500 iterations: 100%|██████████| 500/500 [00:04<00:00, 100.08it/s]\n",
      "Trial 5/10: Running 500 iterations: 100%|██████████| 500/500 [00:04<00:00, 100.07it/s]\n",
      "Trial 6/10: Running 500 iterations: 100%|██████████| 500/500 [00:04<00:00, 100.15it/s]\n",
      "Trial 7/10: Running 500 iterations: 100%|██████████| 500/500 [00:04<00:00, 100.04it/s]\n",
      "Trial 8/10: Running 500 iterations: 100%|██████████| 500/500 [00:04<00:00, 100.12it/s]\n",
      "Trial 9/10: Running 500 iterations: 100%|██████████| 500/500 [00:04<00:00, 100.12it/s]\n",
      "Trial 10/10: Running 500 iterations: 100%|██████████| 500/500 [00:04<00:00, 100.06it/s]\n",
      "Unsupported operator aten::max_pool2d encountered 5 time(s)\n",
      "Unsupported operator aten::add encountered 7 time(s)\n"
     ]
    },
    {
     "name": "stdout",
     "output_type": "stream",
     "text": [
      "Processing batch size: 16\n"
     ]
    },
    {
     "name": "stderr",
     "output_type": "stream",
     "text": [
      "Trial 1/10: Running 500 iterations: 100%|██████████| 500/500 [00:07<00:00, 64.10it/s]\n",
      "Trial 2/10: Running 500 iterations: 100%|██████████| 500/500 [00:07<00:00, 64.16it/s]\n",
      "Trial 3/10: Running 500 iterations: 100%|██████████| 500/500 [00:07<00:00, 64.61it/s]\n",
      "Trial 4/10: Running 500 iterations: 100%|██████████| 500/500 [00:07<00:00, 64.12it/s]\n",
      "Trial 5/10: Running 500 iterations: 100%|██████████| 500/500 [00:07<00:00, 63.57it/s]\n",
      "Trial 6/10: Running 500 iterations: 100%|██████████| 500/500 [00:07<00:00, 64.07it/s]\n",
      "Trial 7/10: Running 500 iterations: 100%|██████████| 500/500 [00:07<00:00, 64.03it/s]\n",
      "Trial 8/10: Running 500 iterations: 100%|██████████| 500/500 [00:07<00:00, 64.32it/s]\n",
      "Trial 9/10: Running 500 iterations: 100%|██████████| 500/500 [00:07<00:00, 64.96it/s]\n",
      "Trial 10/10: Running 500 iterations: 100%|██████████| 500/500 [00:07<00:00, 64.90it/s]\n",
      "Unsupported operator aten::max_pool2d encountered 5 time(s)\n",
      "Unsupported operator aten::add encountered 7 time(s)\n"
     ]
    },
    {
     "name": "stdout",
     "output_type": "stream",
     "text": [
      "Processing batch size: 32\n"
     ]
    },
    {
     "name": "stderr",
     "output_type": "stream",
     "text": [
      "Trial 1/10: Running 500 iterations: 100%|██████████| 500/500 [00:13<00:00, 37.24it/s]\n",
      "Trial 2/10: Running 500 iterations: 100%|██████████| 500/500 [00:13<00:00, 37.40it/s]\n",
      "Trial 3/10: Running 500 iterations: 100%|██████████| 500/500 [00:13<00:00, 37.43it/s]\n",
      "Trial 4/10: Running 500 iterations: 100%|██████████| 500/500 [00:13<00:00, 37.43it/s]\n",
      "Trial 5/10: Running 500 iterations: 100%|██████████| 500/500 [00:13<00:00, 37.43it/s]\n",
      "Trial 6/10: Running 500 iterations: 100%|██████████| 500/500 [00:13<00:00, 37.45it/s]\n",
      "Trial 7/10: Running 500 iterations: 100%|██████████| 500/500 [00:13<00:00, 37.44it/s]\n",
      "Trial 8/10: Running 500 iterations: 100%|██████████| 500/500 [00:13<00:00, 37.46it/s]\n",
      "Trial 9/10: Running 500 iterations: 100%|██████████| 500/500 [00:13<00:00, 37.48it/s]\n",
      "Trial 10/10: Running 500 iterations: 100%|██████████| 500/500 [00:13<00:00, 37.48it/s]\n",
      "Unsupported operator aten::max_pool2d encountered 5 time(s)\n",
      "Unsupported operator aten::add encountered 7 time(s)\n"
     ]
    },
    {
     "name": "stdout",
     "output_type": "stream",
     "text": [
      "Processing batch size: 64\n"
     ]
    },
    {
     "name": "stderr",
     "output_type": "stream",
     "text": [
      "Trial 1/10: Running 500 iterations: 100%|██████████| 500/500 [00:25<00:00, 19.98it/s]\n",
      "Trial 2/10: Running 500 iterations: 100%|██████████| 500/500 [00:24<00:00, 20.01it/s]\n",
      "Trial 3/10: Running 500 iterations: 100%|██████████| 500/500 [00:24<00:00, 20.01it/s]\n",
      "Trial 4/10: Running 500 iterations: 100%|██████████| 500/500 [00:24<00:00, 20.01it/s]\n",
      "Trial 5/10: Running 500 iterations: 100%|██████████| 500/500 [00:24<00:00, 20.01it/s]\n",
      "Trial 6/10: Running 500 iterations: 100%|██████████| 500/500 [00:24<00:00, 20.02it/s]\n",
      "Trial 7/10: Running 500 iterations: 100%|██████████| 500/500 [00:24<00:00, 20.00it/s]\n",
      "Trial 8/10: Running 500 iterations: 100%|██████████| 500/500 [00:24<00:00, 20.01it/s]\n",
      "Trial 9/10: Running 500 iterations: 100%|██████████| 500/500 [00:24<00:00, 20.01it/s]\n",
      "Trial 10/10: Running 500 iterations: 100%|██████████| 500/500 [00:24<00:00, 20.00it/s]\n",
      "Processing Models:  68%|██████▊   | 21/31 [2:53:29<1:26:51, 521.12s/it]"
     ]
    },
    {
     "name": "stdout",
     "output_type": "stream",
     "text": [
      "Processing model: d:\\PruneLimit\\PruneLimitAnalyzer\\models\\VGG11_CIFAR10_random_PD4_GPR-40_PRUNED_SEED_23.pth\n",
      "Processing batch size: 1\n"
     ]
    },
    {
     "name": "stderr",
     "output_type": "stream",
     "text": [
      "Unsupported operator aten::max_pool2d encountered 5 time(s)\n",
      "Unsupported operator aten::add encountered 7 time(s)\n",
      "Trial 1/10: Running 500 iterations: 100%|██████████| 500/500 [00:02<00:00, 240.08it/s]\n",
      "Trial 2/10: Running 500 iterations: 100%|██████████| 500/500 [00:02<00:00, 233.60it/s]\n",
      "Trial 3/10: Running 500 iterations: 100%|██████████| 500/500 [00:02<00:00, 210.47it/s]\n",
      "Trial 4/10: Running 500 iterations: 100%|██████████| 500/500 [00:02<00:00, 210.80it/s]\n",
      "Trial 5/10: Running 500 iterations: 100%|██████████| 500/500 [00:02<00:00, 233.16it/s]\n",
      "Trial 6/10: Running 500 iterations: 100%|██████████| 500/500 [00:02<00:00, 221.71it/s]\n",
      "Trial 7/10: Running 500 iterations: 100%|██████████| 500/500 [00:02<00:00, 227.16it/s]\n",
      "Trial 8/10: Running 500 iterations: 100%|██████████| 500/500 [00:02<00:00, 224.49it/s]\n",
      "Trial 9/10: Running 500 iterations: 100%|██████████| 500/500 [00:02<00:00, 218.25it/s]\n",
      "Trial 10/10: Running 500 iterations: 100%|██████████| 500/500 [00:02<00:00, 221.20it/s]\n",
      "Unsupported operator aten::max_pool2d encountered 5 time(s)\n",
      "Unsupported operator aten::add encountered 7 time(s)\n"
     ]
    },
    {
     "name": "stdout",
     "output_type": "stream",
     "text": [
      "Processing batch size: 8\n"
     ]
    },
    {
     "name": "stderr",
     "output_type": "stream",
     "text": [
      "Trial 1/10: Running 500 iterations: 100%|██████████| 500/500 [00:04<00:00, 101.60it/s]\n",
      "Trial 2/10: Running 500 iterations: 100%|██████████| 500/500 [00:04<00:00, 103.00it/s]\n",
      "Trial 3/10: Running 500 iterations: 100%|██████████| 500/500 [00:04<00:00, 102.24it/s]\n",
      "Trial 4/10: Running 500 iterations: 100%|██████████| 500/500 [00:04<00:00, 102.49it/s]\n",
      "Trial 5/10: Running 500 iterations: 100%|██████████| 500/500 [00:04<00:00, 103.11it/s]\n",
      "Trial 6/10: Running 500 iterations: 100%|██████████| 500/500 [00:04<00:00, 102.93it/s]\n",
      "Trial 7/10: Running 500 iterations: 100%|██████████| 500/500 [00:04<00:00, 102.49it/s]\n",
      "Trial 8/10: Running 500 iterations: 100%|██████████| 500/500 [00:04<00:00, 102.87it/s]\n",
      "Trial 9/10: Running 500 iterations: 100%|██████████| 500/500 [00:04<00:00, 101.63it/s]\n",
      "Trial 10/10: Running 500 iterations: 100%|██████████| 500/500 [00:04<00:00, 102.64it/s]\n",
      "Unsupported operator aten::max_pool2d encountered 5 time(s)\n",
      "Unsupported operator aten::add encountered 7 time(s)\n"
     ]
    },
    {
     "name": "stdout",
     "output_type": "stream",
     "text": [
      "Processing batch size: 16\n"
     ]
    },
    {
     "name": "stderr",
     "output_type": "stream",
     "text": [
      "Trial 1/10: Running 500 iterations: 100%|██████████| 500/500 [00:06<00:00, 71.84it/s]\n",
      "Trial 2/10: Running 500 iterations: 100%|██████████| 500/500 [00:06<00:00, 71.53it/s]\n",
      "Trial 3/10: Running 500 iterations: 100%|██████████| 500/500 [00:06<00:00, 71.69it/s]\n",
      "Trial 4/10: Running 500 iterations: 100%|██████████| 500/500 [00:07<00:00, 70.93it/s]\n",
      "Trial 5/10: Running 500 iterations: 100%|██████████| 500/500 [00:07<00:00, 71.20it/s]\n",
      "Trial 6/10: Running 500 iterations: 100%|██████████| 500/500 [00:06<00:00, 71.46it/s]\n",
      "Trial 7/10: Running 500 iterations: 100%|██████████| 500/500 [00:06<00:00, 72.12it/s]\n",
      "Trial 8/10: Running 500 iterations: 100%|██████████| 500/500 [00:06<00:00, 71.95it/s]\n",
      "Trial 9/10: Running 500 iterations: 100%|██████████| 500/500 [00:06<00:00, 72.29it/s]\n",
      "Trial 10/10: Running 500 iterations: 100%|██████████| 500/500 [00:06<00:00, 72.88it/s]\n",
      "Unsupported operator aten::max_pool2d encountered 5 time(s)\n",
      "Unsupported operator aten::add encountered 7 time(s)\n"
     ]
    },
    {
     "name": "stdout",
     "output_type": "stream",
     "text": [
      "Processing batch size: 32\n"
     ]
    },
    {
     "name": "stderr",
     "output_type": "stream",
     "text": [
      "Trial 1/10: Running 500 iterations: 100%|██████████| 500/500 [00:12<00:00, 40.68it/s]\n",
      "Trial 2/10: Running 500 iterations: 100%|██████████| 500/500 [00:12<00:00, 40.71it/s]\n",
      "Trial 3/10: Running 500 iterations: 100%|██████████| 500/500 [00:12<00:00, 40.68it/s]\n",
      "Trial 4/10: Running 500 iterations: 100%|██████████| 500/500 [00:12<00:00, 40.68it/s]\n",
      "Trial 5/10: Running 500 iterations: 100%|██████████| 500/500 [00:12<00:00, 40.74it/s]\n",
      "Trial 6/10: Running 500 iterations: 100%|██████████| 500/500 [00:12<00:00, 40.70it/s]\n",
      "Trial 7/10: Running 500 iterations: 100%|██████████| 500/500 [00:12<00:00, 40.73it/s]\n",
      "Trial 8/10: Running 500 iterations: 100%|██████████| 500/500 [00:12<00:00, 40.74it/s]\n",
      "Trial 9/10: Running 500 iterations: 100%|██████████| 500/500 [00:12<00:00, 40.76it/s]\n",
      "Trial 10/10: Running 500 iterations: 100%|██████████| 500/500 [00:12<00:00, 40.86it/s]\n",
      "Unsupported operator aten::max_pool2d encountered 5 time(s)\n",
      "Unsupported operator aten::add encountered 7 time(s)\n"
     ]
    },
    {
     "name": "stdout",
     "output_type": "stream",
     "text": [
      "Processing batch size: 64\n"
     ]
    },
    {
     "name": "stderr",
     "output_type": "stream",
     "text": [
      "Trial 1/10: Running 500 iterations: 100%|██████████| 500/500 [00:23<00:00, 20.93it/s]\n",
      "Trial 2/10: Running 500 iterations: 100%|██████████| 500/500 [00:22<00:00, 22.08it/s]\n",
      "Trial 3/10: Running 500 iterations: 100%|██████████| 500/500 [00:22<00:00, 22.05it/s]\n",
      "Trial 4/10: Running 500 iterations: 100%|██████████| 500/500 [00:22<00:00, 22.06it/s]\n",
      "Trial 5/10: Running 500 iterations: 100%|██████████| 500/500 [00:22<00:00, 22.04it/s]\n",
      "Trial 6/10: Running 500 iterations: 100%|██████████| 500/500 [00:22<00:00, 22.06it/s]\n",
      "Trial 7/10: Running 500 iterations: 100%|██████████| 500/500 [00:22<00:00, 22.07it/s]\n",
      "Trial 8/10: Running 500 iterations: 100%|██████████| 500/500 [00:22<00:00, 22.07it/s]\n",
      "Trial 9/10: Running 500 iterations: 100%|██████████| 500/500 [00:22<00:00, 22.08it/s]\n",
      "Trial 10/10: Running 500 iterations: 100%|██████████| 500/500 [00:22<00:00, 22.07it/s]\n",
      "Processing Models:  71%|███████   | 22/31 [3:01:41<1:16:51, 512.38s/it]"
     ]
    },
    {
     "name": "stdout",
     "output_type": "stream",
     "text": [
      "Processing model: d:\\PruneLimit\\PruneLimitAnalyzer\\models\\VGG11_CIFAR10_random_PD4_GPR-50_PRUNED_SEED_23.pth\n"
     ]
    },
    {
     "name": "stderr",
     "output_type": "stream",
     "text": [
      "Unsupported operator aten::max_pool2d encountered 5 time(s)\n",
      "Unsupported operator aten::add encountered 7 time(s)\n"
     ]
    },
    {
     "name": "stdout",
     "output_type": "stream",
     "text": [
      "Processing batch size: 1\n"
     ]
    },
    {
     "name": "stderr",
     "output_type": "stream",
     "text": [
      "Trial 1/10: Running 500 iterations: 100%|██████████| 500/500 [00:02<00:00, 234.02it/s]\n",
      "Trial 2/10: Running 500 iterations: 100%|██████████| 500/500 [00:02<00:00, 212.58it/s]\n",
      "Trial 3/10: Running 500 iterations: 100%|██████████| 500/500 [00:02<00:00, 230.67it/s]\n",
      "Trial 4/10: Running 500 iterations: 100%|██████████| 500/500 [00:02<00:00, 241.37it/s]\n",
      "Trial 5/10: Running 500 iterations: 100%|██████████| 500/500 [00:02<00:00, 216.06it/s]\n",
      "Trial 6/10: Running 500 iterations: 100%|██████████| 500/500 [00:02<00:00, 191.21it/s]\n",
      "Trial 7/10: Running 500 iterations: 100%|██████████| 500/500 [00:02<00:00, 188.45it/s]\n",
      "Trial 8/10: Running 500 iterations: 100%|██████████| 500/500 [00:02<00:00, 192.29it/s]\n",
      "Trial 9/10: Running 500 iterations: 100%|██████████| 500/500 [00:02<00:00, 195.25it/s]\n",
      "Trial 10/10: Running 500 iterations: 100%|██████████| 500/500 [00:02<00:00, 207.74it/s]\n",
      "Unsupported operator aten::max_pool2d encountered 5 time(s)\n",
      "Unsupported operator aten::add encountered 7 time(s)\n"
     ]
    },
    {
     "name": "stdout",
     "output_type": "stream",
     "text": [
      "Processing batch size: 8\n"
     ]
    },
    {
     "name": "stderr",
     "output_type": "stream",
     "text": [
      "Trial 1/10: Running 500 iterations: 100%|██████████| 500/500 [00:03<00:00, 144.85it/s]\n",
      "Trial 2/10: Running 500 iterations: 100%|██████████| 500/500 [00:03<00:00, 149.19it/s]\n",
      "Trial 3/10: Running 500 iterations: 100%|██████████| 500/500 [00:03<00:00, 149.52it/s]\n",
      "Trial 4/10: Running 500 iterations: 100%|██████████| 500/500 [00:03<00:00, 149.45it/s]\n",
      "Trial 5/10: Running 500 iterations: 100%|██████████| 500/500 [00:03<00:00, 147.96it/s]\n",
      "Trial 6/10: Running 500 iterations: 100%|██████████| 500/500 [00:03<00:00, 150.04it/s]\n",
      "Trial 7/10: Running 500 iterations: 100%|██████████| 500/500 [00:03<00:00, 149.44it/s]\n",
      "Trial 8/10: Running 500 iterations: 100%|██████████| 500/500 [00:03<00:00, 149.00it/s]\n",
      "Trial 9/10: Running 500 iterations: 100%|██████████| 500/500 [00:03<00:00, 147.59it/s]\n",
      "Trial 10/10: Running 500 iterations: 100%|██████████| 500/500 [00:03<00:00, 146.15it/s]\n",
      "Unsupported operator aten::max_pool2d encountered 5 time(s)\n",
      "Unsupported operator aten::add encountered 7 time(s)\n"
     ]
    },
    {
     "name": "stdout",
     "output_type": "stream",
     "text": [
      "Processing batch size: 16\n"
     ]
    },
    {
     "name": "stderr",
     "output_type": "stream",
     "text": [
      "Trial 1/10: Running 500 iterations: 100%|██████████| 500/500 [00:05<00:00, 90.25it/s]\n",
      "Trial 2/10: Running 500 iterations: 100%|██████████| 500/500 [00:05<00:00, 91.01it/s]\n",
      "Trial 3/10: Running 500 iterations: 100%|██████████| 500/500 [00:05<00:00, 90.74it/s]\n",
      "Trial 4/10: Running 500 iterations: 100%|██████████| 500/500 [00:05<00:00, 91.16it/s]\n",
      "Trial 5/10: Running 500 iterations: 100%|██████████| 500/500 [00:05<00:00, 90.96it/s]\n",
      "Trial 6/10: Running 500 iterations: 100%|██████████| 500/500 [00:05<00:00, 90.50it/s]\n",
      "Trial 7/10: Running 500 iterations: 100%|██████████| 500/500 [00:05<00:00, 90.89it/s]\n",
      "Trial 8/10: Running 500 iterations: 100%|██████████| 500/500 [00:05<00:00, 90.81it/s]\n",
      "Trial 9/10: Running 500 iterations: 100%|██████████| 500/500 [00:05<00:00, 91.01it/s]\n",
      "Trial 10/10: Running 500 iterations: 100%|██████████| 500/500 [00:05<00:00, 90.95it/s]\n",
      "Unsupported operator aten::max_pool2d encountered 5 time(s)\n",
      "Unsupported operator aten::add encountered 7 time(s)\n"
     ]
    },
    {
     "name": "stdout",
     "output_type": "stream",
     "text": [
      "Processing batch size: 32\n"
     ]
    },
    {
     "name": "stderr",
     "output_type": "stream",
     "text": [
      "Trial 1/10: Running 500 iterations: 100%|██████████| 500/500 [00:09<00:00, 50.09it/s]\n",
      "Trial 2/10: Running 500 iterations: 100%|██████████| 500/500 [00:09<00:00, 50.03it/s]\n",
      "Trial 3/10: Running 500 iterations: 100%|██████████| 500/500 [00:09<00:00, 50.04it/s]\n",
      "Trial 4/10: Running 500 iterations: 100%|██████████| 500/500 [00:09<00:00, 50.03it/s]\n",
      "Trial 5/10: Running 500 iterations: 100%|██████████| 500/500 [00:09<00:00, 50.03it/s]\n",
      "Trial 6/10: Running 500 iterations: 100%|██████████| 500/500 [00:09<00:00, 50.03it/s]\n",
      "Trial 7/10: Running 500 iterations: 100%|██████████| 500/500 [00:09<00:00, 50.02it/s]\n",
      "Trial 8/10: Running 500 iterations: 100%|██████████| 500/500 [00:09<00:00, 50.04it/s]\n",
      "Trial 9/10: Running 500 iterations: 100%|██████████| 500/500 [00:09<00:00, 50.03it/s]\n",
      "Trial 10/10: Running 500 iterations: 100%|██████████| 500/500 [00:09<00:00, 50.00it/s]\n",
      "Unsupported operator aten::max_pool2d encountered 5 time(s)\n",
      "Unsupported operator aten::add encountered 7 time(s)\n"
     ]
    },
    {
     "name": "stdout",
     "output_type": "stream",
     "text": [
      "Processing batch size: 64\n"
     ]
    },
    {
     "name": "stderr",
     "output_type": "stream",
     "text": [
      "Trial 1/10: Running 500 iterations: 100%|██████████| 500/500 [00:17<00:00, 27.94it/s]\n",
      "Trial 2/10: Running 500 iterations: 100%|██████████| 500/500 [00:17<00:00, 28.09it/s]\n",
      "Trial 3/10: Running 500 iterations: 100%|██████████| 500/500 [00:17<00:00, 28.05it/s]\n",
      "Trial 4/10: Running 500 iterations: 100%|██████████| 500/500 [00:17<00:00, 28.14it/s]\n",
      "Trial 5/10: Running 500 iterations: 100%|██████████| 500/500 [00:17<00:00, 28.11it/s]\n",
      "Trial 6/10: Running 500 iterations: 100%|██████████| 500/500 [00:17<00:00, 28.09it/s]\n",
      "Trial 7/10: Running 500 iterations: 100%|██████████| 500/500 [00:17<00:00, 28.16it/s]\n",
      "Trial 8/10: Running 500 iterations: 100%|██████████| 500/500 [00:17<00:00, 27.97it/s]\n",
      "Trial 9/10: Running 500 iterations: 100%|██████████| 500/500 [00:17<00:00, 28.05it/s]\n",
      "Trial 10/10: Running 500 iterations: 100%|██████████| 500/500 [00:17<00:00, 28.03it/s]\n",
      "Processing Models:  74%|███████▍  | 23/31 [3:08:13<1:03:28, 476.10s/it]"
     ]
    },
    {
     "name": "stdout",
     "output_type": "stream",
     "text": [
      "Processing model: d:\\PruneLimit\\PruneLimitAnalyzer\\models\\VGG11_CIFAR10_random_PD4_GPR-60_PRUNED_SEED_23.pth\n"
     ]
    },
    {
     "name": "stderr",
     "output_type": "stream",
     "text": [
      "Unsupported operator aten::max_pool2d encountered 5 time(s)\n",
      "Unsupported operator aten::add encountered 7 time(s)\n"
     ]
    },
    {
     "name": "stdout",
     "output_type": "stream",
     "text": [
      "Processing batch size: 1\n"
     ]
    },
    {
     "name": "stderr",
     "output_type": "stream",
     "text": [
      "Trial 1/10: Running 500 iterations: 100%|██████████| 500/500 [00:02<00:00, 232.43it/s]\n",
      "Trial 2/10: Running 500 iterations: 100%|██████████| 500/500 [00:02<00:00, 194.56it/s]\n",
      "Trial 3/10: Running 500 iterations: 100%|██████████| 500/500 [00:02<00:00, 193.54it/s]\n",
      "Trial 4/10: Running 500 iterations: 100%|██████████| 500/500 [00:02<00:00, 197.50it/s]\n",
      "Trial 5/10: Running 500 iterations: 100%|██████████| 500/500 [00:02<00:00, 190.71it/s]\n",
      "Trial 6/10: Running 500 iterations: 100%|██████████| 500/500 [00:02<00:00, 184.55it/s]\n",
      "Trial 7/10: Running 500 iterations: 100%|██████████| 500/500 [00:02<00:00, 195.60it/s]\n",
      "Trial 8/10: Running 500 iterations: 100%|██████████| 500/500 [00:02<00:00, 193.63it/s]\n",
      "Trial 9/10: Running 500 iterations: 100%|██████████| 500/500 [00:02<00:00, 200.90it/s]\n",
      "Trial 10/10: Running 500 iterations: 100%|██████████| 500/500 [00:02<00:00, 200.31it/s]\n",
      "Unsupported operator aten::max_pool2d encountered 5 time(s)\n",
      "Unsupported operator aten::add encountered 7 time(s)\n"
     ]
    },
    {
     "name": "stdout",
     "output_type": "stream",
     "text": [
      "Processing batch size: 8\n"
     ]
    },
    {
     "name": "stderr",
     "output_type": "stream",
     "text": [
      "Trial 1/10: Running 500 iterations: 100%|██████████| 500/500 [00:03<00:00, 142.94it/s]\n",
      "Trial 2/10: Running 500 iterations: 100%|██████████| 500/500 [00:03<00:00, 150.08it/s]\n",
      "Trial 3/10: Running 500 iterations: 100%|██████████| 500/500 [00:03<00:00, 149.92it/s]\n",
      "Trial 4/10: Running 500 iterations: 100%|██████████| 500/500 [00:03<00:00, 150.11it/s]\n",
      "Trial 5/10: Running 500 iterations: 100%|██████████| 500/500 [00:03<00:00, 150.20it/s]\n",
      "Trial 6/10: Running 500 iterations: 100%|██████████| 500/500 [00:03<00:00, 149.20it/s]\n",
      "Trial 7/10: Running 500 iterations: 100%|██████████| 500/500 [00:03<00:00, 150.14it/s]\n",
      "Trial 8/10: Running 500 iterations: 100%|██████████| 500/500 [00:03<00:00, 150.42it/s]\n",
      "Trial 9/10: Running 500 iterations: 100%|██████████| 500/500 [00:03<00:00, 150.31it/s]\n",
      "Trial 10/10: Running 500 iterations: 100%|██████████| 500/500 [00:03<00:00, 150.10it/s]\n",
      "Unsupported operator aten::max_pool2d encountered 5 time(s)\n",
      "Unsupported operator aten::add encountered 7 time(s)\n"
     ]
    },
    {
     "name": "stdout",
     "output_type": "stream",
     "text": [
      "Processing batch size: 16\n"
     ]
    },
    {
     "name": "stderr",
     "output_type": "stream",
     "text": [
      "Trial 1/10: Running 500 iterations: 100%|██████████| 500/500 [00:04<00:00, 100.01it/s]\n",
      "Trial 2/10: Running 500 iterations: 100%|██████████| 500/500 [00:04<00:00, 100.24it/s]\n",
      "Trial 3/10: Running 500 iterations: 100%|██████████| 500/500 [00:04<00:00, 100.25it/s]\n",
      "Trial 4/10: Running 500 iterations: 100%|██████████| 500/500 [00:05<00:00, 99.86it/s] \n",
      "Trial 5/10: Running 500 iterations: 100%|██████████| 500/500 [00:05<00:00, 99.92it/s]\n",
      "Trial 6/10: Running 500 iterations: 100%|██████████| 500/500 [00:05<00:00, 99.98it/s]\n",
      "Trial 7/10: Running 500 iterations: 100%|██████████| 500/500 [00:04<00:00, 100.02it/s]\n",
      "Trial 8/10: Running 500 iterations: 100%|██████████| 500/500 [00:04<00:00, 100.18it/s]\n",
      "Trial 9/10: Running 500 iterations: 100%|██████████| 500/500 [00:05<00:00, 99.99it/s]\n",
      "Trial 10/10: Running 500 iterations: 100%|██████████| 500/500 [00:04<00:00, 100.01it/s]\n",
      "Unsupported operator aten::max_pool2d encountered 5 time(s)\n",
      "Unsupported operator aten::add encountered 7 time(s)\n"
     ]
    },
    {
     "name": "stdout",
     "output_type": "stream",
     "text": [
      "Processing batch size: 32\n"
     ]
    },
    {
     "name": "stderr",
     "output_type": "stream",
     "text": [
      "Trial 1/10: Running 500 iterations: 100%|██████████| 500/500 [00:09<00:00, 50.06it/s]\n",
      "Trial 2/10: Running 500 iterations: 100%|██████████| 500/500 [00:09<00:00, 50.18it/s]\n",
      "Trial 3/10: Running 500 iterations: 100%|██████████| 500/500 [00:09<00:00, 50.15it/s]\n",
      "Trial 4/10: Running 500 iterations: 100%|██████████| 500/500 [00:09<00:00, 50.65it/s]\n",
      "Trial 5/10: Running 500 iterations: 100%|██████████| 500/500 [00:09<00:00, 50.64it/s]\n",
      "Trial 6/10: Running 500 iterations: 100%|██████████| 500/500 [00:09<00:00, 50.84it/s]\n",
      "Trial 7/10: Running 500 iterations: 100%|██████████| 500/500 [00:09<00:00, 50.52it/s]\n",
      "Trial 8/10: Running 500 iterations: 100%|██████████| 500/500 [00:09<00:00, 50.21it/s]\n",
      "Trial 9/10: Running 500 iterations: 100%|██████████| 500/500 [00:09<00:00, 50.97it/s]\n",
      "Trial 10/10: Running 500 iterations: 100%|██████████| 500/500 [00:09<00:00, 50.96it/s]\n",
      "Unsupported operator aten::max_pool2d encountered 5 time(s)\n",
      "Unsupported operator aten::add encountered 7 time(s)\n"
     ]
    },
    {
     "name": "stdout",
     "output_type": "stream",
     "text": [
      "Processing batch size: 64\n"
     ]
    },
    {
     "name": "stderr",
     "output_type": "stream",
     "text": [
      "Trial 1/10: Running 500 iterations: 100%|██████████| 500/500 [00:15<00:00, 32.52it/s]\n",
      "Trial 2/10: Running 500 iterations: 100%|██████████| 500/500 [00:15<00:00, 32.49it/s]\n",
      "Trial 3/10: Running 500 iterations: 100%|██████████| 500/500 [00:15<00:00, 32.57it/s]\n",
      "Trial 4/10: Running 500 iterations: 100%|██████████| 500/500 [00:15<00:00, 32.59it/s]\n",
      "Trial 5/10: Running 500 iterations: 100%|██████████| 500/500 [00:15<00:00, 32.65it/s]\n",
      "Trial 6/10: Running 500 iterations: 100%|██████████| 500/500 [00:15<00:00, 32.57it/s]\n",
      "Trial 7/10: Running 500 iterations: 100%|██████████| 500/500 [00:15<00:00, 32.60it/s]\n",
      "Trial 8/10: Running 500 iterations: 100%|██████████| 500/500 [00:15<00:00, 32.63it/s]\n",
      "Trial 9/10: Running 500 iterations: 100%|██████████| 500/500 [00:15<00:00, 32.64it/s]\n",
      "Trial 10/10: Running 500 iterations: 100%|██████████| 500/500 [00:15<00:00, 32.55it/s]\n",
      "Processing Models:  77%|███████▋  | 24/31 [3:14:15<51:32, 441.83s/it]  "
     ]
    },
    {
     "name": "stdout",
     "output_type": "stream",
     "text": [
      "Processing model: d:\\PruneLimit\\PruneLimitAnalyzer\\models\\VGG11_CIFAR10_random_PD5_GPR-10_PRUNED_SEED_23.pth\n"
     ]
    },
    {
     "name": "stderr",
     "output_type": "stream",
     "text": [
      "Unsupported operator aten::max_pool2d encountered 5 time(s)\n",
      "Unsupported operator aten::add encountered 7 time(s)\n"
     ]
    },
    {
     "name": "stdout",
     "output_type": "stream",
     "text": [
      "Processing batch size: 1\n"
     ]
    },
    {
     "name": "stderr",
     "output_type": "stream",
     "text": [
      "Trial 1/10: Running 500 iterations: 100%|██████████| 500/500 [00:02<00:00, 223.68it/s]\n",
      "Trial 2/10: Running 500 iterations: 100%|██████████| 500/500 [00:02<00:00, 219.51it/s]\n",
      "Trial 3/10: Running 500 iterations: 100%|██████████| 500/500 [00:02<00:00, 224.82it/s]\n",
      "Trial 4/10: Running 500 iterations: 100%|██████████| 500/500 [00:02<00:00, 239.12it/s]\n",
      "Trial 5/10: Running 500 iterations: 100%|██████████| 500/500 [00:02<00:00, 237.68it/s]\n",
      "Trial 6/10: Running 500 iterations: 100%|██████████| 500/500 [00:02<00:00, 235.61it/s]\n",
      "Trial 7/10: Running 500 iterations: 100%|██████████| 500/500 [00:02<00:00, 228.83it/s]\n",
      "Trial 8/10: Running 500 iterations: 100%|██████████| 500/500 [00:02<00:00, 233.24it/s]\n",
      "Trial 9/10: Running 500 iterations: 100%|██████████| 500/500 [00:02<00:00, 238.10it/s]\n",
      "Trial 10/10: Running 500 iterations: 100%|██████████| 500/500 [00:02<00:00, 230.47it/s]\n",
      "Unsupported operator aten::max_pool2d encountered 5 time(s)\n",
      "Unsupported operator aten::add encountered 7 time(s)\n"
     ]
    },
    {
     "name": "stdout",
     "output_type": "stream",
     "text": [
      "Processing batch size: 8\n"
     ]
    },
    {
     "name": "stderr",
     "output_type": "stream",
     "text": [
      "Trial 1/10: Running 500 iterations: 100%|██████████| 500/500 [00:05<00:00, 90.80it/s]\n",
      "Trial 2/10: Running 500 iterations: 100%|██████████| 500/500 [00:05<00:00, 91.68it/s]\n",
      "Trial 3/10: Running 500 iterations: 100%|██████████| 500/500 [00:05<00:00, 91.92it/s]\n",
      "Trial 4/10: Running 500 iterations: 100%|██████████| 500/500 [00:05<00:00, 91.54it/s]\n",
      "Trial 5/10: Running 500 iterations: 100%|██████████| 500/500 [00:05<00:00, 91.39it/s]\n",
      "Trial 6/10: Running 500 iterations: 100%|██████████| 500/500 [00:05<00:00, 91.13it/s]\n",
      "Trial 7/10: Running 500 iterations: 100%|██████████| 500/500 [00:05<00:00, 90.95it/s]\n",
      "Trial 8/10: Running 500 iterations: 100%|██████████| 500/500 [00:05<00:00, 90.68it/s]\n",
      "Trial 9/10: Running 500 iterations: 100%|██████████| 500/500 [00:05<00:00, 90.98it/s]\n",
      "Trial 10/10: Running 500 iterations: 100%|██████████| 500/500 [00:05<00:00, 91.53it/s]\n",
      "Unsupported operator aten::max_pool2d encountered 5 time(s)\n",
      "Unsupported operator aten::add encountered 7 time(s)\n"
     ]
    },
    {
     "name": "stdout",
     "output_type": "stream",
     "text": [
      "Processing batch size: 16\n"
     ]
    },
    {
     "name": "stderr",
     "output_type": "stream",
     "text": [
      "Trial 1/10: Running 500 iterations: 100%|██████████| 500/500 [00:09<00:00, 50.11it/s]\n",
      "Trial 2/10: Running 500 iterations: 100%|██████████| 500/500 [00:10<00:00, 49.98it/s]\n",
      "Trial 3/10: Running 500 iterations: 100%|██████████| 500/500 [00:09<00:00, 50.03it/s]\n",
      "Trial 4/10: Running 500 iterations: 100%|██████████| 500/500 [00:09<00:00, 50.01it/s]\n",
      "Trial 5/10: Running 500 iterations: 100%|██████████| 500/500 [00:09<00:00, 50.03it/s]\n",
      "Trial 6/10: Running 500 iterations: 100%|██████████| 500/500 [00:09<00:00, 50.02it/s]\n",
      "Trial 7/10: Running 500 iterations: 100%|██████████| 500/500 [00:09<00:00, 50.05it/s]\n",
      "Trial 8/10: Running 500 iterations: 100%|██████████| 500/500 [00:09<00:00, 50.03it/s]\n",
      "Trial 9/10: Running 500 iterations: 100%|██████████| 500/500 [00:09<00:00, 50.03it/s]\n",
      "Trial 10/10: Running 500 iterations: 100%|██████████| 500/500 [00:09<00:00, 50.03it/s]\n",
      "Unsupported operator aten::max_pool2d encountered 5 time(s)\n",
      "Unsupported operator aten::add encountered 7 time(s)\n"
     ]
    },
    {
     "name": "stdout",
     "output_type": "stream",
     "text": [
      "Processing batch size: 32\n"
     ]
    },
    {
     "name": "stderr",
     "output_type": "stream",
     "text": [
      "Trial 1/10: Running 500 iterations: 100%|██████████| 500/500 [00:16<00:00, 30.57it/s]\n",
      "Trial 2/10: Running 500 iterations: 100%|██████████| 500/500 [00:16<00:00, 30.65it/s]\n",
      "Trial 3/10: Running 500 iterations: 100%|██████████| 500/500 [00:16<00:00, 30.66it/s]\n",
      "Trial 4/10: Running 500 iterations: 100%|██████████| 500/500 [00:16<00:00, 30.61it/s]\n",
      "Trial 5/10: Running 500 iterations: 100%|██████████| 500/500 [00:16<00:00, 30.72it/s]\n",
      "Trial 6/10: Running 500 iterations: 100%|██████████| 500/500 [00:16<00:00, 30.72it/s]\n",
      "Trial 7/10: Running 500 iterations: 100%|██████████| 500/500 [00:16<00:00, 30.66it/s]\n",
      "Trial 8/10: Running 500 iterations: 100%|██████████| 500/500 [00:16<00:00, 30.69it/s]\n",
      "Trial 9/10: Running 500 iterations: 100%|██████████| 500/500 [00:16<00:00, 30.70it/s]\n",
      "Trial 10/10: Running 500 iterations: 100%|██████████| 500/500 [00:16<00:00, 30.71it/s]\n",
      "Unsupported operator aten::max_pool2d encountered 5 time(s)\n",
      "Unsupported operator aten::add encountered 7 time(s)\n"
     ]
    },
    {
     "name": "stdout",
     "output_type": "stream",
     "text": [
      "Processing batch size: 64\n"
     ]
    },
    {
     "name": "stderr",
     "output_type": "stream",
     "text": [
      "Trial 1/10: Running 500 iterations: 100%|██████████| 500/500 [00:30<00:00, 16.38it/s]\n",
      "Trial 2/10: Running 500 iterations: 100%|██████████| 500/500 [00:30<00:00, 16.38it/s]\n",
      "Trial 3/10: Running 500 iterations: 100%|██████████| 500/500 [00:30<00:00, 16.37it/s]\n",
      "Trial 4/10: Running 500 iterations: 100%|██████████| 500/500 [00:30<00:00, 16.36it/s]\n",
      "Trial 5/10: Running 500 iterations: 100%|██████████| 500/500 [00:30<00:00, 16.39it/s]\n",
      "Trial 6/10: Running 500 iterations: 100%|██████████| 500/500 [00:30<00:00, 16.39it/s]\n",
      "Trial 7/10: Running 500 iterations: 100%|██████████| 500/500 [00:30<00:00, 16.38it/s]\n",
      "Trial 8/10: Running 500 iterations: 100%|██████████| 500/500 [00:30<00:00, 16.38it/s]\n",
      "Trial 9/10: Running 500 iterations: 100%|██████████| 500/500 [00:30<00:00, 16.41it/s]\n",
      "Trial 10/10: Running 500 iterations: 100%|██████████| 500/500 [00:30<00:00, 16.39it/s]\n",
      "Processing Models:  81%|████████  | 25/31 [3:25:00<50:17, 502.98s/it]"
     ]
    },
    {
     "name": "stdout",
     "output_type": "stream",
     "text": [
      "Processing model: d:\\PruneLimit\\PruneLimitAnalyzer\\models\\VGG11_CIFAR10_random_PD5_GPR-20_PRUNED_SEED_23.pth\n"
     ]
    },
    {
     "name": "stderr",
     "output_type": "stream",
     "text": [
      "Unsupported operator aten::max_pool2d encountered 5 time(s)\n",
      "Unsupported operator aten::add encountered 7 time(s)\n"
     ]
    },
    {
     "name": "stdout",
     "output_type": "stream",
     "text": [
      "Processing batch size: 1\n"
     ]
    },
    {
     "name": "stderr",
     "output_type": "stream",
     "text": [
      "Trial 1/10: Running 500 iterations: 100%|██████████| 500/500 [00:02<00:00, 237.34it/s]\n",
      "Trial 2/10: Running 500 iterations: 100%|██████████| 500/500 [00:02<00:00, 238.48it/s]\n",
      "Trial 3/10: Running 500 iterations: 100%|██████████| 500/500 [00:02<00:00, 224.01it/s]\n",
      "Trial 4/10: Running 500 iterations: 100%|██████████| 500/500 [00:02<00:00, 215.23it/s]\n",
      "Trial 5/10: Running 500 iterations: 100%|██████████| 500/500 [00:02<00:00, 225.45it/s]\n",
      "Trial 6/10: Running 500 iterations: 100%|██████████| 500/500 [00:02<00:00, 237.63it/s]\n",
      "Trial 7/10: Running 500 iterations: 100%|██████████| 500/500 [00:02<00:00, 233.66it/s]\n",
      "Trial 8/10: Running 500 iterations: 100%|██████████| 500/500 [00:02<00:00, 222.74it/s]\n",
      "Trial 9/10: Running 500 iterations: 100%|██████████| 500/500 [00:02<00:00, 227.17it/s]\n",
      "Trial 10/10: Running 500 iterations: 100%|██████████| 500/500 [00:02<00:00, 243.48it/s]\n",
      "Unsupported operator aten::max_pool2d encountered 5 time(s)\n",
      "Unsupported operator aten::add encountered 7 time(s)\n"
     ]
    },
    {
     "name": "stdout",
     "output_type": "stream",
     "text": [
      "Processing batch size: 8\n"
     ]
    },
    {
     "name": "stderr",
     "output_type": "stream",
     "text": [
      "Trial 1/10: Running 500 iterations: 100%|██████████| 500/500 [00:04<00:00, 100.03it/s]\n",
      "Trial 2/10: Running 500 iterations: 100%|██████████| 500/500 [00:04<00:00, 100.14it/s]\n",
      "Trial 3/10: Running 500 iterations: 100%|██████████| 500/500 [00:04<00:00, 100.12it/s]\n",
      "Trial 4/10: Running 500 iterations: 100%|██████████| 500/500 [00:04<00:00, 100.07it/s]\n",
      "Trial 5/10: Running 500 iterations: 100%|██████████| 500/500 [00:05<00:00, 99.68it/s]\n",
      "Trial 6/10: Running 500 iterations: 100%|██████████| 500/500 [00:04<00:00, 100.12it/s]\n",
      "Trial 7/10: Running 500 iterations: 100%|██████████| 500/500 [00:04<00:00, 100.00it/s]\n",
      "Trial 8/10: Running 500 iterations: 100%|██████████| 500/500 [00:04<00:00, 100.08it/s]\n",
      "Trial 9/10: Running 500 iterations: 100%|██████████| 500/500 [00:04<00:00, 100.06it/s]\n",
      "Trial 10/10: Running 500 iterations: 100%|██████████| 500/500 [00:04<00:00, 100.07it/s]\n",
      "Unsupported operator aten::max_pool2d encountered 5 time(s)\n",
      "Unsupported operator aten::add encountered 7 time(s)\n"
     ]
    },
    {
     "name": "stdout",
     "output_type": "stream",
     "text": [
      "Processing batch size: 16\n"
     ]
    },
    {
     "name": "stderr",
     "output_type": "stream",
     "text": [
      "Trial 1/10: Running 500 iterations: 100%|██████████| 500/500 [00:09<00:00, 52.35it/s]\n",
      "Trial 2/10: Running 500 iterations: 100%|██████████| 500/500 [00:09<00:00, 52.55it/s]\n",
      "Trial 3/10: Running 500 iterations: 100%|██████████| 500/500 [00:09<00:00, 52.14it/s]\n",
      "Trial 4/10: Running 500 iterations: 100%|██████████| 500/500 [00:09<00:00, 52.35it/s]\n",
      "Trial 5/10: Running 500 iterations: 100%|██████████| 500/500 [00:09<00:00, 52.21it/s]\n",
      "Trial 6/10: Running 500 iterations: 100%|██████████| 500/500 [00:09<00:00, 52.43it/s]\n",
      "Trial 7/10: Running 500 iterations: 100%|██████████| 500/500 [00:09<00:00, 52.47it/s]\n",
      "Trial 8/10: Running 500 iterations: 100%|██████████| 500/500 [00:09<00:00, 52.44it/s]\n",
      "Trial 9/10: Running 500 iterations: 100%|██████████| 500/500 [00:09<00:00, 52.21it/s]\n",
      "Trial 10/10: Running 500 iterations: 100%|██████████| 500/500 [00:09<00:00, 52.33it/s]\n",
      "Unsupported operator aten::max_pool2d encountered 5 time(s)\n",
      "Unsupported operator aten::add encountered 7 time(s)\n"
     ]
    },
    {
     "name": "stdout",
     "output_type": "stream",
     "text": [
      "Processing batch size: 32\n"
     ]
    },
    {
     "name": "stderr",
     "output_type": "stream",
     "text": [
      "Trial 1/10: Running 500 iterations: 100%|██████████| 500/500 [00:15<00:00, 33.31it/s]\n",
      "Trial 2/10: Running 500 iterations: 100%|██████████| 500/500 [00:15<00:00, 33.33it/s]\n",
      "Trial 3/10: Running 500 iterations: 100%|██████████| 500/500 [00:14<00:00, 33.35it/s]\n",
      "Trial 4/10: Running 500 iterations: 100%|██████████| 500/500 [00:14<00:00, 33.35it/s]\n",
      "Trial 5/10: Running 500 iterations: 100%|██████████| 500/500 [00:14<00:00, 33.35it/s]\n",
      "Trial 6/10: Running 500 iterations: 100%|██████████| 500/500 [00:14<00:00, 33.35it/s]\n",
      "Trial 7/10: Running 500 iterations: 100%|██████████| 500/500 [00:14<00:00, 33.35it/s]\n",
      "Trial 8/10: Running 500 iterations: 100%|██████████| 500/500 [00:14<00:00, 33.35it/s]\n",
      "Trial 9/10: Running 500 iterations: 100%|██████████| 500/500 [00:14<00:00, 33.35it/s]\n",
      "Trial 10/10: Running 500 iterations: 100%|██████████| 500/500 [00:14<00:00, 33.34it/s]\n",
      "Unsupported operator aten::max_pool2d encountered 5 time(s)\n",
      "Unsupported operator aten::add encountered 7 time(s)\n"
     ]
    },
    {
     "name": "stdout",
     "output_type": "stream",
     "text": [
      "Processing batch size: 64\n"
     ]
    },
    {
     "name": "stderr",
     "output_type": "stream",
     "text": [
      "Trial 1/10: Running 500 iterations: 100%|██████████| 500/500 [00:28<00:00, 17.74it/s]\n",
      "Trial 2/10: Running 500 iterations: 100%|██████████| 500/500 [00:28<00:00, 17.76it/s]\n",
      "Trial 3/10: Running 500 iterations: 100%|██████████| 500/500 [00:28<00:00, 17.79it/s]\n",
      "Trial 4/10: Running 500 iterations: 100%|██████████| 500/500 [00:28<00:00, 17.78it/s]\n",
      "Trial 5/10: Running 500 iterations: 100%|██████████| 500/500 [00:28<00:00, 17.76it/s]\n",
      "Trial 6/10: Running 500 iterations: 100%|██████████| 500/500 [00:28<00:00, 17.79it/s]\n",
      "Trial 7/10: Running 500 iterations: 100%|██████████| 500/500 [00:28<00:00, 17.79it/s]\n",
      "Trial 8/10: Running 500 iterations: 100%|██████████| 500/500 [00:28<00:00, 17.72it/s]\n",
      "Trial 9/10: Running 500 iterations: 100%|██████████| 500/500 [00:28<00:00, 17.74it/s]\n",
      "Trial 10/10: Running 500 iterations: 100%|██████████| 500/500 [00:28<00:00, 17.75it/s]\n",
      "Processing Models:  84%|████████▍ | 26/31 [3:35:00<44:20, 532.04s/it]"
     ]
    },
    {
     "name": "stdout",
     "output_type": "stream",
     "text": [
      "Processing model: d:\\PruneLimit\\PruneLimitAnalyzer\\models\\VGG11_CIFAR10_random_PD5_GPR-30_PRUNED_SEED_23.pth\n"
     ]
    },
    {
     "name": "stderr",
     "output_type": "stream",
     "text": [
      "Unsupported operator aten::max_pool2d encountered 5 time(s)\n",
      "Unsupported operator aten::add encountered 7 time(s)\n"
     ]
    },
    {
     "name": "stdout",
     "output_type": "stream",
     "text": [
      "Processing batch size: 1\n"
     ]
    },
    {
     "name": "stderr",
     "output_type": "stream",
     "text": [
      "Trial 1/10: Running 500 iterations: 100%|██████████| 500/500 [00:02<00:00, 242.79it/s]\n",
      "Trial 2/10: Running 500 iterations: 100%|██████████| 500/500 [00:02<00:00, 236.52it/s]\n",
      "Trial 3/10: Running 500 iterations: 100%|██████████| 500/500 [00:02<00:00, 240.66it/s]\n",
      "Trial 4/10: Running 500 iterations: 100%|██████████| 500/500 [00:02<00:00, 231.32it/s]\n",
      "Trial 5/10: Running 500 iterations: 100%|██████████| 500/500 [00:02<00:00, 239.73it/s]\n",
      "Trial 6/10: Running 500 iterations: 100%|██████████| 500/500 [00:02<00:00, 230.19it/s]\n",
      "Trial 7/10: Running 500 iterations: 100%|██████████| 500/500 [00:02<00:00, 241.27it/s]\n",
      "Trial 8/10: Running 500 iterations: 100%|██████████| 500/500 [00:02<00:00, 242.33it/s]\n",
      "Trial 9/10: Running 500 iterations: 100%|██████████| 500/500 [00:02<00:00, 228.91it/s]\n",
      "Trial 10/10: Running 500 iterations: 100%|██████████| 500/500 [00:02<00:00, 226.97it/s]\n",
      "Unsupported operator aten::max_pool2d encountered 5 time(s)\n",
      "Unsupported operator aten::add encountered 7 time(s)\n"
     ]
    },
    {
     "name": "stdout",
     "output_type": "stream",
     "text": [
      "Processing batch size: 8\n"
     ]
    },
    {
     "name": "stderr",
     "output_type": "stream",
     "text": [
      "Trial 1/10: Running 500 iterations: 100%|██████████| 500/500 [00:04<00:00, 103.27it/s]\n",
      "Trial 2/10: Running 500 iterations: 100%|██████████| 500/500 [00:04<00:00, 105.33it/s]\n",
      "Trial 3/10: Running 500 iterations: 100%|██████████| 500/500 [00:04<00:00, 104.65it/s]\n",
      "Trial 4/10: Running 500 iterations: 100%|██████████| 500/500 [00:04<00:00, 103.59it/s]\n",
      "Trial 5/10: Running 500 iterations: 100%|██████████| 500/500 [00:04<00:00, 102.11it/s]\n",
      "Trial 6/10: Running 500 iterations: 100%|██████████| 500/500 [00:04<00:00, 104.61it/s]\n",
      "Trial 7/10: Running 500 iterations: 100%|██████████| 500/500 [00:04<00:00, 104.51it/s]\n",
      "Trial 8/10: Running 500 iterations: 100%|██████████| 500/500 [00:04<00:00, 102.11it/s]\n",
      "Trial 9/10: Running 500 iterations: 100%|██████████| 500/500 [00:04<00:00, 102.93it/s]\n",
      "Trial 10/10: Running 500 iterations: 100%|██████████| 500/500 [00:04<00:00, 104.23it/s]\n",
      "Unsupported operator aten::max_pool2d encountered 5 time(s)\n",
      "Unsupported operator aten::add encountered 7 time(s)\n"
     ]
    },
    {
     "name": "stdout",
     "output_type": "stream",
     "text": [
      "Processing batch size: 16\n"
     ]
    },
    {
     "name": "stderr",
     "output_type": "stream",
     "text": [
      "Trial 1/10: Running 500 iterations: 100%|██████████| 500/500 [00:07<00:00, 69.39it/s]\n",
      "Trial 2/10: Running 500 iterations: 100%|██████████| 500/500 [00:07<00:00, 70.52it/s]\n",
      "Trial 3/10: Running 500 iterations: 100%|██████████| 500/500 [00:07<00:00, 70.29it/s]\n",
      "Trial 4/10: Running 500 iterations: 100%|██████████| 500/500 [00:07<00:00, 70.11it/s]\n",
      "Trial 5/10: Running 500 iterations: 100%|██████████| 500/500 [00:07<00:00, 70.41it/s]\n",
      "Trial 6/10: Running 500 iterations: 100%|██████████| 500/500 [00:07<00:00, 70.36it/s]\n",
      "Trial 7/10: Running 500 iterations: 100%|██████████| 500/500 [00:07<00:00, 70.04it/s]\n",
      "Trial 8/10: Running 500 iterations: 100%|██████████| 500/500 [00:07<00:00, 70.31it/s]\n",
      "Trial 9/10: Running 500 iterations: 100%|██████████| 500/500 [00:07<00:00, 70.14it/s]\n",
      "Trial 10/10: Running 500 iterations: 100%|██████████| 500/500 [00:07<00:00, 70.40it/s]\n",
      "Unsupported operator aten::max_pool2d encountered 5 time(s)\n",
      "Unsupported operator aten::add encountered 7 time(s)\n"
     ]
    },
    {
     "name": "stdout",
     "output_type": "stream",
     "text": [
      "Processing batch size: 32\n"
     ]
    },
    {
     "name": "stderr",
     "output_type": "stream",
     "text": [
      "Trial 1/10: Running 500 iterations: 100%|██████████| 500/500 [00:12<00:00, 39.98it/s]\n",
      "Trial 2/10: Running 500 iterations: 100%|██████████| 500/500 [00:12<00:00, 39.99it/s]\n",
      "Trial 3/10: Running 500 iterations: 100%|██████████| 500/500 [00:12<00:00, 40.01it/s]\n",
      "Trial 4/10: Running 500 iterations: 100%|██████████| 500/500 [00:12<00:00, 40.00it/s]\n",
      "Trial 5/10: Running 500 iterations: 100%|██████████| 500/500 [00:12<00:00, 40.04it/s]\n",
      "Trial 6/10: Running 500 iterations: 100%|██████████| 500/500 [00:12<00:00, 40.00it/s]\n",
      "Trial 7/10: Running 500 iterations: 100%|██████████| 500/500 [00:12<00:00, 40.04it/s]\n",
      "Trial 8/10: Running 500 iterations: 100%|██████████| 500/500 [00:12<00:00, 40.01it/s]\n",
      "Trial 9/10: Running 500 iterations: 100%|██████████| 500/500 [00:12<00:00, 40.02it/s]\n",
      "Trial 10/10: Running 500 iterations: 100%|██████████| 500/500 [00:12<00:00, 40.01it/s]\n",
      "Unsupported operator aten::max_pool2d encountered 5 time(s)\n",
      "Unsupported operator aten::add encountered 7 time(s)\n"
     ]
    },
    {
     "name": "stdout",
     "output_type": "stream",
     "text": [
      "Processing batch size: 64\n"
     ]
    },
    {
     "name": "stderr",
     "output_type": "stream",
     "text": [
      "Trial 1/10: Running 500 iterations: 100%|██████████| 500/500 [00:23<00:00, 21.42it/s]\n",
      "Trial 2/10: Running 500 iterations: 100%|██████████| 500/500 [00:23<00:00, 21.44it/s]\n",
      "Trial 3/10: Running 500 iterations: 100%|██████████| 500/500 [00:23<00:00, 21.43it/s]\n",
      "Trial 4/10: Running 500 iterations: 100%|██████████| 500/500 [00:23<00:00, 21.44it/s]\n",
      "Trial 5/10: Running 500 iterations: 100%|██████████| 500/500 [00:23<00:00, 21.46it/s]\n",
      "Trial 6/10: Running 500 iterations: 100%|██████████| 500/500 [00:23<00:00, 21.47it/s]\n",
      "Trial 7/10: Running 500 iterations: 100%|██████████| 500/500 [00:23<00:00, 21.44it/s]\n",
      "Trial 8/10: Running 500 iterations: 100%|██████████| 500/500 [00:23<00:00, 21.43it/s]\n",
      "Trial 9/10: Running 500 iterations: 100%|██████████| 500/500 [00:23<00:00, 21.43it/s]\n",
      "Trial 10/10: Running 500 iterations: 100%|██████████| 500/500 [00:23<00:00, 21.43it/s]\n",
      "Processing Models:  87%|████████▋ | 27/31 [3:43:20<34:49, 522.27s/it]Unsupported operator aten::max_pool2d encountered 5 time(s)\n",
      "Unsupported operator aten::add encountered 7 time(s)\n"
     ]
    },
    {
     "name": "stdout",
     "output_type": "stream",
     "text": [
      "Processing model: d:\\PruneLimit\\PruneLimitAnalyzer\\models\\VGG11_CIFAR10_random_PD5_GPR-40_PRUNED_SEED_23.pth\n",
      "Processing batch size: 1\n"
     ]
    },
    {
     "name": "stderr",
     "output_type": "stream",
     "text": [
      "Trial 1/10: Running 500 iterations: 100%|██████████| 500/500 [00:02<00:00, 196.43it/s]\n",
      "Trial 2/10: Running 500 iterations: 100%|██████████| 500/500 [00:02<00:00, 182.07it/s]\n",
      "Trial 3/10: Running 500 iterations: 100%|██████████| 500/500 [00:02<00:00, 206.26it/s]\n",
      "Trial 4/10: Running 500 iterations: 100%|██████████| 500/500 [00:02<00:00, 204.37it/s]\n",
      "Trial 5/10: Running 500 iterations: 100%|██████████| 500/500 [00:02<00:00, 193.39it/s]\n",
      "Trial 6/10: Running 500 iterations: 100%|██████████| 500/500 [00:02<00:00, 204.74it/s]\n",
      "Trial 7/10: Running 500 iterations: 100%|██████████| 500/500 [00:02<00:00, 223.34it/s]\n",
      "Trial 8/10: Running 500 iterations: 100%|██████████| 500/500 [00:02<00:00, 231.74it/s]\n",
      "Trial 9/10: Running 500 iterations: 100%|██████████| 500/500 [00:02<00:00, 188.77it/s]\n",
      "Trial 10/10: Running 500 iterations: 100%|██████████| 500/500 [00:02<00:00, 188.77it/s]\n",
      "Unsupported operator aten::max_pool2d encountered 5 time(s)\n",
      "Unsupported operator aten::add encountered 7 time(s)\n"
     ]
    },
    {
     "name": "stdout",
     "output_type": "stream",
     "text": [
      "Processing batch size: 8\n"
     ]
    },
    {
     "name": "stderr",
     "output_type": "stream",
     "text": [
      "Trial 1/10: Running 500 iterations: 100%|██████████| 500/500 [00:03<00:00, 135.95it/s]\n",
      "Trial 2/10: Running 500 iterations: 100%|██████████| 500/500 [00:03<00:00, 147.67it/s]\n",
      "Trial 3/10: Running 500 iterations: 100%|██████████| 500/500 [00:03<00:00, 148.36it/s]\n",
      "Trial 4/10: Running 500 iterations: 100%|██████████| 500/500 [00:03<00:00, 147.94it/s]\n",
      "Trial 5/10: Running 500 iterations: 100%|██████████| 500/500 [00:03<00:00, 146.80it/s]\n",
      "Trial 6/10: Running 500 iterations: 100%|██████████| 500/500 [00:03<00:00, 148.43it/s]\n",
      "Trial 7/10: Running 500 iterations: 100%|██████████| 500/500 [00:03<00:00, 147.57it/s]\n",
      "Trial 8/10: Running 500 iterations: 100%|██████████| 500/500 [00:03<00:00, 148.97it/s]\n",
      "Trial 9/10: Running 500 iterations: 100%|██████████| 500/500 [00:03<00:00, 148.92it/s]\n",
      "Trial 10/10: Running 500 iterations: 100%|██████████| 500/500 [00:03<00:00, 149.13it/s]\n",
      "Unsupported operator aten::max_pool2d encountered 5 time(s)\n",
      "Unsupported operator aten::add encountered 7 time(s)\n"
     ]
    },
    {
     "name": "stdout",
     "output_type": "stream",
     "text": [
      "Processing batch size: 16\n"
     ]
    },
    {
     "name": "stderr",
     "output_type": "stream",
     "text": [
      "Trial 1/10: Running 500 iterations: 100%|██████████| 500/500 [00:05<00:00, 85.04it/s]\n",
      "Trial 2/10: Running 500 iterations: 100%|██████████| 500/500 [00:05<00:00, 86.31it/s]\n",
      "Trial 3/10: Running 500 iterations: 100%|██████████| 500/500 [00:05<00:00, 85.94it/s]\n",
      "Trial 4/10: Running 500 iterations: 100%|██████████| 500/500 [00:05<00:00, 84.95it/s]\n",
      "Trial 5/10: Running 500 iterations: 100%|██████████| 500/500 [00:05<00:00, 85.81it/s]\n",
      "Trial 6/10: Running 500 iterations: 100%|██████████| 500/500 [00:05<00:00, 85.87it/s]\n",
      "Trial 7/10: Running 500 iterations: 100%|██████████| 500/500 [00:05<00:00, 85.22it/s]\n",
      "Trial 8/10: Running 500 iterations: 100%|██████████| 500/500 [00:05<00:00, 85.57it/s]\n",
      "Trial 9/10: Running 500 iterations: 100%|██████████| 500/500 [00:05<00:00, 85.35it/s]\n",
      "Trial 10/10: Running 500 iterations: 100%|██████████| 500/500 [00:05<00:00, 85.57it/s]\n",
      "Unsupported operator aten::max_pool2d encountered 5 time(s)\n",
      "Unsupported operator aten::add encountered 7 time(s)\n"
     ]
    },
    {
     "name": "stdout",
     "output_type": "stream",
     "text": [
      "Processing batch size: 32\n"
     ]
    },
    {
     "name": "stderr",
     "output_type": "stream",
     "text": [
      "Trial 1/10: Running 500 iterations: 100%|██████████| 500/500 [00:10<00:00, 50.00it/s]\n",
      "Trial 2/10: Running 500 iterations: 100%|██████████| 500/500 [00:09<00:00, 50.02it/s]\n",
      "Trial 3/10: Running 500 iterations: 100%|██████████| 500/500 [00:09<00:00, 50.03it/s]\n",
      "Trial 4/10: Running 500 iterations: 100%|██████████| 500/500 [00:09<00:00, 50.04it/s]\n",
      "Trial 5/10: Running 500 iterations: 100%|██████████| 500/500 [00:09<00:00, 50.02it/s]\n",
      "Trial 6/10: Running 500 iterations: 100%|██████████| 500/500 [00:09<00:00, 50.03it/s]\n",
      "Trial 7/10: Running 500 iterations: 100%|██████████| 500/500 [00:09<00:00, 50.00it/s]\n",
      "Trial 8/10: Running 500 iterations: 100%|██████████| 500/500 [00:09<00:00, 50.02it/s]\n",
      "Trial 9/10: Running 500 iterations: 100%|██████████| 500/500 [00:09<00:00, 50.04it/s]\n",
      "Trial 10/10: Running 500 iterations: 100%|██████████| 500/500 [00:09<00:00, 50.02it/s]\n",
      "Unsupported operator aten::max_pool2d encountered 5 time(s)\n",
      "Unsupported operator aten::add encountered 7 time(s)\n"
     ]
    },
    {
     "name": "stdout",
     "output_type": "stream",
     "text": [
      "Processing batch size: 64\n"
     ]
    },
    {
     "name": "stderr",
     "output_type": "stream",
     "text": [
      "Trial 1/10: Running 500 iterations: 100%|██████████| 500/500 [00:20<00:00, 25.00it/s]\n",
      "Trial 2/10: Running 500 iterations: 100%|██████████| 500/500 [00:19<00:00, 25.01it/s]\n",
      "Trial 3/10: Running 500 iterations: 100%|██████████| 500/500 [00:19<00:00, 25.01it/s]\n",
      "Trial 4/10: Running 500 iterations: 100%|██████████| 500/500 [00:19<00:00, 25.01it/s]\n",
      "Trial 5/10: Running 500 iterations: 100%|██████████| 500/500 [00:19<00:00, 25.01it/s]\n",
      "Trial 6/10: Running 500 iterations: 100%|██████████| 500/500 [00:19<00:00, 25.05it/s]\n",
      "Trial 7/10: Running 500 iterations: 100%|██████████| 500/500 [00:19<00:00, 25.02it/s]\n",
      "Trial 8/10: Running 500 iterations: 100%|██████████| 500/500 [00:19<00:00, 25.01it/s]\n",
      "Trial 9/10: Running 500 iterations: 100%|██████████| 500/500 [00:19<00:00, 25.03it/s]\n",
      "Trial 10/10: Running 500 iterations: 100%|██████████| 500/500 [00:19<00:00, 25.01it/s]\n",
      "Processing Models:  90%|█████████ | 28/31 [3:50:17<24:32, 490.91s/it]Unsupported operator aten::max_pool2d encountered 5 time(s)\n"
     ]
    },
    {
     "name": "stdout",
     "output_type": "stream",
     "text": [
      "Processing model: d:\\PruneLimit\\PruneLimitAnalyzer\\models\\VGG11_CIFAR10_random_PD5_GPR-50_PRUNED_SEED_23.pth\n",
      "Processing batch size: 1\n"
     ]
    },
    {
     "name": "stderr",
     "output_type": "stream",
     "text": [
      "Unsupported operator aten::add encountered 7 time(s)\n",
      "Trial 1/10: Running 500 iterations: 100%|██████████| 500/500 [00:02<00:00, 227.90it/s]\n",
      "Trial 2/10: Running 500 iterations: 100%|██████████| 500/500 [00:02<00:00, 203.23it/s]\n",
      "Trial 3/10: Running 500 iterations: 100%|██████████| 500/500 [00:02<00:00, 208.97it/s]\n",
      "Trial 4/10: Running 500 iterations: 100%|██████████| 500/500 [00:02<00:00, 212.32it/s]\n",
      "Trial 5/10: Running 500 iterations: 100%|██████████| 500/500 [00:02<00:00, 198.34it/s]\n",
      "Trial 6/10: Running 500 iterations: 100%|██████████| 500/500 [00:02<00:00, 190.06it/s]\n",
      "Trial 7/10: Running 500 iterations: 100%|██████████| 500/500 [00:02<00:00, 193.71it/s]\n",
      "Trial 8/10: Running 500 iterations: 100%|██████████| 500/500 [00:02<00:00, 206.19it/s]\n",
      "Trial 9/10: Running 500 iterations: 100%|██████████| 500/500 [00:02<00:00, 210.83it/s]\n",
      "Trial 10/10: Running 500 iterations: 100%|██████████| 500/500 [00:02<00:00, 198.78it/s]\n",
      "Unsupported operator aten::max_pool2d encountered 5 time(s)\n",
      "Unsupported operator aten::add encountered 7 time(s)\n"
     ]
    },
    {
     "name": "stdout",
     "output_type": "stream",
     "text": [
      "Processing batch size: 8\n"
     ]
    },
    {
     "name": "stderr",
     "output_type": "stream",
     "text": [
      "Trial 1/10: Running 500 iterations: 100%|██████████| 500/500 [00:03<00:00, 146.00it/s]\n",
      "Trial 2/10: Running 500 iterations: 100%|██████████| 500/500 [00:03<00:00, 152.04it/s]\n",
      "Trial 3/10: Running 500 iterations: 100%|██████████| 500/500 [00:03<00:00, 153.81it/s]\n",
      "Trial 4/10: Running 500 iterations: 100%|██████████| 500/500 [00:03<00:00, 153.62it/s]\n",
      "Trial 5/10: Running 500 iterations: 100%|██████████| 500/500 [00:03<00:00, 153.70it/s]\n",
      "Trial 6/10: Running 500 iterations: 100%|██████████| 500/500 [00:03<00:00, 154.25it/s]\n",
      "Trial 7/10: Running 500 iterations: 100%|██████████| 500/500 [00:03<00:00, 153.26it/s]\n",
      "Trial 8/10: Running 500 iterations: 100%|██████████| 500/500 [00:03<00:00, 152.82it/s]\n",
      "Trial 9/10: Running 500 iterations: 100%|██████████| 500/500 [00:03<00:00, 153.84it/s]\n",
      "Trial 10/10: Running 500 iterations: 100%|██████████| 500/500 [00:03<00:00, 153.17it/s]\n",
      "Unsupported operator aten::max_pool2d encountered 5 time(s)\n",
      "Unsupported operator aten::add encountered 7 time(s)\n"
     ]
    },
    {
     "name": "stdout",
     "output_type": "stream",
     "text": [
      "Processing batch size: 16\n"
     ]
    },
    {
     "name": "stderr",
     "output_type": "stream",
     "text": [
      "Trial 1/10: Running 500 iterations: 100%|██████████| 500/500 [00:05<00:00, 99.70it/s] \n",
      "Trial 2/10: Running 500 iterations: 100%|██████████| 500/500 [00:04<00:00, 100.07it/s]\n",
      "Trial 3/10: Running 500 iterations: 100%|██████████| 500/500 [00:04<00:00, 100.16it/s]\n",
      "Trial 4/10: Running 500 iterations: 100%|██████████| 500/500 [00:04<00:00, 100.15it/s]\n",
      "Trial 5/10: Running 500 iterations: 100%|██████████| 500/500 [00:04<00:00, 100.08it/s]\n",
      "Trial 6/10: Running 500 iterations: 100%|██████████| 500/500 [00:04<00:00, 100.09it/s]\n",
      "Trial 7/10: Running 500 iterations: 100%|██████████| 500/500 [00:04<00:00, 100.04it/s]\n",
      "Trial 8/10: Running 500 iterations: 100%|██████████| 500/500 [00:04<00:00, 100.13it/s]\n",
      "Trial 9/10: Running 500 iterations: 100%|██████████| 500/500 [00:04<00:00, 100.13it/s]\n",
      "Trial 10/10: Running 500 iterations: 100%|██████████| 500/500 [00:04<00:00, 100.12it/s]\n",
      "Unsupported operator aten::max_pool2d encountered 5 time(s)\n",
      "Unsupported operator aten::add encountered 7 time(s)\n"
     ]
    },
    {
     "name": "stdout",
     "output_type": "stream",
     "text": [
      "Processing batch size: 32\n"
     ]
    },
    {
     "name": "stderr",
     "output_type": "stream",
     "text": [
      "Trial 1/10: Running 500 iterations: 100%|██████████| 500/500 [00:08<00:00, 59.65it/s]\n",
      "Trial 2/10: Running 500 iterations: 100%|██████████| 500/500 [00:08<00:00, 60.81it/s]\n",
      "Trial 3/10: Running 500 iterations: 100%|██████████| 500/500 [00:08<00:00, 59.52it/s]\n",
      "Trial 4/10: Running 500 iterations: 100%|██████████| 500/500 [00:08<00:00, 59.49it/s]\n",
      "Trial 5/10: Running 500 iterations: 100%|██████████| 500/500 [00:08<00:00, 58.88it/s]\n",
      "Trial 6/10: Running 500 iterations: 100%|██████████| 500/500 [00:08<00:00, 60.25it/s]\n",
      "Trial 7/10: Running 500 iterations: 100%|██████████| 500/500 [00:08<00:00, 60.28it/s]\n",
      "Trial 8/10: Running 500 iterations: 100%|██████████| 500/500 [00:08<00:00, 60.15it/s]\n",
      "Trial 9/10: Running 500 iterations: 100%|██████████| 500/500 [00:08<00:00, 60.22it/s]\n",
      "Trial 10/10: Running 500 iterations: 100%|██████████| 500/500 [00:08<00:00, 59.61it/s]\n",
      "Unsupported operator aten::max_pool2d encountered 5 time(s)\n",
      "Unsupported operator aten::add encountered 7 time(s)\n"
     ]
    },
    {
     "name": "stdout",
     "output_type": "stream",
     "text": [
      "Processing batch size: 64\n"
     ]
    },
    {
     "name": "stderr",
     "output_type": "stream",
     "text": [
      "Trial 1/10: Running 500 iterations: 100%|██████████| 500/500 [00:14<00:00, 33.42it/s]\n",
      "Trial 2/10: Running 500 iterations: 100%|██████████| 500/500 [00:14<00:00, 33.34it/s]\n",
      "Trial 3/10: Running 500 iterations: 100%|██████████| 500/500 [00:14<00:00, 33.36it/s]\n",
      "Trial 4/10: Running 500 iterations: 100%|██████████| 500/500 [00:14<00:00, 33.39it/s]\n",
      "Trial 5/10: Running 500 iterations: 100%|██████████| 500/500 [00:14<00:00, 33.49it/s]\n",
      "Trial 6/10: Running 500 iterations: 100%|██████████| 500/500 [00:14<00:00, 33.39it/s]\n",
      "Trial 7/10: Running 500 iterations: 100%|██████████| 500/500 [00:14<00:00, 33.44it/s]\n",
      "Trial 8/10: Running 500 iterations: 100%|██████████| 500/500 [00:14<00:00, 33.36it/s]\n",
      "Trial 9/10: Running 500 iterations: 100%|██████████| 500/500 [00:14<00:00, 33.48it/s]\n",
      "Trial 10/10: Running 500 iterations: 100%|██████████| 500/500 [00:14<00:00, 33.34it/s]\n",
      "Processing Models:  94%|█████████▎| 29/31 [3:55:58<14:51, 445.93s/it]Unsupported operator aten::max_pool2d encountered 5 time(s)\n",
      "Unsupported operator aten::add encountered 7 time(s)\n"
     ]
    },
    {
     "name": "stdout",
     "output_type": "stream",
     "text": [
      "Processing model: d:\\PruneLimit\\PruneLimitAnalyzer\\models\\VGG11_CIFAR10_random_PD5_GPR-60_PRUNED_SEED_23.pth\n",
      "Processing batch size: 1\n"
     ]
    },
    {
     "name": "stderr",
     "output_type": "stream",
     "text": [
      "Trial 1/10: Running 500 iterations: 100%|██████████| 500/500 [00:02<00:00, 232.95it/s]\n",
      "Trial 2/10: Running 500 iterations: 100%|██████████| 500/500 [00:02<00:00, 210.40it/s]\n",
      "Trial 3/10: Running 500 iterations: 100%|██████████| 500/500 [00:02<00:00, 227.08it/s]\n",
      "Trial 4/10: Running 500 iterations: 100%|██████████| 500/500 [00:02<00:00, 224.13it/s]\n",
      "Trial 5/10: Running 500 iterations: 100%|██████████| 500/500 [00:02<00:00, 222.90it/s]\n",
      "Trial 6/10: Running 500 iterations: 100%|██████████| 500/500 [00:02<00:00, 221.07it/s]\n",
      "Trial 7/10: Running 500 iterations: 100%|██████████| 500/500 [00:02<00:00, 221.78it/s]\n",
      "Trial 8/10: Running 500 iterations: 100%|██████████| 500/500 [00:02<00:00, 223.14it/s]\n",
      "Trial 9/10: Running 500 iterations: 100%|██████████| 500/500 [00:02<00:00, 221.12it/s]\n",
      "Trial 10/10: Running 500 iterations: 100%|██████████| 500/500 [00:02<00:00, 223.15it/s]\n",
      "Unsupported operator aten::max_pool2d encountered 5 time(s)\n",
      "Unsupported operator aten::add encountered 7 time(s)\n"
     ]
    },
    {
     "name": "stdout",
     "output_type": "stream",
     "text": [
      "Processing batch size: 8\n"
     ]
    },
    {
     "name": "stderr",
     "output_type": "stream",
     "text": [
      "Trial 1/10: Running 500 iterations: 100%|██████████| 500/500 [00:02<00:00, 178.21it/s]\n",
      "Trial 2/10: Running 500 iterations: 100%|██████████| 500/500 [00:02<00:00, 191.41it/s]\n",
      "Trial 3/10: Running 500 iterations: 100%|██████████| 500/500 [00:02<00:00, 196.46it/s]\n",
      "Trial 4/10: Running 500 iterations: 100%|██████████| 500/500 [00:02<00:00, 194.82it/s]\n",
      "Trial 5/10: Running 500 iterations: 100%|██████████| 500/500 [00:02<00:00, 195.04it/s]\n",
      "Trial 6/10: Running 500 iterations: 100%|██████████| 500/500 [00:02<00:00, 195.17it/s]\n",
      "Trial 7/10: Running 500 iterations: 100%|██████████| 500/500 [00:02<00:00, 196.34it/s]\n",
      "Trial 8/10: Running 500 iterations: 100%|██████████| 500/500 [00:02<00:00, 195.58it/s]\n",
      "Trial 9/10: Running 500 iterations: 100%|██████████| 500/500 [00:02<00:00, 193.39it/s]\n",
      "Trial 10/10: Running 500 iterations: 100%|██████████| 500/500 [00:02<00:00, 195.10it/s]\n",
      "Unsupported operator aten::max_pool2d encountered 5 time(s)\n",
      "Unsupported operator aten::add encountered 7 time(s)\n"
     ]
    },
    {
     "name": "stdout",
     "output_type": "stream",
     "text": [
      "Processing batch size: 16\n"
     ]
    },
    {
     "name": "stderr",
     "output_type": "stream",
     "text": [
      "Trial 1/10: Running 500 iterations: 100%|██████████| 500/500 [00:04<00:00, 122.83it/s]\n",
      "Trial 2/10: Running 500 iterations: 100%|██████████| 500/500 [00:03<00:00, 125.31it/s]\n",
      "Trial 3/10: Running 500 iterations: 100%|██████████| 500/500 [00:03<00:00, 126.15it/s]\n",
      "Trial 4/10: Running 500 iterations: 100%|██████████| 500/500 [00:03<00:00, 125.07it/s]\n",
      "Trial 5/10: Running 500 iterations: 100%|██████████| 500/500 [00:03<00:00, 125.59it/s]\n",
      "Trial 6/10: Running 500 iterations: 100%|██████████| 500/500 [00:03<00:00, 125.73it/s]\n",
      "Trial 7/10: Running 500 iterations: 100%|██████████| 500/500 [00:04<00:00, 124.63it/s]\n",
      "Trial 8/10: Running 500 iterations: 100%|██████████| 500/500 [00:04<00:00, 123.74it/s]\n",
      "Trial 9/10: Running 500 iterations: 100%|██████████| 500/500 [00:04<00:00, 122.66it/s]\n",
      "Trial 10/10: Running 500 iterations: 100%|██████████| 500/500 [00:04<00:00, 123.84it/s]\n",
      "Unsupported operator aten::max_pool2d encountered 5 time(s)\n",
      "Unsupported operator aten::add encountered 7 time(s)\n"
     ]
    },
    {
     "name": "stdout",
     "output_type": "stream",
     "text": [
      "Processing batch size: 32\n"
     ]
    },
    {
     "name": "stderr",
     "output_type": "stream",
     "text": [
      "Trial 1/10: Running 500 iterations: 100%|██████████| 500/500 [00:06<00:00, 74.37it/s]\n",
      "Trial 2/10: Running 500 iterations: 100%|██████████| 500/500 [00:06<00:00, 74.74it/s]\n",
      "Trial 3/10: Running 500 iterations: 100%|██████████| 500/500 [00:06<00:00, 74.31it/s]\n",
      "Trial 4/10: Running 500 iterations: 100%|██████████| 500/500 [00:06<00:00, 74.61it/s]\n",
      "Trial 5/10: Running 500 iterations: 100%|██████████| 500/500 [00:06<00:00, 74.91it/s]\n",
      "Trial 6/10: Running 500 iterations: 100%|██████████| 500/500 [00:06<00:00, 74.86it/s]\n",
      "Trial 7/10: Running 500 iterations: 100%|██████████| 500/500 [00:06<00:00, 74.29it/s]\n",
      "Trial 8/10: Running 500 iterations: 100%|██████████| 500/500 [00:06<00:00, 74.60it/s]\n",
      "Trial 9/10: Running 500 iterations: 100%|██████████| 500/500 [00:06<00:00, 74.63it/s]\n",
      "Trial 10/10: Running 500 iterations: 100%|██████████| 500/500 [00:06<00:00, 74.45it/s]\n",
      "Unsupported operator aten::max_pool2d encountered 5 time(s)\n",
      "Unsupported operator aten::add encountered 7 time(s)\n"
     ]
    },
    {
     "name": "stdout",
     "output_type": "stream",
     "text": [
      "Processing batch size: 64\n"
     ]
    },
    {
     "name": "stderr",
     "output_type": "stream",
     "text": [
      "Trial 1/10: Running 500 iterations: 100%|██████████| 500/500 [00:11<00:00, 42.45it/s]\n",
      "Trial 2/10: Running 500 iterations: 100%|██████████| 500/500 [00:11<00:00, 42.58it/s]\n",
      "Trial 3/10: Running 500 iterations: 100%|██████████| 500/500 [00:11<00:00, 42.67it/s]\n",
      "Trial 4/10: Running 500 iterations: 100%|██████████| 500/500 [00:11<00:00, 42.64it/s]\n",
      "Trial 5/10: Running 500 iterations: 100%|██████████| 500/500 [00:11<00:00, 42.63it/s]\n",
      "Trial 6/10: Running 500 iterations: 100%|██████████| 500/500 [00:11<00:00, 42.52it/s]\n",
      "Trial 7/10: Running 500 iterations: 100%|██████████| 500/500 [00:11<00:00, 42.62it/s]\n",
      "Trial 8/10: Running 500 iterations: 100%|██████████| 500/500 [00:11<00:00, 42.60it/s]\n",
      "Trial 9/10: Running 500 iterations: 100%|██████████| 500/500 [00:11<00:00, 42.62it/s]\n",
      "Trial 10/10: Running 500 iterations: 100%|██████████| 500/500 [00:11<00:00, 42.56it/s]\n",
      "Processing Models:  97%|█████████▋| 30/31 [4:00:32<06:34, 394.19s/it]"
     ]
    },
    {
     "name": "stdout",
     "output_type": "stream",
     "text": [
      "Processing model: d:\\PruneLimit\\PruneLimitAnalyzer\\models\\VGG11_CIFAR10_UNPRUNED.pth\n"
     ]
    },
    {
     "name": "stderr",
     "output_type": "stream",
     "text": [
      "Unsupported operator aten::max_pool2d encountered 5 time(s)\n"
     ]
    },
    {
     "name": "stdout",
     "output_type": "stream",
     "text": [
      "Processing batch size: 1\n"
     ]
    },
    {
     "name": "stderr",
     "output_type": "stream",
     "text": [
      "Trial 1/10: Running 500 iterations: 100%|██████████| 500/500 [00:02<00:00, 230.00it/s]\n",
      "Trial 2/10: Running 500 iterations: 100%|██████████| 500/500 [00:02<00:00, 215.45it/s]\n",
      "Trial 3/10: Running 500 iterations: 100%|██████████| 500/500 [00:02<00:00, 224.17it/s]\n",
      "Trial 4/10: Running 500 iterations: 100%|██████████| 500/500 [00:02<00:00, 235.74it/s]\n",
      "Trial 5/10: Running 500 iterations: 100%|██████████| 500/500 [00:02<00:00, 233.16it/s]\n",
      "Trial 6/10: Running 500 iterations: 100%|██████████| 500/500 [00:02<00:00, 221.78it/s]\n",
      "Trial 7/10: Running 500 iterations: 100%|██████████| 500/500 [00:02<00:00, 221.19it/s]\n",
      "Trial 8/10: Running 500 iterations: 100%|██████████| 500/500 [00:02<00:00, 234.39it/s]\n",
      "Trial 9/10: Running 500 iterations: 100%|██████████| 500/500 [00:02<00:00, 232.60it/s]\n",
      "Trial 10/10: Running 500 iterations: 100%|██████████| 500/500 [00:02<00:00, 229.05it/s]\n",
      "Unsupported operator aten::max_pool2d encountered 5 time(s)\n"
     ]
    },
    {
     "name": "stdout",
     "output_type": "stream",
     "text": [
      "Processing batch size: 8\n"
     ]
    },
    {
     "name": "stderr",
     "output_type": "stream",
     "text": [
      "Trial 1/10: Running 500 iterations: 100%|██████████| 500/500 [00:05<00:00, 93.83it/s]\n",
      "Trial 2/10: Running 500 iterations: 100%|██████████| 500/500 [00:05<00:00, 95.76it/s]\n",
      "Trial 3/10: Running 500 iterations: 100%|██████████| 500/500 [00:05<00:00, 94.89it/s]\n",
      "Trial 4/10: Running 500 iterations: 100%|██████████| 500/500 [00:05<00:00, 94.57it/s]\n",
      "Trial 5/10: Running 500 iterations: 100%|██████████| 500/500 [00:05<00:00, 94.80it/s]\n",
      "Trial 6/10: Running 500 iterations: 100%|██████████| 500/500 [00:05<00:00, 93.33it/s]\n",
      "Trial 7/10: Running 500 iterations: 100%|██████████| 500/500 [00:05<00:00, 93.75it/s]\n",
      "Trial 8/10: Running 500 iterations: 100%|██████████| 500/500 [00:05<00:00, 94.22it/s]\n",
      "Trial 9/10: Running 500 iterations: 100%|██████████| 500/500 [00:05<00:00, 94.50it/s]\n",
      "Trial 10/10: Running 500 iterations: 100%|██████████| 500/500 [00:05<00:00, 94.18it/s]\n",
      "Unsupported operator aten::max_pool2d encountered 5 time(s)\n"
     ]
    },
    {
     "name": "stdout",
     "output_type": "stream",
     "text": [
      "Processing batch size: 16\n"
     ]
    },
    {
     "name": "stderr",
     "output_type": "stream",
     "text": [
      "Trial 1/10: Running 500 iterations: 100%|██████████| 500/500 [00:09<00:00, 50.05it/s]\n",
      "Trial 2/10: Running 500 iterations: 100%|██████████| 500/500 [00:09<00:00, 50.00it/s]\n",
      "Trial 3/10: Running 500 iterations: 100%|██████████| 500/500 [00:09<00:00, 50.02it/s]\n",
      "Trial 4/10: Running 500 iterations: 100%|██████████| 500/500 [00:09<00:00, 50.02it/s]\n",
      "Trial 5/10: Running 500 iterations: 100%|██████████| 500/500 [00:09<00:00, 50.03it/s]\n",
      "Trial 6/10: Running 500 iterations: 100%|██████████| 500/500 [00:09<00:00, 50.02it/s]\n",
      "Trial 7/10: Running 500 iterations: 100%|██████████| 500/500 [00:09<00:00, 50.04it/s]\n",
      "Trial 8/10: Running 500 iterations: 100%|██████████| 500/500 [00:09<00:00, 50.00it/s]\n",
      "Trial 9/10: Running 500 iterations: 100%|██████████| 500/500 [00:09<00:00, 50.04it/s]\n",
      "Trial 10/10: Running 500 iterations: 100%|██████████| 500/500 [00:09<00:00, 50.01it/s]\n",
      "Unsupported operator aten::max_pool2d encountered 5 time(s)\n"
     ]
    },
    {
     "name": "stdout",
     "output_type": "stream",
     "text": [
      "Processing batch size: 32\n"
     ]
    },
    {
     "name": "stderr",
     "output_type": "stream",
     "text": [
      "Trial 1/10: Running 500 iterations: 100%|██████████| 500/500 [00:16<00:00, 29.97it/s]\n",
      "Trial 2/10: Running 500 iterations: 100%|██████████| 500/500 [00:16<00:00, 30.02it/s]\n",
      "Trial 3/10: Running 500 iterations: 100%|██████████| 500/500 [00:16<00:00, 30.05it/s]\n",
      "Trial 4/10: Running 500 iterations: 100%|██████████| 500/500 [00:16<00:00, 30.04it/s]\n",
      "Trial 5/10: Running 500 iterations: 100%|██████████| 500/500 [00:16<00:00, 30.02it/s]\n",
      "Trial 6/10: Running 500 iterations: 100%|██████████| 500/500 [00:16<00:00, 30.00it/s]\n",
      "Trial 7/10: Running 500 iterations: 100%|██████████| 500/500 [00:16<00:00, 30.01it/s]\n",
      "Trial 8/10: Running 500 iterations: 100%|██████████| 500/500 [00:16<00:00, 30.01it/s]\n",
      "Trial 9/10: Running 500 iterations: 100%|██████████| 500/500 [00:16<00:00, 29.98it/s]\n",
      "Trial 10/10: Running 500 iterations: 100%|██████████| 500/500 [00:16<00:00, 29.97it/s]\n",
      "Unsupported operator aten::max_pool2d encountered 5 time(s)\n"
     ]
    },
    {
     "name": "stdout",
     "output_type": "stream",
     "text": [
      "Processing batch size: 64\n"
     ]
    },
    {
     "name": "stderr",
     "output_type": "stream",
     "text": [
      "Trial 1/10: Running 500 iterations: 100%|██████████| 500/500 [00:31<00:00, 15.98it/s]\n",
      "Trial 2/10: Running 500 iterations: 100%|██████████| 500/500 [00:31<00:00, 16.00it/s]\n",
      "Trial 3/10: Running 500 iterations: 100%|██████████| 500/500 [00:31<00:00, 16.00it/s]\n",
      "Trial 4/10: Running 500 iterations: 100%|██████████| 500/500 [00:31<00:00, 16.02it/s]\n",
      "Trial 5/10: Running 500 iterations: 100%|██████████| 500/500 [00:31<00:00, 16.03it/s]\n",
      "Trial 6/10: Running 500 iterations: 100%|██████████| 500/500 [00:31<00:00, 16.02it/s]\n",
      "Trial 7/10: Running 500 iterations: 100%|██████████| 500/500 [00:31<00:00, 16.01it/s]\n",
      "Trial 8/10: Running 500 iterations: 100%|██████████| 500/500 [00:31<00:00, 16.00it/s]\n",
      "Trial 9/10: Running 500 iterations: 100%|██████████| 500/500 [00:31<00:00, 16.00it/s]\n",
      "Trial 10/10: Running 500 iterations: 100%|██████████| 500/500 [00:31<00:00, 16.01it/s]\n",
      "Processing Models: 100%|██████████| 31/31 [4:11:27<00:00, 486.68s/it]\n"
     ]
    },
    {
     "data": {
      "text/html": [
       "<div>\n",
       "<style scoped>\n",
       "    .dataframe tbody tr th:only-of-type {\n",
       "        vertical-align: middle;\n",
       "    }\n",
       "\n",
       "    .dataframe tbody tr th {\n",
       "        vertical-align: top;\n",
       "    }\n",
       "\n",
       "    .dataframe thead th {\n",
       "        text-align: right;\n",
       "    }\n",
       "</style>\n",
       "<table border=\"1\" class=\"dataframe\">\n",
       "  <thead>\n",
       "    <tr style=\"text-align: right;\">\n",
       "      <th></th>\n",
       "      <th>GPR</th>\n",
       "      <th>Architecture</th>\n",
       "      <th>Pruning Distribution</th>\n",
       "      <th>BATCH_SIZE</th>\n",
       "      <th>Mean Time per Sample (s)</th>\n",
       "      <th>FPS</th>\n",
       "      <th>STD Time per Sample (s)</th>\n",
       "      <th>Mean Energy per Sample (J)</th>\n",
       "      <th>STD Energy per Sample (J)</th>\n",
       "      <th>Parameters</th>\n",
       "      <th>FLOPs</th>\n",
       "    </tr>\n",
       "  </thead>\n",
       "  <tbody>\n",
       "    <tr>\n",
       "      <th>0</th>\n",
       "      <td>10</td>\n",
       "      <td>VGG11</td>\n",
       "      <td>PD1</td>\n",
       "      <td>1</td>\n",
       "      <td>0.002503</td>\n",
       "      <td>399.543504</td>\n",
       "      <td>1.113297e-04</td>\n",
       "      <td>0.071121</td>\n",
       "      <td>0.006703</td>\n",
       "      <td>108155667</td>\n",
       "      <td>6178943155</td>\n",
       "    </tr>\n",
       "    <tr>\n",
       "      <th>1</th>\n",
       "      <td>10</td>\n",
       "      <td>VGG11</td>\n",
       "      <td>PD1</td>\n",
       "      <td>8</td>\n",
       "      <td>0.001163</td>\n",
       "      <td>859.803411</td>\n",
       "      <td>8.718639e-06</td>\n",
       "      <td>0.076409</td>\n",
       "      <td>0.005302</td>\n",
       "      <td>108155667</td>\n",
       "      <td>49431545240</td>\n",
       "    </tr>\n",
       "    <tr>\n",
       "      <th>2</th>\n",
       "      <td>10</td>\n",
       "      <td>VGG11</td>\n",
       "      <td>PD1</td>\n",
       "      <td>16</td>\n",
       "      <td>0.001156</td>\n",
       "      <td>864.709277</td>\n",
       "      <td>8.893457e-06</td>\n",
       "      <td>0.134878</td>\n",
       "      <td>0.008358</td>\n",
       "      <td>108155667</td>\n",
       "      <td>98863090480</td>\n",
       "    </tr>\n",
       "    <tr>\n",
       "      <th>3</th>\n",
       "      <td>10</td>\n",
       "      <td>VGG11</td>\n",
       "      <td>PD1</td>\n",
       "      <td>32</td>\n",
       "      <td>0.000973</td>\n",
       "      <td>1027.846804</td>\n",
       "      <td>4.283470e-06</td>\n",
       "      <td>0.194903</td>\n",
       "      <td>0.008446</td>\n",
       "      <td>108155667</td>\n",
       "      <td>197726180960</td>\n",
       "    </tr>\n",
       "    <tr>\n",
       "      <th>4</th>\n",
       "      <td>10</td>\n",
       "      <td>VGG11</td>\n",
       "      <td>PD1</td>\n",
       "      <td>64</td>\n",
       "      <td>0.000952</td>\n",
       "      <td>1050.682864</td>\n",
       "      <td>2.356274e-06</td>\n",
       "      <td>0.236616</td>\n",
       "      <td>0.002880</td>\n",
       "      <td>108155667</td>\n",
       "      <td>395452361920</td>\n",
       "    </tr>\n",
       "    <tr>\n",
       "      <th>...</th>\n",
       "      <td>...</td>\n",
       "      <td>...</td>\n",
       "      <td>...</td>\n",
       "      <td>...</td>\n",
       "      <td>...</td>\n",
       "      <td>...</td>\n",
       "      <td>...</td>\n",
       "      <td>...</td>\n",
       "      <td>...</td>\n",
       "      <td>...</td>\n",
       "      <td>...</td>\n",
       "    </tr>\n",
       "    <tr>\n",
       "      <th>150</th>\n",
       "      <td>0</td>\n",
       "      <td>VGG11</td>\n",
       "      <td>N/A</td>\n",
       "      <td>1</td>\n",
       "      <td>0.002492</td>\n",
       "      <td>401.280420</td>\n",
       "      <td>1.074937e-04</td>\n",
       "      <td>0.082587</td>\n",
       "      <td>0.009021</td>\n",
       "      <td>128812810</td>\n",
       "      <td>7619912192</td>\n",
       "    </tr>\n",
       "    <tr>\n",
       "      <th>151</th>\n",
       "      <td>0</td>\n",
       "      <td>VGG11</td>\n",
       "      <td>N/A</td>\n",
       "      <td>8</td>\n",
       "      <td>0.001074</td>\n",
       "      <td>931.313495</td>\n",
       "      <td>2.773277e-06</td>\n",
       "      <td>0.054121</td>\n",
       "      <td>0.003561</td>\n",
       "      <td>128812810</td>\n",
       "      <td>60959297536</td>\n",
       "    </tr>\n",
       "    <tr>\n",
       "      <th>152</th>\n",
       "      <td>0</td>\n",
       "      <td>VGG11</td>\n",
       "      <td>N/A</td>\n",
       "      <td>16</td>\n",
       "      <td>0.000976</td>\n",
       "      <td>1024.259965</td>\n",
       "      <td>4.571505e-06</td>\n",
       "      <td>0.273088</td>\n",
       "      <td>0.000611</td>\n",
       "      <td>128812810</td>\n",
       "      <td>121918595072</td>\n",
       "    </tr>\n",
       "    <tr>\n",
       "      <th>153</th>\n",
       "      <td>0</td>\n",
       "      <td>VGG11</td>\n",
       "      <td>N/A</td>\n",
       "      <td>32</td>\n",
       "      <td>0.000945</td>\n",
       "      <td>1057.666752</td>\n",
       "      <td>1.023892e-06</td>\n",
       "      <td>0.200412</td>\n",
       "      <td>0.008322</td>\n",
       "      <td>128812810</td>\n",
       "      <td>243837190144</td>\n",
       "    </tr>\n",
       "    <tr>\n",
       "      <th>154</th>\n",
       "      <td>0</td>\n",
       "      <td>VGG11</td>\n",
       "      <td>N/A</td>\n",
       "      <td>64</td>\n",
       "      <td>0.000931</td>\n",
       "      <td>1073.946605</td>\n",
       "      <td>8.585930e-07</td>\n",
       "      <td>0.234016</td>\n",
       "      <td>0.003808</td>\n",
       "      <td>128812810</td>\n",
       "      <td>487674380288</td>\n",
       "    </tr>\n",
       "  </tbody>\n",
       "</table>\n",
       "<p>155 rows × 11 columns</p>\n",
       "</div>"
      ],
      "text/plain": [
       "     GPR Architecture Pruning Distribution  BATCH_SIZE  \\\n",
       "0     10        VGG11                  PD1           1   \n",
       "1     10        VGG11                  PD1           8   \n",
       "2     10        VGG11                  PD1          16   \n",
       "3     10        VGG11                  PD1          32   \n",
       "4     10        VGG11                  PD1          64   \n",
       "..   ...          ...                  ...         ...   \n",
       "150    0        VGG11                  N/A           1   \n",
       "151    0        VGG11                  N/A           8   \n",
       "152    0        VGG11                  N/A          16   \n",
       "153    0        VGG11                  N/A          32   \n",
       "154    0        VGG11                  N/A          64   \n",
       "\n",
       "     Mean Time per Sample (s)          FPS  STD Time per Sample (s)  \\\n",
       "0                    0.002503   399.543504             1.113297e-04   \n",
       "1                    0.001163   859.803411             8.718639e-06   \n",
       "2                    0.001156   864.709277             8.893457e-06   \n",
       "3                    0.000973  1027.846804             4.283470e-06   \n",
       "4                    0.000952  1050.682864             2.356274e-06   \n",
       "..                        ...          ...                      ...   \n",
       "150                  0.002492   401.280420             1.074937e-04   \n",
       "151                  0.001074   931.313495             2.773277e-06   \n",
       "152                  0.000976  1024.259965             4.571505e-06   \n",
       "153                  0.000945  1057.666752             1.023892e-06   \n",
       "154                  0.000931  1073.946605             8.585930e-07   \n",
       "\n",
       "     Mean Energy per Sample (J)  STD Energy per Sample (J)  Parameters  \\\n",
       "0                      0.071121                   0.006703   108155667   \n",
       "1                      0.076409                   0.005302   108155667   \n",
       "2                      0.134878                   0.008358   108155667   \n",
       "3                      0.194903                   0.008446   108155667   \n",
       "4                      0.236616                   0.002880   108155667   \n",
       "..                          ...                        ...         ...   \n",
       "150                    0.082587                   0.009021   128812810   \n",
       "151                    0.054121                   0.003561   128812810   \n",
       "152                    0.273088                   0.000611   128812810   \n",
       "153                    0.200412                   0.008322   128812810   \n",
       "154                    0.234016                   0.003808   128812810   \n",
       "\n",
       "            FLOPs  \n",
       "0      6178943155  \n",
       "1     49431545240  \n",
       "2     98863090480  \n",
       "3    197726180960  \n",
       "4    395452361920  \n",
       "..            ...  \n",
       "150    7619912192  \n",
       "151   60959297536  \n",
       "152  121918595072  \n",
       "153  243837190144  \n",
       "154  487674380288  \n",
       "\n",
       "[155 rows x 11 columns]"
      ]
     },
     "execution_count": 2,
     "metadata": {},
     "output_type": "execute_result"
    }
   ],
   "source": [
    "import os\n",
    "import torch\n",
    "import pandas as pd\n",
    "from prunelimitanalizer import ExperimentRunner\n",
    "\n",
    "# Define the model directory\n",
    "model_dir = os.path.abspath(os.path.join(os.getcwd(), \"..\", \"models\"))\n",
    "\n",
    "# Define batch sizes and number of trials\n",
    "batch_sizes = [1,8,16,32,64]\n",
    "# Note: Adjust the batch sizes according to your GPU memory capacity\n",
    "num_trials = 10\n",
    "num_iters = 500\n",
    "\n",
    "# Define input tensor shape\n",
    "input_channels = 3\n",
    "input_height = 224\n",
    "input_width = 224\n",
    "\n",
    "# Select the device for inference\n",
    "device = torch.device(\"cuda\" if torch.cuda.is_available() else \"cpu\")\n",
    "print(f\"Using device: {device}\")\n",
    "\n",
    "# Initialize and run the experiment\n",
    "experiment = ExperimentRunner(\n",
    "    model_dir, \n",
    "    batch_sizes, \n",
    "    num_trials, \n",
    "    num_iters, \n",
    "    input_channels, \n",
    "    input_height, \n",
    "    input_width,\n",
    "    filename=\"results.csv\",\n",
    ")\n",
    "\n",
    "results_df = experiment.run_experiment()\n",
    "\n",
    "# Display results\n",
    "results_df\n"
   ]
  }
 ],
 "metadata": {
  "kernelspec": {
   "display_name": "pruning_env_v2",
   "language": "python",
   "name": "python3"
  },
  "language_info": {
   "codemirror_mode": {
    "name": "ipython",
    "version": 3
   },
   "file_extension": ".py",
   "mimetype": "text/x-python",
   "name": "python",
   "nbconvert_exporter": "python",
   "pygments_lexer": "ipython3",
   "version": "3.11.7"
  }
 },
 "nbformat": 4,
 "nbformat_minor": 2
}
