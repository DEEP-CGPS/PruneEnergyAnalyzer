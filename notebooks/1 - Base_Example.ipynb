{
 "cells": [
  {
   "cell_type": "markdown",
   "metadata": {},
   "source": [
    "# Experimentation Notebook\n",
    "\n",
    "This notebook demonstrates how to use the `pruning_limit_analysis` library to analyze the energy consumption and inference performance of pruned neural network models.\n",
    "\n",
    "## Structure of Model Filenames\n",
    "\n",
    "The models should be named following this convention:\n",
    "- `{ARCHITECTURE}`: Model architecture (e.g., `AlexNet`, `VGG16`)\n",
    "- `{DATASET}`: Dataset used for training (e.g., `CIFAR10`)\n",
    "- `{PRUNING_DISTRIBUTION}`: Pruning distribution strategy (e.g., `random_PD3`)\n",
    "- `{PRUNING_RATIO}`: Global pruning ratio in percentage (e.g., `20` for 20%)\n",
    "- `{STATE}`: Either `PRUNED` or `UNPRUNED`\n",
    "\n",
    "Example:\n",
    "\n",
    "`{ARCHITECTURE}_{DATASET}_{PRUNING_DISTRIBUTION}_GPR-{PRUNING_RATIO}_{SEED}.pth`\n",
    "\n",
    "### Case of Unpruned Models\n",
    "\n",
    "For unpruned models, the filename should follow a similar convention but with `UNPRUNED` as the state and no pruning ratio:\n",
    "`{ARCHITECTURE}_{DATASET}_UNPRUNED.pth`\n",
    "\n",
    "Since these models are not pruned, their pruning ratio is considered `0%`, and they serve as a baseline for comparison against pruned versions.\n",
    "\n",
    "## Parameters for the Experiment\n",
    "\n",
    "- `model_dir`: Path where models are stored.\n",
    "- `batch_sizes`: List of batch sizes to test.\n",
    "- `num_trials`: Number of trials per experiment.\n",
    "- `device`: GPU or CPU for inference."
   ]
  },
  {
   "cell_type": "code",
   "execution_count": 1,
   "metadata": {},
   "outputs": [],
   "source": [
    "import sys\n",
    "import os\n",
    "\n",
    "lib_path = os.path.abspath(os.path.join(os.getcwd(), \"..\"))\n",
    "if lib_path not in sys.path:\n",
    "    sys.path.append(lib_path)\n",
    "\n"
   ]
  },
  {
   "cell_type": "code",
   "execution_count": null,
   "metadata": {},
   "outputs": [],
   "source": [
    "import os\n",
    "import torch\n",
    "import pandas as pd\n",
    "from PruneEnergyAnalizer import ExperimentRunner\n",
    "\n",
    "# Define the model directory\n",
    "model_dir = os.path.abspath(os.path.join(os.getcwd(), \"..\", \"models\"))\n",
    "\n",
    "# Define batch sizes and number of trials\n",
    "batch_sizes = [1,8,16,32,64]  # Adjusted batch sizes for testing\n",
    "# Note: Adjust the batch sizes according to your GPU memory capacity\n",
    "num_trials = 20\n",
    "num_iters = 500\n",
    "\n",
    "# Define input tensor shape\n",
    "input_channels = 3\n",
    "input_height = 224\n",
    "input_width = 224\n",
    "\n",
    "# Select the device for inference\n",
    "device = torch.device(\"cuda\" if torch.cuda.is_available() else \"cpu\")\n",
    "print(f\"Using device: {device}\")\n",
    "\n",
    "# Initialize and run the experiment\n",
    "experiment = ExperimentRunner(\n",
    "    model_dir, \n",
    "    batch_sizes, \n",
    "    num_trials, \n",
    "    num_iters, \n",
    "    input_channels, \n",
    "    input_height, \n",
    "    input_width,\n",
    "    filename=\"results_v14.csv\",\n",
    ")\n",
    "\n",
    "results_df = experiment.run_experiment()\n",
    "\n",
    "# Display results\n",
    "results_df\n"
   ]
  }
 ],
 "metadata": {
  "kernelspec": {
   "display_name": "pruning_env_v2",
   "language": "python",
   "name": "python3"
  },
  "language_info": {
   "codemirror_mode": {
    "name": "ipython",
    "version": 3
   },
   "file_extension": ".py",
   "mimetype": "text/x-python",
   "name": "python",
   "nbconvert_exporter": "python",
   "pygments_lexer": "ipython3",
   "version": "3.11.7"
  }
 },
 "nbformat": 4,
 "nbformat_minor": 2
}
