{
 "cells": [
  {
   "cell_type": "markdown",
   "metadata": {},
   "source": [
    "# Energy Consumption Analysis with Pruning\n",
    "# \n",
    "This notebook loads a CSV file with experimental results and uses the `AnalysisPlotter` class to visualize the data.\n"
   ]
  },
  {
   "cell_type": "code",
   "execution_count": null,
   "metadata": {},
   "outputs": [],
   "source": [
    "import sys\n",
    "import os\n",
    "\n",
    "lib_path = os.path.abspath(os.path.join(os.getcwd(), \"..\"))\n",
    "if lib_path not in sys.path:\n",
    "    sys.path.append(lib_path)\n",
    "\n",
    "import pandas as pd\n",
    "from PruneEnergyAnalizer import AnalysisPlotter"
   ]
  },
  {
   "cell_type": "code",
   "execution_count": null,
   "metadata": {},
   "outputs": [],
   "source": [
    "# Load the CSV file\n",
    "df = pd.read_csv(\"results_v1.csv\")\n",
    "\n",
    "\n",
    "# Create an instance of AnalysisPlotter\n",
    "plotter = AnalysisPlotter(\n",
    "    dataframe=df, \n",
    "    x_column=\"GPR\", \n",
    "    y_column=\"Mean Energy per Sample (J)\", \n",
    "    title=\"Impact of Pruning on Energy Consumption\"\n",
    ")\n",
    "\n",
    "# Generate the plot for a specific architecture, pruning distributions, and batch size\n",
    "plotter.plot_data(\n",
    "    architectures=[\"VGG11\"],\n",
    "    pruning_distributions=[\"PD1\", \"PD2\", \"PD3\", \"PD4\", \"PD5\"],\n",
    "    batch_sizes=[1],\n",
    "    patience=3,  # Number of iterations without significant improvement\n",
    "    min_delta=0.05  # Minimum variation to consider stabilization\n",
    "    )"
   ]
  }
 ],
 "metadata": {
  "kernelspec": {
   "display_name": "pruning_env_v2",
   "language": "python",
   "name": "python3"
  },
  "language_info": {
   "codemirror_mode": {
    "name": "ipython",
    "version": 3
   },
   "file_extension": ".py",
   "mimetype": "text/x-python",
   "name": "python",
   "nbconvert_exporter": "python",
   "pygments_lexer": "ipython3",
   "version": "3.11.7"
  }
 },
 "nbformat": 4,
 "nbformat_minor": 2
}
