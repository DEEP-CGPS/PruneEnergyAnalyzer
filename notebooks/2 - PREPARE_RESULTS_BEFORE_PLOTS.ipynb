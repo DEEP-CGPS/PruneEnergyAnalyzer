{
 "cells": [
  {
   "cell_type": "markdown",
   "metadata": {},
   "source": [
    "# Preparing Results CSV Files Before Plotting\n",
    "**Table of Contents**\n",
    "- [Preparing Results CSV Files Before Plotting](#preparing-results-csv-files-before-plotting)\n",
    "- [Import Required Libraries](#import-required-libraries)\n",
    "- [Load Results CSV Data](#load-results-csv-data)\n",
    "- [Case 1: Extracting Information from Standard Model Filenames](#case-1-extracting-information-from-standard-model-filenames)\n",
    "- [Case 2: Manual Column Creation (For Custom Filenames)](#case-2-manual-column-creation-for-custom-filenames)\n",
    "- [(Optional) Merging with Model Metrics](#optional-merging-with-model-metrics)\n",
    "\n",
    "Before using `AnalysisPlotter` to generate insightful graphs, it is necessary to ensure that your results file contains all required columns. This notebook helps you prepare those columns.\n",
    "\n",
    "If you want to plot energy consumption **versus model performance metrics** (e.g., accuracy, F1-score), you must add your metric of choice as a column.\n"
   ]
  },
  {
   "cell_type": "markdown",
   "metadata": {},
   "source": [
    "\n",
    "---\n",
    "\n",
    "## Import Required Libraries"
   ]
  },
  {
   "cell_type": "code",
   "execution_count": null,
   "metadata": {},
   "outputs": [],
   "source": [
    "import sys\n",
    "import os\n",
    "\n",
    "lib_path = os.path.abspath(os.path.join(os.getcwd(), \"..\"))\n",
    "if lib_path not in sys.path:\n",
    "    sys.path.append(lib_path)\n",
    "\n",
    "import pandas as pd\n",
    "from PruneEnergyAnalizer import parse_model_name"
   ]
  },
  {
   "cell_type": "markdown",
   "metadata": {},
   "source": [
    "\n",
    "---\n",
    "\n",
    "## Load Results CSV Data"
   ]
  },
  {
   "cell_type": "code",
   "execution_count": null,
   "metadata": {},
   "outputs": [],
   "source": [
    "# Load the CSV file\n",
    "results_df = pd.read_csv(\"results.csv\")\n",
    "results_df"
   ]
  },
  {
   "cell_type": "markdown",
   "metadata": {},
   "source": [
    "\n",
    "---\n",
    "\n",
    "## Case 1: Extracting Information from Standard Model Filenames"
   ]
  },
  {
   "cell_type": "code",
   "execution_count": null,
   "metadata": {},
   "outputs": [],
   "source": [
    "results_df = parse_model_name(results_df)\n",
    "results_df[[\"MODEL_NAME\", \"GPR\", \"Architecture\", \"Pruning Distribution\"]]\n"
   ]
  },
  {
   "cell_type": "markdown",
   "metadata": {},
   "source": [
    "\n",
    "---\n",
    "\n",
    "## Case 2: Manual Column Creation (For Custom Filenames)"
   ]
  },
  {
   "cell_type": "code",
   "execution_count": null,
   "metadata": {},
   "outputs": [],
   "source": [
    "# Read the metadata file\n",
    "metadata_df = pd.read_csv('metadata.csv')  # must contain MODEL_NAME, Architecture, Pruning Distribution\n",
    "\n",
    "# Merge based on MODEL_NAME\n",
    "results_df = pd.merge(results_df, metadata_df, on='MODEL_NAME', how='left')\n",
    "\n",
    "# Uncomment if you want to set a default value for \"Pruning Distribution\" becouse it is not present in the metadata\n",
    "# merged_df[\"Pruning Distribution\"] = 'PD0' \n",
    "\n",
    "# Display the merged DataFrame\n",
    "results_df.head()\n"
   ]
  },
  {
   "cell_type": "markdown",
   "metadata": {},
   "source": [
    "\n",
    "---\n",
    "\n",
    "## (Optional) Merging with Model Metrics"
   ]
  },
  {
   "cell_type": "code",
   "execution_count": null,
   "metadata": {},
   "outputs": [],
   "source": [
    "# Read the metadata file\n",
    "metric_df = pd.read_csv('metadata.csv')  # must contain MODEL_NAME and  YOUR_METRIC\n",
    "\n",
    "# Merge based on MODEL_NAME\n",
    "results_df = pd.merge(results_df, metric_df, on='MODEL_NAME', how='left')\n",
    "\n",
    "# Display the merged DataFrame\n",
    "results_df.head()"
   ]
  },
  {
   "cell_type": "markdown",
   "id": "13cde675",
   "metadata": {},
   "source": [
    "\n",
    "---\n",
    "\n",
    "## Save Prepared Results to CSV\n",
    "\n",
    "After all necessary processing, you can save your prepared DataFrame (e.g., `results_df`) to a new CSV file for later use or for plotting.\n"
   ]
  },
  {
   "cell_type": "code",
   "execution_count": null,
   "id": "a51fe587",
   "metadata": {},
   "outputs": [],
   "source": [
    "# Save the processed results DataFrame to a new CSV file\n",
    "results_df.to_csv(\"prepared_results.csv\", index=False)\n",
    "print(\"Results saved to prepared_results.csv\")\n"
   ]
  }
 ],
 "metadata": {
  "kernelspec": {
   "display_name": "pruning_env_v2",
   "language": "python",
   "name": "python3"
  },
  "language_info": {
   "codemirror_mode": {
    "name": "ipython",
    "version": 3
   },
   "file_extension": ".py",
   "mimetype": "text/x-python",
   "name": "python",
   "nbconvert_exporter": "python",
   "pygments_lexer": "ipython3",
   "version": "3.11.7"
  }
 },
 "nbformat": 4,
 "nbformat_minor": 2
}
